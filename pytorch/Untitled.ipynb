{
 "cells": [
  {
   "cell_type": "code",
   "execution_count": 1,
   "id": "c29640bc-1bce-4e89-badb-4f95a5fa6652",
   "metadata": {},
   "outputs": [],
   "source": [
    "import torch"
   ]
  },
  {
   "cell_type": "code",
   "execution_count": 4,
   "id": "d29bf91d-0903-472c-a7a7-8b560f61c75f",
   "metadata": {},
   "outputs": [
    {
     "ename": "ModuleNotFoundError",
     "evalue": "No module named 'torchvision'",
     "output_type": "error",
     "traceback": [
      "\u001b[1;31m---------------------------------------------------------------------------\u001b[0m",
      "\u001b[1;31mModuleNotFoundError\u001b[0m                       Traceback (most recent call last)",
      "Cell \u001b[1;32mIn[4], line 1\u001b[0m\n\u001b[1;32m----> 1\u001b[0m \u001b[38;5;28;01mimport\u001b[39;00m \u001b[38;5;21;01mtorchvision\u001b[39;00m\n",
      "\u001b[1;31mModuleNotFoundError\u001b[0m: No module named 'torchvision'"
     ]
    }
   ],
   "source": [
    "import torchvision\n"
   ]
  },
  {
   "cell_type": "code",
   "execution_count": 2,
   "id": "2734ec1e-52a4-42d2-b737-b57c143090de",
   "metadata": {},
   "outputs": [],
   "source": [
    "x=torch.Tensor([5,3])\n",
    "y=torch.Tensor([2,1])"
   ]
  },
  {
   "cell_type": "code",
   "execution_count": 3,
   "id": "9e1cb9c7-b450-4fb1-a1b5-402557a03fa7",
   "metadata": {},
   "outputs": [
    {
     "data": {
      "text/plain": [
       "tensor([10.,  3.])"
      ]
     },
     "execution_count": 3,
     "metadata": {},
     "output_type": "execute_result"
    }
   ],
   "source": [
    "x*y"
   ]
  },
  {
   "cell_type": "code",
   "execution_count": 4,
   "id": "fb774672-52b1-4d23-9b81-93b77e1aec45",
   "metadata": {},
   "outputs": [
    {
     "data": {
      "text/plain": [
       "tensor(13.)"
      ]
     },
     "execution_count": 4,
     "metadata": {},
     "output_type": "execute_result"
    }
   ],
   "source": [
    "torch.matmul(x,y)"
   ]
  },
  {
   "cell_type": "code",
   "execution_count": 5,
   "id": "843e7c33-5379-4454-babf-f95fde15aa5a",
   "metadata": {},
   "outputs": [],
   "source": [
    "x= torch.rand([10,3])"
   ]
  },
  {
   "cell_type": "code",
   "execution_count": 10,
   "id": "23eb886f-44cb-42ac-a13a-53a1ebcf07ba",
   "metadata": {},
   "outputs": [
    {
     "data": {
      "text/plain": [
       "tensor([[0.8891, 0.0404, 0.0801, 0.5706, 0.5019, 0.3843],\n",
       "        [0.0882, 0.8138, 0.8608, 0.4496, 0.2119, 0.3423],\n",
       "        [0.3814, 0.8309, 0.9473, 0.5381, 0.9084, 0.0883],\n",
       "        [0.2050, 0.1143, 0.6633, 0.6595, 0.3295, 0.2165],\n",
       "        [0.1433, 0.0696, 0.5725, 0.3633, 0.5841, 0.0264]])"
      ]
     },
     "execution_count": 10,
     "metadata": {},
     "output_type": "execute_result"
    }
   ],
   "source": [
    "x.view(5,6)"
   ]
  },
  {
   "cell_type": "code",
   "execution_count": null,
   "id": "ead32e11-91be-4852-bff3-6eb18c91dcf6",
   "metadata": {},
   "outputs": [],
   "source": []
  }
 ],
 "metadata": {
  "kernelspec": {
   "display_name": "Python 3 (ipykernel)",
   "language": "python",
   "name": "python3"
  },
  "language_info": {
   "codemirror_mode": {
    "name": "ipython",
    "version": 3
   },
   "file_extension": ".py",
   "mimetype": "text/x-python",
   "name": "python",
   "nbconvert_exporter": "python",
   "pygments_lexer": "ipython3",
   "version": "3.8.3"
  }
 },
 "nbformat": 4,
 "nbformat_minor": 5
}
