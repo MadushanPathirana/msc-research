{
 "cells": [
  {
   "cell_type": "code",
   "execution_count": 1,
   "metadata": {},
   "outputs": [
    {
     "name": "stderr",
     "output_type": "stream",
     "text": [
      "c:\\Users\\mpathirana\\Anaconda3\\envs\\gnn\\Lib\\site-packages\\tqdm\\auto.py:21: TqdmWarning: IProgress not found. Please update jupyter and ipywidgets. See https://ipywidgets.readthedocs.io/en/stable/user_install.html\n",
      "  from .autonotebook import tqdm as notebook_tqdm\n"
     ]
    }
   ],
   "source": [
    "import torch_geometric\n",
    "from torch_geometric.datasets import Planetoid"
   ]
  },
  {
   "cell_type": "code",
   "execution_count": 5,
   "metadata": {},
   "outputs": [],
   "source": [
    "dataset =Planetoid(root='tutorial',name='Cora')"
   ]
  },
  {
   "cell_type": "code",
   "execution_count": 4,
   "metadata": {},
   "outputs": [],
   "source": [
    "import os.path as osp\n",
    "import torch\n",
    "import torch.nn.functional as F\n",
    "from torch_geometric.nn import SAGEConv"
   ]
  },
  {
   "cell_type": "code",
   "execution_count": 6,
   "metadata": {},
   "outputs": [],
   "source": [
    "data=dataset[0]"
   ]
  },
  {
   "cell_type": "code",
   "execution_count": 8,
   "metadata": {},
   "outputs": [
    {
     "data": {
      "text/plain": [
       "tensor([0., 0., 0.,  ..., 0., 0., 0.])"
      ]
     },
     "execution_count": 8,
     "metadata": {},
     "output_type": "execute_result"
    }
   ],
   "source": []
  },
  {
   "cell_type": "code",
   "execution_count": 17,
   "metadata": {},
   "outputs": [],
   "source": [
    "class Net(torch.nn.Module):\n",
    "    def __init__(self):\n",
    "        super(Net,self).__init__()\n",
    "        self.conv=SAGEConv(dataset.num_features,\n",
    "                           dataset.num_classes,\n",
    "                           aggr='max')\n",
    "        \n",
    "    def forward(self):\n",
    "            x=self.conv(data.x,data.edge_index)\n",
    "            return F.log_softmax(x,dim=1)"
   ]
  },
  {
   "cell_type": "code",
   "execution_count": 18,
   "metadata": {},
   "outputs": [],
   "source": [
    "device=torch.device('cuda' if torch.cuda.is_available() else 'cpu')\n",
    "\n"
   ]
  },
  {
   "cell_type": "code",
   "execution_count": 19,
   "metadata": {},
   "outputs": [],
   "source": [
    "model,data=Net().to(device),data.to(device)\n",
    "optimizer=torch.optim.Adam(model.parameters(),lr=0.01,weight_decay=5e-4)"
   ]
  },
  {
   "cell_type": "code",
   "execution_count": 20,
   "metadata": {},
   "outputs": [],
   "source": [
    "def train():\n",
    "    model.train()\n",
    "    optimizer.zero_grad()\n",
    "    F.nll_loss(model()[data.train_mask],data.y[data.train_mask]).backward()\n",
    "    optimizer.step()\n",
    "\n",
    "def test():\n",
    "    model.eval()\n",
    "    logits,accs=model(),[]\n",
    "    for _,mask in data('train_mask','val_mask','test_mask'):\n",
    "        pred=logits[mask].max(1)[1]\n",
    "        acc=pred.eq(data.y[mask]).sum().item()/mask.sum().item()\n",
    "        accs.append(acc)\n",
    "    return accs"
   ]
  },
  {
   "cell_type": "code",
   "execution_count": 21,
   "metadata": {},
   "outputs": [
    {
     "name": "stdout",
     "output_type": "stream",
     "text": [
      "Epoch : 010, Val: 0.7260, Test: 0.7340\n",
      "Epoch : 020, Val: 0.7260, Test: 0.7340\n",
      "Epoch : 030, Val: 0.7260, Test: 0.7340\n",
      "Epoch : 040, Val: 0.7260, Test: 0.7340\n",
      "Epoch : 050, Val: 0.7260, Test: 0.7340\n",
      "Epoch : 060, Val: 0.7260, Test: 0.7340\n",
      "Epoch : 070, Val: 0.7260, Test: 0.7340\n",
      "Epoch : 080, Val: 0.7260, Test: 0.7340\n",
      "Epoch : 090, Val: 0.7260, Test: 0.7340\n"
     ]
    }
   ],
   "source": [
    "best_val_acc=test_acc=0\n",
    "for epoch in range(1,100):\n",
    "    train()\n",
    "    _,val_acc,tmp_test_acc=test()\n",
    "\n",
    "    if val_acc> best_val_acc:\n",
    "        best_val_acc=val_acc\n",
    "        test_acc=tmp_test_acc\n",
    "    log = 'Epoch : {:03d}, Val: {:.4f}, Test: {:.4f}'\n",
    "\n",
    "    if epoch%10==0:\n",
    "        print(log.format(epoch,best_val_acc,test_acc))"
   ]
  },
  {
   "cell_type": "code",
   "execution_count": null,
   "metadata": {},
   "outputs": [],
   "source": []
  }
 ],
 "metadata": {
  "kernelspec": {
   "display_name": "gnn",
   "language": "python",
   "name": "python3"
  },
  "language_info": {
   "codemirror_mode": {
    "name": "ipython",
    "version": 3
   },
   "file_extension": ".py",
   "mimetype": "text/x-python",
   "name": "python",
   "nbconvert_exporter": "python",
   "pygments_lexer": "ipython3",
   "version": "3.11.2"
  },
  "orig_nbformat": 4
 },
 "nbformat": 4,
 "nbformat_minor": 2
}
