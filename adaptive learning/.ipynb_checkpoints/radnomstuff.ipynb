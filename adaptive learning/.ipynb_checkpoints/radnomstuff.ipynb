{
 "cells": [
  {
   "cell_type": "code",
   "execution_count": 2,
   "metadata": {},
   "outputs": [],
   "source": [
    "import torch \n",
    "import torch.nn as nn"
   ]
  },
  {
   "cell_type": "code",
   "execution_count": 16,
   "metadata": {},
   "outputs": [],
   "source": [
    "\n",
    "students_answers = {\n",
    "    \"student1\": [(1, True), (2, True), (3, False)],\n",
    "    \"student2\": [(1, False), (2, True), (4, True), (5, False)],\n",
    "    \"student3\": [(1, True), (2, True), (4, True), (6, True), (7, False)],\n",
    "}\n",
    "\n",
    "# Create a list of all the questions.\n",
    "questions = [1, 2, 3, 4, 5, 6, 7]\n",
    "\n",
    "# Create a matrix that represents the dataset.\n",
    "dataset = torch.zeros((len(students_answers), len(questions)))\n",
    "studnet_counter=0\n",
    "for student_name, student_answer in students_answers.items():\n",
    "    \n",
    "    for question_index in range(len(student_answer)):\n",
    "            question_number=student_answer[question_index][0]\n",
    "            dataset[studnet_counter,question_number-1]=student_answer[question_index][1]\n",
    "    studnet_counter +=1       "
   ]
  },
  {
   "cell_type": "code",
   "execution_count": 17,
   "metadata": {},
   "outputs": [
    {
     "data": {
      "text/plain": [
       "tensor([[1., 1., 0., 0., 0., 0., 0.],\n",
       "        [0., 1., 0., 1., 0., 0., 0.],\n",
       "        [1., 1., 0., 1., 0., 1., 0.]])"
      ]
     },
     "execution_count": 17,
     "metadata": {},
     "output_type": "execute_result"
    }
   ],
   "source": [
    "\n",
    "dataset"
   ]
  },
  {
   "cell_type": "code",
   "execution_count": 22,
   "metadata": {},
   "outputs": [],
   "source": [
    "trainData =   {{'questionId' : torch.Tensor([1, 2, 3, 4]), 'correct' : torch.Tensor([1, 0, 1, 1]), 'n_answers' : 4},\n",
    "               {'questionId' : torch.Tensor([1, 2, 4, 5,6]), 'correct' : torch.Tensor([1, 0, 1, 1,0]), 'n_answers' : 4}}\n",
    "\n",
    " \n",
    "\n",
    "\n",
    "testData =   {{'questionId' : torch.Tensor([1, 2, 3, 4, 5]), 'correct' : torch.Tensor([0, 1, 1, 1, 0]), 'n_answers' : 5},\n",
    "              {'questionId' : torch.Tensor([1, 2, 3]), 'correct' : torch.Tensor([0, 1, 1]), 'n_answers' : 5}}\n",
    " \n",
    "\n",
    "\n"
   ]
  },
  {
   "cell_type": "code",
   "execution_count": 25,
   "metadata": {},
   "outputs": [],
   "source": [
    "import torch\n",
    "from torch.utils.data import DataLoader, Dataset\n",
    "\n",
    "class AssistmentDataset(Dataset):\n",
    "    def __init__(self, data):\n",
    "        self.data = data\n",
    "        \n",
    "    def __len__(self):\n",
    "        return len(self.data)\n",
    "    \n",
    "    def __getitem__(self, idx):\n",
    "        answers = self.data[idx]\n",
    "        questionId = answers['questionId']\n",
    "        correct = answers['correct']\n",
    "        \n",
    "        return {'questionId': questionId, 'correct': correct}\n",
    "\n",
    "batch_size = 32\n",
    "\n",
    "train_dataset = AssistmentDataset(trainData)\n",
    "train_loader = DataLoader(train_dataset, batch_size=batch_size, shuffle=True)\n",
    "\n",
    "test_dataset = AssistmentDataset(testData)\n",
    "test_loader = DataLoader(test_dataset, batch_size=batch_size, shuffle=True)\n"
   ]
  },
  {
   "cell_type": "code",
   "execution_count": 26,
   "metadata": {},
   "outputs": [
    {
     "ename": "NameError",
     "evalue": "name 'n_questions' is not defined",
     "output_type": "error",
     "traceback": [
      "\u001b[1;31m---------------------------------------------------------------------------\u001b[0m",
      "\u001b[1;31mNameError\u001b[0m                                 Traceback (most recent call last)",
      "Cell \u001b[1;32mIn[26], line 40\u001b[0m\n\u001b[0;32m     36\u001b[0m         \u001b[39mreturn\u001b[39;00m x\u001b[39m.\u001b[39msqueeze()\n\u001b[0;32m     38\u001b[0m device \u001b[39m=\u001b[39m torch\u001b[39m.\u001b[39mdevice(\u001b[39m\"\u001b[39m\u001b[39mcuda\u001b[39m\u001b[39m\"\u001b[39m \u001b[39mif\u001b[39;00m torch\u001b[39m.\u001b[39mcuda\u001b[39m.\u001b[39mis_available() \u001b[39melse\u001b[39;00m \u001b[39m\"\u001b[39m\u001b[39mcpu\u001b[39m\u001b[39m\"\u001b[39m)\n\u001b[1;32m---> 40\u001b[0m model \u001b[39m=\u001b[39m Net(n_questions)\u001b[39m.\u001b[39mto(device)\n\u001b[0;32m     42\u001b[0m criterion \u001b[39m=\u001b[39m nn\u001b[39m.\u001b[39mBCELoss()\n\u001b[0;32m     43\u001b[0m optimizer \u001b[39m=\u001b[39m optim\u001b[39m.\u001b[39mAdam(model\u001b[39m.\u001b[39mparameters(), lr\u001b[39m=\u001b[39m\u001b[39m0.001\u001b[39m)\n",
      "\u001b[1;31mNameError\u001b[0m: name 'n_questions' is not defined"
     ]
    }
   ],
   "source": [
    "import torch\n",
    "from torch import nn, optim\n",
    "from torch.utils.data import DataLoader, Dataset\n",
    "\n",
    "class AssistmentDataset(Dataset):\n",
    "    def __init__(self, data):\n",
    "        self.data = data\n",
    "        \n",
    "    def __len__(self):\n",
    "        return len(self.data)\n",
    "    \n",
    "    def __getitem__(self, idx):\n",
    "        answers = self.data[idx]\n",
    "        questionId = answers['questionId']\n",
    "        correct = answers['correct']\n",
    "        \n",
    "        return {'questionId': questionId, 'correct': correct}\n",
    "\n",
    "class Net(nn.Module):\n",
    "    def __init__(self, n_questions):\n",
    "        super(Net, self).__init__()\n",
    "        self.n_questions = n_questions\n",
    "        self.embedding = nn.Embedding(self.n_questions+1, 50)\n",
    "        self.lstm = nn.LSTM(50, 100, batch_first=True)\n",
    "        self.fc = nn.Linear(100, 1)\n",
    "        self.sigmoid = nn.Sigmoid()\n",
    "\n",
    "    def forward(self, x):\n",
    "        x = self.embedding(x)\n",
    "        h0 = torch.zeros(1, x.size(0), 100).to(device)\n",
    "        c0 = torch.zeros(1, x.size(0), 100).to(device)\n",
    "        x, _ = self.lstm(x, (h0, c0))\n",
    "        x = x[:, -1, :]\n",
    "        x = self.fc(x)\n",
    "        x = self.sigmoid(x)\n",
    "        return x.squeeze()\n",
    "\n",
    "device = torch.device(\"cuda\" if torch.cuda.is_available() else \"cpu\")\n",
    "\n",
    "model = Net(n_questions).to(device)\n",
    "\n",
    "criterion = nn.BCELoss()\n",
    "optimizer = optim.Adam(model.parameters(), lr=0.001)\n",
    "\n",
    "n_epochs = 10\n",
    "for epoch in range(n_epochs):\n",
    "    train_loss = 0.0\n",
    "    train_accuracy = 0.0\n",
    "    model.train()\n",
    "    for batch in train_loader:\n",
    "        questionId, correct = batch['questionId'].to(device), batch['correct'].to(device)\n",
    "        optimizer.zero_grad()\n",
    "        output = model(questionId)\n",
    "        loss = criterion(output, correct.float())\n",
    "        loss.backward()\n",
    "        optimizer.step()\n",
    "        train_loss += loss.item()\n",
    "        train_accuracy += ((output > 0.5).int() == correct).sum().item() / correct.size(0)\n",
    "    train_loss /= len(train_loader)\n",
    "    train_accuracy /= len(train_loader)\n",
    "\n",
    "    test_loss = 0.0\n",
    "    test_accuracy = 0.0\n",
    "    model.eval()\n",
    "    with torch.no_grad():\n",
    "        for batch in test_loader:\n",
    "            questionId, correct = batch['questionId'].to(device), batch['correct'].to(device)\n",
    "            output = model(questionId)\n",
    "            loss = criterion(output, correct.float())\n",
    "            test_loss += loss.item()\n",
    "            test_accuracy += ((output > 0.5).int() == correct).sum().item() / correct.size(0)\n",
    "    test_loss /= len(test_loader)\n",
    "    test_accuracy /= len(test_loader)\n",
    "\n",
    "    print(f\"Epoch {epoch+1}/{n_epochs}, Train Loss: {train_loss:.4f}, Train Accuracy: {train_accuracy:.4f}, Test Loss: {test_loss:.4f}, Test Accuracy: {test_accuracy:.4f}\")\n"
   ]
  },
  {
   "cell_type": "code",
   "execution_count": null,
   "metadata": {},
   "outputs": [],
   "source": [
    "def read_data_from_csv_file(fileName):\n",
    "    config = HyperParamsConfig()\n",
    "    inputs = []\n",
    "    targets = []\n",
    "    rows = []\n",
    "    max_skill_num = 0\n",
    "    max_num_problems = 0\n",
    "    with open(fileName, \"r\") as csvfile:\n",
    "        reader = csv.reader(csvfile, delimiter=',')\n",
    "        for row in reader:\n",
    "            rows.append(row)\n",
    "    index = 0\n",
    "    i = 0\n",
    "    print \"the number of rows is \" + str(len(rows))\n",
    "    tuple_rows = []\n",
    "    #turn list to tuple\n",
    "    while(index < len(rows)-1):\n",
    "        problems_num = int(rows[index][0])\n",
    "        tmp_max_skill = max(map(int, rows[index+1]))\n",
    "        if(tmp_max_skill > max_skill_num):\n",
    "            max_skill_num = tmp_max_skill\n",
    "        if(problems_num <= 2):\n",
    "            index += 3\n",
    "        else:\n",
    "            if problems_num > max_num_problems:\n",
    "                max_num_problems = problems_num\n",
    "            tup = (rows[index], rows[index+1], rows[index+2])\n",
    "            tuple_rows.append(tup)\n",
    "            index += 3\n",
    "    #shuffle the tuple\n",
    "\n",
    "    random.shuffle(tuple_rows)\n",
    "    print \"The number of students is \", len(tuple_rows)\n",
    "    print \"Finish reading data\"\n",
    "    return tuple_rows, max_num_problems, max_skill_num+1\n"
   ]
  },
  {
   "attachments": {},
   "cell_type": "markdown",
   "metadata": {},
   "source": []
  }
 ],
 "metadata": {
  "kernelspec": {
   "display_name": "base",
   "language": "python",
   "name": "python3"
  },
  "language_info": {
   "codemirror_mode": {
    "name": "ipython",
    "version": 3
   },
   "file_extension": ".py",
   "mimetype": "text/x-python",
   "name": "python",
   "nbconvert_exporter": "python",
   "pygments_lexer": "ipython3",
   "version": "3.11.2"
  },
  "orig_nbformat": 4
 },
 "nbformat": 4,
 "nbformat_minor": 2
}
