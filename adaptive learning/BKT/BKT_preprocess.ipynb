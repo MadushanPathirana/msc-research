{
 "cells": [
  {
   "cell_type": "code",
   "execution_count": 11,
   "id": "914bcfd1-2c84-416b-b9ee-4d107b957a57",
   "metadata": {},
   "outputs": [],
   "source": [
    "import numpy as np\n",
    "import pandas as pd\n",
    "from pyBKT.models import Model\n",
    "import matplotlib.pyplot as plt"
   ]
  },
  {
   "cell_type": "code",
   "execution_count": 5,
   "id": "4c157e27-7930-483f-901f-0d141659ffe2",
   "metadata": {},
   "outputs": [],
   "source": [
    "ct=pd.read_csv('ct.csv').drop('Unnamed: 0',axis=1)"
   ]
  },
  {
   "cell_type": "code",
   "execution_count": 106,
   "id": "c9363caf-505e-44e2-84bf-0027209e44eb",
   "metadata": {},
   "outputs": [],
   "source": [
    "df=pd.read_pickle('appmath.pkl')"
   ]
  },
  {
   "cell_type": "code",
   "execution_count": 107,
   "id": "c34eac11-117a-4fc7-bea0-c1c746ec187b",
   "metadata": {},
   "outputs": [],
   "source": [
    "for col in df.columns:\n",
    "    if df[col].dtype.name=='category':\n",
    "        df[col]=df[col].astype(str)"
   ]
  },
  {
   "cell_type": "code",
   "execution_count": 108,
   "id": "9cd952ea-0cd2-44d3-bb29-72a5f6773763",
   "metadata": {},
   "outputs": [],
   "source": [
    "df2=pd.read_csv('prereq_edges.csv')"
   ]
  },
  {
   "cell_type": "code",
   "execution_count": 129,
   "id": "b79997bf-77e1-4dd5-ad9e-74349b0346dd",
   "metadata": {},
   "outputs": [
    {
     "name": "stdout",
     "output_type": "stream",
     "text": [
      "<class 'pandas.core.frame.DataFrame'>\n",
      "RangeIndex: 16857 entries, 0 to 16856\n",
      "Data columns (total 19 columns):\n",
      " #   Column                       Non-Null Count  Dtype  \n",
      "---  ------                       --------------  -----  \n",
      " 0   Row                          16857 non-null  int64  \n",
      " 1   Anon Student Id              16857 non-null  object \n",
      " 2   Problem Hierarchy            16857 non-null  object \n",
      " 3   Problem Name                 16857 non-null  object \n",
      " 4   Problem View                 16857 non-null  int64  \n",
      " 5   Step Name                    16857 non-null  object \n",
      " 6   Step Start Time              16851 non-null  object \n",
      " 7   First Transaction Time       16857 non-null  object \n",
      " 8   Correct Transaction Time     16711 non-null  object \n",
      " 9   Step End Time                16857 non-null  object \n",
      " 10  Step Duration (sec)          16851 non-null  float64\n",
      " 11  Correct Step Duration (sec)  10437 non-null  float64\n",
      " 12  Error Step Duration (sec)    6414 non-null   float64\n",
      " 13  Correct First Attempt        16857 non-null  int64  \n",
      " 14  Incorrects                   16857 non-null  int64  \n",
      " 15  Hints                        16857 non-null  int64  \n",
      " 16  Corrects                     16857 non-null  int64  \n",
      " 17  KC(Default)                  16857 non-null  object \n",
      " 18  Opportunity(Default)         16857 non-null  int64  \n",
      "dtypes: float64(3), int64(7), object(9)\n",
      "memory usage: 2.4+ MB\n"
     ]
    }
   ],
   "source": [
    "ct.info()"
   ]
  },
  {
   "cell_type": "code",
   "execution_count": null,
   "id": "a9e7b9b2-a675-4dda-9fcf-8eeeaa649c60",
   "metadata": {},
   "outputs": [],
   "source": []
  },
  {
   "cell_type": "code",
   "execution_count": 111,
   "id": "0b44f716-4e8f-4d43-9f33-7c23890b6c0f",
   "metadata": {},
   "outputs": [],
   "source": [
    "df=df[['learning_objective_name','user_id','goal_id','interaction_end_time','atom_id','correct']]"
   ]
  },
  {
   "cell_type": "code",
   "execution_count": 112,
   "id": "5f468c0e-2bc3-4581-99a6-f774b16b4a39",
   "metadata": {},
   "outputs": [],
   "source": [
    "dfr=df.rename(columns={'learning_objective_name':'KC(Default)','atom_id':'Problem Name'})"
   ]
  },
  {
   "cell_type": "code",
   "execution_count": 113,
   "id": "c6f96da8-a6e5-45c9-bb86-c8014ff5ff7c",
   "metadata": {},
   "outputs": [
    {
     "data": {
      "text/html": [
       "<div>\n",
       "<style scoped>\n",
       "    .dataframe tbody tr th:only-of-type {\n",
       "        vertical-align: middle;\n",
       "    }\n",
       "\n",
       "    .dataframe tbody tr th {\n",
       "        vertical-align: top;\n",
       "    }\n",
       "\n",
       "    .dataframe thead th {\n",
       "        text-align: right;\n",
       "    }\n",
       "</style>\n",
       "<table border=\"1\" class=\"dataframe\">\n",
       "  <thead>\n",
       "    <tr style=\"text-align: right;\">\n",
       "      <th></th>\n",
       "      <th>KC(Default)</th>\n",
       "      <th>user_id</th>\n",
       "      <th>goal_id</th>\n",
       "      <th>interaction_end_time</th>\n",
       "      <th>Problem Name</th>\n",
       "      <th>correct</th>\n",
       "    </tr>\n",
       "  </thead>\n",
       "  <tbody>\n",
       "    <tr>\n",
       "      <th>1059733</th>\n",
       "      <td>Solve equations in one variable algebraically,...</td>\n",
       "      <td>00bc4ffd-824f-44be-a2a4-00c226379f1c</td>\n",
       "      <td>ffa158f6-17d6-4919-ae9a-544f7029114d</td>\n",
       "      <td>2022-09-01 19:08:54.766</td>\n",
       "      <td>55b3d430-93d7-4b27-8250-62c3702a616a</td>\n",
       "      <td>True</td>\n",
       "    </tr>\n",
       "    <tr>\n",
       "      <th>2979563</th>\n",
       "      <td>Identify identity, conditional, and inconsiste...</td>\n",
       "      <td>00bc4ffd-824f-44be-a2a4-00c226379f1c</td>\n",
       "      <td>ffa158f6-17d6-4919-ae9a-544f7029114d</td>\n",
       "      <td>2022-09-01 19:18:30.879</td>\n",
       "      <td>e2ff2fa9-3212-4062-9ff9-80a26d59e9b7</td>\n",
       "      <td>True</td>\n",
       "    </tr>\n",
       "    <tr>\n",
       "      <th>1444646</th>\n",
       "      <td>Solve equations in one variable algebraically,...</td>\n",
       "      <td>00bc4ffd-824f-44be-a2a4-00c226379f1c</td>\n",
       "      <td>ffa158f6-17d6-4919-ae9a-544f7029114d</td>\n",
       "      <td>2022-09-01 19:18:31.215</td>\n",
       "      <td>ffe7fcd4-cbdd-406c-8caa-94e687198a98</td>\n",
       "      <td>None</td>\n",
       "    </tr>\n",
       "    <tr>\n",
       "      <th>1883882</th>\n",
       "      <td>Solve equations in one variable algebraically,...</td>\n",
       "      <td>00bc4ffd-824f-44be-a2a4-00c226379f1c</td>\n",
       "      <td>ffa158f6-17d6-4919-ae9a-544f7029114d</td>\n",
       "      <td>2022-09-01 19:25:01.019</td>\n",
       "      <td>46dfc968-d916-466b-a5e2-c8591ecd5cfe</td>\n",
       "      <td>None</td>\n",
       "    </tr>\n",
       "    <tr>\n",
       "      <th>2193650</th>\n",
       "      <td>Solve equations in one variable algebraically,...</td>\n",
       "      <td>00bc4ffd-824f-44be-a2a4-00c226379f1c</td>\n",
       "      <td>ffa158f6-17d6-4919-ae9a-544f7029114d</td>\n",
       "      <td>2022-09-01 19:33:40.660</td>\n",
       "      <td>ab195ddf-18eb-4146-a491-12e1ecc76fc0</td>\n",
       "      <td>True</td>\n",
       "    </tr>\n",
       "    <tr>\n",
       "      <th>...</th>\n",
       "      <td>...</td>\n",
       "      <td>...</td>\n",
       "      <td>...</td>\n",
       "      <td>...</td>\n",
       "      <td>...</td>\n",
       "      <td>...</td>\n",
       "    </tr>\n",
       "    <tr>\n",
       "      <th>1029942</th>\n",
       "      <td>Identify identity, conditional, and inconsiste...</td>\n",
       "      <td>f4a1ad07-b43d-4682-ac9b-b2919c8b145d</td>\n",
       "      <td>ffa158f6-17d6-4919-ae9a-544f7029114d</td>\n",
       "      <td>2022-09-01 17:35:16.162</td>\n",
       "      <td>bd27b05c-b70a-4e9a-8ecc-c00aaa9fe05d</td>\n",
       "      <td>True</td>\n",
       "    </tr>\n",
       "    <tr>\n",
       "      <th>2566490</th>\n",
       "      <td>Identify identity, conditional, and inconsiste...</td>\n",
       "      <td>f4a1ad07-b43d-4682-ac9b-b2919c8b145d</td>\n",
       "      <td>ffa158f6-17d6-4919-ae9a-544f7029114d</td>\n",
       "      <td>2022-09-01 17:36:05.103</td>\n",
       "      <td>c2643fc1-b4d1-40af-acad-70fad831ec0a</td>\n",
       "      <td>True</td>\n",
       "    </tr>\n",
       "    <tr>\n",
       "      <th>2182802</th>\n",
       "      <td>Solve equations in one variable algebraically,...</td>\n",
       "      <td>f4a1ad07-b43d-4682-ac9b-b2919c8b145d</td>\n",
       "      <td>ffa158f6-17d6-4919-ae9a-544f7029114d</td>\n",
       "      <td>2022-09-01 17:39:32.481</td>\n",
       "      <td>9a7e5f13-fc1e-4fe1-9950-4e4a9ef2d700</td>\n",
       "      <td>True</td>\n",
       "    </tr>\n",
       "    <tr>\n",
       "      <th>2950125</th>\n",
       "      <td>Solve equations in one variable algebraically,...</td>\n",
       "      <td>f4a1ad07-b43d-4682-ac9b-b2919c8b145d</td>\n",
       "      <td>ffa158f6-17d6-4919-ae9a-544f7029114d</td>\n",
       "      <td>2022-09-01 17:43:02.496</td>\n",
       "      <td>3d98fa83-6209-401d-9bc6-aa3ca8853253</td>\n",
       "      <td>True</td>\n",
       "    </tr>\n",
       "    <tr>\n",
       "      <th>1518473</th>\n",
       "      <td>Solve equations in one variable algebraically,...</td>\n",
       "      <td>f4a1ad07-b43d-4682-ac9b-b2919c8b145d</td>\n",
       "      <td>ffa158f6-17d6-4919-ae9a-544f7029114d</td>\n",
       "      <td>2022-09-01 17:43:34.787</td>\n",
       "      <td>6df5da50-f8e6-40a9-aa31-c07dd3a97ec1</td>\n",
       "      <td>None</td>\n",
       "    </tr>\n",
       "  </tbody>\n",
       "</table>\n",
       "<p>1216 rows × 6 columns</p>\n",
       "</div>"
      ],
      "text/plain": [
       "                                               KC(Default)  \\\n",
       "1059733  Solve equations in one variable algebraically,...   \n",
       "2979563  Identify identity, conditional, and inconsiste...   \n",
       "1444646  Solve equations in one variable algebraically,...   \n",
       "1883882  Solve equations in one variable algebraically,...   \n",
       "2193650  Solve equations in one variable algebraically,...   \n",
       "...                                                    ...   \n",
       "1029942  Identify identity, conditional, and inconsiste...   \n",
       "2566490  Identify identity, conditional, and inconsiste...   \n",
       "2182802  Solve equations in one variable algebraically,...   \n",
       "2950125  Solve equations in one variable algebraically,...   \n",
       "1518473  Solve equations in one variable algebraically,...   \n",
       "\n",
       "                                      user_id  \\\n",
       "1059733  00bc4ffd-824f-44be-a2a4-00c226379f1c   \n",
       "2979563  00bc4ffd-824f-44be-a2a4-00c226379f1c   \n",
       "1444646  00bc4ffd-824f-44be-a2a4-00c226379f1c   \n",
       "1883882  00bc4ffd-824f-44be-a2a4-00c226379f1c   \n",
       "2193650  00bc4ffd-824f-44be-a2a4-00c226379f1c   \n",
       "...                                       ...   \n",
       "1029942  f4a1ad07-b43d-4682-ac9b-b2919c8b145d   \n",
       "2566490  f4a1ad07-b43d-4682-ac9b-b2919c8b145d   \n",
       "2182802  f4a1ad07-b43d-4682-ac9b-b2919c8b145d   \n",
       "2950125  f4a1ad07-b43d-4682-ac9b-b2919c8b145d   \n",
       "1518473  f4a1ad07-b43d-4682-ac9b-b2919c8b145d   \n",
       "\n",
       "                                      goal_id    interaction_end_time  \\\n",
       "1059733  ffa158f6-17d6-4919-ae9a-544f7029114d 2022-09-01 19:08:54.766   \n",
       "2979563  ffa158f6-17d6-4919-ae9a-544f7029114d 2022-09-01 19:18:30.879   \n",
       "1444646  ffa158f6-17d6-4919-ae9a-544f7029114d 2022-09-01 19:18:31.215   \n",
       "1883882  ffa158f6-17d6-4919-ae9a-544f7029114d 2022-09-01 19:25:01.019   \n",
       "2193650  ffa158f6-17d6-4919-ae9a-544f7029114d 2022-09-01 19:33:40.660   \n",
       "...                                       ...                     ...   \n",
       "1029942  ffa158f6-17d6-4919-ae9a-544f7029114d 2022-09-01 17:35:16.162   \n",
       "2566490  ffa158f6-17d6-4919-ae9a-544f7029114d 2022-09-01 17:36:05.103   \n",
       "2182802  ffa158f6-17d6-4919-ae9a-544f7029114d 2022-09-01 17:39:32.481   \n",
       "2950125  ffa158f6-17d6-4919-ae9a-544f7029114d 2022-09-01 17:43:02.496   \n",
       "1518473  ffa158f6-17d6-4919-ae9a-544f7029114d 2022-09-01 17:43:34.787   \n",
       "\n",
       "                                 Problem Name correct  \n",
       "1059733  55b3d430-93d7-4b27-8250-62c3702a616a    True  \n",
       "2979563  e2ff2fa9-3212-4062-9ff9-80a26d59e9b7    True  \n",
       "1444646  ffe7fcd4-cbdd-406c-8caa-94e687198a98    None  \n",
       "1883882  46dfc968-d916-466b-a5e2-c8591ecd5cfe    None  \n",
       "2193650  ab195ddf-18eb-4146-a491-12e1ecc76fc0    True  \n",
       "...                                       ...     ...  \n",
       "1029942  bd27b05c-b70a-4e9a-8ecc-c00aaa9fe05d    True  \n",
       "2566490  c2643fc1-b4d1-40af-acad-70fad831ec0a    True  \n",
       "2182802  9a7e5f13-fc1e-4fe1-9950-4e4a9ef2d700    True  \n",
       "2950125  3d98fa83-6209-401d-9bc6-aa3ca8853253    True  \n",
       "1518473  6df5da50-f8e6-40a9-aa31-c07dd3a97ec1    None  \n",
       "\n",
       "[1216 rows x 6 columns]"
      ]
     },
     "execution_count": 113,
     "metadata": {},
     "output_type": "execute_result"
    }
   ],
   "source": [
    "dfr[dfr['goal_id']=='ffa158f6-17d6-4919-ae9a-544f7029114d']"
   ]
  },
  {
   "cell_type": "code",
   "execution_count": 114,
   "id": "54c9de76-f756-4a0f-b8c7-4d0f9446a2a6",
   "metadata": {},
   "outputs": [
    {
     "data": {
      "text/plain": [
       "Index(['KC(Default)', 'user_id', 'goal_id', 'interaction_end_time',\n",
       "       'Problem Name', 'correct'],\n",
       "      dtype='object')"
      ]
     },
     "execution_count": 114,
     "metadata": {},
     "output_type": "execute_result"
    }
   ],
   "source": [
    "dfr.columns"
   ]
  },
  {
   "cell_type": "code",
   "execution_count": 115,
   "id": "e7ccedcd-f653-4958-8fa2-60f1a4b840fa",
   "metadata": {},
   "outputs": [
    {
     "data": {
      "text/plain": [
       "goal_id\n",
       "000753a4-6eb5-45cc-9bdc-2aa620a43da0    2\n",
       "00107445-628e-4695-a89f-1484f179ce34    1\n",
       "00188ecf-0f17-4fff-ac07-c62955764226    4\n",
       "0025f079-a09c-4e0f-9d24-1042e1ed29fe    1\n",
       "0027b0eb-2b8e-40c2-ab1e-263f5f520947    5\n",
       "                                       ..\n",
       "ffa158f6-17d6-4919-ae9a-544f7029114d    7\n",
       "ffb3ce9c-b3da-433a-ada9-24f11b6cd0c6    3\n",
       "ffbd8da9-bf61-47d1-b2f6-02f414c93681    1\n",
       "ffdc07b0-60ca-4834-9f64-249d81cde5c2    3\n",
       "fff97c18-ab83-4cea-a7a2-604a3bf0362a    2\n",
       "Name: KC(Default), Length: 5085, dtype: int64"
      ]
     },
     "execution_count": 115,
     "metadata": {},
     "output_type": "execute_result"
    }
   ],
   "source": [
    "dfr.groupby('goal_id')['KC(Default)'].nunique()"
   ]
  },
  {
   "cell_type": "code",
   "execution_count": 116,
   "id": "df3f46ba-0abf-424b-9af3-2a6f6370e7b4",
   "metadata": {},
   "outputs": [],
   "source": [
    "dfr['correct']=dfr['correct']*1\n",
    "dfr=dfr[~dfr.correct.isna()]"
   ]
  },
  {
   "cell_type": "code",
   "execution_count": 117,
   "id": "082e35ea-3dd3-491f-839d-8de9acc93c5d",
   "metadata": {},
   "outputs": [],
   "source": [
    "dfr_=dfr[dfr.goal_id=='ffa158f6-17d6-4919-ae9a-544f7029114d'][['KC(Default)', 'user_id','interaction_end_time', 'Problem Name', 'correct']].reset_index(drop=True)"
   ]
  },
  {
   "cell_type": "code",
   "execution_count": 118,
   "id": "0e4c4b3a-da18-4d00-9b79-b891ab8b9dae",
   "metadata": {},
   "outputs": [],
   "source": [
    "dfr_=dfr_.sort_values(['user_id','KC(Default)','interaction_end_time'])"
   ]
  },
  {
   "cell_type": "code",
   "execution_count": 119,
   "id": "1a54228c-c5c0-4c4d-aef3-fb38d38947ee",
   "metadata": {},
   "outputs": [
    {
     "data": {
      "text/plain": [
       "(1087, 5)"
      ]
     },
     "execution_count": 119,
     "metadata": {},
     "output_type": "execute_result"
    }
   ],
   "source": [
    "dfr_.shape"
   ]
  },
  {
   "cell_type": "code",
   "execution_count": 120,
   "id": "8d3b22c0-b909-4cb7-9e5a-df131692b03b",
   "metadata": {},
   "outputs": [],
   "source": [
    "dfr_2=pd.DataFrame(dfr_.groupby(['KC(Default)','Problem Name','user_id']).apply(lambda x: x['correct'].values.tolist())).reset_index().rename(columns={0:'correct'})\n",
    "\n"
   ]
  },
  {
   "cell_type": "code",
   "execution_count": 121,
   "id": "b2ec9f38-758b-42cb-8769-64cbaa14293c",
   "metadata": {},
   "outputs": [],
   "source": [
    "dfr_2['Corrects']=dfr_2.correct.apply(lambda x: x[1] if len(x)>1 else x[0])"
   ]
  },
  {
   "cell_type": "code",
   "execution_count": 122,
   "id": "9f7befc3-a233-489b-9a28-d29f75ccd456",
   "metadata": {},
   "outputs": [],
   "source": [
    "dfr_2['Correct First Attempt']= dfr_2.correct.apply(lambda x: x[0] )"
   ]
  },
  {
   "cell_type": "code",
   "execution_count": 123,
   "id": "c2c84605-94c7-4354-ae63-f2d22f0b2a24",
   "metadata": {},
   "outputs": [],
   "source": [
    "dfr_3=dfr_2.drop('correct',axis=1)"
   ]
  },
  {
   "cell_type": "code",
   "execution_count": 127,
   "id": "37db0cee-083e-40cd-a95a-74f1d71360ea",
   "metadata": {},
   "outputs": [],
   "source": [
    "dfr_3.to_csv('bkt_data.csv')"
   ]
  },
  {
   "cell_type": "code",
   "execution_count": 128,
   "id": "5851dc0d-fa18-4461-9750-32786c747e7f",
   "metadata": {},
   "outputs": [
    {
     "name": "stdout",
     "output_type": "stream",
     "text": [
      "<class 'pandas.core.frame.DataFrame'>\n",
      "RangeIndex: 1046 entries, 0 to 1045\n",
      "Data columns (total 5 columns):\n",
      " #   Column                 Non-Null Count  Dtype \n",
      "---  ------                 --------------  ----- \n",
      " 0   KC(Default)            1046 non-null   object\n",
      " 1   Problem Name           1046 non-null   object\n",
      " 2   user_id                1046 non-null   object\n",
      " 3   Corrects               1046 non-null   int64 \n",
      " 4   Correct First Attempt  1046 non-null   int64 \n",
      "dtypes: int64(2), object(3)\n",
      "memory usage: 41.0+ KB\n"
     ]
    }
   ],
   "source": [
    "dfr_3.info()"
   ]
  },
  {
   "cell_type": "code",
   "execution_count": 126,
   "id": "1e41fbc1-c4d4-4b7d-8bf2-6ba95b33dcef",
   "metadata": {},
   "outputs": [
    {
     "ename": "AttributeError",
     "evalue": "'DataFrame' object has no attribute 'manual_param_init'",
     "output_type": "error",
     "traceback": [
      "\u001b[1;31m---------------------------------------------------------------------------\u001b[0m",
      "\u001b[1;31mAttributeError\u001b[0m                            Traceback (most recent call last)",
      "Cell \u001b[1;32mIn[126], line 1\u001b[0m\n\u001b[1;32m----> 1\u001b[0m \u001b[43mModel\u001b[49m\u001b[38;5;241;43m.\u001b[39;49m\u001b[43mfit\u001b[49m\u001b[43m(\u001b[49m\u001b[43mdfr_3\u001b[49m\u001b[43m)\u001b[49m\n",
      "File \u001b[1;32m~\\Anaconda3\\lib\\site-packages\\pyBKT\\models\\Model.py:78\u001b[0m, in \u001b[0;36mModel.fit\u001b[1;34m(self, data_path, data, **kwargs)\u001b[0m\n\u001b[0;32m     66\u001b[0m \u001b[38;5;28;01mdef\u001b[39;00m \u001b[38;5;21mfit\u001b[39m(\u001b[38;5;28mself\u001b[39m, data_path \u001b[38;5;241m=\u001b[39m \u001b[38;5;28;01mNone\u001b[39;00m, data \u001b[38;5;241m=\u001b[39m \u001b[38;5;28;01mNone\u001b[39;00m, \u001b[38;5;241m*\u001b[39m\u001b[38;5;241m*\u001b[39mkwargs):\n\u001b[0;32m     67\u001b[0m     \u001b[38;5;124;03m\"\"\"\u001b[39;00m\n\u001b[0;32m     68\u001b[0m \u001b[38;5;124;03m    Fits a BKT model given model and data information. Takes arguments skills,\u001b[39;00m\n\u001b[0;32m     69\u001b[0m \u001b[38;5;124;03m    number of initialization fits, default column names (i.e. correct, skill_name),\u001b[39;00m\n\u001b[1;32m   (...)\u001b[0m\n\u001b[0;32m     76\u001b[0m \n\u001b[0;32m     77\u001b[0m \u001b[38;5;124;03m    \"\"\"\u001b[39;00m\n\u001b[1;32m---> 78\u001b[0m     \u001b[38;5;28;01mif\u001b[39;00m \u001b[38;5;129;01mnot\u001b[39;00m \u001b[38;5;28;43mself\u001b[39;49m\u001b[38;5;241;43m.\u001b[39;49m\u001b[43mmanual_param_init\u001b[49m:\n\u001b[0;32m     79\u001b[0m         \u001b[38;5;28mself\u001b[39m\u001b[38;5;241m.\u001b[39mfit_model \u001b[38;5;241m=\u001b[39m {}\n\u001b[0;32m     80\u001b[0m     \u001b[38;5;28mself\u001b[39m\u001b[38;5;241m.\u001b[39mpartial_fit(data_path \u001b[38;5;241m=\u001b[39m data_path, data \u001b[38;5;241m=\u001b[39m data, \u001b[38;5;241m*\u001b[39m\u001b[38;5;241m*\u001b[39mkwargs)\n",
      "File \u001b[1;32m~\\Anaconda3\\lib\\site-packages\\pandas\\core\\generic.py:5575\u001b[0m, in \u001b[0;36mNDFrame.__getattr__\u001b[1;34m(self, name)\u001b[0m\n\u001b[0;32m   5568\u001b[0m \u001b[38;5;28;01mif\u001b[39;00m (\n\u001b[0;32m   5569\u001b[0m     name \u001b[38;5;129;01mnot\u001b[39;00m \u001b[38;5;129;01min\u001b[39;00m \u001b[38;5;28mself\u001b[39m\u001b[38;5;241m.\u001b[39m_internal_names_set\n\u001b[0;32m   5570\u001b[0m     \u001b[38;5;129;01mand\u001b[39;00m name \u001b[38;5;129;01mnot\u001b[39;00m \u001b[38;5;129;01min\u001b[39;00m \u001b[38;5;28mself\u001b[39m\u001b[38;5;241m.\u001b[39m_metadata\n\u001b[0;32m   5571\u001b[0m     \u001b[38;5;129;01mand\u001b[39;00m name \u001b[38;5;129;01mnot\u001b[39;00m \u001b[38;5;129;01min\u001b[39;00m \u001b[38;5;28mself\u001b[39m\u001b[38;5;241m.\u001b[39m_accessors\n\u001b[0;32m   5572\u001b[0m     \u001b[38;5;129;01mand\u001b[39;00m \u001b[38;5;28mself\u001b[39m\u001b[38;5;241m.\u001b[39m_info_axis\u001b[38;5;241m.\u001b[39m_can_hold_identifiers_and_holds_name(name)\n\u001b[0;32m   5573\u001b[0m ):\n\u001b[0;32m   5574\u001b[0m     \u001b[38;5;28;01mreturn\u001b[39;00m \u001b[38;5;28mself\u001b[39m[name]\n\u001b[1;32m-> 5575\u001b[0m \u001b[38;5;28;01mreturn\u001b[39;00m \u001b[38;5;28;43mobject\u001b[39;49m\u001b[38;5;241;43m.\u001b[39;49m\u001b[38;5;21;43m__getattribute__\u001b[39;49m\u001b[43m(\u001b[49m\u001b[38;5;28;43mself\u001b[39;49m\u001b[43m,\u001b[49m\u001b[43m \u001b[49m\u001b[43mname\u001b[49m\u001b[43m)\u001b[49m\n",
      "\u001b[1;31mAttributeError\u001b[0m: 'DataFrame' object has no attribute 'manual_param_init'"
     ]
    }
   ],
   "source": []
  },
  {
   "cell_type": "code",
   "execution_count": null,
   "id": "9d4824aa-bdf7-4174-8a72-a3f695c73fa0",
   "metadata": {},
   "outputs": [],
   "source": []
  }
 ],
 "metadata": {
  "kernelspec": {
   "display_name": "Python 3 (ipykernel)",
   "language": "python",
   "name": "python3"
  },
  "language_info": {
   "codemirror_mode": {
    "name": "ipython",
    "version": 3
   },
   "file_extension": ".py",
   "mimetype": "text/x-python",
   "name": "python",
   "nbconvert_exporter": "python",
   "pygments_lexer": "ipython3",
   "version": "3.8.3"
  }
 },
 "nbformat": 4,
 "nbformat_minor": 5
}
