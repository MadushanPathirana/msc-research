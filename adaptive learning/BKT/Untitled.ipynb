{
 "cells": [
  {
   "cell_type": "code",
   "execution_count": 4,
   "id": "57fe0ce8-47be-4a1f-9781-6f81886c52d7",
   "metadata": {},
   "outputs": [],
   "source": [
    "import numpy as np\n",
    "import pandas as pd\n",
    "from pyBKT.models import Model\n",
    "import tqdm"
   ]
  },
  {
   "cell_type": "code",
   "execution_count": 5,
   "id": "3fbf7d84-4775-46be-8a0a-df6dc6e81105",
   "metadata": {},
   "outputs": [],
   "source": [
    "df=pd.read_pickle('bkt_df.pickle')"
   ]
  },
  {
   "cell_type": "code",
   "execution_count": 8,
   "id": "909eba73-6c2d-495c-aaf9-6bbf692a2f24",
   "metadata": {},
   "outputs": [
    {
     "name": "stdout",
     "output_type": "stream",
     "text": [
      "Training RMSE: 0.468261\n",
      "Training AUC: 0.690035\n",
      "Training ACCURACY: 0.900000\n"
     ]
    }
   ],
   "source": [
    "model = Model(seed=42, num_fits=1)\n",
    "model.fit(data=df.iloc[:-10,])\n",
    "training_rmse = model.evaluate(data = df)\n",
    "training_auc = model.evaluate(data= df, metric = 'auc')\n",
    "training_accuracy =model.evaluate(data=df.iloc[-10:,], metric='accuracy')\n",
    "print(\"Training RMSE: %f\" % training_rmse)\n",
    "print(\"Training AUC: %f\" % training_auc)\n",
    "print(\"Training ACCURACY: %f\" % training_accuracy)\n",
    "        "
   ]
  },
  {
   "cell_type": "code",
   "execution_count": null,
   "id": "31d8d5a1-5007-4b92-9a42-4edd1cf402b9",
   "metadata": {},
   "outputs": [],
   "source": []
  }
 ],
 "metadata": {
  "kernelspec": {
   "display_name": "Python 3 (ipykernel)",
   "language": "python",
   "name": "python3"
  },
  "language_info": {
   "codemirror_mode": {
    "name": "ipython",
    "version": 3
   },
   "file_extension": ".py",
   "mimetype": "text/x-python",
   "name": "python",
   "nbconvert_exporter": "python",
   "pygments_lexer": "ipython3",
   "version": "3.8.3"
  }
 },
 "nbformat": 4,
 "nbformat_minor": 5
}
