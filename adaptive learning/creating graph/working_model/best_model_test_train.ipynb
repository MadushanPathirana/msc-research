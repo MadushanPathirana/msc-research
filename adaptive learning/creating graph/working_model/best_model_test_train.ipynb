{
 "cells": [
  {
   "cell_type": "code",
   "execution_count": 2,
   "id": "f2c435ef-6fe3-4cdf-9747-908c5c7fc585",
   "metadata": {},
   "outputs": [],
   "source": [
    "import logging\n",
    "import sys\n",
    "import datetime\n",
    "import pickle\n",
    "from tqdm import tqdm\n",
    "from sklearn.decomposition import PCA\n",
    "import seaborn as sns\n",
    "from sklearn.preprocessing import StandardScaler\n",
    "from sklearn.metrics.pairwise import cosine_similarity"
   ]
  },
  {
   "cell_type": "markdown",
   "id": "56c37ce9-bc6f-447d-b3f3-6cb6f006a574",
   "metadata": {},
   "source": [
    "## for correct lstm shape - https://www.kaggle.com/code/imegirin/multivariate-time-series-modeling-with-pytorch\n"
   ]
  },
  {
   "cell_type": "code",
   "execution_count": 3,
   "id": "74020f55-a597-41bb-9594-c49c9407aefb",
   "metadata": {},
   "outputs": [],
   "source": [
    "from torch.utils.data import TensorDataset"
   ]
  },
  {
   "cell_type": "code",
   "execution_count": 4,
   "id": "34545487-c665-4d48-a2ec-edb19312f6b2",
   "metadata": {
    "tags": []
   },
   "outputs": [],
   "source": [
    "import pandas as pd\n",
    "import numpy as np\n",
    "import networkx as nx\n",
    "import matplotlib.pyplot as plt;\n",
    "np.random.seed(42);\n",
    "from sklearn.metrics import roc_auc_score;"
   ]
  },
  {
   "cell_type": "code",
   "execution_count": 5,
   "id": "57d86d38-7714-4d23-ae6f-f2894fe1b24b",
   "metadata": {},
   "outputs": [],
   "source": [
    "from sklearn.metrics import roc_auc_score;\n",
    "from sklearn.metrics import classification_report;"
   ]
  },
  {
   "cell_type": "code",
   "execution_count": 6,
   "id": "26d464ef-3f12-44d3-b76d-673f63b349c9",
   "metadata": {},
   "outputs": [],
   "source": [
    "pd.set_option('display.max_columns', None);"
   ]
  },
  {
   "cell_type": "code",
   "execution_count": 7,
   "id": "c275b42d-bed6-44b3-b25b-8d93ffb670b5",
   "metadata": {},
   "outputs": [],
   "source": [
    "df=pd.read_pickle('appmath.pkl')[['graph_id', 'user_id', \n",
    "       'goal_id',\n",
    "        'interaction_end_time',\n",
    "       'learning_objective_name', 'atom_id', \n",
    "       'correct', 'time_spent_answering_s', 'time_spent_on_instruction_s',\n",
    "       'goal_progress',\n",
    "       'target_status_and_progress', 'prev_concept_narrative',\n",
    "       'duration_s', 'is_target']]  "
   ]
  },
  {
   "cell_type": "code",
   "execution_count": null,
   "id": "2693b672-973d-4160-8b98-685abc4dc88a",
   "metadata": {},
   "outputs": [],
   "source": []
  },
  {
   "cell_type": "code",
   "execution_count": 8,
   "id": "bea12206-dd4d-4a04-8d7e-452847896292",
   "metadata": {},
   "outputs": [],
   "source": [
    "df2=pd.read_csv('prereq_edges.csv')"
   ]
  },
  {
   "cell_type": "code",
   "execution_count": 9,
   "id": "4870c8d9-8275-44b1-b44b-b9963d094211",
   "metadata": {},
   "outputs": [],
   "source": [
    "G=nx.Graph()\n",
    "\n",
    "for _,i in df2.iterrows():    \n",
    "       \n",
    "        G.add_edge(i['source_lo_title'],i['dest_lo_title'])\n",
    "        \n",
    "subgraphs=[G.subgraph(i) for i in nx.connected_components(G)]\n",
    "\n",
    "for num,sub in enumerate(subgraphs):\n",
    "    \n",
    "    nx.set_node_attributes(sub,num,'subGraphId')\n",
    "\n",
    "nodeSubGraphId={}\n",
    "for g in subgraphs:\n",
    "    for node in g.nodes(data=True):\n",
    "         nodeSubGraphId[node[0]]= node[1]['subGraphId']\n",
    "            \n",
    "subgraphsNodeCountDict={ num: g.number_of_nodes() for num,g in  enumerate(subgraphs)}"
   ]
  },
  {
   "cell_type": "code",
   "execution_count": 10,
   "id": "a6c8719a-fab1-4196-acc4-e165af836ce6",
   "metadata": {},
   "outputs": [],
   "source": [
    "for col in df.columns:\n",
    "    if df[col].dtype.name=='category':\n",
    "        df[col]=df[col].astype(str)"
   ]
  },
  {
   "cell_type": "code",
   "execution_count": 11,
   "id": "73f26f0b-9978-4def-8004-595c9f6517b2",
   "metadata": {},
   "outputs": [],
   "source": [
    "df['loGraphID']=df.learning_objective_name.apply(lambda x: nodeSubGraphId.get(x) )"
   ]
  },
  {
   "cell_type": "code",
   "execution_count": 12,
   "id": "4e427aad-3eca-41b8-be76-a7537b060b71",
   "metadata": {},
   "outputs": [],
   "source": [
    "difficulty=df[~df.correct.isna()].groupby('atom_id')['correct'].mean().reset_index().rename(columns={'correct':'difficulty'})\n",
    "df=df.merge(difficulty,how='left',on='atom_id')"
   ]
  },
  {
   "cell_type": "code",
   "execution_count": 13,
   "id": "a1dab688-5428-40ac-8118-311b91cbb109",
   "metadata": {},
   "outputs": [],
   "source": [
    "lo_difficulty=df[~df.correct.isna()].groupby('learning_objective_name')['correct'].mean().reset_index().rename(columns={'correct':'lo_difficulty'})\n",
    "df=df.merge(lo_difficulty,how='left',on='learning_objective_name')\n"
   ]
  },
  {
   "cell_type": "code",
   "execution_count": null,
   "id": "14d483b0-11df-4898-a817-e767b0dc3df5",
   "metadata": {},
   "outputs": [],
   "source": []
  },
  {
   "cell_type": "code",
   "execution_count": 14,
   "id": "7b86048f-578b-4224-9473-3232a5701f11",
   "metadata": {},
   "outputs": [],
   "source": [
    "def atomClassifier(x):\n",
    "    if x==None:\n",
    "        return 'learningMaterial'\n",
    "    else:\n",
    "        return 'question'"
   ]
  },
  {
   "cell_type": "code",
   "execution_count": 15,
   "id": "87610521-7fba-48d6-aeac-1811fb01de86",
   "metadata": {
    "tags": []
   },
   "outputs": [],
   "source": [
    "df['atom_type']=df.correct.apply(lambda x:atomClassifier(x) )"
   ]
  },
  {
   "cell_type": "code",
   "execution_count": 16,
   "id": "500de9a3-0e73-4b0d-8750-daaa37ff3c3f",
   "metadata": {},
   "outputs": [],
   "source": [
    "df['correctBinary']=df.correct*1\n",
    "df.atom_id=df.atom_id.astype(str)\n"
   ]
  },
  {
   "cell_type": "code",
   "execution_count": 17,
   "id": "8bc2a1fc-522b-49ba-8173-b12a4aee0cf8",
   "metadata": {},
   "outputs": [],
   "source": [
    "df=df[~df.correctBinary.isna()]"
   ]
  },
  {
   "cell_type": "code",
   "execution_count": 18,
   "id": "2d4f1011-a714-4da2-86f2-4026ab4d7c34",
   "metadata": {},
   "outputs": [],
   "source": [
    "df2['graph_id']=df2.apply(lambda x: nodeSubGraphId.get(x['source_lo_title']) if nodeSubGraphId.get(x['source_lo_title'])!=None else nodeSubGraphId.get(x['dest_lo_title']),axis=1)"
   ]
  },
  {
   "cell_type": "code",
   "execution_count": null,
   "id": "5dd0e95a-406e-4f2f-b32c-622e322b84bd",
   "metadata": {},
   "outputs": [],
   "source": []
  },
  {
   "cell_type": "code",
   "execution_count": 19,
   "id": "2cc84cba-6974-4446-881a-18260e8f01e7",
   "metadata": {},
   "outputs": [],
   "source": [
    "unique_lo_graph_id_dic={}\n",
    "for i in df2.graph_id.unique():\n",
    "    unique_lo=np.unique(np.concatenate((df2[df2.graph_id==i]['source_lo_title'].unique(),((df2[df2.graph_id==i]['dest_lo_title'].unique())))))\n",
    "    unique_lo_graph_id_dic[i]={ item:int(num)  for  num,item in enumerate(unique_lo)}\n",
    "    df2.loc[df2.graph_id==i,'source_index' ]=df2.apply(lambda x: unique_lo_graph_id_dic.get(i).get(x['source_lo_title']),axis=1)\n",
    "    df2.loc[df2.graph_id==i,'dest_index' ]=df2.apply(lambda x: unique_lo_graph_id_dic.get(i).get(x['dest_lo_title']),axis=1)"
   ]
  },
  {
   "cell_type": "code",
   "execution_count": null,
   "id": "9424aa73-1688-46b2-9248-5ea057e5f32f",
   "metadata": {},
   "outputs": [],
   "source": []
  },
  {
   "cell_type": "code",
   "execution_count": 20,
   "id": "d0847797-9329-4ea9-a075-d6cc665a3d93",
   "metadata": {},
   "outputs": [],
   "source": [
    "df2.source_index=df2.source_index.astype(int)\n",
    "df2.dest_index=df2.dest_index.astype(int)"
   ]
  },
  {
   "cell_type": "code",
   "execution_count": null,
   "id": "279436e4-32ca-4a25-b131-1694a59e9138",
   "metadata": {},
   "outputs": [],
   "source": []
  },
  {
   "cell_type": "code",
   "execution_count": 21,
   "id": "286e06b8-4f74-4dca-8376-a98d1b84a5f9",
   "metadata": {},
   "outputs": [],
   "source": [
    "df=df[~df.loGraphID.isna()]"
   ]
  },
  {
   "cell_type": "code",
   "execution_count": 22,
   "id": "9e648a90-3003-4fb4-a828-ff6909f48abe",
   "metadata": {},
   "outputs": [],
   "source": [
    "#df['loIndex']=df.apply(lambda x: unique_lo_graph_id_dic[x['loGraphID']].get(x['learning_objective_name'] ),axis=1)"
   ]
  },
  {
   "cell_type": "code",
   "execution_count": 23,
   "id": "1f9ac69a-8012-442d-ac48-c39e4230752a",
   "metadata": {},
   "outputs": [
    {
     "data": {
      "text/plain": [
       "source_lo_id                    eda7ab6a-8070-4fd8-8387-da17a40fd99e\n",
       "dest_lo_id                      eda7ab6a-8070-4fd8-8387-da17a40fd99e\n",
       "source_lo_title    Write biconditional statements in symbolic for...\n",
       "dest_lo_title      Write biconditional statements in symbolic for...\n",
       "graph_id                                                           3\n",
       "source_index                                                      30\n",
       "dest_index                                                        30\n",
       "dtype: object"
      ]
     },
     "execution_count": 23,
     "metadata": {},
     "output_type": "execute_result"
    }
   ],
   "source": [
    "df2[df2.graph_id==3].max()"
   ]
  },
  {
   "cell_type": "code",
   "execution_count": 24,
   "id": "93033318-79e7-4569-8e9b-764e2a855046",
   "metadata": {},
   "outputs": [],
   "source": [
    "summary=df.pivot_table(index='goal_id',aggfunc={'learning_objective_name':pd.Series.nunique,'atom_id':pd.Series.nunique,'user_id':pd.Series.nunique,'interaction_end_time':np.count_nonzero})"
   ]
  },
  {
   "cell_type": "code",
   "execution_count": 25,
   "id": "3fb473fd-c5c8-47d7-aa25-0ce3c7bfa0bd",
   "metadata": {},
   "outputs": [],
   "source": [
    "summary['atom_usage']=summary.interaction_end_time/summary.atom_id"
   ]
  },
  {
   "cell_type": "code",
   "execution_count": 26,
   "id": "181cd1f5-008f-4c74-ba24-5db54a124fc1",
   "metadata": {},
   "outputs": [
    {
     "data": {
      "text/html": [
       "<div>\n",
       "<style scoped>\n",
       "    .dataframe tbody tr th:only-of-type {\n",
       "        vertical-align: middle;\n",
       "    }\n",
       "\n",
       "    .dataframe tbody tr th {\n",
       "        vertical-align: top;\n",
       "    }\n",
       "\n",
       "    .dataframe thead th {\n",
       "        text-align: right;\n",
       "    }\n",
       "</style>\n",
       "<table border=\"1\" class=\"dataframe\">\n",
       "  <thead>\n",
       "    <tr style=\"text-align: right;\">\n",
       "      <th></th>\n",
       "      <th>atom_id</th>\n",
       "      <th>interaction_end_time</th>\n",
       "      <th>learning_objective_name</th>\n",
       "      <th>user_id</th>\n",
       "      <th>atom_usage</th>\n",
       "    </tr>\n",
       "    <tr>\n",
       "      <th>goal_id</th>\n",
       "      <th></th>\n",
       "      <th></th>\n",
       "      <th></th>\n",
       "      <th></th>\n",
       "      <th></th>\n",
       "    </tr>\n",
       "  </thead>\n",
       "  <tbody>\n",
       "    <tr>\n",
       "      <th>39f38cfd-d153-4fcf-950e-5c1b2bfbeaaa</th>\n",
       "      <td>72</td>\n",
       "      <td>8793</td>\n",
       "      <td>3</td>\n",
       "      <td>289</td>\n",
       "      <td>122.125000</td>\n",
       "    </tr>\n",
       "    <tr>\n",
       "      <th>d252b7df-6a57-46ff-b4c3-e21d26d80b6a</th>\n",
       "      <td>82</td>\n",
       "      <td>9887</td>\n",
       "      <td>5</td>\n",
       "      <td>253</td>\n",
       "      <td>120.573171</td>\n",
       "    </tr>\n",
       "    <tr>\n",
       "      <th>cd26c1cb-87ad-4b57-bdeb-7e8811827e39</th>\n",
       "      <td>59</td>\n",
       "      <td>5764</td>\n",
       "      <td>3</td>\n",
       "      <td>194</td>\n",
       "      <td>97.694915</td>\n",
       "    </tr>\n",
       "    <tr>\n",
       "      <th>86940cba-2a55-43a6-8f51-248afca9952d</th>\n",
       "      <td>26</td>\n",
       "      <td>1974</td>\n",
       "      <td>1</td>\n",
       "      <td>291</td>\n",
       "      <td>75.923077</td>\n",
       "    </tr>\n",
       "    <tr>\n",
       "      <th>caacf0e3-8698-4806-8ce8-a45d8f75b587</th>\n",
       "      <td>59</td>\n",
       "      <td>4396</td>\n",
       "      <td>3</td>\n",
       "      <td>240</td>\n",
       "      <td>74.508475</td>\n",
       "    </tr>\n",
       "    <tr>\n",
       "      <th>12b7f97f-18be-4a9e-9384-866a036631d4</th>\n",
       "      <td>103</td>\n",
       "      <td>7107</td>\n",
       "      <td>5</td>\n",
       "      <td>260</td>\n",
       "      <td>69.000000</td>\n",
       "    </tr>\n",
       "    <tr>\n",
       "      <th>9059c88d-ccdd-42dd-a19f-fe7c9bafd6aa</th>\n",
       "      <td>47</td>\n",
       "      <td>3236</td>\n",
       "      <td>2</td>\n",
       "      <td>255</td>\n",
       "      <td>68.851064</td>\n",
       "    </tr>\n",
       "    <tr>\n",
       "      <th>46e93a47-9de8-4982-82ec-6e3acb911c54</th>\n",
       "      <td>116</td>\n",
       "      <td>7116</td>\n",
       "      <td>6</td>\n",
       "      <td>240</td>\n",
       "      <td>61.344828</td>\n",
       "    </tr>\n",
       "    <tr>\n",
       "      <th>917d2bb2-451f-4f65-8eec-7a8125c9a596</th>\n",
       "      <td>39</td>\n",
       "      <td>2220</td>\n",
       "      <td>2</td>\n",
       "      <td>140</td>\n",
       "      <td>56.923077</td>\n",
       "    </tr>\n",
       "    <tr>\n",
       "      <th>ebb614bf-c45c-4b77-a5f7-168e4569b280</th>\n",
       "      <td>32</td>\n",
       "      <td>1782</td>\n",
       "      <td>2</td>\n",
       "      <td>119</td>\n",
       "      <td>55.687500</td>\n",
       "    </tr>\n",
       "  </tbody>\n",
       "</table>\n",
       "</div>"
      ],
      "text/plain": [
       "                                      atom_id  interaction_end_time  \\\n",
       "goal_id                                                               \n",
       "39f38cfd-d153-4fcf-950e-5c1b2bfbeaaa       72                  8793   \n",
       "d252b7df-6a57-46ff-b4c3-e21d26d80b6a       82                  9887   \n",
       "cd26c1cb-87ad-4b57-bdeb-7e8811827e39       59                  5764   \n",
       "86940cba-2a55-43a6-8f51-248afca9952d       26                  1974   \n",
       "caacf0e3-8698-4806-8ce8-a45d8f75b587       59                  4396   \n",
       "12b7f97f-18be-4a9e-9384-866a036631d4      103                  7107   \n",
       "9059c88d-ccdd-42dd-a19f-fe7c9bafd6aa       47                  3236   \n",
       "46e93a47-9de8-4982-82ec-6e3acb911c54      116                  7116   \n",
       "917d2bb2-451f-4f65-8eec-7a8125c9a596       39                  2220   \n",
       "ebb614bf-c45c-4b77-a5f7-168e4569b280       32                  1782   \n",
       "\n",
       "                                      learning_objective_name  user_id  \\\n",
       "goal_id                                                                  \n",
       "39f38cfd-d153-4fcf-950e-5c1b2bfbeaaa                        3      289   \n",
       "d252b7df-6a57-46ff-b4c3-e21d26d80b6a                        5      253   \n",
       "cd26c1cb-87ad-4b57-bdeb-7e8811827e39                        3      194   \n",
       "86940cba-2a55-43a6-8f51-248afca9952d                        1      291   \n",
       "caacf0e3-8698-4806-8ce8-a45d8f75b587                        3      240   \n",
       "12b7f97f-18be-4a9e-9384-866a036631d4                        5      260   \n",
       "9059c88d-ccdd-42dd-a19f-fe7c9bafd6aa                        2      255   \n",
       "46e93a47-9de8-4982-82ec-6e3acb911c54                        6      240   \n",
       "917d2bb2-451f-4f65-8eec-7a8125c9a596                        2      140   \n",
       "ebb614bf-c45c-4b77-a5f7-168e4569b280                        2      119   \n",
       "\n",
       "                                      atom_usage  \n",
       "goal_id                                           \n",
       "39f38cfd-d153-4fcf-950e-5c1b2bfbeaaa  122.125000  \n",
       "d252b7df-6a57-46ff-b4c3-e21d26d80b6a  120.573171  \n",
       "cd26c1cb-87ad-4b57-bdeb-7e8811827e39   97.694915  \n",
       "86940cba-2a55-43a6-8f51-248afca9952d   75.923077  \n",
       "caacf0e3-8698-4806-8ce8-a45d8f75b587   74.508475  \n",
       "12b7f97f-18be-4a9e-9384-866a036631d4   69.000000  \n",
       "9059c88d-ccdd-42dd-a19f-fe7c9bafd6aa   68.851064  \n",
       "46e93a47-9de8-4982-82ec-6e3acb911c54   61.344828  \n",
       "917d2bb2-451f-4f65-8eec-7a8125c9a596   56.923077  \n",
       "ebb614bf-c45c-4b77-a5f7-168e4569b280   55.687500  "
      ]
     },
     "execution_count": 26,
     "metadata": {},
     "output_type": "execute_result"
    }
   ],
   "source": [
    "summary.sort_values('atom_usage',ascending=False).head(10)"
   ]
  },
  {
   "cell_type": "code",
   "execution_count": 27,
   "id": "47ca5415-35e7-4d33-b666-d9be188ccabd",
   "metadata": {},
   "outputs": [],
   "source": [
    "import torch_geometric as pyg\n",
    "from torch_geometric.nn import GCNConv \n",
    "from torch_geometric.nn import SAGEConv, to_hetero ,LSTMAggregation\n",
    "import  torch.nn as nn\n",
    "import torch.nn.functional as F\n",
    "import torch \n",
    "from torch_geometric.loader import DataLoader\n",
    "import torch_geometric.transforms as T\n",
    "from torch_geometric.data import HeteroData\n",
    "import torch "
   ]
  },
  {
   "cell_type": "code",
   "execution_count": null,
   "id": "c8fe7654-ffdf-4dba-b8c3-d18e07c7543d",
   "metadata": {},
   "outputs": [],
   "source": []
  },
  {
   "cell_type": "code",
   "execution_count": null,
   "id": "7e7f6358-cbbe-4927-8ef6-d47ea68654d7",
   "metadata": {},
   "outputs": [],
   "source": []
  },
  {
   "cell_type": "code",
   "execution_count": null,
   "id": "63139342-4a89-4ccf-8d02-eed8394d84b3",
   "metadata": {},
   "outputs": [],
   "source": []
  },
  {
   "cell_type": "markdown",
   "id": "8fc32d95-2f7c-4e38-a8b9-25a939b6048b",
   "metadata": {},
   "source": [
    "# train_test_split"
   ]
  },
  {
   "cell_type": "code",
   "execution_count": 28,
   "id": "bad7795a-941a-4d7f-bb6d-6d436932dd34",
   "metadata": {},
   "outputs": [],
   "source": [
    "def train_test_split(df,df2,look_back=3,loGraphID=3,user_count=4):\n",
    "    df=df[~df.correctBinary.isna()]\n",
    "    users=df[df.loGraphID==loGraphID].user_id.sample(user_count).values\n",
    "    dfg=df[(df.loGraphID==loGraphID) & (df.user_id.isin(users)) ].reset_index(drop=True)\n",
    "    \n",
    "    dfg=dfg.sort_values(['user_id','interaction_end_time'])\n",
    "    atom_index={atom_id:i for i,atom_id  in  enumerate(dfg.atom_id.unique())}\n",
    "\n",
    "    dfg['atomIndex']=dfg.atom_id.map(atom_index)\n",
    "    \n",
    "    loEdgeMapping=df2[df2['graph_id']==loGraphID][['source_index','dest_index']]\n",
    "    lo_edges=loEdgeMapping.values.transpose()\n",
    "    \n",
    "    lo_map=pd.concat([df2[df2['graph_id']==loGraphID][['source_lo_title','source_index']].rename(columns={'source_lo_title':'learning_objective_name','source_index':'loIndex'}),\n",
    "                      df2[df2['graph_id']==loGraphID][['dest_lo_title','dest_index']].rename(columns={'dest_lo_title':'learning_objective_name','dest_index':'loIndex'})]).drop_duplicates().reset_index(drop=True)\n",
    "    \n",
    "    dfg['atomIndex']=dfg.atom_id.map(atom_index)\n",
    "    \n",
    "    dfg=dfg.merge(lo_map,on='learning_objective_name',how='left')\n",
    "    \n",
    "    \n",
    "    users_question_sequence_train_lists=[]\n",
    "    users_question_sequence_test_lists=[]\n",
    "    for user in users:\n",
    "        print(user)\n",
    "        question_sequence=dfg[dfg.user_id==user][['loIndex','atomIndex','correctBinary']].values.transpose()\n",
    "        question_sequence_len=question_sequence.shape[1]\n",
    "        train_size=int(question_sequence_len*.8)\n",
    "        users_question_sequence_train_lists.append(question_sequence[:,:train_size])\n",
    "        users_question_sequence_test_lists.append(question_sequence[:,train_size-look_back:])\n",
    "    \n",
    "    lo_atom_edges_list=dfg.groupby(['loIndex','atomIndex']).count().index.to_list()\n",
    "    \n",
    "    #question_sequence_len=question_sequence.shape[1]\n",
    "    \n",
    "    \n",
    "    \n",
    "    l1,l2=zip(*lo_atom_edges_list)\n",
    "    \n",
    "    lo_atom_edges=np.array((list(l1),list(l2)))\n",
    " \n",
    "    atomFeatures=dfg.groupby('atomIndex')['difficulty'].mean().values.reshape(-1,1)\n",
    "    #loFeatures=np.zeros(31 ).reshape(-1,1)\n",
    "    loFeatures=df[df.loGraphID==3].groupby('lo_difficulty')['difficulty'].mean().values.reshape(-1,1)\n",
    "    \n",
    "    data = HeteroData()\n",
    "\n",
    "    data['atom'].x=torch.tensor(atomFeatures.astype(np.float64)).float()\n",
    "   \n",
    "    data['lo'].x= torch.tensor(loFeatures.astype(np.float64)).float()\n",
    "    #data['lo'].x= nn.Embedding(31,10).float()\n",
    "    \n",
    "    \n",
    "    data['lo','lo_atom','atom'].edge_index=torch.from_numpy(lo_atom_edges).long()\n",
    "    data['lo','lo_lo','lo'].edge_index=torch.from_numpy(lo_edges).long()\n",
    "    \n",
    "    \n",
    "    \n",
    "    normalize=T.NormalizeFeatures()\n",
    "    graph=normalize(data)\n",
    "       \n",
    "    return graph,users_question_sequence_train_lists,users_question_sequence_test_lists,dfg"
   ]
  },
  {
   "cell_type": "code",
   "execution_count": null,
   "id": "0c81a40b-aa0e-46f1-8203-d4dcd8977a4e",
   "metadata": {},
   "outputs": [],
   "source": []
  },
  {
   "cell_type": "code",
   "execution_count": 29,
   "id": "de0900b7-c81f-4b63-ae63-fd8efd31eb81",
   "metadata": {},
   "outputs": [
    {
     "name": "stdout",
     "output_type": "stream",
     "text": [
      "730a7838-991b-4fd0-a553-443047a67277\n"
     ]
    }
   ],
   "source": [
    "data,users_question_sequence_train_lists,users_question_sequence_test_lists,dfg=train_test_split(df,df2,user_count=1)"
   ]
  },
  {
   "cell_type": "code",
   "execution_count": null,
   "id": "1fff69b1-ea94-4d95-9a4a-972a9bc31b92",
   "metadata": {},
   "outputs": [],
   "source": []
  },
  {
   "cell_type": "markdown",
   "id": "ba4011e7-bac4-423c-a4c6-05f92b64ae27",
   "metadata": {
    "tags": []
   },
   "source": [
    "### balanced users \n",
    "b2183f14-2da0-4ee5-ab2e-fa27c223e03a \n",
    "\n",
    "\n",
    "\n",
    "\n",
    "a2eb5835-17d2-4f78-8621-b6643289eae9\n",
    "\n",
    "\n",
    "a5fbbfd0-b7eb-45c9-9948-265c813b9ed1\n",
    "\n",
    "\n",
    "85629129-9333-4ee5-866f-6a9be8769c82"
   ]
  },
  {
   "cell_type": "code",
   "execution_count": 30,
   "id": "05f5fa04-3325-471a-b6d4-6d9a235d7efb",
   "metadata": {},
   "outputs": [
    {
     "name": "stdout",
     "output_type": "stream",
     "text": [
      "0.5256410256410257\n"
     ]
    },
    {
     "data": {
      "text/plain": [
       "-0.02564102564102566"
      ]
     },
     "execution_count": 30,
     "metadata": {},
     "output_type": "execute_result"
    }
   ],
   "source": [
    "train_correct_count=np.array([])\n",
    "for i in users_question_sequence_train_lists:\n",
    "    train_correct_count=  np.concatenate([train_correct_count,i[-1]])\n",
    "    print(i[-1].mean())\n",
    ".5-train_correct_count.mean()"
   ]
  },
  {
   "cell_type": "code",
   "execution_count": 31,
   "id": "de1f6134-f5b2-478c-a861-bf6585c73452",
   "metadata": {},
   "outputs": [
    {
     "data": {
      "text/plain": [
       "(156,)"
      ]
     },
     "execution_count": 31,
     "metadata": {},
     "output_type": "execute_result"
    }
   ],
   "source": [
    "train_correct_count.shape"
   ]
  },
  {
   "cell_type": "code",
   "execution_count": 32,
   "id": "e35962fd-23cb-42db-8203-be5181d31622",
   "metadata": {},
   "outputs": [
    {
     "name": "stdout",
     "output_type": "stream",
     "text": [
      "0.5476190476190477\n"
     ]
    },
    {
     "data": {
      "text/plain": [
       "-0.04761904761904767"
      ]
     },
     "execution_count": 32,
     "metadata": {},
     "output_type": "execute_result"
    }
   ],
   "source": [
    "test_correct_count=np.array([])\n",
    "for i in users_question_sequence_test_lists:\n",
    "    test_correct_count=  np.concatenate([test_correct_count,i[-1]])\n",
    "    print(i[-1].mean())\n",
    ".5-test_correct_count.mean()"
   ]
  },
  {
   "cell_type": "code",
   "execution_count": 33,
   "id": "d78b2188-0f0a-49bb-acbe-12253dc9286b",
   "metadata": {},
   "outputs": [
    {
     "data": {
      "text/plain": [
       "(42,)"
      ]
     },
     "execution_count": 33,
     "metadata": {},
     "output_type": "execute_result"
    }
   ],
   "source": [
    "test_correct_count.shape"
   ]
  },
  {
   "cell_type": "code",
   "execution_count": 34,
   "id": "4c4be197-04e5-4f80-9874-c54ed40b22d3",
   "metadata": {},
   "outputs": [
    {
     "data": {
      "text/plain": [
       "(3, 42)"
      ]
     },
     "execution_count": 34,
     "metadata": {},
     "output_type": "execute_result"
    }
   ],
   "source": [
    "users_question_sequence_test_lists[0].shape"
   ]
  },
  {
   "cell_type": "code",
   "execution_count": null,
   "id": "f9589b25-d261-4b92-bc16-dacbfa3b1fab",
   "metadata": {},
   "outputs": [],
   "source": []
  },
  {
   "cell_type": "code",
   "execution_count": null,
   "id": "0dd578aa-0ecc-406f-9ca6-5d656f1ffba5",
   "metadata": {},
   "outputs": [],
   "source": []
  },
  {
   "cell_type": "code",
   "execution_count": 35,
   "id": "a31639a6-e5a8-436a-8949-1f668d3c7ccc",
   "metadata": {},
   "outputs": [
    {
     "data": {
      "text/plain": [
       "(0, 21)"
      ]
     },
     "execution_count": 35,
     "metadata": {},
     "output_type": "execute_result"
    }
   ],
   "source": [
    "dfg[dfg.user_id=='d8494631-eaa1-461f-a4c7-a6477843c1f1'].shape"
   ]
  },
  {
   "cell_type": "code",
   "execution_count": null,
   "id": "b9a62d01-5867-4613-a964-733f9b5272e0",
   "metadata": {},
   "outputs": [],
   "source": []
  },
  {
   "cell_type": "code",
   "execution_count": 36,
   "id": "efbe921f-e3e9-4494-9c2c-118b901ddc05",
   "metadata": {},
   "outputs": [],
   "source": [
    "#from torch_geometric.nn import global_mean_pool as gap, global_max_pool as gmp"
   ]
  },
  {
   "cell_type": "code",
   "execution_count": 37,
   "id": "e12543e0-b68e-411f-a961-9981d8b62a70",
   "metadata": {},
   "outputs": [],
   "source": [
    "hidden_channels=100\n",
    "final_layer_dim=hidden_channels/4\n",
    "class GNN(torch.nn.Module):\n",
    "    def __init__(self):\n",
    "        super().__init__()\n",
    "        self.conv1 = SAGEConv((-1, -1), hidden_channels,requires_grad=True)\n",
    "        self.actfn1=nn.ReLU()\n",
    "        \n",
    "        self.conv2 = SAGEConv((-1, -1),int( hidden_channels/2),requires_grad=True)\n",
    "        self.actfn2=nn.ReLU()\n",
    "        \n",
    "        self.conv3 = SAGEConv((-1, -1),int( final_layer_dim),requires_grad=True)\n",
    "        self.actfn3=nn.ReLU()\n",
    "        \n",
    "        self.conv4 = SAGEConv((-1, -1),int( hidden_channels/8),requires_grad=True)\n",
    "        self.actfn4=nn.ReLU()\n",
    "        \n",
    "        \n",
    "        self.sigmoid= nn.Sigmoid()\n",
    "\n",
    "    def forward(self, x, edge_index):\n",
    "        \n",
    "        x = self.actfn1(self.conv1(x, edge_index))\n",
    "        #x= F.dropout(x,p=.5,training=self.training)\n",
    "        \n",
    "        x = self.actfn2(self.conv2(x, edge_index))\n",
    "        #x= F.dropout(x,p=.7,training=self.training)\n",
    "        \n",
    "        x = self.actfn3(self.conv3(x, edge_index))\n",
    "        \n",
    "  \n",
    "        return x"
   ]
  },
  {
   "cell_type": "code",
   "execution_count": 38,
   "id": "63d8dc5b-d31d-4e33-8c87-d6a7f13072ed",
   "metadata": {},
   "outputs": [],
   "source": [
    "lookback=3\n",
    "hidden_channels1=int((final_layer_dim)*2*(lookback+1)+(lookback+1))\n",
    "\n",
    "out_channels=1\n",
    "class Classifer(torch.nn.Module):\n",
    "    def __init__(self):\n",
    "        super().__init__()\n",
    "\n",
    "        self.ins=nn.Linear(hidden_channels1,10)\n",
    "        self.actfn1=nn.ReLU()\n",
    "        \n",
    "        self.ins2=nn.Linear(10,5)\n",
    "        self.actfn2=nn.ReLU()\n",
    "        \n",
    "        self.out=nn.Linear(5,1)\n",
    "        self.actfn3=nn.Sigmoid()\n",
    "        \n",
    "    def forward(self, x):\n",
    "        \n",
    "        x= self.actfn1 (self.ins(x))\n",
    "        \n",
    "        x= self.actfn2 (self.ins2(x))\n",
    "        \n",
    "        out=self.actfn3(self.out(x))\n",
    "        \n",
    "        \n",
    "        return out"
   ]
  },
  {
   "cell_type": "code",
   "execution_count": null,
   "id": "312aad5c-15c5-422b-87ad-6ba9cd397d3d",
   "metadata": {},
   "outputs": [],
   "source": []
  },
  {
   "cell_type": "code",
   "execution_count": 39,
   "id": "eaad99d6-5f8f-4dcf-9a31-c5dfc1cb2601",
   "metadata": {},
   "outputs": [],
   "source": [
    "class GNN_Classifier(nn.Module):\n",
    "    def __init__(self):\n",
    "        super(GNN_Classifier, self).__init__()\n",
    "        \n",
    "        self.model_embedding=GNN()\n",
    "        self.model_embedding = to_hetero(self.model_embedding, data.metadata(),aggr='max')\n",
    "        self.classifer = Classifer()\n",
    "        #lo,atom,prev_answer,prev_lo,prev_atom,prev_answer1,prev_lo1,prev_atom1\n",
    "    def forward(self, x,edges,batch_num,lookback,question_sequence):\n",
    "        node_embeddings = self.model_embedding(x,edges)\n",
    "        rnn_input_list=[]\n",
    "        features_concat_list=[]\n",
    "        \n",
    "        for i in range(lookback+1):\n",
    "            #print([i,batch_num-i])\n",
    "            lo=question_sequence[0][batch_num-i]\n",
    "            atom=question_sequence[1][batch_num-i]\n",
    "            prev_answer=torch.tensor([question_sequence[2][batch_num-1-i]]).float()\n",
    "            \n",
    "            features_concat_list.extend([node_embeddings['atom'][atom]])\n",
    "            features_concat_list.extend([node_embeddings['lo'][lo]])\n",
    "            features_concat_list.extend([prev_answer])\n",
    "        \n",
    "                                         \n",
    "            \n",
    "        #user_embeddings=torch.cat([node_embeddings['atom'][atom] , node_embeddings['lo'][lo],prev_answer,node_embeddings['atom'][prev_atom] , node_embeddings['lo'][prev_lo],prev_answer1,node_embeddings['atom'][prev_atom1] , node_embeddings['lo'][prev_lo1]])  \n",
    "       \n",
    "        user_embeddings=torch.cat(features_concat_list)\n",
    "        \n",
    "        rnn_outputs = self.classifer(user_embeddings)\n",
    "    \n",
    "        return rnn_outputs,user_embeddings"
   ]
  },
  {
   "cell_type": "code",
   "execution_count": 40,
   "id": "12904345-36f6-46a1-8687-189d1e9fdeaa",
   "metadata": {
    "tags": []
   },
   "outputs": [
    {
     "name": "stdout",
     "output_type": "stream",
     "text": [
      "epoch 0 , batch 1 \n",
      "epoch 0 | loss 0.68874 | accuracy 0.47712 | auc 0.45514\n"
     ]
    }
   ],
   "source": [
    "\n",
    "model=GNN_Classifier()\n",
    "learning_rate=0.001\n",
    "optimizer=torch.optim.Adam(model.parameters(),lr=learning_rate,weight_decay=5e-12)\n",
    "criterion=torch.nn.BCELoss()\n",
    "#criterion=F.binary_cross_entropy\n",
    "train_acc_mean_list=[]\n",
    "test_acc_mean_list=[]\n",
    "loss_list=[]\n",
    "accuracy_list=[]\n",
    "best_score=0\n",
    "user_embedings=[]\n",
    "\n",
    "loss_moving_avg=[]\n",
    "\n",
    "for epoch_num in range(1):\n",
    "    epoch_accuracy=[]\n",
    "    out_list=[]\n",
    "    total_loss=0\n",
    "    user_embedings=[]\n",
    "    prob=[]\n",
    "    target=[]\n",
    "    for user_count,question_sequence in enumerate(users_question_sequence_train_lists):\n",
    "        question_sequence_len=question_sequence.shape[1]\n",
    "        for  batch_num in range(lookback,question_sequence_len):\n",
    "\n",
    "            model.train()\n",
    "\n",
    "            optimizer.zero_grad()   \n",
    "            #x_dict = {key: gmp(batch[key].x, batch[key].batch) for key in batch.node_types}\n",
    "\n",
    "\n",
    "            answer=torch.tensor([question_sequence[2][batch_num]]).float()\n",
    "\n",
    "\n",
    "            out,node_embeddings=model(data.x_dict, data.edge_index_dict,batch_num,lookback,question_sequence) \n",
    "            user_embedings.append((node_embeddings,answer))\n",
    "            loss=F.binary_cross_entropy(out,answer)\n",
    "            loss.backward()\n",
    "            optimizer.step()\n",
    "\n",
    "            loss_list.append(loss.item())\n",
    "            total_loss=total_loss+loss.item()\n",
    "            train_correct=out.round()==answer\n",
    "\n",
    "            train_acc=train_correct*1\n",
    "            accuracy=(train_correct*1).item()\n",
    "            epoch_accuracy.append(accuracy)\n",
    "            #accuracy_list.append(accuracy)\n",
    "            prob.append(out.item())\n",
    "            target.append(answer.item())\n",
    "        print('epoch {} , batch {} '.format(epoch_num,user_count+1))\n",
    "    performance='epoch {} | loss {:.5f} | accuracy {:.5f} | auc {:.5f}'.format(epoch_num,total_loss/(batch_num+1),np.mean(epoch_accuracy),roc_auc_score(np.array(target),prob))\n",
    "    print(performance)\n",
    "    loss_moving_avg.append(total_loss/(batch_num+1))\n",
    "            \n"
   ]
  },
  {
   "cell_type": "code",
   "execution_count": null,
   "id": "715e3d7d-abd9-414a-a7d8-efe912c693fc",
   "metadata": {},
   "outputs": [],
   "source": []
  },
  {
   "cell_type": "code",
   "execution_count": null,
   "id": "04f4d6c4-9696-4137-bf03-8815b0e38973",
   "metadata": {},
   "outputs": [],
   "source": [
    "with torch.no_grad():\n",
    "    for user_count,question_sequence in enumerate(users_question_sequence_test_lists):\n",
    "            question_sequence_len=question_sequence.shape[1]\n",
    "            batch_accuracy=[]\n",
    "            batch_target=[]\n",
    "            batch_prob=[]\n",
    "            for  batch_num in range(lookback,question_sequence_len):\n",
    "\n",
    "                model.eval()\n",
    "                answer=torch.tensor([question_sequence[2][batch_num]]).float()\n",
    "\n",
    "                out,node_embeddings=model(data.x_dict, data.edge_index_dict,batch_num,lookback,question_sequence) \n",
    "\n",
    "                train_correct=out.round()==answer\n",
    "\n",
    "                train_acc=train_correct*1\n",
    "                accuracy=(train_correct*1).item()\n",
    "                epoch_accuracy.append(accuracy)\n",
    "                prob.append(out.item())\n",
    "                target.append(answer.item())\n",
    "                batch_target.append(answer.item())\n",
    "                batch_prob.append(out.item() )\n",
    "                batch_accuracy.append(accuracy)\n",
    "            batch_performance='accuracy {:.5f} | auc {:.5f} \\n'.format(np.mean(batch_accuracy),roc_auc_score(np.array(batch_target),batch_prob))\n",
    "                \n",
    "            print(batch_performance)\n",
    "      \n",
    "    performance='accuracy {:.5f} | auc {:.5f} \\n'.format(np.mean(epoch_accuracy),roc_auc_score(np.array(target),prob))\n",
    "    print('-'*len(performance))\n",
    "    print(performance)\n"
   ]
  },
  {
   "cell_type": "code",
   "execution_count": null,
   "id": "f260fbf7-68a7-41d1-b04a-8b21b2e02261",
   "metadata": {},
   "outputs": [],
   "source": [
    "performance"
   ]
  },
  {
   "cell_type": "code",
   "execution_count": null,
   "id": "46860415-3801-4b79-b79e-c78755d6adc7",
   "metadata": {},
   "outputs": [],
   "source": [
    "plt.figure(figsize=(10,7))\n",
    "mvg_steps=question_sequence_len\n",
    "\n",
    "#for i in range(len(loss_list)-mvg_steps):\n",
    "#    loss_moving_avg.append(np.mean(loss_list[mvg_steps*i:(i+1)*mvg_steps]))\n",
    "plt.grid()\n",
    "#plt.plot(loss_list)\n",
    "plt.plot(loss_moving_avg)\n"
   ]
  },
  {
   "cell_type": "code",
   "execution_count": null,
   "id": "e5600ab9-341e-4e8a-a0be-2ae4a82e5845",
   "metadata": {
    "tags": []
   },
   "outputs": [],
   "source": []
  },
  {
   "cell_type": "code",
   "execution_count": null,
   "id": "afcc3909-c3a8-4e9b-b3be-6bade19f0e5a",
   "metadata": {},
   "outputs": [],
   "source": [
    "len(user_embedings)"
   ]
  },
  {
   "cell_type": "code",
   "execution_count": null,
   "id": "532a466a-11b2-432d-89bd-1a92248d66d1",
   "metadata": {},
   "outputs": [],
   "source": [
    "user_embedings[0][0].shape"
   ]
  },
  {
   "cell_type": "code",
   "execution_count": null,
   "id": "ff7f3447-74ff-465a-a883-6ebbf76ce646",
   "metadata": {},
   "outputs": [],
   "source": [
    "node_embeddings=[i[0] for i in user_embedings]\n",
    "\n",
    "nodes=torch.stack(node_embeddings).detach().numpy()\n",
    "\n",
    "nodesDf=pd.DataFrame(nodes[-question_sequence_len:])\n",
    "\n",
    "pca = PCA(n_components=3)\n",
    "components = pca.fit_transform(nodesDf)\n",
    "\n",
    "#pcadf=pd.DataFrame({'f1':components[:,0],'f2':components[:,1]})\n",
    "pcadf=pd.DataFrame({ 'f'+str(i):components[:,i]  for i in  range(components.shape[1]) })\n",
    "\n",
    "answersdf=pd.DataFrame({'atom':question_sequence[1][lookback:],'answer':question_sequence[2][lookback:]})\n",
    "\n",
    "pcadf=pcadf.reset_index().rename(columns={'index':'atom'})\n",
    "\n",
    "answersdffea=answersdf.merge(pcadf,on='atom',how='left')\n",
    "\n",
    "sns.pairplot(answersdffea,hue='answer')"
   ]
  },
  {
   "cell_type": "code",
   "execution_count": null,
   "id": "dfc997db-b304-4a42-b0e3-c5b59648f8ac",
   "metadata": {},
   "outputs": [],
   "source": [
    "hidden_channels=64\n",
    "final_layer_dim=hidden_channels/4\n",
    "class GNN_Lstm(torch.nn.Module):\n",
    "    def __init__(self):\n",
    "        super().__init__()\n",
    "        self.conv1 = SAGEConv((-1, -1), hidden_channels,requires_grad=True)\n",
    "        self.actfn1=nn.ReLU()\n",
    "        \n",
    "        self.conv2 = SAGEConv((-1, -1),int( hidden_channels/2),requires_grad=True)\n",
    "        self.actfn2=nn.ReLU()\n",
    "        \n",
    "        self.conv3 = SAGEConv((-1, -1),int( final_layer_dim),requires_grad=True)\n",
    "        self.actfn3=nn.ReLU()\n",
    "        \n",
    "        self.conv4 = SAGEConv((-1, -1),int( hidden_channels/8),requires_grad=True)\n",
    "        self.actfn4=nn.ReLU()\n",
    "        \n",
    "        \n",
    "        self.sigmoid= nn.Sigmoid()\n",
    "\n",
    "    def forward(self, x, edge_index):\n",
    "        \n",
    "        x = self.actfn1(self.conv1(x, edge_index))\n",
    "        #x= F.dropout(x,p=.5,training=self.training)\n",
    "        \n",
    "        x = self.actfn2(self.conv2(x, edge_index))\n",
    "        #x= F.dropout(x,p=.7,training=self.training)\n",
    "        \n",
    "        x = self.actfn3(self.conv3(x, edge_index))\n",
    "        \n",
    "        #out = self.actfn4(self.conv4(x, edge_index))\n",
    "        \n",
    "        #out= F.dropout(x,p=.7,training=self.training)\n",
    "        #pool={key: gmp(out[key].x, out[key].batch) for key in out.node_types}\n",
    "        #out=self.sigmoid( self.out(x))\n",
    "        #ic(pool)\n",
    "        \n",
    "        #pool=gmp(out)\n",
    "        return x"
   ]
  },
  {
   "cell_type": "code",
   "execution_count": null,
   "id": "2d97bfc9-0746-48ed-8cef-0740d9a70ab8",
   "metadata": {},
   "outputs": [],
   "source": [
    "lookback=3\n",
    "input_size=33\n",
    "out_channels=1\n",
    "num_layers=1\n",
    "hidden_size=20\n",
    "class Classifer_Lstm(nn.Module):\n",
    "    \n",
    "    def __init__(self ):\n",
    "        super().__init__()\n",
    "        self.num_layers = num_layers # number of recurrent layers in the lstm\n",
    "        self.input_size = input_size # input size\n",
    "        self.hidden_size = hidden_size # neurons in each lstm layer\n",
    "        self.sigmoid=nn.Sigmoid()\n",
    "        \n",
    "        self.lstm = nn.LSTM(\n",
    "            input_size=self.input_size ,\n",
    "            hidden_size=self.hidden_size,\n",
    "            num_layers=self.num_layers,\n",
    "            batch_first=True\n",
    "        )\n",
    "        self.fc = nn.Linear(hidden_size, 1)\n",
    "        \n",
    "    def forward(self,x):\n",
    "        #print(x.shape)\n",
    "        h0 = torch.zeros(self.num_layers, 1, self.hidden_size).requires_grad_()\n",
    "        # Initialize long-term memory\n",
    "        c0 = torch.zeros(self.num_layers, 1, self.hidden_size).requires_grad_()\n",
    "        # Pass all inputs to lstm layer\n",
    "        out, _ = self.lstm(x, (h0, c0))\n",
    "        #print(out.shape)\n",
    "        out = self.sigmoid(self.fc(out[:, -1, :]))\n",
    "        \n",
    "        return out"
   ]
  },
  {
   "cell_type": "code",
   "execution_count": null,
   "id": "b476d2d3-ecb5-41fe-b7ea-589cdae20e95",
   "metadata": {},
   "outputs": [],
   "source": [
    "class GNN_LSTM_Classifier(nn.Module):\n",
    "    def __init__(self):\n",
    "        super(GNN_LSTM_Classifier, self).__init__()\n",
    "        \n",
    "        self.model_embedding=GNN_Lstm()\n",
    "        self.model_embedding = to_hetero(self.model_embedding, data.metadata(),aggr='max')\n",
    "        self.classifer = Classifer_Lstm()\n",
    "        #lo,atom,prev_answer,prev_lo,prev_atom,prev_answer1,prev_lo1,prev_atom1\n",
    "    def forward(self, x,edges,batch_num,lookback,question_sequence):\n",
    "        node_embeddings = self.model_embedding(x,edges)\n",
    "        rnn_input_list=[]\n",
    "        #features_concat_list=[]\n",
    "        \n",
    "        for i in range(lookback+1):\n",
    "            \n",
    "            #print([i,batch_num-i])\n",
    "            lo=question_sequence[0][batch_num-i]\n",
    "            atom=question_sequence[1][batch_num-i]\n",
    "            prev_answer=torch.tensor([question_sequence[2][batch_num-1-i]]).float()\n",
    "\n",
    "            features_concat=torch.cat([node_embeddings['atom'][atom],node_embeddings['lo'][lo],prev_answer])\n",
    "            rnn_input_list.append(features_concat)\n",
    "        \n",
    "                                         \n",
    "            \n",
    "        #user_embeddings=torch.cat([node_embeddings['atom'][atom] , node_embeddings['lo'][lo],prev_answer,node_embeddings['atom'][prev_atom] , node_embeddings['lo'][prev_lo],prev_answer1,node_embeddings['atom'][prev_atom1] , node_embeddings['lo'][prev_lo1]])  \n",
    "       \n",
    "        rnn_input_stacked=torch.stack(rnn_input_list).view(1,lookback+1,features_concat.shape[0])\n",
    "\n",
    "        rnn_outputs = self.classifer(rnn_input_stacked)\n",
    "    \n",
    "        return rnn_outputs,node_embeddings"
   ]
  },
  {
   "cell_type": "code",
   "execution_count": null,
   "id": "8fbbb70b-25db-4319-aca0-64ea2315b624",
   "metadata": {},
   "outputs": [],
   "source": []
  },
  {
   "cell_type": "code",
   "execution_count": null,
   "id": "d22b4533-e393-4d87-8758-6f76700e7bf2",
   "metadata": {
    "tags": []
   },
   "outputs": [],
   "source": [
    "training_size=sum([users_question_sequence_train_lists[i].shape[1] for i in range(len(users_question_sequence_train_lists))])\n",
    "\n",
    "model=GNN_LSTM_Classifier()\n",
    "learning_rate=0.001\n",
    "optimizer=torch.optim.Adam(model.parameters(),lr=learning_rate,weight_decay=5e-12)\n",
    "criterion=torch.nn.BCELoss()\n",
    "#criterion=F.binary_cross_entropy\n",
    "train_acc_mean_list=[]\n",
    "test_acc_mean_list=[]\n",
    "loss_list=[]\n",
    "accuracy_list=[]\n",
    "best_score=0\n",
    "\n",
    "torch.manual_seed(42)\n",
    "loss_moving_avg=[]\n",
    "user_embedings=[]\n",
    "for epoch_num in range(30):\n",
    "    epoch_accuracy=[]\n",
    "    out_list=[]\n",
    "    total_loss=0\n",
    "    \n",
    "    prob=[]\n",
    "    target=[]\n",
    "    for user_count,question_sequence in enumerate(users_question_sequence_train_lists):\n",
    "        question_sequence_len=question_sequence.shape[1]\n",
    "        batch_loss=0\n",
    "        for  batch_num in range(lookback,question_sequence_len):\n",
    "\n",
    "            model.train()\n",
    "\n",
    "            optimizer.zero_grad()   \n",
    "            #x_dict = {key: gmp(batch[key].x, batch[key].batch) for key in batch.node_types}\n",
    "\n",
    "\n",
    "            answer=torch.tensor([question_sequence[2][batch_num]]).float()\n",
    "\n",
    "\n",
    "            out,node_embeddings=model(data.x_dict, data.edge_index_dict,batch_num,lookback,question_sequence) \n",
    "\n",
    "            loss=F.binary_cross_entropy(out.view(1),answer)\n",
    "            loss.backward()\n",
    "            optimizer.step()\n",
    "\n",
    "            loss_list.append(loss.item())\n",
    "            total_loss=total_loss+loss.item()\n",
    "            train_correct=out.round()==answer\n",
    "\n",
    "            train_acc=train_correct*1\n",
    "            accuracy=(train_correct*1).item()\n",
    "            epoch_accuracy.append(accuracy)\n",
    "            #accuracy_list.append(accuracy)\n",
    "            prob.append(out.item())\n",
    "            target.append(answer.item())\n",
    "            batch_loss=batch_loss+loss.item()\n",
    "        print('epoch {} | batch {} | batch loss {:.5f}'.format(epoch_num,user_count+1,batch_loss/question_sequence_len))\n",
    "    \n",
    "    performance='epoch {} | loss {:.5f} | accuracy {:.5f} | auc {:.5f} \\n'.format(epoch_num,total_loss/(training_size),np.mean(epoch_accuracy),roc_auc_score(np.array(target),prob))\n",
    "    print('-'*len(performance))\n",
    "    print(performance)\n",
    "    \n",
    "    loss_moving_avg.append(total_loss/(batch_num+1))\n",
    "        "
   ]
  },
  {
   "cell_type": "code",
   "execution_count": null,
   "id": "324efde4-a249-4334-a764-0d0329a18c99",
   "metadata": {},
   "outputs": [],
   "source": [
    "\n",
    "with torch.no_grad():\n",
    "   \n",
    "    for user_count,question_sequence in enumerate(users_question_sequence_test_lists):\n",
    "            question_sequence_len=question_sequence.shape[1]\n",
    "            batch_accuracy=[]\n",
    "            batch_target=[]\n",
    "            batch_prob=[]\n",
    "            for  batch_num in range(lookback,question_sequence_len):\n",
    "\n",
    "                model.eval()\n",
    "                answer=torch.tensor([question_sequence[2][batch_num]]).float()\n",
    "\n",
    "                out,node_embeddings=model(data.x_dict, data.edge_index_dict,batch_num,lookback,question_sequence) \n",
    "\n",
    "                train_correct=out.round()==answer\n",
    "\n",
    "                train_acc=train_correct*1\n",
    "                accuracy=(train_correct*1).item()\n",
    "                epoch_accuracy.append(accuracy)\n",
    "                prob.append(out.item())\n",
    "                target.append(answer.item())\n",
    "                batch_target.append(answer.item())\n",
    "                batch_prob.append(out.item() )\n",
    "                batch_accuracy.append(accuracy)\n",
    "            batch_performance='accuracy {:.5f} | auc {:.5f} \\n'.format(np.mean(batch_accuracy),roc_auc_score(np.array(batch_target),batch_prob))\n",
    "                \n",
    "            print(batch_performance)\n",
    "      \n",
    "    performance='accuracy {:.5f} | auc {:.5f} \\n'.format(np.mean(epoch_accuracy),roc_auc_score(np.array(target),prob))\n",
    "    print('-'*len(performance))\n",
    "    print(performance)\n"
   ]
  },
  {
   "cell_type": "code",
   "execution_count": null,
   "id": "dc3bd0c1-c7ee-4090-b7fc-d16f7923749a",
   "metadata": {},
   "outputs": [],
   "source": [
    "plt.figure(figsize=(10,7))\n",
    "mvg_steps=question_sequence_len\n",
    "\n",
    "#for i in range(len(loss_list)-mvg_steps):\n",
    "#    loss_moving_avg.append(np.mean(loss_list[mvg_steps*i:(i+1)*mvg_steps]))\n",
    "plt.grid()\n",
    "#plt.plot(loss_list)\n",
    "plt.plot(loss_moving_avg)\n"
   ]
  },
  {
   "cell_type": "code",
   "execution_count": null,
   "id": "b993fedf-c6c4-445f-b404-660e6997b5ea",
   "metadata": {},
   "outputs": [],
   "source": []
  },
  {
   "cell_type": "code",
   "execution_count": null,
   "id": "843473a3-f1ff-406c-8423-0eadc8fdc543",
   "metadata": {},
   "outputs": [],
   "source": [
    "atoms=node_embeddings['atom'].detach().numpy()\n",
    "pca = PCA(n_components=3)\n",
    "components = pca.fit_transform(atoms)\n",
    "plt.scatter(components[:,0],components[:,1])"
   ]
  },
  {
   "cell_type": "code",
   "execution_count": null,
   "id": "10e882bf-5f69-4253-be52-86c2376150ff",
   "metadata": {},
   "outputs": [],
   "source": [
    "los=node_embeddings['lo'].detach().numpy()\n",
    "pca = PCA(n_components=3)\n",
    "components1 = pca.fit_transform(los)\n"
   ]
  },
  {
   "cell_type": "code",
   "execution_count": null,
   "id": "d2562a82-f80a-4bfe-b340-c2dea4b57edc",
   "metadata": {},
   "outputs": [],
   "source": [
    "fig = plt.figure(figsize=(10,7))\n",
    "ax = plt.axes(projection='3d')\n",
    "\n",
    "ax.scatter(components[:,0], components[:,1], components[:,2]);\n",
    "ax.scatter(components1[:,0], components1[:,1], components1[:,2] );"
   ]
  },
  {
   "cell_type": "code",
   "execution_count": null,
   "id": "3234ff95-a100-4316-b740-72c5ec0c0e72",
   "metadata": {},
   "outputs": [],
   "source": [
    "seq_features=[]\n",
    "for i in range(3,question_sequence_len):\n",
    "    seq_features.append(torch.cat([node_embeddings['atom'][question_sequence[1][i]].detach(),\n",
    "                                   #node_embeddings['lo'][question_sequence[0][i]].detach(),\n",
    "                                   #torch.tensor([question_sequence[-1][i-1]]),\n",
    "                                   \n",
    "                                    node_embeddings['atom'][question_sequence[1][i-1]].detach(),\n",
    "                                   #node_embeddings['lo'][question_sequence[0][i-1]].detach(),\n",
    "                                   #torch.tensor([question_sequence[-1][i-2]]),\n",
    "                                   \n",
    "                                    node_embeddings['atom'][question_sequence[1][i-2]].detach(),\n",
    "                                   #node_embeddings['lo'][question_sequence[0][i-2]].detach(),\n",
    "                                   #torch.tensor([question_sequence[-1][i-3]])\n",
    "                                  \n",
    "                                  \n",
    "                                  ]).numpy())"
   ]
  },
  {
   "cell_type": "code",
   "execution_count": null,
   "id": "ac20eb1d-b0f0-45b8-bc4d-16aca0e02bb9",
   "metadata": {},
   "outputs": [],
   "source": []
  },
  {
   "cell_type": "code",
   "execution_count": null,
   "id": "236550f2-a7da-457f-9db6-e5817543d37c",
   "metadata": {},
   "outputs": [],
   "source": [
    "\n",
    "#first_user_sq_length=dfg[dfg.user_id==dfg.user_id.unique()[0]].shape[0]\n",
    "first_user_sq_length=0\n",
    "second_user_sq_length=dfg[dfg.user_id==dfg.user_id.unique()[1]].shape[0]"
   ]
  },
  {
   "cell_type": "code",
   "execution_count": null,
   "id": "eda77e96-6bea-43a0-aa7e-06898d7e607b",
   "metadata": {},
   "outputs": [],
   "source": [
    "np.stack(seq_features ).shape"
   ]
  },
  {
   "cell_type": "code",
   "execution_count": null,
   "id": "effe6527-ffc4-4aed-a447-4c1a85c46d28",
   "metadata": {},
   "outputs": [],
   "source": [
    "pca = PCA(n_components=3)\n",
    "components2 = pca.fit_transform(np.stack(seq_features ) )\n",
    "                            #[first_user_sq_length:first_user_sq_length+second_user_sq_length])\n"
   ]
  },
  {
   "cell_type": "code",
   "execution_count": null,
   "id": "31778c93-9387-4938-ae1b-cecc744b7cc5",
   "metadata": {},
   "outputs": [],
   "source": [
    "question_sequence[-1][3:first_user_sq_length+3].shape"
   ]
  },
  {
   "cell_type": "code",
   "execution_count": null,
   "id": "12c0ede2-34eb-43ff-b7aa-11d847d7268f",
   "metadata": {},
   "outputs": [],
   "source": [
    "components2.shape"
   ]
  },
  {
   "cell_type": "code",
   "execution_count": null,
   "id": "7d9f3983-d92e-4d12-95a3-99fbd34dadde",
   "metadata": {},
   "outputs": [],
   "source": [
    "pcadf=pd.DataFrame({ 'f'+str(i):components2[:,i]  for i in  range(components2.shape[1]) })\n",
    "\n",
    "\n",
    "pcadf['answers']=question_sequence[-1][3:second_user_sq_length+3]\n",
    "\n"
   ]
  },
  {
   "cell_type": "code",
   "execution_count": null,
   "id": "82daa73e-92a8-462f-863f-6fb3a7b4c7de",
   "metadata": {},
   "outputs": [],
   "source": [
    "   \n",
    "sns.pairplot(pcadf,hue='answers')\n",
    "plt.show() "
   ]
  },
  {
   "cell_type": "code",
   "execution_count": null,
   "id": "0df6af22-4745-4bdc-a952-ad7a5c2fff63",
   "metadata": {},
   "outputs": [],
   "source": [
    "\n"
   ]
  },
  {
   "cell_type": "code",
   "execution_count": null,
   "id": "426c5d8d-44e6-4c7b-bff0-ae3f64082ef5",
   "metadata": {},
   "outputs": [],
   "source": [
    "from matplotlib.animation import FFMpegWriter, PillowWriter"
   ]
  },
  {
   "cell_type": "code",
   "execution_count": null,
   "id": "a0e57825-c370-4778-a2d0-21f9350377ac",
   "metadata": {},
   "outputs": [],
   "source": [
    "metadata = dict( artist='codinglikemad')\n",
    "# writer = PillowWriter(fps=15, metadata=metadata)\n",
    "writer = FFMpegWriter(fps=10, metadata=metadata)"
   ]
  },
  {
   "cell_type": "code",
   "execution_count": null,
   "id": "50b5628d-70d1-471b-af09-e0c1853167eb",
   "metadata": {},
   "outputs": [],
   "source": [
    "plt.rcParams['animation.ffmpeg_path'] = \"C:\\\\research\\\\ffmpeg-4.4-full_build\\\\bin\\\\ffmpeg.exe\""
   ]
  },
  {
   "cell_type": "code",
   "execution_count": null,
   "id": "5199f9da-4f8c-4479-bfd6-d9f03764024d",
   "metadata": {
    "tags": []
   },
   "outputs": [],
   "source": []
  },
  {
   "cell_type": "code",
   "execution_count": null,
   "id": "ad381c9a-11f5-4a25-a5de-e4a89ac2ee01",
   "metadata": {
    "tags": []
   },
   "outputs": [],
   "source": [
    "fig = plt.figure(figsize=(100,100))\n",
    "ax = plt.axes(projection='3d')\n",
    "correct=pcadf[pcadf.answers==1]\n",
    "falls=pcadf[pcadf.answers==0]\n",
    "#ax.set_xlabel('f0')\n",
    "#ax.set_ylabel('f1')\n",
    "#ax.set_zlabel('f2')\n",
    "#ax.scatter3D(correct.iloc[:,1], correct.iloc[:,2], correct.iloc[:,0],label='correct');\n",
    "#ax.scatter3D(falls.iloc[:,1], falls.iloc[:,2], falls.iloc[:,0],label='wrong');\n",
    "#plt.legend()\n",
    "S=2500\n",
    "angle1=30\n",
    "with writer.saving(fig, \"exp3d.gif\", 10):\n",
    "    for i in tqdm(range(0,720,2)):\n",
    "        \n",
    "        ax.set_xlabel('f0',fontsize=100)\n",
    "        ax.set_ylabel('f1',fontsize=100)\n",
    "        ax.set_zlabel('f2',fontsize=100)\n",
    "        ax.scatter3D(correct.iloc[:,1], correct.iloc[:,2], correct.iloc[:,0],label='correct',s=S);\n",
    "        ax.scatter3D(falls.iloc[:,1], falls.iloc[:,2], falls.iloc[:,0],label='wrong',s=S);\n",
    "        plt.legend(markerscale=2,fontsize=100)\n",
    "        \n",
    "        ax.view_init(45, i);\n",
    "\n",
    "        writer.grab_frame()\n",
    "        plt.cla()"
   ]
  },
  {
   "cell_type": "code",
   "execution_count": null,
   "id": "3b795a18-42fb-458f-8560-49bc92d64deb",
   "metadata": {},
   "outputs": [],
   "source": [
    "\n",
    "#fig = plt.figure()\n",
    "\n",
    "def animate(angle):\n",
    "    ax.view_init(30, angle)\n",
    "#animate(10)\n",
    "fig = plt.figure(figsize=(15,15))\n",
    "ax = plt.axes(projection='3d')\n",
    "correct=pcadf[pcadf.answers==1]\n",
    "falls=pcadf[pcadf.answers==0]\n",
    "   \n",
    "for i in range(1,360,72):\n",
    "    ax.set_xlabel('f0')\n",
    "    ax.set_ylabel('f1')\n",
    "    ax.set_zlabel('f2') \n",
    "    ax.scatter3D(correct.iloc[:,1], correct.iloc[:,2], correct.iloc[:,0],label='correct');\n",
    "    ax.scatter3D(falls.iloc[:,1], falls.iloc[:,2], falls.iloc[:,0],label='wrong');\n",
    "    #plt.legend()\n",
    "    ax.view_init(i, 0);\n",
    "    #ax.draw();\n",
    "    plt.pause(.001);\n",
    "    ax.cla()\n",
    "#ani = FuncAnimation(fig, animate, frames=range(360))\n",
    "   \n",
    "  \n",
    "    "
   ]
  },
  {
   "cell_type": "code",
   "execution_count": null,
   "id": "c44686f5-0e09-4068-903c-c19d5458df60",
   "metadata": {},
   "outputs": [],
   "source": [
    "animate(20)"
   ]
  },
  {
   "cell_type": "code",
   "execution_count": null,
   "id": "a98e1013-f0ba-4376-8ab2-7307e0edca91",
   "metadata": {},
   "outputs": [],
   "source": [
    "falls.mean()"
   ]
  },
  {
   "cell_type": "code",
   "execution_count": null,
   "id": "c9d72428-7b8b-4014-a994-53bff6299fd0",
   "metadata": {},
   "outputs": [],
   "source": []
  },
  {
   "cell_type": "code",
   "execution_count": null,
   "id": "d75602ba-1d41-4c62-bd79-302a3078efa2",
   "metadata": {},
   "outputs": [],
   "source": []
  }
 ],
 "metadata": {
  "kernelspec": {
   "display_name": "Python 3 (ipykernel)",
   "language": "python",
   "name": "python3"
  },
  "language_info": {
   "codemirror_mode": {
    "name": "ipython",
    "version": 3
   },
   "file_extension": ".py",
   "mimetype": "text/x-python",
   "name": "python",
   "nbconvert_exporter": "python",
   "pygments_lexer": "ipython3",
   "version": "3.8.3"
  }
 },
 "nbformat": 4,
 "nbformat_minor": 5
}
