{
 "cells": [
  {
   "cell_type": "code",
   "execution_count": 1,
   "id": "f2c435ef-6fe3-4cdf-9747-908c5c7fc585",
   "metadata": {},
   "outputs": [],
   "source": [
    "import logging\n",
    "import sys\n",
    "import datetime\n",
    "import pickle\n",
    "from tqdm import tqdm\n",
    "from sklearn.decomposition import PCA\n",
    "import seaborn as sns\n",
    "from sklearn.preprocessing import StandardScaler\n",
    "from sklearn.metrics.pairwise import cosine_similarity"
   ]
  },
  {
   "cell_type": "markdown",
   "id": "56c37ce9-bc6f-447d-b3f3-6cb6f006a574",
   "metadata": {},
   "source": [
    "## for correct lstm shape - https://www.kaggle.com/code/imegirin/multivariate-time-series-modeling-with-pytorch\n"
   ]
  },
  {
   "cell_type": "code",
   "execution_count": 2,
   "id": "74020f55-a597-41bb-9594-c49c9407aefb",
   "metadata": {},
   "outputs": [],
   "source": [
    "from torch.utils.data import TensorDataset"
   ]
  },
  {
   "cell_type": "code",
   "execution_count": 3,
   "id": "34545487-c665-4d48-a2ec-edb19312f6b2",
   "metadata": {
    "tags": []
   },
   "outputs": [],
   "source": [
    "import pandas as pd\n",
    "import numpy as np\n",
    "import networkx as nx\n",
    "import matplotlib.pyplot as plt;\n",
    "np.random.seed(42);\n",
    "from sklearn.metrics import roc_auc_score;"
   ]
  },
  {
   "cell_type": "code",
   "execution_count": 4,
   "id": "57d86d38-7714-4d23-ae6f-f2894fe1b24b",
   "metadata": {},
   "outputs": [],
   "source": [
    "from sklearn.metrics import roc_auc_score;\n",
    "from sklearn.metrics import classification_report;"
   ]
  },
  {
   "cell_type": "code",
   "execution_count": 5,
   "id": "26d464ef-3f12-44d3-b76d-673f63b349c9",
   "metadata": {},
   "outputs": [],
   "source": [
    "pd.set_option('display.max_columns', None);"
   ]
  },
  {
   "cell_type": "code",
   "execution_count": 6,
   "id": "c275b42d-bed6-44b3-b25b-8d93ffb670b5",
   "metadata": {},
   "outputs": [],
   "source": [
    "df=pd.read_pickle('appmath.pkl')[['graph_id', 'user_id', \n",
    "       'goal_id',\n",
    "        'interaction_end_time',\n",
    "       'learning_objective_name', 'atom_id', \n",
    "       'correct', 'time_spent_answering_s', 'time_spent_on_instruction_s',\n",
    "       'goal_progress',\n",
    "       'target_status_and_progress', 'prev_concept_narrative',\n",
    "       'duration_s', 'is_target']]  "
   ]
  },
  {
   "cell_type": "code",
   "execution_count": null,
   "id": "2693b672-973d-4160-8b98-685abc4dc88a",
   "metadata": {},
   "outputs": [],
   "source": []
  },
  {
   "cell_type": "code",
   "execution_count": 7,
   "id": "bea12206-dd4d-4a04-8d7e-452847896292",
   "metadata": {},
   "outputs": [],
   "source": [
    "df2=pd.read_csv('prereq_edges.csv')"
   ]
  },
  {
   "cell_type": "code",
   "execution_count": 8,
   "id": "4870c8d9-8275-44b1-b44b-b9963d094211",
   "metadata": {},
   "outputs": [],
   "source": [
    "G=nx.Graph()\n",
    "\n",
    "for _,i in df2.iterrows():    \n",
    "       \n",
    "        G.add_edge(i['source_lo_title'],i['dest_lo_title'])\n",
    "        \n",
    "subgraphs=[G.subgraph(i) for i in nx.connected_components(G)]\n",
    "\n",
    "for num,sub in enumerate(subgraphs):\n",
    "    \n",
    "    nx.set_node_attributes(sub,num,'subGraphId')\n",
    "\n",
    "nodeSubGraphId={}\n",
    "for g in subgraphs:\n",
    "    for node in g.nodes(data=True):\n",
    "         nodeSubGraphId[node[0]]= node[1]['subGraphId']\n",
    "            \n",
    "subgraphsNodeCountDict={ num: g.number_of_nodes() for num,g in  enumerate(subgraphs)}"
   ]
  },
  {
   "cell_type": "code",
   "execution_count": 9,
   "id": "a6c8719a-fab1-4196-acc4-e165af836ce6",
   "metadata": {},
   "outputs": [],
   "source": [
    "for col in df.columns:\n",
    "    if df[col].dtype.name=='category':\n",
    "        df[col]=df[col].astype(str)"
   ]
  },
  {
   "cell_type": "code",
   "execution_count": 10,
   "id": "73f26f0b-9978-4def-8004-595c9f6517b2",
   "metadata": {},
   "outputs": [],
   "source": [
    "df['loGraphID']=df.learning_objective_name.apply(lambda x: nodeSubGraphId.get(x) )"
   ]
  },
  {
   "cell_type": "code",
   "execution_count": 11,
   "id": "4e427aad-3eca-41b8-be76-a7537b060b71",
   "metadata": {},
   "outputs": [],
   "source": [
    "difficulty=df[~df.correct.isna()].groupby('atom_id')['correct'].mean().reset_index().rename(columns={'correct':'difficulty'})\n",
    "df=df.merge(difficulty,how='left',on='atom_id')"
   ]
  },
  {
   "cell_type": "code",
   "execution_count": 12,
   "id": "a1dab688-5428-40ac-8118-311b91cbb109",
   "metadata": {},
   "outputs": [],
   "source": [
    "lo_difficulty=df[~df.correct.isna()].groupby('learning_objective_name')['correct'].mean().reset_index().rename(columns={'correct':'lo_difficulty'})\n",
    "df=df.merge(lo_difficulty,how='left',on='learning_objective_name')\n"
   ]
  },
  {
   "cell_type": "code",
   "execution_count": null,
   "id": "14d483b0-11df-4898-a817-e767b0dc3df5",
   "metadata": {},
   "outputs": [],
   "source": []
  },
  {
   "cell_type": "code",
   "execution_count": 13,
   "id": "7b86048f-578b-4224-9473-3232a5701f11",
   "metadata": {},
   "outputs": [],
   "source": [
    "def atomClassifier(x):\n",
    "    if x==None:\n",
    "        return 'learningMaterial'\n",
    "    else:\n",
    "        return 'question'"
   ]
  },
  {
   "cell_type": "code",
   "execution_count": 14,
   "id": "87610521-7fba-48d6-aeac-1811fb01de86",
   "metadata": {
    "tags": []
   },
   "outputs": [],
   "source": [
    "df['atom_type']=df.correct.apply(lambda x:atomClassifier(x) )"
   ]
  },
  {
   "cell_type": "code",
   "execution_count": 15,
   "id": "500de9a3-0e73-4b0d-8750-daaa37ff3c3f",
   "metadata": {},
   "outputs": [],
   "source": [
    "df['correctBinary']=df.correct*1\n",
    "df.atom_id=df.atom_id.astype(str)\n"
   ]
  },
  {
   "cell_type": "code",
   "execution_count": 16,
   "id": "8bc2a1fc-522b-49ba-8173-b12a4aee0cf8",
   "metadata": {},
   "outputs": [],
   "source": [
    "df=df[~df.correctBinary.isna()]"
   ]
  },
  {
   "cell_type": "code",
   "execution_count": 17,
   "id": "2d4f1011-a714-4da2-86f2-4026ab4d7c34",
   "metadata": {},
   "outputs": [],
   "source": [
    "df2['graph_id']=df2.apply(lambda x: nodeSubGraphId.get(x['source_lo_title']) if nodeSubGraphId.get(x['source_lo_title'])!=None else nodeSubGraphId.get(x['dest_lo_title']),axis=1)"
   ]
  },
  {
   "cell_type": "code",
   "execution_count": null,
   "id": "5dd0e95a-406e-4f2f-b32c-622e322b84bd",
   "metadata": {},
   "outputs": [],
   "source": []
  },
  {
   "cell_type": "code",
   "execution_count": 18,
   "id": "2cc84cba-6974-4446-881a-18260e8f01e7",
   "metadata": {},
   "outputs": [],
   "source": [
    "unique_lo_graph_id_dic={}\n",
    "for i in df2.graph_id.unique():\n",
    "    unique_lo=np.unique(np.concatenate((df2[df2.graph_id==i]['source_lo_title'].unique(),((df2[df2.graph_id==i]['dest_lo_title'].unique())))))\n",
    "    unique_lo_graph_id_dic[i]={ item:int(num)  for  num,item in enumerate(unique_lo)}\n",
    "    df2.loc[df2.graph_id==i,'source_index' ]=df2.apply(lambda x: unique_lo_graph_id_dic.get(i).get(x['source_lo_title']),axis=1)\n",
    "    df2.loc[df2.graph_id==i,'dest_index' ]=df2.apply(lambda x: unique_lo_graph_id_dic.get(i).get(x['dest_lo_title']),axis=1)"
   ]
  },
  {
   "cell_type": "code",
   "execution_count": null,
   "id": "9424aa73-1688-46b2-9248-5ea057e5f32f",
   "metadata": {},
   "outputs": [],
   "source": []
  },
  {
   "cell_type": "code",
   "execution_count": 19,
   "id": "d0847797-9329-4ea9-a075-d6cc665a3d93",
   "metadata": {},
   "outputs": [],
   "source": [
    "df2.source_index=df2.source_index.astype(int)\n",
    "df2.dest_index=df2.dest_index.astype(int)"
   ]
  },
  {
   "cell_type": "code",
   "execution_count": null,
   "id": "279436e4-32ca-4a25-b131-1694a59e9138",
   "metadata": {},
   "outputs": [],
   "source": []
  },
  {
   "cell_type": "code",
   "execution_count": 20,
   "id": "286e06b8-4f74-4dca-8376-a98d1b84a5f9",
   "metadata": {},
   "outputs": [],
   "source": [
    "df=df[~df.loGraphID.isna()]"
   ]
  },
  {
   "cell_type": "code",
   "execution_count": 21,
   "id": "9e648a90-3003-4fb4-a828-ff6909f48abe",
   "metadata": {},
   "outputs": [],
   "source": [
    "#df['loIndex']=df.apply(lambda x: unique_lo_graph_id_dic[x['loGraphID']].get(x['learning_objective_name'] ),axis=1)"
   ]
  },
  {
   "cell_type": "code",
   "execution_count": 22,
   "id": "1f9ac69a-8012-442d-ac48-c39e4230752a",
   "metadata": {},
   "outputs": [
    {
     "data": {
      "text/plain": [
       "source_lo_id                    eda7ab6a-8070-4fd8-8387-da17a40fd99e\n",
       "dest_lo_id                      eda7ab6a-8070-4fd8-8387-da17a40fd99e\n",
       "source_lo_title    Write biconditional statements in symbolic for...\n",
       "dest_lo_title      Write biconditional statements in symbolic for...\n",
       "graph_id                                                           3\n",
       "source_index                                                      30\n",
       "dest_index                                                        30\n",
       "dtype: object"
      ]
     },
     "execution_count": 22,
     "metadata": {},
     "output_type": "execute_result"
    }
   ],
   "source": [
    "df2[df2.graph_id==3].max()"
   ]
  },
  {
   "cell_type": "code",
   "execution_count": 23,
   "id": "93033318-79e7-4569-8e9b-764e2a855046",
   "metadata": {},
   "outputs": [],
   "source": [
    "summary=df.pivot_table(index='goal_id',aggfunc={'learning_objective_name':pd.Series.nunique,'atom_id':pd.Series.nunique,'user_id':pd.Series.nunique,'interaction_end_time':np.count_nonzero})"
   ]
  },
  {
   "cell_type": "code",
   "execution_count": 24,
   "id": "3fb473fd-c5c8-47d7-aa25-0ce3c7bfa0bd",
   "metadata": {},
   "outputs": [],
   "source": [
    "summary['atom_usage']=summary.interaction_end_time/summary.atom_id"
   ]
  },
  {
   "cell_type": "code",
   "execution_count": 25,
   "id": "181cd1f5-008f-4c74-ba24-5db54a124fc1",
   "metadata": {},
   "outputs": [
    {
     "data": {
      "text/html": [
       "<div>\n",
       "<style scoped>\n",
       "    .dataframe tbody tr th:only-of-type {\n",
       "        vertical-align: middle;\n",
       "    }\n",
       "\n",
       "    .dataframe tbody tr th {\n",
       "        vertical-align: top;\n",
       "    }\n",
       "\n",
       "    .dataframe thead th {\n",
       "        text-align: right;\n",
       "    }\n",
       "</style>\n",
       "<table border=\"1\" class=\"dataframe\">\n",
       "  <thead>\n",
       "    <tr style=\"text-align: right;\">\n",
       "      <th></th>\n",
       "      <th>atom_id</th>\n",
       "      <th>interaction_end_time</th>\n",
       "      <th>learning_objective_name</th>\n",
       "      <th>user_id</th>\n",
       "      <th>atom_usage</th>\n",
       "    </tr>\n",
       "    <tr>\n",
       "      <th>goal_id</th>\n",
       "      <th></th>\n",
       "      <th></th>\n",
       "      <th></th>\n",
       "      <th></th>\n",
       "      <th></th>\n",
       "    </tr>\n",
       "  </thead>\n",
       "  <tbody>\n",
       "    <tr>\n",
       "      <th>39f38cfd-d153-4fcf-950e-5c1b2bfbeaaa</th>\n",
       "      <td>72</td>\n",
       "      <td>8793</td>\n",
       "      <td>3</td>\n",
       "      <td>289</td>\n",
       "      <td>122.125000</td>\n",
       "    </tr>\n",
       "    <tr>\n",
       "      <th>d252b7df-6a57-46ff-b4c3-e21d26d80b6a</th>\n",
       "      <td>82</td>\n",
       "      <td>9887</td>\n",
       "      <td>5</td>\n",
       "      <td>253</td>\n",
       "      <td>120.573171</td>\n",
       "    </tr>\n",
       "    <tr>\n",
       "      <th>cd26c1cb-87ad-4b57-bdeb-7e8811827e39</th>\n",
       "      <td>59</td>\n",
       "      <td>5764</td>\n",
       "      <td>3</td>\n",
       "      <td>194</td>\n",
       "      <td>97.694915</td>\n",
       "    </tr>\n",
       "    <tr>\n",
       "      <th>86940cba-2a55-43a6-8f51-248afca9952d</th>\n",
       "      <td>26</td>\n",
       "      <td>1974</td>\n",
       "      <td>1</td>\n",
       "      <td>291</td>\n",
       "      <td>75.923077</td>\n",
       "    </tr>\n",
       "    <tr>\n",
       "      <th>caacf0e3-8698-4806-8ce8-a45d8f75b587</th>\n",
       "      <td>59</td>\n",
       "      <td>4396</td>\n",
       "      <td>3</td>\n",
       "      <td>240</td>\n",
       "      <td>74.508475</td>\n",
       "    </tr>\n",
       "    <tr>\n",
       "      <th>12b7f97f-18be-4a9e-9384-866a036631d4</th>\n",
       "      <td>103</td>\n",
       "      <td>7107</td>\n",
       "      <td>5</td>\n",
       "      <td>260</td>\n",
       "      <td>69.000000</td>\n",
       "    </tr>\n",
       "    <tr>\n",
       "      <th>9059c88d-ccdd-42dd-a19f-fe7c9bafd6aa</th>\n",
       "      <td>47</td>\n",
       "      <td>3236</td>\n",
       "      <td>2</td>\n",
       "      <td>255</td>\n",
       "      <td>68.851064</td>\n",
       "    </tr>\n",
       "    <tr>\n",
       "      <th>46e93a47-9de8-4982-82ec-6e3acb911c54</th>\n",
       "      <td>116</td>\n",
       "      <td>7116</td>\n",
       "      <td>6</td>\n",
       "      <td>240</td>\n",
       "      <td>61.344828</td>\n",
       "    </tr>\n",
       "    <tr>\n",
       "      <th>917d2bb2-451f-4f65-8eec-7a8125c9a596</th>\n",
       "      <td>39</td>\n",
       "      <td>2220</td>\n",
       "      <td>2</td>\n",
       "      <td>140</td>\n",
       "      <td>56.923077</td>\n",
       "    </tr>\n",
       "    <tr>\n",
       "      <th>ebb614bf-c45c-4b77-a5f7-168e4569b280</th>\n",
       "      <td>32</td>\n",
       "      <td>1782</td>\n",
       "      <td>2</td>\n",
       "      <td>119</td>\n",
       "      <td>55.687500</td>\n",
       "    </tr>\n",
       "  </tbody>\n",
       "</table>\n",
       "</div>"
      ],
      "text/plain": [
       "                                      atom_id  interaction_end_time  \\\n",
       "goal_id                                                               \n",
       "39f38cfd-d153-4fcf-950e-5c1b2bfbeaaa       72                  8793   \n",
       "d252b7df-6a57-46ff-b4c3-e21d26d80b6a       82                  9887   \n",
       "cd26c1cb-87ad-4b57-bdeb-7e8811827e39       59                  5764   \n",
       "86940cba-2a55-43a6-8f51-248afca9952d       26                  1974   \n",
       "caacf0e3-8698-4806-8ce8-a45d8f75b587       59                  4396   \n",
       "12b7f97f-18be-4a9e-9384-866a036631d4      103                  7107   \n",
       "9059c88d-ccdd-42dd-a19f-fe7c9bafd6aa       47                  3236   \n",
       "46e93a47-9de8-4982-82ec-6e3acb911c54      116                  7116   \n",
       "917d2bb2-451f-4f65-8eec-7a8125c9a596       39                  2220   \n",
       "ebb614bf-c45c-4b77-a5f7-168e4569b280       32                  1782   \n",
       "\n",
       "                                      learning_objective_name  user_id  \\\n",
       "goal_id                                                                  \n",
       "39f38cfd-d153-4fcf-950e-5c1b2bfbeaaa                        3      289   \n",
       "d252b7df-6a57-46ff-b4c3-e21d26d80b6a                        5      253   \n",
       "cd26c1cb-87ad-4b57-bdeb-7e8811827e39                        3      194   \n",
       "86940cba-2a55-43a6-8f51-248afca9952d                        1      291   \n",
       "caacf0e3-8698-4806-8ce8-a45d8f75b587                        3      240   \n",
       "12b7f97f-18be-4a9e-9384-866a036631d4                        5      260   \n",
       "9059c88d-ccdd-42dd-a19f-fe7c9bafd6aa                        2      255   \n",
       "46e93a47-9de8-4982-82ec-6e3acb911c54                        6      240   \n",
       "917d2bb2-451f-4f65-8eec-7a8125c9a596                        2      140   \n",
       "ebb614bf-c45c-4b77-a5f7-168e4569b280                        2      119   \n",
       "\n",
       "                                      atom_usage  \n",
       "goal_id                                           \n",
       "39f38cfd-d153-4fcf-950e-5c1b2bfbeaaa  122.125000  \n",
       "d252b7df-6a57-46ff-b4c3-e21d26d80b6a  120.573171  \n",
       "cd26c1cb-87ad-4b57-bdeb-7e8811827e39   97.694915  \n",
       "86940cba-2a55-43a6-8f51-248afca9952d   75.923077  \n",
       "caacf0e3-8698-4806-8ce8-a45d8f75b587   74.508475  \n",
       "12b7f97f-18be-4a9e-9384-866a036631d4   69.000000  \n",
       "9059c88d-ccdd-42dd-a19f-fe7c9bafd6aa   68.851064  \n",
       "46e93a47-9de8-4982-82ec-6e3acb911c54   61.344828  \n",
       "917d2bb2-451f-4f65-8eec-7a8125c9a596   56.923077  \n",
       "ebb614bf-c45c-4b77-a5f7-168e4569b280   55.687500  "
      ]
     },
     "execution_count": 25,
     "metadata": {},
     "output_type": "execute_result"
    }
   ],
   "source": [
    "summary.sort_values('atom_usage',ascending=False).head(10)"
   ]
  },
  {
   "cell_type": "code",
   "execution_count": 26,
   "id": "47ca5415-35e7-4d33-b666-d9be188ccabd",
   "metadata": {},
   "outputs": [],
   "source": [
    "import torch_geometric as pyg\n",
    "from torch_geometric.nn import GCNConv \n",
    "from torch_geometric.nn import SAGEConv, to_hetero ,LSTMAggregation\n",
    "import  torch.nn as nn\n",
    "import torch.nn.functional as F\n",
    "import torch \n",
    "from torch_geometric.loader import DataLoader\n",
    "import torch_geometric.transforms as T\n",
    "from torch_geometric.data import HeteroData\n",
    "import torch "
   ]
  },
  {
   "cell_type": "code",
   "execution_count": 27,
   "id": "2746dfa4-6a54-439c-bcfa-5afbc9a1f643",
   "metadata": {},
   "outputs": [],
   "source": [
    "cluster=pd.read_csv('cluster.csv')[['user_id','label']]"
   ]
  },
  {
   "cell_type": "code",
   "execution_count": 28,
   "id": "3b07d7b3-3fbc-44d3-81df-8e3e158af4ab",
   "metadata": {},
   "outputs": [],
   "source": [
    "df=df.merge(cluster,on='user_id',how='left')"
   ]
  },
  {
   "cell_type": "code",
   "execution_count": 29,
   "id": "f2cc61fc-0bcb-4cd9-b352-e17e91c4e5a0",
   "metadata": {},
   "outputs": [
    {
     "data": {
      "text/plain": [
       "label\n",
       "0.0    2453\n",
       "1.0    4490\n",
       "2.0    4157\n",
       "3.0    5987\n",
       "Name: atom_id, dtype: int64"
      ]
     },
     "execution_count": 29,
     "metadata": {},
     "output_type": "execute_result"
    }
   ],
   "source": [
    "df.groupby('label')['atom_id'].nunique()"
   ]
  },
  {
   "cell_type": "code",
   "execution_count": null,
   "id": "6206376a-5b82-4f67-8440-5f8061511215",
   "metadata": {},
   "outputs": [],
   "source": []
  },
  {
   "cell_type": "markdown",
   "id": "8fc32d95-2f7c-4e38-a8b9-25a939b6048b",
   "metadata": {},
   "source": [
    "# train_test_split"
   ]
  },
  {
   "cell_type": "code",
   "execution_count": 30,
   "id": "bad7795a-941a-4d7f-bb6d-6d436932dd34",
   "metadata": {},
   "outputs": [],
   "source": [
    "def train_test_split(df,df2,look_back=3,loGraphID=3,user_count=4):\n",
    "    df=df[~df.correctBinary.isna()]\n",
    "    loFeatures=df[df.loGraphID==3].groupby('lo_difficulty')['difficulty'].mean().values.reshape(-1,1)\n",
    "    df=df[df.label==0]\n",
    "    users=df[df.loGraphID==loGraphID].user_id.sample(user_count).values\n",
    "    dfg=df[(df.loGraphID==loGraphID) & (df.user_id.isin(users)) ].reset_index(drop=True)\n",
    "    \n",
    "    dfg=dfg.sort_values(['user_id','interaction_end_time'])\n",
    "    atom_index={atom_id:i for i,atom_id  in  enumerate(dfg.atom_id.unique())}\n",
    "\n",
    "    dfg['atomIndex']=dfg.atom_id.map(atom_index)\n",
    "    \n",
    "    loEdgeMapping=df2[df2['graph_id']==loGraphID][['source_index','dest_index']]\n",
    "    lo_edges=loEdgeMapping.values.transpose()\n",
    "    \n",
    "    lo_map=pd.concat([df2[df2['graph_id']==loGraphID][['source_lo_title','source_index']].rename(columns={'source_lo_title':'learning_objective_name','source_index':'loIndex'}),\n",
    "                      df2[df2['graph_id']==loGraphID][['dest_lo_title','dest_index']].rename(columns={'dest_lo_title':'learning_objective_name','dest_index':'loIndex'})]).drop_duplicates().reset_index(drop=True)\n",
    "    \n",
    "    dfg['atomIndex']=dfg.atom_id.map(atom_index)\n",
    "    \n",
    "    dfg=dfg.merge(lo_map,on='learning_objective_name',how='left')\n",
    "    \n",
    "    \n",
    "    users_question_sequence_train_lists=[]\n",
    "    users_question_sequence_test_lists=[]\n",
    "    train_user_num=int(len(users)*.8)\n",
    "    for user_num,user in enumerate(users):\n",
    "        print(user)\n",
    "        question_sequence=dfg[dfg.user_id==user][['loIndex','atomIndex','correctBinary']].values.transpose()\n",
    "        question_sequence_len=question_sequence.shape[1]\n",
    "        if user_num <train_user_num:\n",
    "            users_question_sequence_train_lists.append(question_sequence)\n",
    "        else:\n",
    "            users_question_sequence_test_lists.append(question_sequence)\n",
    "    \n",
    "    lo_atom_edges_list=dfg.groupby(['loIndex','atomIndex']).count().index.to_list()\n",
    "    \n",
    "    #question_sequence_len=question_sequence.shape[1]\n",
    "    \n",
    "    \n",
    "    \n",
    "    l1,l2=zip(*lo_atom_edges_list)\n",
    "    \n",
    "    lo_atom_edges=np.array((list(l1),list(l2)))\n",
    " \n",
    "    atomFeatures=dfg.groupby('atomIndex')['difficulty'].mean().values.reshape(-1,1)\n",
    "    #loFeatures=np.zeros(31 ).reshape(-1,1)\n",
    "    \n",
    "    \n",
    "    data = HeteroData()\n",
    "\n",
    "    data['atom'].x=torch.tensor(atomFeatures.astype(np.float64)).float()\n",
    "   \n",
    "    data['lo'].x= torch.tensor(loFeatures.astype(np.float64)).float()\n",
    "    #data['lo'].x= nn.Embedding(31,10).float()\n",
    "    \n",
    "    \n",
    "    data['lo','lo_atom','atom'].edge_index=torch.from_numpy(lo_atom_edges).long()\n",
    "    data['lo','lo_lo','lo'].edge_index=torch.from_numpy(lo_edges).long()\n",
    "    \n",
    "    \n",
    "    \n",
    "    normalize=T.NormalizeFeatures()\n",
    "    graph=normalize(data)\n",
    "       \n",
    "    return graph,users_question_sequence_train_lists,users_question_sequence_test_lists,dfg"
   ]
  },
  {
   "cell_type": "code",
   "execution_count": 31,
   "id": "0c81a40b-aa0e-46f1-8203-d4dcd8977a4e",
   "metadata": {},
   "outputs": [],
   "source": [
    "def train_test_split(df,df2,look_back=3,loGraphID=3,user_count=10,batch_size=2):\n",
    "    df=df[~df.correctBinary.isna()]\n",
    "    loFeatures=df[df.loGraphID==3].groupby('lo_difficulty')['difficulty'].mean().values.reshape(-1,1)\n",
    "    df=df[df.label==0]\n",
    "    users=df[df.loGraphID==loGraphID].user_id.sample(user_count).values\n",
    "    dfg=df[(df.loGraphID==loGraphID) & (df.user_id.isin(users)) ].reset_index(drop=True)\n",
    "    \n",
    "    dfg=dfg.sort_values(['user_id','interaction_end_time'])\n",
    "    atom_index={atom_id:i for i,atom_id  in  enumerate(dfg.atom_id.unique())}\n",
    "\n",
    "    dfg['atomIndex']=dfg.atom_id.map(atom_index)\n",
    "    \n",
    "    loEdgeMapping=df2[df2['graph_id']==loGraphID][['source_index','dest_index']]\n",
    "    lo_edges=loEdgeMapping.values.transpose()\n",
    "    \n",
    "    lo_map=pd.concat([df2[df2['graph_id']==loGraphID][['source_lo_title','source_index']].rename(columns={'source_lo_title':'learning_objective_name','source_index':'loIndex'}),\n",
    "                      df2[df2['graph_id']==loGraphID][['dest_lo_title','dest_index']].rename(columns={'dest_lo_title':'learning_objective_name','dest_index':'loIndex'})]).drop_duplicates().reset_index(drop=True)\n",
    "    \n",
    "    dfg['atomIndex']=dfg.atom_id.map(atom_index)\n",
    "    \n",
    "    dfg=dfg.merge(lo_map,on='learning_objective_name',how='left')\n",
    "    \n",
    "    \n",
    "    users_question_sequence_train_lists=[]\n",
    "    users_question_sequence_test_lists=[]\n",
    "    train_user_num=int(len(users)*.95)\n",
    "    \n",
    "    train_users = users[:train_user_num] \n",
    "    test_users = users[train_user_num:]\n",
    "    \n",
    "    for i in range(0, train_user_num, batch_size):\n",
    "        \n",
    "        question_sequence=dfg[dfg.user_id.isin(train_users[i:i+batch_size])][['loIndex','atomIndex','correctBinary']].values.transpose()\n",
    "        question_sequence_len=question_sequence.shape[1]\n",
    "        users_question_sequence_train_lists.append(question_sequence)\n",
    "     \n",
    "    question_sequence=dfg[dfg.user_id.isin(test_users)][['loIndex','atomIndex','correctBinary']].values.transpose() \n",
    "    users_question_sequence_test_lists.append(question_sequence)   \n",
    "    \n",
    "    \n",
    "    \n",
    "    lo_atom_edges_list=dfg.groupby(['loIndex','atomIndex']).count().index.to_list()\n",
    "    \n",
    "    #question_sequence_len=question_sequence.shape[1]\n",
    "    \n",
    "    \n",
    "    \n",
    "    l1,l2=zip(*lo_atom_edges_list)\n",
    "    \n",
    "    lo_atom_edges=np.array((list(l1),list(l2)))\n",
    " \n",
    "    atomFeatures=dfg.groupby('atomIndex')['difficulty'].mean().values.reshape(-1,1)\n",
    "    #loFeatures=np.zeros(31 ).reshape(-1,1)\n",
    "    \n",
    "    \n",
    "    data = HeteroData()\n",
    "\n",
    "    data['atom'].x=torch.tensor(atomFeatures.astype(np.float64)).float()\n",
    "   \n",
    "    data['lo'].x= torch.tensor(loFeatures.astype(np.float64)).float()\n",
    "    #data['lo'].x= nn.Embedding(31,10).float()\n",
    "    \n",
    "    \n",
    "    data['lo','lo_atom','atom'].edge_index=torch.from_numpy(lo_atom_edges).long()\n",
    "    data['lo','lo_lo','lo'].edge_index=torch.from_numpy(lo_edges).long()\n",
    "    \n",
    "    \n",
    "    \n",
    "    normalize=T.NormalizeFeatures()\n",
    "    graph=normalize(data)\n",
    "       \n",
    "    return graph,users_question_sequence_train_lists,users_question_sequence_test_lists,dfg"
   ]
  },
  {
   "cell_type": "code",
   "execution_count": null,
   "id": "de0900b7-c81f-4b63-ae63-fd8efd31eb81",
   "metadata": {},
   "outputs": [],
   "source": []
  },
  {
   "cell_type": "code",
   "execution_count": null,
   "id": "1fff69b1-ea94-4d95-9a4a-972a9bc31b92",
   "metadata": {},
   "outputs": [],
   "source": []
  },
  {
   "cell_type": "markdown",
   "id": "ba4011e7-bac4-423c-a4c6-05f92b64ae27",
   "metadata": {
    "tags": []
   },
   "source": [
    "### balanced users \n",
    "b2183f14-2da0-4ee5-ab2e-fa27c223e03a \n",
    "\n",
    "\n",
    "\n",
    "\n",
    "a2eb5835-17d2-4f78-8621-b6643289eae9\n",
    "\n",
    "\n",
    "a5fbbfd0-b7eb-45c9-9948-265c813b9ed1\n",
    "\n",
    "\n",
    "85629129-9333-4ee5-866f-6a9be8769c82"
   ]
  },
  {
   "cell_type": "code",
   "execution_count": 32,
   "id": "e12543e0-b68e-411f-a961-9981d8b62a70",
   "metadata": {},
   "outputs": [],
   "source": [
    "hidden_channels=64\n",
    "final_layer_dim=hidden_channels/4\n",
    "class GNN(torch.nn.Module):\n",
    "    def __init__(self):\n",
    "        super().__init__()\n",
    "        self.conv1 = SAGEConv((-1, -1), hidden_channels,requires_grad=True)\n",
    "        self.actfn1=nn.ReLU()\n",
    "        \n",
    "        self.conv2 = SAGEConv((-1, -1),int( hidden_channels/2),requires_grad=True)\n",
    "        self.actfn2=nn.ReLU()\n",
    "        \n",
    "        self.conv3 = SAGEConv((-1, -1),int( final_layer_dim),requires_grad=True)\n",
    "        self.actfn3=nn.ReLU()\n",
    "        \n",
    "        self.conv4 = SAGEConv((-1, -1),int( hidden_channels/8),requires_grad=True)\n",
    "        self.actfn4=nn.ReLU()\n",
    "        \n",
    "        \n",
    "        self.sigmoid= nn.Sigmoid()\n",
    "\n",
    "    def forward(self, x, edge_index):\n",
    "        \n",
    "        x = self.actfn1(self.conv1(x, edge_index))\n",
    "        #x= F.dropout(x,p=.5,training=self.training)\n",
    "        \n",
    "        x = self.actfn2(self.conv2(x, edge_index))\n",
    "        #x= F.dropout(x,p=.7,training=self.training)\n",
    "        \n",
    "        x = self.actfn3(self.conv3(x, edge_index))\n",
    "        \n",
    "  \n",
    "        return x"
   ]
  },
  {
   "cell_type": "code",
   "execution_count": 33,
   "id": "63d8dc5b-d31d-4e33-8c87-d6a7f13072ed",
   "metadata": {},
   "outputs": [],
   "source": [
    "lookback=6\n",
    "hidden_channels1=int((final_layer_dim)*2*(lookback+1)+(lookback+1))\n",
    "\n",
    "out_channels=1\n",
    "class Classifer(torch.nn.Module):\n",
    "    def __init__(self):\n",
    "        super().__init__()\n",
    "\n",
    "        self.ins=nn.Linear(hidden_channels1,10)\n",
    "        self.actfn1=nn.ReLU()\n",
    "        \n",
    "        self.ins2=nn.Linear(10,5)\n",
    "        self.actfn2=nn.ReLU()\n",
    "        \n",
    "        self.out=nn.Linear(5,1)\n",
    "        self.actfn3=nn.Sigmoid()\n",
    "        \n",
    "    def forward(self, x):\n",
    "        \n",
    "        x= self.actfn1 (self.ins(x))\n",
    "        #x= F.dropout(x,p=.7,training=self.training)\n",
    "        \n",
    "        x= self.actfn2 (self.ins2(x))\n",
    "        #x= F.dropout(x,p=.7,training=self.training)\n",
    "        \n",
    "        out=self.actfn3(self.out(x))\n",
    "        \n",
    "        \n",
    "        return out"
   ]
  },
  {
   "cell_type": "code",
   "execution_count": null,
   "id": "312aad5c-15c5-422b-87ad-6ba9cd397d3d",
   "metadata": {},
   "outputs": [],
   "source": []
  },
  {
   "cell_type": "code",
   "execution_count": 34,
   "id": "eaad99d6-5f8f-4dcf-9a31-c5dfc1cb2601",
   "metadata": {},
   "outputs": [],
   "source": [
    "class GNN_Classifier(nn.Module):\n",
    "    def __init__(self):\n",
    "        super(GNN_Classifier, self).__init__()\n",
    "        \n",
    "        self.model_embedding=GNN()\n",
    "        self.model_embedding = to_hetero(self.model_embedding, data.metadata(),aggr='max')\n",
    "        self.classifer = Classifer()\n",
    "\n",
    "    def forward(self, x,edges,lookback,question_sequence):\n",
    "        question_sequence_len=question_sequence.shape[1]\n",
    "        node_embeddings = self.model_embedding(x,edges)\n",
    "        \n",
    "        stacked_sample_features=[]\n",
    "        \n",
    "        for question_num in range(lookback,question_sequence_len):\n",
    "            features_concat_list=[]\n",
    "            \n",
    "            for i in range(lookback+1):\n",
    "\n",
    "                lo=question_sequence[0][question_num-i]\n",
    "                atom=question_sequence[1][question_num-i]\n",
    "                prev_answer=torch.tensor([question_sequence[2][question_num-1-i]]).float()\n",
    "                \n",
    "                features_concat_list.extend([node_embeddings['atom'][atom]])\n",
    "                features_concat_list.extend([node_embeddings['lo'][lo]])\n",
    "                features_concat_list.extend([prev_answer])\n",
    "                   \n",
    "            user_embeddings=torch.cat(features_concat_list)\n",
    "            \n",
    "            stacked_sample_features.append(user_embeddings)\n",
    "            \n",
    "        stacked_sample_features= torch.stack( stacked_sample_features  )  \n",
    "        \n",
    "        \n",
    "        rnn_outputs = self.classifer(stacked_sample_features)\n",
    "    \n",
    "        return rnn_outputs"
   ]
  },
  {
   "cell_type": "code",
   "execution_count": 125,
   "id": "2a4e7051-3095-4214-9b92-d5fa51118ba8",
   "metadata": {},
   "outputs": [
    {
     "data": {
      "text/plain": [
       "(3213, 22)"
      ]
     },
     "execution_count": 125,
     "metadata": {},
     "output_type": "execute_result"
    }
   ],
   "source": [
    "user_count=10\n",
    "data,users_question_sequence_train_lists,users_question_sequence_test_lists,dfg=train_test_split(df,df2,user_count=user_count,look_back=lookback,batch_size=5)\n",
    "dfg.shape"
   ]
  },
  {
   "cell_type": "code",
   "execution_count": null,
   "id": "6d2277b7-3f41-454f-8b11-4396dda19e3b",
   "metadata": {},
   "outputs": [],
   "source": []
  },
  {
   "cell_type": "code",
   "execution_count": 126,
   "id": "5389412e-6d2c-4d06-b7e2-33d5b6153152",
   "metadata": {},
   "outputs": [],
   "source": [
    "test_sequnce_len=sum([test_user.shape[1] for test_user in users_question_sequence_test_lists])\n",
    "train_sequnce_len=sum([test_user.shape[1] for test_user in users_question_sequence_train_lists])"
   ]
  },
  {
   "cell_type": "code",
   "execution_count": 127,
   "id": "0d319fa6-d6b7-4144-8d89-b103eff0cdac",
   "metadata": {
    "tags": []
   },
   "outputs": [],
   "source": [
    "target_answer_list=[]\n",
    "for i in users_question_sequence_train_lists:\n",
    "    target_answer_list.extend(i[2][lookback:].tolist())\n",
    "\n",
    "target_test_answer_list=[]\n",
    "for i in users_question_sequence_test_lists:\n",
    "    target_test_answer_list.extend(i[2][lookback:].tolist())"
   ]
  },
  {
   "cell_type": "code",
   "execution_count": null,
   "id": "338a1579-2506-44e3-aeb9-a5f2f2f69f63",
   "metadata": {},
   "outputs": [],
   "source": []
  },
  {
   "cell_type": "code",
   "execution_count": 128,
   "id": "ac4d4d6c-9ee9-4a30-8bc0-f2fee295fdea",
   "metadata": {},
   "outputs": [],
   "source": [
    "def test(model):\n",
    "    with torch.no_grad():\n",
    "        test_accuracy=[]\n",
    "        test_pred_prob = []\n",
    "        test_loss= 0\n",
    "        for user_count,question_sequence in enumerate(users_question_sequence_test_lists):\n",
    "            question_sequence_len=question_sequence.shape[1]\n",
    "            optimizer.zero_grad()   \n",
    "            \n",
    "            out=model(data.x_dict, data.edge_index_dict,lookback,question_sequence) \n",
    "            target_answers=torch.tensor([question_sequence[2][lookback:]],dtype=torch.float).view(-1,1).float()\n",
    "            loss=F.binary_cross_entropy(out,target_answers)\n",
    "            test_loss =  test_loss + loss.item()\n",
    "            \n",
    "            accuracy =(out.view(1,-1)[0].detach().round() ==  target_answers.view(1,-1)[0])*1\n",
    "            test_accuracy.extend(accuracy)\n",
    "            \n",
    "            test_pred_prob.extend(out.view(1,-1)[0].detach().tolist())\n",
    "            \n",
    "        roc_auc=roc_auc_score(target_test_answer_list,test_pred_prob)\n",
    "        perfomance=f'Test student {user_count+1} | loss {test_loss/test_sequnce_len :.5f} | accuracy {np.mean(test_accuracy) :.3f} | roc_auc {roc_auc :.3f} \\n'\n",
    "        \n",
    "        return loss.item()/test_sequnce_len ,perfomance\n",
    "                \n"
   ]
  },
  {
   "cell_type": "code",
   "execution_count": 129,
   "id": "12904345-36f6-46a1-8687-189d1e9fdeaa",
   "metadata": {
    "tags": []
   },
   "outputs": [
    {
     "name": "stdout",
     "output_type": "stream",
     "text": [
      "Train epoch_num 1 | loss 0.00047 | accuracy 0.486 | roc_auc 0.501 \n",
      "Test student 1 | loss 0.00249 | accuracy 0.485 | roc_auc 0.488 \n",
      "\n",
      "\n",
      "\n",
      "Train epoch_num 2 | loss 0.00047 | accuracy 0.540 | roc_auc 0.540 \n",
      "Test student 1 | loss 0.00249 | accuracy 0.471 | roc_auc 0.519 \n",
      "\n",
      "\n",
      "\n",
      "Train epoch_num 3 | loss 0.00047 | accuracy 0.535 | roc_auc 0.553 \n",
      "Test student 1 | loss 0.00249 | accuracy 0.482 | roc_auc 0.535 \n",
      "\n",
      "\n",
      "\n",
      "Train epoch_num 4 | loss 0.00047 | accuracy 0.536 | roc_auc 0.562 \n",
      "Test student 1 | loss 0.00249 | accuracy 0.485 | roc_auc 0.543 \n",
      "\n",
      "\n",
      "\n",
      "Train epoch_num 5 | loss 0.00047 | accuracy 0.535 | roc_auc 0.571 \n",
      "Test student 1 | loss 0.00249 | accuracy 0.504 | roc_auc 0.553 \n",
      "\n",
      "\n",
      "\n",
      "Train epoch_num 6 | loss 0.00047 | accuracy 0.541 | roc_auc 0.581 \n",
      "Test student 1 | loss 0.00249 | accuracy 0.533 | roc_auc 0.565 \n",
      "\n",
      "\n",
      "\n",
      "Train epoch_num 7 | loss 0.00047 | accuracy 0.548 | roc_auc 0.586 \n",
      "Test student 1 | loss 0.00249 | accuracy 0.522 | roc_auc 0.578 \n",
      "\n",
      "\n",
      "\n",
      "Train epoch_num 8 | loss 0.00047 | accuracy 0.553 | roc_auc 0.590 \n",
      "Test student 1 | loss 0.00248 | accuracy 0.533 | roc_auc 0.584 \n",
      "\n",
      "\n",
      "\n",
      "Train epoch_num 9 | loss 0.00047 | accuracy 0.558 | roc_auc 0.593 \n",
      "Test student 1 | loss 0.00248 | accuracy 0.533 | roc_auc 0.589 \n",
      "\n",
      "\n",
      "\n",
      "Train epoch_num 10 | loss 0.00047 | accuracy 0.556 | roc_auc 0.595 \n",
      "Test student 1 | loss 0.00248 | accuracy 0.548 | roc_auc 0.592 \n",
      "\n",
      "\n",
      "\n"
     ]
    }
   ],
   "source": [
    "\n",
    "model=GNN_Classifier()\n",
    "learning_rate=0.001\n",
    "optimizer=torch.optim.Adam(model.parameters(),lr=learning_rate,weight_decay=5e-10)\n",
    "criterion=torch.nn.BCELoss()\n",
    "best_score=0\n",
    "\n",
    "test_lost_list = []\n",
    "train_lost_list = []\n",
    "print_size=1\n",
    "model.train() \n",
    "for epoch_num in range(10):\n",
    "    epoch_accuracy = []\n",
    "    epoch_pred_prob = []\n",
    "    epoch_loss= 0\n",
    "    \n",
    "    for user_count,question_sequence in enumerate(users_question_sequence_train_lists):\n",
    "        question_sequence_len=question_sequence.shape[1]\n",
    "        optimizer.zero_grad()   \n",
    "\n",
    "        out=model(data.x_dict, data.edge_index_dict,lookback,question_sequence) \n",
    "        target_answers=torch.tensor([question_sequence[2][lookback:]],dtype=torch.float).view(-1,1).float()\n",
    "        loss=F.binary_cross_entropy(out,target_answers)\n",
    "        loss.backward()\n",
    "        optimizer.step()\n",
    "        \n",
    "        accuracy =(out.view(1,-1)[0].detach().round() ==  target_answers.view(1,-1)[0])*1\n",
    "        \n",
    "        train_loss = loss.item()\n",
    "        epoch_loss =  epoch_loss + train_loss\n",
    "        epoch_accuracy.extend(accuracy)\n",
    "        epoch_pred_prob.extend(out.view(1,-1)[0].detach().tolist())\n",
    "        \n",
    "        test_loss,test_peformance=test(model)\n",
    "        \n",
    "        \n",
    "        \n",
    "    if (epoch_num+1)%print_size==0:\n",
    "        epoch_loss =epoch_loss\n",
    "        epoch_mean_acc = np.mean(epoch_accuracy)\n",
    "        \n",
    "        roc_auc=roc_auc_score(target_answer_list,epoch_pred_prob)\n",
    "        \n",
    "        print(f'Train epoch_num {epoch_num+1} | loss { epoch_loss/train_sequnce_len :.5f} | accuracy {epoch_mean_acc :.3f} | roc_auc {roc_auc :.3f} ')\n",
    "        \n",
    "        print(test_peformance)\n",
    "        print('\\n')\n",
    "        \n",
    "    test_lost_list.append(test_loss)\n",
    "    train_lost_list.append(epoch_loss/train_sequnce_len)\n",
    "\n",
    "    \n",
    "            "
   ]
  },
  {
   "cell_type": "code",
   "execution_count": 94,
   "id": "dd311f19-aa7a-40d7-8727-c0d7bd7dd0fd",
   "metadata": {},
   "outputs": [
    {
     "data": {
      "text/plain": [
       "<matplotlib.legend.Legend at 0x17aa4e9dd60>"
      ]
     },
     "execution_count": 94,
     "metadata": {},
     "output_type": "execute_result"
    },
    {
     "data": {
      "image/png": "[encoded data removed]",
      "text/plain": [
       "<Figure size 640x480 with 1 Axes>"
      ]
     },
     "metadata": {},
     "output_type": "display_data"
    }
   ],
   "source": [
    "plt.plot(test_lost_list, label='test')\n",
    "plt.plot(train_lost_list,  label ='train')\n",
    "plt.legend()"
   ]
  },
  {
   "cell_type": "code",
   "execution_count": null,
   "id": "715e3d7d-abd9-414a-a7d8-efe912c693fc",
   "metadata": {},
   "outputs": [],
   "source": []
  },
  {
   "cell_type": "code",
   "execution_count": null,
   "id": "385f07aa-7d19-4735-a9a5-4fd8427ddc0d",
   "metadata": {},
   "outputs": [],
   "source": []
  },
  {
   "cell_type": "code",
   "execution_count": 452,
   "id": "f260fbf7-68a7-41d1-b04a-8b21b2e02261",
   "metadata": {},
   "outputs": [
    {
     "data": {
      "text/plain": [
       "'epoch 0 | loss 0.68002 | accuracy 0.48366 | auc 0.42483'"
      ]
     },
     "execution_count": 452,
     "metadata": {},
     "output_type": "execute_result"
    }
   ],
   "source": [
    "performance"
   ]
  },
  {
   "cell_type": "code",
   "execution_count": 453,
   "id": "46860415-3801-4b79-b79e-c78755d6adc7",
   "metadata": {},
   "outputs": [
    {
     "data": {
      "text/plain": [
       "[<matplotlib.lines.Line2D at 0x27d56d090d0>]"
      ]
     },
     "execution_count": 453,
     "metadata": {},
     "output_type": "execute_result"
    },
    {
     "data": {
      "image/png": "[encoded data removed]",
      "text/plain": [
       "<Figure size 1000x700 with 1 Axes>"
      ]
     },
     "metadata": {},
     "output_type": "display_data"
    }
   ],
   "source": [
    "plt.figure(figsize=(10,7))\n",
    "mvg_steps=question_sequence_len\n",
    "\n",
    "#for i in range(len(loss_list)-mvg_steps):\n",
    "#    loss_moving_avg.append(np.mean(loss_list[mvg_steps*i:(i+1)*mvg_steps]))\n",
    "plt.grid()\n",
    "#plt.plot(loss_list)\n",
    "plt.plot(loss_moving_avg)\n"
   ]
  },
  {
   "cell_type": "code",
   "execution_count": null,
   "id": "e5600ab9-341e-4e8a-a0be-2ae4a82e5845",
   "metadata": {
    "tags": []
   },
   "outputs": [],
   "source": []
  },
  {
   "cell_type": "code",
   "execution_count": null,
   "id": "afcc3909-c3a8-4e9b-b3be-6bade19f0e5a",
   "metadata": {},
   "outputs": [],
   "source": [
    "len(user_embedings)"
   ]
  },
  {
   "cell_type": "code",
   "execution_count": null,
   "id": "532a466a-11b2-432d-89bd-1a92248d66d1",
   "metadata": {},
   "outputs": [],
   "source": [
    "user_embedings[0][0].shape"
   ]
  },
  {
   "cell_type": "code",
   "execution_count": null,
   "id": "ff7f3447-74ff-465a-a883-6ebbf76ce646",
   "metadata": {},
   "outputs": [],
   "source": [
    "node_embeddings=[i[0] for i in user_embedings]\n",
    "\n",
    "nodes=torch.stack(node_embeddings).detach().numpy()\n",
    "\n",
    "nodesDf=pd.DataFrame(nodes[-question_sequence_len:])\n",
    "\n",
    "pca = PCA(n_components=3)\n",
    "components = pca.fit_transform(nodesDf)\n",
    "\n",
    "#pcadf=pd.DataFrame({'f1':components[:,0],'f2':components[:,1]})\n",
    "pcadf=pd.DataFrame({ 'f'+str(i):components[:,i]  for i in  range(components.shape[1]) })\n",
    "\n",
    "answersdf=pd.DataFrame({'atom':question_sequence[1][lookback:],'answer':question_sequence[2][lookback:]})\n",
    "\n",
    "pcadf=pcadf.reset_index().rename(columns={'index':'atom'})\n",
    "\n",
    "answersdffea=answersdf.merge(pcadf,on='atom',how='left')\n",
    "\n",
    "sns.pairplot(answersdffea,hue='answer')"
   ]
  },
  {
   "cell_type": "code",
   "execution_count": 130,
   "id": "dfc997db-b304-4a42-b0e3-c5b59648f8ac",
   "metadata": {},
   "outputs": [],
   "source": [
    "hidden_channels=64\n",
    "final_layer_dim=hidden_channels/4\n",
    "class GNN_Lstm(torch.nn.Module):\n",
    "    def __init__(self):\n",
    "        super().__init__()\n",
    "        self.conv1 = SAGEConv((-1, -1), hidden_channels,requires_grad=True)\n",
    "        self.actfn1=nn.ReLU()\n",
    "        \n",
    "        self.conv2 = SAGEConv((-1, -1),int( hidden_channels/2),requires_grad=True)\n",
    "        self.actfn2=nn.ReLU()\n",
    "        \n",
    "        self.conv3 = SAGEConv((-1, -1),int( final_layer_dim),requires_grad=True)\n",
    "        self.actfn3=nn.ReLU()\n",
    "        \n",
    "        self.conv4 = SAGEConv((-1, -1),int( hidden_channels/8),requires_grad=True)\n",
    "        self.actfn4=nn.ReLU()\n",
    "        \n",
    "        \n",
    "        self.sigmoid= nn.Sigmoid()\n",
    "\n",
    "    def forward(self, x, edge_index):\n",
    "        \n",
    "        x = self.actfn1(self.conv1(x, edge_index))\n",
    "        #x= F.dropout(x,p=.5,training=self.training)\n",
    "        \n",
    "        x = self.actfn2(self.conv2(x, edge_index))\n",
    "        #x= F.dropout(x,p=.7,training=self.training)\n",
    "        \n",
    "        x = self.actfn3(self.conv3(x, edge_index))\n",
    "        \n",
    "        #out = self.actfn4(self.conv4(x, edge_index))\n",
    "        \n",
    "        #out= F.dropout(x,p=.7,training=self.training)\n",
    "        #pool={key: gmp(out[key].x, out[key].batch) for key in out.node_types}\n",
    "        #out=self.sigmoid( self.out(x))\n",
    "        #ic(pool)\n",
    "        \n",
    "        #pool=gmp(out)\n",
    "        return x"
   ]
  },
  {
   "cell_type": "code",
   "execution_count": 131,
   "id": "2d97bfc9-0746-48ed-8cef-0740d9a70ab8",
   "metadata": {},
   "outputs": [],
   "source": [
    "lookback=3\n",
    "input_size=33\n",
    "out_channels=1\n",
    "num_layers=1\n",
    "hidden_size=20\n",
    "class Classifer_Lstm(nn.Module):\n",
    "    \n",
    "    def __init__(self ):\n",
    "        super().__init__()\n",
    "        self.num_layers = num_layers # number of recurrent layers in the lstm\n",
    "        self.input_size = input_size # input size\n",
    "        self.hidden_size = hidden_size # neurons in each lstm layer\n",
    "        self.sigmoid=nn.Sigmoid()\n",
    "        \n",
    "        self.lstm = nn.LSTM(\n",
    "            input_size=self.input_size ,\n",
    "            hidden_size=self.hidden_size,\n",
    "            num_layers=self.num_layers,\n",
    "            batch_first=True\n",
    "        )\n",
    "        self.fc = nn.Linear(hidden_size, 1)\n",
    "        \n",
    "    def forward(self,x):\n",
    "        #print(x.shape)\n",
    "        h0 = torch.zeros(self.num_layers, 1, self.hidden_size).requires_grad_()\n",
    "        # Initialize long-term memory\n",
    "        c0 = torch.zeros(self.num_layers, 1, self.hidden_size).requires_grad_()\n",
    "        # Pass all inputs to lstm layer\n",
    "        out, _ = self.lstm(x, (h0, c0))\n",
    "        #print(out.shape)\n",
    "        out = self.sigmoid(self.fc(out[:, -1, :]))\n",
    "        \n",
    "        return out"
   ]
  },
  {
   "cell_type": "code",
   "execution_count": 132,
   "id": "b476d2d3-ecb5-41fe-b7ea-589cdae20e95",
   "metadata": {},
   "outputs": [],
   "source": [
    "class GNN_LSTM_Classifier(nn.Module):\n",
    "    def __init__(self):\n",
    "        super(GNN_LSTM_Classifier, self).__init__()\n",
    "        \n",
    "        self.model_embedding=GNN_Lstm()\n",
    "        self.model_embedding = to_hetero(self.model_embedding, data.metadata(),aggr='max')\n",
    "        self.classifer = Classifer_Lstm()\n",
    "        #lo,atom,prev_answer,prev_lo,prev_atom,prev_answer1,prev_lo1,prev_atom1\n",
    "    def forward(self, x,edges,batch_num,lookback,question_sequence):\n",
    "        node_embeddings = self.model_embedding(x,edges)\n",
    "        rnn_input_list=[]\n",
    "        #features_concat_list=[]\n",
    "        \n",
    "        for i in range(lookback+1):\n",
    "            \n",
    "            #print([i,batch_num-i])\n",
    "            lo=question_sequence[0][batch_num-i]\n",
    "            atom=question_sequence[1][batch_num-i]\n",
    "            prev_answer=torch.tensor([question_sequence[2][batch_num-1-i]]).float()\n",
    "\n",
    "            features_concat=torch.cat([node_embeddings['atom'][atom],node_embeddings['lo'][lo],prev_answer])\n",
    "            rnn_input_list.append(features_concat)\n",
    "        \n",
    "                                         \n",
    "            \n",
    "        #user_embeddings=torch.cat([node_embeddings['atom'][atom] , node_embeddings['lo'][lo],prev_answer,node_embeddings['atom'][prev_atom] , node_embeddings['lo'][prev_lo],prev_answer1,node_embeddings['atom'][prev_atom1] , node_embeddings['lo'][prev_lo1]])  \n",
    "       \n",
    "        rnn_input_stacked=torch.stack(rnn_input_list).view(1,lookback+1,features_concat.shape[0])\n",
    "\n",
    "        rnn_outputs = self.classifer(rnn_input_stacked)\n",
    "    \n",
    "        return rnn_outputs,node_embeddings"
   ]
  },
  {
   "cell_type": "code",
   "execution_count": null,
   "id": "8fbbb70b-25db-4319-aca0-64ea2315b624",
   "metadata": {},
   "outputs": [],
   "source": []
  },
  {
   "cell_type": "code",
   "execution_count": null,
   "id": "d22b4533-e393-4d87-8758-6f76700e7bf2",
   "metadata": {
    "tags": []
   },
   "outputs": [
    {
     "name": "stdout",
     "output_type": "stream",
     "text": [
      "epoch 0 | batch 1 | batch loss 0.69310\n",
      "epoch 0 | batch 2 | batch loss 0.69107\n",
      "---------------------------------------------------------\n",
      "epoch 0 | loss 0.69198 | accuracy 0.52748 | auc 0.52745 \n",
      "\n",
      "epoch 1 | batch 1 | batch loss 0.69188\n",
      "epoch 1 | batch 2 | batch loss 0.68829\n",
      "---------------------------------------------------------\n",
      "epoch 1 | loss 0.68991 | accuracy 0.52817 | auc 0.53580 \n",
      "\n"
     ]
    }
   ],
   "source": [
    "training_size=sum([users_question_sequence_train_lists[i].shape[1] for i in range(len(users_question_sequence_train_lists))])\n",
    "\n",
    "model=GNN_LSTM_Classifier()\n",
    "learning_rate=0.001\n",
    "optimizer=torch.optim.Adam(model.parameters(),lr=learning_rate,weight_decay=5e-12)\n",
    "criterion=torch.nn.BCELoss()\n",
    "#criterion=F.binary_cross_entropy\n",
    "train_acc_mean_list=[]\n",
    "test_acc_mean_list=[]\n",
    "loss_list=[]\n",
    "accuracy_list=[]\n",
    "best_score=0\n",
    "\n",
    "torch.manual_seed(42)\n",
    "loss_moving_avg=[]\n",
    "user_embedings=[]\n",
    "for epoch_num in range(1):\n",
    "    epoch_accuracy=[]\n",
    "    out_list=[]\n",
    "    total_loss=0\n",
    "    \n",
    "    prob=[]\n",
    "    target=[]\n",
    "    for user_count,question_sequence in enumerate(users_question_sequence_train_lists):\n",
    "        question_sequence_len=question_sequence.shape[1]\n",
    "        batch_loss=0\n",
    "        for  batch_num in range(lookback,question_sequence_len):\n",
    "\n",
    "            model.train()\n",
    "\n",
    "            optimizer.zero_grad()   \n",
    "            #x_dict = {key: gmp(batch[key].x, batch[key].batch) for key in batch.node_types}\n",
    "\n",
    "\n",
    "            answer=torch.tensor([question_sequence[2][batch_num]]).float()\n",
    "\n",
    "\n",
    "            out,node_embeddings=model(data.x_dict, data.edge_index_dict,batch_num,lookback,question_sequence) \n",
    "\n",
    "            loss=F.binary_cross_entropy(out.view(1),answer)\n",
    "            loss.backward()\n",
    "            optimizer.step()\n",
    "\n",
    "            loss_list.append(loss.item())\n",
    "            total_loss=total_loss+loss.item()\n",
    "            train_correct=out.round()==answer\n",
    "\n",
    "            train_acc=train_correct*1\n",
    "            accuracy=(train_correct*1).item()\n",
    "            epoch_accuracy.append(accuracy)\n",
    "            #accuracy_list.append(accuracy)\n",
    "            prob.append(out.item())\n",
    "            target.append(answer.item())\n",
    "            batch_loss=batch_loss+loss.item()\n",
    "        print('epoch {} | batch {} | batch loss {:.5f}'.format(epoch_num,user_count+1,batch_loss/question_sequence_len))\n",
    "    \n",
    "    performance='epoch {} | loss {:.5f} | accuracy {:.5f} | auc {:.5f} \\n'.format(epoch_num,total_loss/(training_size),np.mean(epoch_accuracy),roc_auc_score(np.array(target),prob))\n",
    "    print('-'*len(performance))\n",
    "    print(performance)\n",
    "    \n",
    "    loss_moving_avg.append(total_loss/(batch_num+1))\n",
    "        "
   ]
  },
  {
   "cell_type": "code",
   "execution_count": null,
   "id": "324efde4-a249-4334-a764-0d0329a18c99",
   "metadata": {},
   "outputs": [],
   "source": [
    "\n",
    "with torch.no_grad():\n",
    "   \n",
    "    for user_count,question_sequence in enumerate(users_question_sequence_test_lists):\n",
    "            question_sequence_len=question_sequence.shape[1]\n",
    "            batch_accuracy=[]\n",
    "            batch_target=[]\n",
    "            batch_prob=[]\n",
    "            for  batch_num in range(lookback,question_sequence_len):\n",
    "\n",
    "                model.eval()\n",
    "                answer=torch.tensor([question_sequence[2][batch_num]]).float()\n",
    "\n",
    "                out,node_embeddings=model(data.x_dict, data.edge_index_dict,batch_num,lookback,question_sequence) \n",
    "\n",
    "                train_correct=out.round()==answer\n",
    "\n",
    "                train_acc=train_correct*1\n",
    "                accuracy=(train_correct*1).item()\n",
    "                epoch_accuracy.append(accuracy)\n",
    "                prob.append(out.item())\n",
    "                target.append(answer.item())\n",
    "                batch_target.append(answer.item())\n",
    "                batch_prob.append(out.item() )\n",
    "                batch_accuracy.append(accuracy)\n",
    "            batch_performance='accuracy {:.5f} | auc {:.5f} \\n'.format(np.mean(batch_accuracy),roc_auc_score(np.array(batch_target),batch_prob))\n",
    "                \n",
    "            print(batch_performance)\n",
    "      \n",
    "    performance='accuracy {:.5f} | auc {:.5f} \\n'.format(np.mean(epoch_accuracy),roc_auc_score(np.array(target),prob))\n",
    "    print('-'*len(performance))\n",
    "    print(performance)\n"
   ]
  },
  {
   "cell_type": "code",
   "execution_count": null,
   "id": "dc3bd0c1-c7ee-4090-b7fc-d16f7923749a",
   "metadata": {},
   "outputs": [],
   "source": [
    "plt.figure(figsize=(10,7))\n",
    "mvg_steps=question_sequence_len\n",
    "\n",
    "#for i in range(len(loss_list)-mvg_steps):\n",
    "#    loss_moving_avg.append(np.mean(loss_list[mvg_steps*i:(i+1)*mvg_steps]))\n",
    "plt.grid()\n",
    "#plt.plot(loss_list)\n",
    "plt.plot(loss_moving_avg)\n"
   ]
  },
  {
   "cell_type": "code",
   "execution_count": null,
   "id": "b993fedf-c6c4-445f-b404-660e6997b5ea",
   "metadata": {},
   "outputs": [],
   "source": []
  },
  {
   "cell_type": "code",
   "execution_count": null,
   "id": "843473a3-f1ff-406c-8423-0eadc8fdc543",
   "metadata": {},
   "outputs": [],
   "source": [
    "atoms=node_embeddings['atom'].detach().numpy()\n",
    "pca = PCA(n_components=3)\n",
    "components = pca.fit_transform(atoms)\n",
    "plt.scatter(components[:,0],components[:,1])"
   ]
  },
  {
   "cell_type": "code",
   "execution_count": null,
   "id": "10e882bf-5f69-4253-be52-86c2376150ff",
   "metadata": {},
   "outputs": [],
   "source": [
    "los=node_embeddings['lo'].detach().numpy()\n",
    "pca = PCA(n_components=3)\n",
    "components1 = pca.fit_transform(los)\n"
   ]
  },
  {
   "cell_type": "code",
   "execution_count": null,
   "id": "d2562a82-f80a-4bfe-b340-c2dea4b57edc",
   "metadata": {},
   "outputs": [],
   "source": [
    "fig = plt.figure(figsize=(10,7))\n",
    "ax = plt.axes(projection='3d')\n",
    "\n",
    "ax.scatter(components[:,0], components[:,1], components[:,2]);\n",
    "ax.scatter(components1[:,0], components1[:,1], components1[:,2] );"
   ]
  },
  {
   "cell_type": "code",
   "execution_count": null,
   "id": "3234ff95-a100-4316-b740-72c5ec0c0e72",
   "metadata": {},
   "outputs": [],
   "source": [
    "seq_features=[]\n",
    "for i in range(3,question_sequence_len):\n",
    "    seq_features.append(torch.cat([node_embeddings['atom'][question_sequence[1][i]].detach(),\n",
    "                                   #node_embeddings['lo'][question_sequence[0][i]].detach(),\n",
    "                                   #torch.tensor([question_sequence[-1][i-1]]),\n",
    "                                   \n",
    "                                    node_embeddings['atom'][question_sequence[1][i-1]].detach(),\n",
    "                                   #node_embeddings['lo'][question_sequence[0][i-1]].detach(),\n",
    "                                   #torch.tensor([question_sequence[-1][i-2]]),\n",
    "                                   \n",
    "                                    node_embeddings['atom'][question_sequence[1][i-2]].detach(),\n",
    "                                   #node_embeddings['lo'][question_sequence[0][i-2]].detach(),\n",
    "                                   #torch.tensor([question_sequence[-1][i-3]])\n",
    "                                  \n",
    "                                  \n",
    "                                  ]).numpy())"
   ]
  },
  {
   "cell_type": "code",
   "execution_count": null,
   "id": "ac20eb1d-b0f0-45b8-bc4d-16aca0e02bb9",
   "metadata": {},
   "outputs": [],
   "source": []
  },
  {
   "cell_type": "code",
   "execution_count": null,
   "id": "236550f2-a7da-457f-9db6-e5817543d37c",
   "metadata": {},
   "outputs": [],
   "source": [
    "\n",
    "#first_user_sq_length=dfg[dfg.user_id==dfg.user_id.unique()[0]].shape[0]\n",
    "first_user_sq_length=0\n",
    "second_user_sq_length=dfg[dfg.user_id==dfg.user_id.unique()[1]].shape[0]"
   ]
  },
  {
   "cell_type": "code",
   "execution_count": null,
   "id": "eda77e96-6bea-43a0-aa7e-06898d7e607b",
   "metadata": {},
   "outputs": [],
   "source": [
    "np.stack(seq_features ).shape"
   ]
  },
  {
   "cell_type": "code",
   "execution_count": null,
   "id": "effe6527-ffc4-4aed-a447-4c1a85c46d28",
   "metadata": {},
   "outputs": [],
   "source": [
    "pca = PCA(n_components=3)\n",
    "components2 = pca.fit_transform(np.stack(seq_features ) )\n",
    "                            #[first_user_sq_length:first_user_sq_length+second_user_sq_length])\n"
   ]
  },
  {
   "cell_type": "code",
   "execution_count": null,
   "id": "31778c93-9387-4938-ae1b-cecc744b7cc5",
   "metadata": {},
   "outputs": [],
   "source": [
    "question_sequence[-1][3:first_user_sq_length+3].shape"
   ]
  },
  {
   "cell_type": "code",
   "execution_count": null,
   "id": "12c0ede2-34eb-43ff-b7aa-11d847d7268f",
   "metadata": {},
   "outputs": [],
   "source": [
    "components2.shape"
   ]
  },
  {
   "cell_type": "code",
   "execution_count": null,
   "id": "7d9f3983-d92e-4d12-95a3-99fbd34dadde",
   "metadata": {},
   "outputs": [],
   "source": [
    "pcadf=pd.DataFrame({ 'f'+str(i):components2[:,i]  for i in  range(components2.shape[1]) })\n",
    "\n",
    "\n",
    "pcadf['answers']=question_sequence[-1][3:second_user_sq_length+3]\n",
    "\n"
   ]
  },
  {
   "cell_type": "code",
   "execution_count": null,
   "id": "82daa73e-92a8-462f-863f-6fb3a7b4c7de",
   "metadata": {},
   "outputs": [],
   "source": [
    "   \n",
    "sns.pairplot(pcadf,hue='answers')\n",
    "plt.show() "
   ]
  },
  {
   "cell_type": "code",
   "execution_count": null,
   "id": "0df6af22-4745-4bdc-a952-ad7a5c2fff63",
   "metadata": {},
   "outputs": [],
   "source": [
    "\n"
   ]
  },
  {
   "cell_type": "code",
   "execution_count": null,
   "id": "426c5d8d-44e6-4c7b-bff0-ae3f64082ef5",
   "metadata": {},
   "outputs": [],
   "source": [
    "from matplotlib.animation import FFMpegWriter, PillowWriter"
   ]
  },
  {
   "cell_type": "code",
   "execution_count": null,
   "id": "a0e57825-c370-4778-a2d0-21f9350377ac",
   "metadata": {},
   "outputs": [],
   "source": [
    "metadata = dict( artist='codinglikemad')\n",
    "# writer = PillowWriter(fps=15, metadata=metadata)\n",
    "writer = FFMpegWriter(fps=10, metadata=metadata)"
   ]
  },
  {
   "cell_type": "code",
   "execution_count": null,
   "id": "50b5628d-70d1-471b-af09-e0c1853167eb",
   "metadata": {},
   "outputs": [],
   "source": [
    "plt.rcParams['animation.ffmpeg_path'] = \"C:\\\\research\\\\ffmpeg-4.4-full_build\\\\bin\\\\ffmpeg.exe\""
   ]
  },
  {
   "cell_type": "code",
   "execution_count": null,
   "id": "5199f9da-4f8c-4479-bfd6-d9f03764024d",
   "metadata": {
    "tags": []
   },
   "outputs": [],
   "source": []
  },
  {
   "cell_type": "code",
   "execution_count": null,
   "id": "ad381c9a-11f5-4a25-a5de-e4a89ac2ee01",
   "metadata": {
    "tags": []
   },
   "outputs": [],
   "source": [
    "fig = plt.figure(figsize=(100,100))\n",
    "ax = plt.axes(projection='3d')\n",
    "correct=pcadf[pcadf.answers==1]\n",
    "falls=pcadf[pcadf.answers==0]\n",
    "#ax.set_xlabel('f0')\n",
    "#ax.set_ylabel('f1')\n",
    "#ax.set_zlabel('f2')\n",
    "#ax.scatter3D(correct.iloc[:,1], correct.iloc[:,2], correct.iloc[:,0],label='correct');\n",
    "#ax.scatter3D(falls.iloc[:,1], falls.iloc[:,2], falls.iloc[:,0],label='wrong');\n",
    "#plt.legend()\n",
    "S=2500\n",
    "angle1=30\n",
    "with writer.saving(fig, \"exp3d.gif\", 10):\n",
    "    for i in tqdm(range(0,720,2)):\n",
    "        \n",
    "        ax.set_xlabel('f0',fontsize=100)\n",
    "        ax.set_ylabel('f1',fontsize=100)\n",
    "        ax.set_zlabel('f2',fontsize=100)\n",
    "        ax.scatter3D(correct.iloc[:,1], correct.iloc[:,2], correct.iloc[:,0],label='correct',s=S);\n",
    "        ax.scatter3D(falls.iloc[:,1], falls.iloc[:,2], falls.iloc[:,0],label='wrong',s=S);\n",
    "        plt.legend(markerscale=2,fontsize=100)\n",
    "        \n",
    "        ax.view_init(45, i);\n",
    "\n",
    "        writer.grab_frame()\n",
    "        plt.cla()"
   ]
  },
  {
   "cell_type": "code",
   "execution_count": null,
   "id": "3b795a18-42fb-458f-8560-49bc92d64deb",
   "metadata": {},
   "outputs": [],
   "source": [
    "\n",
    "#fig = plt.figure()\n",
    "\n",
    "def animate(angle):\n",
    "    ax.view_init(30, angle)\n",
    "#animate(10)\n",
    "fig = plt.figure(figsize=(15,15))\n",
    "ax = plt.axes(projection='3d')\n",
    "correct=pcadf[pcadf.answers==1]\n",
    "falls=pcadf[pcadf.answers==0]\n",
    "   \n",
    "for i in range(1,360,72):\n",
    "    ax.set_xlabel('f0')\n",
    "    ax.set_ylabel('f1')\n",
    "    ax.set_zlabel('f2') \n",
    "    ax.scatter3D(correct.iloc[:,1], correct.iloc[:,2], correct.iloc[:,0],label='correct');\n",
    "    ax.scatter3D(falls.iloc[:,1], falls.iloc[:,2], falls.iloc[:,0],label='wrong');\n",
    "    #plt.legend()\n",
    "    ax.view_init(i, 0);\n",
    "    #ax.draw();\n",
    "    plt.pause(.001);\n",
    "    ax.cla()\n",
    "#ani = FuncAnimation(fig, animate, frames=range(360))\n",
    "   \n",
    "  \n",
    "    "
   ]
  },
  {
   "cell_type": "code",
   "execution_count": null,
   "id": "c44686f5-0e09-4068-903c-c19d5458df60",
   "metadata": {},
   "outputs": [],
   "source": [
    "animate(20)"
   ]
  },
  {
   "cell_type": "code",
   "execution_count": null,
   "id": "a98e1013-f0ba-4376-8ab2-7307e0edca91",
   "metadata": {},
   "outputs": [],
   "source": [
    "falls.mean()"
   ]
  },
  {
   "cell_type": "code",
   "execution_count": null,
   "id": "c9d72428-7b8b-4014-a994-53bff6299fd0",
   "metadata": {},
   "outputs": [],
   "source": []
  },
  {
   "cell_type": "code",
   "execution_count": null,
   "id": "d75602ba-1d41-4c62-bd79-302a3078efa2",
   "metadata": {},
   "outputs": [],
   "source": []
  }
 ],
 "metadata": {
  "kernelspec": {
   "display_name": "Python 3 (ipykernel)",
   "language": "python",
   "name": "python3"
  },
  "language_info": {
   "codemirror_mode": {
    "name": "ipython",
    "version": 3
   },
   "file_extension": ".py",
   "mimetype": "text/x-python",
   "name": "python",
   "nbconvert_exporter": "python",
   "pygments_lexer": "ipython3",
   "version": "3.8.3"
  }
 },
 "nbformat": 4,
 "nbformat_minor": 5
}
