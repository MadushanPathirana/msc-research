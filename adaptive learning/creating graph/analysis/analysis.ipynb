{
 "cells": [
  {
   "cell_type": "code",
   "execution_count": 1,
   "id": "3ec9610b-5910-4db9-91fb-514dc7cfe5c7",
   "metadata": {},
   "outputs": [],
   "source": [
    "import pandas as pd\n",
    "import matplotlib.pyplot as plt\n",
    "import numpy as np\n",
    "import seaborn as sns"
   ]
  },
  {
   "cell_type": "code",
   "execution_count": 2,
   "id": "038a4b4b-da65-44f7-be37-cba6d63e6aee",
   "metadata": {},
   "outputs": [],
   "source": [
    "df=pd.read_pickle('dfg.pickle')"
   ]
  },
  {
   "cell_type": "code",
   "execution_count": 4,
   "id": "0d8784c1-80de-49d7-a801-10a2de4759fc",
   "metadata": {},
   "outputs": [],
   "source": [
    "train=pd.read_pickle('users_question_sequence_train_lists.pickle')\n",
    "test=pd.read_pickle('users_question_sequence_test_lists.pickle')"
   ]
  },
  {
   "cell_type": "code",
   "execution_count": 12,
   "id": "8584c1ef-63b3-4de4-ac83-0f3922644fae",
   "metadata": {},
   "outputs": [
    {
     "data": {
      "text/plain": [
       "0.6056338028169014"
      ]
     },
     "execution_count": 12,
     "metadata": {},
     "output_type": "execute_result"
    }
   ],
   "source": [
    "test[-1][-1].mean()"
   ]
  },
  {
   "cell_type": "code",
   "execution_count": 14,
   "id": "8c1c710e-164b-44b7-bb73-6b827fce603e",
   "metadata": {},
   "outputs": [
    {
     "data": {
      "text/plain": [
       "array([0, 1, 1, 0, 1, 1, 1, 1, 1, 0, 1, 1, 1, 1, 0, 0, 0, 1, 1, 1, 1, 0,\n",
       "       1, 1, 1, 1, 1, 1, 1, 0, 0, 1, 1, 0, 0, 0, 1, 0, 1, 1, 1, 1, 1, 1,\n",
       "       1, 1, 1, 0, 1, 1, 1, 1, 1, 1, 1, 1, 1, 1, 1, 1, 1, 1, 1, 1, 1, 1,\n",
       "       1, 1, 0, 1, 1, 1, 1, 1, 1], dtype=object)"
      ]
     },
     "execution_count": 14,
     "metadata": {},
     "output_type": "execute_result"
    }
   ],
   "source": [
    "test[-2][-1]"
   ]
  },
  {
   "cell_type": "code",
   "execution_count": null,
   "id": "2ca3b217-cf39-4b18-aec2-2e8de171a339",
   "metadata": {},
   "outputs": [],
   "source": [
    "\n",
    "\n"
   ]
  },
  {
   "cell_type": "code",
   "execution_count": null,
   "id": "d2ab15b7-e560-4fe9-9044-3ecb7044bdf0",
   "metadata": {},
   "outputs": [],
   "source": []
  }
 ],
 "metadata": {
  "kernelspec": {
   "display_name": "Python 3 (ipykernel)",
   "language": "python",
   "name": "python3"
  },
  "language_info": {
   "codemirror_mode": {
    "name": "ipython",
    "version": 3
   },
   "file_extension": ".py",
   "mimetype": "text/x-python",
   "name": "python",
   "nbconvert_exporter": "python",
   "pygments_lexer": "ipython3",
   "version": "3.8.3"
  }
 },
 "nbformat": 4,
 "nbformat_minor": 5
}
