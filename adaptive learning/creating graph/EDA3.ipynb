{
 "cells": [
  {
   "cell_type": "code",
   "execution_count": null,
   "id": "5fe15cd6-65c6-469c-9021-cb23608ff7ed",
   "metadata": {},
   "outputs": [],
   "source": []
  },
  {
   "cell_type": "code",
   "execution_count": 1,
   "id": "2afe93cd-667b-46e2-a594-24ca93b7b7c4",
   "metadata": {},
   "outputs": [],
   "source": [
    "import logging\n",
    "import sys\n",
    "import datetime\n",
    "import pickle\n",
    "from icecream import ic\n",
    "from tqdm import tqdm\n",
    "from sklearn.decomposition import PCA\n",
    "import seaborn as sns"
   ]
  },
  {
   "cell_type": "code",
   "execution_count": 2,
   "id": "ed571c79-fa1e-40f3-9c75-8a91469577df",
   "metadata": {},
   "outputs": [],
   "source": [
    "# for correct lstm shape - https://www.kaggle.com/code/imegirin/multivariate-time-series-modeling-with-pytorch"
   ]
  },
  {
   "cell_type": "code",
   "execution_count": 3,
   "id": "7fa9e117-436a-4b10-adda-5fd0860fd2e3",
   "metadata": {},
   "outputs": [],
   "source": [
    "from torch.utils.data import TensorDataset"
   ]
  },
  {
   "cell_type": "code",
   "execution_count": 4,
   "id": "4be5584f-2091-404b-a062-c6b6267740d7",
   "metadata": {
    "tags": []
   },
   "outputs": [],
   "source": [
    "import pandas as pd\n",
    "import numpy as np\n",
    "import networkx as nx\n",
    "import matplotlib.pyplot as plt;\n",
    "np.random.seed(42);\n",
    "from sklearn.metrics import roc_auc_score;"
   ]
  },
  {
   "cell_type": "code",
   "execution_count": 5,
   "id": "67d10d82-e342-4084-8882-085f54db932c",
   "metadata": {},
   "outputs": [],
   "source": [
    "from sklearn.metrics import roc_auc_score;\n",
    "from sklearn.metrics import classification_report;"
   ]
  },
  {
   "cell_type": "code",
   "execution_count": 6,
   "id": "8302beb7-3a77-42c6-aa49-5849fe149abd",
   "metadata": {},
   "outputs": [],
   "source": [
    "pd.set_option('display.max_columns', None);"
   ]
  },
  {
   "cell_type": "code",
   "execution_count": 7,
   "id": "bb4b210d-ab2b-4c37-a468-5c963145f603",
   "metadata": {},
   "outputs": [],
   "source": [
    "df=pd.read_pickle('appmath.pkl')[['graph_id', 'user_id', \n",
    "       'goal_id',\n",
    "        'interaction_end_time',\n",
    "       'learning_objective_name', 'atom_id', \n",
    "       'correct', 'time_spent_answering_s', 'time_spent_on_instruction_s',\n",
    "       'goal_progress',\n",
    "       'target_status_and_progress', 'prev_concept_narrative',\n",
    "       'duration_s', 'is_target']]  "
   ]
  },
  {
   "cell_type": "code",
   "execution_count": null,
   "id": "2a3d1790-fd5b-4a92-9091-b27673cc21cb",
   "metadata": {},
   "outputs": [],
   "source": []
  },
  {
   "cell_type": "code",
   "execution_count": 8,
   "id": "8da2735d-8f22-4b33-af3e-b10ea3c276ee",
   "metadata": {},
   "outputs": [],
   "source": [
    "df2=pd.read_csv('prereq_edges.csv')"
   ]
  },
  {
   "cell_type": "code",
   "execution_count": 9,
   "id": "c94b1f0d-cd2c-4437-874c-06c356c58a5a",
   "metadata": {},
   "outputs": [],
   "source": [
    "G=nx.Graph()\n",
    "\n",
    "for _,i in df2.iterrows():    \n",
    "       \n",
    "        G.add_edge(i['source_lo_title'],i['dest_lo_title'])\n",
    "        \n",
    "subgraphs=[G.subgraph(i) for i in nx.connected_components(G)]\n",
    "\n",
    "for num,sub in enumerate(subgraphs):\n",
    "    \n",
    "    nx.set_node_attributes(sub,num,'subGraphId')\n",
    "\n",
    "nodeSubGraphId={}\n",
    "for g in subgraphs:\n",
    "    for node in g.nodes(data=True):\n",
    "         nodeSubGraphId[node[0]]= node[1]['subGraphId']\n",
    "            \n",
    "subgraphsNodeCountDict={ num: g.number_of_nodes() for num,g in  enumerate(subgraphs)}"
   ]
  },
  {
   "cell_type": "code",
   "execution_count": 10,
   "id": "38702a86-c9f2-4ab3-872d-4a5c510b8586",
   "metadata": {},
   "outputs": [],
   "source": [
    "for col in df.columns:\n",
    "    if df[col].dtype.name=='category':\n",
    "        df[col]=df[col].astype(str)"
   ]
  },
  {
   "cell_type": "code",
   "execution_count": 11,
   "id": "fb780517-bab3-466f-8da5-c64c62f3664b",
   "metadata": {},
   "outputs": [],
   "source": [
    "df['loGraphID']=df.learning_objective_name.apply(lambda x: nodeSubGraphId.get(x) )"
   ]
  },
  {
   "cell_type": "code",
   "execution_count": 12,
   "id": "9592deee-6d51-4ab4-9044-7925013b3082",
   "metadata": {},
   "outputs": [],
   "source": [
    "difficulty=df[~df.correct.isna()].groupby('atom_id')['correct'].mean().reset_index().rename(columns={'correct':'difficulty'})\n",
    "df=df.merge(difficulty,how='left',on='atom_id')"
   ]
  },
  {
   "cell_type": "code",
   "execution_count": 13,
   "id": "5f19a905-d4b5-493c-83ec-b09adee2fabf",
   "metadata": {},
   "outputs": [],
   "source": [
    "lo_difficulty=df[~df.correct.isna()].groupby('learning_objective_name')['correct'].mean().reset_index().rename(columns={'correct':'lo_difficulty'})\n",
    "df=df.merge(lo_difficulty,how='left',on='learning_objective_name')\n"
   ]
  },
  {
   "cell_type": "code",
   "execution_count": null,
   "id": "27f1c719-4227-4c3e-becd-3bdabdb32d8a",
   "metadata": {},
   "outputs": [],
   "source": []
  },
  {
   "cell_type": "code",
   "execution_count": 14,
   "id": "a36b9201-a740-4c93-80cd-bd4afcf2a0fb",
   "metadata": {},
   "outputs": [],
   "source": [
    "def atomClassifier(x):\n",
    "    if x==None:\n",
    "        return 'learningMaterial'\n",
    "    else:\n",
    "        return 'question'"
   ]
  },
  {
   "cell_type": "code",
   "execution_count": 15,
   "id": "cfc8949d-5feb-4fc4-9a2b-f6fad2cd5a9c",
   "metadata": {
    "tags": []
   },
   "outputs": [],
   "source": [
    "df['atom_type']=df.correct.apply(lambda x:atomClassifier(x) )"
   ]
  },
  {
   "cell_type": "code",
   "execution_count": 16,
   "id": "a2228ce6-552a-434d-bbfe-c3b6ac5be2cc",
   "metadata": {},
   "outputs": [],
   "source": [
    "df['correctBinary']=df.correct*1\n",
    "df.atom_id=df.atom_id.astype(str)\n"
   ]
  },
  {
   "cell_type": "code",
   "execution_count": 17,
   "id": "1b9d9993-e752-47b7-b10a-869346e53b5d",
   "metadata": {},
   "outputs": [],
   "source": [
    "df=df[~df.correctBinary.isna()]"
   ]
  },
  {
   "cell_type": "code",
   "execution_count": 18,
   "id": "51767757-79b0-4129-8325-6de86b489ab2",
   "metadata": {},
   "outputs": [],
   "source": [
    "df2['graph_id']=df2.apply(lambda x: nodeSubGraphId.get(x['source_lo_title']) if nodeSubGraphId.get(x['source_lo_title'])!=None else nodeSubGraphId.get(x['dest_lo_title']),axis=1)"
   ]
  },
  {
   "cell_type": "code",
   "execution_count": null,
   "id": "5fe08fec-fdfe-4578-85d9-c839e15db81c",
   "metadata": {},
   "outputs": [],
   "source": []
  },
  {
   "cell_type": "code",
   "execution_count": 19,
   "id": "4426c528-f3a7-4a8e-8f8e-1fec59a6be70",
   "metadata": {},
   "outputs": [],
   "source": [
    "unique_lo_graph_id_dic={}\n",
    "for i in df2.graph_id.unique():\n",
    "    unique_lo=np.unique(np.concatenate((df2[df2.graph_id==i]['source_lo_title'].unique(),((df2[df2.graph_id==i]['dest_lo_title'].unique())))))\n",
    "    unique_lo_graph_id_dic[i]={ item:int(num)  for  num,item in enumerate(unique_lo)}\n",
    "    df2.loc[df2.graph_id==i,'source_index' ]=df2.apply(lambda x: unique_lo_graph_id_dic.get(i).get(x['source_lo_title']),axis=1)\n",
    "    df2.loc[df2.graph_id==i,'dest_index' ]=df2.apply(lambda x: unique_lo_graph_id_dic.get(i).get(x['dest_lo_title']),axis=1)"
   ]
  },
  {
   "cell_type": "code",
   "execution_count": null,
   "id": "8ce54d9f-5535-4642-bd1e-15829a299963",
   "metadata": {},
   "outputs": [],
   "source": []
  },
  {
   "cell_type": "code",
   "execution_count": 20,
   "id": "8c9485fd-f820-4075-8f8f-0f035df99cad",
   "metadata": {},
   "outputs": [],
   "source": [
    "df2.source_index=df2.source_index.astype(int)\n",
    "df2.dest_index=df2.dest_index.astype(int)"
   ]
  },
  {
   "cell_type": "code",
   "execution_count": null,
   "id": "9a7bfc9d-a9e3-4eb0-92ac-833cb57136ff",
   "metadata": {},
   "outputs": [],
   "source": []
  },
  {
   "cell_type": "code",
   "execution_count": 21,
   "id": "278ab8fb-da0a-4d80-9aa1-f807a7e5f44c",
   "metadata": {},
   "outputs": [],
   "source": [
    "df=df[~df.loGraphID.isna()]"
   ]
  },
  {
   "cell_type": "code",
   "execution_count": 22,
   "id": "1215a160-2097-41c9-ba03-19a0bf1ed054",
   "metadata": {},
   "outputs": [],
   "source": [
    "#df['loIndex']=df.apply(lambda x: unique_lo_graph_id_dic[x['loGraphID']].get(x['learning_objective_name'] ),axis=1)"
   ]
  },
  {
   "cell_type": "code",
   "execution_count": 23,
   "id": "1786573f-425c-45f1-b94e-250971a2805f",
   "metadata": {},
   "outputs": [
    {
     "data": {
      "text/plain": [
       "source_lo_id                    eda7ab6a-8070-4fd8-8387-da17a40fd99e\n",
       "dest_lo_id                      eda7ab6a-8070-4fd8-8387-da17a40fd99e\n",
       "source_lo_title    Write biconditional statements in symbolic for...\n",
       "dest_lo_title      Write biconditional statements in symbolic for...\n",
       "graph_id                                                           3\n",
       "source_index                                                      30\n",
       "dest_index                                                        30\n",
       "dtype: object"
      ]
     },
     "execution_count": 23,
     "metadata": {},
     "output_type": "execute_result"
    }
   ],
   "source": [
    "df2[df2.graph_id==3].max()"
   ]
  },
  {
   "cell_type": "code",
   "execution_count": 24,
   "id": "765b965c-ea93-4a3a-849e-246bed5fb057",
   "metadata": {},
   "outputs": [],
   "source": [
    "summary=df.pivot_table(index='goal_id',aggfunc={'learning_objective_name':pd.Series.nunique,'atom_id':pd.Series.nunique,'user_id':pd.Series.nunique,'interaction_end_time':np.count_nonzero})"
   ]
  },
  {
   "cell_type": "code",
   "execution_count": 25,
   "id": "2b5a37a3-22a7-4a0b-b43b-2d1c476d48f0",
   "metadata": {},
   "outputs": [],
   "source": [
    "summary['atom_usage']=summary.interaction_end_time/summary.atom_id"
   ]
  },
  {
   "cell_type": "code",
   "execution_count": 26,
   "id": "8531d3b6-68cd-436a-b097-4cb32f8de6fc",
   "metadata": {},
   "outputs": [
    {
     "data": {
      "text/html": [
       "<div>\n",
       "<style scoped>\n",
       "    .dataframe tbody tr th:only-of-type {\n",
       "        vertical-align: middle;\n",
       "    }\n",
       "\n",
       "    .dataframe tbody tr th {\n",
       "        vertical-align: top;\n",
       "    }\n",
       "\n",
       "    .dataframe thead th {\n",
       "        text-align: right;\n",
       "    }\n",
       "</style>\n",
       "<table border=\"1\" class=\"dataframe\">\n",
       "  <thead>\n",
       "    <tr style=\"text-align: right;\">\n",
       "      <th></th>\n",
       "      <th>atom_id</th>\n",
       "      <th>interaction_end_time</th>\n",
       "      <th>learning_objective_name</th>\n",
       "      <th>user_id</th>\n",
       "      <th>atom_usage</th>\n",
       "    </tr>\n",
       "    <tr>\n",
       "      <th>goal_id</th>\n",
       "      <th></th>\n",
       "      <th></th>\n",
       "      <th></th>\n",
       "      <th></th>\n",
       "      <th></th>\n",
       "    </tr>\n",
       "  </thead>\n",
       "  <tbody>\n",
       "    <tr>\n",
       "      <th>39f38cfd-d153-4fcf-950e-5c1b2bfbeaaa</th>\n",
       "      <td>72</td>\n",
       "      <td>8793</td>\n",
       "      <td>3</td>\n",
       "      <td>289</td>\n",
       "      <td>122.125000</td>\n",
       "    </tr>\n",
       "    <tr>\n",
       "      <th>d252b7df-6a57-46ff-b4c3-e21d26d80b6a</th>\n",
       "      <td>82</td>\n",
       "      <td>9887</td>\n",
       "      <td>5</td>\n",
       "      <td>253</td>\n",
       "      <td>120.573171</td>\n",
       "    </tr>\n",
       "    <tr>\n",
       "      <th>cd26c1cb-87ad-4b57-bdeb-7e8811827e39</th>\n",
       "      <td>59</td>\n",
       "      <td>5764</td>\n",
       "      <td>3</td>\n",
       "      <td>194</td>\n",
       "      <td>97.694915</td>\n",
       "    </tr>\n",
       "    <tr>\n",
       "      <th>86940cba-2a55-43a6-8f51-248afca9952d</th>\n",
       "      <td>26</td>\n",
       "      <td>1974</td>\n",
       "      <td>1</td>\n",
       "      <td>291</td>\n",
       "      <td>75.923077</td>\n",
       "    </tr>\n",
       "    <tr>\n",
       "      <th>caacf0e3-8698-4806-8ce8-a45d8f75b587</th>\n",
       "      <td>59</td>\n",
       "      <td>4396</td>\n",
       "      <td>3</td>\n",
       "      <td>240</td>\n",
       "      <td>74.508475</td>\n",
       "    </tr>\n",
       "    <tr>\n",
       "      <th>12b7f97f-18be-4a9e-9384-866a036631d4</th>\n",
       "      <td>103</td>\n",
       "      <td>7107</td>\n",
       "      <td>5</td>\n",
       "      <td>260</td>\n",
       "      <td>69.000000</td>\n",
       "    </tr>\n",
       "    <tr>\n",
       "      <th>9059c88d-ccdd-42dd-a19f-fe7c9bafd6aa</th>\n",
       "      <td>47</td>\n",
       "      <td>3236</td>\n",
       "      <td>2</td>\n",
       "      <td>255</td>\n",
       "      <td>68.851064</td>\n",
       "    </tr>\n",
       "    <tr>\n",
       "      <th>46e93a47-9de8-4982-82ec-6e3acb911c54</th>\n",
       "      <td>116</td>\n",
       "      <td>7116</td>\n",
       "      <td>6</td>\n",
       "      <td>240</td>\n",
       "      <td>61.344828</td>\n",
       "    </tr>\n",
       "    <tr>\n",
       "      <th>917d2bb2-451f-4f65-8eec-7a8125c9a596</th>\n",
       "      <td>39</td>\n",
       "      <td>2220</td>\n",
       "      <td>2</td>\n",
       "      <td>140</td>\n",
       "      <td>56.923077</td>\n",
       "    </tr>\n",
       "    <tr>\n",
       "      <th>ebb614bf-c45c-4b77-a5f7-168e4569b280</th>\n",
       "      <td>32</td>\n",
       "      <td>1782</td>\n",
       "      <td>2</td>\n",
       "      <td>119</td>\n",
       "      <td>55.687500</td>\n",
       "    </tr>\n",
       "  </tbody>\n",
       "</table>\n",
       "</div>"
      ],
      "text/plain": [
       "                                      atom_id  interaction_end_time  \\\n",
       "goal_id                                                               \n",
       "39f38cfd-d153-4fcf-950e-5c1b2bfbeaaa       72                  8793   \n",
       "d252b7df-6a57-46ff-b4c3-e21d26d80b6a       82                  9887   \n",
       "cd26c1cb-87ad-4b57-bdeb-7e8811827e39       59                  5764   \n",
       "86940cba-2a55-43a6-8f51-248afca9952d       26                  1974   \n",
       "caacf0e3-8698-4806-8ce8-a45d8f75b587       59                  4396   \n",
       "12b7f97f-18be-4a9e-9384-866a036631d4      103                  7107   \n",
       "9059c88d-ccdd-42dd-a19f-fe7c9bafd6aa       47                  3236   \n",
       "46e93a47-9de8-4982-82ec-6e3acb911c54      116                  7116   \n",
       "917d2bb2-451f-4f65-8eec-7a8125c9a596       39                  2220   \n",
       "ebb614bf-c45c-4b77-a5f7-168e4569b280       32                  1782   \n",
       "\n",
       "                                      learning_objective_name  user_id  \\\n",
       "goal_id                                                                  \n",
       "39f38cfd-d153-4fcf-950e-5c1b2bfbeaaa                        3      289   \n",
       "d252b7df-6a57-46ff-b4c3-e21d26d80b6a                        5      253   \n",
       "cd26c1cb-87ad-4b57-bdeb-7e8811827e39                        3      194   \n",
       "86940cba-2a55-43a6-8f51-248afca9952d                        1      291   \n",
       "caacf0e3-8698-4806-8ce8-a45d8f75b587                        3      240   \n",
       "12b7f97f-18be-4a9e-9384-866a036631d4                        5      260   \n",
       "9059c88d-ccdd-42dd-a19f-fe7c9bafd6aa                        2      255   \n",
       "46e93a47-9de8-4982-82ec-6e3acb911c54                        6      240   \n",
       "917d2bb2-451f-4f65-8eec-7a8125c9a596                        2      140   \n",
       "ebb614bf-c45c-4b77-a5f7-168e4569b280                        2      119   \n",
       "\n",
       "                                      atom_usage  \n",
       "goal_id                                           \n",
       "39f38cfd-d153-4fcf-950e-5c1b2bfbeaaa  122.125000  \n",
       "d252b7df-6a57-46ff-b4c3-e21d26d80b6a  120.573171  \n",
       "cd26c1cb-87ad-4b57-bdeb-7e8811827e39   97.694915  \n",
       "86940cba-2a55-43a6-8f51-248afca9952d   75.923077  \n",
       "caacf0e3-8698-4806-8ce8-a45d8f75b587   74.508475  \n",
       "12b7f97f-18be-4a9e-9384-866a036631d4   69.000000  \n",
       "9059c88d-ccdd-42dd-a19f-fe7c9bafd6aa   68.851064  \n",
       "46e93a47-9de8-4982-82ec-6e3acb911c54   61.344828  \n",
       "917d2bb2-451f-4f65-8eec-7a8125c9a596   56.923077  \n",
       "ebb614bf-c45c-4b77-a5f7-168e4569b280   55.687500  "
      ]
     },
     "execution_count": 26,
     "metadata": {},
     "output_type": "execute_result"
    }
   ],
   "source": [
    "summary.sort_values('atom_usage',ascending=False).head(10)"
   ]
  },
  {
   "cell_type": "code",
   "execution_count": null,
   "id": "d44a198a-3b93-45cd-bf1e-339dc8a2bdc1",
   "metadata": {},
   "outputs": [],
   "source": []
  },
  {
   "cell_type": "code",
   "execution_count": null,
   "id": "f00ff663-a576-45cc-a815-c8accd550265",
   "metadata": {},
   "outputs": [],
   "source": []
  },
  {
   "cell_type": "code",
   "execution_count": 27,
   "id": "b146e87b-c762-4ac0-a0b5-92e6673a5b56",
   "metadata": {},
   "outputs": [
    {
     "data": {
      "text/plain": [
       "(716, 19)"
      ]
     },
     "execution_count": 27,
     "metadata": {},
     "output_type": "execute_result"
    }
   ],
   "source": [
    "loGraphID=3\n",
    "user=df[df.loGraphID==loGraphID].user_id.sample(3).values\n",
    "\n",
    "dfg=df[(df.loGraphID==loGraphID) & (df.user_id.isin(user)) ].reset_index(drop=True)\n",
    "dfg.shape"
   ]
  },
  {
   "cell_type": "code",
   "execution_count": null,
   "id": "7711b796-44f3-40a4-8abd-73a311dec2a0",
   "metadata": {},
   "outputs": [],
   "source": []
  },
  {
   "cell_type": "code",
   "execution_count": 28,
   "id": "c63fc0fe-03a5-4903-9a89-618d3d5d53f3",
   "metadata": {},
   "outputs": [],
   "source": [
    "dfg=dfg.sort_values(['user_id','interaction_end_time'])"
   ]
  },
  {
   "cell_type": "code",
   "execution_count": 29,
   "id": "ee124e10-718a-4be0-a134-aae6a295b81b",
   "metadata": {},
   "outputs": [],
   "source": [
    "atom_index={atom_id:i for i,atom_id  in  enumerate(dfg.atom_id.unique())}"
   ]
  },
  {
   "cell_type": "code",
   "execution_count": 30,
   "id": "658ced57-e80f-4bb2-995b-d6f1c1255f45",
   "metadata": {},
   "outputs": [],
   "source": [
    "dfg['atomIndex']=dfg.atom_id.map(atom_index)"
   ]
  },
  {
   "cell_type": "code",
   "execution_count": 31,
   "id": "c18b1c6f-1974-412c-8f06-41ab13ce2f26",
   "metadata": {},
   "outputs": [],
   "source": [
    "loEdgeMapping=df2[df2['graph_id']==loGraphID][['source_index','dest_index']]\n",
    "lo_edges=loEdgeMapping.values.transpose()"
   ]
  },
  {
   "cell_type": "code",
   "execution_count": 32,
   "id": "e5cdeb44-a6fb-4f2f-b85a-41f245555fb8",
   "metadata": {},
   "outputs": [],
   "source": [
    "lo_map=pd.concat([df2[df2['graph_id']==loGraphID][['source_lo_title','source_index']].rename(columns={'source_lo_title':'learning_objective_name','source_index':'loIndex'}),df2[df2['graph_id']==loGraphID][['dest_lo_title','dest_index']].rename(columns={'dest_lo_title':'learning_objective_name','dest_index':'loIndex'})]).drop_duplicates().reset_index(drop=True)"
   ]
  },
  {
   "cell_type": "code",
   "execution_count": null,
   "id": "b946c3d9-2690-404d-93c8-6d2456650a6b",
   "metadata": {},
   "outputs": [],
   "source": []
  },
  {
   "cell_type": "code",
   "execution_count": 33,
   "id": "7e24acdf-fa67-40c3-a8c6-a42835b8ab24",
   "metadata": {},
   "outputs": [],
   "source": [
    "dfg['atomIndex']=dfg.atom_id.map(atom_index)"
   ]
  },
  {
   "cell_type": "code",
   "execution_count": 34,
   "id": "15265666-c77a-4bba-9ab0-1848e1ad7c8c",
   "metadata": {},
   "outputs": [],
   "source": [
    "#loIndex={lo:i for i,lo in enumerate( dfg.learning_objective_name.unique())}\n",
    "#dfg['loIndex']=dfg['learning_objective_name'].apply(lambda x: loIndex[x])"
   ]
  },
  {
   "cell_type": "code",
   "execution_count": 35,
   "id": "0fac1b1e-733d-4b96-853d-b1f70261acea",
   "metadata": {},
   "outputs": [],
   "source": [
    "dfg=dfg.merge(lo_map,on='learning_objective_name',how='left')"
   ]
  },
  {
   "cell_type": "code",
   "execution_count": 38,
   "id": "42a31d50-7452-4a7e-afa3-d06adbc4838c",
   "metadata": {},
   "outputs": [
    {
     "data": {
      "text/plain": [
       "310"
      ]
     },
     "execution_count": 38,
     "metadata": {},
     "output_type": "execute_result"
    }
   ],
   "source": [
    "dfg.atom_id.nunique()"
   ]
  },
  {
   "cell_type": "code",
   "execution_count": 45,
   "id": "5521d6ac-9935-4c1f-9e21-cf4e45ded382",
   "metadata": {},
   "outputs": [
    {
     "name": "stderr",
     "output_type": "stream",
     "text": [
      "C:\\Users\\mpathirana\\AppData\\Local\\Temp\\ipykernel_9360\\913865791.py:1: FutureWarning: Indexing with multiple keys (implicitly converted to a tuple of keys) will be deprecated, use a list instead.\n",
      "  atoms=df[df.loGraphID==3].groupby('atom_id')['time_spent_on_instruction_s','time_spent_answering_s','difficulty'].mean()\n"
     ]
    }
   ],
   "source": [
    "atoms=df[df.loGraphID==3].groupby('atom_id')['time_spent_on_instruction_s','time_spent_answering_s','difficulty'].mean()"
   ]
  },
  {
   "cell_type": "code",
   "execution_count": 53,
   "id": "0f907cab-a140-44ab-aa3b-8b759fc458ff",
   "metadata": {},
   "outputs": [],
   "source": [
    "from sklearn.preprocessing import StandardScaler\n",
    "from sklearn.metrics.pairwise import cosine_similarity"
   ]
  },
  {
   "cell_type": "code",
   "execution_count": 49,
   "id": "b6b2b4cf-49ea-4f71-ae83-961fcd162287",
   "metadata": {},
   "outputs": [],
   "source": [
    "standardscaler=StandardScaler()"
   ]
  },
  {
   "cell_type": "code",
   "execution_count": 50,
   "id": "e61733b6-223d-4500-ad39-355c9c5b7145",
   "metadata": {},
   "outputs": [
    {
     "data": {
      "text/plain": [
       "array([[ 1.64933965,  0.77913315, -0.96331528],\n",
       "       [ 0.02053231, -0.45653888, -0.71434762],\n",
       "       [-0.63553698,  0.39170009, -1.11900305],\n",
       "       ...,\n",
       "       [-0.39962807, -0.76536572,  0.12135382],\n",
       "       [ 1.24208125, -1.09345359, -1.24215905],\n",
       "       [ 0.01874739, -0.36098256, -1.03282874]])"
      ]
     },
     "execution_count": 50,
     "metadata": {},
     "output_type": "execute_result"
    }
   ],
   "source": [
    "standardscaler.fit_transform(atoms)"
   ]
  },
  {
   "cell_type": "code",
   "execution_count": 51,
   "id": "dfaa3f6b-d76e-415b-a44e-6d0392753315",
   "metadata": {},
   "outputs": [],
   "source": [
    "atoms.loc[:,:]=standardscaler.fit_transform(atoms)"
   ]
  },
  {
   "cell_type": "code",
   "execution_count": 57,
   "id": "17de7e70-5d1a-433c-8c5c-863204e935e6",
   "metadata": {},
   "outputs": [],
   "source": [
    "atom_similarity=cosine_similarity(atoms)"
   ]
  },
  {
   "cell_type": "code",
   "execution_count": 61,
   "id": "af529d71-2b2f-417f-b193-6a307ef3cf7d",
   "metadata": {},
   "outputs": [
    {
     "data": {
      "text/plain": [
       "array([1., 1., 1., 1., 1., 1., 1., 1., 1., 1., 1., 1., 1., 1., 1., 1., 1.,\n",
       "       1., 1., 1., 1., 1., 1., 1., 1., 1., 1., 1., 1., 1., 1., 1., 1., 1.,\n",
       "       1., 1., 1., 1., 1., 1., 1., 1., 1., 1., 1., 1., 1., 1., 1., 1., 1.,\n",
       "       1., 1., 1., 1., 1., 1., 1., 1., 1., 1., 1., 1., 1., 1., 1., 1., 1.,\n",
       "       1., 1., 1., 1., 1., 1., 1., 1., 1., 1., 1., 1., 1., 1., 1., 1., 1.,\n",
       "       1., 1., 1., 1., 1., 1., 1., 1., 1., 1., 1., 1., 1., 1., 1., 1., 1.,\n",
       "       1., 1., 1., 1., 1., 1., 1., 1., 1., 1., 1., 1., 1., 1., 1., 1., 1.,\n",
       "       1., 1., 1., 1., 1., 1., 1., 1., 1., 1., 1., 1., 1., 1., 1., 1., 1.,\n",
       "       1., 1., 1., 1., 1., 1., 1., 1., 1., 1., 1., 1., 1., 1., 1., 1., 1.,\n",
       "       1., 1., 1., 1., 1., 1., 1., 1., 1., 1., 1., 1., 1., 1., 1., 1., 1.,\n",
       "       1., 1., 1., 1., 1., 1., 1., 1., 1., 1., 1., 1., 1., 1., 1., 1., 1.,\n",
       "       1., 1., 1., 1., 1., 1., 1., 1., 1., 1., 1., 1., 1., 1., 1., 1., 1.,\n",
       "       1., 1., 1., 1., 1., 1., 1., 1., 1., 1., 1., 1., 1., 1., 1., 1., 1.,\n",
       "       1., 1., 1., 1., 1., 1., 1., 1., 1., 1., 1., 1., 1., 1., 1., 1., 1.,\n",
       "       1., 1., 1., 1., 1., 1., 1., 1., 1., 1., 1., 1., 1., 1., 1., 1., 1.,\n",
       "       1., 1., 1., 1., 1., 1., 1., 1., 1., 1., 1., 1., 1., 1., 1., 1., 1.,\n",
       "       1., 1., 1., 1., 1., 1., 1., 1., 1., 1., 1., 1., 1., 1., 1., 1., 1.,\n",
       "       1., 1., 1., 1., 1., 1., 1., 1., 1., 1., 1., 1., 1., 1., 1., 1., 1.,\n",
       "       1., 1., 1., 1., 1., 1., 1., 1., 1., 1., 1., 1., 1., 1., 1., 1., 1.,\n",
       "       1., 1., 1., 1., 1., 1., 1., 1., 1., 1., 1., 1., 1., 1., 1., 1., 1.,\n",
       "       1., 1., 1., 1., 1., 1., 1., 1., 1., 1., 1., 1., 1., 1., 1., 1., 1.,\n",
       "       1., 1., 1., 1., 1., 1., 1., 1., 1., 1., 1., 1., 1., 1., 1., 1., 1.,\n",
       "       1., 1., 1., 1., 1., 1., 1., 1., 1., 1., 1., 1., 1., 1., 1., 1., 1.,\n",
       "       1., 1., 1., 1., 1., 1., 1., 1., 1., 1., 1., 1., 1., 1., 1., 1., 1.,\n",
       "       1., 1., 1., 1., 1., 1., 1., 1., 1., 1., 1., 1., 1., 1., 1., 1., 1.,\n",
       "       1., 1., 1., 1., 1., 1., 1., 1., 1., 1., 1., 1., 1., 1., 1., 1., 1.,\n",
       "       1., 1., 1., 1., 1., 1., 1., 1., 1., 1., 1., 1., 1., 1., 1., 1., 1.,\n",
       "       1., 1., 1., 1., 1., 1., 1., 1., 1., 1., 1., 1., 1., 1., 1., 1., 1.,\n",
       "       1., 1., 1., 1., 1., 1., 1., 1., 1., 1., 1., 1., 1., 1., 1., 1., 1.,\n",
       "       1., 1., 1., 1., 1., 1., 1., 1., 1., 1., 1., 1., 1., 1., 1., 1., 1.,\n",
       "       1., 1., 1., 1., 1., 1., 1., 1., 1., 1., 1., 1., 1., 1., 1., 1., 1.,\n",
       "       1., 1., 1., 1., 1., 1., 1., 1., 1., 1., 1., 1., 1., 1., 1., 1., 1.,\n",
       "       1., 1., 1., 1., 1., 1., 1., 1., 1., 1., 1., 1., 1., 1., 1., 1., 1.,\n",
       "       1., 1., 1., 1., 1., 1., 1., 1., 1., 1., 1., 1., 1., 1., 1., 1., 1.,\n",
       "       1., 1., 1., 1., 1., 1., 1., 1., 1., 1., 1., 1., 1., 1., 1., 1., 1.,\n",
       "       1., 1., 1., 1., 1., 1., 1., 1., 1., 1., 1., 1., 1., 1., 1., 1., 1.,\n",
       "       1., 1., 1., 1., 1., 1., 1., 1., 1., 1., 1., 1., 1., 1., 1., 1., 1.,\n",
       "       1., 1., 1., 1., 1., 1., 1., 1., 1., 1., 1., 1., 1., 1., 1., 1., 1.,\n",
       "       1., 1., 1., 1., 1., 1., 1., 1., 1., 1., 1., 1., 1., 1., 1., 1., 1.,\n",
       "       1., 1., 1., 1., 1., 1., 1., 1., 1., 1., 1., 1., 1., 1., 1., 1., 1.,\n",
       "       1., 1.])"
      ]
     },
     "execution_count": 61,
     "metadata": {},
     "output_type": "execute_result"
    }
   ],
   "source": [
    "atom_similarity.max(axis=1)"
   ]
  },
  {
   "cell_type": "code",
   "execution_count": null,
   "id": "6fef363c-6ce3-43f0-96c8-dd3069fe0b73",
   "metadata": {},
   "outputs": [],
   "source": []
  }
 ],
 "metadata": {
  "kernelspec": {
   "display_name": "Python 3 (ipykernel)",
   "language": "python",
   "name": "python3"
  },
  "language_info": {
   "codemirror_mode": {
    "name": "ipython",
    "version": 3
   },
   "file_extension": ".py",
   "mimetype": "text/x-python",
   "name": "python",
   "nbconvert_exporter": "python",
   "pygments_lexer": "ipython3",
   "version": "3.8.3"
  }
 },
 "nbformat": 4,
 "nbformat_minor": 5
}
