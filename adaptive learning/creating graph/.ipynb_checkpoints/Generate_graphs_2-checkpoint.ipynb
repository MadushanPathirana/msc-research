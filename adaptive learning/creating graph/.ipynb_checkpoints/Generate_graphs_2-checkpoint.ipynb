{
 "cells": [
  {
   "cell_type": "code",
   "execution_count": 1,
   "id": "f2c435ef-6fe3-4cdf-9747-908c5c7fc585",
   "metadata": {},
   "outputs": [],
   "source": [
    "import logging\n",
    "import sys\n",
    "import datetime\n",
    "import pickle\n",
    "from icecream import ic\n",
    "from tqdm import tqdm\n",
    "from sklearn.decomposition import PCA\n",
    "import seaborn as sns"
   ]
  },
  {
   "cell_type": "code",
   "execution_count": 114,
   "id": "5df8dbe9-c0ab-4766-8839-3400280c9dcf",
   "metadata": {},
   "outputs": [],
   "source": [
    "# for correct lstm shape - https://www.kaggle.com/code/imegirin/multivariate-time-series-modeling-with-pytorch"
   ]
  },
  {
   "cell_type": "code",
   "execution_count": 2,
   "id": "74020f55-a597-41bb-9594-c49c9407aefb",
   "metadata": {},
   "outputs": [],
   "source": [
    "from torch.utils.data import TensorDataset"
   ]
  },
  {
   "cell_type": "code",
   "execution_count": 3,
   "id": "34545487-c665-4d48-a2ec-edb19312f6b2",
   "metadata": {
    "tags": []
   },
   "outputs": [],
   "source": [
    "import pandas as pd\n",
    "import numpy as np\n",
    "import networkx as nx\n",
    "import matplotlib.pyplot as plt;\n",
    "np.random.seed(42);\n",
    "from sklearn.metrics import roc_auc_score;"
   ]
  },
  {
   "cell_type": "code",
   "execution_count": 4,
   "id": "57d86d38-7714-4d23-ae6f-f2894fe1b24b",
   "metadata": {},
   "outputs": [],
   "source": [
    "from sklearn.metrics import roc_auc_score;\n",
    "from sklearn.metrics import classification_report;"
   ]
  },
  {
   "cell_type": "code",
   "execution_count": 5,
   "id": "26d464ef-3f12-44d3-b76d-673f63b349c9",
   "metadata": {},
   "outputs": [],
   "source": [
    "pd.set_option('display.max_columns', None);"
   ]
  },
  {
   "cell_type": "code",
   "execution_count": 6,
   "id": "c275b42d-bed6-44b3-b25b-8d93ffb670b5",
   "metadata": {},
   "outputs": [],
   "source": [
    "df=pd.read_pickle('appmath.pkl')[['graph_id', 'user_id', \n",
    "       'goal_id',\n",
    "        'interaction_end_time',\n",
    "       'learning_objective_name', 'atom_id', \n",
    "       'correct', 'time_spent_answering_s', 'time_spent_on_instruction_s',\n",
    "       'goal_progress',\n",
    "       'target_status_and_progress', 'prev_concept_narrative',\n",
    "       'duration_s', 'is_target']]  "
   ]
  },
  {
   "cell_type": "code",
   "execution_count": null,
   "id": "2693b672-973d-4160-8b98-685abc4dc88a",
   "metadata": {},
   "outputs": [],
   "source": []
  },
  {
   "cell_type": "code",
   "execution_count": 7,
   "id": "bea12206-dd4d-4a04-8d7e-452847896292",
   "metadata": {},
   "outputs": [],
   "source": [
    "df2=pd.read_csv('prereq_edges.csv')"
   ]
  },
  {
   "cell_type": "code",
   "execution_count": 8,
   "id": "4870c8d9-8275-44b1-b44b-b9963d094211",
   "metadata": {},
   "outputs": [],
   "source": [
    "G=nx.Graph()\n",
    "\n",
    "for _,i in df2.iterrows():    \n",
    "       \n",
    "        G.add_edge(i['source_lo_title'],i['dest_lo_title'])\n",
    "        \n",
    "subgraphs=[G.subgraph(i) for i in nx.connected_components(G)]\n",
    "\n",
    "for num,sub in enumerate(subgraphs):\n",
    "    \n",
    "    nx.set_node_attributes(sub,num,'subGraphId')\n",
    "\n",
    "nodeSubGraphId={}\n",
    "for g in subgraphs:\n",
    "    for node in g.nodes(data=True):\n",
    "         nodeSubGraphId[node[0]]= node[1]['subGraphId']\n",
    "            \n",
    "subgraphsNodeCountDict={ num: g.number_of_nodes() for num,g in  enumerate(subgraphs)}"
   ]
  },
  {
   "cell_type": "code",
   "execution_count": 9,
   "id": "a6c8719a-fab1-4196-acc4-e165af836ce6",
   "metadata": {},
   "outputs": [],
   "source": [
    "for col in df.columns:\n",
    "    if df[col].dtype.name=='category':\n",
    "        df[col]=df[col].astype(str)"
   ]
  },
  {
   "cell_type": "code",
   "execution_count": 10,
   "id": "73f26f0b-9978-4def-8004-595c9f6517b2",
   "metadata": {},
   "outputs": [],
   "source": [
    "df['loGraphID']=df.learning_objective_name.apply(lambda x: nodeSubGraphId.get(x) )"
   ]
  },
  {
   "cell_type": "code",
   "execution_count": 11,
   "id": "4e427aad-3eca-41b8-be76-a7537b060b71",
   "metadata": {},
   "outputs": [],
   "source": [
    "difficulty=df[~df.correct.isna()].groupby('atom_id')['correct'].mean().reset_index().rename(columns={'correct':'difficulty'})\n",
    "df=df.merge(difficulty,how='left',on='atom_id')"
   ]
  },
  {
   "cell_type": "code",
   "execution_count": 12,
   "id": "a1dab688-5428-40ac-8118-311b91cbb109",
   "metadata": {},
   "outputs": [],
   "source": [
    "lo_difficulty=df[~df.correct.isna()].groupby('learning_objective_name')['correct'].mean().reset_index().rename(columns={'correct':'lo_difficulty'})\n",
    "df=df.merge(lo_difficulty,how='left',on='learning_objective_name')\n"
   ]
  },
  {
   "cell_type": "code",
   "execution_count": null,
   "id": "14d483b0-11df-4898-a817-e767b0dc3df5",
   "metadata": {},
   "outputs": [],
   "source": []
  },
  {
   "cell_type": "code",
   "execution_count": 13,
   "id": "7b86048f-578b-4224-9473-3232a5701f11",
   "metadata": {},
   "outputs": [],
   "source": [
    "def atomClassifier(x):\n",
    "    if x==None:\n",
    "        return 'learningMaterial'\n",
    "    else:\n",
    "        return 'question'"
   ]
  },
  {
   "cell_type": "code",
   "execution_count": 14,
   "id": "87610521-7fba-48d6-aeac-1811fb01de86",
   "metadata": {
    "tags": []
   },
   "outputs": [],
   "source": [
    "df['atom_type']=df.correct.apply(lambda x:atomClassifier(x) )"
   ]
  },
  {
   "cell_type": "code",
   "execution_count": 15,
   "id": "500de9a3-0e73-4b0d-8750-daaa37ff3c3f",
   "metadata": {},
   "outputs": [],
   "source": [
    "df['correctBinary']=df.correct*1\n",
    "df.atom_id=df.atom_id.astype(str)\n"
   ]
  },
  {
   "cell_type": "code",
   "execution_count": 16,
   "id": "8bc2a1fc-522b-49ba-8173-b12a4aee0cf8",
   "metadata": {},
   "outputs": [],
   "source": [
    "df=df[~df.correctBinary.isna()]"
   ]
  },
  {
   "cell_type": "code",
   "execution_count": 17,
   "id": "2d4f1011-a714-4da2-86f2-4026ab4d7c34",
   "metadata": {},
   "outputs": [],
   "source": [
    "df2['graph_id']=df2.apply(lambda x: nodeSubGraphId.get(x['source_lo_title']) if nodeSubGraphId.get(x['source_lo_title'])!=None else nodeSubGraphId.get(x['dest_lo_title']),axis=1)"
   ]
  },
  {
   "cell_type": "code",
   "execution_count": null,
   "id": "5dd0e95a-406e-4f2f-b32c-622e322b84bd",
   "metadata": {},
   "outputs": [],
   "source": []
  },
  {
   "cell_type": "code",
   "execution_count": 18,
   "id": "2cc84cba-6974-4446-881a-18260e8f01e7",
   "metadata": {},
   "outputs": [],
   "source": [
    "unique_lo_graph_id_dic={}\n",
    "for i in df2.graph_id.unique():\n",
    "    unique_lo=np.unique(np.concatenate((df2[df2.graph_id==i]['source_lo_title'].unique(),((df2[df2.graph_id==i]['dest_lo_title'].unique())))))\n",
    "    unique_lo_graph_id_dic[i]={ item:int(num)  for  num,item in enumerate(unique_lo)}\n",
    "    df2.loc[df2.graph_id==i,'source_index' ]=df2.apply(lambda x: unique_lo_graph_id_dic.get(i).get(x['source_lo_title']),axis=1)\n",
    "    df2.loc[df2.graph_id==i,'dest_index' ]=df2.apply(lambda x: unique_lo_graph_id_dic.get(i).get(x['dest_lo_title']),axis=1)"
   ]
  },
  {
   "cell_type": "code",
   "execution_count": null,
   "id": "9424aa73-1688-46b2-9248-5ea057e5f32f",
   "metadata": {},
   "outputs": [],
   "source": []
  },
  {
   "cell_type": "code",
   "execution_count": 19,
   "id": "d0847797-9329-4ea9-a075-d6cc665a3d93",
   "metadata": {},
   "outputs": [],
   "source": [
    "df2.source_index=df2.source_index.astype(int)\n",
    "df2.dest_index=df2.dest_index.astype(int)"
   ]
  },
  {
   "cell_type": "code",
   "execution_count": null,
   "id": "279436e4-32ca-4a25-b131-1694a59e9138",
   "metadata": {},
   "outputs": [],
   "source": []
  },
  {
   "cell_type": "code",
   "execution_count": 20,
   "id": "286e06b8-4f74-4dca-8376-a98d1b84a5f9",
   "metadata": {},
   "outputs": [],
   "source": [
    "df=df[~df.loGraphID.isna()]"
   ]
  },
  {
   "cell_type": "code",
   "execution_count": 21,
   "id": "9e648a90-3003-4fb4-a828-ff6909f48abe",
   "metadata": {},
   "outputs": [],
   "source": [
    "#df['loIndex']=df.apply(lambda x: unique_lo_graph_id_dic[x['loGraphID']].get(x['learning_objective_name'] ),axis=1)"
   ]
  },
  {
   "cell_type": "code",
   "execution_count": 22,
   "id": "1f9ac69a-8012-442d-ac48-c39e4230752a",
   "metadata": {},
   "outputs": [
    {
     "data": {
      "text/plain": [
       "source_lo_id                    eda7ab6a-8070-4fd8-8387-da17a40fd99e\n",
       "dest_lo_id                      eda7ab6a-8070-4fd8-8387-da17a40fd99e\n",
       "source_lo_title    Write biconditional statements in symbolic for...\n",
       "dest_lo_title      Write biconditional statements in symbolic for...\n",
       "graph_id                                                           3\n",
       "source_index                                                      30\n",
       "dest_index                                                        30\n",
       "dtype: object"
      ]
     },
     "execution_count": 22,
     "metadata": {},
     "output_type": "execute_result"
    }
   ],
   "source": [
    "df2[df2.graph_id==3].max()"
   ]
  },
  {
   "cell_type": "code",
   "execution_count": 23,
   "id": "93033318-79e7-4569-8e9b-764e2a855046",
   "metadata": {},
   "outputs": [],
   "source": [
    "summary=df.pivot_table(index='goal_id',aggfunc={'learning_objective_name':pd.Series.nunique,'atom_id':pd.Series.nunique,'user_id':pd.Series.nunique,'interaction_end_time':np.count_nonzero})"
   ]
  },
  {
   "cell_type": "code",
   "execution_count": 24,
   "id": "3fb473fd-c5c8-47d7-aa25-0ce3c7bfa0bd",
   "metadata": {},
   "outputs": [],
   "source": [
    "summary['atom_usage']=summary.interaction_end_time/summary.atom_id"
   ]
  },
  {
   "cell_type": "code",
   "execution_count": 25,
   "id": "181cd1f5-008f-4c74-ba24-5db54a124fc1",
   "metadata": {},
   "outputs": [
    {
     "data": {
      "text/html": [
       "<div>\n",
       "<style scoped>\n",
       "    .dataframe tbody tr th:only-of-type {\n",
       "        vertical-align: middle;\n",
       "    }\n",
       "\n",
       "    .dataframe tbody tr th {\n",
       "        vertical-align: top;\n",
       "    }\n",
       "\n",
       "    .dataframe thead th {\n",
       "        text-align: right;\n",
       "    }\n",
       "</style>\n",
       "<table border=\"1\" class=\"dataframe\">\n",
       "  <thead>\n",
       "    <tr style=\"text-align: right;\">\n",
       "      <th></th>\n",
       "      <th>atom_id</th>\n",
       "      <th>interaction_end_time</th>\n",
       "      <th>learning_objective_name</th>\n",
       "      <th>user_id</th>\n",
       "      <th>atom_usage</th>\n",
       "    </tr>\n",
       "    <tr>\n",
       "      <th>goal_id</th>\n",
       "      <th></th>\n",
       "      <th></th>\n",
       "      <th></th>\n",
       "      <th></th>\n",
       "      <th></th>\n",
       "    </tr>\n",
       "  </thead>\n",
       "  <tbody>\n",
       "    <tr>\n",
       "      <th>39f38cfd-d153-4fcf-950e-5c1b2bfbeaaa</th>\n",
       "      <td>72</td>\n",
       "      <td>8793</td>\n",
       "      <td>3</td>\n",
       "      <td>289</td>\n",
       "      <td>122.125000</td>\n",
       "    </tr>\n",
       "    <tr>\n",
       "      <th>d252b7df-6a57-46ff-b4c3-e21d26d80b6a</th>\n",
       "      <td>82</td>\n",
       "      <td>9887</td>\n",
       "      <td>5</td>\n",
       "      <td>253</td>\n",
       "      <td>120.573171</td>\n",
       "    </tr>\n",
       "    <tr>\n",
       "      <th>cd26c1cb-87ad-4b57-bdeb-7e8811827e39</th>\n",
       "      <td>59</td>\n",
       "      <td>5764</td>\n",
       "      <td>3</td>\n",
       "      <td>194</td>\n",
       "      <td>97.694915</td>\n",
       "    </tr>\n",
       "    <tr>\n",
       "      <th>86940cba-2a55-43a6-8f51-248afca9952d</th>\n",
       "      <td>26</td>\n",
       "      <td>1974</td>\n",
       "      <td>1</td>\n",
       "      <td>291</td>\n",
       "      <td>75.923077</td>\n",
       "    </tr>\n",
       "    <tr>\n",
       "      <th>caacf0e3-8698-4806-8ce8-a45d8f75b587</th>\n",
       "      <td>59</td>\n",
       "      <td>4396</td>\n",
       "      <td>3</td>\n",
       "      <td>240</td>\n",
       "      <td>74.508475</td>\n",
       "    </tr>\n",
       "    <tr>\n",
       "      <th>12b7f97f-18be-4a9e-9384-866a036631d4</th>\n",
       "      <td>103</td>\n",
       "      <td>7107</td>\n",
       "      <td>5</td>\n",
       "      <td>260</td>\n",
       "      <td>69.000000</td>\n",
       "    </tr>\n",
       "    <tr>\n",
       "      <th>9059c88d-ccdd-42dd-a19f-fe7c9bafd6aa</th>\n",
       "      <td>47</td>\n",
       "      <td>3236</td>\n",
       "      <td>2</td>\n",
       "      <td>255</td>\n",
       "      <td>68.851064</td>\n",
       "    </tr>\n",
       "    <tr>\n",
       "      <th>46e93a47-9de8-4982-82ec-6e3acb911c54</th>\n",
       "      <td>116</td>\n",
       "      <td>7116</td>\n",
       "      <td>6</td>\n",
       "      <td>240</td>\n",
       "      <td>61.344828</td>\n",
       "    </tr>\n",
       "    <tr>\n",
       "      <th>917d2bb2-451f-4f65-8eec-7a8125c9a596</th>\n",
       "      <td>39</td>\n",
       "      <td>2220</td>\n",
       "      <td>2</td>\n",
       "      <td>140</td>\n",
       "      <td>56.923077</td>\n",
       "    </tr>\n",
       "    <tr>\n",
       "      <th>ebb614bf-c45c-4b77-a5f7-168e4569b280</th>\n",
       "      <td>32</td>\n",
       "      <td>1782</td>\n",
       "      <td>2</td>\n",
       "      <td>119</td>\n",
       "      <td>55.687500</td>\n",
       "    </tr>\n",
       "  </tbody>\n",
       "</table>\n",
       "</div>"
      ],
      "text/plain": [
       "                                      atom_id  interaction_end_time  \\\n",
       "goal_id                                                               \n",
       "39f38cfd-d153-4fcf-950e-5c1b2bfbeaaa       72                  8793   \n",
       "d252b7df-6a57-46ff-b4c3-e21d26d80b6a       82                  9887   \n",
       "cd26c1cb-87ad-4b57-bdeb-7e8811827e39       59                  5764   \n",
       "86940cba-2a55-43a6-8f51-248afca9952d       26                  1974   \n",
       "caacf0e3-8698-4806-8ce8-a45d8f75b587       59                  4396   \n",
       "12b7f97f-18be-4a9e-9384-866a036631d4      103                  7107   \n",
       "9059c88d-ccdd-42dd-a19f-fe7c9bafd6aa       47                  3236   \n",
       "46e93a47-9de8-4982-82ec-6e3acb911c54      116                  7116   \n",
       "917d2bb2-451f-4f65-8eec-7a8125c9a596       39                  2220   \n",
       "ebb614bf-c45c-4b77-a5f7-168e4569b280       32                  1782   \n",
       "\n",
       "                                      learning_objective_name  user_id  \\\n",
       "goal_id                                                                  \n",
       "39f38cfd-d153-4fcf-950e-5c1b2bfbeaaa                        3      289   \n",
       "d252b7df-6a57-46ff-b4c3-e21d26d80b6a                        5      253   \n",
       "cd26c1cb-87ad-4b57-bdeb-7e8811827e39                        3      194   \n",
       "86940cba-2a55-43a6-8f51-248afca9952d                        1      291   \n",
       "caacf0e3-8698-4806-8ce8-a45d8f75b587                        3      240   \n",
       "12b7f97f-18be-4a9e-9384-866a036631d4                        5      260   \n",
       "9059c88d-ccdd-42dd-a19f-fe7c9bafd6aa                        2      255   \n",
       "46e93a47-9de8-4982-82ec-6e3acb911c54                        6      240   \n",
       "917d2bb2-451f-4f65-8eec-7a8125c9a596                        2      140   \n",
       "ebb614bf-c45c-4b77-a5f7-168e4569b280                        2      119   \n",
       "\n",
       "                                      atom_usage  \n",
       "goal_id                                           \n",
       "39f38cfd-d153-4fcf-950e-5c1b2bfbeaaa  122.125000  \n",
       "d252b7df-6a57-46ff-b4c3-e21d26d80b6a  120.573171  \n",
       "cd26c1cb-87ad-4b57-bdeb-7e8811827e39   97.694915  \n",
       "86940cba-2a55-43a6-8f51-248afca9952d   75.923077  \n",
       "caacf0e3-8698-4806-8ce8-a45d8f75b587   74.508475  \n",
       "12b7f97f-18be-4a9e-9384-866a036631d4   69.000000  \n",
       "9059c88d-ccdd-42dd-a19f-fe7c9bafd6aa   68.851064  \n",
       "46e93a47-9de8-4982-82ec-6e3acb911c54   61.344828  \n",
       "917d2bb2-451f-4f65-8eec-7a8125c9a596   56.923077  \n",
       "ebb614bf-c45c-4b77-a5f7-168e4569b280   55.687500  "
      ]
     },
     "execution_count": 25,
     "metadata": {},
     "output_type": "execute_result"
    }
   ],
   "source": [
    "summary.sort_values('atom_usage',ascending=False).head(10)"
   ]
  },
  {
   "cell_type": "code",
   "execution_count": null,
   "id": "23a922a7-34a5-4b92-84cc-888bb28625cf",
   "metadata": {},
   "outputs": [],
   "source": []
  },
  {
   "cell_type": "code",
   "execution_count": null,
   "id": "bad7795a-941a-4d7f-bb6d-6d436932dd34",
   "metadata": {},
   "outputs": [],
   "source": []
  },
  {
   "cell_type": "code",
   "execution_count": 187,
   "id": "b640b5b3-6ec2-4184-a8bb-fb4982769ef4",
   "metadata": {},
   "outputs": [],
   "source": [
    "loGraphID=3\n",
    "user=df[df.loGraphID==loGraphID].user_id.sample(2).values\n",
    "\n",
    "dfg=df[(df.loGraphID==loGraphID) & (df.user_id.isin(user)) ].reset_index(drop=True)"
   ]
  },
  {
   "cell_type": "code",
   "execution_count": 188,
   "id": "0f31d59c-d3f7-43e6-8012-160ea095e2ff",
   "metadata": {},
   "outputs": [],
   "source": [
    "dfg=dfg.sort_values(['user_id','interaction_end_time'])"
   ]
  },
  {
   "cell_type": "code",
   "execution_count": 189,
   "id": "7b08eaa4-c28f-4410-bf2c-3aa3211b7504",
   "metadata": {},
   "outputs": [],
   "source": [
    "atom_index={atom_id:i for i,atom_id  in  enumerate(dfg.atom_id.unique())}"
   ]
  },
  {
   "cell_type": "code",
   "execution_count": 190,
   "id": "3b77c3bf-4759-4008-9214-13ebc0f7325d",
   "metadata": {},
   "outputs": [],
   "source": [
    "dfg['atomIndex']=dfg.atom_id.map(atom_index)"
   ]
  },
  {
   "cell_type": "code",
   "execution_count": 191,
   "id": "abd7a2ce-716a-4251-9fa1-d2fd076ffd4e",
   "metadata": {},
   "outputs": [],
   "source": [
    "loEdgeMapping=df2[df2['graph_id']==loGraphID][['source_index','dest_index']]\n",
    "lo_edges=loEdgeMapping.values.transpose()"
   ]
  },
  {
   "cell_type": "code",
   "execution_count": 192,
   "id": "605a2bac-7a98-4f6f-a657-626e3d1bce95",
   "metadata": {},
   "outputs": [],
   "source": [
    "lo_map=pd.concat([df2[df2['graph_id']==loGraphID][['source_lo_title','source_index']].rename(columns={'source_lo_title':'learning_objective_name','source_index':'loIndex'}),df2[df2['graph_id']==loGraphID][['dest_lo_title','dest_index']].rename(columns={'dest_lo_title':'learning_objective_name','dest_index':'loIndex'})]).drop_duplicates().reset_index(drop=True)"
   ]
  },
  {
   "cell_type": "code",
   "execution_count": null,
   "id": "acd867ea-5c4c-41aa-85fb-918c46975bfc",
   "metadata": {},
   "outputs": [],
   "source": []
  },
  {
   "cell_type": "code",
   "execution_count": 193,
   "id": "dda9f9ca-956a-4c67-bcbb-55762a1ecf64",
   "metadata": {},
   "outputs": [],
   "source": [
    "dfg['atomIndex']=dfg.atom_id.map(atom_index)"
   ]
  },
  {
   "cell_type": "code",
   "execution_count": 194,
   "id": "d1edc182-77a3-4968-927c-e64a4f68e4ce",
   "metadata": {},
   "outputs": [],
   "source": [
    "#loIndex={lo:i for i,lo in enumerate( dfg.learning_objective_name.unique())}\n",
    "#dfg['loIndex']=dfg['learning_objective_name'].apply(lambda x: loIndex[x])"
   ]
  },
  {
   "cell_type": "code",
   "execution_count": 195,
   "id": "80c5cacc-5dcb-4722-a1bf-985449eb29ea",
   "metadata": {},
   "outputs": [],
   "source": [
    "dfg=dfg.merge(lo_map,on='learning_objective_name',how='left')"
   ]
  },
  {
   "cell_type": "code",
   "execution_count": 196,
   "id": "7df530d7-0456-4180-b8e1-f20e5c6cf6d7",
   "metadata": {},
   "outputs": [
    {
     "data": {
      "text/html": [
       "<div>\n",
       "<style scoped>\n",
       "    .dataframe tbody tr th:only-of-type {\n",
       "        vertical-align: middle;\n",
       "    }\n",
       "\n",
       "    .dataframe tbody tr th {\n",
       "        vertical-align: top;\n",
       "    }\n",
       "\n",
       "    .dataframe thead th {\n",
       "        text-align: right;\n",
       "    }\n",
       "</style>\n",
       "<table border=\"1\" class=\"dataframe\">\n",
       "  <thead>\n",
       "    <tr style=\"text-align: right;\">\n",
       "      <th></th>\n",
       "      <th>graph_id</th>\n",
       "      <th>user_id</th>\n",
       "      <th>goal_id</th>\n",
       "      <th>interaction_end_time</th>\n",
       "      <th>learning_objective_name</th>\n",
       "      <th>atom_id</th>\n",
       "      <th>correct</th>\n",
       "      <th>time_spent_answering_s</th>\n",
       "      <th>time_spent_on_instruction_s</th>\n",
       "      <th>goal_progress</th>\n",
       "      <th>target_status_and_progress</th>\n",
       "      <th>prev_concept_narrative</th>\n",
       "      <th>duration_s</th>\n",
       "      <th>is_target</th>\n",
       "      <th>loGraphID</th>\n",
       "      <th>difficulty</th>\n",
       "      <th>lo_difficulty</th>\n",
       "      <th>atom_type</th>\n",
       "      <th>correctBinary</th>\n",
       "      <th>atomIndex</th>\n",
       "      <th>loIndex</th>\n",
       "    </tr>\n",
       "  </thead>\n",
       "  <tbody>\n",
       "    <tr>\n",
       "      <th>0</th>\n",
       "      <td>076e1a0e-669c-40c4-a23c-7ac2bbaa05cf</td>\n",
       "      <td>9a9fd7d6-cbbc-4174-8735-24a2bc4ca9f4</td>\n",
       "      <td>dbe7501c-5932-4d44-b41f-de5ef4ad5798</td>\n",
       "      <td>2022-09-13 01:24:49.816</td>\n",
       "      <td>Identify and negate quantified statements</td>\n",
       "      <td>a3e3ad80-e479-4c76-b1fe-2818be405810</td>\n",
       "      <td>False</td>\n",
       "      <td>36.771000</td>\n",
       "      <td>19.398001</td>\n",
       "      <td>0.004846</td>\n",
       "      <td>{'5310af35-3169-4538-a1c9-3a4933b680cd': {'pro...</td>\n",
       "      <td>DIRECT_CHOOSE_TOPIC</td>\n",
       "      <td>56.168999</td>\n",
       "      <td>True</td>\n",
       "      <td>3.0</td>\n",
       "      <td>0.595402</td>\n",
       "      <td>0.486775</td>\n",
       "      <td>question</td>\n",
       "      <td>0</td>\n",
       "      <td>0</td>\n",
       "      <td>16</td>\n",
       "    </tr>\n",
       "    <tr>\n",
       "      <th>1</th>\n",
       "      <td>076e1a0e-669c-40c4-a23c-7ac2bbaa05cf</td>\n",
       "      <td>9a9fd7d6-cbbc-4174-8735-24a2bc4ca9f4</td>\n",
       "      <td>dbe7501c-5932-4d44-b41f-de5ef4ad5798</td>\n",
       "      <td>2022-09-13 01:25:35.106</td>\n",
       "      <td>Identify and negate simple statements</td>\n",
       "      <td>106d0cd1-7977-48b2-950c-144b5192fea9</td>\n",
       "      <td>True</td>\n",
       "      <td>41.959000</td>\n",
       "      <td>2.988000</td>\n",
       "      <td>0.121728</td>\n",
       "      <td>{'5310af35-3169-4538-a1c9-3a4933b680cd': {'pro...</td>\n",
       "      <td>DIRECT_DIAGNOSE_TOPIC</td>\n",
       "      <td>44.946999</td>\n",
       "      <td>True</td>\n",
       "      <td>3.0</td>\n",
       "      <td>0.695804</td>\n",
       "      <td>0.581220</td>\n",
       "      <td>question</td>\n",
       "      <td>1</td>\n",
       "      <td>1</td>\n",
       "      <td>17</td>\n",
       "    </tr>\n",
       "    <tr>\n",
       "      <th>2</th>\n",
       "      <td>076e1a0e-669c-40c4-a23c-7ac2bbaa05cf</td>\n",
       "      <td>9a9fd7d6-cbbc-4174-8735-24a2bc4ca9f4</td>\n",
       "      <td>dbe7501c-5932-4d44-b41f-de5ef4ad5798</td>\n",
       "      <td>2022-09-13 01:26:16.318</td>\n",
       "      <td>Identify and negate quantified statements</td>\n",
       "      <td>af31b1fb-8d0f-490f-98c0-5e0bc69ae9fe</td>\n",
       "      <td>False</td>\n",
       "      <td>37.349998</td>\n",
       "      <td>3.526000</td>\n",
       "      <td>0.118187</td>\n",
       "      <td>{'5310af35-3169-4538-a1c9-3a4933b680cd': {'pro...</td>\n",
       "      <td>DIRECT_DIAGNOSE_TOPIC</td>\n",
       "      <td>40.875999</td>\n",
       "      <td>True</td>\n",
       "      <td>3.0</td>\n",
       "      <td>0.495238</td>\n",
       "      <td>0.486775</td>\n",
       "      <td>question</td>\n",
       "      <td>0</td>\n",
       "      <td>2</td>\n",
       "      <td>16</td>\n",
       "    </tr>\n",
       "    <tr>\n",
       "      <th>3</th>\n",
       "      <td>076e1a0e-669c-40c4-a23c-7ac2bbaa05cf</td>\n",
       "      <td>9a9fd7d6-cbbc-4174-8735-24a2bc4ca9f4</td>\n",
       "      <td>dbe7501c-5932-4d44-b41f-de5ef4ad5798</td>\n",
       "      <td>2022-09-13 01:26:59.496</td>\n",
       "      <td>Identify and negate simple statements</td>\n",
       "      <td>038f2107-3e8a-4bd7-9980-884dc4854ac9</td>\n",
       "      <td>True</td>\n",
       "      <td>40.674000</td>\n",
       "      <td>2.241000</td>\n",
       "      <td>0.257601</td>\n",
       "      <td>{'5310af35-3169-4538-a1c9-3a4933b680cd': {'pro...</td>\n",
       "      <td>DIRECT_DIAGNOSE_TOPIC</td>\n",
       "      <td>42.915001</td>\n",
       "      <td>True</td>\n",
       "      <td>3.0</td>\n",
       "      <td>0.678030</td>\n",
       "      <td>0.581220</td>\n",
       "      <td>question</td>\n",
       "      <td>1</td>\n",
       "      <td>3</td>\n",
       "      <td>17</td>\n",
       "    </tr>\n",
       "    <tr>\n",
       "      <th>4</th>\n",
       "      <td>076e1a0e-669c-40c4-a23c-7ac2bbaa05cf</td>\n",
       "      <td>9a9fd7d6-cbbc-4174-8735-24a2bc4ca9f4</td>\n",
       "      <td>dbe7501c-5932-4d44-b41f-de5ef4ad5798</td>\n",
       "      <td>2022-09-13 04:19:10.110</td>\n",
       "      <td>Identify and negate simple statements</td>\n",
       "      <td>f01c536d-c25e-4565-8a56-3ec2ff2a6d01</td>\n",
       "      <td>True</td>\n",
       "      <td>27.047001</td>\n",
       "      <td>2.076000</td>\n",
       "      <td>0.384925</td>\n",
       "      <td>{'5310af35-3169-4538-a1c9-3a4933b680cd': {'pro...</td>\n",
       "      <td>DIRECT_DIAGNOSE_TOPIC</td>\n",
       "      <td>29.123001</td>\n",
       "      <td>True</td>\n",
       "      <td>3.0</td>\n",
       "      <td>0.316327</td>\n",
       "      <td>0.581220</td>\n",
       "      <td>question</td>\n",
       "      <td>1</td>\n",
       "      <td>4</td>\n",
       "      <td>17</td>\n",
       "    </tr>\n",
       "    <tr>\n",
       "      <th>...</th>\n",
       "      <td>...</td>\n",
       "      <td>...</td>\n",
       "      <td>...</td>\n",
       "      <td>...</td>\n",
       "      <td>...</td>\n",
       "      <td>...</td>\n",
       "      <td>...</td>\n",
       "      <td>...</td>\n",
       "      <td>...</td>\n",
       "      <td>...</td>\n",
       "      <td>...</td>\n",
       "      <td>...</td>\n",
       "      <td>...</td>\n",
       "      <td>...</td>\n",
       "      <td>...</td>\n",
       "      <td>...</td>\n",
       "      <td>...</td>\n",
       "      <td>...</td>\n",
       "      <td>...</td>\n",
       "      <td>...</td>\n",
       "      <td>...</td>\n",
       "    </tr>\n",
       "    <tr>\n",
       "      <th>461</th>\n",
       "      <td>076e1a0e-669c-40c4-a23c-7ac2bbaa05cf</td>\n",
       "      <td>a00254a5-5444-4527-b5b1-4aa66c2bde6f</td>\n",
       "      <td>5b1889ca-a0ae-48ba-9076-fe94eca8bb21</td>\n",
       "      <td>2022-09-30 11:59:05.270</td>\n",
       "      <td>Identify and validate the standard forms of ar...</td>\n",
       "      <td>e3c2300c-307a-4358-8dd4-64f341476734</td>\n",
       "      <td>True</td>\n",
       "      <td>54.925999</td>\n",
       "      <td>2.688000</td>\n",
       "      <td>1.000000</td>\n",
       "      <td>{'965861e5-3166-4577-95da-2c7795504318': {'pro...</td>\n",
       "      <td>CONTINUED_RECS</td>\n",
       "      <td>57.613998</td>\n",
       "      <td>True</td>\n",
       "      <td>3.0</td>\n",
       "      <td>0.464646</td>\n",
       "      <td>0.502957</td>\n",
       "      <td>question</td>\n",
       "      <td>1</td>\n",
       "      <td>148</td>\n",
       "      <td>18</td>\n",
       "    </tr>\n",
       "    <tr>\n",
       "      <th>462</th>\n",
       "      <td>076e1a0e-669c-40c4-a23c-7ac2bbaa05cf</td>\n",
       "      <td>a00254a5-5444-4527-b5b1-4aa66c2bde6f</td>\n",
       "      <td>5b1889ca-a0ae-48ba-9076-fe94eca8bb21</td>\n",
       "      <td>2022-09-30 11:59:51.757</td>\n",
       "      <td>Draw a conclusion from a conditional statement</td>\n",
       "      <td>90212e46-137d-44cc-b625-f427a72b5282</td>\n",
       "      <td>True</td>\n",
       "      <td>43.855999</td>\n",
       "      <td>2.427000</td>\n",
       "      <td>1.000000</td>\n",
       "      <td>{'965861e5-3166-4577-95da-2c7795504318': {'pro...</td>\n",
       "      <td>CONTINUED_RECS</td>\n",
       "      <td>46.282997</td>\n",
       "      <td>True</td>\n",
       "      <td>3.0</td>\n",
       "      <td>0.676768</td>\n",
       "      <td>0.676823</td>\n",
       "      <td>question</td>\n",
       "      <td>1</td>\n",
       "      <td>147</td>\n",
       "      <td>15</td>\n",
       "    </tr>\n",
       "    <tr>\n",
       "      <th>463</th>\n",
       "      <td>076e1a0e-669c-40c4-a23c-7ac2bbaa05cf</td>\n",
       "      <td>a00254a5-5444-4527-b5b1-4aa66c2bde6f</td>\n",
       "      <td>5b1889ca-a0ae-48ba-9076-fe94eca8bb21</td>\n",
       "      <td>2022-09-30 12:00:29.306</td>\n",
       "      <td>Represent a syllogistic argument with a Euler ...</td>\n",
       "      <td>5a33c635-c002-49c1-b30c-7ac3868aa3f2</td>\n",
       "      <td>False</td>\n",
       "      <td>25.900999</td>\n",
       "      <td>11.413000</td>\n",
       "      <td>1.000000</td>\n",
       "      <td>{'965861e5-3166-4577-95da-2c7795504318': {'pro...</td>\n",
       "      <td>CONTINUED_RECS</td>\n",
       "      <td>37.313999</td>\n",
       "      <td>True</td>\n",
       "      <td>3.0</td>\n",
       "      <td>0.598039</td>\n",
       "      <td>0.675532</td>\n",
       "      <td>question</td>\n",
       "      <td>0</td>\n",
       "      <td>176</td>\n",
       "      <td>23</td>\n",
       "    </tr>\n",
       "    <tr>\n",
       "      <th>464</th>\n",
       "      <td>076e1a0e-669c-40c4-a23c-7ac2bbaa05cf</td>\n",
       "      <td>a00254a5-5444-4527-b5b1-4aa66c2bde6f</td>\n",
       "      <td>fcbc33fa-2004-41bb-ab7b-1650cac23795</td>\n",
       "      <td>2022-09-30 12:04:42.831</td>\n",
       "      <td>Construct a truth table for a statement with a...</td>\n",
       "      <td>78f3fcef-0d2a-4318-a091-fca52e2c664f</td>\n",
       "      <td>False</td>\n",
       "      <td>123.180000</td>\n",
       "      <td>21.658001</td>\n",
       "      <td>0.066586</td>\n",
       "      <td>{'136c6cb0-5549-414b-9a99-d0b4fe774a79': {'pro...</td>\n",
       "      <td>DIRECT_CHOOSE_TOPIC</td>\n",
       "      <td>144.837997</td>\n",
       "      <td>True</td>\n",
       "      <td>3.0</td>\n",
       "      <td>0.457831</td>\n",
       "      <td>0.514105</td>\n",
       "      <td>question</td>\n",
       "      <td>0</td>\n",
       "      <td>293</td>\n",
       "      <td>3</td>\n",
       "    </tr>\n",
       "    <tr>\n",
       "      <th>465</th>\n",
       "      <td>076e1a0e-669c-40c4-a23c-7ac2bbaa05cf</td>\n",
       "      <td>a00254a5-5444-4527-b5b1-4aa66c2bde6f</td>\n",
       "      <td>fcbc33fa-2004-41bb-ab7b-1650cac23795</td>\n",
       "      <td>2022-09-30 12:05:05.426</td>\n",
       "      <td>Construct a truth table for a statement with a...</td>\n",
       "      <td>e3e2041b-5fde-4220-b04b-104651cc51ab</td>\n",
       "      <td>True</td>\n",
       "      <td>19.139999</td>\n",
       "      <td>3.196000</td>\n",
       "      <td>0.536867</td>\n",
       "      <td>{'136c6cb0-5549-414b-9a99-d0b4fe774a79': {'pro...</td>\n",
       "      <td>DIRECT_DIAGNOSE_TOPIC</td>\n",
       "      <td>22.335999</td>\n",
       "      <td>True</td>\n",
       "      <td>3.0</td>\n",
       "      <td>0.703704</td>\n",
       "      <td>0.514105</td>\n",
       "      <td>question</td>\n",
       "      <td>1</td>\n",
       "      <td>294</td>\n",
       "      <td>3</td>\n",
       "    </tr>\n",
       "  </tbody>\n",
       "</table>\n",
       "<p>466 rows × 21 columns</p>\n",
       "</div>"
      ],
      "text/plain": [
       "                                 graph_id  \\\n",
       "0    076e1a0e-669c-40c4-a23c-7ac2bbaa05cf   \n",
       "1    076e1a0e-669c-40c4-a23c-7ac2bbaa05cf   \n",
       "2    076e1a0e-669c-40c4-a23c-7ac2bbaa05cf   \n",
       "3    076e1a0e-669c-40c4-a23c-7ac2bbaa05cf   \n",
       "4    076e1a0e-669c-40c4-a23c-7ac2bbaa05cf   \n",
       "..                                    ...   \n",
       "461  076e1a0e-669c-40c4-a23c-7ac2bbaa05cf   \n",
       "462  076e1a0e-669c-40c4-a23c-7ac2bbaa05cf   \n",
       "463  076e1a0e-669c-40c4-a23c-7ac2bbaa05cf   \n",
       "464  076e1a0e-669c-40c4-a23c-7ac2bbaa05cf   \n",
       "465  076e1a0e-669c-40c4-a23c-7ac2bbaa05cf   \n",
       "\n",
       "                                  user_id  \\\n",
       "0    9a9fd7d6-cbbc-4174-8735-24a2bc4ca9f4   \n",
       "1    9a9fd7d6-cbbc-4174-8735-24a2bc4ca9f4   \n",
       "2    9a9fd7d6-cbbc-4174-8735-24a2bc4ca9f4   \n",
       "3    9a9fd7d6-cbbc-4174-8735-24a2bc4ca9f4   \n",
       "4    9a9fd7d6-cbbc-4174-8735-24a2bc4ca9f4   \n",
       "..                                    ...   \n",
       "461  a00254a5-5444-4527-b5b1-4aa66c2bde6f   \n",
       "462  a00254a5-5444-4527-b5b1-4aa66c2bde6f   \n",
       "463  a00254a5-5444-4527-b5b1-4aa66c2bde6f   \n",
       "464  a00254a5-5444-4527-b5b1-4aa66c2bde6f   \n",
       "465  a00254a5-5444-4527-b5b1-4aa66c2bde6f   \n",
       "\n",
       "                                  goal_id    interaction_end_time  \\\n",
       "0    dbe7501c-5932-4d44-b41f-de5ef4ad5798 2022-09-13 01:24:49.816   \n",
       "1    dbe7501c-5932-4d44-b41f-de5ef4ad5798 2022-09-13 01:25:35.106   \n",
       "2    dbe7501c-5932-4d44-b41f-de5ef4ad5798 2022-09-13 01:26:16.318   \n",
       "3    dbe7501c-5932-4d44-b41f-de5ef4ad5798 2022-09-13 01:26:59.496   \n",
       "4    dbe7501c-5932-4d44-b41f-de5ef4ad5798 2022-09-13 04:19:10.110   \n",
       "..                                    ...                     ...   \n",
       "461  5b1889ca-a0ae-48ba-9076-fe94eca8bb21 2022-09-30 11:59:05.270   \n",
       "462  5b1889ca-a0ae-48ba-9076-fe94eca8bb21 2022-09-30 11:59:51.757   \n",
       "463  5b1889ca-a0ae-48ba-9076-fe94eca8bb21 2022-09-30 12:00:29.306   \n",
       "464  fcbc33fa-2004-41bb-ab7b-1650cac23795 2022-09-30 12:04:42.831   \n",
       "465  fcbc33fa-2004-41bb-ab7b-1650cac23795 2022-09-30 12:05:05.426   \n",
       "\n",
       "                               learning_objective_name  \\\n",
       "0            Identify and negate quantified statements   \n",
       "1                Identify and negate simple statements   \n",
       "2            Identify and negate quantified statements   \n",
       "3                Identify and negate simple statements   \n",
       "4                Identify and negate simple statements   \n",
       "..                                                 ...   \n",
       "461  Identify and validate the standard forms of ar...   \n",
       "462     Draw a conclusion from a conditional statement   \n",
       "463  Represent a syllogistic argument with a Euler ...   \n",
       "464  Construct a truth table for a statement with a...   \n",
       "465  Construct a truth table for a statement with a...   \n",
       "\n",
       "                                  atom_id correct  time_spent_answering_s  \\\n",
       "0    a3e3ad80-e479-4c76-b1fe-2818be405810   False               36.771000   \n",
       "1    106d0cd1-7977-48b2-950c-144b5192fea9    True               41.959000   \n",
       "2    af31b1fb-8d0f-490f-98c0-5e0bc69ae9fe   False               37.349998   \n",
       "3    038f2107-3e8a-4bd7-9980-884dc4854ac9    True               40.674000   \n",
       "4    f01c536d-c25e-4565-8a56-3ec2ff2a6d01    True               27.047001   \n",
       "..                                    ...     ...                     ...   \n",
       "461  e3c2300c-307a-4358-8dd4-64f341476734    True               54.925999   \n",
       "462  90212e46-137d-44cc-b625-f427a72b5282    True               43.855999   \n",
       "463  5a33c635-c002-49c1-b30c-7ac3868aa3f2   False               25.900999   \n",
       "464  78f3fcef-0d2a-4318-a091-fca52e2c664f   False              123.180000   \n",
       "465  e3e2041b-5fde-4220-b04b-104651cc51ab    True               19.139999   \n",
       "\n",
       "     time_spent_on_instruction_s  goal_progress  \\\n",
       "0                      19.398001       0.004846   \n",
       "1                       2.988000       0.121728   \n",
       "2                       3.526000       0.118187   \n",
       "3                       2.241000       0.257601   \n",
       "4                       2.076000       0.384925   \n",
       "..                           ...            ...   \n",
       "461                     2.688000       1.000000   \n",
       "462                     2.427000       1.000000   \n",
       "463                    11.413000       1.000000   \n",
       "464                    21.658001       0.066586   \n",
       "465                     3.196000       0.536867   \n",
       "\n",
       "                            target_status_and_progress prev_concept_narrative  \\\n",
       "0    {'5310af35-3169-4538-a1c9-3a4933b680cd': {'pro...    DIRECT_CHOOSE_TOPIC   \n",
       "1    {'5310af35-3169-4538-a1c9-3a4933b680cd': {'pro...  DIRECT_DIAGNOSE_TOPIC   \n",
       "2    {'5310af35-3169-4538-a1c9-3a4933b680cd': {'pro...  DIRECT_DIAGNOSE_TOPIC   \n",
       "3    {'5310af35-3169-4538-a1c9-3a4933b680cd': {'pro...  DIRECT_DIAGNOSE_TOPIC   \n",
       "4    {'5310af35-3169-4538-a1c9-3a4933b680cd': {'pro...  DIRECT_DIAGNOSE_TOPIC   \n",
       "..                                                 ...                    ...   \n",
       "461  {'965861e5-3166-4577-95da-2c7795504318': {'pro...         CONTINUED_RECS   \n",
       "462  {'965861e5-3166-4577-95da-2c7795504318': {'pro...         CONTINUED_RECS   \n",
       "463  {'965861e5-3166-4577-95da-2c7795504318': {'pro...         CONTINUED_RECS   \n",
       "464  {'136c6cb0-5549-414b-9a99-d0b4fe774a79': {'pro...    DIRECT_CHOOSE_TOPIC   \n",
       "465  {'136c6cb0-5549-414b-9a99-d0b4fe774a79': {'pro...  DIRECT_DIAGNOSE_TOPIC   \n",
       "\n",
       "     duration_s  is_target  loGraphID  difficulty  lo_difficulty atom_type  \\\n",
       "0     56.168999       True        3.0    0.595402       0.486775  question   \n",
       "1     44.946999       True        3.0    0.695804       0.581220  question   \n",
       "2     40.875999       True        3.0    0.495238       0.486775  question   \n",
       "3     42.915001       True        3.0    0.678030       0.581220  question   \n",
       "4     29.123001       True        3.0    0.316327       0.581220  question   \n",
       "..          ...        ...        ...         ...            ...       ...   \n",
       "461   57.613998       True        3.0    0.464646       0.502957  question   \n",
       "462   46.282997       True        3.0    0.676768       0.676823  question   \n",
       "463   37.313999       True        3.0    0.598039       0.675532  question   \n",
       "464  144.837997       True        3.0    0.457831       0.514105  question   \n",
       "465   22.335999       True        3.0    0.703704       0.514105  question   \n",
       "\n",
       "    correctBinary  atomIndex  loIndex  \n",
       "0               0          0       16  \n",
       "1               1          1       17  \n",
       "2               0          2       16  \n",
       "3               1          3       17  \n",
       "4               1          4       17  \n",
       "..            ...        ...      ...  \n",
       "461             1        148       18  \n",
       "462             1        147       15  \n",
       "463             0        176       23  \n",
       "464             0        293        3  \n",
       "465             1        294        3  \n",
       "\n",
       "[466 rows x 21 columns]"
      ]
     },
     "execution_count": 196,
     "metadata": {},
     "output_type": "execute_result"
    }
   ],
   "source": [
    "dfg"
   ]
  },
  {
   "cell_type": "code",
   "execution_count": 197,
   "id": "b7f09dc1-f23c-4865-83c1-009a9e4c6f39",
   "metadata": {},
   "outputs": [],
   "source": [
    "question_sequence=dfg[['loIndex','atomIndex','correctBinary']].values.transpose()"
   ]
  },
  {
   "cell_type": "code",
   "execution_count": 198,
   "id": "0490042b-0bb2-4ef4-ba84-b1411b7731c2",
   "metadata": {},
   "outputs": [],
   "source": [
    "lo_atom_edges_list=dfg.groupby(['loIndex','atomIndex'])['graph_id'].nunique().index.to_list()"
   ]
  },
  {
   "cell_type": "code",
   "execution_count": 199,
   "id": "ab3133c6-a3bb-4f6d-bb97-af994b52dcf7",
   "metadata": {},
   "outputs": [],
   "source": [
    "question_sequence_len=question_sequence.shape[1]\n",
    "\n"
   ]
  },
  {
   "cell_type": "code",
   "execution_count": 200,
   "id": "421eae71-76b1-4ad5-9fcd-b5c1dfd50499",
   "metadata": {},
   "outputs": [],
   "source": [
    "l1,l2=zip(*lo_atom_edges_list)\n"
   ]
  },
  {
   "cell_type": "code",
   "execution_count": 201,
   "id": "7ec30e52-4732-48cd-9bcb-e1ec6761da63",
   "metadata": {},
   "outputs": [],
   "source": [
    "lo_atom_edges=np.array((list(l1),list(l2)))"
   ]
  },
  {
   "cell_type": "code",
   "execution_count": null,
   "id": "39d0b6f7-2198-4077-96d7-2a2374d67e1d",
   "metadata": {},
   "outputs": [],
   "source": []
  },
  {
   "cell_type": "code",
   "execution_count": 202,
   "id": "5f53a0fe-a236-432e-8bf0-e5c327e6dad7",
   "metadata": {},
   "outputs": [],
   "source": [
    "#loFeatures=dfg.groupby('loIndex')['lo_difficulty'].mean().values.reshape(-1,1)\n",
    "atomFeatures=dfg.groupby('atomIndex')['difficulty'].mean().values.reshape(-1,1)\n",
    "loFeatures=np.zeros(31 ).reshape(-1,1)"
   ]
  },
  {
   "cell_type": "code",
   "execution_count": null,
   "id": "801cd035-50d1-4bfb-9de0-0155ed80f41f",
   "metadata": {},
   "outputs": [],
   "source": []
  },
  {
   "cell_type": "code",
   "execution_count": null,
   "id": "eda089c7-a78d-4bbd-8d86-40979883061d",
   "metadata": {},
   "outputs": [],
   "source": []
  },
  {
   "cell_type": "code",
   "execution_count": 203,
   "id": "906c487d-8472-4e17-ad8c-29ae605555ee",
   "metadata": {},
   "outputs": [],
   "source": [
    "from torch_geometric.data import HeteroData\n",
    "import torch \n"
   ]
  },
  {
   "cell_type": "code",
   "execution_count": 204,
   "id": "e765fe91-35ca-4685-be5a-50aef6a05325",
   "metadata": {},
   "outputs": [],
   "source": [
    "data = HeteroData()"
   ]
  },
  {
   "cell_type": "code",
   "execution_count": 205,
   "id": "6e012b65-d0f1-49fa-838d-80f8e7cc207a",
   "metadata": {},
   "outputs": [],
   "source": [
    "data['atom'].x=torch.tensor(atomFeatures.astype(np.float64)).float()\n",
    "#data['atom'].y=torch.tensor(atomFeatures.astype(np.float64)).float()\n",
    "data['lo'].x= torch.tensor(loFeatures.astype(np.float64)).float()"
   ]
  },
  {
   "cell_type": "code",
   "execution_count": null,
   "id": "af90273e-4473-40ef-a391-263d0586c828",
   "metadata": {},
   "outputs": [],
   "source": []
  },
  {
   "cell_type": "code",
   "execution_count": null,
   "id": "0b4017c0-144c-44f1-8be2-fa2aca8852d0",
   "metadata": {},
   "outputs": [],
   "source": []
  },
  {
   "cell_type": "raw",
   "id": "e5caacd4-9bd4-4eb4-808c-1b83575b614c",
   "metadata": {},
   "source": [
    "data['atom'].x=torch.nn.Embedding(atomFeatures.shape[0],100)\n",
    "#data['atom'].y=torch.tensor(atomFeatures.astype(np.float64)).float()\n",
    "data['lo'].x=torch.nn.Embedding(loFeatures.shape[0],100)"
   ]
  },
  {
   "cell_type": "code",
   "execution_count": 206,
   "id": "5cb1a42b-c1e4-4a08-9175-fe42b18df505",
   "metadata": {},
   "outputs": [],
   "source": [
    "data['lo','lo_atom','atom'].edge_index=torch.from_numpy(lo_atom_edges).long()\n",
    "data['lo','lo_lo','lo'].edge_index=torch.from_numpy(lo_edges).long()"
   ]
  },
  {
   "cell_type": "code",
   "execution_count": 207,
   "id": "3b44cec5-4cf7-4ddc-97ee-c2db2215fc74",
   "metadata": {},
   "outputs": [],
   "source": [
    "import torch_geometric.transforms as T"
   ]
  },
  {
   "cell_type": "code",
   "execution_count": 208,
   "id": "939c9d83-6dcf-4f57-b364-ae34ccb2aa1d",
   "metadata": {},
   "outputs": [],
   "source": [
    "normalize=T.NormalizeFeatures()\n",
    "data=normalize(data)"
   ]
  },
  {
   "cell_type": "code",
   "execution_count": null,
   "id": "05f5fa04-3325-471a-b6d4-6d9a235d7efb",
   "metadata": {},
   "outputs": [],
   "source": []
  },
  {
   "cell_type": "code",
   "execution_count": null,
   "id": "4c4be197-04e5-4f80-9874-c54ed40b22d3",
   "metadata": {},
   "outputs": [],
   "source": []
  },
  {
   "cell_type": "code",
   "execution_count": 209,
   "id": "a31639a6-e5a8-436a-8949-1f668d3c7ccc",
   "metadata": {},
   "outputs": [],
   "source": [
    "import torch_geometric as pyg\n",
    "from torch_geometric.nn import GCNConv \n",
    "from torch_geometric.nn import SAGEConv, to_hetero ,LSTMAggregation\n",
    "import  torch.nn as nn\n",
    "import torch.nn.functional as F\n",
    "import torch \n",
    "from torch_geometric.loader import DataLoader"
   ]
  },
  {
   "cell_type": "code",
   "execution_count": 210,
   "id": "b9a62d01-5867-4613-a964-733f9b5272e0",
   "metadata": {},
   "outputs": [
    {
     "data": {
      "text/plain": [
       "(['atom', 'lo'], [('lo', 'lo_atom', 'atom'), ('lo', 'lo_lo', 'lo')])"
      ]
     },
     "execution_count": 210,
     "metadata": {},
     "output_type": "execute_result"
    }
   ],
   "source": [
    "data.metadata()"
   ]
  },
  {
   "cell_type": "code",
   "execution_count": 211,
   "id": "efbe921f-e3e9-4494-9c2c-118b901ddc05",
   "metadata": {},
   "outputs": [],
   "source": [
    "from torch_geometric.nn import global_mean_pool as gap, global_max_pool as gmp"
   ]
  },
  {
   "cell_type": "code",
   "execution_count": 212,
   "id": "e12543e0-b68e-411f-a961-9981d8b62a70",
   "metadata": {},
   "outputs": [],
   "source": [
    "hidden_channels=100\n",
    "final_layer_dim=hidden_channels/4\n",
    "class GNN(torch.nn.Module):\n",
    "    def __init__(self):\n",
    "        super().__init__()\n",
    "        self.conv1 = SAGEConv((-1, -1), hidden_channels,requires_grad=True)\n",
    "        self.actfn1=nn.ReLU()\n",
    "        \n",
    "        self.conv2 = SAGEConv((-1, -1),int( hidden_channels/2),requires_grad=True)\n",
    "        self.actfn2=nn.ReLU()\n",
    "        \n",
    "        self.conv3 = SAGEConv((-1, -1),int( final_layer_dim),requires_grad=True)\n",
    "        self.actfn3=nn.ReLU()\n",
    "        \n",
    "        self.conv4 = SAGEConv((-1, -1),int( hidden_channels/8),requires_grad=True)\n",
    "        self.actfn4=nn.ReLU()\n",
    "        \n",
    "        \n",
    "        self.sigmoid= nn.Sigmoid()\n",
    "\n",
    "    def forward(self, x, edge_index):\n",
    "        \n",
    "        x = self.actfn1(self.conv1(x, edge_index))\n",
    "        #x= F.dropout(x,p=.5,training=self.training)\n",
    "        \n",
    "        x = self.actfn2(self.conv2(x, edge_index))\n",
    "        #x= F.dropout(x,p=.7,training=self.training)\n",
    "        \n",
    "        x = self.actfn3(self.conv3(x, edge_index))\n",
    "        \n",
    "        #out = self.actfn4(self.conv4(x, edge_index))\n",
    "        \n",
    "        #out= F.dropout(x,p=.7,training=self.training)\n",
    "        #pool={key: gmp(out[key].x, out[key].batch) for key in out.node_types}\n",
    "        #out=self.sigmoid( self.out(x))\n",
    "        #ic(pool)\n",
    "        \n",
    "        #pool=gmp(out)\n",
    "        return x"
   ]
  },
  {
   "cell_type": "code",
   "execution_count": 151,
   "id": "63d8dc5b-d31d-4e33-8c87-d6a7f13072ed",
   "metadata": {},
   "outputs": [],
   "source": [
    "lookback=3\n",
    "hidden_channels1=int((final_layer_dim)*2*(lookback+1)+(lookback+1))\n",
    "\n",
    "out_channels=1\n",
    "class Classifer(torch.nn.Module):\n",
    "    def __init__(self):\n",
    "        super().__init__()\n",
    "\n",
    "        self.ins=nn.Linear(hidden_channels1,10)\n",
    "        self.actfn1=nn.ReLU()\n",
    "        \n",
    "        self.ins2=nn.Linear(10,5)\n",
    "        self.actfn2=nn.ReLU()\n",
    "        \n",
    "        self.out=nn.Linear(5,1)\n",
    "        self.actfn3=nn.Sigmoid()\n",
    "        \n",
    "    def forward(self, x):\n",
    "        \n",
    "        x= self.actfn1 (self.ins(x))\n",
    "        \n",
    "        x= self.actfn2 (self.ins2(x))\n",
    "        \n",
    "        out=self.actfn3(self.out(x))\n",
    "        \n",
    "        \n",
    "        return out"
   ]
  },
  {
   "cell_type": "code",
   "execution_count": null,
   "id": "312aad5c-15c5-422b-87ad-6ba9cd397d3d",
   "metadata": {},
   "outputs": [],
   "source": []
  },
  {
   "cell_type": "code",
   "execution_count": 152,
   "id": "eaad99d6-5f8f-4dcf-9a31-c5dfc1cb2601",
   "metadata": {},
   "outputs": [],
   "source": [
    "class GNN_Classifier(nn.Module):\n",
    "    def __init__(self):\n",
    "        super(GNN_Classifier, self).__init__()\n",
    "        \n",
    "        self.model_embedding=GNN()\n",
    "        self.model_embedding = to_hetero(self.model_embedding, data.metadata(),aggr='max')\n",
    "        self.classifer = Classifer()\n",
    "        #lo,atom,prev_answer,prev_lo,prev_atom,prev_answer1,prev_lo1,prev_atom1\n",
    "    def forward(self, x,edges,batch_num,lookback,question_sequence):\n",
    "        node_embeddings = self.model_embedding(x,edges)\n",
    "        rnn_input_list=[]\n",
    "        features_concat_list=[]\n",
    "        \n",
    "        for i in range(lookback+1):\n",
    "            #print([i,batch_num-i])\n",
    "            lo=question_sequence[0][batch_num-i]\n",
    "            atom=question_sequence[1][batch_num-i]\n",
    "            prev_answer=torch.tensor([question_sequence[2][batch_num-1-i]]).float()\n",
    "            \n",
    "            features_concat_list.extend([node_embeddings['atom'][atom]])\n",
    "            features_concat_list.extend([node_embeddings['lo'][lo]])\n",
    "            features_concat_list.extend([prev_answer])\n",
    "        \n",
    "                                         \n",
    "            \n",
    "        #user_embeddings=torch.cat([node_embeddings['atom'][atom] , node_embeddings['lo'][lo],prev_answer,node_embeddings['atom'][prev_atom] , node_embeddings['lo'][prev_lo],prev_answer1,node_embeddings['atom'][prev_atom1] , node_embeddings['lo'][prev_lo1]])  \n",
    "       \n",
    "        user_embeddings=torch.cat(features_concat_list)\n",
    "        \n",
    "        rnn_outputs = self.classifer(user_embeddings)\n",
    "    \n",
    "        return rnn_outputs,user_embeddings"
   ]
  },
  {
   "cell_type": "code",
   "execution_count": 154,
   "id": "12904345-36f6-46a1-8687-189d1e9fdeaa",
   "metadata": {
    "tags": []
   },
   "outputs": [
    {
     "name": "stderr",
     "output_type": "stream",
     "text": [
      " 10%|███████▉                                                                       | 183/1831 [00:03<00:34, 47.99it/s]\n"
     ]
    },
    {
     "ename": "KeyboardInterrupt",
     "evalue": "",
     "output_type": "error",
     "traceback": [
      "\u001b[1;31m---------------------------------------------------------------------------\u001b[0m",
      "\u001b[1;31mKeyboardInterrupt\u001b[0m                         Traceback (most recent call last)",
      "Cell \u001b[1;32mIn[154], line 36\u001b[0m\n\u001b[0;32m     34\u001b[0m user_embedings\u001b[38;5;241m.\u001b[39mappend((node_embeddings,answer))\n\u001b[0;32m     35\u001b[0m loss\u001b[38;5;241m=\u001b[39mF\u001b[38;5;241m.\u001b[39mbinary_cross_entropy(out,answer)\n\u001b[1;32m---> 36\u001b[0m \u001b[43mloss\u001b[49m\u001b[38;5;241;43m.\u001b[39;49m\u001b[43mbackward\u001b[49m\u001b[43m(\u001b[49m\u001b[43m)\u001b[49m\n\u001b[0;32m     37\u001b[0m optimizer\u001b[38;5;241m.\u001b[39mstep()\n\u001b[0;32m     39\u001b[0m loss_list\u001b[38;5;241m.\u001b[39mappend(loss\u001b[38;5;241m.\u001b[39mitem())\n",
      "File \u001b[1;32m~\\Anaconda3\\lib\\site-packages\\torch\\_tensor.py:396\u001b[0m, in \u001b[0;36mTensor.backward\u001b[1;34m(self, gradient, retain_graph, create_graph, inputs)\u001b[0m\n\u001b[0;32m    387\u001b[0m \u001b[38;5;28;01mif\u001b[39;00m has_torch_function_unary(\u001b[38;5;28mself\u001b[39m):\n\u001b[0;32m    388\u001b[0m     \u001b[38;5;28;01mreturn\u001b[39;00m handle_torch_function(\n\u001b[0;32m    389\u001b[0m         Tensor\u001b[38;5;241m.\u001b[39mbackward,\n\u001b[0;32m    390\u001b[0m         (\u001b[38;5;28mself\u001b[39m,),\n\u001b[1;32m   (...)\u001b[0m\n\u001b[0;32m    394\u001b[0m         create_graph\u001b[38;5;241m=\u001b[39mcreate_graph,\n\u001b[0;32m    395\u001b[0m         inputs\u001b[38;5;241m=\u001b[39minputs)\n\u001b[1;32m--> 396\u001b[0m \u001b[43mtorch\u001b[49m\u001b[38;5;241;43m.\u001b[39;49m\u001b[43mautograd\u001b[49m\u001b[38;5;241;43m.\u001b[39;49m\u001b[43mbackward\u001b[49m\u001b[43m(\u001b[49m\u001b[38;5;28;43mself\u001b[39;49m\u001b[43m,\u001b[49m\u001b[43m \u001b[49m\u001b[43mgradient\u001b[49m\u001b[43m,\u001b[49m\u001b[43m \u001b[49m\u001b[43mretain_graph\u001b[49m\u001b[43m,\u001b[49m\u001b[43m \u001b[49m\u001b[43mcreate_graph\u001b[49m\u001b[43m,\u001b[49m\u001b[43m \u001b[49m\u001b[43minputs\u001b[49m\u001b[38;5;241;43m=\u001b[39;49m\u001b[43minputs\u001b[49m\u001b[43m)\u001b[49m\n",
      "File \u001b[1;32m~\\Anaconda3\\lib\\site-packages\\torch\\autograd\\__init__.py:173\u001b[0m, in \u001b[0;36mbackward\u001b[1;34m(tensors, grad_tensors, retain_graph, create_graph, grad_variables, inputs)\u001b[0m\n\u001b[0;32m    168\u001b[0m     retain_graph \u001b[38;5;241m=\u001b[39m create_graph\n\u001b[0;32m    170\u001b[0m \u001b[38;5;66;03m# The reason we repeat same the comment below is that\u001b[39;00m\n\u001b[0;32m    171\u001b[0m \u001b[38;5;66;03m# some Python versions print out the first line of a multi-line function\u001b[39;00m\n\u001b[0;32m    172\u001b[0m \u001b[38;5;66;03m# calls in the traceback and some print out the last line\u001b[39;00m\n\u001b[1;32m--> 173\u001b[0m \u001b[43mVariable\u001b[49m\u001b[38;5;241;43m.\u001b[39;49m\u001b[43m_execution_engine\u001b[49m\u001b[38;5;241;43m.\u001b[39;49m\u001b[43mrun_backward\u001b[49m\u001b[43m(\u001b[49m\u001b[43m  \u001b[49m\u001b[38;5;66;43;03m# Calls into the C++ engine to run the backward pass\u001b[39;49;00m\n\u001b[0;32m    174\u001b[0m \u001b[43m    \u001b[49m\u001b[43mtensors\u001b[49m\u001b[43m,\u001b[49m\u001b[43m \u001b[49m\u001b[43mgrad_tensors_\u001b[49m\u001b[43m,\u001b[49m\u001b[43m \u001b[49m\u001b[43mretain_graph\u001b[49m\u001b[43m,\u001b[49m\u001b[43m \u001b[49m\u001b[43mcreate_graph\u001b[49m\u001b[43m,\u001b[49m\u001b[43m \u001b[49m\u001b[43minputs\u001b[49m\u001b[43m,\u001b[49m\n\u001b[0;32m    175\u001b[0m \u001b[43m    \u001b[49m\u001b[43mallow_unreachable\u001b[49m\u001b[38;5;241;43m=\u001b[39;49m\u001b[38;5;28;43;01mTrue\u001b[39;49;00m\u001b[43m,\u001b[49m\u001b[43m \u001b[49m\u001b[43maccumulate_grad\u001b[49m\u001b[38;5;241;43m=\u001b[39;49m\u001b[38;5;28;43;01mTrue\u001b[39;49;00m\u001b[43m)\u001b[49m\n",
      "\u001b[1;31mKeyboardInterrupt\u001b[0m: "
     ]
    }
   ],
   "source": [
    "\n",
    "model=GNN_Classifier()\n",
    "learning_rate=0.001\n",
    "optimizer=torch.optim.Adam(model.parameters(),lr=learning_rate,weight_decay=5e-12)\n",
    "criterion=torch.nn.BCELoss()\n",
    "#criterion=F.binary_cross_entropy\n",
    "train_acc_mean_list=[]\n",
    "test_acc_mean_list=[]\n",
    "loss_list=[]\n",
    "accuracy_list=[]\n",
    "best_score=0\n",
    "user_embedings=[]\n",
    "\n",
    "loss_moving_avg=[]\n",
    "\n",
    "for epoch_num in range(50):\n",
    "    epoch_accuracy=[]\n",
    "    out_list=[]\n",
    "    total_loss=0\n",
    "    user_embedings=[]\n",
    "    prob=[]\n",
    "    target=[]\n",
    "    for  batch_num in range(lookback,question_sequence_len):\n",
    "        \n",
    "        model.train()\n",
    "       \n",
    "        optimizer.zero_grad()   \n",
    "        #x_dict = {key: gmp(batch[key].x, batch[key].batch) for key in batch.node_types}\n",
    "        \n",
    "\n",
    "        answer=torch.tensor([question_sequence[2][batch_num]]).float()\n",
    "     \n",
    "        \n",
    "        out,node_embeddings=model(data.x_dict, data.edge_index_dict,batch_num,lookback,question_sequence) \n",
    "        user_embedings.append((node_embeddings,answer))\n",
    "        loss=F.binary_cross_entropy(out,answer)\n",
    "        loss.backward()\n",
    "        optimizer.step()\n",
    "        \n",
    "        loss_list.append(loss.item())\n",
    "        total_loss=total_loss+loss.item()\n",
    "        train_correct=out.round()==answer\n",
    "        \n",
    "        train_acc=train_correct*1\n",
    "        accuracy=(train_correct*1).item()\n",
    "        epoch_accuracy.append(accuracy)\n",
    "        #accuracy_list.append(accuracy)\n",
    "        prob.append(out.item())\n",
    "        target.append(answer.item())\n",
    "    performance='epoch {} | loss {:.5f} | accuracy {:.5f} | auc {:.5f}'.format(epoch_num,total_loss/(batch_num+1),np.mean(epoch_accuracy),roc_auc_score(np.array(target),prob))\n",
    "    print(performance)\n",
    "    loss_moving_avg.append(total_loss/(batch_num+1))\n",
    "            \n",
    "    #ic((epoch_num,np.mean(epoch_accuracy),loss.item()))\n",
    "    \n",
    "\n",
    "#out['target']: tensor([[0.2217, 0.0272]], grad_fn=<AddmmBackward0>)"
   ]
  },
  {
   "cell_type": "code",
   "execution_count": 156,
   "id": "f260fbf7-68a7-41d1-b04a-8b21b2e02261",
   "metadata": {},
   "outputs": [
    {
     "data": {
      "text/plain": [
       "'epoch 14 | loss 0.64085 | accuracy 0.63681 | auc 0.66945'"
      ]
     },
     "execution_count": 156,
     "metadata": {},
     "output_type": "execute_result"
    }
   ],
   "source": [
    "performance"
   ]
  },
  {
   "cell_type": "code",
   "execution_count": 157,
   "id": "46860415-3801-4b79-b79e-c78755d6adc7",
   "metadata": {},
   "outputs": [
    {
     "data": {
      "text/plain": [
       "[<matplotlib.lines.Line2D at 0x24b7730cbe0>]"
      ]
     },
     "execution_count": 157,
     "metadata": {},
     "output_type": "execute_result"
    },
    {
     "data": {
      "image/png": "[encoded data removed]",
      "text/plain": [
       "<Figure size 1000x700 with 1 Axes>"
      ]
     },
     "metadata": {},
     "output_type": "display_data"
    }
   ],
   "source": [
    "plt.figure(figsize=(10,7))\n",
    "mvg_steps=question_sequence_len\n",
    "\n",
    "#for i in range(len(loss_list)-mvg_steps):\n",
    "#    loss_moving_avg.append(np.mean(loss_list[mvg_steps*i:(i+1)*mvg_steps]))\n",
    "plt.grid()\n",
    "#plt.plot(loss_list)\n",
    "plt.plot(loss_moving_avg)\n"
   ]
  },
  {
   "cell_type": "code",
   "execution_count": null,
   "id": "e5600ab9-341e-4e8a-a0be-2ae4a82e5845",
   "metadata": {
    "tags": []
   },
   "outputs": [],
   "source": []
  },
  {
   "cell_type": "code",
   "execution_count": 158,
   "id": "afcc3909-c3a8-4e9b-b3be-6bade19f0e5a",
   "metadata": {},
   "outputs": [
    {
     "data": {
      "text/plain": [
       "184"
      ]
     },
     "execution_count": 158,
     "metadata": {},
     "output_type": "execute_result"
    }
   ],
   "source": [
    "len(user_embedings)"
   ]
  },
  {
   "cell_type": "code",
   "execution_count": 159,
   "id": "532a466a-11b2-432d-89bd-1a92248d66d1",
   "metadata": {},
   "outputs": [
    {
     "data": {
      "text/plain": [
       "torch.Size([204])"
      ]
     },
     "execution_count": 159,
     "metadata": {},
     "output_type": "execute_result"
    }
   ],
   "source": [
    "user_embedings[0][0].shape"
   ]
  },
  {
   "cell_type": "code",
   "execution_count": 160,
   "id": "ff7f3447-74ff-465a-a883-6ebbf76ce646",
   "metadata": {},
   "outputs": [
    {
     "data": {
      "text/plain": [
       "<seaborn.axisgrid.PairGrid at 0x24b5a080220>"
      ]
     },
     "execution_count": 160,
     "metadata": {},
     "output_type": "execute_result"
    },
    {
     "data": {
      "image/png": "[encoded data removed]",
      "text/plain": [
       "<Figure size 811.236x750 with 12 Axes>"
      ]
     },
     "metadata": {},
     "output_type": "display_data"
    }
   ],
   "source": [
    "node_embeddings=[i[0] for i in user_embedings]\n",
    "\n",
    "nodes=torch.stack(node_embeddings).detach().numpy()\n",
    "\n",
    "nodesDf=pd.DataFrame(nodes[-question_sequence_len:])\n",
    "\n",
    "pca = PCA(n_components=2)\n",
    "components = pca.fit_transform(nodesDf)\n",
    "\n",
    "#pcadf=pd.DataFrame({'f1':components[:,0],'f2':components[:,1]})\n",
    "pcadf=pd.DataFrame({ 'f'+str(i):components[:,i]  for i in  range(components.shape[1]) })\n",
    "\n",
    "answersdf=pd.DataFrame({'atom':question_sequence[1][lookback:],'answer':question_sequence[2][lookback:]})\n",
    "\n",
    "pcadf=pcadf.reset_index().rename(columns={'index':'atom'})\n",
    "\n",
    "answersdffea=answersdf.merge(pcadf,on='atom',how='left')\n",
    "\n",
    "sns.pairplot(answersdffea,hue='answer')"
   ]
  },
  {
   "cell_type": "code",
   "execution_count": 213,
   "id": "dfc997db-b304-4a42-b0e3-c5b59648f8ac",
   "metadata": {},
   "outputs": [],
   "source": [
    "hidden_channels=64\n",
    "final_layer_dim=hidden_channels/4\n",
    "class GNN_Lstm(torch.nn.Module):\n",
    "    def __init__(self):\n",
    "        super().__init__()\n",
    "        self.conv1 = SAGEConv((-1, -1), hidden_channels,requires_grad=True)\n",
    "        self.actfn1=nn.ReLU()\n",
    "        \n",
    "        self.conv2 = SAGEConv((-1, -1),int( hidden_channels/2),requires_grad=True)\n",
    "        self.actfn2=nn.ReLU()\n",
    "        \n",
    "        self.conv3 = SAGEConv((-1, -1),int( final_layer_dim),requires_grad=True)\n",
    "        self.actfn3=nn.ReLU()\n",
    "        \n",
    "        self.conv4 = SAGEConv((-1, -1),int( hidden_channels/8),requires_grad=True)\n",
    "        self.actfn4=nn.ReLU()\n",
    "        \n",
    "        \n",
    "        self.sigmoid= nn.Sigmoid()\n",
    "\n",
    "    def forward(self, x, edge_index):\n",
    "        \n",
    "        x = self.actfn1(self.conv1(x, edge_index))\n",
    "        #x= F.dropout(x,p=.5,training=self.training)\n",
    "        \n",
    "        x = self.actfn2(self.conv2(x, edge_index))\n",
    "        #x= F.dropout(x,p=.7,training=self.training)\n",
    "        \n",
    "        x = self.actfn3(self.conv3(x, edge_index))\n",
    "        \n",
    "        #out = self.actfn4(self.conv4(x, edge_index))\n",
    "        \n",
    "        #out= F.dropout(x,p=.7,training=self.training)\n",
    "        #pool={key: gmp(out[key].x, out[key].batch) for key in out.node_types}\n",
    "        #out=self.sigmoid( self.out(x))\n",
    "        #ic(pool)\n",
    "        \n",
    "        #pool=gmp(out)\n",
    "        return x"
   ]
  },
  {
   "cell_type": "code",
   "execution_count": 214,
   "id": "2d97bfc9-0746-48ed-8cef-0740d9a70ab8",
   "metadata": {},
   "outputs": [],
   "source": [
    "lookback=3\n",
    "input_size=33\n",
    "out_channels=1\n",
    "num_layers=1\n",
    "hidden_size=20\n",
    "class Classifer_Lstm(nn.Module):\n",
    "    \n",
    "    def __init__(self ):\n",
    "        super().__init__()\n",
    "        self.num_layers = num_layers # number of recurrent layers in the lstm\n",
    "        self.input_size = input_size # input size\n",
    "        self.hidden_size = hidden_size # neurons in each lstm layer\n",
    "        self.sigmoid=nn.Sigmoid()\n",
    "        \n",
    "        self.lstm = nn.LSTM(\n",
    "            input_size=self.input_size ,\n",
    "            hidden_size=self.hidden_size,\n",
    "            num_layers=self.num_layers,\n",
    "            batch_first=True\n",
    "        )\n",
    "        self.fc = nn.Linear(hidden_size, 1)\n",
    "        \n",
    "    def forward(self,x):\n",
    "        #print(x.shape)\n",
    "        h0 = torch.zeros(self.num_layers, 1, self.hidden_size).requires_grad_()\n",
    "        # Initialize long-term memory\n",
    "        c0 = torch.zeros(self.num_layers, 1, self.hidden_size).requires_grad_()\n",
    "        # Pass all inputs to lstm layer\n",
    "        out, _ = self.lstm(x, (h0, c0))\n",
    "        #print(out.shape)\n",
    "        out = self.sigmoid(self.fc(out[:, -1, :]))\n",
    "        \n",
    "        return out"
   ]
  },
  {
   "cell_type": "code",
   "execution_count": 215,
   "id": "b476d2d3-ecb5-41fe-b7ea-589cdae20e95",
   "metadata": {},
   "outputs": [],
   "source": [
    "class GNN_LSTM_Classifier(nn.Module):\n",
    "    def __init__(self):\n",
    "        super(GNN_LSTM_Classifier, self).__init__()\n",
    "        \n",
    "        self.model_embedding=GNN_Lstm()\n",
    "        self.model_embedding = to_hetero(self.model_embedding, data.metadata(),aggr='max')\n",
    "        self.classifer = Classifer_Lstm()\n",
    "        #lo,atom,prev_answer,prev_lo,prev_atom,prev_answer1,prev_lo1,prev_atom1\n",
    "    def forward(self, x,edges,batch_num,lookback,question_sequence):\n",
    "        node_embeddings = self.model_embedding(x,edges)\n",
    "        rnn_input_list=[]\n",
    "        #features_concat_list=[]\n",
    "        \n",
    "        for i in range(lookback+1):\n",
    "            \n",
    "            #print([i,batch_num-i])\n",
    "            lo=question_sequence[0][batch_num-i]\n",
    "            atom=question_sequence[1][batch_num-i]\n",
    "            prev_answer=torch.tensor([question_sequence[2][batch_num-1-i]]).float()\n",
    "\n",
    "            features_concat=torch.cat([node_embeddings['atom'][atom],node_embeddings['lo'][lo],prev_answer])\n",
    "            rnn_input_list.append(features_concat)\n",
    "        \n",
    "                                         \n",
    "            \n",
    "        #user_embeddings=torch.cat([node_embeddings['atom'][atom] , node_embeddings['lo'][lo],prev_answer,node_embeddings['atom'][prev_atom] , node_embeddings['lo'][prev_lo],prev_answer1,node_embeddings['atom'][prev_atom1] , node_embeddings['lo'][prev_lo1]])  \n",
    "       \n",
    "        rnn_input_stacked=torch.stack(rnn_input_list).view(1,lookback+1,features_concat.shape[0])\n",
    "\n",
    "        rnn_outputs = self.classifer(rnn_input_stacked)\n",
    "    \n",
    "        return rnn_outputs,node_embeddings"
   ]
  },
  {
   "cell_type": "code",
   "execution_count": null,
   "id": "d22b4533-e393-4d87-8758-6f76700e7bf2",
   "metadata": {
    "tags": []
   },
   "outputs": [
    {
     "name": "stdout",
     "output_type": "stream",
     "text": [
      "epoch 0 | loss 0.67023 | accuracy 0.60475 | auc 0.49363\n",
      "epoch 1 | loss 0.66747 | accuracy 0.60907 | auc 0.48566\n",
      "epoch 2 | loss 0.66658 | accuracy 0.60907 | auc 0.49806\n",
      "epoch 3 | loss 0.66844 | accuracy 0.60907 | auc 0.47044\n"
     ]
    }
   ],
   "source": [
    "\n",
    "model=GNN_LSTM_Classifier()\n",
    "learning_rate=0.001\n",
    "optimizer=torch.optim.Adam(model.parameters(),lr=learning_rate,weight_decay=5e-12)\n",
    "criterion=torch.nn.BCELoss()\n",
    "#criterion=F.binary_cross_entropy\n",
    "train_acc_mean_list=[]\n",
    "test_acc_mean_list=[]\n",
    "loss_list=[]\n",
    "accuracy_list=[]\n",
    "best_score=0\n",
    "\n",
    "\n",
    "loss_moving_avg=[]\n",
    "user_embedings=[]\n",
    "for epoch_num in range(100):\n",
    "    epoch_accuracy=[]\n",
    "    out_list=[]\n",
    "    total_loss=0\n",
    "    \n",
    "    prob=[]\n",
    "    target=[]\n",
    "    for  batch_num in range(lookback,question_sequence_len):\n",
    "        \n",
    "        model.train()\n",
    "       \n",
    "        optimizer.zero_grad()   \n",
    "        #x_dict = {key: gmp(batch[key].x, batch[key].batch) for key in batch.node_types}\n",
    "        \n",
    "\n",
    "        answer=torch.tensor([question_sequence[2][batch_num]]).float()\n",
    "     \n",
    "        \n",
    "        out,node_embeddings=model(data.x_dict, data.edge_index_dict,batch_num,lookback,question_sequence) \n",
    "        \n",
    "        loss=F.binary_cross_entropy(out.view(1),answer)\n",
    "        loss.backward()\n",
    "        optimizer.step()\n",
    "        \n",
    "        loss_list.append(loss.item())\n",
    "        total_loss=total_loss+loss.item()\n",
    "        train_correct=out.round()==answer\n",
    "        \n",
    "        train_acc=train_correct*1\n",
    "        accuracy=(train_correct*1).item()\n",
    "        epoch_accuracy.append(accuracy)\n",
    "        #accuracy_list.append(accuracy)\n",
    "        prob.append(out.item())\n",
    "        target.append(answer.item())\n",
    "    performance='epoch {} | loss {:.5f} | accuracy {:.5f} | auc {:.5f}'.format(epoch_num,total_loss/(batch_num+1),np.mean(epoch_accuracy),roc_auc_score(np.array(target),prob))\n",
    "    print(performance)\n",
    "    loss_moving_avg.append(total_loss/(batch_num+1))\n",
    "            \n",
    "    #ic((epoch_num,np.mean(epoch_accuracy),loss.item()))\n",
    "    \n",
    "\n",
    "#out['target']: tensor([[0.2217, 0.0272]], grad_fn=<AddmmBackward0>)"
   ]
  },
  {
   "cell_type": "code",
   "execution_count": null,
   "id": "324efde4-a249-4334-a764-0d0329a18c99",
   "metadata": {},
   "outputs": [],
   "source": [
    "performance"
   ]
  },
  {
   "cell_type": "code",
   "execution_count": null,
   "id": "e20e8860-3740-4870-b0e7-53fa8decbe04",
   "metadata": {
    "collapsed": true,
    "jupyter": {
     "outputs_hidden": true
    },
    "tags": []
   },
   "outputs": [],
   "source": []
  },
  {
   "cell_type": "code",
   "execution_count": null,
   "id": "dc3bd0c1-c7ee-4090-b7fc-d16f7923749a",
   "metadata": {},
   "outputs": [],
   "source": [
    "plt.figure(figsize=(10,7))\n",
    "mvg_steps=question_sequence_len\n",
    "\n",
    "#for i in range(len(loss_list)-mvg_steps):\n",
    "#    loss_moving_avg.append(np.mean(loss_list[mvg_steps*i:(i+1)*mvg_steps]))\n",
    "plt.grid()\n",
    "#plt.plot(loss_list)\n",
    "plt.plot(loss_moving_avg)\n"
   ]
  },
  {
   "cell_type": "code",
   "execution_count": null,
   "id": "b993fedf-c6c4-445f-b404-660e6997b5ea",
   "metadata": {},
   "outputs": [],
   "source": []
  },
  {
   "cell_type": "code",
   "execution_count": null,
   "id": "843473a3-f1ff-406c-8423-0eadc8fdc543",
   "metadata": {},
   "outputs": [],
   "source": [
    "atoms=node_embeddings['atom'].detach().numpy()\n",
    "pca = PCA(n_components=2)\n",
    "components = pca.fit_transform(atoms)\n",
    "plt.scatter(components[:,0],components[:,1])"
   ]
  },
  {
   "cell_type": "code",
   "execution_count": null,
   "id": "5265537e-0ebc-4a5f-a1ca-dc8c4193340c",
   "metadata": {},
   "outputs": [],
   "source": []
  },
  {
   "cell_type": "code",
   "execution_count": 173,
   "id": "10e882bf-5f69-4253-be52-86c2376150ff",
   "metadata": {},
   "outputs": [
    {
     "name": "stderr",
     "output_type": "stream",
     "text": [
      "C:\\Users\\mpathirana\\Anaconda3\\lib\\site-packages\\sklearn\\decomposition\\_pca.py:545: RuntimeWarning: invalid value encountered in true_divide\n",
      "  explained_variance_ratio_ = explained_variance_ / total_var\n"
     ]
    },
    {
     "data": {
      "text/plain": [
       "<matplotlib.collections.PathCollection at 0x24bf2d2f130>"
      ]
     },
     "execution_count": 173,
     "metadata": {},
     "output_type": "execute_result"
    },
    {
     "data": {
      "image/png": "[encoded data removed]",
      "text/plain": [
       "<Figure size 640x480 with 1 Axes>"
      ]
     },
     "metadata": {},
     "output_type": "display_data"
    }
   ],
   "source": [
    "los=node_embeddings['lo'].detach().numpy()\n",
    "pca = PCA(n_components=2)\n",
    "components = pca.fit_transform(los)\n",
    "plt.scatter(components[:,0],components[:,1])"
   ]
  },
  {
   "cell_type": "code",
   "execution_count": null,
   "id": "f5119460-6f47-4688-80a1-eb849d6d49bc",
   "metadata": {},
   "outputs": [],
   "source": []
  },
  {
   "cell_type": "code",
   "execution_count": null,
   "id": "c227e538-7866-4f4f-8aa9-36b247083f27",
   "metadata": {},
   "outputs": [],
   "source": [
    "node_embeddings=[i[0] for i in user_embedings]\n",
    "\n",
    "nodes=torch.stack(node_embeddings).detach().numpy()\n",
    "\n",
    "nodesDf=pd.DataFrame([-question_sequence_len:])\n",
    "\n",
    "pca = PCA(n_components=2)\n",
    "components = pca.fit_transform(nodesDf)\n",
    "\n",
    "#pcadf=pd.DataFrame({'f1':components[:,0],'f2':components[:,1]})\n",
    "pcadf=pd.DataFrame({ 'f'+str(i):components[:,i]  for i in  range(components.shape[1]) })\n",
    "\n",
    "answersdf=pd.DataFrame({'atom':question_sequence[1][lookback:],'answer':question_sequence[2][lookback:]})\n",
    "\n",
    "pcadf=pcadf.reset_index().rename(columns={'index':'atom'})\n",
    "\n",
    "answersdffea=answersdf.merge(pcadf,on='atom',how='left')\n",
    "\n",
    "sns.pairplot(answersdffea,hue='answer')nodes"
   ]
  },
  {
   "cell_type": "code",
   "execution_count": null,
   "id": "272359af-9fec-4f5c-83ee-073b6ae9cdfe",
   "metadata": {},
   "outputs": [],
   "source": [
    "node_embeddings[0].shape"
   ]
  },
  {
   "cell_type": "code",
   "execution_count": null,
   "id": "24c4a533-2a8b-4525-9069-a40f5fa6b4f5",
   "metadata": {},
   "outputs": [],
   "source": []
  }
 ],
 "metadata": {
  "kernelspec": {
   "display_name": "Python 3 (ipykernel)",
   "language": "python",
   "name": "python3"
  },
  "language_info": {
   "codemirror_mode": {
    "name": "ipython",
    "version": 3
   },
   "file_extension": ".py",
   "mimetype": "text/x-python",
   "name": "python",
   "nbconvert_exporter": "python",
   "pygments_lexer": "ipython3",
   "version": "3.8.3"
  }
 },
 "nbformat": 4,
 "nbformat_minor": 5
}
