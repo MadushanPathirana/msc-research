{
 "cells": [
  {
   "cell_type": "code",
   "execution_count": 120,
   "id": "f2c435ef-6fe3-4cdf-9747-908c5c7fc585",
   "metadata": {},
   "outputs": [],
   "source": [
    "import logging\n",
    "import sys\n",
    "import datetime\n",
    "import pickle\n",
    "from icecream import ic\n",
    "from tqdm import tqdm"
   ]
  },
  {
   "cell_type": "code",
   "execution_count": 98,
   "id": "74020f55-a597-41bb-9594-c49c9407aefb",
   "metadata": {},
   "outputs": [],
   "source": [
    "\n",
    "def time_now():\n",
    "  \n",
    "    return f\"{datetime.datetime.now().strftime('%Y-%m-%d %H:%M:%S')} |\"\n",
    "\n",
    "ic.configureOutput(prefix=time_now)\n",
    "\n",
    "ic.configureOutput(includeContext=True) "
   ]
  },
  {
   "cell_type": "code",
   "execution_count": 3,
   "id": "34545487-c665-4d48-a2ec-edb19312f6b2",
   "metadata": {
    "tags": []
   },
   "outputs": [],
   "source": [
    "import pandas as pd\n",
    "import numpy as np\n",
    "import networkx as nx\n",
    "import matplotlib.pyplot as plt;\n",
    "np.random.seed(42);"
   ]
  },
  {
   "cell_type": "code",
   "execution_count": 4,
   "id": "57d86d38-7714-4d23-ae6f-f2894fe1b24b",
   "metadata": {},
   "outputs": [],
   "source": [
    "from sklearn.metrics import roc_auc_score;\n",
    "from sklearn.metrics import classification_report;"
   ]
  },
  {
   "cell_type": "code",
   "execution_count": 5,
   "id": "26d464ef-3f12-44d3-b76d-673f63b349c9",
   "metadata": {},
   "outputs": [],
   "source": [
    "pd.set_option('display.max_columns', None);"
   ]
  },
  {
   "cell_type": "code",
   "execution_count": 6,
   "id": "c275b42d-bed6-44b3-b25b-8d93ffb670b5",
   "metadata": {},
   "outputs": [],
   "source": [
    "df=pd.read_pickle('appmath.pkl')[['graph_id', 'user_id', \n",
    "       'goal_id',\n",
    "        'interaction_end_time',\n",
    "       'learning_objective_name', 'atom_id', \n",
    "       'correct', 'time_spent_answering_s', 'time_spent_on_instruction_s',\n",
    "       'goal_progress',\n",
    "       'target_status_and_progress', 'prev_concept_narrative',\n",
    "       'duration_s', 'is_target']]  "
   ]
  },
  {
   "cell_type": "code",
   "execution_count": 7,
   "id": "bea12206-dd4d-4a04-8d7e-452847896292",
   "metadata": {},
   "outputs": [],
   "source": [
    "df2=pd.read_csv('prereq_edges.csv')"
   ]
  },
  {
   "cell_type": "code",
   "execution_count": 8,
   "id": "4870c8d9-8275-44b1-b44b-b9963d094211",
   "metadata": {},
   "outputs": [],
   "source": [
    "G=nx.Graph()\n",
    "\n",
    "for _,i in df2.iterrows():    \n",
    "       \n",
    "        G.add_edge(i['source_lo_title'],i['dest_lo_title'])\n",
    "        \n",
    "subgraphs=[G.subgraph(i) for i in nx.connected_components(G)]\n",
    "\n",
    "for num,sub in enumerate(subgraphs):\n",
    "    \n",
    "    nx.set_node_attributes(sub,num,'subGraphId')\n",
    "\n",
    "nodeSubGraphId={}\n",
    "for g in subgraphs:\n",
    "    for node in g.nodes(data=True):\n",
    "         nodeSubGraphId[node[0]]= node[1]['subGraphId']\n",
    "            \n",
    "subgraphsNodeCountDict={ num: g.number_of_nodes() for num,g in  enumerate(subgraphs)}"
   ]
  },
  {
   "cell_type": "code",
   "execution_count": 9,
   "id": "a6c8719a-fab1-4196-acc4-e165af836ce6",
   "metadata": {},
   "outputs": [],
   "source": [
    "for col in df.columns:\n",
    "    if df[col].dtype.name=='category':\n",
    "        df[col]=df[col].astype(str)"
   ]
  },
  {
   "cell_type": "code",
   "execution_count": 10,
   "id": "73f26f0b-9978-4def-8004-595c9f6517b2",
   "metadata": {},
   "outputs": [],
   "source": [
    "df['loGraphID']=df.learning_objective_name.apply(lambda x: nodeSubGraphId.get(x) )"
   ]
  },
  {
   "cell_type": "code",
   "execution_count": 11,
   "id": "4e427aad-3eca-41b8-be76-a7537b060b71",
   "metadata": {},
   "outputs": [],
   "source": [
    "difficulty=df[~df.correct.isna()].groupby('atom_id')['correct'].mean().reset_index().rename(columns={'correct':'difficulty'})"
   ]
  },
  {
   "cell_type": "code",
   "execution_count": 12,
   "id": "a1dab688-5428-40ac-8118-311b91cbb109",
   "metadata": {},
   "outputs": [],
   "source": [
    "df=df.merge(difficulty,how='left',on='atom_id')"
   ]
  },
  {
   "cell_type": "code",
   "execution_count": 13,
   "id": "d1edc182-77a3-4968-927c-e64a4f68e4ce",
   "metadata": {},
   "outputs": [],
   "source": [
    "#loIndex={lo:i for i,lo in enumerate( df.learning_objective_name.unique())}\n",
    "#df['loIndex']=df['learning_objective_name'].apply(lambda x: loIndex[x])"
   ]
  },
  {
   "cell_type": "code",
   "execution_count": 14,
   "id": "7b86048f-578b-4224-9473-3232a5701f11",
   "metadata": {},
   "outputs": [],
   "source": [
    "def atomClassifier(x):\n",
    "    if x==None:\n",
    "        return 'learningMaterial'\n",
    "    else:\n",
    "        return 'question'"
   ]
  },
  {
   "cell_type": "code",
   "execution_count": 15,
   "id": "87610521-7fba-48d6-aeac-1811fb01de86",
   "metadata": {
    "jupyter": {
     "source_hidden": true
    },
    "tags": []
   },
   "outputs": [],
   "source": [
    "df['atom_type']=df.correct.apply(lambda x:atomClassifier(x) )"
   ]
  },
  {
   "cell_type": "code",
   "execution_count": 16,
   "id": "500de9a3-0e73-4b0d-8750-daaa37ff3c3f",
   "metadata": {},
   "outputs": [],
   "source": [
    "df['correctBinary']=df.correct*1\n",
    "df.atom_id=df.atom_id.astype(str)\n"
   ]
  },
  {
   "cell_type": "code",
   "execution_count": 17,
   "id": "2d4f1011-a714-4da2-86f2-4026ab4d7c34",
   "metadata": {},
   "outputs": [],
   "source": [
    "df2['graph_id']=df2.apply(lambda x: nodeSubGraphId.get(x['source_lo_title']) if nodeSubGraphId.get(x['source_lo_title'])!=None else nodeSubGraphId.get(x['dest_lo_title']),axis=1)"
   ]
  },
  {
   "cell_type": "code",
   "execution_count": null,
   "id": "5273372f-9a33-4c0b-8f9e-0ab531c274fb",
   "metadata": {},
   "outputs": [],
   "source": []
  },
  {
   "cell_type": "code",
   "execution_count": 18,
   "id": "7b2f635f-81ef-4c57-b4b5-e58b93c2bc24",
   "metadata": {},
   "outputs": [],
   "source": [
    "unique_lo_graph_id_dic={}\n",
    "for i in df2.graph_id.unique():\n",
    "    unique_lo=np.unique(np.concatenate((df2[df2.graph_id==i]['source_lo_title'].unique(),((df2[df2.graph_id==i]['dest_lo_title'].unique())))))\n",
    "    unique_lo_graph_id_dic[i]={ item:int(num)  for  num,item in enumerate(unique_lo)}\n",
    "    df2.loc[df2.graph_id==i,'source_index' ]=df2.apply(lambda x: unique_lo_graph_id_dic.get(i).get(x['source_lo_title']),axis=1)\n",
    "    df2.loc[df2.graph_id==i,'dest_index' ]=df2.apply(lambda x: unique_lo_graph_id_dic.get(i).get(x['dest_lo_title']),axis=1)"
   ]
  },
  {
   "cell_type": "code",
   "execution_count": 19,
   "id": "d0847797-9329-4ea9-a075-d6cc665a3d93",
   "metadata": {},
   "outputs": [],
   "source": [
    "df2.source_index=df2.source_index.astype(int)\n",
    "df2.dest_index=df2.dest_index.astype(int)"
   ]
  },
  {
   "cell_type": "code",
   "execution_count": 20,
   "id": "286e06b8-4f74-4dca-8376-a98d1b84a5f9",
   "metadata": {},
   "outputs": [],
   "source": [
    "df=df[~df.loGraphID.isna()]"
   ]
  },
  {
   "cell_type": "code",
   "execution_count": 21,
   "id": "9e648a90-3003-4fb4-a828-ff6909f48abe",
   "metadata": {},
   "outputs": [],
   "source": [
    "df['loIndex']=df.apply(lambda x: unique_lo_graph_id_dic[x['loGraphID']].get(x['learning_objective_name'] ),axis=1)"
   ]
  },
  {
   "cell_type": "code",
   "execution_count": 22,
   "id": "1f9ac69a-8012-442d-ac48-c39e4230752a",
   "metadata": {},
   "outputs": [
    {
     "data": {
      "text/plain": [
       "source_lo_id                    eda7ab6a-8070-4fd8-8387-da17a40fd99e\n",
       "dest_lo_id                      eda7ab6a-8070-4fd8-8387-da17a40fd99e\n",
       "source_lo_title    Write biconditional statements in symbolic for...\n",
       "dest_lo_title      Write biconditional statements in symbolic for...\n",
       "graph_id                                                           3\n",
       "source_index                                                      30\n",
       "dest_index                                                        30\n",
       "dtype: object"
      ]
     },
     "execution_count": 22,
     "metadata": {},
     "output_type": "execute_result"
    }
   ],
   "source": [
    "df2[df2.graph_id==3].max()"
   ]
  },
  {
   "cell_type": "code",
   "execution_count": 23,
   "id": "32c0bd68-7e32-46e3-9625-75c732a82ac4",
   "metadata": {},
   "outputs": [],
   "source": [
    "loGraphID=26"
   ]
  },
  {
   "cell_type": "code",
   "execution_count": 24,
   "id": "ab27ab98-75eb-432f-b596-36a38b02818d",
   "metadata": {},
   "outputs": [],
   "source": [
    "loEdgeMapping=df2[df2['graph_id']==loGraphID][['source_index','dest_index']]\n",
    "loEdgeIndex=loEdgeMapping.values.transpose()"
   ]
  },
  {
   "cell_type": "code",
   "execution_count": 25,
   "id": "906c487d-8472-4e17-ad8c-29ae605555ee",
   "metadata": {},
   "outputs": [],
   "source": [
    "from torch_geometric.data import HeteroData\n",
    "import torch \n"
   ]
  },
  {
   "cell_type": "code",
   "execution_count": 26,
   "id": "4c4be197-04e5-4f80-9874-c54ed40b22d3",
   "metadata": {},
   "outputs": [],
   "source": [
    "import torch_geometric.transforms as T"
   ]
  },
  {
   "cell_type": "code",
   "execution_count": 27,
   "id": "a31639a6-e5a8-436a-8949-1f668d3c7ccc",
   "metadata": {},
   "outputs": [],
   "source": [
    "import torch_geometric as pyg\n",
    "from torch_geometric.nn import GCNConv \n",
    "from torch_geometric.nn import SAGEConv, to_hetero ,LSTMAggregation\n",
    "import  torch.nn as nn\n",
    "import torch.nn.functional as F\n",
    "import torch \n",
    "from torch_geometric.loader import DataLoader"
   ]
  },
  {
   "cell_type": "code",
   "execution_count": 45,
   "id": "2935eb04-bcbc-4ca0-b822-6ddd7e6dc33f",
   "metadata": {},
   "outputs": [],
   "source": [
    "\n",
    "def batch_generator(usersGraphDataList):\n",
    "    \n",
    "    np.random.shuffle(usersGraphDataList)\n",
    "    test_size=int(len(usersGraphDataList)*.2)\n",
    "    test_data=usersGraphDataList[:test_size]\n",
    "    train_data=usersGraphDataList[test_size:]\n",
    "    \n",
    "    return test_data,train_data\n",
    "    "
   ]
  },
  {
   "cell_type": "code",
   "execution_count": null,
   "id": "42d457aa-06c6-42d1-a33f-101975a17199",
   "metadata": {},
   "outputs": [],
   "source": []
  },
  {
   "cell_type": "code",
   "execution_count": 52,
   "id": "42b29cb2-51a8-406b-8711-835617a72e66",
   "metadata": {},
   "outputs": [],
   "source": [
    "def user_dataset_with_target_node(userDf,df2,user,goal,loEdgeIndex):\n",
    "    \n",
    "    '''\n",
    "    df - df should be filtered by goal id\n",
    "    \n",
    "    edges\n",
    "    -------\n",
    "    lo -> atom\n",
    "    atom -> atom\n",
    "    lo -> learning materials (lm)\n",
    "    atom -> lm\n",
    "    lm -> atom\n",
    "    lm -> lm\n",
    "    lm/atom -> target\n",
    "    \n",
    "    node / features\n",
    "    ---------------\n",
    "    \n",
    "    lo - radnom number\n",
    "    atom - dificulty ,  correctness\n",
    "    lm - time spend \n",
    "    '''\n",
    "    userDf.loc[userDf.shape[0]-1,'atom_type']='target'\n",
    "    \n",
    "    atomIndex=np.arange(userDf[userDf.atom_type=='question'].atom_id.shape[0])\n",
    "    lmIndex=np.arange(userDf[userDf.atom_type=='learningMaterial'].atom_id.shape[0])\n",
    "    \n",
    "    # assisgning questions and learningMaterials index seperatly in sinlge columns 'atom_index'\n",
    "    userDf.loc[userDf.atom_type=='question','atomIndex']=atomIndex\n",
    "    userDf.loc[userDf.atom_type=='learningMaterial','atomIndex']=lmIndex\n",
    "    userDf.loc[userDf.atom_type=='target','atomIndex']=0\n",
    "    \n",
    "    #lo-atom\n",
    "    loAtomEdgeIndex=userDf[userDf.atom_type=='question'][['loIndex','atomIndex']].values.transpose()\n",
    "    #lo-lm\n",
    "    loLmEdgeIndex=userDf[userDf.atom_type=='learningMaterial'][['loIndex','atomIndex']].values.transpose()\n",
    "    #lo-target\n",
    "    loTargetEdgeIndex=userDf[userDf.atom_type=='target'][['loIndex','atomIndex']].values.transpose()\n",
    "    \n",
    "    userDf['atom_type_shift']=userDf.atom_type.shift(-1)\n",
    "    userDf['atomIndex_shift']=userDf.atomIndex.shift(-1)\n",
    "    \n",
    "    featuresDict={}\n",
    "    #atom features\n",
    "    atomFeatures = userDf[userDf.atom_type=='question'][['difficulty','correctBinary']].astype(float).to_numpy()\n",
    "    featuresDict['atom']=atomFeatures\n",
    "    #learning materials features\n",
    "    #lmFeatures = userDf[userDf.atom_type=='learningMaterial'][['duration_s']].to_numpy()\n",
    "    \n",
    "    if  lmIndex.size>0 :\n",
    "            lmFeatures = userDf[userDf.atom_type=='learningMaterial'][['duration_s']].to_numpy()\n",
    "            featuresDict['lm']=lmFeatures\n",
    "            \n",
    "    #learning objectives\n",
    "    loFeatures=np.ones(loEdgeIndex.max()+1).reshape(-1,1)\n",
    "    featuresDict['lo']=loFeatures\n",
    "    \n",
    "    #target features\n",
    "    targetFeatures = userDf[userDf.atom_type=='target'][['difficulty']].to_numpy()\n",
    "    featuresDict['target']=targetFeatures\n",
    "    targetCorrectness=userDf[userDf.atom_type=='target'][['correctBinary']].astype(float).to_numpy()\n",
    "    \n",
    "    userDf_shift= userDf[~userDf.atomIndex_shift.isna()].copy() \n",
    "\n",
    "    edgesDict={}\n",
    "    #atom-atom\n",
    "    atomEdgeIndex=userDf_shift[(userDf_shift.atom_type=='question') & (userDf_shift.atom_type_shift=='question')][['atomIndex','atomIndex_shift']].values.transpose()\n",
    "    if atomEdgeIndex.size >0:\n",
    "        edgesDict['atom']=atomEdgeIndex\n",
    "    #atom-lmatomLmEdgeIndex\n",
    "    atomLmEdgeIndex=userDf_shift[(userDf_shift.atom_type=='question') & (userDf_shift.atom_type_shift=='learningMaterial')][['atomIndex','atomIndex_shift']].values.transpose()\n",
    "    if atomLmEdgeIndex.size>0:\n",
    "        edgesDict['atom_lm']=atomLmEdgeIndex\n",
    "    #lm-atom\n",
    "    LmAtomEdgeIndex=userDf_shift[(userDf_shift.atom_type=='learningMaterial') & (userDf_shift.atom_type_shift=='question')][['atomIndex','atomIndex_shift']].values.transpose()\n",
    "    if LmAtomEdgeIndex.size>0:\n",
    "        edgesDict['lm_atom']=LmAtomEdgeIndex\n",
    "    #lm-lm\n",
    "    LmLmEdgeIndex=userDf_shift[(userDf_shift.atom_type=='learningMaterial') & (userDf_shift.atom_type_shift=='learningMaterial')][['atomIndex','atomIndex_shift']].values.transpose()\n",
    "    if LmLmEdgeIndex.size>0:\n",
    "        edgesDict['lm_lm']=LmLmEdgeIndex\n",
    "    \n",
    "    #lm-target\n",
    "    LmTargetEdgeIndex=userDf_shift[(userDf_shift.atom_type=='learningMaterial') & (userDf_shift.atom_type_shift=='target')][['atomIndex','atomIndex_shift']].values.transpose()\n",
    "    if LmTargetEdgeIndex.size>0:\n",
    "        edgesDict['lm_target']=LmTargetEdgeIndex\n",
    "    \n",
    "    #atom-target\n",
    "    atomTargetEdgeIndex=userDf_shift[(userDf_shift.atom_type=='question') & (userDf_shift.atom_type_shift=='target')][['atomIndex','atomIndex_shift']].values.transpose()\n",
    "    \n",
    "    edgesDict['atom_target']=atomTargetEdgeIndex\n",
    "\n",
    "    if  loLmEdgeIndex.size>0:\n",
    "        edgesDict['lo_lm']=loLmEdgeIndex\n",
    "\n",
    "    if  loAtomEdgeIndex.size>0:\n",
    "        edgesDict['lo_atom']=loAtomEdgeIndex\n",
    "    \n",
    "    edgesDict['lo_target']=loTargetEdgeIndex\n",
    "    edgesDict['lo']=loEdgeIndex\n",
    "    return featuresDict,edgesDict,targetCorrectness,userDf"
   ]
  },
  {
   "cell_type": "code",
   "execution_count": null,
   "id": "b2a8cc8e-0fe3-45d0-aac2-7bc5e0f2b13c",
   "metadata": {},
   "outputs": [],
   "source": []
  },
  {
   "cell_type": "code",
   "execution_count": 53,
   "id": "d19fe54f-64fe-4872-a487-b058625cc032",
   "metadata": {},
   "outputs": [],
   "source": [
    "def preprocess(df,df2,user,goal):\n",
    "        loEdgeMapping=df2[df2['graph_id']==goal][['source_index','dest_index']]\n",
    "        loEdgeIndex=loEdgeMapping.values.transpose()\n",
    "      \n",
    "        featuresDict,edgesDict,targetCorrectness,userDf=user_dataset_with_target_node(df,df2,user,goal,loEdgeIndex)\n",
    "        \n",
    "        return featuresDict,edgesDict,targetCorrectness,userDf\n",
    "    \n",
    "            "
   ]
  },
  {
   "cell_type": "code",
   "execution_count": null,
   "id": "577f4ba0-de5d-429e-bd91-78f08f5d7915",
   "metadata": {},
   "outputs": [],
   "source": []
  },
  {
   "cell_type": "code",
   "execution_count": 54,
   "id": "cb11333d-6292-4df2-9da0-3912bfa5c912",
   "metadata": {},
   "outputs": [],
   "source": [
    "def generate_data_with_target(features,edges,targetCorrectness):  \n",
    "    data = HeteroData()\n",
    "    #node features\n",
    "    data['atom'].x=torch.tensor(features['atom'].astype(np.float64)).float()\n",
    "    data['lo'].x= torch.tensor(features['lo']).float()\n",
    "    data['target'].x= torch.tensor(features['target']).float()\n",
    "    \n",
    "    #edge index\n",
    "    data['lo','lo_atom','atom'].edge_index=torch.from_numpy(edges['lo_atom']).long()\n",
    "    data['lo','lo_lo','lo'].edge_index= torch.from_numpy(edges['lo']).long()\n",
    "    data['lo','lo_target','target'].edge_index=torch.from_numpy(edges['lo_target']).long()\n",
    "    data['atom','atom_atom','atom'].edge_index=torch.from_numpy(edges['atom']).long()\n",
    "    data['atom','atom_target','target'].edge_index=torch.from_numpy(edges['atom_target']).long()\n",
    "    \n",
    "    \n",
    "    \n",
    "    #lm edges and features\n",
    "    if 'lm' in features:\n",
    "        data['lm'].x= torch.tensor(features['lm']).float()\n",
    "        data['lo','lo_lm','lm'].edge_index=torch.from_numpy(edges['lo_lm']).long()\n",
    "        \n",
    "    if 'lm_lm' in features:    \n",
    "        data['lm','lm_lm','lm'].edge_index=torch.from_numpy(edges['lm_lm']).long()\n",
    "    \n",
    "    if 'atom_lm' in features:\n",
    "        data['atom','atom_lm','lm'].edge_index=torch.from_numpy(edges['atom_lm']).long()\n",
    "    \n",
    "    if 'lm_atom' in features:\n",
    "        data['lm','atom_lm','atom'].edge_index=torch.from_numpy(edges['lm_atom']).long()\n",
    "    \n",
    "    data['target'].y=torch.from_numpy(targetCorrectness).long()\n",
    "\n",
    "    #train_mask = torch.ones(attom_count, dtype=torch.bool)\n",
    "    #train_mask[target_atom] = False\n",
    "    #data['atom'].train_mask = train_mask\n",
    "\n",
    "    #normalize=T.NormalizeFeatures()\n",
    "    #data=normalize(data)\n",
    "    return data"
   ]
  },
  {
   "cell_type": "code",
   "execution_count": 116,
   "id": "159a65eb-7cde-4745-b145-19c3ee444a6d",
   "metadata": {},
   "outputs": [],
   "source": [
    "def data_batch_generator(graph_user_list):\n",
    "    data_list=[]\n",
    "    try:\n",
    "        for i in tqdm(range(len(graph_user_list))):\n",
    "            \n",
    "            featuresDict,edgesDict,targetCorrectness,userDf=preprocess(graph_user_list[i].copy(),df2,user_t,loGraphID) \n",
    "            data=generate_data_with_target(featuresDict,edgesDict,targetCorrectness)\n",
    "            data_list.append(data)\n",
    "        return data_list\n",
    "    except Exception as e:\n",
    "            ic(e)\n",
    "            ic(featuresDict,edgesDict,targetCorrectness,userDf)\n",
    "            "
   ]
  },
  {
   "cell_type": "code",
   "execution_count": 74,
   "id": "7acb3c5e-06fa-485f-8447-e7784e8964ed",
   "metadata": {},
   "outputs": [],
   "source": [
    "loGraphID=3"
   ]
  },
  {
   "cell_type": "code",
   "execution_count": null,
   "id": "f905a7eb-d177-44bd-ac6f-cd70aac7ac44",
   "metadata": {},
   "outputs": [],
   "source": []
  },
  {
   "cell_type": "code",
   "execution_count": 75,
   "id": "5a8823e4-060a-4e8a-9268-124b53a5125b",
   "metadata": {},
   "outputs": [],
   "source": [
    "graph_df=df[(df.loGraphID==loGraphID)]"
   ]
  },
  {
   "cell_type": "code",
   "execution_count": 76,
   "id": "63b026d1-eabe-46e7-90b6-12ebdefb7a24",
   "metadata": {},
   "outputs": [],
   "source": [
    "graph_user_list=graph_df.groupby('user_id')['atom_id'].count().sort_values()[20:100].index.to_list()"
   ]
  },
  {
   "cell_type": "code",
   "execution_count": 79,
   "id": "df612fcb-25f6-4289-9ea8-dfe514cff595",
   "metadata": {},
   "outputs": [],
   "source": [
    "graph_user_df=graph_df[graph_df.user_id.isin(graph_user_list)].sort_values(['user_id','interaction_end_time']).reset_index(drop=True)"
   ]
  },
  {
   "cell_type": "code",
   "execution_count": 114,
   "id": "8cfe92dc-1c0d-426a-ab9e-021ac68fcceb",
   "metadata": {},
   "outputs": [],
   "source": [
    "graph_user_list=[]\n",
    "question_count=0\n",
    "batch_size=10\n",
    "for row_id,row in graph_user_df.iterrows():\n",
    "    if row_id==0:\n",
    "        user_id=row['user_id']\n",
    "        user_atoms=[]\n",
    "    else:\n",
    "        if user_id != row['user_id']:\n",
    "            question_count=0\n",
    "            user_id=row['user_id']\n",
    "            user_atoms=[]\n",
    "    if row['atom_type'] =='question':\n",
    "        question_count =question_count+1\n",
    "        \n",
    "        if question_count>2:\n",
    "            user_atoms.append(graph_user_df.iloc[:row_id+1])\n",
    "        if len(user_atoms)%batch_size==0:\n",
    "            graph_user_list.extend(user_atoms)\n",
    "            user_atoms=[]\n",
    "            "
   ]
  },
  {
   "cell_type": "code",
   "execution_count": 117,
   "id": "8a42e1c4-0cff-4d1f-994e-86c99f68003a",
   "metadata": {},
   "outputs": [
    {
     "data": {
      "text/plain": [
       "1200"
      ]
     },
     "execution_count": 117,
     "metadata": {},
     "output_type": "execute_result"
    }
   ],
   "source": [
    "len(graph_user_list)"
   ]
  },
  {
   "cell_type": "code",
   "execution_count": 118,
   "id": "edf2a041-b7d8-4b2d-8a1e-f4049743f784",
   "metadata": {},
   "outputs": [
    {
     "name": "stderr",
     "output_type": "stream",
     "text": [
      "100%|██████████████████████████████████████████████████████████████████████████████| 1200/1200 [01:28<00:00, 13.50it/s]\n"
     ]
    }
   ],
   "source": [
    "data_list=data_batch_generator(graph_user_list)"
   ]
  },
  {
   "cell_type": "code",
   "execution_count": 121,
   "id": "762d212e-f342-432a-a962-10ca1c23cc80",
   "metadata": {},
   "outputs": [],
   "source": [
    "file_name = \"data_list.pkl\"\n",
    "open_file = open(file_name, \"wb\")\n",
    "\n",
    "pickle.dump(data_list, open_file)\n",
    "open_file.close()"
   ]
  },
  {
   "cell_type": "code",
   "execution_count": null,
   "id": "b9a62d01-5867-4613-a964-733f9b5272e0",
   "metadata": {},
   "outputs": [],
   "source": []
  }
 ],
 "metadata": {
  "kernelspec": {
   "display_name": "Python 3 (ipykernel)",
   "language": "python",
   "name": "python3"
  },
  "language_info": {
   "codemirror_mode": {
    "name": "ipython",
    "version": 3
   },
   "file_extension": ".py",
   "mimetype": "text/x-python",
   "name": "python",
   "nbconvert_exporter": "python",
   "pygments_lexer": "ipython3",
   "version": "3.8.3"
  }
 },
 "nbformat": 4,
 "nbformat_minor": 5
}
