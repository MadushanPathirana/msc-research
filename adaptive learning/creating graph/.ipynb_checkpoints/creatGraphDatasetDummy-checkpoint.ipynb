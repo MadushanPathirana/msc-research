{
 "cells": [
  {
   "cell_type": "code",
   "execution_count": 5,
   "id": "408039d0-7489-413c-81a3-cb230e3e2ab8",
   "metadata": {},
   "outputs": [],
   "source": [
    "import pandas as pd\n",
    "import numpy as np\n",
    "import networkx as nx"
   ]
  },
  {
   "cell_type": "markdown",
   "id": "f614bff9-fb7b-4d8b-9aea-b3b704e4428a",
   "metadata": {},
   "source": [
    "train/test split - https://medium.com/@pytorch_geometric/link-prediction-on-heterogeneous-graphs-with-pyg-6d5c29677c70"
   ]
  },
  {
   "cell_type": "code",
   "execution_count": 30,
   "id": "0054d31e-7262-4cf4-9ddd-94e3a6f7b74e",
   "metadata": {},
   "outputs": [],
   "source": [
    "pd.set_option('display.max_columns', None)"
   ]
  },
  {
   "cell_type": "code",
   "execution_count": 3,
   "id": "8ad81561-08ed-49f7-bebb-3076df6399bf",
   "metadata": {},
   "outputs": [],
   "source": [
    "df=pd.read_pickle('C:/research/adaptive learning/appmath.pkl')"
   ]
  },
  {
   "cell_type": "code",
   "execution_count": 4,
   "id": "a2969662-1b76-4570-a9ae-fe575f4dde13",
   "metadata": {},
   "outputs": [],
   "source": [
    "df2=pd.read_csv('C:/research/adaptive learning/prereq_edges.csv')"
   ]
  },
  {
   "cell_type": "code",
   "execution_count": 6,
   "id": "253b7fee-9d83-4843-b6db-3af98ef6ef0f",
   "metadata": {},
   "outputs": [],
   "source": [
    "G=nx.Graph()\n",
    "\n",
    "for _,i in df2.iterrows():    \n",
    "       \n",
    "        G.add_edge(i['source_lo_title'],i['dest_lo_title'])\n",
    "       "
   ]
  },
  {
   "cell_type": "code",
   "execution_count": 7,
   "id": "616eaaf8-5e5e-45d7-8243-71f6b4c5d21f",
   "metadata": {},
   "outputs": [],
   "source": [
    "subgraphs=[G.subgraph(i) for i in nx.connected_components(G)]"
   ]
  },
  {
   "cell_type": "code",
   "execution_count": 8,
   "id": "8a6adf90-59e1-46c0-a274-c5082b3419ba",
   "metadata": {},
   "outputs": [],
   "source": [
    "for num,sub in enumerate(subgraphs):\n",
    "    \n",
    "    nx.set_node_attributes(sub,num,'subGraphId')"
   ]
  },
  {
   "cell_type": "code",
   "execution_count": 9,
   "id": "0160df1a-0837-41bb-aa6a-fd648b17e063",
   "metadata": {},
   "outputs": [],
   "source": [
    "nodeSubGraphId={}\n",
    "for g in subgraphs:\n",
    "    for node in g.nodes(data=True):\n",
    "         nodeSubGraphId[node[0]]= node[1]['subGraphId']"
   ]
  },
  {
   "cell_type": "code",
   "execution_count": null,
   "id": "10269bf3-2377-4257-aae8-d5bfef1e530e",
   "metadata": {
    "tags": []
   },
   "outputs": [],
   "source": []
  },
  {
   "cell_type": "code",
   "execution_count": 10,
   "id": "faa20865-f927-49ad-b3bc-b620f827ae37",
   "metadata": {},
   "outputs": [],
   "source": [
    "subgraphsNodeCountDict={ num: g.number_of_nodes() for num,g in  enumerate(subgraphs)}"
   ]
  },
  {
   "cell_type": "code",
   "execution_count": 11,
   "id": "bc2c8fc8-2252-478d-8c07-ecd079d0be3c",
   "metadata": {},
   "outputs": [],
   "source": [
    "\n",
    "\n",
    "for col in df.columns:\n",
    "    if df[col].dtype.name=='category':\n",
    "        df[col]=df[col].astype(str)"
   ]
  },
  {
   "cell_type": "code",
   "execution_count": 12,
   "id": "a39f0b70-9984-42a9-af40-26fd50ba645c",
   "metadata": {},
   "outputs": [],
   "source": [
    "df['loGraphID']=df.learning_objective_name.apply(lambda x: nodeSubGraphId.get(x) )"
   ]
  },
  {
   "cell_type": "code",
   "execution_count": 54,
   "id": "60cff436-b232-4bcd-a73f-da3a1debc5fa",
   "metadata": {},
   "outputs": [],
   "source": [
    "df16=df[df.loGraphID==16].reset_index(drop=True)"
   ]
  },
  {
   "cell_type": "code",
   "execution_count": 55,
   "id": "2e48d037-0723-4b88-affc-462121d4a0bb",
   "metadata": {},
   "outputs": [],
   "source": [
    "df16=df16[~df16.correct.isna()]"
   ]
  },
  {
   "cell_type": "code",
   "execution_count": 56,
   "id": "b927fbdf-e304-48eb-8b35-ab83f295ad44",
   "metadata": {},
   "outputs": [],
   "source": [
    "difficulty=df16.groupby('atom_id')['correct'].mean().reset_index().rename(columns={'correct':'difficulty'})"
   ]
  },
  {
   "cell_type": "code",
   "execution_count": 57,
   "id": "f9535d2c-ef93-4151-b0ac-3a955b53e3b8",
   "metadata": {},
   "outputs": [],
   "source": [
    "df16=df16.merge(difficulty,how='left',on='atom_id')"
   ]
  },
  {
   "cell_type": "code",
   "execution_count": 58,
   "id": "34d9e9b6-f19b-4b0d-97c6-607003fcbd9c",
   "metadata": {},
   "outputs": [
    {
     "data": {
      "text/plain": [
       "<AxesSubplot:>"
      ]
     },
     "execution_count": 58,
     "metadata": {},
     "output_type": "execute_result"
    },
    {
     "data": {
      "image/png": "[encoded data removed]",
      "text/plain": [
       "<Figure size 640x480 with 1 Axes>"
      ]
     },
     "metadata": {},
     "output_type": "display_data"
    }
   ],
   "source": [
    "difficulty.difficulty.hist(bins=10)"
   ]
  },
  {
   "cell_type": "markdown",
   "id": "7a841c89-91a5-461e-8b72-2623a5841573",
   "metadata": {},
   "source": [
    "# Assuming your DataFrame is called 'df'\n",
    "student_ids = df['student_id'].unique()\n",
    "num_students = len(student_ids)\n",
    "data_list = []\n",
    "\n",
    "for student_id in student_ids:\n",
    "    # Filter data for each student\n",
    "    student_data = df[df['student_id'] == student_id]\n",
    "\n",
    "    # Get the unique question and learning objective IDs\n",
    "    question_ids = student_data['question_id'].unique()\n",
    "    learning_objectives = student_data['learning_objective'].unique()\n",
    "\n",
    "    # Create dictionaries for mapping IDs to indices\n",
    "    question_id_to_index = {q_id: i for i, q_id in enumerate(question_ids)}\n",
    "    learning_objective_to_index = {lo: i for i, lo in enumerate(learning_objectives)}\n",
    "\n",
    "    # Initialize node features and edges\n",
    "    x = []  # Node features\n",
    "    edge_index = [[], []]  # Edge indices\n",
    "    y = []  # Target values (correctness)\n",
    "\n",
    "    # Iterate over each question\n",
    "    for idx, row in student_data.iterrows():\n",
    "        # Get the node indices for the question and learning objective\n",
    "        question_index = question_id_to_index[row['question_id']]\n",
    "        objective_index = learning_objective_to_index[row['learning_objective']]\n",
    "\n",
    "        # Append node features\n",
    "        x.append([row['question_difficulty']])  # Question difficulty\n",
    "        x.append([row['num_questions_for_learning_obj']])  # Number of questions for the learning objective\n",
    "\n",
    "        # Append edge indices\n",
    "        edge_index[0].append(question_index * 2)  # Outgoing edge from question\n",
    "        edge_index[1].append((question_index * 2) + 1)  # Incoming edge to learning objective\n",
    "\n",
    "        # Append target values\n",
    "        y.append(row['correctness'])\n",
    "\n",
    "    # Convert lists to tensors\n",
    "    x = torch.tensor(x, dtype=torch.float)\n",
    "    edge_index = torch.tensor(edge_index, dtype=torch.long)\n",
    "    y = torch.tensor(y, dtype=torch.long)\n",
    "\n",
    "    # Create a PyTorch Geometric Data object\n",
    "    data = Data(x=x, edge_index=edge_index, y=y)\n",
    "\n",
    "    # Add the data to the list\n",
    "    data_list.append(data)\n",
    "\n",
    "# Create an InMemoryDataset from the data list\n",
    "class StudentDataset(InMemoryDataset):\n",
    "    def __init__(self, root, transform=None, pre_transform=None):\n",
    "        super(StudentDataset, self).__init__(root, transform, pre_transform)\n",
    "        self.data, self.slices = self.collate(data_list)\n",
    "\n",
    "    def _download(self):\n",
    "        pass\n",
    "\n",
    "    def _process(self):\n",
    "        pass\n",
    "\n",
    "dataset = StudentDataset('')\n"
   ]
  },
  {
   "cell_type": "code",
   "execution_count": 59,
   "id": "81b8998b-5b0e-47e4-b861-dd6cf7d8433a",
   "metadata": {},
   "outputs": [
    {
     "data": {
      "text/html": [
       "<div>\n",
       "<style scoped>\n",
       "    .dataframe tbody tr th:only-of-type {\n",
       "        vertical-align: middle;\n",
       "    }\n",
       "\n",
       "    .dataframe tbody tr th {\n",
       "        vertical-align: top;\n",
       "    }\n",
       "\n",
       "    .dataframe thead th {\n",
       "        text-align: right;\n",
       "    }\n",
       "</style>\n",
       "<table border=\"1\" class=\"dataframe\">\n",
       "  <thead>\n",
       "    <tr style=\"text-align: right;\">\n",
       "      <th></th>\n",
       "      <th>atom_id</th>\n",
       "    </tr>\n",
       "    <tr>\n",
       "      <th>user_id</th>\n",
       "      <th></th>\n",
       "    </tr>\n",
       "  </thead>\n",
       "  <tbody>\n",
       "    <tr>\n",
       "      <th>022a0c6d-e9ce-4cb0-a83a-c4222997eaa2</th>\n",
       "      <td>44</td>\n",
       "    </tr>\n",
       "    <tr>\n",
       "      <th>038d85a1-75f0-417b-b1a4-d443de4fb8d3</th>\n",
       "      <td>47</td>\n",
       "    </tr>\n",
       "    <tr>\n",
       "      <th>05d0a218-8945-412d-8ff7-8c13c29dd6f3</th>\n",
       "      <td>43</td>\n",
       "    </tr>\n",
       "    <tr>\n",
       "      <th>08b8bb04-b9a7-47a9-a937-7201afc1974f</th>\n",
       "      <td>45</td>\n",
       "    </tr>\n",
       "    <tr>\n",
       "      <th>0e6f2f00-8fd7-4d53-b635-eee65f902e5d</th>\n",
       "      <td>47</td>\n",
       "    </tr>\n",
       "    <tr>\n",
       "      <th>...</th>\n",
       "      <td>...</td>\n",
       "    </tr>\n",
       "    <tr>\n",
       "      <th>f03a9129-ab21-4a89-9189-d23bfb81ca6a</th>\n",
       "      <td>54</td>\n",
       "    </tr>\n",
       "    <tr>\n",
       "      <th>f128ef40-1052-45a1-8a89-7020d5aaa34a</th>\n",
       "      <td>51</td>\n",
       "    </tr>\n",
       "    <tr>\n",
       "      <th>f49c42dd-5889-4831-8e5f-e8512aec4e66</th>\n",
       "      <td>57</td>\n",
       "    </tr>\n",
       "    <tr>\n",
       "      <th>fdd43067-8995-4296-b924-2a24b934b0dd</th>\n",
       "      <td>47</td>\n",
       "    </tr>\n",
       "    <tr>\n",
       "      <th>fe635bd6-3f6b-48e8-990c-c6eb55e68efe</th>\n",
       "      <td>44</td>\n",
       "    </tr>\n",
       "  </tbody>\n",
       "</table>\n",
       "<p>86 rows × 1 columns</p>\n",
       "</div>"
      ],
      "text/plain": [
       "                                      atom_id\n",
       "user_id                                      \n",
       "022a0c6d-e9ce-4cb0-a83a-c4222997eaa2       44\n",
       "038d85a1-75f0-417b-b1a4-d443de4fb8d3       47\n",
       "05d0a218-8945-412d-8ff7-8c13c29dd6f3       43\n",
       "08b8bb04-b9a7-47a9-a937-7201afc1974f       45\n",
       "0e6f2f00-8fd7-4d53-b635-eee65f902e5d       47\n",
       "...                                       ...\n",
       "f03a9129-ab21-4a89-9189-d23bfb81ca6a       54\n",
       "f128ef40-1052-45a1-8a89-7020d5aaa34a       51\n",
       "f49c42dd-5889-4831-8e5f-e8512aec4e66       57\n",
       "fdd43067-8995-4296-b924-2a24b934b0dd       47\n",
       "fe635bd6-3f6b-48e8-990c-c6eb55e68efe       44\n",
       "\n",
       "[86 rows x 1 columns]"
      ]
     },
     "execution_count": 59,
     "metadata": {},
     "output_type": "execute_result"
    }
   ],
   "source": [
    "pd.DataFrame(df16.groupby('user_id')['atom_id'].nunique())[(pd.DataFrame(df16.groupby('user_id')['atom_id'].nunique())>40).atom_id]"
   ]
  },
  {
   "cell_type": "code",
   "execution_count": 60,
   "id": "c71f8526-0413-408e-962d-b2c42c2962f6",
   "metadata": {},
   "outputs": [],
   "source": [
    "user='f49c42dd-5889-4831-8e5f-e8512aec4e66'"
   ]
  },
  {
   "cell_type": "code",
   "execution_count": 64,
   "id": "67d1221a-200d-4fb1-8615-a97ab89ccfe0",
   "metadata": {},
   "outputs": [
    {
     "data": {
      "text/plain": [
       "True     67\n",
       "False    26\n",
       "Name: correct, dtype: int64"
      ]
     },
     "execution_count": 64,
     "metadata": {},
     "output_type": "execute_result"
    }
   ],
   "source": [
    "df16[df16.user_id==user].correct.value_counts()"
   ]
  },
  {
   "cell_type": "code",
   "execution_count": 65,
   "id": "93ecc038-a866-4e61-a6a4-82a5338d373b",
   "metadata": {},
   "outputs": [],
   "source": [
    "df16['correctBinary']=df16.correct*1"
   ]
  },
  {
   "cell_type": "code",
   "execution_count": 86,
   "id": "1f3d0b10-7c7f-4c8c-8dea-bb7760c65f65",
   "metadata": {},
   "outputs": [],
   "source": [
    "userDf=df16[df16.user_id==user]"
   ]
  },
  {
   "cell_type": "code",
   "execution_count": 87,
   "id": "4dd6ff47-66c4-41a7-8046-6d2d53940c8e",
   "metadata": {},
   "outputs": [],
   "source": [
    "userDf=userDf.sort_values(by='interaction_end_time')"
   ]
  },
  {
   "cell_type": "code",
   "execution_count": 91,
   "id": "91d546c4-5982-4970-b0f0-6d6186450dd2",
   "metadata": {},
   "outputs": [],
   "source": [
    "atomIndex={atom:i for i,atom in enumerate( userDf.atom_id.unique())}"
   ]
  },
  {
   "cell_type": "code",
   "execution_count": 92,
   "id": "6d6802c6-9744-4a2e-ad6b-89f1e4eaedd9",
   "metadata": {},
   "outputs": [],
   "source": [
    "loIndex={lo:i for i,lo in enumerate( userDf.learning_objective_name.unique())}"
   ]
  },
  {
   "cell_type": "code",
   "execution_count": 96,
   "id": "28e14450-da83-4291-8aa3-200cea94f75c",
   "metadata": {},
   "outputs": [],
   "source": [
    "userDf['loIndex']=userDf['learning_objective_name'].apply(lambda x: loIndex[x])\n",
    "userDf['atomIndex']=userDf['atom_id'].apply(lambda x: atomIndex[x])"
   ]
  },
  {
   "cell_type": "code",
   "execution_count": 111,
   "id": "e8f80d8f-c7aa-4cf2-90b3-12baefb91aab",
   "metadata": {},
   "outputs": [],
   "source": [
    "atomsPerLO=userDf.groupby('loIndex')['atom_id'].count().to_dict()\n",
    "userDf['atomsPerLO']=userDf['loIndex'].apply(lambda x: atomsPerLO[x])"
   ]
  },
  {
   "cell_type": "code",
   "execution_count": 99,
   "id": "6297d839-d25e-4dcb-b642-3ae0dc0e3f23",
   "metadata": {},
   "outputs": [],
   "source": [
    "edgeMap=userDf[['loIndex','atomIndex']]"
   ]
  },
  {
   "cell_type": "code",
   "execution_count": 100,
   "id": "aeb1b769-e28e-4d60-ba05-9f0dbdbce022",
   "metadata": {},
   "outputs": [],
   "source": [
    "y=userDf.correctBinary"
   ]
  },
  {
   "cell_type": "code",
   "execution_count": 103,
   "id": "c01122a7-6205-488c-bcda-321d9a15a8f3",
   "metadata": {},
   "outputs": [
    {
     "data": {
      "text/html": [
       "<div>\n",
       "<style scoped>\n",
       "    .dataframe tbody tr th:only-of-type {\n",
       "        vertical-align: middle;\n",
       "    }\n",
       "\n",
       "    .dataframe tbody tr th {\n",
       "        vertical-align: top;\n",
       "    }\n",
       "\n",
       "    .dataframe thead th {\n",
       "        text-align: right;\n",
       "    }\n",
       "</style>\n",
       "<table border=\"1\" class=\"dataframe\">\n",
       "  <thead>\n",
       "    <tr style=\"text-align: right;\">\n",
       "      <th></th>\n",
       "      <th>loIndex</th>\n",
       "      <th>atomIndex</th>\n",
       "    </tr>\n",
       "  </thead>\n",
       "  <tbody>\n",
       "    <tr>\n",
       "      <th>32547</th>\n",
       "      <td>0</td>\n",
       "      <td>0</td>\n",
       "    </tr>\n",
       "    <tr>\n",
       "      <th>32548</th>\n",
       "      <td>0</td>\n",
       "      <td>1</td>\n",
       "    </tr>\n",
       "    <tr>\n",
       "      <th>32549</th>\n",
       "      <td>1</td>\n",
       "      <td>2</td>\n",
       "    </tr>\n",
       "    <tr>\n",
       "      <th>32550</th>\n",
       "      <td>2</td>\n",
       "      <td>3</td>\n",
       "    </tr>\n",
       "    <tr>\n",
       "      <th>32551</th>\n",
       "      <td>2</td>\n",
       "      <td>4</td>\n",
       "    </tr>\n",
       "    <tr>\n",
       "      <th>...</th>\n",
       "      <td>...</td>\n",
       "      <td>...</td>\n",
       "    </tr>\n",
       "    <tr>\n",
       "      <th>32621</th>\n",
       "      <td>1</td>\n",
       "      <td>29</td>\n",
       "    </tr>\n",
       "    <tr>\n",
       "      <th>32622</th>\n",
       "      <td>2</td>\n",
       "      <td>4</td>\n",
       "    </tr>\n",
       "    <tr>\n",
       "      <th>32623</th>\n",
       "      <td>3</td>\n",
       "      <td>55</td>\n",
       "    </tr>\n",
       "    <tr>\n",
       "      <th>32624</th>\n",
       "      <td>0</td>\n",
       "      <td>36</td>\n",
       "    </tr>\n",
       "    <tr>\n",
       "      <th>32625</th>\n",
       "      <td>3</td>\n",
       "      <td>56</td>\n",
       "    </tr>\n",
       "  </tbody>\n",
       "</table>\n",
       "<p>93 rows × 2 columns</p>\n",
       "</div>"
      ],
      "text/plain": [
       "       loIndex  atomIndex\n",
       "32547        0          0\n",
       "32548        0          1\n",
       "32549        1          2\n",
       "32550        2          3\n",
       "32551        2          4\n",
       "...        ...        ...\n",
       "32621        1         29\n",
       "32622        2          4\n",
       "32623        3         55\n",
       "32624        0         36\n",
       "32625        3         56\n",
       "\n",
       "[93 rows x 2 columns]"
      ]
     },
     "execution_count": 103,
     "metadata": {},
     "output_type": "execute_result"
    }
   ],
   "source": [
    "edgeMap"
   ]
  },
  {
   "cell_type": "code",
   "execution_count": 123,
   "id": "dfffd0ed-347f-400b-8d6b-06a525a87769",
   "metadata": {},
   "outputs": [],
   "source": [
    "loMapping=df2[(df2.source_lo_title.isin(loIndex.keys())) | (df2.dest_lo_title.isin(loIndex.keys()))]"
   ]
  },
  {
   "cell_type": "code",
   "execution_count": 126,
   "id": "5b4bfc12-66a9-46bf-840d-3c9aa03766a5",
   "metadata": {},
   "outputs": [
    {
     "name": "stderr",
     "output_type": "stream",
     "text": [
      "C:\\Users\\mpathirana\\AppData\\Local\\Temp\\ipykernel_14952\\3242840787.py:1: SettingWithCopyWarning: \n",
      "A value is trying to be set on a copy of a slice from a DataFrame.\n",
      "Try using .loc[row_indexer,col_indexer] = value instead\n",
      "\n",
      "See the caveats in the documentation: https://pandas.pydata.org/pandas-docs/stable/user_guide/indexing.html#returning-a-view-versus-a-copy\n",
      "  loMapping['source_index']=loMapping.source_lo_title.map(loIndex)\n",
      "C:\\Users\\mpathirana\\AppData\\Local\\Temp\\ipykernel_14952\\3242840787.py:2: SettingWithCopyWarning: \n",
      "A value is trying to be set on a copy of a slice from a DataFrame.\n",
      "Try using .loc[row_indexer,col_indexer] = value instead\n",
      "\n",
      "See the caveats in the documentation: https://pandas.pydata.org/pandas-docs/stable/user_guide/indexing.html#returning-a-view-versus-a-copy\n",
      "  loMapping['dest_index']=loMapping.dest_lo_title.map(loIndex)\n"
     ]
    }
   ],
   "source": [
    "loMapping['source_index']=loMapping.source_lo_title.map(loIndex)\n",
    "loMapping['dest_index']=loMapping.dest_lo_title.map(loIndex)"
   ]
  },
  {
   "cell_type": "code",
   "execution_count": 130,
   "id": "12e4efcd-c24c-4815-ab8c-414f5cb991a1",
   "metadata": {},
   "outputs": [],
   "source": [
    "loEdgeMapping=loMapping[['source_index','dest_index']].reset_index(drop=True)"
   ]
  },
  {
   "cell_type": "code",
   "execution_count": 131,
   "id": "a3838b82-1912-4b9b-a06d-1e8060a3ecd9",
   "metadata": {},
   "outputs": [
    {
     "data": {
      "text/html": [
       "<div>\n",
       "<style scoped>\n",
       "    .dataframe tbody tr th:only-of-type {\n",
       "        vertical-align: middle;\n",
       "    }\n",
       "\n",
       "    .dataframe tbody tr th {\n",
       "        vertical-align: top;\n",
       "    }\n",
       "\n",
       "    .dataframe thead th {\n",
       "        text-align: right;\n",
       "    }\n",
       "</style>\n",
       "<table border=\"1\" class=\"dataframe\">\n",
       "  <thead>\n",
       "    <tr style=\"text-align: right;\">\n",
       "      <th></th>\n",
       "      <th>source_index</th>\n",
       "      <th>dest_index</th>\n",
       "    </tr>\n",
       "  </thead>\n",
       "  <tbody>\n",
       "    <tr>\n",
       "      <th>0</th>\n",
       "      <td>3</td>\n",
       "      <td>1</td>\n",
       "    </tr>\n",
       "    <tr>\n",
       "      <th>1</th>\n",
       "      <td>2</td>\n",
       "      <td>3</td>\n",
       "    </tr>\n",
       "    <tr>\n",
       "      <th>2</th>\n",
       "      <td>0</td>\n",
       "      <td>2</td>\n",
       "    </tr>\n",
       "  </tbody>\n",
       "</table>\n",
       "</div>"
      ],
      "text/plain": [
       "   source_index  dest_index\n",
       "0             3           1\n",
       "1             2           3\n",
       "2             0           2"
      ]
     },
     "execution_count": 131,
     "metadata": {},
     "output_type": "execute_result"
    }
   ],
   "source": [
    "loEdgeMapping"
   ]
  },
  {
   "cell_type": "code",
   "execution_count": null,
   "id": "09387d40-6325-400b-a8a6-60fdf5761830",
   "metadata": {},
   "outputs": [],
   "source": []
  }
 ],
 "metadata": {
  "kernelspec": {
   "display_name": "Python 3 (ipykernel)",
   "language": "python",
   "name": "python3"
  },
  "language_info": {
   "codemirror_mode": {
    "name": "ipython",
    "version": 3
   },
   "file_extension": ".py",
   "mimetype": "text/x-python",
   "name": "python",
   "nbconvert_exporter": "python",
   "pygments_lexer": "ipython3",
   "version": "3.8.3"
  }
 },
 "nbformat": 4,
 "nbformat_minor": 5
}
