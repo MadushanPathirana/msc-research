{
 "cells": [
  {
   "cell_type": "code",
   "execution_count": 1,
   "id": "4bd2915e-e172-401d-8602-85d354301159",
   "metadata": {},
   "outputs": [],
   "source": [
    "import pandas as pd\n",
    "import numpy as np\n",
    "import networkx as nx\n",
    "import matplotlib.pyplot as plt"
   ]
  },
  {
   "cell_type": "code",
   "execution_count": null,
   "id": "4b8a0b87-1886-49fd-8f6b-5bf486948055",
   "metadata": {},
   "outputs": [],
   "source": []
  },
  {
   "cell_type": "code",
   "execution_count": 2,
   "id": "ef581538-5b58-44d4-bd39-e9a85d5108da",
   "metadata": {},
   "outputs": [],
   "source": [
    "from sklearn.metrics import classification_report"
   ]
  },
  {
   "cell_type": "markdown",
   "id": "1236a6a4-02c5-4555-a5e9-c75a5044360a",
   "metadata": {},
   "source": [
    "https://medium.com/stanford-cs224w/graph-neural-networks-for-knowledge-tracing-ef31fdaa5f00"
   ]
  },
  {
   "cell_type": "code",
   "execution_count": 3,
   "id": "afd5aab0-5954-4a33-a38a-5377c2235f25",
   "metadata": {},
   "outputs": [],
   "source": [
    "pd.set_option('display.max_columns', None)"
   ]
  },
  {
   "cell_type": "code",
   "execution_count": 4,
   "id": "4ba2e498-913a-453c-8f9c-a68b2b87a8a6",
   "metadata": {},
   "outputs": [],
   "source": [
    "df=pd.read_pickle('appmath.pkl')  "
   ]
  },
  {
   "cell_type": "code",
   "execution_count": 5,
   "id": "4ab4f28b-0d72-4cda-8b9d-0f21e8e3548e",
   "metadata": {},
   "outputs": [],
   "source": [
    "df2=pd.read_csv('prereq_edges.csv')"
   ]
  },
  {
   "cell_type": "code",
   "execution_count": null,
   "id": "2b2fe148-d975-4901-bf48-8a777252a660",
   "metadata": {},
   "outputs": [],
   "source": []
  },
  {
   "cell_type": "code",
   "execution_count": 6,
   "id": "ad67525e-6e83-4fbb-b7c0-45e21c0afd99",
   "metadata": {},
   "outputs": [],
   "source": [
    "G=nx.Graph()\n",
    "\n",
    "for _,i in df2.iterrows():    \n",
    "       \n",
    "        G.add_edge(i['source_lo_title'],i['dest_lo_title'])\n",
    "        \n",
    "subgraphs=[G.subgraph(i) for i in nx.connected_components(G)]\n",
    "\n",
    "for num,sub in enumerate(subgraphs):\n",
    "    \n",
    "    nx.set_node_attributes(sub,num,'subGraphId')\n",
    "\n",
    "nodeSubGraphId={}\n",
    "for g in subgraphs:\n",
    "    for node in g.nodes(data=True):\n",
    "         nodeSubGraphId[node[0]]= node[1]['subGraphId']\n",
    "            \n",
    "subgraphsNodeCountDict={ num: g.number_of_nodes() for num,g in  enumerate(subgraphs)}"
   ]
  },
  {
   "cell_type": "code",
   "execution_count": null,
   "id": "10256b94-15ee-43d0-89ee-69f9be7e0faa",
   "metadata": {},
   "outputs": [],
   "source": []
  },
  {
   "cell_type": "code",
   "execution_count": 7,
   "id": "32fb5cac-a730-4b2c-9641-9b9e92a2d73f",
   "metadata": {},
   "outputs": [],
   "source": [
    "for col in df.columns:\n",
    "    if df[col].dtype.name=='category':\n",
    "        df[col]=df[col].astype(str)"
   ]
  },
  {
   "cell_type": "code",
   "execution_count": 8,
   "id": "817bf547-5bfb-4ca8-a36a-0332af19deee",
   "metadata": {},
   "outputs": [],
   "source": [
    "df['loGraphID']=df.learning_objective_name.apply(lambda x: nodeSubGraphId.get(x) )"
   ]
  },
  {
   "cell_type": "code",
   "execution_count": 9,
   "id": "9f3dab4b-ec86-4b3e-afab-041f8294ae87",
   "metadata": {},
   "outputs": [],
   "source": [
    "difficulty=df[~df.correct.isna()].groupby('atom_id')['correct'].mean().reset_index().rename(columns={'correct':'difficulty'})"
   ]
  },
  {
   "cell_type": "code",
   "execution_count": 10,
   "id": "b286a6e5-0eae-4310-be5e-d8619305d0da",
   "metadata": {},
   "outputs": [
    {
     "data": {
      "text/html": [
       "<div>\n",
       "<style scoped>\n",
       "    .dataframe tbody tr th:only-of-type {\n",
       "        vertical-align: middle;\n",
       "    }\n",
       "\n",
       "    .dataframe tbody tr th {\n",
       "        vertical-align: top;\n",
       "    }\n",
       "\n",
       "    .dataframe thead th {\n",
       "        text-align: right;\n",
       "    }\n",
       "</style>\n",
       "<table border=\"1\" class=\"dataframe\">\n",
       "  <thead>\n",
       "    <tr style=\"text-align: right;\">\n",
       "      <th></th>\n",
       "      <th>atom_id</th>\n",
       "      <th>difficulty</th>\n",
       "    </tr>\n",
       "  </thead>\n",
       "  <tbody>\n",
       "    <tr>\n",
       "      <th>0</th>\n",
       "      <td>000361fc-3126-4f25-93da-3ee3b66021c4</td>\n",
       "      <td>0.571429</td>\n",
       "    </tr>\n",
       "    <tr>\n",
       "      <th>1</th>\n",
       "      <td>000785e5-46df-4d0b-a12d-2283db4b8c7f</td>\n",
       "      <td>1.000000</td>\n",
       "    </tr>\n",
       "    <tr>\n",
       "      <th>2</th>\n",
       "      <td>000da431-9e35-4309-a3ae-cca9225b8d54</td>\n",
       "      <td>0.638554</td>\n",
       "    </tr>\n",
       "    <tr>\n",
       "      <th>3</th>\n",
       "      <td>00170926-4ba4-4d1e-bd86-0ac94107acb1</td>\n",
       "      <td>0.700000</td>\n",
       "    </tr>\n",
       "    <tr>\n",
       "      <th>4</th>\n",
       "      <td>001cfd36-68fa-4d74-b077-769f3bf2e0ad</td>\n",
       "      <td>0.712919</td>\n",
       "    </tr>\n",
       "    <tr>\n",
       "      <th>...</th>\n",
       "      <td>...</td>\n",
       "      <td>...</td>\n",
       "    </tr>\n",
       "    <tr>\n",
       "      <th>16441</th>\n",
       "      <td>fff0e6fc-e78f-41da-bcc8-88a6dceb6cc3</td>\n",
       "      <td>0.581481</td>\n",
       "    </tr>\n",
       "    <tr>\n",
       "      <th>16442</th>\n",
       "      <td>fff4801c-d828-453e-b1d4-64369f7b1048</td>\n",
       "      <td>0.666667</td>\n",
       "    </tr>\n",
       "    <tr>\n",
       "      <th>16443</th>\n",
       "      <td>fff652bc-b348-4054-9aab-8e67b98b022a</td>\n",
       "      <td>0.714286</td>\n",
       "    </tr>\n",
       "    <tr>\n",
       "      <th>16444</th>\n",
       "      <td>fffbe876-95cc-4dd0-9097-c657f446df6a</td>\n",
       "      <td>0.714286</td>\n",
       "    </tr>\n",
       "    <tr>\n",
       "      <th>16445</th>\n",
       "      <td>fffd03c7-5c73-41e2-ae82-7c5146120a29</td>\n",
       "      <td>0.790941</td>\n",
       "    </tr>\n",
       "  </tbody>\n",
       "</table>\n",
       "<p>16446 rows × 2 columns</p>\n",
       "</div>"
      ],
      "text/plain": [
       "                                    atom_id  difficulty\n",
       "0      000361fc-3126-4f25-93da-3ee3b66021c4    0.571429\n",
       "1      000785e5-46df-4d0b-a12d-2283db4b8c7f    1.000000\n",
       "2      000da431-9e35-4309-a3ae-cca9225b8d54    0.638554\n",
       "3      00170926-4ba4-4d1e-bd86-0ac94107acb1    0.700000\n",
       "4      001cfd36-68fa-4d74-b077-769f3bf2e0ad    0.712919\n",
       "...                                     ...         ...\n",
       "16441  fff0e6fc-e78f-41da-bcc8-88a6dceb6cc3    0.581481\n",
       "16442  fff4801c-d828-453e-b1d4-64369f7b1048    0.666667\n",
       "16443  fff652bc-b348-4054-9aab-8e67b98b022a    0.714286\n",
       "16444  fffbe876-95cc-4dd0-9097-c657f446df6a    0.714286\n",
       "16445  fffd03c7-5c73-41e2-ae82-7c5146120a29    0.790941\n",
       "\n",
       "[16446 rows x 2 columns]"
      ]
     },
     "execution_count": 10,
     "metadata": {},
     "output_type": "execute_result"
    }
   ],
   "source": [
    "difficulty"
   ]
  },
  {
   "cell_type": "code",
   "execution_count": 11,
   "id": "3e217a1e-41ea-4e7a-95ee-e2c694cb93a9",
   "metadata": {},
   "outputs": [],
   "source": [
    "df=df.merge(difficulty,how='left',on='atom_id')"
   ]
  },
  {
   "cell_type": "code",
   "execution_count": 12,
   "id": "faed7b92-ce47-4fc1-8f72-4344075afca2",
   "metadata": {},
   "outputs": [],
   "source": [
    "loIndex={lo:i for i,lo in enumerate( df.learning_objective_name.unique())}\n",
    "df['loIndex']=df['learning_objective_name'].apply(lambda x: loIndex[x])\n",
    "\n",
    "\n",
    "df2['source_index']=df2.source_lo_title.map(loIndex)\n",
    "df2['dest_index']=df2.dest_lo_title.map(loIndex)\n",
    "\n",
    "#df2=df2[['source_index','dest_index']].reset_index(drop=True)\n",
    "#loEdgeIndex=loEdgeMapping.values.transpose()"
   ]
  },
  {
   "cell_type": "code",
   "execution_count": 87,
   "id": "e936b165-3361-47ef-accd-9efdaa1cac07",
   "metadata": {},
   "outputs": [
    {
     "data": {
      "text/html": [
       "<div>\n",
       "<style scoped>\n",
       "    .dataframe tbody tr th:only-of-type {\n",
       "        vertical-align: middle;\n",
       "    }\n",
       "\n",
       "    .dataframe tbody tr th {\n",
       "        vertical-align: top;\n",
       "    }\n",
       "\n",
       "    .dataframe thead th {\n",
       "        text-align: right;\n",
       "    }\n",
       "</style>\n",
       "<table border=\"1\" class=\"dataframe\">\n",
       "  <thead>\n",
       "    <tr style=\"text-align: right;\">\n",
       "      <th></th>\n",
       "      <th>source_lo_id</th>\n",
       "      <th>dest_lo_id</th>\n",
       "      <th>source_lo_title</th>\n",
       "      <th>dest_lo_title</th>\n",
       "      <th>source_index</th>\n",
       "      <th>dest_index</th>\n",
       "    </tr>\n",
       "  </thead>\n",
       "  <tbody>\n",
       "    <tr>\n",
       "      <th>230</th>\n",
       "      <td>53568360-e9fe-465f-a8fc-1c75027cba94</td>\n",
       "      <td>5f142236-b878-447d-a6ec-b4094d8ffa9d</td>\n",
       "      <td>Construct a truth table for a conditional stat...</td>\n",
       "      <td>Determine if an argument is valid using a trut...</td>\n",
       "      <td>0.0</td>\n",
       "      <td>26.0</td>\n",
       "    </tr>\n",
       "    <tr>\n",
       "      <th>350</th>\n",
       "      <td>53568360-e9fe-465f-a8fc-1c75027cba94</td>\n",
       "      <td>7aaab545-7d61-4e7e-a9c9-5a1b8519a4d9</td>\n",
       "      <td>Construct a truth table for a conditional stat...</td>\n",
       "      <td>Construct a truth table for a biconditional st...</td>\n",
       "      <td>0.0</td>\n",
       "      <td>86.0</td>\n",
       "    </tr>\n",
       "    <tr>\n",
       "      <th>513</th>\n",
       "      <td>f4a7cb1a-35fa-4965-b90a-aaae4016ab01</td>\n",
       "      <td>6678802c-a523-45f3-b1b9-34880c6f543f</td>\n",
       "      <td>Determine an event of an experiment</td>\n",
       "      <td>Apply Bayes' theorem to solve an application p...</td>\n",
       "      <td>2.0</td>\n",
       "      <td>630.0</td>\n",
       "    </tr>\n",
       "    <tr>\n",
       "      <th>566</th>\n",
       "      <td>e5dfa5f5-7ded-4b39-911e-b2b1737007a1</td>\n",
       "      <td>f4a7cb1a-35fa-4965-b90a-aaae4016ab01</td>\n",
       "      <td>Determine the sample space of an experiment</td>\n",
       "      <td>Determine an event of an experiment</td>\n",
       "      <td>1.0</td>\n",
       "      <td>2.0</td>\n",
       "    </tr>\n",
       "    <tr>\n",
       "      <th>600</th>\n",
       "      <td>f4a7cb1a-35fa-4965-b90a-aaae4016ab01</td>\n",
       "      <td>54e3c24c-d4da-4cd1-844e-46f5d49d8e2c</td>\n",
       "      <td>Determine an event of an experiment</td>\n",
       "      <td>Compute the expected value of an event</td>\n",
       "      <td>2.0</td>\n",
       "      <td>198.0</td>\n",
       "    </tr>\n",
       "    <tr>\n",
       "      <th>1075</th>\n",
       "      <td>d41db5f5-76b6-40a9-986b-9aa32b88bf8d</td>\n",
       "      <td>9f4ffab6-60c7-406b-8771-102fbe5de0ac</td>\n",
       "      <td>Compute the probability of the union of two ev...</td>\n",
       "      <td>Compute the probability of two independent eve...</td>\n",
       "      <td>4.0</td>\n",
       "      <td>5.0</td>\n",
       "    </tr>\n",
       "    <tr>\n",
       "      <th>1125</th>\n",
       "      <td>53568360-e9fe-465f-a8fc-1c75027cba94</td>\n",
       "      <td>b257ef30-5580-4f6d-bf09-2e2d7e9722cb</td>\n",
       "      <td>Construct a truth table for a conditional stat...</td>\n",
       "      <td>Convert a disjunction into an equivalent condi...</td>\n",
       "      <td>0.0</td>\n",
       "      <td>20.0</td>\n",
       "    </tr>\n",
       "  </tbody>\n",
       "</table>\n",
       "</div>"
      ],
      "text/plain": [
       "                              source_lo_id  \\\n",
       "230   53568360-e9fe-465f-a8fc-1c75027cba94   \n",
       "350   53568360-e9fe-465f-a8fc-1c75027cba94   \n",
       "513   f4a7cb1a-35fa-4965-b90a-aaae4016ab01   \n",
       "566   e5dfa5f5-7ded-4b39-911e-b2b1737007a1   \n",
       "600   f4a7cb1a-35fa-4965-b90a-aaae4016ab01   \n",
       "1075  d41db5f5-76b6-40a9-986b-9aa32b88bf8d   \n",
       "1125  53568360-e9fe-465f-a8fc-1c75027cba94   \n",
       "\n",
       "                                dest_lo_id  \\\n",
       "230   5f142236-b878-447d-a6ec-b4094d8ffa9d   \n",
       "350   7aaab545-7d61-4e7e-a9c9-5a1b8519a4d9   \n",
       "513   6678802c-a523-45f3-b1b9-34880c6f543f   \n",
       "566   f4a7cb1a-35fa-4965-b90a-aaae4016ab01   \n",
       "600   54e3c24c-d4da-4cd1-844e-46f5d49d8e2c   \n",
       "1075  9f4ffab6-60c7-406b-8771-102fbe5de0ac   \n",
       "1125  b257ef30-5580-4f6d-bf09-2e2d7e9722cb   \n",
       "\n",
       "                                        source_lo_title  \\\n",
       "230   Construct a truth table for a conditional stat...   \n",
       "350   Construct a truth table for a conditional stat...   \n",
       "513                 Determine an event of an experiment   \n",
       "566         Determine the sample space of an experiment   \n",
       "600                 Determine an event of an experiment   \n",
       "1075  Compute the probability of the union of two ev...   \n",
       "1125  Construct a truth table for a conditional stat...   \n",
       "\n",
       "                                          dest_lo_title  source_index  \\\n",
       "230   Determine if an argument is valid using a trut...           0.0   \n",
       "350   Construct a truth table for a biconditional st...           0.0   \n",
       "513   Apply Bayes' theorem to solve an application p...           2.0   \n",
       "566                 Determine an event of an experiment           1.0   \n",
       "600              Compute the expected value of an event           2.0   \n",
       "1075  Compute the probability of two independent eve...           4.0   \n",
       "1125  Convert a disjunction into an equivalent condi...           0.0   \n",
       "\n",
       "      dest_index  \n",
       "230         26.0  \n",
       "350         86.0  \n",
       "513        630.0  \n",
       "566          2.0  \n",
       "600        198.0  \n",
       "1075         5.0  \n",
       "1125        20.0  "
      ]
     },
     "execution_count": 87,
     "metadata": {},
     "output_type": "execute_result"
    }
   ],
   "source": [
    "df2[(df2.source_lo_title.isin( df.learning_objective_name.unique()[:5])) | (df2.dest_lo_id.isin( df.learning_objective_name.unique()[:5]))]"
   ]
  },
  {
   "cell_type": "code",
   "execution_count": 81,
   "id": "ec46a7c4-aca0-4268-980a-2dc9d2748ffc",
   "metadata": {},
   "outputs": [],
   "source": [
    "loEdgeMapping=df2[['source_index','dest_index']].reset_index(drop=True)\n",
    "loEdgeMapping=loEdgeMapping.dropna(axis=0)\n",
    "loEdgeIndex=loEdgeMapping.values.transpose()"
   ]
  },
  {
   "cell_type": "code",
   "execution_count": 61,
   "id": "d01bdbf0-ee08-48a4-b4ad-3eb15e4b545a",
   "metadata": {},
   "outputs": [],
   "source": [
    "loEdgeIndex"
   ]
  },
  {
   "cell_type": "code",
   "execution_count": 15,
   "id": "deffeff6-f900-43f7-9b0a-9e6feb33d9af",
   "metadata": {},
   "outputs": [],
   "source": [
    "atomIndex={atomId:num for num,atomId in enumerate( df.atom_id.to_list())}"
   ]
  },
  {
   "cell_type": "code",
   "execution_count": 16,
   "id": "01bba82f-59fd-45ec-9694-e2c13b98f594",
   "metadata": {},
   "outputs": [],
   "source": [
    "df['atomIndex']=df.atom_id.apply(lambda x : atomIndex[x] )"
   ]
  },
  {
   "cell_type": "code",
   "execution_count": 17,
   "id": "7c026caa-2fba-4dba-a329-1721b38a8349",
   "metadata": {},
   "outputs": [],
   "source": [
    "def atomClassifier(x):\n",
    "    if x==None:\n",
    "        return 'learningMaterial'\n",
    "    else:\n",
    "        return 'question'"
   ]
  },
  {
   "cell_type": "code",
   "execution_count": 18,
   "id": "896056fd-4599-41ef-a256-8bc3c1614807",
   "metadata": {},
   "outputs": [],
   "source": [
    "df['atom_type']=df.correct.apply(lambda x:atomClassifier(x) )"
   ]
  },
  {
   "cell_type": "code",
   "execution_count": null,
   "id": "4da5e408-10b9-4af2-981a-3e59066e20fa",
   "metadata": {},
   "outputs": [],
   "source": []
  },
  {
   "cell_type": "code",
   "execution_count": 20,
   "id": "f9c8dbed-3f46-414f-9518-68dca34e3f5b",
   "metadata": {},
   "outputs": [],
   "source": [
    "df['correctBinary']=df.correct*1\n",
    "df.atom_id=df.atom_id.astype(str)\n"
   ]
  },
  {
   "cell_type": "raw",
   "id": "93a46774-b0f7-4891-a79a-f07ce27ff078",
   "metadata": {
    "tags": []
   },
   "source": [
    "\n",
    "def user_dataset(df,user):  \n",
    "    userDf=df[df.user_id==user]\n",
    "\n",
    "    userDf=userDf.sort_values(by='interaction_end_time')\n",
    "    userDf['attempt_count']=userDf.groupby(by=['atom_id']).cumcount()+1\n",
    "    \n",
    "    #atomIndex={atom:i for i,atom in enumerate( userDf[~userDf.correct.isna()].atom_id)}\n",
    "    \n",
    "    #learningMaterialIndex={atom:i for i,atom in enumerate( userDf[userDf.correct.isna()].atom_id)}\n",
    "\n",
    "    #userDf['atomIndex']=np.arange(userDf.shape[0])\n",
    "\n",
    "    atomsPerLO=userDf.groupby('loIndex')['atom_id'].count().to_dict()\n",
    "    userDf['atomsPerLO']=userDf['loIndex'].apply(lambda x: atomsPerLO[x])\n",
    "\n",
    "    edgeMap=userDf[['loIndex','atomIndex']]\n",
    "\n",
    "    y=userDf.correctBinary.astype(int).to_numpy()\n",
    "\n",
    "    loAtomEdgeIndex=edgeMap.values.transpose()\n",
    "\n",
    "    atomAtom=edgeMap.reset_index(drop=True)[['atomIndex']]\n",
    "\n",
    "    atomAtom['nextAtom']=atomAtom.atomIndex.shift(-1)\n",
    "\n",
    "    atomAtom=atomAtom.dropna()\n",
    "\n",
    "    atomEdgeIndex=atomAtom.values.transpose()\n",
    "\n",
    "    atomFeatures=userDf.difficulty.to_numpy().reshape(-1,1)\n",
    "\n",
    "    loFeatures=np.array(list(atomsPerLO.values())).reshape(-1,1)\n",
    "    return  atomFeatures,loFeatures,loAtomEdgeIndex,atomEdgeIndex,y"
   ]
  },
  {
   "cell_type": "code",
   "execution_count": 55,
   "id": "1dd4125e-7b96-4439-b512-d0b2cba7d7b9",
   "metadata": {},
   "outputs": [],
   "source": [
    "def user_dataset(df,df2,user):\n",
    "    \n",
    "    '''\n",
    "    df - df should be filtered by goal id\n",
    "    \n",
    "    edges\n",
    "    -------\n",
    "    lo -> atom\n",
    "    atom -> atom\n",
    "    lo -> learning materials (lm)\n",
    "    atom -> lm\n",
    "    lm -> atom\n",
    "    lm -> lm\n",
    "    \n",
    "    node / features\n",
    "    ---------------\n",
    "    \n",
    "    lo - radnom number\n",
    "    atom - dificulty , number of attempt\n",
    "    lm - time spend \n",
    "        \n",
    "    '''    \n",
    "    loIndex={lo:i for i,lo in enumerate( df.learning_objective_name.unique())}\n",
    "    \n",
    "    \n",
    "    df['loIndex']=df['learning_objective_name'].apply(lambda x: loIndex[x])\n",
    "    \n",
    "    unique_lo=df2[(df2.source_lo_title.isin( df.learning_objective_name.unique())) | (df2.dest_lo_id.isin( df.learning_objective_name.unique()))]\n",
    "    \n",
    "    unique_lo['source_index']=unique_lo.source_lo_title.map(loIndex)\n",
    "    unique_lo['dest_index']=unique_lo.dest_lo_title.map(loIndex)\n",
    "  \n",
    "    \n",
    "    userDf=df[df.user_id==user]\n",
    "    userDf=userDf.sort_values(by='interaction_end_time')\n",
    "    #lo-atom\n",
    "    loAtomEdgeIndex=userDf[userDf.atom_type=='question'][['loIndex','atomIndex']].values.transpose()\n",
    "    #lo-lm\n",
    "    loLmEdgeIndex=userDf[userDf.atom_type=='learningMaterial'][['loIndex','atomIndex']].values.transpose()\n",
    "    \n",
    "    userDf['attempt_count']=userDf.groupby(by=['atom_id']).cumcount()+1\n",
    "    \n",
    "    userDf['atom_type_shift']=userDf.atom_type.shift(-1)\n",
    "    userDf['atomIndex_shift']=userDf.atomIndex.shift(-1)\n",
    "    \n",
    "    #atom features\n",
    "    atomFeatures = userDf[userDf.atom_type=='question'][['difficulty','duration_s','attempt_count']].to_numpy()\n",
    "    #learning materials features\n",
    "    lmFeatures = userDf[userDf.atom_type=='learningMaterial'][['duration_s']].to_numpy()\n",
    "    #learning objectives\n",
    "    loFeatures=np.ones(userDf.loIndex.nunique()).reshape(-1,1)\n",
    "    #target\n",
    "    target=userDf[userDf.atom_type=='question']['correctBinary'].astype(int).to_numpy()\n",
    "    \n",
    "    userDf_shift= userDf[~userDf.atomIndex_shift.isna()].copy()  \n",
    "    \n",
    "    #atom-atom\n",
    "    atomEdgeIndex=userDf_shift[(userDf_shift.atom_type=='question') & (userDf_shift.atom_type_shift=='question')][['atomIndex','atomIndex_shift']].values.transpose()\n",
    "    #atom-lm\n",
    "    atomLmEdgeIndex=userDf_shift[(userDf_shift.atom_type=='question') & (userDf_shift.atom_type_shift=='learningMaterial')][['atomIndex','atomIndex_shift']].values.transpose()\n",
    "    #lm-atom\n",
    "    LmAtomEdgeIndex=userDf_shift[(userDf_shift.atom_type=='learningMaterial') & (userDf_shift.atom_type_shift=='question')][['atomIndex','atomIndex_shift']].values.transpose()\n",
    "    #lm-lm\n",
    "    LmLmEdgeIndex=userDf_shift[(userDf_shift.atom_type=='learningMaterial') & (userDf_shift.atom_type_shift=='learningMaterial')][['atomIndex','atomIndex_shift']].values.transpose()\n",
    "    featuresDict={'atom':atomFeatures,'lm':lmFeatures,'lo':loFeatures}\n",
    "    edgesDict={'lo_atom':loAtomEdgeIndex,'lo_lm':loLmEdgeIndex,'atom': atomEdgeIndex,'atom_lm':atomLmEdgeIndex,'lm_atom':LmAtomEdgeIndex,'lm_lm':LmLmEdgeIndex}\n",
    "    \n",
    "    return featuresDict,edgesDict,target\n",
    "    \n",
    "    \n",
    "    \n",
    "    \n",
    "    "
   ]
  },
  {
   "cell_type": "code",
   "execution_count": 56,
   "id": "8f8b415e-0a08-4cb8-b5a6-4ea852110271",
   "metadata": {},
   "outputs": [],
   "source": [
    "dftest=df[(df.loGraphID==3) & (df.user_id=='0012ff2b-871a-45d6-8e33-804f7464fa0a' )].reset_index(drop=True)"
   ]
  },
  {
   "cell_type": "code",
   "execution_count": 57,
   "id": "e53e17b4-7b34-46f7-8e04-8fa80066a4a7",
   "metadata": {},
   "outputs": [],
   "source": [
    "features, edges,target =user_dataset(dftest,'0012ff2b-871a-45d6-8e33-804f7464fa0a' )"
   ]
  },
  {
   "cell_type": "code",
   "execution_count": null,
   "id": "bf4c4d47-57b1-4bfb-94ae-a0a0263fc542",
   "metadata": {},
   "outputs": [],
   "source": []
  },
  {
   "cell_type": "code",
   "execution_count": 31,
   "id": "542a931d-ca53-4366-944b-d761529754ac",
   "metadata": {},
   "outputs": [],
   "source": [
    "from torch_geometric.data import HeteroData\n",
    "import torch \n"
   ]
  },
  {
   "cell_type": "code",
   "execution_count": 32,
   "id": "c9bf6b61-24df-45d9-b63a-d3f3f138d75a",
   "metadata": {},
   "outputs": [],
   "source": [
    "import torch_geometric.transforms as T"
   ]
  },
  {
   "cell_type": "code",
   "execution_count": 77,
   "id": "426e5022-85dc-4a23-843d-a0d82a3a86c1",
   "metadata": {},
   "outputs": [
    {
     "data": {
      "text/plain": [
       "array([ 0,  8,  9, 10, 20, 21, 22, 23, 24, 25, 26, 27, 28, 29, 30, 31, 32,\n",
       "       33, 80, 81, 82, 83, 84, 85, 86, 87, 88], dtype=int64)"
      ]
     },
     "execution_count": 77,
     "metadata": {},
     "output_type": "execute_result"
    }
   ],
   "source": [
    "np.unique(edges['lo_atom'][0])"
   ]
  },
  {
   "cell_type": "code",
   "execution_count": 64,
   "id": "56e31a0a-8cc9-4f1b-a9ec-7b27d0a4cbee",
   "metadata": {},
   "outputs": [],
   "source": [
    "def generate_data(features,edges,y):  \n",
    "    data = HeteroData()\n",
    "    #node features\n",
    "    data['atom'].x=torch.tensor(features['atom']).float()\n",
    "    data['lo'].x= torch.tensor(features['lo']).float()\n",
    "    data['lm'].x= torch.tensor(features['lm']).float()\n",
    "    \n",
    "    #edge index\n",
    "    data['lo','lo_atom','atom'].edge_index=torch.from_numpy(edges['lo_atom']).long()\n",
    "    data['lo','lo_lo','lo'].edge_index= torch.from_numpy(loEdgeIndex).long()\n",
    "    data['atom','atom_atom','atom'].edge_index=torch.from_numpy(edges['atom']).long()\n",
    "    data['lo','lo_lm','lm'].edge_index=torch.from_numpy(edges['lo_lm']).long()\n",
    "    data['atom','atom_lm','lm'].edge_index=torch.from_numpy(edges['atom_lm']).long()\n",
    "    data['lm','atom_lm','atom'].edge_index=torch.from_numpy(edges['lm_atom']).long()\n",
    "    data['lm','lm_lm','lm'].edge_index=torch.from_numpy(edges['lm_lm']).long()\n",
    "\n",
    "    data['atom'].y=torch.from_numpy(y).long()\n",
    "\n",
    "\n",
    "    #split=T.RandomNodeSplit(num_test =5)\n",
    "    #data=split(data)\n",
    "\n",
    "    size=y.shape[0]\n",
    "    num_test_nodes =int(y.shape[0]*.35)\n",
    "    some_indices = torch.randperm(size)[:num_test_nodes]\n",
    "\n",
    "\n",
    "    test_mask = torch.zeros(y.shape[0], dtype=torch.bool)\n",
    "    test_mask[some_indices] = True\n",
    "    data['atom'].test_mask = test_mask\n",
    "\n",
    "    train_mask = torch.ones(y.shape[0], dtype=torch.bool)\n",
    "    train_mask[some_indices] = False\n",
    "    data['atom'].train_mask = train_mask\n",
    "\n",
    "    normalize=T.NormalizeFeatures()\n",
    "    data=normalize(data)\n",
    "    return data"
   ]
  },
  {
   "cell_type": "code",
   "execution_count": 66,
   "id": "ad89710f-aaa8-48bb-97f4-fd3ec5672cda",
   "metadata": {},
   "outputs": [],
   "source": [
    "data=generate_data(features, edges,target)"
   ]
  },
  {
   "cell_type": "code",
   "execution_count": 67,
   "id": "8380047a-3984-43f2-9139-e8f461029b52",
   "metadata": {},
   "outputs": [
    {
     "name": "stdout",
     "output_type": "stream",
     "text": [
      "data.has_isolated_nod : False\n",
      "data.has_self_loops   : False\n",
      "data.is_undirected    : True\n"
     ]
    }
   ],
   "source": [
    "print('data.has_isolated_nod : {}'.format(data.has_isolated_nodes()))\n",
    "print('data.has_self_loops   : {}'.format(data.has_self_loops()))\n",
    "print('data.is_undirected    : {}'.format(data.is_directed()))"
   ]
  },
  {
   "cell_type": "code",
   "execution_count": 68,
   "id": "ab3d2c7a-03c6-4b25-a08f-70e8fe19a67b",
   "metadata": {},
   "outputs": [],
   "source": [
    "import torch_geometric\n",
    "from torch_geometric.nn import GCNConv\n",
    "from torch_geometric.nn import SAGEConv, to_hetero"
   ]
  },
  {
   "cell_type": "code",
   "execution_count": 69,
   "id": "23b154c2-fe9b-4286-a81d-a4c507005355",
   "metadata": {},
   "outputs": [],
   "source": [
    "class GNN(torch.nn.Module):\n",
    "    def __init__(self, hidden_channels, out_channels):\n",
    "        super().__init__()\n",
    "        self.conv1 = SAGEConv((-1, -1), hidden_channels,requires_grad=False)\n",
    "        self.conv2 = SAGEConv((-1, -1), out_channels,requires_grad=False)\n",
    "\n",
    "    def forward(self, x, edge_index):\n",
    "        x = self.conv1(x, edge_index)\n",
    "        x = self.conv2(x, edge_index)\n",
    "        return x\n",
    "\n",
    "\n",
    "model = GNN(hidden_channels=64, out_channels=2)\n",
    "model = to_hetero(model, data.metadata(), aggr='mean')"
   ]
  },
  {
   "cell_type": "code",
   "execution_count": 70,
   "id": "373bd3db-5e09-4f81-866e-e84a5ec620ec",
   "metadata": {},
   "outputs": [
    {
     "ename": "IndexError",
     "evalue": "Encountered an index error. Please ensure that all indices in 'edge_index' point to valid indices in the interval [0, 26] (got interval [0, 88])",
     "output_type": "error",
     "traceback": [
      "\u001b[1;31m---------------------------------------------------------------------------\u001b[0m",
      "\u001b[1;31mIndexError\u001b[0m                                Traceback (most recent call last)",
      "File \u001b[1;32m~\\Anaconda3\\lib\\site-packages\\torch_geometric\\nn\\conv\\message_passing.py:272\u001b[0m, in \u001b[0;36mMessagePassing._lift\u001b[1;34m(self, src, edge_index, dim)\u001b[0m\n\u001b[0;32m    271\u001b[0m     index \u001b[38;5;241m=\u001b[39m edge_index[dim]\n\u001b[1;32m--> 272\u001b[0m     \u001b[38;5;28;01mreturn\u001b[39;00m \u001b[43msrc\u001b[49m\u001b[38;5;241;43m.\u001b[39;49m\u001b[43mindex_select\u001b[49m\u001b[43m(\u001b[49m\u001b[38;5;28;43mself\u001b[39;49m\u001b[38;5;241;43m.\u001b[39;49m\u001b[43mnode_dim\u001b[49m\u001b[43m,\u001b[49m\u001b[43m \u001b[49m\u001b[43mindex\u001b[49m\u001b[43m)\u001b[49m\n\u001b[0;32m    273\u001b[0m \u001b[38;5;28;01mexcept\u001b[39;00m (\u001b[38;5;167;01mIndexError\u001b[39;00m, \u001b[38;5;167;01mRuntimeError\u001b[39;00m) \u001b[38;5;28;01mas\u001b[39;00m e:\n",
      "\u001b[1;31mIndexError\u001b[0m: index out of range in self",
      "\nDuring handling of the above exception, another exception occurred:\n",
      "\u001b[1;31mIndexError\u001b[0m                                Traceback (most recent call last)",
      "Cell \u001b[1;32mIn[70], line 28\u001b[0m\n\u001b[0;32m     25\u001b[0m     \u001b[38;5;28;01mreturn\u001b[39;00m test_acc\n\u001b[0;32m     27\u001b[0m \u001b[38;5;28;01mfor\u001b[39;00m epcoh \u001b[38;5;129;01min\u001b[39;00m \u001b[38;5;28mrange\u001b[39m(\u001b[38;5;241m1\u001b[39m,\u001b[38;5;241m501\u001b[39m):\n\u001b[1;32m---> 28\u001b[0m     loss\u001b[38;5;241m=\u001b[39m\u001b[43mtrain\u001b[49m\u001b[43m(\u001b[49m\u001b[43m)\u001b[49m\n\u001b[0;32m     29\u001b[0m \u001b[38;5;28mprint\u001b[39m(\u001b[38;5;124m'\u001b[39m\u001b[38;5;124mEpoch : \u001b[39m\u001b[38;5;132;01m{}\u001b[39;00m\u001b[38;5;124m , accuracy : \u001b[39m\u001b[38;5;132;01m{}\u001b[39;00m\u001b[38;5;124m'\u001b[39m\u001b[38;5;241m.\u001b[39mformat(epcoh,loss))\n\u001b[0;32m     31\u001b[0m test()\n",
      "Cell \u001b[1;32mIn[70], line 6\u001b[0m, in \u001b[0;36mtrain\u001b[1;34m()\u001b[0m\n\u001b[0;32m      4\u001b[0m model\u001b[38;5;241m.\u001b[39mtrain()\n\u001b[0;32m      5\u001b[0m optimizer\u001b[38;5;241m.\u001b[39mzero_grad()\n\u001b[1;32m----> 6\u001b[0m out\u001b[38;5;241m=\u001b[39m\u001b[43mmodel\u001b[49m\u001b[43m(\u001b[49m\u001b[43mdata\u001b[49m\u001b[38;5;241;43m.\u001b[39;49m\u001b[43mx_dict\u001b[49m\u001b[43m,\u001b[49m\u001b[43m \u001b[49m\u001b[43mdata\u001b[49m\u001b[38;5;241;43m.\u001b[39;49m\u001b[43medge_index_dict\u001b[49m\u001b[43m)\u001b[49m\n\u001b[0;32m      7\u001b[0m \u001b[38;5;66;03m#print(out)\u001b[39;00m\n\u001b[0;32m      8\u001b[0m loss\u001b[38;5;241m=\u001b[39mcriterion(out[\u001b[38;5;124m'\u001b[39m\u001b[38;5;124matom\u001b[39m\u001b[38;5;124m'\u001b[39m][data[\u001b[38;5;124m'\u001b[39m\u001b[38;5;124matom\u001b[39m\u001b[38;5;124m'\u001b[39m]\u001b[38;5;241m.\u001b[39mtrain_mask],data[\u001b[38;5;124m'\u001b[39m\u001b[38;5;124matom\u001b[39m\u001b[38;5;124m'\u001b[39m]\u001b[38;5;241m.\u001b[39my[data[\u001b[38;5;124m'\u001b[39m\u001b[38;5;124matom\u001b[39m\u001b[38;5;124m'\u001b[39m]\u001b[38;5;241m.\u001b[39mtrain_mask])\n",
      "File \u001b[1;32m~\\Anaconda3\\lib\\site-packages\\torch\\fx\\graph_module.py:652\u001b[0m, in \u001b[0;36mGraphModule.recompile.<locals>.call_wrapped\u001b[1;34m(self, *args, **kwargs)\u001b[0m\n\u001b[0;32m    651\u001b[0m \u001b[38;5;28;01mdef\u001b[39;00m \u001b[38;5;21mcall_wrapped\u001b[39m(\u001b[38;5;28mself\u001b[39m, \u001b[38;5;241m*\u001b[39margs, \u001b[38;5;241m*\u001b[39m\u001b[38;5;241m*\u001b[39mkwargs):\n\u001b[1;32m--> 652\u001b[0m     \u001b[38;5;28;01mreturn\u001b[39;00m \u001b[38;5;28;43mself\u001b[39;49m\u001b[38;5;241;43m.\u001b[39;49m\u001b[43m_wrapped_call\u001b[49m\u001b[43m(\u001b[49m\u001b[38;5;28;43mself\u001b[39;49m\u001b[43m,\u001b[49m\u001b[43m \u001b[49m\u001b[38;5;241;43m*\u001b[39;49m\u001b[43margs\u001b[49m\u001b[43m,\u001b[49m\u001b[43m \u001b[49m\u001b[38;5;241;43m*\u001b[39;49m\u001b[38;5;241;43m*\u001b[39;49m\u001b[43mkwargs\u001b[49m\u001b[43m)\u001b[49m\n",
      "File \u001b[1;32m~\\Anaconda3\\lib\\site-packages\\torch\\fx\\graph_module.py:277\u001b[0m, in \u001b[0;36m_WrappedCall.__call__\u001b[1;34m(self, obj, *args, **kwargs)\u001b[0m\n\u001b[0;32m    275\u001b[0m     \u001b[38;5;28;01mraise\u001b[39;00m e\u001b[38;5;241m.\u001b[39mwith_traceback(\u001b[38;5;28;01mNone\u001b[39;00m)\n\u001b[0;32m    276\u001b[0m \u001b[38;5;28;01melse\u001b[39;00m:\n\u001b[1;32m--> 277\u001b[0m     \u001b[38;5;28;01mraise\u001b[39;00m e\n",
      "File \u001b[1;32m~\\Anaconda3\\lib\\site-packages\\torch\\fx\\graph_module.py:267\u001b[0m, in \u001b[0;36m_WrappedCall.__call__\u001b[1;34m(self, obj, *args, **kwargs)\u001b[0m\n\u001b[0;32m    265\u001b[0m         \u001b[38;5;28;01mreturn\u001b[39;00m \u001b[38;5;28mself\u001b[39m\u001b[38;5;241m.\u001b[39mcls_call(obj, \u001b[38;5;241m*\u001b[39margs, \u001b[38;5;241m*\u001b[39m\u001b[38;5;241m*\u001b[39mkwargs)\n\u001b[0;32m    266\u001b[0m     \u001b[38;5;28;01melse\u001b[39;00m:\n\u001b[1;32m--> 267\u001b[0m         \u001b[38;5;28;01mreturn\u001b[39;00m \u001b[38;5;28;43msuper\u001b[39;49m\u001b[43m(\u001b[49m\u001b[38;5;28;43mself\u001b[39;49m\u001b[38;5;241;43m.\u001b[39;49m\u001b[43mcls\u001b[49m\u001b[43m,\u001b[49m\u001b[43m \u001b[49m\u001b[43mobj\u001b[49m\u001b[43m)\u001b[49m\u001b[38;5;241;43m.\u001b[39;49m\u001b[38;5;21;43m__call__\u001b[39;49m\u001b[43m(\u001b[49m\u001b[38;5;241;43m*\u001b[39;49m\u001b[43margs\u001b[49m\u001b[43m,\u001b[49m\u001b[43m \u001b[49m\u001b[38;5;241;43m*\u001b[39;49m\u001b[38;5;241;43m*\u001b[39;49m\u001b[43mkwargs\u001b[49m\u001b[43m)\u001b[49m  \u001b[38;5;66;03m# type: ignore[misc]\u001b[39;00m\n\u001b[0;32m    268\u001b[0m \u001b[38;5;28;01mexcept\u001b[39;00m \u001b[38;5;167;01mException\u001b[39;00m \u001b[38;5;28;01mas\u001b[39;00m e:\n\u001b[0;32m    269\u001b[0m     \u001b[38;5;28;01massert\u001b[39;00m e\u001b[38;5;241m.\u001b[39m__traceback__\n",
      "File \u001b[1;32m~\\Anaconda3\\lib\\site-packages\\torch\\nn\\modules\\module.py:1130\u001b[0m, in \u001b[0;36mModule._call_impl\u001b[1;34m(self, *input, **kwargs)\u001b[0m\n\u001b[0;32m   1126\u001b[0m \u001b[38;5;66;03m# If we don't have any hooks, we want to skip the rest of the logic in\u001b[39;00m\n\u001b[0;32m   1127\u001b[0m \u001b[38;5;66;03m# this function, and just call forward.\u001b[39;00m\n\u001b[0;32m   1128\u001b[0m \u001b[38;5;28;01mif\u001b[39;00m \u001b[38;5;129;01mnot\u001b[39;00m (\u001b[38;5;28mself\u001b[39m\u001b[38;5;241m.\u001b[39m_backward_hooks \u001b[38;5;129;01mor\u001b[39;00m \u001b[38;5;28mself\u001b[39m\u001b[38;5;241m.\u001b[39m_forward_hooks \u001b[38;5;129;01mor\u001b[39;00m \u001b[38;5;28mself\u001b[39m\u001b[38;5;241m.\u001b[39m_forward_pre_hooks \u001b[38;5;129;01mor\u001b[39;00m _global_backward_hooks\n\u001b[0;32m   1129\u001b[0m         \u001b[38;5;129;01mor\u001b[39;00m _global_forward_hooks \u001b[38;5;129;01mor\u001b[39;00m _global_forward_pre_hooks):\n\u001b[1;32m-> 1130\u001b[0m     \u001b[38;5;28;01mreturn\u001b[39;00m \u001b[43mforward_call\u001b[49m\u001b[43m(\u001b[49m\u001b[38;5;241;43m*\u001b[39;49m\u001b[38;5;28;43minput\u001b[39;49m\u001b[43m,\u001b[49m\u001b[43m \u001b[49m\u001b[38;5;241;43m*\u001b[39;49m\u001b[38;5;241;43m*\u001b[39;49m\u001b[43mkwargs\u001b[49m\u001b[43m)\u001b[49m\n\u001b[0;32m   1131\u001b[0m \u001b[38;5;66;03m# Do not call functions when jit is used\u001b[39;00m\n\u001b[0;32m   1132\u001b[0m full_backward_hooks, non_full_backward_hooks \u001b[38;5;241m=\u001b[39m [], []\n",
      "File \u001b[1;32m<eval_with_key>.1:17\u001b[0m, in \u001b[0;36mforward\u001b[1;34m(self, x, edge_index)\u001b[0m\n\u001b[0;32m     15\u001b[0m edge_index__lm__atom_lm__atom \u001b[38;5;241m=\u001b[39m edge_index_dict\u001b[38;5;241m.\u001b[39mget((\u001b[38;5;124m'\u001b[39m\u001b[38;5;124mlm\u001b[39m\u001b[38;5;124m'\u001b[39m, \u001b[38;5;124m'\u001b[39m\u001b[38;5;124matom_lm\u001b[39m\u001b[38;5;124m'\u001b[39m, \u001b[38;5;124m'\u001b[39m\u001b[38;5;124matom\u001b[39m\u001b[38;5;124m'\u001b[39m), \u001b[38;5;28;01mNone\u001b[39;00m)\n\u001b[0;32m     16\u001b[0m edge_index__lm__lm_lm__lm \u001b[38;5;241m=\u001b[39m edge_index_dict\u001b[38;5;241m.\u001b[39mget((\u001b[38;5;124m'\u001b[39m\u001b[38;5;124mlm\u001b[39m\u001b[38;5;124m'\u001b[39m, \u001b[38;5;124m'\u001b[39m\u001b[38;5;124mlm_lm\u001b[39m\u001b[38;5;124m'\u001b[39m, \u001b[38;5;124m'\u001b[39m\u001b[38;5;124mlm\u001b[39m\u001b[38;5;124m'\u001b[39m), \u001b[38;5;28;01mNone\u001b[39;00m);  edge_index_dict \u001b[38;5;241m=\u001b[39m \u001b[38;5;28;01mNone\u001b[39;00m\n\u001b[1;32m---> 17\u001b[0m conv1__atom1 \u001b[38;5;241m=\u001b[39m \u001b[38;5;28;43mself\u001b[39;49m\u001b[38;5;241;43m.\u001b[39;49m\u001b[43mconv1\u001b[49m\u001b[38;5;241;43m.\u001b[39;49m\u001b[43mlo__lo_atom__atom\u001b[49m\u001b[43m(\u001b[49m\u001b[43m(\u001b[49m\u001b[43mx__lo\u001b[49m\u001b[43m,\u001b[49m\u001b[43m \u001b[49m\u001b[43mx__atom\u001b[49m\u001b[43m)\u001b[49m\u001b[43m,\u001b[49m\u001b[43m \u001b[49m\u001b[43medge_index__lo__lo_atom__atom\u001b[49m\u001b[43m)\u001b[49m\n\u001b[0;32m     18\u001b[0m conv1__lo \u001b[38;5;241m=\u001b[39m \u001b[38;5;28mself\u001b[39m\u001b[38;5;241m.\u001b[39mconv1\u001b[38;5;241m.\u001b[39mlo__lo_lo__lo(x__lo, edge_index__lo__lo_lo__lo)\n\u001b[0;32m     19\u001b[0m conv1__atom2 \u001b[38;5;241m=\u001b[39m \u001b[38;5;28mself\u001b[39m\u001b[38;5;241m.\u001b[39mconv1\u001b[38;5;241m.\u001b[39matom__atom_atom__atom(x__atom, edge_index__atom__atom_atom__atom)\n",
      "File \u001b[1;32m~\\Anaconda3\\lib\\site-packages\\torch\\nn\\modules\\module.py:1130\u001b[0m, in \u001b[0;36mModule._call_impl\u001b[1;34m(self, *input, **kwargs)\u001b[0m\n\u001b[0;32m   1126\u001b[0m \u001b[38;5;66;03m# If we don't have any hooks, we want to skip the rest of the logic in\u001b[39;00m\n\u001b[0;32m   1127\u001b[0m \u001b[38;5;66;03m# this function, and just call forward.\u001b[39;00m\n\u001b[0;32m   1128\u001b[0m \u001b[38;5;28;01mif\u001b[39;00m \u001b[38;5;129;01mnot\u001b[39;00m (\u001b[38;5;28mself\u001b[39m\u001b[38;5;241m.\u001b[39m_backward_hooks \u001b[38;5;129;01mor\u001b[39;00m \u001b[38;5;28mself\u001b[39m\u001b[38;5;241m.\u001b[39m_forward_hooks \u001b[38;5;129;01mor\u001b[39;00m \u001b[38;5;28mself\u001b[39m\u001b[38;5;241m.\u001b[39m_forward_pre_hooks \u001b[38;5;129;01mor\u001b[39;00m _global_backward_hooks\n\u001b[0;32m   1129\u001b[0m         \u001b[38;5;129;01mor\u001b[39;00m _global_forward_hooks \u001b[38;5;129;01mor\u001b[39;00m _global_forward_pre_hooks):\n\u001b[1;32m-> 1130\u001b[0m     \u001b[38;5;28;01mreturn\u001b[39;00m \u001b[43mforward_call\u001b[49m\u001b[43m(\u001b[49m\u001b[38;5;241;43m*\u001b[39;49m\u001b[38;5;28;43minput\u001b[39;49m\u001b[43m,\u001b[49m\u001b[43m \u001b[49m\u001b[38;5;241;43m*\u001b[39;49m\u001b[38;5;241;43m*\u001b[39;49m\u001b[43mkwargs\u001b[49m\u001b[43m)\u001b[49m\n\u001b[0;32m   1131\u001b[0m \u001b[38;5;66;03m# Do not call functions when jit is used\u001b[39;00m\n\u001b[0;32m   1132\u001b[0m full_backward_hooks, non_full_backward_hooks \u001b[38;5;241m=\u001b[39m [], []\n",
      "File \u001b[1;32m~\\Anaconda3\\lib\\site-packages\\torch_geometric\\nn\\conv\\sage_conv.py:131\u001b[0m, in \u001b[0;36mSAGEConv.forward\u001b[1;34m(self, x, edge_index, size)\u001b[0m\n\u001b[0;32m    128\u001b[0m     x \u001b[38;5;241m=\u001b[39m (\u001b[38;5;28mself\u001b[39m\u001b[38;5;241m.\u001b[39mlin(x[\u001b[38;5;241m0\u001b[39m])\u001b[38;5;241m.\u001b[39mrelu(), x[\u001b[38;5;241m1\u001b[39m])\n\u001b[0;32m    130\u001b[0m \u001b[38;5;66;03m# propagate_type: (x: OptPairTensor)\u001b[39;00m\n\u001b[1;32m--> 131\u001b[0m out \u001b[38;5;241m=\u001b[39m \u001b[38;5;28;43mself\u001b[39;49m\u001b[38;5;241;43m.\u001b[39;49m\u001b[43mpropagate\u001b[49m\u001b[43m(\u001b[49m\u001b[43medge_index\u001b[49m\u001b[43m,\u001b[49m\u001b[43m \u001b[49m\u001b[43mx\u001b[49m\u001b[38;5;241;43m=\u001b[39;49m\u001b[43mx\u001b[49m\u001b[43m,\u001b[49m\u001b[43m \u001b[49m\u001b[43msize\u001b[49m\u001b[38;5;241;43m=\u001b[39;49m\u001b[43msize\u001b[49m\u001b[43m)\u001b[49m\n\u001b[0;32m    132\u001b[0m out \u001b[38;5;241m=\u001b[39m \u001b[38;5;28mself\u001b[39m\u001b[38;5;241m.\u001b[39mlin_l(out)\n\u001b[0;32m    134\u001b[0m x_r \u001b[38;5;241m=\u001b[39m x[\u001b[38;5;241m1\u001b[39m]\n",
      "File \u001b[1;32m~\\Anaconda3\\lib\\site-packages\\torch_geometric\\nn\\conv\\message_passing.py:459\u001b[0m, in \u001b[0;36mMessagePassing.propagate\u001b[1;34m(self, edge_index, size, **kwargs)\u001b[0m\n\u001b[0;32m    456\u001b[0m     \u001b[38;5;28;01mfor\u001b[39;00m arg \u001b[38;5;129;01min\u001b[39;00m decomp_args:\n\u001b[0;32m    457\u001b[0m         kwargs[arg] \u001b[38;5;241m=\u001b[39m decomp_kwargs[arg][i]\n\u001b[1;32m--> 459\u001b[0m coll_dict \u001b[38;5;241m=\u001b[39m \u001b[38;5;28;43mself\u001b[39;49m\u001b[38;5;241;43m.\u001b[39;49m\u001b[43m_collect\u001b[49m\u001b[43m(\u001b[49m\u001b[38;5;28;43mself\u001b[39;49m\u001b[38;5;241;43m.\u001b[39;49m\u001b[43m_user_args\u001b[49m\u001b[43m,\u001b[49m\u001b[43m \u001b[49m\u001b[43medge_index\u001b[49m\u001b[43m,\u001b[49m\u001b[43m \u001b[49m\u001b[43msize\u001b[49m\u001b[43m,\u001b[49m\n\u001b[0;32m    460\u001b[0m \u001b[43m                          \u001b[49m\u001b[43mkwargs\u001b[49m\u001b[43m)\u001b[49m\n\u001b[0;32m    462\u001b[0m msg_kwargs \u001b[38;5;241m=\u001b[39m \u001b[38;5;28mself\u001b[39m\u001b[38;5;241m.\u001b[39minspector\u001b[38;5;241m.\u001b[39mdistribute(\u001b[38;5;124m'\u001b[39m\u001b[38;5;124mmessage\u001b[39m\u001b[38;5;124m'\u001b[39m, coll_dict)\n\u001b[0;32m    463\u001b[0m \u001b[38;5;28;01mfor\u001b[39;00m hook \u001b[38;5;129;01min\u001b[39;00m \u001b[38;5;28mself\u001b[39m\u001b[38;5;241m.\u001b[39m_message_forward_pre_hooks\u001b[38;5;241m.\u001b[39mvalues():\n",
      "File \u001b[1;32m~\\Anaconda3\\lib\\site-packages\\torch_geometric\\nn\\conv\\message_passing.py:336\u001b[0m, in \u001b[0;36mMessagePassing._collect\u001b[1;34m(self, args, edge_index, size, kwargs)\u001b[0m\n\u001b[0;32m    334\u001b[0m         \u001b[38;5;28;01mif\u001b[39;00m \u001b[38;5;28misinstance\u001b[39m(data, Tensor):\n\u001b[0;32m    335\u001b[0m             \u001b[38;5;28mself\u001b[39m\u001b[38;5;241m.\u001b[39m_set_size(size, dim, data)\n\u001b[1;32m--> 336\u001b[0m             data \u001b[38;5;241m=\u001b[39m \u001b[38;5;28;43mself\u001b[39;49m\u001b[38;5;241;43m.\u001b[39;49m\u001b[43m_lift\u001b[49m\u001b[43m(\u001b[49m\u001b[43mdata\u001b[49m\u001b[43m,\u001b[49m\u001b[43m \u001b[49m\u001b[43medge_index\u001b[49m\u001b[43m,\u001b[49m\u001b[43m \u001b[49m\u001b[43mdim\u001b[49m\u001b[43m)\u001b[49m\n\u001b[0;32m    338\u001b[0m         out[arg] \u001b[38;5;241m=\u001b[39m data\n\u001b[0;32m    340\u001b[0m \u001b[38;5;28;01mif\u001b[39;00m is_torch_sparse_tensor(edge_index):\n",
      "File \u001b[1;32m~\\Anaconda3\\lib\\site-packages\\torch_geometric\\nn\\conv\\message_passing.py:275\u001b[0m, in \u001b[0;36mMessagePassing._lift\u001b[1;34m(self, src, edge_index, dim)\u001b[0m\n\u001b[0;32m    273\u001b[0m \u001b[38;5;28;01mexcept\u001b[39;00m (\u001b[38;5;167;01mIndexError\u001b[39;00m, \u001b[38;5;167;01mRuntimeError\u001b[39;00m) \u001b[38;5;28;01mas\u001b[39;00m e:\n\u001b[0;32m    274\u001b[0m     \u001b[38;5;28;01mif\u001b[39;00m index\u001b[38;5;241m.\u001b[39mmin() \u001b[38;5;241m<\u001b[39m \u001b[38;5;241m0\u001b[39m \u001b[38;5;129;01mor\u001b[39;00m index\u001b[38;5;241m.\u001b[39mmax() \u001b[38;5;241m>\u001b[39m\u001b[38;5;241m=\u001b[39m src\u001b[38;5;241m.\u001b[39msize(\u001b[38;5;28mself\u001b[39m\u001b[38;5;241m.\u001b[39mnode_dim):\n\u001b[1;32m--> 275\u001b[0m         \u001b[38;5;28;01mraise\u001b[39;00m \u001b[38;5;167;01mIndexError\u001b[39;00m(\n\u001b[0;32m    276\u001b[0m             \u001b[38;5;124mf\u001b[39m\u001b[38;5;124m\"\u001b[39m\u001b[38;5;124mEncountered an index error. Please ensure that all \u001b[39m\u001b[38;5;124m\"\u001b[39m\n\u001b[0;32m    277\u001b[0m             \u001b[38;5;124mf\u001b[39m\u001b[38;5;124m\"\u001b[39m\u001b[38;5;124mindices in \u001b[39m\u001b[38;5;124m'\u001b[39m\u001b[38;5;124medge_index\u001b[39m\u001b[38;5;124m'\u001b[39m\u001b[38;5;124m point to valid indices in \u001b[39m\u001b[38;5;124m\"\u001b[39m\n\u001b[0;32m    278\u001b[0m             \u001b[38;5;124mf\u001b[39m\u001b[38;5;124m\"\u001b[39m\u001b[38;5;124mthe interval [0, \u001b[39m\u001b[38;5;132;01m{\u001b[39;00msrc\u001b[38;5;241m.\u001b[39msize(\u001b[38;5;28mself\u001b[39m\u001b[38;5;241m.\u001b[39mnode_dim) \u001b[38;5;241m-\u001b[39m \u001b[38;5;241m1\u001b[39m\u001b[38;5;132;01m}\u001b[39;00m\u001b[38;5;124m] \u001b[39m\u001b[38;5;124m\"\u001b[39m\n\u001b[0;32m    279\u001b[0m             \u001b[38;5;124mf\u001b[39m\u001b[38;5;124m\"\u001b[39m\u001b[38;5;124m(got interval \u001b[39m\u001b[38;5;124m\"\u001b[39m\n\u001b[0;32m    280\u001b[0m             \u001b[38;5;124mf\u001b[39m\u001b[38;5;124m\"\u001b[39m\u001b[38;5;124m[\u001b[39m\u001b[38;5;132;01m{\u001b[39;00m\u001b[38;5;28mint\u001b[39m(index\u001b[38;5;241m.\u001b[39mmin())\u001b[38;5;132;01m}\u001b[39;00m\u001b[38;5;124m, \u001b[39m\u001b[38;5;132;01m{\u001b[39;00m\u001b[38;5;28mint\u001b[39m(index\u001b[38;5;241m.\u001b[39mmax())\u001b[38;5;132;01m}\u001b[39;00m\u001b[38;5;124m])\u001b[39m\u001b[38;5;124m\"\u001b[39m)\n\u001b[0;32m    281\u001b[0m     \u001b[38;5;28;01melse\u001b[39;00m:\n\u001b[0;32m    282\u001b[0m         \u001b[38;5;28;01mraise\u001b[39;00m e\n",
      "\u001b[1;31mIndexError\u001b[0m: Encountered an index error. Please ensure that all indices in 'edge_index' point to valid indices in the interval [0, 26] (got interval [0, 88])"
     ]
    }
   ],
   "source": [
    "optimizer=torch.optim.Adam(model.parameters(),lr=.1)\n",
    "criterion=torch.nn.CrossEntropyLoss()\n",
    "def train():\n",
    "    model.train()\n",
    "    optimizer.zero_grad()\n",
    "    out=model(data.x_dict, data.edge_index_dict)\n",
    "    #print(out)\n",
    "    loss=criterion(out['atom'][data['atom'].train_mask],data['atom'].y[data['atom'].train_mask])\n",
    "    loss.backward()\n",
    "    optimizer.step()\n",
    "    return loss\n",
    "\n",
    "def test():\n",
    "    model.eval()\n",
    "    out=model(data.x_dict,data.edge_index_dict)\n",
    "    #print(out)\n",
    "    pred=out['atom'].argmax(dim=1)\n",
    "    #print(out)\n",
    "    test_correct=pred[data['atom'].test_mask]==data['atom'].y[data['atom'].test_mask]\n",
    "    test_acc=int(test_correct.sum())/int(data['atom'].test_mask.sum())\n",
    "\n",
    "   \n",
    "    classificationReport=classification_report(data['atom'].y[data['atom'].test_mask],pred[data['atom'].test_mask])\n",
    "    print(classificationReport)\n",
    "    return test_acc\n",
    "\n",
    "for epcoh in range(1,501):\n",
    "    loss=train()\n",
    "print('Epoch : {} , accuracy : {}'.format(epcoh,loss))\n",
    "    \n",
    "test()"
   ]
  },
  {
   "cell_type": "code",
   "execution_count": 71,
   "id": "1f4d7d2c-55a3-442d-8fe9-009f0c282ba3",
   "metadata": {},
   "outputs": [
    {
     "data": {
      "text/plain": [
       "array([[      8,       9,       8,       9,       8,       8,       9,\n",
       "              9,       9,      10,      10,      10,      10,      80,\n",
       "             81,      80,      81,      81,      81,      81,      81,\n",
       "             81,      81,      81,      80,      80,      80,      80,\n",
       "             80,      80,      80,      80,      80,      80,      80,\n",
       "             80,      80,      80,      80,      80,      80,      24,\n",
       "             82,      82,      24,      82,      82,      82,      82,\n",
       "             82,      82,      82,      24,      24,      83,      84,\n",
       "             84,      83,      85,      85,      84,      84,      84,\n",
       "             84,      84,      84,      84,      84,      85,      85,\n",
       "             85,      85,      85,      85,      85,      85,      83,\n",
       "             83,      83,      83,      83,      83,      83,      83,\n",
       "             83,      83,      83,      83,      83,      83,      83,\n",
       "             83,      83,      23,      23,      23,      23,      23,\n",
       "             23,      23,      23,      23,      23,      23,      23,\n",
       "             23,      23,      23,      23,      23,      86,      86,\n",
       "              0,       0,       0,       0,       0,       0,       0,\n",
       "             33,      33,      33,      33,      33,      33,      33,\n",
       "             22,      22,      33,      33,      33,      33,       0,\n",
       "              0,       0,       0,       0,       0,       0,       0,\n",
       "              0,      33,      33,       0,       0,       0,       0,\n",
       "              0,       0,       0,      87,      87,      87,      87,\n",
       "             87,      87,      87,      88,      88,      88,      88,\n",
       "             88,      88,      86,      86,      20,      21,      20,\n",
       "             21,      21,      21,      21,      21,      21,      21,\n",
       "             21,      20,      20,      20,      20,      20,      20,\n",
       "             20,      22,      20,      20,      22,      22,      22,\n",
       "             22,      22,      22,      23,      23,      23,      23,\n",
       "             23,      23,      24,      24,      23,      23,      23,\n",
       "             23,      23,      23,      23,      22,      22,      22,\n",
       "             22,      25,      26,      26,      25,      27,      27,\n",
       "             25,      25,      25,      25,      26,      26,      26,\n",
       "             26,      26,      26,       0,       0,       0,      26,\n",
       "             26,      26,      26,      26,      26,      26,      26,\n",
       "             26,      26,      26,      26,      27,      27,      27,\n",
       "             27,      27,      26,      28,      29,      29,      30,\n",
       "             30,      28,      30,      30,      30,      30,      30,\n",
       "             28,      28,      29,      29,      29,      29,      29,\n",
       "             29,      29,      30,      30,      30,      29,      29,\n",
       "             29,      31,      31,      32,      32,      31,      31,\n",
       "             31,      31,      31,      33,      33,      33,      31,\n",
       "             31,      31,      31,       0,       0,      31],\n",
       "       [2981141, 3059167, 3049770, 3059797, 3059163, 3057807, 3059166,\n",
       "        3059168, 3059796, 3059172, 3059170, 3059171, 3059169, 3060053,\n",
       "        3060422, 3059826, 3060421, 3060419, 3060424, 3060426, 3057600,\n",
       "        3057602, 3059818, 3060420, 3060055, 3060044, 3060050, 3060052,\n",
       "        3060042, 3060054, 3060073, 3060074, 3060045, 3060050, 3060052,\n",
       "        3060053, 3059826, 3060055, 3060044, 3060050, 3060052, 3059860,\n",
       "        3059868, 3059844, 3003365, 3059846, 3059866, 3059867, 3059851,\n",
       "        3059842, 3059840, 3049302, 3059859, 3059861, 3060072, 3060575,\n",
       "        3060565, 3060067, 3059894, 3039327, 3059878, 3059879, 3059880,\n",
       "        3060573, 3060569, 3060570, 3059873, 3059882, 3059906, 3059892,\n",
       "        3059886, 3059887, 3039322, 3034162, 3059896, 3059884, 3060056,\n",
       "        3059922, 3060063, 3060066, 3060060, 3060062, 3059911, 3059923,\n",
       "        3059924, 3060057, 3060070, 3060065, 3060071, 3060068, 3059921,\n",
       "        3060069, 3060065, 2981680, 3034178, 3003902, 3059928, 3034179,\n",
       "        3059805, 3059813, 3039369, 3049363, 3059806, 3058856, 3058857,\n",
       "        2974062, 3039362, 3003901, 2877529, 3059805, 3060135, 3060132,\n",
       "        3059942, 3059938, 3059088, 3059940, 3059941, 3059270, 3059963,\n",
       "        3060113, 3059945, 3060286, 3060288, 3060290, 3060298, 3060305,\n",
       "        3060308, 3060035, 3060284, 3060029, 3060272, 3060273, 3059066,\n",
       "        3059071, 3059990, 3059992, 3059994, 3059996, 3059943, 3059269,\n",
       "        3059937, 3060187, 3059965, 3059964, 3059073, 3059936, 3059072,\n",
       "        3059940, 3059941, 3059274, 3060143, 3060140, 3060012, 3060103,\n",
       "        2974519, 3060105, 3060011, 3060022, 3060023, 3060110, 3059277,\n",
       "        3060027, 3060026, 3060150, 3060155, 3059295, 3059242, 3059296,\n",
       "        3003575, 3059283, 3059293, 3059294, 3059291, 3059284, 3034008,\n",
       "        3059289, 3059265, 3059266, 3059263, 3059264, 3059241, 3003598,\n",
       "        3034012, 3060307, 3059263, 3059264, 3060311, 3060313, 3060279,\n",
       "        3060280, 3060231, 3060232, 2974058, 3003463, 3058856, 3058857,\n",
       "        3059811, 3059807, 3059855, 3059870, 3059802, 3059809, 3003900,\n",
       "        3059805, 2886423, 3049364, 3059930, 3060276, 3060277, 3060310,\n",
       "        3060198, 3003501, 3048985, 3038890, 2780012, 3034073, 3059319,\n",
       "        3059315, 3059308, 3059309, 3059311, 3059317, 3060401, 3048978,\n",
       "        3048980, 3038896, 3038888, 3059070, 3059954, 3059953, 3038911,\n",
       "        3059310, 3003340, 3060402, 3059318, 3038908, 3038909, 3059301,\n",
       "        3038929, 3048985, 3059317, 3038890, 3048986, 3059320, 3059305,\n",
       "        3059306, 3059313, 3060401, 3059339, 3049008, 3003632, 3059328,\n",
       "        3059323, 3059326, 3059322, 3058683, 3058684, 2877016, 2798717,\n",
       "        3059338, 3059325, 3058690, 3059324, 3059343, 3058678, 3059321,\n",
       "        3059345, 3003650, 3058680, 3059331, 3059327, 2972781, 3059344,\n",
       "        3049008, 3059366, 3059360, 3059391, 3059386, 3059353, 3059359,\n",
       "        3059352, 3059354, 3059358, 3060274, 3060299, 3060270, 3059350,\n",
       "        3059368, 3059363, 3059364, 3039536, 3059087, 3059361]],\n",
       "      dtype=int64)"
      ]
     },
     "execution_count": 71,
     "metadata": {},
     "output_type": "execute_result"
    }
   ],
   "source": [
    "edges['lo_atom']"
   ]
  },
  {
   "cell_type": "code",
   "execution_count": null,
   "id": "6b3e0f79-e880-4b6e-b762-ea4199d3ffa1",
   "metadata": {},
   "outputs": [],
   "source": []
  }
 ],
 "metadata": {
  "kernelspec": {
   "display_name": "Python 3 (ipykernel)",
   "language": "python",
   "name": "python3"
  },
  "language_info": {
   "codemirror_mode": {
    "name": "ipython",
    "version": 3
   },
   "file_extension": ".py",
   "mimetype": "text/x-python",
   "name": "python",
   "nbconvert_exporter": "python",
   "pygments_lexer": "ipython3",
   "version": "3.8.3"
  }
 },
 "nbformat": 4,
 "nbformat_minor": 5
}
