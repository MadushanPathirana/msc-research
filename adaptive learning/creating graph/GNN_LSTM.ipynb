{
 "cells": [
  {
   "cell_type": "code",
   "execution_count": 1,
   "id": "54d3c509-1f6c-45e8-a65e-8dc177255e84",
   "metadata": {},
   "outputs": [],
   "source": [
    "import logging\n",
    "import sys\n",
    "import datetime\n",
    "import pickle\n",
    "from icecream import ic\n",
    "from tqdm import tqdm"
   ]
  },
  {
   "cell_type": "code",
   "execution_count": 2,
   "id": "c08c124a-549e-4cf3-aee6-54d9920d3c9b",
   "metadata": {},
   "outputs": [],
   "source": [
    "\n",
    "def time_now():\n",
    "  \n",
    "    return f\"{datetime.datetime.now().strftime('%Y-%m-%d %H:%M:%S')} |\"\n",
    "\n",
    "ic.configureOutput(prefix=time_now)\n",
    "\n",
    "ic.configureOutput(includeContext=True) "
   ]
  },
  {
   "cell_type": "code",
   "execution_count": 3,
   "id": "e60658e5-5285-4bb6-94bf-0e4205756039",
   "metadata": {},
   "outputs": [],
   "source": [
    "import pandas as pd\n",
    "import numpy as np\n",
    "import networkx as nx\n",
    "import matplotlib.pyplot as plt;\n",
    "np.random.seed(42);"
   ]
  },
  {
   "cell_type": "code",
   "execution_count": 4,
   "id": "419e2c4e-228e-4b49-9c25-d2152f0c285c",
   "metadata": {},
   "outputs": [],
   "source": [
    "from sklearn.metrics import roc_auc_score;\n",
    "from sklearn.metrics import classification_report;"
   ]
  },
  {
   "cell_type": "code",
   "execution_count": 14,
   "id": "82d2ab02-233e-40d5-8858-6e01a55b3755",
   "metadata": {},
   "outputs": [],
   "source": [
    "import torch_geometric as pyg\n",
    "from torch_geometric.nn import GCNConv \n",
    "from torch_geometric.nn import SAGEConv, to_hetero ,LSTMAggregation\n",
    "import  torch.nn as nn\n",
    "import torch.nn.functional as F\n",
    "import torch \n",
    "from torch_geometric.loader import DataLoader"
   ]
  },
  {
   "cell_type": "code",
   "execution_count": 356,
   "id": "16f17e25-affa-4e95-b292-07df6f88e184",
   "metadata": {},
   "outputs": [],
   "source": [
    "file_name = \"data_list.pkl\"\n",
    "open_file = open(file_name, \"rb\")\n",
    "data_list = pickle.load(open_file)\n",
    "open_file.close()\n"
   ]
  },
  {
   "cell_type": "code",
   "execution_count": 357,
   "id": "0daf6b49-00df-4733-b870-04bcd63c00d0",
   "metadata": {},
   "outputs": [],
   "source": [
    "NUM_GRAPHS_PER_BATCH=10"
   ]
  },
  {
   "cell_type": "code",
   "execution_count": 358,
   "id": "7c47a402-3fae-4d2a-8d5e-2116affd92a2",
   "metadata": {},
   "outputs": [],
   "source": [
    "target_class_1=[]\n",
    "target_class_0=[]\n",
    "for num, data in enumerate(data_list):\n",
    "    target_class=data['target'].y.item()\n",
    "    if target_class ==0:\n",
    "        target_class_0.append(data)\n",
    "    else:\n",
    "        target_class_1.append(data)\n",
    "        \n",
    "if len(target_class_1)>len(target_class_0):\n",
    "        target_class_0_balanced=[]\n",
    "        index_list=np.arange(len(target_class_0))\n",
    "        index_balanced=list(np.random.choice(index_list,len(target_class_1),replace=True))\n",
    "        for i in index_balanced:\n",
    "            target_class_0_balanced.append(target_class_0[i])\n",
    "target_class_1.extend(target_class_0_balanced)"
   ]
  },
  {
   "cell_type": "code",
   "execution_count": 359,
   "id": "3c5d7ee0-6cf7-4220-a74b-e35a18cfa5dd",
   "metadata": {},
   "outputs": [],
   "source": [
    "taget_balanced=target_class_1.copy()"
   ]
  },
  {
   "cell_type": "code",
   "execution_count": 125,
   "id": "0aac99a4-56b8-49ce-aa21-08b1449bfe4d",
   "metadata": {},
   "outputs": [
    {
     "data": {
      "text/plain": [
       "0.5616666666666666"
      ]
     },
     "execution_count": 125,
     "metadata": {},
     "output_type": "execute_result"
    }
   ],
   "source": [
    "loader_classes=[]\n",
    "for num, data in enumerate(data_list):\n",
    "    loader_classes.append(data['target'].y.view(1,-1)[0].numpy())\n",
    "loader_classes_np=np.concatenate(loader_classes)\n",
    "np.mean(loader_classes_np)"
   ]
  },
  {
   "cell_type": "code",
   "execution_count": 126,
   "id": "65fcfe5d-0cb2-460f-acd8-ea8807b3538e",
   "metadata": {},
   "outputs": [
    {
     "data": {
      "text/plain": [
       "0.5"
      ]
     },
     "execution_count": 126,
     "metadata": {},
     "output_type": "execute_result"
    }
   ],
   "source": [
    "loader_classes=[]\n",
    "for num, data in enumerate(taget_balanced):\n",
    "    loader_classes.append(data['target'].y.view(1,-1)[0].numpy())\n",
    "loader_classes_np=np.concatenate(loader_classes)\n",
    "np.mean(loader_classes_np)"
   ]
  },
  {
   "cell_type": "markdown",
   "id": "9cdcec27-ff55-4e76-8e2d-c17b074c0245",
   "metadata": {},
   "source": [
    "## Best\n",
    "batch size 25"
   ]
  },
  {
   "cell_type": "code",
   "execution_count": 364,
   "id": "ec4ec4a4-c70b-48c3-8d4d-50dfa440696e",
   "metadata": {},
   "outputs": [],
   "source": [
    "NUM_GRAPHS_PER_BATCH=25\n",
    "data_size=int(len(taget_balanced)*.80)\n",
    "loader = DataLoader(taget_balanced[:data_size], \n",
    "                    batch_size=NUM_GRAPHS_PER_BATCH, shuffle=True)\n",
    "test_loader = DataLoader(taget_balanced[data_size:], \n",
    "                         batch_size=NUM_GRAPHS_PER_BATCH, shuffle=True)\n",
    "test_data_list=data_list[data_size:]"
   ]
  },
  {
   "cell_type": "code",
   "execution_count": 360,
   "id": "1d02c767-0fa1-4352-a4da-711723d88edd",
   "metadata": {},
   "outputs": [],
   "source": [
    "balanced_data_size=int(len(taget_balanced)*.80)"
   ]
  },
  {
   "cell_type": "code",
   "execution_count": 330,
   "id": "d364163d-dd78-4858-ac38-17d470bda57b",
   "metadata": {},
   "outputs": [
    {
     "data": {
      "text/plain": [
       "HeteroData(\n",
       "  \u001b[1matom\u001b[0m={ x=[2, 2] },\n",
       "  \u001b[1mlo\u001b[0m={ x=[31, 1] },\n",
       "  \u001b[1mtarget\u001b[0m={\n",
       "    x=[1, 1],\n",
       "    y=[1, 1]\n",
       "  },\n",
       "  \u001b[1mlm\u001b[0m={ x=[2, 1] },\n",
       "  \u001b[1m(lo, lo_atom, atom)\u001b[0m={ edge_index=[2, 2] },\n",
       "  \u001b[1m(lo, lo_lo, lo)\u001b[0m={ edge_index=[2, 41] },\n",
       "  \u001b[1m(lo, lo_target, target)\u001b[0m={ edge_index=[2, 1] },\n",
       "  \u001b[1m(atom, atom_atom, atom)\u001b[0m={ edge_index=[2, 1] },\n",
       "  \u001b[1m(atom, atom_target, target)\u001b[0m={ edge_index=[2, 0] },\n",
       "  \u001b[1m(lo, lo_lm, lm)\u001b[0m={ edge_index=[2, 2] }\n",
       ")"
      ]
     },
     "execution_count": 330,
     "metadata": {},
     "output_type": "execute_result"
    }
   ],
   "source": [
    "data_list[0]"
   ]
  },
  {
   "cell_type": "code",
   "execution_count": 331,
   "id": "6495e9fa-c7dc-4813-b022-3d645956723c",
   "metadata": {},
   "outputs": [],
   "source": [
    "batch=list(loader)[0]"
   ]
  },
  {
   "cell_type": "markdown",
   "id": "2220730e-b887-4234-9f4f-c768d5f6b9c9",
   "metadata": {},
   "source": [
    "## Best \n",
    "hidden_channels=100\n",
    "out_channels=100"
   ]
  },
  {
   "cell_type": "code",
   "execution_count": 332,
   "id": "caf8c8f0-fab1-4e1d-8d57-47de274841f1",
   "metadata": {},
   "outputs": [],
   "source": [
    "hidden_channels=75\n",
    "out_channels=50\n",
    "class GNN_Embeddings(torch.nn.Module):\n",
    "    def __init__(self):\n",
    "        super().__init__()\n",
    "        self.conv1 = SAGEConv((-1, -1), hidden_channels,requires_grad=False)\n",
    "        self.actfn1=nn.ReLU()\n",
    "        \n",
    "        #self.conv2 = SAGEConv((-1, -1), hidden_channels,requires_grad=False)\n",
    "        #self.actfn2=nn.ReLU()\n",
    "        \n",
    "        self.out=nn.Linear(hidden_channels,out_channels)\n",
    "        self.sigmoid=nn.Sigmoid()\n",
    "\n",
    "    def forward(self, x, edge_index):\n",
    "        \n",
    "        # First Message Passing layer\n",
    "        x = self.actfn1(self.conv1(x, edge_index))\n",
    "        x= F.dropout(x,p=.8,training=self.training)\n",
    "        \n",
    "        #x = self.actfn2(self.conv2(x, edge_index))\n",
    "        #x= F.dropout(x,p=.8,training=self.training)\n",
    "        \n",
    "        out=self.out(x)\n",
    "        \n",
    "        return out"
   ]
  },
  {
   "cell_type": "raw",
   "id": "b442b51d-53ec-4308-bb9b-f5987d66c732",
   "metadata": {},
   "source": [
    "model_embedding=GNN_Embeddings()\n",
    "model_embedding = to_hetero(model_embedding, batch.metadata())"
   ]
  },
  {
   "cell_type": "code",
   "execution_count": 333,
   "id": "83a59b60-e760-4846-b9e5-c6a3e11643a8",
   "metadata": {},
   "outputs": [],
   "source": [
    "import torch\n",
    "from torch import nn\n",
    "\n",
    "input_dim=out_channels\n",
    "hidden_dim=10\n",
    "output_dim=2\n",
    "\n",
    " \n",
    "class LSTM_Model(nn.Module):\n",
    "    def __init__(self):\n",
    "        super().__init__()\n",
    "        self.lstm = nn.LSTM(input_dim, hidden_dim, num_layers=1, batch_first=True)\n",
    "        self.linear = nn.Linear(hidden_dim, output_dim)\n",
    "        self.sigmoid= nn.Sigmoid()\n",
    "        \n",
    "    def forward(self, x):\n",
    "        x, hidden_state = self.lstm(x)\n",
    "        x = self.linear(x)\n",
    "        x= self.sigmoid(x)\n",
    "        \n",
    "        return x \n"
   ]
  },
  {
   "cell_type": "code",
   "execution_count": 334,
   "id": "c60734a5-5edc-4f16-9d74-275ed9556a60",
   "metadata": {},
   "outputs": [],
   "source": [
    "class GNNRNN(nn.Module):\n",
    "    def __init__(self):\n",
    "        super(GNNRNN, self).__init__()\n",
    "        \n",
    "        \n",
    "        self.model_embedding=GNN_Embeddings()\n",
    "        self.model_embedding = to_hetero(self.model_embedding, batch.metadata())\n",
    "        self.lstm = LSTM_Model()\n",
    "\n",
    "    def forward(self, x,edges):\n",
    "        node_embeddings = self.model_embedding(x,edges)\n",
    "\n",
    "        # Select the node embeddings for the user node type\n",
    "        user_embeddings = node_embeddings[\"target\"]\n",
    "\n",
    "        # Pass the user embeddings through the RNN\n",
    "        rnn_outputs = self.lstm(user_embeddings)\n",
    "      \n",
    "        return rnn_outputs"
   ]
  },
  {
   "cell_type": "code",
   "execution_count": null,
   "id": "2f3f0eac-6ab6-4c79-9b56-e4a8c518c04b",
   "metadata": {},
   "outputs": [],
   "source": []
  },
  {
   "cell_type": "raw",
   "id": "c86f90d1-ad34-4b40-a360-c16ae8eb27a2",
   "metadata": {},
   "source": [
    "rnn_cl = LSTM_Model()\n",
    "optimizer=torch.optim.Adam(rnn_cl.parameters(),lr=0.01,weight_decay=5e-3)"
   ]
  },
  {
   "cell_type": "raw",
   "id": "0032da93-6d48-4eeb-a68f-fa1b40bccb67",
   "metadata": {},
   "source": [
    "optimizer.zero_grad()\n",
    "# Forward pass\n",
    "outputs = rnn_cl(output1['target'])\n",
    "# Compute loss\n",
    "loss = nn.functional.cross_entropy(outputs, batch['target'].y.view(1,-1)[0])\n",
    "# Backward pass\n",
    "loss.backward()\n",
    "optimizer.step()"
   ]
  },
  {
   "cell_type": "raw",
   "id": "70626d47-64cd-4979-8eac-de14e972c131",
   "metadata": {},
   "source": [
    "outputs.argmax(dim=1)"
   ]
  },
  {
   "cell_type": "code",
   "execution_count": 335,
   "id": "8c16a28a-b366-4c6e-b555-63fb613092fb",
   "metadata": {},
   "outputs": [
    {
     "data": {
      "text/plain": [
       "0.0"
      ]
     },
     "execution_count": 335,
     "metadata": {},
     "output_type": "execute_result"
    }
   ],
   "source": [
    "accuracy"
   ]
  },
  {
   "cell_type": "code",
   "execution_count": 365,
   "id": "ce38e18d-504c-4c2b-ba88-b15f12775397",
   "metadata": {
    "tags": []
   },
   "outputs": [
    {
     "name": "stderr",
     "output_type": "stream",
     "text": [
      "2023-10-19 10:03:56 |1879062120.py:32 in <module>\n",
      "                     model_performace: 'epoch : 1 | batch : 0 | loss : 0.69946 | accuracy : 0.440'\n",
      "2023-10-19 10:03:57 |1879062120.py:32 in <module>\n",
      "                     model_performace: 'epoch : 1 | batch : 5 | loss : 0.70457 | accuracy : 0.400'\n",
      "2023-10-19 10:03:58 |1879062120.py:32 in <module>\n",
      "                     model_performace: 'epoch : 1 | batch : 10 | loss : 0.68438 | accuracy : 0.600'\n",
      "2023-10-19 10:03:59 |1879062120.py:32 in <module>\n",
      "                     model_performace: 'epoch : 1 | batch : 15 | loss : 0.67508 | accuracy : 0.680'\n",
      "2023-10-19 10:04:00 |1879062120.py:32 in <module>\n",
      "                     model_performace: 'epoch : 1 | batch : 20 | loss : 0.66785 | accuracy : 0.720'\n",
      "2023-10-19 10:04:02 |1879062120.py:32 in <module>\n",
      "                     model_performace: 'epoch : 1 | batch : 25 | loss : 0.67189 | accuracy : 0.560'\n",
      "2023-10-19 10:04:03 |1879062120.py:32 in <module>\n",
      "                     model_performace: 'epoch : 1 | batch : 30 | loss : 0.70836 | accuracy : 0.480'\n",
      "2023-10-19 10:04:04 |1879062120.py:32 in <module>\n",
      "                     model_performace: 'epoch : 1 | batch : 35 | loss : 0.66088 | accuracy : 0.680'\n",
      "2023-10-19 10:04:06 |1879062120.py:32 in <module>\n",
      "                     model_performace: 'epoch : 1 | batch : 40 | loss : 0.68339 | accuracy : 0.560'\n",
      "2023-10-19 10:04:06 |1879062120.py:37 in <module>\n",
      "                     epoch: 0\n",
      "                     epoch_performance: 'accuracy : 0.6281818239526316 | loss : 0.6737245118076151'\n",
      "2023-10-19 10:04:07 |1879062120.py:32 in <module>\n",
      "                     model_performace: 'epoch : 2 | batch : 0 | loss : 0.66954 | accuracy : 0.600'\n",
      "2023-10-19 10:04:08 |1879062120.py:32 in <module>\n",
      "                     model_performace: 'epoch : 2 | batch : 5 | loss : 0.64707 | accuracy : 0.680'\n",
      "2023-10-19 10:04:10 |1879062120.py:32 in <module>\n",
      "                     model_performace: 'epoch : 2 | batch : 10 | loss : 0.63670 | accuracy : 0.680'\n",
      "2023-10-19 10:04:11 |1879062120.py:32 in <module>\n",
      "                     model_performace: 'epoch : 2 | batch : 15 | loss : 0.65126 | accuracy : 0.640'\n",
      "2023-10-19 10:04:12 |1879062120.py:32 in <module>\n",
      "                     model_performace: 'epoch : 2 | batch : 20 | loss : 0.65127 | accuracy : 0.640'\n",
      "2023-10-19 10:04:14 |1879062120.py:32 in <module>\n",
      "                     model_performace: 'epoch : 2 | batch : 25 | loss : 0.66365 | accuracy : 0.640'\n",
      "2023-10-19 10:04:15 |1879062120.py:32 in <module>\n",
      "                     model_performace: 'epoch : 2 | batch : 30 | loss : 0.62464 | accuracy : 0.720'\n",
      "2023-10-19 10:04:17 |1879062120.py:32 in <module>\n",
      "                     model_performace: 'epoch : 2 | batch : 35 | loss : 0.66900 | accuracy : 0.640'\n",
      "2023-10-19 10:04:19 |1879062120.py:32 in <module>\n",
      "                     model_performace: 'epoch : 2 | batch : 40 | loss : 0.69174 | accuracy : 0.560'\n",
      "2023-10-19 10:04:20 |1879062120.py:37 in <module>\n",
      "                     epoch: 1\n",
      "                     epoch_performance: 'accuracy : 0.6260606064037844 | loss : 0.6613612662662159'\n",
      "2023-10-19 10:04:20 |1879062120.py:32 in <module>\n",
      "                     model_performace: 'epoch : 3 | batch : 0 | loss : 0.68615 | accuracy : 0.560'\n",
      "2023-10-19 10:04:21 |1879062120.py:32 in <module>\n",
      "                     model_performace: 'epoch : 3 | batch : 5 | loss : 0.67936 | accuracy : 0.600'\n",
      "2023-10-19 10:04:23 |1879062120.py:32 in <module>\n",
      "                     model_performace: 'epoch : 3 | batch : 10 | loss : 0.63788 | accuracy : 0.680'\n",
      "2023-10-19 10:04:24 |1879062120.py:32 in <module>\n",
      "                     model_performace: 'epoch : 3 | batch : 15 | loss : 0.79491 | accuracy : 0.320'\n",
      "2023-10-19 10:04:26 |1879062120.py:32 in <module>\n",
      "                     model_performace: 'epoch : 3 | batch : 20 | loss : 0.65684 | accuracy : 0.640'\n",
      "2023-10-19 10:04:27 |1879062120.py:32 in <module>\n",
      "                     model_performace: 'epoch : 3 | batch : 25 | loss : 0.66737 | accuracy : 0.600'\n",
      "2023-10-19 10:04:28 |1879062120.py:32 in <module>\n",
      "                     model_performace: 'epoch : 3 | batch : 30 | loss : 0.58506 | accuracy : 0.760'\n",
      "2023-10-19 10:04:30 |1879062120.py:32 in <module>\n",
      "                     model_performace: 'epoch : 3 | batch : 35 | loss : 0.61906 | accuracy : 0.720'\n",
      "2023-10-19 10:04:31 |1879062120.py:32 in <module>\n",
      "                     model_performace: 'epoch : 3 | batch : 40 | loss : 0.64121 | accuracy : 0.680'\n",
      "2023-10-19 10:04:32 |1879062120.py:37 in <module>\n",
      "                     epoch: 2\n",
      "                     epoch_performance: 'accuracy : 0.6327272775498304 | loss : 0.6583277908238497'\n",
      "2023-10-19 10:04:32 |1879062120.py:32 in <module>\n",
      "                     model_performace: 'epoch : 4 | batch : 0 | loss : 0.71850 | accuracy : 0.520'\n",
      "2023-10-19 10:04:34 |1879062120.py:32 in <module>\n",
      "                     model_performace: 'epoch : 4 | batch : 5 | loss : 0.65493 | accuracy : 0.600'\n",
      "2023-10-19 10:04:35 |1879062120.py:32 in <module>\n",
      "                     model_performace: 'epoch : 4 | batch : 10 | loss : 0.63383 | accuracy : 0.680'\n",
      "2023-10-19 10:04:36 |1879062120.py:32 in <module>\n",
      "                     model_performace: 'epoch : 4 | batch : 15 | loss : 0.70316 | accuracy : 0.520'\n",
      "2023-10-19 10:04:37 |1879062120.py:32 in <module>\n",
      "                     model_performace: 'epoch : 4 | batch : 20 | loss : 0.68994 | accuracy : 0.560'\n",
      "2023-10-19 10:04:39 |1879062120.py:32 in <module>\n",
      "                     model_performace: 'epoch : 4 | batch : 25 | loss : 0.60251 | accuracy : 0.720'\n",
      "2023-10-19 10:04:40 |1879062120.py:32 in <module>\n",
      "                     model_performace: 'epoch : 4 | batch : 30 | loss : 0.66850 | accuracy : 0.600'\n",
      "2023-10-19 10:04:41 |1879062120.py:32 in <module>\n",
      "                     model_performace: 'epoch : 4 | batch : 35 | loss : 0.74023 | accuracy : 0.480'\n",
      "2023-10-19 10:04:43 |1879062120.py:32 in <module>\n",
      "                     model_performace: 'epoch : 4 | batch : 40 | loss : 0.57282 | accuracy : 0.800'\n",
      "2023-10-19 10:04:43 |1879062120.py:37 in <module>\n",
      "                     epoch: 3\n",
      "                     epoch_performance: 'accuracy : 0.6260606097904119 | loss : 0.6585081016475504'\n",
      "2023-10-19 10:04:44 |1879062120.py:32 in <module>\n",
      "                     model_performace: 'epoch : 5 | batch : 0 | loss : 0.69208 | accuracy : 0.560'\n",
      "2023-10-19 10:04:45 |1879062120.py:32 in <module>\n",
      "                     model_performace: 'epoch : 5 | batch : 5 | loss : 0.64216 | accuracy : 0.640'\n",
      "2023-10-19 10:04:46 |1879062120.py:32 in <module>\n",
      "                     model_performace: 'epoch : 5 | batch : 10 | loss : 0.68650 | accuracy : 0.560'\n",
      "2023-10-19 10:04:48 |1879062120.py:32 in <module>\n",
      "                     model_performace: 'epoch : 5 | batch : 15 | loss : 0.61696 | accuracy : 0.720'\n",
      "2023-10-19 10:04:49 |1879062120.py:32 in <module>\n",
      "                     model_performace: 'epoch : 5 | batch : 20 | loss : 0.64622 | accuracy : 0.640'\n",
      "2023-10-19 10:04:51 |1879062120.py:32 in <module>\n",
      "                     model_performace: 'epoch : 5 | batch : 25 | loss : 0.62962 | accuracy : 0.680'\n",
      "2023-10-19 10:04:52 |1879062120.py:32 in <module>\n",
      "                     model_performace: 'epoch : 5 | batch : 30 | loss : 0.66575 | accuracy : 0.600'\n",
      "2023-10-19 10:04:54 |1879062120.py:32 in <module>\n",
      "                     model_performace: 'epoch : 5 | batch : 35 | loss : 0.71597 | accuracy : 0.480'\n",
      "2023-10-19 10:04:55 |1879062120.py:32 in <module>\n",
      "                     model_performace: 'epoch : 5 | batch : 40 | loss : 0.69498 | accuracy : 0.560'\n",
      "2023-10-19 10:04:56 |1879062120.py:37 in <module>\n",
      "                     epoch: 4\n",
      "                     epoch_performance: 'accuracy : 0.6260606091130864 | loss : 0.6555397618900646'\n",
      "2023-10-19 10:04:56 |1879062120.py:32 in <module>\n",
      "                     model_performace: 'epoch : 6 | batch : 0 | loss : 0.56612 | accuracy : 0.840'\n",
      "2023-10-19 10:04:58 |1879062120.py:32 in <module>\n",
      "                     model_performace: 'epoch : 6 | batch : 5 | loss : 0.63287 | accuracy : 0.640'\n",
      "2023-10-19 10:04:59 |1879062120.py:32 in <module>\n",
      "                     model_performace: 'epoch : 6 | batch : 10 | loss : 0.61056 | accuracy : 0.720'\n",
      "2023-10-19 10:05:00 |1879062120.py:32 in <module>\n",
      "                     model_performace: 'epoch : 6 | batch : 15 | loss : 0.69929 | accuracy : 0.520'\n",
      "2023-10-19 10:05:02 |1879062120.py:32 in <module>\n",
      "                     model_performace: 'epoch : 6 | batch : 20 | loss : 0.66399 | accuracy : 0.560'\n",
      "2023-10-19 10:05:03 |1879062120.py:32 in <module>\n",
      "                     model_performace: 'epoch : 6 | batch : 25 | loss : 0.59337 | accuracy : 0.760'\n",
      "2023-10-19 10:05:04 |1879062120.py:32 in <module>\n",
      "                     model_performace: 'epoch : 6 | batch : 30 | loss : 0.65627 | accuracy : 0.640'\n",
      "2023-10-19 10:05:06 |1879062120.py:32 in <module>\n",
      "                     model_performace: 'epoch : 6 | batch : 35 | loss : 0.66598 | accuracy : 0.600'\n",
      "2023-10-19 10:05:07 |1879062120.py:32 in <module>\n",
      "                     model_performace: 'epoch : 6 | batch : 40 | loss : 0.66307 | accuracy : 0.600'\n",
      "2023-10-19 10:05:08 |1879062120.py:37 in <module>\n",
      "                     epoch: 5\n",
      "                     epoch_performance: 'accuracy : 0.6327272755178538 | loss : 0.6486983014778658'\n",
      "2023-10-19 10:05:08 |1879062120.py:32 in <module>\n",
      "                     model_performace: 'epoch : 7 | batch : 0 | loss : 0.58667 | accuracy : 0.760'\n",
      "2023-10-19 10:05:10 |1879062120.py:32 in <module>\n",
      "                     model_performace: 'epoch : 7 | batch : 5 | loss : 0.68642 | accuracy : 0.560'\n",
      "2023-10-19 10:05:11 |1879062120.py:32 in <module>\n",
      "                     model_performace: 'epoch : 7 | batch : 10 | loss : 0.70747 | accuracy : 0.520'\n",
      "2023-10-19 10:05:13 |1879062120.py:32 in <module>\n",
      "                     model_performace: 'epoch : 7 | batch : 15 | loss : 0.68760 | accuracy : 0.560'\n",
      "2023-10-19 10:05:14 |1879062120.py:32 in <module>\n",
      "                     model_performace: 'epoch : 7 | batch : 20 | loss : 0.68990 | accuracy : 0.560'\n",
      "2023-10-19 10:05:15 |1879062120.py:32 in <module>\n",
      "                     model_performace: 'epoch : 7 | batch : 25 | loss : 0.65043 | accuracy : 0.640'\n",
      "2023-10-19 10:05:17 |1879062120.py:32 in <module>\n",
      "                     model_performace: 'epoch : 7 | batch : 30 | loss : 0.65263 | accuracy : 0.600'\n",
      "2023-10-19 10:05:18 |1879062120.py:32 in <module>\n",
      "                     model_performace: 'epoch : 7 | batch : 35 | loss : 0.58331 | accuracy : 0.720'\n",
      "2023-10-19 10:05:19 |1879062120.py:32 in <module>\n",
      "                     model_performace: 'epoch : 7 | batch : 40 | loss : 0.68817 | accuracy : 0.560'\n",
      "2023-10-19 10:05:20 |1879062120.py:37 in <module>\n",
      "                     epoch: 6\n",
      "                     epoch_performance: 'accuracy : 0.6260606124997139 | loss : 0.6512120271270926'\n",
      "2023-10-19 10:05:20 |1879062120.py:32 in <module>\n",
      "                     model_performace: 'epoch : 8 | batch : 0 | loss : 0.59210 | accuracy : 0.720'\n",
      "2023-10-19 10:05:22 |1879062120.py:32 in <module>\n",
      "                     model_performace: 'epoch : 8 | batch : 5 | loss : 0.65125 | accuracy : 0.680'\n",
      "2023-10-19 10:05:23 |1879062120.py:32 in <module>\n",
      "                     model_performace: 'epoch : 8 | batch : 10 | loss : 0.69192 | accuracy : 0.520'\n",
      "2023-10-19 10:05:25 |1879062120.py:32 in <module>\n",
      "                     model_performace: 'epoch : 8 | batch : 15 | loss : 0.67614 | accuracy : 0.520'\n",
      "2023-10-19 10:05:26 |1879062120.py:32 in <module>\n",
      "                     model_performace: 'epoch : 8 | batch : 20 | loss : 0.59933 | accuracy : 0.760'\n",
      "2023-10-19 10:05:27 |1879062120.py:32 in <module>\n",
      "                     model_performace: 'epoch : 8 | batch : 25 | loss : 0.63196 | accuracy : 0.680'\n",
      "2023-10-19 10:05:28 |1879062120.py:32 in <module>\n",
      "                     model_performace: 'epoch : 8 | batch : 30 | loss : 0.71956 | accuracy : 0.480'\n",
      "2023-10-19 10:05:30 |1879062120.py:32 in <module>\n",
      "                     model_performace: 'epoch : 8 | batch : 35 | loss : 0.67704 | accuracy : 0.520'\n",
      "2023-10-19 10:05:31 |1879062120.py:32 in <module>\n",
      "                     model_performace: 'epoch : 8 | batch : 40 | loss : 0.69803 | accuracy : 0.480'\n",
      "2023-10-19 10:05:31 |1879062120.py:37 in <module>\n",
      "                     epoch: 7\n",
      "                     epoch_performance: 'accuracy : 0.6166666685180231 | loss : 0.6461300294507634'\n",
      "2023-10-19 10:05:32 |1879062120.py:32 in <module>\n",
      "                     model_performace: 'epoch : 9 | batch : 0 | loss : 0.73187 | accuracy : 0.360'\n",
      "2023-10-19 10:05:33 |1879062120.py:32 in <module>\n",
      "                     model_performace: 'epoch : 9 | batch : 5 | loss : 0.66543 | accuracy : 0.640'\n",
      "2023-10-19 10:05:34 |1879062120.py:32 in <module>\n",
      "                     model_performace: 'epoch : 9 | batch : 10 | loss : 0.69699 | accuracy : 0.520'\n",
      "2023-10-19 10:05:36 |1879062120.py:32 in <module>\n",
      "                     model_performace: 'epoch : 9 | batch : 15 | loss : 0.63880 | accuracy : 0.680'\n",
      "2023-10-19 10:05:37 |1879062120.py:32 in <module>\n",
      "                     model_performace: 'epoch : 9 | batch : 20 | loss : 0.64586 | accuracy : 0.640'\n",
      "2023-10-19 10:05:38 |1879062120.py:32 in <module>\n",
      "                     model_performace: 'epoch : 9 | batch : 25 | loss : 0.64032 | accuracy : 0.600'\n",
      "2023-10-19 10:05:40 |1879062120.py:32 in <module>\n",
      "                     model_performace: 'epoch : 9 | batch : 30 | loss : 0.65898 | accuracy : 0.600'\n",
      "2023-10-19 10:05:41 |1879062120.py:32 in <module>\n",
      "                     model_performace: 'epoch : 9 | batch : 35 | loss : 0.56752 | accuracy : 0.760'\n",
      "2023-10-19 10:05:42 |1879062120.py:32 in <module>\n",
      "                     model_performace: 'epoch : 9 | batch : 40 | loss : 0.54746 | accuracy : 0.800'\n",
      "2023-10-19 10:05:43 |1879062120.py:37 in <module>\n",
      "                     epoch: 8\n",
      "                     epoch_performance: 'accuracy : 0.6387878825718706 | loss : 0.6394964294000105'\n",
      "2023-10-19 10:05:43 |1879062120.py:32 in <module>\n",
      "                     model_performace: 'epoch : 10 | batch : 0 | loss : 0.61301 | accuracy : 0.680'\n",
      "2023-10-19 10:05:45 |1879062120.py:32 in <module>\n",
      "                     model_performace: 'epoch : 10 | batch : 5 | loss : 0.61645 | accuracy : 0.760'\n",
      "2023-10-19 10:05:46 |1879062120.py:32 in <module>\n",
      "                     model_performace: 'epoch : 10 | batch : 10 | loss : 0.66390 | accuracy : 0.560'\n",
      "2023-10-19 10:05:47 |1879062120.py:32 in <module>\n",
      "                     model_performace: 'epoch : 10 | batch : 15 | loss : 0.64611 | accuracy : 0.640'\n",
      "2023-10-19 10:05:49 |1879062120.py:32 in <module>\n",
      "                     model_performace: 'epoch : 10 | batch : 20 | loss : 0.62066 | accuracy : 0.640'\n",
      "2023-10-19 10:05:50 |1879062120.py:32 in <module>\n",
      "                     model_performace: 'epoch : 10 | batch : 25 | loss : 0.64709 | accuracy : 0.600'\n",
      "2023-10-19 10:05:51 |1879062120.py:32 in <module>\n",
      "                     model_performace: 'epoch : 10 | batch : 30 | loss : 0.69093 | accuracy : 0.600'\n",
      "2023-10-19 10:05:52 |1879062120.py:32 in <module>\n",
      "                     model_performace: 'epoch : 10 | batch : 35 | loss : 0.73971 | accuracy : 0.520'\n",
      "2023-10-19 10:05:54 |1879062120.py:32 in <module>\n",
      "                     model_performace: 'epoch : 10 | batch : 40 | loss : 0.63757 | accuracy : 0.640'\n",
      "2023-10-19 10:05:54 |1879062120.py:37 in <module>\n",
      "                     epoch: 9\n",
      "                     epoch_performance: 'accuracy : 0.6433333327824419 | loss : 0.6435068168423392'\n",
      "2023-10-19 10:05:55 |1879062120.py:32 in <module>\n",
      "                     model_performace: 'epoch : 11 | batch : 0 | loss : 0.63223 | accuracy : 0.680'\n",
      "2023-10-19 10:05:56 |1879062120.py:32 in <module>\n",
      "                     model_performace: 'epoch : 11 | batch : 5 | loss : 0.60718 | accuracy : 0.680'\n",
      "2023-10-19 10:05:57 |1879062120.py:32 in <module>\n",
      "                     model_performace: 'epoch : 11 | batch : 10 | loss : 0.52505 | accuracy : 0.760'\n",
      "2023-10-19 10:05:59 |1879062120.py:32 in <module>\n",
      "                     model_performace: 'epoch : 11 | batch : 15 | loss : 0.67463 | accuracy : 0.600'\n",
      "2023-10-19 10:06:00 |1879062120.py:32 in <module>\n",
      "                     model_performace: 'epoch : 11 | batch : 20 | loss : 0.68639 | accuracy : 0.520'\n",
      "2023-10-19 10:06:02 |1879062120.py:32 in <module>\n",
      "                     model_performace: 'epoch : 11 | batch : 25 | loss : 0.63091 | accuracy : 0.720'\n",
      "2023-10-19 10:06:03 |1879062120.py:32 in <module>\n",
      "                     model_performace: 'epoch : 11 | batch : 30 | loss : 0.63738 | accuracy : 0.640'\n",
      "2023-10-19 10:06:04 |1879062120.py:32 in <module>\n",
      "                     model_performace: 'epoch : 11 | batch : 35 | loss : 0.66147 | accuracy : 0.560'\n",
      "2023-10-19 10:06:06 |1879062120.py:32 in <module>\n",
      "                     model_performace: 'epoch : 11 | batch : 40 | loss : 0.66228 | accuracy : 0.600'\n",
      "2023-10-19 10:06:06 |1879062120.py:37 in <module>\n",
      "                     epoch: 10\n",
      "                     epoch_performance: 'accuracy : 0.6330303062092174 | loss : 0.6411252048882571'\n",
      "2023-10-19 10:06:07 |1879062120.py:32 in <module>\n",
      "                     model_performace: 'epoch : 12 | batch : 0 | loss : 0.58585 | accuracy : 0.720'\n",
      "2023-10-19 10:06:08 |1879062120.py:32 in <module>\n",
      "                     model_performace: 'epoch : 12 | batch : 5 | loss : 0.59628 | accuracy : 0.680'\n",
      "2023-10-19 10:06:10 |1879062120.py:32 in <module>\n",
      "                     model_performace: 'epoch : 12 | batch : 10 | loss : 0.74127 | accuracy : 0.480'\n",
      "2023-10-19 10:06:11 |1879062120.py:32 in <module>\n",
      "                     model_performace: 'epoch : 12 | batch : 15 | loss : 0.60577 | accuracy : 0.720'\n",
      "2023-10-19 10:06:13 |1879062120.py:32 in <module>\n",
      "                     model_performace: 'epoch : 12 | batch : 20 | loss : 0.70728 | accuracy : 0.520'\n",
      "2023-10-19 10:06:14 |1879062120.py:32 in <module>\n",
      "                     model_performace: 'epoch : 12 | batch : 25 | loss : 0.60084 | accuracy : 0.640'\n",
      "2023-10-19 10:06:15 |1879062120.py:32 in <module>\n",
      "                     model_performace: 'epoch : 12 | batch : 30 | loss : 0.65754 | accuracy : 0.640'\n",
      "2023-10-19 10:06:17 |1879062120.py:32 in <module>\n",
      "                     model_performace: 'epoch : 12 | batch : 35 | loss : 0.65941 | accuracy : 0.560'\n",
      "2023-10-19 10:06:18 |1879062120.py:32 in <module>\n",
      "                     model_performace: 'epoch : 12 | batch : 40 | loss : 0.63631 | accuracy : 0.680'\n",
      "2023-10-19 10:06:19 |1879062120.py:\n",
      "KeyboardInterrupt\n",
      "\n"
     ]
    }
   ],
   "source": [
    "hidden_state=None\n",
    "new_model=GNNRNN()\n",
    "new_model.train()\n",
    "\n",
    "new_model(batch.x_dict, batch.edge_index_dict)\n",
    "criterion=torch.nn.CrossEntropyLoss()\n",
    "optimizer=torch.optim.Adam(new_model.parameters(),lr=0.001,weight_decay=5e-12)\n",
    "#,weight_decay=5e-12\n",
    "loss_list=[]\n",
    "accuracy_list=[]\n",
    "\n",
    "for epoch in range(100):\n",
    "    epoch_accuracy=[]\n",
    "    epoch_loss=[]\n",
    "    hidden_state=None\n",
    "    for batch_num, batch in enumerate(loader):\n",
    "        new_model.train()\n",
    "        \n",
    "        optimizer.zero_grad()   \n",
    "        out=new_model(batch.x_dict, batch.edge_index_dict) \n",
    "\n",
    "        loss=criterion(out, batch['target'].y.view(1,-1)[0])\n",
    "        loss.backward()\n",
    "        optimizer.step()\n",
    "        train_correct=out.argmax(dim=1)==batch['target'].y.view(1,-1)[0]\n",
    "        train_acc=train_correct*1\n",
    "        accuracy=(sum(train_correct*1)/train_correct.shape[0]).item()\n",
    "        \n",
    "        epoch_accuracy.append(accuracy)\n",
    "        if batch_num%5==0:\n",
    "            model_performace='epoch : {} | batch : {} | loss : {:.5f} | accuracy : {:.3f}'.format(epoch+1,batch_num,loss.item(),accuracy)\n",
    "            ic(model_performace)\n",
    "        loss_list.append(loss.item())\n",
    "        accuracy_list.append(accuracy)\n",
    "        epoch_loss.append(loss.item())\n",
    "    epoch_performance=f'accuracy : {np.mean(epoch_accuracy)} | loss : {np.mean(epoch_loss)}'\n",
    "    ic(epoch,epoch_performance)\n"
   ]
  },
  {
   "cell_type": "code",
   "execution_count": 349,
   "id": "6e5f5f2c-b919-46f6-92b0-af52f7daaaed",
   "metadata": {},
   "outputs": [
    {
     "data": {
      "text/plain": [
       "[<matplotlib.lines.Line2D at 0x1bbb5a2e850>]"
      ]
     },
     "execution_count": 349,
     "metadata": {},
     "output_type": "execute_result"
    },
    {
     "data": {
      "image/png": "[encoded data removed]",
      "text/plain": [
       "<Figure size 1000x700 with 1 Axes>"
      ]
     },
     "metadata": {},
     "output_type": "display_data"
    }
   ],
   "source": [
    "plt.figure(figsize=(10,7))\n",
    "mvg_steps=1000\n",
    "loss_moving_avg=[]\n",
    "for i in range(len(loss_list)-mvg_steps):\n",
    "    loss_moving_avg.append(np.mean(loss_list[i:i+mvg_steps]))\n",
    "plt.grid()\n",
    "#plt.plot(loss_list)\n",
    "plt.plot(loss_moving_avg)\n"
   ]
  },
  {
   "cell_type": "code",
   "execution_count": 350,
   "id": "1ba50ba4-ccc6-471d-976e-80828944718e",
   "metadata": {},
   "outputs": [
    {
     "data": {
      "image/png": "[encoded data removed]",
      "text/plain": [
       "<Figure size 640x480 with 1 Axes>"
      ]
     },
     "metadata": {},
     "output_type": "display_data"
    }
   ],
   "source": [
    "acc_moving_avg=[]\n",
    "\n",
    "for i in range(len(accuracy_list)-mvg_steps):\n",
    "    acc_moving_avg.append(np.mean(accuracy_list[i:i+mvg_steps]))\n",
    "#plt.plot(accuracy_list)\n",
    "plt.plot(acc_moving_avg)\n",
    "plt.grid()"
   ]
  },
  {
   "cell_type": "code",
   "execution_count": 340,
   "id": "7b6d57d6-0f8e-4d6f-b587-8e1634e42ec2",
   "metadata": {},
   "outputs": [],
   "source": [
    "model_name='model_'+f\"{datetime.datetime.now().strftime('%Y-%m-%d-%H-%M-%S')}\""
   ]
  },
  {
   "cell_type": "code",
   "execution_count": 341,
   "id": "69f3ec49-8ea4-4e6a-8ef8-d97e1b5fee8e",
   "metadata": {},
   "outputs": [],
   "source": [
    "#torch.save(new_model.state_dict(), model_name)\n"
   ]
  },
  {
   "cell_type": "code",
   "execution_count": 355,
   "id": "968a89fb-5d68-429d-b901-68ef27a4c91f",
   "metadata": {},
   "outputs": [
    {
     "name": "stderr",
     "output_type": "stream",
     "text": [
      "100%|████████████████████████████████████████████████████████████████████████████████| 240/240 [00:07<00:00, 31.78it/s]\n"
     ]
    },
    {
     "name": "stdout",
     "output_type": "stream",
     "text": [
      "0.6916666666666667\n",
      "0.6941798941798942\n"
     ]
    }
   ],
   "source": [
    "test_accuracy=[]\n",
    "new_model.eval()\n",
    "test_target_list=[]\n",
    "test_out_list=[]\n",
    "for test_data in tqdm(test_data_list):\n",
    "    out=new_model(test_data.x_dict, test_data.edge_index_dict) \n",
    "    test_correct=out.argmax(dim=1)==test_data['target'].y.view(1,-1)[0]\n",
    "    test_acc=test_correct*1\n",
    "    accuracy=(sum(test_acc*1)/test_acc.shape[0]).item()\n",
    "    test_accuracy.append(accuracy)\n",
    "    test_target_list.append(test_data['target'].y.view(1,-1)[0].item())\n",
    "    test_out_list.append(out.argmax(dim=1).item())\n",
    "print(np.mean(test_accuracy))\n",
    "print(roc_auc_score(test_target_list,test_out_list))"
   ]
  },
  {
   "cell_type": "code",
   "execution_count": null,
   "id": "99795912-7a98-4d08-b8b7-0b8a143f5072",
   "metadata": {},
   "outputs": [],
   "source": []
  },
  {
   "cell_type": "code",
   "execution_count": null,
   "id": "103d5a55-9bb4-48ea-af3d-5097220326d1",
   "metadata": {},
   "outputs": [],
   "source": []
  },
  {
   "cell_type": "code",
   "execution_count": null,
   "id": "5eb82a4a-1b76-4cac-a907-a862bd6fd03c",
   "metadata": {},
   "outputs": [],
   "source": [
    "class GNNRNN_2(nn.Module):\n",
    "    def __init__(self):\n",
    "        super(GNNRNN, self).__init__()\n",
    "        \n",
    "        \n",
    "        self.model_embedding=GNN_Embeddings()\n",
    "        self.model_embedding = to_hetero(self.model_embedding, batch.metadata())\n",
    "        self.lstm = LSTM_Model()\n",
    "\n",
    "    def forward(self, data):\n",
    "        target_embeddings_list=[]\n",
    "        ic(user_embeddings_list)\n",
    "        for i in data:\n",
    "            node_embeddings = self.model_embedding(data.x_dict, data.edge_index_dict)\n",
    "            target_embeddings = node_embeddings[\"target\"]\n",
    "            target_embeddings_list.append(target_embeddings)\n",
    "        # Select the node embeddings for the user node type        \n",
    "        stacked_tensor=torch.stack(target_embeddings_list,dim=0)\n",
    "        reshaped=stacked_tensor.permute(1,0,2).float()\n",
    "        # Pass the user embeddings through the RNN\n",
    "        rnn_outputs = self.lstm(user_embeddings)\n",
    "      \n",
    "        return rnn_outputs"
   ]
  },
  {
   "cell_type": "code",
   "execution_count": null,
   "id": "c887d9f5-2fa7-4199-8d1a-7c7f2d195fcf",
   "metadata": {},
   "outputs": [],
   "source": [
    "train_data=data_list[int(len(data_list)*.8):]\n",
    "train_list=[]\n",
    "\n",
    "sequnce_length=10\n",
    "for i in range(len(train_data)-sequnce_length):\n",
    "    X_train_list.append(train_data[i:i+sequnce_length])\n",
    "    "
   ]
  },
  {
   "cell_type": "code",
   "execution_count": null,
   "id": "1fc41d91-0422-452e-b7c1-f5c13282a954",
   "metadata": {},
   "outputs": [],
   "source": []
  },
  {
   "cell_type": "code",
   "execution_count": null,
   "id": "2a893614-0325-498a-833b-fbd18d3c5f52",
   "metadata": {},
   "outputs": [],
   "source": []
  }
 ],
 "metadata": {
  "kernelspec": {
   "display_name": "Python 3 (ipykernel)",
   "language": "python",
   "name": "python3"
  },
  "language_info": {
   "codemirror_mode": {
    "name": "ipython",
    "version": 3
   },
   "file_extension": ".py",
   "mimetype": "text/x-python",
   "name": "python",
   "nbconvert_exporter": "python",
   "pygments_lexer": "ipython3",
   "version": "3.8.3"
  }
 },
 "nbformat": 4,
 "nbformat_minor": 5
}
