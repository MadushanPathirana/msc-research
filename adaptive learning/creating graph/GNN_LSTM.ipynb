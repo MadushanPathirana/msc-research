{
 "cells": [
  {
   "cell_type": "code",
   "execution_count": 1,
   "id": "54d3c509-1f6c-45e8-a65e-8dc177255e84",
   "metadata": {},
   "outputs": [],
   "source": [
    "import logging\n",
    "import sys\n",
    "import datetime\n",
    "import pickle\n",
    "from icecream import ic\n",
    "from tqdm import tqdm"
   ]
  },
  {
   "cell_type": "code",
   "execution_count": 2,
   "id": "c08c124a-549e-4cf3-aee6-54d9920d3c9b",
   "metadata": {},
   "outputs": [],
   "source": [
    "\n",
    "def time_now():\n",
    "  \n",
    "    return f\"{datetime.datetime.now().strftime('%Y-%m-%d %H:%M:%S')} |\"\n",
    "\n",
    "ic.configureOutput(prefix=time_now)\n",
    "\n",
    "ic.configureOutput(includeContext=True) "
   ]
  },
  {
   "cell_type": "code",
   "execution_count": 3,
   "id": "e60658e5-5285-4bb6-94bf-0e4205756039",
   "metadata": {},
   "outputs": [],
   "source": [
    "import pandas as pd\n",
    "import numpy as np\n",
    "import networkx as nx\n",
    "import matplotlib.pyplot as plt;\n",
    "np.random.seed(42);"
   ]
  },
  {
   "cell_type": "code",
   "execution_count": 4,
   "id": "419e2c4e-228e-4b49-9c25-d2152f0c285c",
   "metadata": {},
   "outputs": [],
   "source": [
    "from sklearn.metrics import roc_auc_score;\n",
    "from sklearn.metrics import classification_report;"
   ]
  },
  {
   "cell_type": "code",
   "execution_count": 14,
   "id": "82d2ab02-233e-40d5-8858-6e01a55b3755",
   "metadata": {},
   "outputs": [],
   "source": [
    "import torch_geometric as pyg\n",
    "from torch_geometric.nn import GCNConv \n",
    "from torch_geometric.nn import SAGEConv, to_hetero ,LSTMAggregation\n",
    "import  torch.nn as nn\n",
    "import torch.nn.functional as F\n",
    "import torch \n",
    "from torch_geometric.loader import DataLoader"
   ]
  },
  {
   "cell_type": "code",
   "execution_count": 356,
   "id": "16f17e25-affa-4e95-b292-07df6f88e184",
   "metadata": {},
   "outputs": [],
   "source": [
    "file_name = \"data_list.pkl\"\n",
    "open_file = open(file_name, \"rb\")\n",
    "data_list = pickle.load(open_file)\n",
    "open_file.close()\n"
   ]
  },
  {
   "cell_type": "code",
   "execution_count": 357,
   "id": "0daf6b49-00df-4733-b870-04bcd63c00d0",
   "metadata": {},
   "outputs": [],
   "source": [
    "NUM_GRAPHS_PER_BATCH=10"
   ]
  },
  {
   "cell_type": "code",
   "execution_count": 358,
   "id": "7c47a402-3fae-4d2a-8d5e-2116affd92a2",
   "metadata": {},
   "outputs": [],
   "source": [
    "target_class_1=[]\n",
    "target_class_0=[]\n",
    "for num, data in enumerate(data_list):\n",
    "    target_class=data['target'].y.item()\n",
    "    if target_class ==0:\n",
    "        target_class_0.append(data)\n",
    "    else:\n",
    "        target_class_1.append(data)\n",
    "        \n",
    "if len(target_class_1)>len(target_class_0):\n",
    "        target_class_0_balanced=[]\n",
    "        index_list=np.arange(len(target_class_0))\n",
    "        index_balanced=list(np.random.choice(index_list,len(target_class_1),replace=True))\n",
    "        for i in index_balanced:\n",
    "            target_class_0_balanced.append(target_class_0[i])\n",
    "target_class_1.extend(target_class_0_balanced)"
   ]
  },
  {
   "cell_type": "code",
   "execution_count": 359,
   "id": "3c5d7ee0-6cf7-4220-a74b-e35a18cfa5dd",
   "metadata": {},
   "outputs": [],
   "source": [
    "taget_balanced=target_class_1.copy()"
   ]
  },
  {
   "cell_type": "code",
   "execution_count": 125,
   "id": "0aac99a4-56b8-49ce-aa21-08b1449bfe4d",
   "metadata": {},
   "outputs": [
    {
     "data": {
      "text/plain": [
       "0.5616666666666666"
      ]
     },
     "execution_count": 125,
     "metadata": {},
     "output_type": "execute_result"
    }
   ],
   "source": [
    "loader_classes=[]\n",
    "for num, data in enumerate(data_list):\n",
    "    loader_classes.append(data['target'].y.view(1,-1)[0].numpy())\n",
    "loader_classes_np=np.concatenate(loader_classes)\n",
    "np.mean(loader_classes_np)"
   ]
  },
  {
   "cell_type": "code",
   "execution_count": 126,
   "id": "65fcfe5d-0cb2-460f-acd8-ea8807b3538e",
   "metadata": {},
   "outputs": [
    {
     "data": {
      "text/plain": [
       "0.5"
      ]
     },
     "execution_count": 126,
     "metadata": {},
     "output_type": "execute_result"
    }
   ],
   "source": [
    "loader_classes=[]\n",
    "for num, data in enumerate(taget_balanced):\n",
    "    loader_classes.append(data['target'].y.view(1,-1)[0].numpy())\n",
    "loader_classes_np=np.concatenate(loader_classes)\n",
    "np.mean(loader_classes_np)"
   ]
  },
  {
   "cell_type": "markdown",
   "id": "9cdcec27-ff55-4e76-8e2d-c17b074c0245",
   "metadata": {},
   "source": [
    "## Best\n",
    "batch size 25"
   ]
  },
  {
   "cell_type": "code",
   "execution_count": 364,
   "id": "ec4ec4a4-c70b-48c3-8d4d-50dfa440696e",
   "metadata": {},
   "outputs": [],
   "source": [
    "NUM_GRAPHS_PER_BATCH=25\n",
    "data_size=int(len(taget_balanced)*.80)\n",
    "loader = DataLoader(taget_balanced[:data_size], \n",
    "                    batch_size=NUM_GRAPHS_PER_BATCH, shuffle=True)\n",
    "test_loader = DataLoader(taget_balanced[data_size:], \n",
    "                         batch_size=NUM_GRAPHS_PER_BATCH, shuffle=True)\n",
    "test_data_list=data_list[data_size:]"
   ]
  },
  {
   "cell_type": "code",
   "execution_count": 360,
   "id": "1d02c767-0fa1-4352-a4da-711723d88edd",
   "metadata": {},
   "outputs": [],
   "source": [
    "balanced_data_size=int(len(taget_balanced)*.80)"
   ]
  },
  {
   "cell_type": "code",
   "execution_count": 330,
   "id": "d364163d-dd78-4858-ac38-17d470bda57b",
   "metadata": {},
   "outputs": [
    {
     "data": {
      "text/plain": [
       "HeteroData(\n",
       "  \u001b[1matom\u001b[0m={ x=[2, 2] },\n",
       "  \u001b[1mlo\u001b[0m={ x=[31, 1] },\n",
       "  \u001b[1mtarget\u001b[0m={\n",
       "    x=[1, 1],\n",
       "    y=[1, 1]\n",
       "  },\n",
       "  \u001b[1mlm\u001b[0m={ x=[2, 1] },\n",
       "  \u001b[1m(lo, lo_atom, atom)\u001b[0m={ edge_index=[2, 2] },\n",
       "  \u001b[1m(lo, lo_lo, lo)\u001b[0m={ edge_index=[2, 41] },\n",
       "  \u001b[1m(lo, lo_target, target)\u001b[0m={ edge_index=[2, 1] },\n",
       "  \u001b[1m(atom, atom_atom, atom)\u001b[0m={ edge_index=[2, 1] },\n",
       "  \u001b[1m(atom, atom_target, target)\u001b[0m={ edge_index=[2, 0] },\n",
       "  \u001b[1m(lo, lo_lm, lm)\u001b[0m={ edge_index=[2, 2] }\n",
       ")"
      ]
     },
     "execution_count": 330,
     "metadata": {},
     "output_type": "execute_result"
    }
   ],
   "source": [
    "data_list[0]"
   ]
  },
  {
   "cell_type": "code",
   "execution_count": 331,
   "id": "6495e9fa-c7dc-4813-b022-3d645956723c",
   "metadata": {},
   "outputs": [],
   "source": [
    "batch=list(loader)[0]"
   ]
  },
  {
   "cell_type": "markdown",
   "id": "2220730e-b887-4234-9f4f-c768d5f6b9c9",
   "metadata": {
    "tags": []
   },
   "source": [
    "## Best \n",
    "hidden_channels=100\n",
    "out_channels=100"
   ]
  },
  {
   "cell_type": "markdown",
   "id": "2cf05107-d2e4-4379-9c91-bb44a743476a",
   "metadata": {},
   "source": [
    "# GNN_Embeddings"
   ]
  },
  {
   "cell_type": "code",
   "execution_count": 493,
   "id": "caf8c8f0-fab1-4e1d-8d57-47de274841f1",
   "metadata": {},
   "outputs": [],
   "source": [
    "hidden_channels=100\n",
    "out_channels=100\n",
    "class GNN_Embeddings(torch.nn.Module):\n",
    "    def __init__(self):\n",
    "        super().__init__()\n",
    "        self.conv1 = SAGEConv((-1, -1), hidden_channels,requires_grad=False)\n",
    "        self.actfn1=nn.ReLU()\n",
    "        \n",
    "        #self.conv2 = SAGEConv((-1, -1), hidden_channels,requires_grad=False)\n",
    "        #self.actfn2=nn.ReLU()\n",
    "        \n",
    "        self.out=nn.Linear(hidden_channels,out_channels)\n",
    "        self.sigmoid=nn.Sigmoid()\n",
    "\n",
    "    def forward(self, x, edge_index):\n",
    "        \n",
    "        # First Message Passing layer\n",
    "        x = self.actfn1(self.conv1(x, edge_index))\n",
    "        x= F.dropout(x,p=.8,training=self.training)\n",
    "        \n",
    "        #x = self.actfn2(self.conv2(x, edge_index))\n",
    "        #x= F.dropout(x,p=.8,training=self.training)\n",
    "        \n",
    "        out=self.out(x)\n",
    "        \n",
    "        return out"
   ]
  },
  {
   "cell_type": "raw",
   "id": "b442b51d-53ec-4308-bb9b-f5987d66c732",
   "metadata": {},
   "source": [
    "model_embedding=GNN_Embeddings()\n",
    "model_embedding = to_hetero(model_embedding, batch.metadata())"
   ]
  },
  {
   "cell_type": "markdown",
   "id": "216c6687-1722-4b04-95be-9652486e4f3e",
   "metadata": {},
   "source": [
    "# LSTM_Model"
   ]
  },
  {
   "cell_type": "code",
   "execution_count": 556,
   "id": "83a59b60-e760-4846-b9e5-c6a3e11643a8",
   "metadata": {},
   "outputs": [],
   "source": [
    "import torch\n",
    "from torch import nn\n",
    "\n",
    "input_dim=out_channels\n",
    "hidden_dim=100\n",
    "output_dim=2\n",
    "\n",
    " \n",
    "class LSTM_Model(nn.Module):\n",
    "    def __init__(self):\n",
    "        super().__init__()\n",
    "        self.lstm = nn.LSTM(input_dim, hidden_dim, num_layers=1, batch_first=True)\n",
    "        self.linear = nn.Linear(hidden_dim, output_dim)\n",
    "        self.sigmoid= nn.Sigmoid()\n",
    "        \n",
    "    def forward(self, x):\n",
    "        batch_size=x.size(0)\n",
    "        #h0=torch.zeros(1,batch_size,hidden_dim)\n",
    "        #c0=torch.zeros(1,batch_size,hidden_dim)\n",
    "        #x, hidden_state = self.lstm(x,(h0,c0))\n",
    "        x, hidden_state = self.lstm(x)\n",
    "        x = self.linear(x[:,-1,:])\n",
    "        x= F.dropout(x,p=.8,training=self.training)\n",
    "        x= self.sigmoid(x)\n",
    "        \n",
    "        return x\n"
   ]
  },
  {
   "cell_type": "code",
   "execution_count": 550,
   "id": "c60734a5-5edc-4f16-9d74-275ed9556a60",
   "metadata": {},
   "outputs": [],
   "source": [
    "class GNNRNN(nn.Module):\n",
    "    def __init__(self):\n",
    "        super(GNNRNN, self).__init__()\n",
    "        \n",
    "        \n",
    "        self.model_embedding=GNN_Embeddings()\n",
    "        self.model_embedding = to_hetero(self.model_embedding, batch.metadata())\n",
    "        self.lstm = LSTM_Model()\n",
    "\n",
    "    def forward(self, x,edges):\n",
    "        node_embeddings = self.model_embedding(x,edges)\n",
    "\n",
    "        # Select the node embeddings for the user node type\n",
    "        user_embeddings = node_embeddings[\"target\"]\n",
    "\n",
    "        # Pass the user embeddings through the RNN\n",
    "        rnn_outputs = self.lstm(user_embeddings)\n",
    "      \n",
    "        return rnn_outputs"
   ]
  },
  {
   "cell_type": "code",
   "execution_count": null,
   "id": "2f3f0eac-6ab6-4c79-9b56-e4a8c518c04b",
   "metadata": {},
   "outputs": [],
   "source": []
  },
  {
   "cell_type": "raw",
   "id": "c86f90d1-ad34-4b40-a360-c16ae8eb27a2",
   "metadata": {},
   "source": [
    "rnn_cl = LSTM_Model()\n",
    "optimizer=torch.optim.Adam(rnn_cl.parameters(),lr=0.01,weight_decay=5e-3)"
   ]
  },
  {
   "cell_type": "raw",
   "id": "0032da93-6d48-4eeb-a68f-fa1b40bccb67",
   "metadata": {},
   "source": [
    "optimizer.zero_grad()\n",
    "# Forward pass\n",
    "outputs = rnn_cl(output1['target'])\n",
    "# Compute loss\n",
    "loss = nn.functional.cross_entropy(outputs, batch['target'].y.view(1,-1)[0])\n",
    "# Backward pass\n",
    "loss.backward()\n",
    "optimizer.step()"
   ]
  },
  {
   "cell_type": "raw",
   "id": "70626d47-64cd-4979-8eac-de14e972c131",
   "metadata": {},
   "source": [
    "outputs.argmax(dim=1)"
   ]
  },
  {
   "cell_type": "code",
   "execution_count": 530,
   "id": "8c16a28a-b366-4c6e-b555-63fb613092fb",
   "metadata": {},
   "outputs": [
    {
     "data": {
      "text/plain": [
       "0.0"
      ]
     },
     "execution_count": 530,
     "metadata": {},
     "output_type": "execute_result"
    }
   ],
   "source": [
    "accuracy"
   ]
  },
  {
   "cell_type": "code",
   "execution_count": 555,
   "id": "bd76eb13-b421-43d6-995e-6f0e37d63e99",
   "metadata": {
    "tags": []
   },
   "outputs": [
    {
     "ename": "RuntimeError",
     "evalue": "For unbatched 2-D input, hx and cx should also be 2-D but got (3-D, 3-D) tensors",
     "output_type": "error",
     "traceback": [
      "\u001b[1;31m---------------------------------------------------------------------------\u001b[0m",
      "\u001b[1;31mRuntimeError\u001b[0m                              Traceback (most recent call last)",
      "Cell \u001b[1;32mIn[555], line 5\u001b[0m\n\u001b[0;32m      2\u001b[0m new_model\u001b[38;5;241m=\u001b[39mGNNRNN()\n\u001b[0;32m      3\u001b[0m new_model\u001b[38;5;241m.\u001b[39mtrain()\n\u001b[1;32m----> 5\u001b[0m \u001b[43mnew_model\u001b[49m\u001b[43m(\u001b[49m\u001b[43mbatch\u001b[49m\u001b[38;5;241;43m.\u001b[39;49m\u001b[43mx_dict\u001b[49m\u001b[43m,\u001b[49m\u001b[43m \u001b[49m\u001b[43mbatch\u001b[49m\u001b[38;5;241;43m.\u001b[39;49m\u001b[43medge_index_dict\u001b[49m\u001b[43m)\u001b[49m\n\u001b[0;32m      6\u001b[0m criterion\u001b[38;5;241m=\u001b[39mtorch\u001b[38;5;241m.\u001b[39mnn\u001b[38;5;241m.\u001b[39mCrossEntropyLoss()\n\u001b[0;32m      7\u001b[0m optimizer\u001b[38;5;241m=\u001b[39mtorch\u001b[38;5;241m.\u001b[39moptim\u001b[38;5;241m.\u001b[39mAdam(new_model\u001b[38;5;241m.\u001b[39mparameters(),lr\u001b[38;5;241m=\u001b[39m\u001b[38;5;241m0.001\u001b[39m,weight_decay\u001b[38;5;241m=\u001b[39m\u001b[38;5;241m5e-12\u001b[39m)\n",
      "File \u001b[1;32m~\\Anaconda3\\lib\\site-packages\\torch\\nn\\modules\\module.py:1130\u001b[0m, in \u001b[0;36mModule._call_impl\u001b[1;34m(self, *input, **kwargs)\u001b[0m\n\u001b[0;32m   1126\u001b[0m \u001b[38;5;66;03m# If we don't have any hooks, we want to skip the rest of the logic in\u001b[39;00m\n\u001b[0;32m   1127\u001b[0m \u001b[38;5;66;03m# this function, and just call forward.\u001b[39;00m\n\u001b[0;32m   1128\u001b[0m \u001b[38;5;28;01mif\u001b[39;00m \u001b[38;5;129;01mnot\u001b[39;00m (\u001b[38;5;28mself\u001b[39m\u001b[38;5;241m.\u001b[39m_backward_hooks \u001b[38;5;129;01mor\u001b[39;00m \u001b[38;5;28mself\u001b[39m\u001b[38;5;241m.\u001b[39m_forward_hooks \u001b[38;5;129;01mor\u001b[39;00m \u001b[38;5;28mself\u001b[39m\u001b[38;5;241m.\u001b[39m_forward_pre_hooks \u001b[38;5;129;01mor\u001b[39;00m _global_backward_hooks\n\u001b[0;32m   1129\u001b[0m         \u001b[38;5;129;01mor\u001b[39;00m _global_forward_hooks \u001b[38;5;129;01mor\u001b[39;00m _global_forward_pre_hooks):\n\u001b[1;32m-> 1130\u001b[0m     \u001b[38;5;28;01mreturn\u001b[39;00m \u001b[43mforward_call\u001b[49m\u001b[43m(\u001b[49m\u001b[38;5;241;43m*\u001b[39;49m\u001b[38;5;28;43minput\u001b[39;49m\u001b[43m,\u001b[49m\u001b[43m \u001b[49m\u001b[38;5;241;43m*\u001b[39;49m\u001b[38;5;241;43m*\u001b[39;49m\u001b[43mkwargs\u001b[49m\u001b[43m)\u001b[49m\n\u001b[0;32m   1131\u001b[0m \u001b[38;5;66;03m# Do not call functions when jit is used\u001b[39;00m\n\u001b[0;32m   1132\u001b[0m full_backward_hooks, non_full_backward_hooks \u001b[38;5;241m=\u001b[39m [], []\n",
      "Cell \u001b[1;32mIn[550], line 17\u001b[0m, in \u001b[0;36mGNNRNN.forward\u001b[1;34m(self, x, edges)\u001b[0m\n\u001b[0;32m     14\u001b[0m user_embeddings \u001b[38;5;241m=\u001b[39m node_embeddings[\u001b[38;5;124m\"\u001b[39m\u001b[38;5;124mtarget\u001b[39m\u001b[38;5;124m\"\u001b[39m]\n\u001b[0;32m     16\u001b[0m \u001b[38;5;66;03m# Pass the user embeddings through the RNN\u001b[39;00m\n\u001b[1;32m---> 17\u001b[0m rnn_outputs \u001b[38;5;241m=\u001b[39m \u001b[38;5;28;43mself\u001b[39;49m\u001b[38;5;241;43m.\u001b[39;49m\u001b[43mlstm\u001b[49m\u001b[43m(\u001b[49m\u001b[43muser_embeddings\u001b[49m\u001b[43m)\u001b[49m\n\u001b[0;32m     19\u001b[0m \u001b[38;5;28;01mreturn\u001b[39;00m rnn_outputs\n",
      "File \u001b[1;32m~\\Anaconda3\\lib\\site-packages\\torch\\nn\\modules\\module.py:1130\u001b[0m, in \u001b[0;36mModule._call_impl\u001b[1;34m(self, *input, **kwargs)\u001b[0m\n\u001b[0;32m   1126\u001b[0m \u001b[38;5;66;03m# If we don't have any hooks, we want to skip the rest of the logic in\u001b[39;00m\n\u001b[0;32m   1127\u001b[0m \u001b[38;5;66;03m# this function, and just call forward.\u001b[39;00m\n\u001b[0;32m   1128\u001b[0m \u001b[38;5;28;01mif\u001b[39;00m \u001b[38;5;129;01mnot\u001b[39;00m (\u001b[38;5;28mself\u001b[39m\u001b[38;5;241m.\u001b[39m_backward_hooks \u001b[38;5;129;01mor\u001b[39;00m \u001b[38;5;28mself\u001b[39m\u001b[38;5;241m.\u001b[39m_forward_hooks \u001b[38;5;129;01mor\u001b[39;00m \u001b[38;5;28mself\u001b[39m\u001b[38;5;241m.\u001b[39m_forward_pre_hooks \u001b[38;5;129;01mor\u001b[39;00m _global_backward_hooks\n\u001b[0;32m   1129\u001b[0m         \u001b[38;5;129;01mor\u001b[39;00m _global_forward_hooks \u001b[38;5;129;01mor\u001b[39;00m _global_forward_pre_hooks):\n\u001b[1;32m-> 1130\u001b[0m     \u001b[38;5;28;01mreturn\u001b[39;00m \u001b[43mforward_call\u001b[49m\u001b[43m(\u001b[49m\u001b[38;5;241;43m*\u001b[39;49m\u001b[38;5;28;43minput\u001b[39;49m\u001b[43m,\u001b[49m\u001b[43m \u001b[49m\u001b[38;5;241;43m*\u001b[39;49m\u001b[38;5;241;43m*\u001b[39;49m\u001b[43mkwargs\u001b[49m\u001b[43m)\u001b[49m\n\u001b[0;32m   1131\u001b[0m \u001b[38;5;66;03m# Do not call functions when jit is used\u001b[39;00m\n\u001b[0;32m   1132\u001b[0m full_backward_hooks, non_full_backward_hooks \u001b[38;5;241m=\u001b[39m [], []\n",
      "Cell \u001b[1;32mIn[528], line 20\u001b[0m, in \u001b[0;36mLSTM_Model.forward\u001b[1;34m(self, x)\u001b[0m\n\u001b[0;32m     18\u001b[0m h0\u001b[38;5;241m=\u001b[39mtorch\u001b[38;5;241m.\u001b[39mzeros(\u001b[38;5;241m1\u001b[39m,batch_size,hidden_dim)\n\u001b[0;32m     19\u001b[0m c0\u001b[38;5;241m=\u001b[39mtorch\u001b[38;5;241m.\u001b[39mzeros(\u001b[38;5;241m1\u001b[39m,batch_size,hidden_dim)\n\u001b[1;32m---> 20\u001b[0m x, hidden_state \u001b[38;5;241m=\u001b[39m \u001b[38;5;28;43mself\u001b[39;49m\u001b[38;5;241;43m.\u001b[39;49m\u001b[43mlstm\u001b[49m\u001b[43m(\u001b[49m\u001b[43mx\u001b[49m\u001b[43m,\u001b[49m\u001b[43m(\u001b[49m\u001b[43mh0\u001b[49m\u001b[43m,\u001b[49m\u001b[43mc0\u001b[49m\u001b[43m)\u001b[49m\u001b[43m)\u001b[49m\n\u001b[0;32m     21\u001b[0m x \u001b[38;5;241m=\u001b[39m \u001b[38;5;28mself\u001b[39m\u001b[38;5;241m.\u001b[39mlinear(x[:,\u001b[38;5;241m-\u001b[39m\u001b[38;5;241m1\u001b[39m,:])\n\u001b[0;32m     22\u001b[0m x\u001b[38;5;241m=\u001b[39m F\u001b[38;5;241m.\u001b[39mdropout(x,p\u001b[38;5;241m=\u001b[39m\u001b[38;5;241m.8\u001b[39m,training\u001b[38;5;241m=\u001b[39m\u001b[38;5;28mself\u001b[39m\u001b[38;5;241m.\u001b[39mtraining)\n",
      "File \u001b[1;32m~\\Anaconda3\\lib\\site-packages\\torch\\nn\\modules\\module.py:1130\u001b[0m, in \u001b[0;36mModule._call_impl\u001b[1;34m(self, *input, **kwargs)\u001b[0m\n\u001b[0;32m   1126\u001b[0m \u001b[38;5;66;03m# If we don't have any hooks, we want to skip the rest of the logic in\u001b[39;00m\n\u001b[0;32m   1127\u001b[0m \u001b[38;5;66;03m# this function, and just call forward.\u001b[39;00m\n\u001b[0;32m   1128\u001b[0m \u001b[38;5;28;01mif\u001b[39;00m \u001b[38;5;129;01mnot\u001b[39;00m (\u001b[38;5;28mself\u001b[39m\u001b[38;5;241m.\u001b[39m_backward_hooks \u001b[38;5;129;01mor\u001b[39;00m \u001b[38;5;28mself\u001b[39m\u001b[38;5;241m.\u001b[39m_forward_hooks \u001b[38;5;129;01mor\u001b[39;00m \u001b[38;5;28mself\u001b[39m\u001b[38;5;241m.\u001b[39m_forward_pre_hooks \u001b[38;5;129;01mor\u001b[39;00m _global_backward_hooks\n\u001b[0;32m   1129\u001b[0m         \u001b[38;5;129;01mor\u001b[39;00m _global_forward_hooks \u001b[38;5;129;01mor\u001b[39;00m _global_forward_pre_hooks):\n\u001b[1;32m-> 1130\u001b[0m     \u001b[38;5;28;01mreturn\u001b[39;00m \u001b[43mforward_call\u001b[49m\u001b[43m(\u001b[49m\u001b[38;5;241;43m*\u001b[39;49m\u001b[38;5;28;43minput\u001b[39;49m\u001b[43m,\u001b[49m\u001b[43m \u001b[49m\u001b[38;5;241;43m*\u001b[39;49m\u001b[38;5;241;43m*\u001b[39;49m\u001b[43mkwargs\u001b[49m\u001b[43m)\u001b[49m\n\u001b[0;32m   1131\u001b[0m \u001b[38;5;66;03m# Do not call functions when jit is used\u001b[39;00m\n\u001b[0;32m   1132\u001b[0m full_backward_hooks, non_full_backward_hooks \u001b[38;5;241m=\u001b[39m [], []\n",
      "File \u001b[1;32m~\\Anaconda3\\lib\\site-packages\\torch\\nn\\modules\\rnn.py:760\u001b[0m, in \u001b[0;36mLSTM.forward\u001b[1;34m(self, input, hx)\u001b[0m\n\u001b[0;32m    757\u001b[0m         \u001b[38;5;28;01mif\u001b[39;00m hx[\u001b[38;5;241m0\u001b[39m]\u001b[38;5;241m.\u001b[39mdim() \u001b[38;5;241m!=\u001b[39m \u001b[38;5;241m2\u001b[39m \u001b[38;5;129;01mor\u001b[39;00m hx[\u001b[38;5;241m1\u001b[39m]\u001b[38;5;241m.\u001b[39mdim() \u001b[38;5;241m!=\u001b[39m \u001b[38;5;241m2\u001b[39m:\n\u001b[0;32m    758\u001b[0m             msg \u001b[38;5;241m=\u001b[39m (\u001b[38;5;124m\"\u001b[39m\u001b[38;5;124mFor unbatched 2-D input, hx and cx should \u001b[39m\u001b[38;5;124m\"\u001b[39m\n\u001b[0;32m    759\u001b[0m                    \u001b[38;5;124mf\u001b[39m\u001b[38;5;124m\"\u001b[39m\u001b[38;5;124malso be 2-D but got (\u001b[39m\u001b[38;5;132;01m{\u001b[39;00mhx[\u001b[38;5;241m0\u001b[39m]\u001b[38;5;241m.\u001b[39mdim()\u001b[38;5;132;01m}\u001b[39;00m\u001b[38;5;124m-D, \u001b[39m\u001b[38;5;132;01m{\u001b[39;00mhx[\u001b[38;5;241m1\u001b[39m]\u001b[38;5;241m.\u001b[39mdim()\u001b[38;5;132;01m}\u001b[39;00m\u001b[38;5;124m-D) tensors\u001b[39m\u001b[38;5;124m\"\u001b[39m)\n\u001b[1;32m--> 760\u001b[0m             \u001b[38;5;28;01mraise\u001b[39;00m \u001b[38;5;167;01mRuntimeError\u001b[39;00m(msg)\n\u001b[0;32m    761\u001b[0m         hx \u001b[38;5;241m=\u001b[39m (hx[\u001b[38;5;241m0\u001b[39m]\u001b[38;5;241m.\u001b[39munsqueeze(\u001b[38;5;241m1\u001b[39m), hx[\u001b[38;5;241m1\u001b[39m]\u001b[38;5;241m.\u001b[39munsqueeze(\u001b[38;5;241m1\u001b[39m))\n\u001b[0;32m    763\u001b[0m \u001b[38;5;66;03m# Each batch of the hidden state should match the input sequence that\u001b[39;00m\n\u001b[0;32m    764\u001b[0m \u001b[38;5;66;03m# the user believes he/she is passing in.\u001b[39;00m\n",
      "\u001b[1;31mRuntimeError\u001b[0m: For unbatched 2-D input, hx and cx should also be 2-D but got (3-D, 3-D) tensors"
     ]
    }
   ],
   "source": [
    "hidden_state=None\n",
    "new_model=GNNRNN()\n",
    "new_model.train()\n",
    "\n",
    "new_model(batch.x_dict, batch.edge_index_dict)\n",
    "criterion=torch.nn.CrossEntropyLoss()\n",
    "optimizer=torch.optim.Adam(new_model.parameters(),lr=0.001,weight_decay=5e-12)\n",
    "#,weight_decay=5e-12\n",
    "loss_list=[]\n",
    "accuracy_list=[]\n",
    "\n",
    "for epoch in range(100):\n",
    "    epoch_accuracy=[]\n",
    "    epoch_loss=[]\n",
    "    hidden_state=None\n",
    "    for batch_num, batch in enumerate(data_list):\n",
    "        new_model.train()\n",
    "        \n",
    "        optimizer.zero_grad()   \n",
    "        out=new_model(batch.x_dict, batch.edge_index_dict) \n",
    "\n",
    "        loss=criterion(out, batch['target'].y.view(1,-1)[0])\n",
    "        loss.backward()\n",
    "        optimizer.step()\n",
    "        train_correct=out.argmax(dim=1)==batch['target'].y.view(1,-1)[0]\n",
    "        train_acc=train_correct*1\n",
    "        accuracy=(sum(train_correct*1)/train_correct.shape[0]).item()\n",
    "        \n",
    "        epoch_accuracy.append(accuracy)\n",
    "        if batch_num%5==0:\n",
    "            model_performace='epoch : {} | batch : {} | loss : {:.5f} | accuracy : {:.3f}'.format(epoch+1,batch_num,loss.item(),accuracy)\n",
    "            ic(model_performace)\n",
    "        loss_list.append(loss.item())\n",
    "        accuracy_list.append(accuracy)\n",
    "        epoch_loss.append(loss.item())\n",
    "    epoch_performance=f'accuracy : {np.mean(epoch_accuracy)} | loss : {np.mean(epoch_loss)}'\n",
    "    ic(epoch,epoch_performance)\n"
   ]
  },
  {
   "cell_type": "code",
   "execution_count": 554,
   "id": "6ea45cfa-3099-4ab0-a39e-6dbd0487bec8",
   "metadata": {},
   "outputs": [],
   "source": [
    "for batch_num, batch in enumerate(data_list):\n",
    "    pass"
   ]
  },
  {
   "cell_type": "raw",
   "id": "2084235c-23f9-4145-90a3-aa792b55a320",
   "metadata": {},
   "source": [
    "plt.figure(figsize=(10,7))\n",
    "mvg_steps=1000\n",
    "loss_moving_avg=[]\n",
    "for i in range(len(loss_list)-mvg_steps):\n",
    "    loss_moving_avg.append(np.mean(loss_list[i:i+mvg_steps]))\n",
    "plt.grid()\n",
    "#plt.plot(loss_list)\n",
    "plt.plot(loss_moving_avg)\n"
   ]
  },
  {
   "cell_type": "raw",
   "id": "162f5097-7f10-46b4-99e1-9c5e29a87a8a",
   "metadata": {},
   "source": [
    "acc_moving_avg=[]\n",
    "\n",
    "for i in range(len(accuracy_list)-mvg_steps):\n",
    "    acc_moving_avg.append(np.mean(accuracy_list[i:i+mvg_steps]))\n",
    "#plt.plot(accuracy_list)\n",
    "plt.plot(acc_moving_avg)\n",
    "plt.grid()"
   ]
  },
  {
   "cell_type": "raw",
   "id": "90bee91c-d4af-4681-8431-0d9834576de4",
   "metadata": {},
   "source": [
    "model_name='model_'+f\"{datetime.datetime.now().strftime('%Y-%m-%d-%H-%M-%S')}\""
   ]
  },
  {
   "cell_type": "raw",
   "id": "4c7a56b9-abce-476e-a7b7-8b9cf7f879c5",
   "metadata": {},
   "source": [
    "#torch.save(new_model.state_dict(), model_name)\n"
   ]
  },
  {
   "cell_type": "raw",
   "id": "8527b390-797f-45bf-879b-7c10601732c9",
   "metadata": {},
   "source": [
    "test_accuracy=[]\n",
    "new_model.eval()\n",
    "test_target_list=[]\n",
    "test_out_list=[]\n",
    "for test_data in tqdm(test_data_list):\n",
    "    out=new_model(test_data.x_dict, test_data.edge_index_dict) \n",
    "    test_correct=out.argmax(dim=1)==test_data['target'].y.view(1,-1)[0]\n",
    "    test_acc=test_correct*1\n",
    "    accuracy=(sum(test_acc*1)/test_acc.shape[0]).item()\n",
    "    test_accuracy.append(accuracy)\n",
    "    test_target_list.append(test_data['target'].y.view(1,-1)[0].item())\n",
    "    test_out_list.append(out.argmax(dim=1).item())\n",
    "print(np.mean(test_accuracy))\n",
    "print(roc_auc_score(test_target_list,test_out_list))"
   ]
  },
  {
   "cell_type": "code",
   "execution_count": null,
   "id": "99795912-7a98-4d08-b8b7-0b8a143f5072",
   "metadata": {},
   "outputs": [],
   "source": []
  },
  {
   "cell_type": "markdown",
   "id": "6dd36c03-bd77-4441-92e5-9d1afcf88750",
   "metadata": {},
   "source": [
    "# GNNRNN_2"
   ]
  },
  {
   "cell_type": "code",
   "execution_count": 531,
   "id": "5eb82a4a-1b76-4cac-a907-a862bd6fd03c",
   "metadata": {},
   "outputs": [],
   "source": [
    "class GNNRNN_2(nn.Module):\n",
    "    def __init__(self):\n",
    "        super(GNNRNN_2, self).__init__()\n",
    "        \n",
    "        \n",
    "        self.model_embedding=GNN_Embeddings()\n",
    "        self.model_embedding = to_hetero(self.model_embedding, batch[0].metadata())\n",
    "        self.lstm = LSTM_Model()\n",
    "\n",
    "    def forward(self, data):\n",
    "        target_embeddings_list=[]\n",
    "        \n",
    "        for i in data:\n",
    "            node_embeddings = self.model_embedding(i.x_dict, i.edge_index_dict)\n",
    "            target_embeddings = node_embeddings[\"target\"]\n",
    "            target_embeddings_list.append(target_embeddings)\n",
    "        # Select the node embeddings for the user node type        \n",
    "        stacked_tensor=torch.stack(target_embeddings_list,dim=0)\n",
    "        reshaped=stacked_tensor.permute(1,0,2).float()\n",
    "        # Pass the user embeddings through the RNN\n",
    "        rnn_outputs = self.lstm(reshaped)\n",
    "      \n",
    "        return rnn_outputs,target_embeddings_list"
   ]
  },
  {
   "cell_type": "code",
   "execution_count": 532,
   "id": "c887d9f5-2fa7-4199-8d1a-7c7f2d195fcf",
   "metadata": {},
   "outputs": [],
   "source": [
    "train_data=data_list[int(len(data_list)*.8):]\n",
    "train_data_list=[]\n",
    "\n",
    "sequnce_length=3\n",
    "for i in range(len(train_data)-sequnce_length):\n",
    "    train_data_list.append(train_data[i:i+sequnce_length])\n",
    "    "
   ]
  },
  {
   "cell_type": "markdown",
   "id": "17bfa5d4-c532-40d0-b78c-505e585282ec",
   "metadata": {},
   "source": [
    "# Model 2"
   ]
  },
  {
   "cell_type": "code",
   "execution_count": 533,
   "id": "1fc41d91-0422-452e-b7c1-f5c13282a954",
   "metadata": {
    "tags": []
   },
   "outputs": [
    {
     "name": "stderr",
     "output_type": "stream",
     "text": [
      "2023-10-19 14:54:52 |3085715892.py:33 in <module>\n",
      "                     model_performace: 'epoch : 1 | batch : 25 | avg_running_loss : 0.02894 | accuracy : 0.000'\n",
      "2023-10-19 14:54:53 |3085715892.py:33 in <module>\n",
      "                     model_performace: 'epoch : 1 | batch : 50 | avg_running_loss : 0.02773 | accuracy : 1.000'\n",
      "2023-10-19 14:54:54 |3085715892.py:33 in <module>\n",
      "                     model_performace: 'epoch : 1 | batch : 75 | avg_running_loss : 0.02773 | accuracy : 0.000'\n",
      "2023-10-19 14:54:56 |3085715892.py:33 in <module>\n",
      "                     model_performace: 'epoch : 1 | batch : 100 | avg_running_loss : 0.02252 | accuracy : 1.000'\n",
      "2023-10-19 14:54:58 |3085715892.py:33 in <module>\n",
      "                     model_performace: 'epoch : 1 | batch : 125 | avg_running_loss : 0.03334 | accuracy : 0.000'\n",
      "2023-10-19 14:55:01 |3085715892.py:33 in <module>\n",
      "                     model_performace: 'epoch : 1 | batch : 150 | avg_running_loss : 0.02948 | accuracy : 0.000'\n",
      "2023-10-19 14:55:03 |3085715892.py:33 in <module>\n",
      "                     model_performace: 'epoch : 1 | batch : 175 | avg_running_loss : 0.02370 | accuracy : 1.000'\n",
      "2023-10-19 14:55:04 |3085715892.py:33 in <module>\n",
      "                     model_performace: 'epoch : 1 | batch : 200 | avg_running_loss : 0.02531 | accuracy : 1.000'\n",
      "2023-10-19 14:55:06 |3085715892.py:33 in <module>\n",
      "                     model_performace: 'epoch : 1 | batch : 225 | avg_running_loss : 0.02383 | accuracy : 1.000'\n",
      "2023-10-19 14:55:07 |3085715892.py:39 in <module>\n",
      "                     epoch: 0\n",
      "                     epoch_performance: 'accuracy : 0.48945147679324896 | loss : 0.6948285535418032'\n",
      "2023-10-19 14:55:10 |3085715892.py:33 in <module>\n",
      "                     model_performace: 'epoch : 2 | batch : 25 | avg_running_loss : 0.02773 | accuracy : 1.000'\n",
      "2023-10-19 14:55:11 |3085715892.py:33 in <module>\n",
      "                     model_performace: 'epoch : 2 | batch : 50 | avg_running_loss : 0.02773 | accuracy : 1.000'\n",
      "2023-10-19 14:55:12 |3085715892.py:33 in <module>\n",
      "                     model_performace: 'epoch : 2 | batch : 75 | avg_running_loss : 0.01975 | accuracy : 1.000'\n",
      "2023-10-19 14:55:14 |3085715892.py:33 in <module>\n",
      "                     model_performace: 'epoch : 2 | batch : 100 | avg_running_loss : 0.02773 | accuracy : 0.000'\n",
      "2023-10-19 14:55:16 |3085715892.py:33 in <module>\n",
      "                     model_performace: 'epoch : 2 | batch : 125 | avg_running_loss : 0.02773 | accuracy : 1.000'\n",
      "2023-10-19 14:55:19 |3085715892.py:33 in <module>\n",
      "                     model_performace: 'epoch : 2 | batch : 150 | avg_running_loss : 0.02773 | accuracy : 1.000'\n",
      "2023-10-19 14:55:22 |3085715892.py:33 in <module>\n",
      "                     model_performace: 'epoch : 2 | batch : 175 | avg_running_loss : 0.02773 | accuracy : 0.000'\n",
      "2023-10-19 14:55:25 |3085715892.py:33 in <module>\n",
      "                     model_performace: 'epoch : 2 | batch : 200 | avg_running_loss : 0.02711 | accuracy : 1.000'\n",
      "2023-10-19 14:55:27 |3085715892.py:33 in <module>\n",
      "                     model_performace: 'epoch : 2 | batch : 225 | avg_running_loss : 0.02773 | accuracy : 0.000'\n",
      "2023-10-19 14:55:28 |3085715892.py:39 in <module>\n",
      "                     epoch: 1\n",
      "                     epoch_performance: 'accuracy : 0.48945147679324896 | loss : 0.6933614127495118'\n",
      "2023-10-19 14:55:30 |3085715892.py:33 in <module>\n",
      "                     model_performace: 'epoch : 3 | batch : 25 | avg_running_loss : 0.02773 | accuracy : 1.000'\n",
      "2023-10-19 14:55:31 |3085715892.py:33 in <module>\n",
      "                     model_performace: 'epoch : 3 | batch : 50 | avg_running_loss : 0.03204 | accuracy : 0.000'\n",
      "2023-10-19 14:55:33 |3085715892.py:33 in <module>\n",
      "                     model_performace: 'epoch : 3 | batch : 75 | avg_running_loss : 0.02773 | accuracy : 0.000'\n",
      "2023-10-19 14:55:34 |3085715892.py:33 in <module>\n",
      "                     model_performace: 'epoch : 3 | batch : 100 | avg_running_loss : 0.02155 | accuracy : 1.000'\n",
      "2023-10-19 14:55:36 |3085715892.py:33 in <module>\n",
      "                     model_performace: 'epoch : 3 | batch : 125 | avg_running_loss : 0.02773 | accuracy : 1.000'\n",
      "2023-10-19 14:55:37 |3085715892.py:33 in <module>\n",
      "                     model_performace: 'epoch : 3 | batch : 150 | avg_running_loss : 0.02773 | accuracy : 1.000'\n",
      "2023-10-19 14:55:38 |3085715892.py:33 in <module>\n",
      "                     model_performace: 'epoch : 3 | batch : 175 | avg_running_loss : 0.02773 | accuracy : 0.000'\n",
      "2023-10-19 14:55:39 |3085715892.py:33 in <module>\n",
      "                     model_performace: 'epoch : 3 | batch : 200 | avg_running_loss : 0.02499 | accuracy : 1.000'\n",
      "2023-10-19 14:55:41 |3085715892.py:33 in <module>\n",
      "                     model_performace: 'epoch : 3 | batch : 225 | avg_running_loss : 0.01742 | accuracy : 1.000'\n",
      "2023-10-19 14:55:42 |3085715892.py:39 in <module>\n",
      "                     epoch: 2\n",
      "                     epoch_performance: 'accuracy : 0.540084388185654 | loss : 0.681155829112741'\n",
      "2023-10-19 14:55:44 |3085715892.py:33 in <module>\n",
      "                     model_performace: 'epoch : 4 | batch : 25 | avg_running_loss : 0.03864 | accuracy : 0.000'\n",
      "2023-10-19 14:55:45 |3085715892.py:33 in <module>\n",
      "                     model_performace: 'epoch : 4 | batch : 50 | avg_running_loss : 0.03583 | accuracy : 0.000'\n",
      "2023-10-19 14:55:47 |3085715892.py:33 in <module>\n",
      "                     model_performace: 'epoch : 4 | batch : 75 | avg_running_loss : 0.02773 | accuracy : 0.000'\n",
      "2023-10-19 14:55:50 |3085715892.py:33 in <module>\n",
      "                     model_performace: 'epoch : 4 | batch : 100 | avg_running_loss : 0.01925 | accuracy : 1.000'\n",
      "2023-10-19 14:55:52 |3085715892.py:33 in <module>\n",
      "                     model_performace: 'epoch : 4 | batch : 125 | avg_running_loss : 0.04860 | accuracy : 0.000'\n",
      "2023-10-19 14:55:54 |3085715892.py:33 in <module>\n",
      "                     model_performace: 'epoch : 4 | batch : 150 | avg_running_loss : 0.02773 | accuracy : 1.000'\n",
      "2023-10-19 14:55:55 |3085715892.py:33 in <module>\n",
      "                     model_performace: 'epoch : 4 | batch : 175 | avg_running_loss : 0.02773 | accuracy : 0.000'\n",
      "2023-10-19 14:55:57 |3085715892.py:33 in <module>\n",
      "                     model_performace: 'epoch : 4 | batch : 200 | avg_running_loss : 0.02773 | accuracy : 0.000'\n",
      "2023-10-19 14:55:58 |3085715892.py:33 in <module>\n",
      "                     model_performace: 'epoch : 4 | batch : 225 | avg_running_loss : 0.02040 | accuracy : 1.000'\n",
      "2023-10-19 14:55:58 |3085715892.py:39 in <module>\n",
      "                     epoch: 3\n",
      "                     epoch_performance: 'accuracy : 0.4936708860759494 | loss : 0.6930821905156228'\n",
      "2023-10-19 14:56:00 |3085715892.py:33 in <module>\n",
      "                     model_performace: 'epoch : 5 | batch : 25 | avg_running_loss : 0.03753 | accuracy : 0.000'\n",
      "2023-10-19 14:56:03 |3085715892.py:33 in <module>\n",
      "                     model_performace: 'epoch : 5 | batch : 50 | avg_running_loss : 0.02773 | accuracy : 1.000'\n",
      "2023-10-19 14:56:04 |3085715892.py:33 in <module>\n",
      "                     model_performace: 'epoch : 5 | batch : 75 | avg_running_loss : 0.02773 | accuracy : 0.000'\n",
      "2023-10-19 14:56:06 |3085715892.py:33 in <module>\n",
      "                     model_performace: 'epoch : 5 | batch : 100 | avg_running_loss : 0.02773 | accuracy : 0.000'\n",
      "2023-10-19 14:56:07 |3085715892.py:33 in <module>\n",
      "                     model_performace: 'epoch : 5 | batch : 125 | avg_running_loss : 0.03400 | accuracy : 0.000'\n",
      "2023-10-19 14:56:09 |3085715892.py:33 in <module>\n",
      "                     model_performace: 'epoch : 5 | batch : 150 | avg_running_loss : 0.03696 | accuracy : 0.000'\n",
      "2023-10-19 14:56:10 |3085715892.py:33 in <module>\n",
      "                     model_performace: 'epoch : 5 | batch : 175 | avg_running_loss : 0.02773 | accuracy : 0.000'\n",
      "2023-10-19 14:56:12 |3085715892.py:33 in <module>\n",
      "                     model_performace: 'epoch : 5 | batch : 200 | avg_running_loss : 0.02773 | accuracy : 0.000'\n",
      "2023-10-19 14:56:14 |3085715892.py:33 in <module>\n",
      "                     model_performace: 'epoch : 5 | batch : 225 | avg_running_loss : 0.02773 | accuracy : 0.000'\n",
      "2023-10-19 14:56:15 |3085715892.py:39 in <module>\n",
      "                     epoch: 4\n",
      "                     epoch_performance: 'accuracy : 0.5063291139240507 | loss : 0.6912560493131227'\n",
      "2023-10-19 14:56:16 |3085715892.py:33 in <module>\n",
      "                     model_performace: 'epoch : 6 | batch : 25 | avg_running_loss : 0.02773 | accuracy : 1.000'\n",
      "2023-10-19 14:56:18 |3085715892.py:33 in <module>\n",
      "                     model_performace: 'epoch : 6 | batch : 50 | avg_running_loss : 0.03530 | accuracy : 0.000'\n",
      "2023-10-19 14:56:19 |3085715892.py:33 in <module>\n",
      "                     model_performace: 'epoch : 6 | batch : 75 | avg_running_loss : 0.02258 | accuracy : 1.000'\n",
      "2023-10-19 14:56:21 |3085715892.py:33 in <module>\n",
      "                     model_performace: 'epoch : 6 | batch : 100 | avg_running_loss : 0.02773 | accuracy : 0.000'\n",
      "2023-10-19 14:56:22 |3085715892.py:33 in <module>\n",
      "                     model_performace: 'epoch : 6 | batch : 125 | avg_running_loss : 0.02773 | accuracy : 1.000'\n",
      "2023-10-19 14:56:24 |3085715892.py:33 in <module>\n",
      "                     model_performace: 'epoch : 6 | batch : 150 | avg_running_loss : 0.03789 | accuracy : 0.000'\n",
      "2023-10-19 14:56:25 |3085715892.py:33 in <module>\n",
      "                     model_performace: 'epoch : 6 | batch : 175 | avg_running_loss : 0.02358 | accuracy : 1.000'\n",
      "2023-10-19 14:56:27 |3085715892.py:33 in <module>\n",
      "                     model_performace: 'epoch : 6 | batch : 200 | avg_running_loss : 0.02773 | accuracy : 0.000'\n",
      "2023-10-19 14:56:28 |3085715892.py:33 in <module>\n",
      "                     model_performace: 'epoch : 6 | batch : 225 | avg_running_loss : 0.02372 | accuracy : 1.000'\n",
      "2023-10-19 14:56:29 |3085715892.py:39 in <module>\n",
      "                     epoch: 5\n",
      "                     epoch_performance: 'accuracy : 0.5021097046413502 | loss : 0.690712587239873'\n",
      "2023-10-19 14:56:31 |3085715892.py:33 in <module>\n",
      "                     model_performace: 'epoch : 7 | batch : 25 | avg_running_loss : 0.02773 | accuracy : 1.000'\n",
      "2023-10-19 14:56:32 |3085715892.py:33 in <module>\n",
      "                     model_performace: 'epoch : 7 | batch : 50 | avg_running_loss : 0.02773 | accuracy : 1.000'\n",
      "2023-10-19 14:56:33 |3085715892.py:33 in <module>\n",
      "                     model_performace: 'epoch : 7 | batch : 75 | avg_running_loss : 0.01947 | accuracy : 1.000'\n",
      "2023-10-19 14:56:34 |3085715892.py:33 in <module>\n",
      "                     model_performace: 'epoch : 7 | batch : 100 | avg_running_loss : 0.02773 | accuracy : 0.000'\n",
      "2023-10-19 14:56:35 |3085715892.py:33 in <module>\n",
      "                     model_performace: 'epoch : 7 | batch : 125 | avg_running_loss : 0.02773 | accuracy : 1.000'\n",
      "2023-10-19 14:56:37 |3085715892.py:33 in <module>\n",
      "                     model_performace: 'epoch : 7 | batch : 150 | avg_running_loss : 0.02773 | accuracy : 1.000'\n",
      "2023-10-19 14:56:38 |3085715892.py:33 in <module>\n",
      "                     model_performace: 'epoch : 7 | batch : 175 | avg_running_loss : 0.02033 | accuracy : 1.000'\n",
      "2023-10-19 14:56:39 |3085715892.py:33 in <module>\n",
      "                     model_performace: 'epoch : 7 | batch : 200 | avg_running_loss : 0.02773 | accuracy : 0.000'\n",
      "2023-10-19 14:56:40 |3085715892.py:33 in <module>\n",
      "                     model_performace: 'epoch : 7 | batch : 225 | avg_running_loss : 0.02773 | accuracy : 0.000'\n",
      "2023-10-19 14:56:41 |3085715892.py:39 in <module>\n",
      "                     epoch: 6\n",
      "                     epoch_performance: 'accuracy : 0.5232067510548524 | loss : 0.6860108899919293'\n",
      "2023-10-19 14:56:43 |3085715892.py:33 in <module>\n",
      "                     model_performace: 'epoch : 8 | batch : 25 | avg_running_loss : 0.02773 | accuracy : 1.000'\n",
      "2023-10-19 14:56:44 |3085715892.py:33 in <module>\n",
      "                     model_performace: 'epoch : 8 | batch : 50 | avg_running_loss : 0.03163 | accuracy : 0.000'\n",
      "2023-10-19 14:56:49 |3085715892.py:33 in <module>\n",
      "                     model_performace: 'epoch : 8 | batch : 75 | avg_running_loss : 0.02773 | accuracy : 0.000'\n",
      "2023-10-19 14:56:52 |3085715892.py:33 in <module>\n",
      "                     model_performace: 'epoch : 8 | batch : 100 | avg_running_loss : 0.02025 | accuracy : 1.000'\n",
      "2023-10-19 14:56:54 |3085715892.py:33 in <module>\n",
      "                     model_performace: 'epoch : 8 | batch : 125 | avg_running_loss : 0.02773 | accuracy : 1.000'\n",
      "2023-10-19 14:56:56 |3085715892.py:33 in <module>\n",
      "                     model_performace: 'epoch : 8 | batch : 150 | avg_running_loss : 0.02773 | accuracy : 1.000'\n",
      "2023-10-19 14:56:57 |3085715892.py:33 in <module>\n",
      "                     model_performace: 'epoch : 8 | batch : 175 | avg_running_loss : 0.02773 | accuracy : 0.000'\n",
      "2023-10-19 14:56:58 |3085715892.py:33 in <module>\n",
      "                     model_performace: 'epoch : 8 | batch : 200 | avg_running_loss : 0.02773 | accuracy : 0.000'\n",
      "2023-10-19 14:57:00 |3085715892.py:33 in <module>\n",
      "                     model_performace: 'epoch : 8 | batch : 225 | avg_running_loss : 0.02773 | accuracy : 0.000'\n",
      "2023-10-19 14:57:01 |3085715892.py:39 in <module>\n",
      "                     epoch: 7\n",
      "                     epoch_performance: 'accuracy : 0.45569620253164556 | loss : 0.6952807927181952'\n",
      "2023-10-19 14:57:02 |3085715892.py:33 in <module>\n",
      "                     model_performace: 'epoch : 9 | batch : 25 | avg_running_loss : 0.02773 | accuracy : 1.000'\n",
      "2023-10-19 14:57:04 |3085715892.py:33 in <module>\n",
      "                     model_performace: 'epoch : 9 | batch : 50 | avg_running_loss : 0.03272 | accuracy : 0.000'\n",
      "2023-10-19 14:57:05 |3085715892.py:33 in <module>\n",
      "                     model_performace: 'epoch : 9 | batch : 75 | avg_running_loss : 0.02773 | accuracy : 0.000'\n",
      "2023-10-19 14:57:06 |3085715892.py:33 in <module>\n",
      "                     model_performace: 'epoch : 9 | batch : 100 | avg_running_loss : 0.02773 | accuracy : 0.000'\n",
      "2023-10-19 14:57:08 |3085715892.py:33 in <module>\n",
      "                     model_performace: 'epoch : 9 | batch : 125 | avg_running_loss : 0.03757 | accuracy : 0.000'\n",
      "2023-10-19 14:57:09 |3085715892.py:33 in <module>\n",
      "                     model_performace: 'epoch : 9 | batch : 150 | avg_running_loss : 0.02773 | accuracy : 1.000'\n",
      "2023-10-19 14:57:10 |3085715892.py:33 in <module>\n",
      "                     model_performace: 'epoch : 9 | batch : 175 | avg_running_loss : 0.02773 | accuracy : 0.000'\n",
      "2023-10-19 14:57:12 |3085715892.py:33 in <module>\n",
      "                     model_performace: 'epoch : 9 | batch : 200 | avg_running_loss : 0.02773 | accuracy : 0.000'\n",
      "2023-10-19 14:57:13 |3085715892.py:33 in <module>\n",
      "                     model_performace: 'epoch : 9 | batch : 225 | avg_running_loss : 0.02773 | accuracy : 0.000'\n",
      "2023-10-19 14:57:14 |3085715892.py:39 in <module>\n",
      "                     epoch: 8\n",
      "                     epoch_performance: 'accuracy : 0.47257383966244726 | loss : 0.6981243112670721'\n",
      "2023-10-19 14:57:15 |3085715892.py:33 in <module>\n",
      "                     model_performace: 'epoch : 10 | batch : 25 | avg_running_loss : 0.02773 | accuracy : 1.000'\n",
      "2023-10-19 14:57:16 |3085715892.py:33 in <module>\n",
      "                     model_performace: 'epoch : 10 | batch : 50 | avg_running_loss : 0.02773 | accuracy : 1.000'\n",
      "2023-10-19 14:57:17 |3085715892.py:33 in <module>\n",
      "                     model_performace: 'epoch : 10 | batch : 75 | avg_running_loss : 0.02773 | accuracy : 0.000'\n",
      "2023-10-19 14:57:19 |3085715892.py:33 in <module>\n",
      "                     model_performace: 'epoch : 10 | batch : 100 | avg_running_loss : 0.01931 | accuracy : 1.000'\n",
      "2023-10-19 14:57:21 |3085715892.py:33 in <module>\n",
      "                     model_performace: 'epoch : 10 | batch : 125 | avg_running_loss : 0.02773 | accuracy : 1.000'\n",
      "2023-10-19 14:57:22 |3085715892.py:33 in <module>\n",
      "                     model_performace: 'epoch : 10 | batch : 150 | avg_running_loss : 0.02773 | accuracy : 1.000'\n",
      "2023-10-19 14:57:23 |3085715892.py:33 in <module>\n",
      "                     model_performace: 'epoch : 10 | batch : 175 | avg_running_loss : 0.02773 | accuracy : 0.000'\n",
      "2023-10-19 14:57:24 |3085715892.py:33 in <module>\n",
      "                     model_performace: 'epoch : 10 | batch : 200 | avg_running_loss : 0.02165 | accuracy : 1.000'\n",
      "2023-10-19 14:57:26 |3085715892.py:33 in <module>\n",
      "                     model_performace: 'epoch : 10 | batch : 225 | avg_running_loss : 0.02758 | accuracy : 1.000'\n",
      "2023-10-19 14:57:27 |3085715892.py:39 in <module>\n",
      "                     epoch: 9\n",
      "                     epoch_performance: 'accuracy : 0.5063291139240507 | loss : 0.6883480903468554'\n"
     ]
    }
   ],
   "source": [
    "\n",
    "new_model_2=GNNRNN_2()\n",
    "new_model_2.train()\n",
    "\n",
    "#new_model_2(batch.x_dict, batch.edge_index_dict)\n",
    "criterion=torch.nn.CrossEntropyLoss()\n",
    "optimizer=torch.optim.Adam(new_model_2.parameters(),lr=0.001,weight_decay=5e-12)\n",
    "#,weight_decay=5e-12\n",
    "loss_list=[]\n",
    "accuracy_list=[]\n",
    "\n",
    "for epoch in range(10):\n",
    "    epoch_accuracy=[]\n",
    "    epoch_loss=[]\n",
    "    hidden_state=None\n",
    "    running_loss=0\n",
    "    for batch_num, batch in enumerate(train_data_list):\n",
    "        new_model_2.train()\n",
    "        \n",
    "        optimizer.zero_grad()   \n",
    "        out,target_embeddings_list=new_model_2(batch) \n",
    "        out=out.float()\n",
    "        target_y=batch[-1]['target'].y.view(1,-1)[0]\n",
    "        loss=criterion(out, target_y)\n",
    "        loss.backward()\n",
    "        optimizer.step()\n",
    "        train_correct=out.argmax(dim=1)==target_y\n",
    "        train_acc=train_correct*1\n",
    "        accuracy=(sum(train_correct*1)/train_correct.shape[0]).item()\n",
    "        running_loss  =+loss.item()\n",
    "        epoch_accuracy.append(accuracy)\n",
    "        if (batch_num+1)%25==0:\n",
    "            model_performace='epoch : {} | batch : {} | avg_running_loss : {:.5f} | accuracy : {:.3f}'.format(epoch+1,batch_num+1,running_loss/25,accuracy)\n",
    "            ic(model_performace)\n",
    "            running_loss=0\n",
    "        loss_list.append(loss.item())\n",
    "        accuracy_list.append(accuracy)\n",
    "        epoch_loss.append(loss.item())\n",
    "    epoch_performance=f'accuracy : {np.mean(epoch_accuracy)} | loss : {np.mean(epoch_loss)}'\n",
    "    ic(epoch,epoch_performance)\n"
   ]
  },
  {
   "cell_type": "code",
   "execution_count": 534,
   "id": "b9d084b3-ef2d-4d82-9864-7c68a92f0a4d",
   "metadata": {},
   "outputs": [],
   "source": [
    "\n",
    "stacked_tensor=torch.stack(target_embeddings_list,dim=0)\n",
    "reshaped=stacked_tensor.permute(1,0,2).float()"
   ]
  },
  {
   "cell_type": "code",
   "execution_count": 535,
   "id": "c718c55a-a1ec-4345-9559-71aeb5cfed57",
   "metadata": {},
   "outputs": [
    {
     "data": {
      "text/plain": [
       "torch.Size([1, 3, 10])"
      ]
     },
     "execution_count": 535,
     "metadata": {},
     "output_type": "execute_result"
    }
   ],
   "source": [
    "reshaped.shape"
   ]
  },
  {
   "cell_type": "code",
   "execution_count": 536,
   "id": "63adc8d7-ada8-4346-a482-bf02b25718d8",
   "metadata": {},
   "outputs": [
    {
     "data": {
      "text/plain": [
       "tensor([[1],\n",
       "        [0],\n",
       "        [0]])"
      ]
     },
     "execution_count": 536,
     "metadata": {},
     "output_type": "execute_result"
    }
   ],
   "source": [
    "torch.tensor([i['target'].y.view(1,-1)[0].item()  for i in batch]).view(-1,1)"
   ]
  },
  {
   "cell_type": "code",
   "execution_count": 537,
   "id": "7b7e59c6-52fc-446c-b84f-9a7efff39b43",
   "metadata": {},
   "outputs": [
    {
     "data": {
      "text/plain": [
       "tensor([0])"
      ]
     },
     "execution_count": 537,
     "metadata": {},
     "output_type": "execute_result"
    }
   ],
   "source": [
    "target_y"
   ]
  },
  {
   "cell_type": "code",
   "execution_count": 547,
   "id": "2a893614-0325-498a-833b-fbd18d3c5f52",
   "metadata": {},
   "outputs": [
    {
     "data": {
      "text/plain": [
       "[<matplotlib.lines.Line2D at 0x1bc09f51d60>]"
      ]
     },
     "execution_count": 547,
     "metadata": {},
     "output_type": "execute_result"
    },
    {
     "data": {
      "image/png": "[encoded data removed]",
      "text/plain": [
       "<Figure size 1000x700 with 1 Axes>"
      ]
     },
     "metadata": {},
     "output_type": "display_data"
    }
   ],
   "source": [
    "plt.figure(figsize=(10,7))\n",
    "mvg_steps=1000\n",
    "loss_moving_avg=[]\n",
    "for i in range(len(loss_list)-mvg_steps):\n",
    "    loss_moving_avg.append(np.mean(loss_list[i:i+mvg_steps]))\n",
    "plt.grid()\n",
    "plt.plot(loss_list)\n",
    "plt.plot(loss_moving_avg)\n"
   ]
  },
  {
   "cell_type": "code",
   "execution_count": 546,
   "id": "cc663f6f-5fe0-4049-816d-aeee9b4f167c",
   "metadata": {},
   "outputs": [
    {
     "data": {
      "image/png": "[encoded data removed]",
      "text/plain": [
       "<Figure size 1600x700 with 1 Axes>"
      ]
     },
     "metadata": {},
     "output_type": "display_data"
    }
   ],
   "source": [
    "acc_moving_avg=[]\n",
    "plt.figure(figsize=(16,7))\n",
    "for i in range(len(accuracy_list)-mvg_steps):\n",
    "    acc_moving_avg.append(np.mean(accuracy_list[i:i+mvg_steps]))\n",
    "plt.scatter(list(range(len(accuracy_list))),accuracy_list)\n",
    "#plt.plot(acc_moving_avg)\n",
    "plt.grid()"
   ]
  },
  {
   "cell_type": "code",
   "execution_count": null,
   "id": "0a66ea8c-9d26-4a77-9d8a-a36dd412f01b",
   "metadata": {},
   "outputs": [],
   "source": [
    "out"
   ]
  },
  {
   "cell_type": "code",
   "execution_count": null,
   "id": "e1d82607-3b74-4a4c-a6d2-13ee497987c5",
   "metadata": {},
   "outputs": [],
   "source": [
    "torch.randn(3, 5).softmax(dim=1)"
   ]
  },
  {
   "cell_type": "code",
   "execution_count": null,
   "id": "7b799a8a-9a45-4615-98fd-79d153a065d9",
   "metadata": {},
   "outputs": [],
   "source": [
    "new_model_2"
   ]
  },
  {
   "cell_type": "code",
   "execution_count": 557,
   "id": "3ac013c6-de1d-47c2-b52c-7bda01ecd4b3",
   "metadata": {},
   "outputs": [
    {
     "data": {
      "text/plain": [
       "tensor([[ 0.0179, -1.1625],\n",
       "        [-0.3680, -0.2130],\n",
       "        [ 0.8267,  0.5195]], requires_grad=True)"
      ]
     },
     "execution_count": 557,
     "metadata": {},
     "output_type": "execute_result"
    }
   ],
   "source": [
    "torch.randn(3, 2, requires_grad=True)"
   ]
  },
  {
   "cell_type": "code",
   "execution_count": null,
   "id": "eac7d981-f45f-41aa-9c79-4f554679e661",
   "metadata": {},
   "outputs": [],
   "source": []
  }
 ],
 "metadata": {
  "kernelspec": {
   "display_name": "Python 3 (ipykernel)",
   "language": "python",
   "name": "python3"
  },
  "language_info": {
   "codemirror_mode": {
    "name": "ipython",
    "version": 3
   },
   "file_extension": ".py",
   "mimetype": "text/x-python",
   "name": "python",
   "nbconvert_exporter": "python",
   "pygments_lexer": "ipython3",
   "version": "3.8.3"
  }
 },
 "nbformat": 4,
 "nbformat_minor": 5
}
