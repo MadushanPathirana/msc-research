{
 "cells": [
  {
   "cell_type": "code",
   "execution_count": 2,
   "id": "0a45b206-f11e-4108-9637-3429d9659028",
   "metadata": {},
   "outputs": [],
   "source": [
    "class User():    \n",
    "    def user_dataset(df,user):  \n",
    "        df[df.user_id==user].correct.value_counts()\n",
    "    \n",
    "        df['correctBinary']=df.correct*1\n",
    "    \n",
    "        df.atom_id=df.atom_id.astype(str)\n",
    "    \n",
    "        userDf=df[df.user_id==user]\n",
    "    \n",
    "        userDf=userDf.sort_values(by='interaction_end_time')\n",
    "    \n",
    "        atomIndex={atom:i for i,atom in enumerate( userDf.atom_id)}\n",
    "    \n",
    "        #loIndex={lo:i for i,lo in enumerate( userDf.learning_objective_name.unique())}\n",
    "    \n",
    "        #userDf['loIndex']=userDf['learning_objective_name'].apply(lambda x: loIndex[x])\n",
    "        userDf['atomIndex']=np.arange(userDf.shape[0])\n",
    "    \n",
    "        atomsPerLO=userDf.groupby('loIndex')['atom_id'].count().to_dict()\n",
    "        userDf['atomsPerLO']=userDf['loIndex'].apply(lambda x: atomsPerLO[x])\n",
    "    \n",
    "        edgeMap=userDf[['loIndex','atomIndex']]\n",
    "    \n",
    "        y=userDf.correctBinary.astype(int).to_numpy()\n",
    "    \n",
    "        #loMapping=df2[(df2.source_lo_title.isin(loIndex.keys())) | (df2.dest_lo_title.isin(loIndex.keys()))]\n",
    "    \n",
    "        #loMapping['source_index']=loMapping.source_lo_title.map(loIndex)\n",
    "        #loMapping['dest_index']=loMapping.dest_lo_title.map(loIndex)\n",
    "    \n",
    "        #loEdgeMapping=loMapping[['source_index','dest_index']].reset_index(drop=True)\n",
    "    \n",
    "        #loEdgeIndex=loEdgeMapping.values.transpose()\n",
    "    \n",
    "        loAtomEdgeIndex=edgeMap.values.transpose()\n",
    "    \n",
    "        atomAtom=edgeMap.reset_index(drop=True)[['atomIndex']]\n",
    "    \n",
    "        atomAtom['nextAtom']=atomAtom.atomIndex.shift(-1)\n",
    "    \n",
    "        atomAtom=atomAtom.dropna()\n",
    "    \n",
    "        atomEdgeIndex=atomAtom.values.transpose()\n",
    "    \n",
    "        atomFeatures=userDf.difficulty.to_numpy().reshape(-1,1)\n",
    "    \n",
    "        loFeatures=np.array(list(atomsPerLO.values())).reshape(-1,1)\n",
    "        return  atomFeatures,loFeatures,loAtomEdgeIndex,atomEdgeIndex,y"
   ]
  },
  {
   "cell_type": "code",
   "execution_count": null,
   "id": "92d50a62-4bca-4911-9134-73d908ebdfba",
   "metadata": {},
   "outputs": [],
   "source": []
  }
 ],
 "metadata": {
  "kernelspec": {
   "display_name": "Python 3 (ipykernel)",
   "language": "python",
   "name": "python3"
  },
  "language_info": {
   "codemirror_mode": {
    "name": "ipython",
    "version": 3
   },
   "file_extension": ".py",
   "mimetype": "text/x-python",
   "name": "python",
   "nbconvert_exporter": "python",
   "pygments_lexer": "ipython3",
   "version": "3.8.3"
  }
 },
 "nbformat": 4,
 "nbformat_minor": 5
}
