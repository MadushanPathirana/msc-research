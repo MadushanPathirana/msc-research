{
 "cells": [
  {
   "cell_type": "code",
   "execution_count": 6,
   "id": "f2c435ef-6fe3-4cdf-9747-908c5c7fc585",
   "metadata": {},
   "outputs": [],
   "source": [
    "import logging\n",
    "import sys\n",
    "import datetime\n",
    "import pickle\n",
    "from icecream import ic\n",
    "from tqdm import tqdm\n",
    "from sklearn.decomposition import PCA\n",
    "import seaborn as sns"
   ]
  },
  {
   "cell_type": "code",
   "execution_count": 79,
   "id": "74020f55-a597-41bb-9594-c49c9407aefb",
   "metadata": {},
   "outputs": [],
   "source": [
    "from torch.utils.data import TensorDataset"
   ]
  },
  {
   "cell_type": "code",
   "execution_count": 7,
   "id": "34545487-c665-4d48-a2ec-edb19312f6b2",
   "metadata": {
    "tags": []
   },
   "outputs": [],
   "source": [
    "import pandas as pd\n",
    "import numpy as np\n",
    "import networkx as nx\n",
    "import matplotlib.pyplot as plt;\n",
    "np.random.seed(42);\n",
    "from sklearn.metrics import roc_auc_score;"
   ]
  },
  {
   "cell_type": "code",
   "execution_count": 8,
   "id": "57d86d38-7714-4d23-ae6f-f2894fe1b24b",
   "metadata": {},
   "outputs": [],
   "source": [
    "from sklearn.metrics import roc_auc_score;\n",
    "from sklearn.metrics import classification_report;"
   ]
  },
  {
   "cell_type": "code",
   "execution_count": 9,
   "id": "26d464ef-3f12-44d3-b76d-673f63b349c9",
   "metadata": {},
   "outputs": [],
   "source": [
    "pd.set_option('display.max_columns', None);"
   ]
  },
  {
   "cell_type": "code",
   "execution_count": 10,
   "id": "c275b42d-bed6-44b3-b25b-8d93ffb670b5",
   "metadata": {},
   "outputs": [],
   "source": [
    "df=pd.read_pickle('appmath.pkl')[['graph_id', 'user_id', \n",
    "       'goal_id',\n",
    "        'interaction_end_time',\n",
    "       'learning_objective_name', 'atom_id', \n",
    "       'correct', 'time_spent_answering_s', 'time_spent_on_instruction_s',\n",
    "       'goal_progress',\n",
    "       'target_status_and_progress', 'prev_concept_narrative',\n",
    "       'duration_s', 'is_target']]  "
   ]
  },
  {
   "cell_type": "code",
   "execution_count": null,
   "id": "2693b672-973d-4160-8b98-685abc4dc88a",
   "metadata": {},
   "outputs": [],
   "source": []
  },
  {
   "cell_type": "code",
   "execution_count": 11,
   "id": "bea12206-dd4d-4a04-8d7e-452847896292",
   "metadata": {},
   "outputs": [],
   "source": [
    "df2=pd.read_csv('prereq_edges.csv')"
   ]
  },
  {
   "cell_type": "code",
   "execution_count": 12,
   "id": "4870c8d9-8275-44b1-b44b-b9963d094211",
   "metadata": {},
   "outputs": [],
   "source": [
    "G=nx.Graph()\n",
    "\n",
    "for _,i in df2.iterrows():    \n",
    "       \n",
    "        G.add_edge(i['source_lo_title'],i['dest_lo_title'])\n",
    "        \n",
    "subgraphs=[G.subgraph(i) for i in nx.connected_components(G)]\n",
    "\n",
    "for num,sub in enumerate(subgraphs):\n",
    "    \n",
    "    nx.set_node_attributes(sub,num,'subGraphId')\n",
    "\n",
    "nodeSubGraphId={}\n",
    "for g in subgraphs:\n",
    "    for node in g.nodes(data=True):\n",
    "         nodeSubGraphId[node[0]]= node[1]['subGraphId']\n",
    "            \n",
    "subgraphsNodeCountDict={ num: g.number_of_nodes() for num,g in  enumerate(subgraphs)}"
   ]
  },
  {
   "cell_type": "code",
   "execution_count": 13,
   "id": "a6c8719a-fab1-4196-acc4-e165af836ce6",
   "metadata": {},
   "outputs": [],
   "source": [
    "for col in df.columns:\n",
    "    if df[col].dtype.name=='category':\n",
    "        df[col]=df[col].astype(str)"
   ]
  },
  {
   "cell_type": "code",
   "execution_count": 14,
   "id": "73f26f0b-9978-4def-8004-595c9f6517b2",
   "metadata": {},
   "outputs": [],
   "source": [
    "df['loGraphID']=df.learning_objective_name.apply(lambda x: nodeSubGraphId.get(x) )"
   ]
  },
  {
   "cell_type": "code",
   "execution_count": 15,
   "id": "4e427aad-3eca-41b8-be76-a7537b060b71",
   "metadata": {},
   "outputs": [],
   "source": [
    "difficulty=df[~df.correct.isna()].groupby('atom_id')['correct'].mean().reset_index().rename(columns={'correct':'difficulty'})\n",
    "df=df.merge(difficulty,how='left',on='atom_id')"
   ]
  },
  {
   "cell_type": "code",
   "execution_count": 16,
   "id": "a1dab688-5428-40ac-8118-311b91cbb109",
   "metadata": {},
   "outputs": [],
   "source": [
    "lo_difficulty=df[~df.correct.isna()].groupby('learning_objective_name')['correct'].mean().reset_index().rename(columns={'correct':'lo_difficulty'})\n",
    "df=df.merge(lo_difficulty,how='left',on='learning_objective_name')\n"
   ]
  },
  {
   "cell_type": "code",
   "execution_count": null,
   "id": "14d483b0-11df-4898-a817-e767b0dc3df5",
   "metadata": {},
   "outputs": [],
   "source": []
  },
  {
   "cell_type": "code",
   "execution_count": 17,
   "id": "7b86048f-578b-4224-9473-3232a5701f11",
   "metadata": {},
   "outputs": [],
   "source": [
    "def atomClassifier(x):\n",
    "    if x==None:\n",
    "        return 'learningMaterial'\n",
    "    else:\n",
    "        return 'question'"
   ]
  },
  {
   "cell_type": "code",
   "execution_count": 18,
   "id": "87610521-7fba-48d6-aeac-1811fb01de86",
   "metadata": {
    "tags": []
   },
   "outputs": [],
   "source": [
    "df['atom_type']=df.correct.apply(lambda x:atomClassifier(x) )"
   ]
  },
  {
   "cell_type": "code",
   "execution_count": 19,
   "id": "500de9a3-0e73-4b0d-8750-daaa37ff3c3f",
   "metadata": {},
   "outputs": [],
   "source": [
    "df['correctBinary']=df.correct*1\n",
    "df.atom_id=df.atom_id.astype(str)\n"
   ]
  },
  {
   "cell_type": "code",
   "execution_count": 20,
   "id": "8bc2a1fc-522b-49ba-8173-b12a4aee0cf8",
   "metadata": {},
   "outputs": [],
   "source": [
    "df=df[~df.correctBinary.isna()]"
   ]
  },
  {
   "cell_type": "code",
   "execution_count": 21,
   "id": "2d4f1011-a714-4da2-86f2-4026ab4d7c34",
   "metadata": {},
   "outputs": [],
   "source": [
    "df2['graph_id']=df2.apply(lambda x: nodeSubGraphId.get(x['source_lo_title']) if nodeSubGraphId.get(x['source_lo_title'])!=None else nodeSubGraphId.get(x['dest_lo_title']),axis=1)"
   ]
  },
  {
   "cell_type": "code",
   "execution_count": null,
   "id": "5dd0e95a-406e-4f2f-b32c-622e322b84bd",
   "metadata": {},
   "outputs": [],
   "source": []
  },
  {
   "cell_type": "code",
   "execution_count": 22,
   "id": "2cc84cba-6974-4446-881a-18260e8f01e7",
   "metadata": {},
   "outputs": [],
   "source": [
    "unique_lo_graph_id_dic={}\n",
    "for i in df2.graph_id.unique():\n",
    "    unique_lo=np.unique(np.concatenate((df2[df2.graph_id==i]['source_lo_title'].unique(),((df2[df2.graph_id==i]['dest_lo_title'].unique())))))\n",
    "    unique_lo_graph_id_dic[i]={ item:int(num)  for  num,item in enumerate(unique_lo)}\n",
    "    df2.loc[df2.graph_id==i,'source_index' ]=df2.apply(lambda x: unique_lo_graph_id_dic.get(i).get(x['source_lo_title']),axis=1)\n",
    "    df2.loc[df2.graph_id==i,'dest_index' ]=df2.apply(lambda x: unique_lo_graph_id_dic.get(i).get(x['dest_lo_title']),axis=1)"
   ]
  },
  {
   "cell_type": "code",
   "execution_count": null,
   "id": "9424aa73-1688-46b2-9248-5ea057e5f32f",
   "metadata": {},
   "outputs": [],
   "source": []
  },
  {
   "cell_type": "code",
   "execution_count": 23,
   "id": "d0847797-9329-4ea9-a075-d6cc665a3d93",
   "metadata": {},
   "outputs": [],
   "source": [
    "df2.source_index=df2.source_index.astype(int)\n",
    "df2.dest_index=df2.dest_index.astype(int)"
   ]
  },
  {
   "cell_type": "code",
   "execution_count": null,
   "id": "279436e4-32ca-4a25-b131-1694a59e9138",
   "metadata": {},
   "outputs": [],
   "source": []
  },
  {
   "cell_type": "code",
   "execution_count": 24,
   "id": "286e06b8-4f74-4dca-8376-a98d1b84a5f9",
   "metadata": {},
   "outputs": [],
   "source": [
    "df=df[~df.loGraphID.isna()]"
   ]
  },
  {
   "cell_type": "code",
   "execution_count": 25,
   "id": "9e648a90-3003-4fb4-a828-ff6909f48abe",
   "metadata": {},
   "outputs": [],
   "source": [
    "#df['loIndex']=df.apply(lambda x: unique_lo_graph_id_dic[x['loGraphID']].get(x['learning_objective_name'] ),axis=1)"
   ]
  },
  {
   "cell_type": "code",
   "execution_count": 26,
   "id": "1f9ac69a-8012-442d-ac48-c39e4230752a",
   "metadata": {},
   "outputs": [
    {
     "data": {
      "text/plain": [
       "source_lo_id                    eda7ab6a-8070-4fd8-8387-da17a40fd99e\n",
       "dest_lo_id                      eda7ab6a-8070-4fd8-8387-da17a40fd99e\n",
       "source_lo_title    Write biconditional statements in symbolic for...\n",
       "dest_lo_title      Write biconditional statements in symbolic for...\n",
       "graph_id                                                           3\n",
       "source_index                                                      30\n",
       "dest_index                                                        30\n",
       "dtype: object"
      ]
     },
     "execution_count": 26,
     "metadata": {},
     "output_type": "execute_result"
    }
   ],
   "source": [
    "df2[df2.graph_id==3].max()"
   ]
  },
  {
   "cell_type": "code",
   "execution_count": 27,
   "id": "93033318-79e7-4569-8e9b-764e2a855046",
   "metadata": {},
   "outputs": [],
   "source": [
    "summary=df.pivot_table(index='goal_id',aggfunc={'learning_objective_name':pd.Series.nunique,'atom_id':pd.Series.nunique,'user_id':pd.Series.nunique,'interaction_end_time':np.count_nonzero})"
   ]
  },
  {
   "cell_type": "code",
   "execution_count": 28,
   "id": "3fb473fd-c5c8-47d7-aa25-0ce3c7bfa0bd",
   "metadata": {},
   "outputs": [],
   "source": [
    "summary['atom_usage']=summary.interaction_end_time/summary.atom_id"
   ]
  },
  {
   "cell_type": "code",
   "execution_count": 29,
   "id": "181cd1f5-008f-4c74-ba24-5db54a124fc1",
   "metadata": {},
   "outputs": [
    {
     "data": {
      "text/html": [
       "<div>\n",
       "<style scoped>\n",
       "    .dataframe tbody tr th:only-of-type {\n",
       "        vertical-align: middle;\n",
       "    }\n",
       "\n",
       "    .dataframe tbody tr th {\n",
       "        vertical-align: top;\n",
       "    }\n",
       "\n",
       "    .dataframe thead th {\n",
       "        text-align: right;\n",
       "    }\n",
       "</style>\n",
       "<table border=\"1\" class=\"dataframe\">\n",
       "  <thead>\n",
       "    <tr style=\"text-align: right;\">\n",
       "      <th></th>\n",
       "      <th>atom_id</th>\n",
       "      <th>interaction_end_time</th>\n",
       "      <th>learning_objective_name</th>\n",
       "      <th>user_id</th>\n",
       "      <th>atom_usage</th>\n",
       "    </tr>\n",
       "    <tr>\n",
       "      <th>goal_id</th>\n",
       "      <th></th>\n",
       "      <th></th>\n",
       "      <th></th>\n",
       "      <th></th>\n",
       "      <th></th>\n",
       "    </tr>\n",
       "  </thead>\n",
       "  <tbody>\n",
       "    <tr>\n",
       "      <th>39f38cfd-d153-4fcf-950e-5c1b2bfbeaaa</th>\n",
       "      <td>72</td>\n",
       "      <td>8793</td>\n",
       "      <td>3</td>\n",
       "      <td>289</td>\n",
       "      <td>122.125000</td>\n",
       "    </tr>\n",
       "    <tr>\n",
       "      <th>d252b7df-6a57-46ff-b4c3-e21d26d80b6a</th>\n",
       "      <td>82</td>\n",
       "      <td>9887</td>\n",
       "      <td>5</td>\n",
       "      <td>253</td>\n",
       "      <td>120.573171</td>\n",
       "    </tr>\n",
       "    <tr>\n",
       "      <th>cd26c1cb-87ad-4b57-bdeb-7e8811827e39</th>\n",
       "      <td>59</td>\n",
       "      <td>5764</td>\n",
       "      <td>3</td>\n",
       "      <td>194</td>\n",
       "      <td>97.694915</td>\n",
       "    </tr>\n",
       "    <tr>\n",
       "      <th>86940cba-2a55-43a6-8f51-248afca9952d</th>\n",
       "      <td>26</td>\n",
       "      <td>1974</td>\n",
       "      <td>1</td>\n",
       "      <td>291</td>\n",
       "      <td>75.923077</td>\n",
       "    </tr>\n",
       "    <tr>\n",
       "      <th>caacf0e3-8698-4806-8ce8-a45d8f75b587</th>\n",
       "      <td>59</td>\n",
       "      <td>4396</td>\n",
       "      <td>3</td>\n",
       "      <td>240</td>\n",
       "      <td>74.508475</td>\n",
       "    </tr>\n",
       "    <tr>\n",
       "      <th>12b7f97f-18be-4a9e-9384-866a036631d4</th>\n",
       "      <td>103</td>\n",
       "      <td>7107</td>\n",
       "      <td>5</td>\n",
       "      <td>260</td>\n",
       "      <td>69.000000</td>\n",
       "    </tr>\n",
       "    <tr>\n",
       "      <th>9059c88d-ccdd-42dd-a19f-fe7c9bafd6aa</th>\n",
       "      <td>47</td>\n",
       "      <td>3236</td>\n",
       "      <td>2</td>\n",
       "      <td>255</td>\n",
       "      <td>68.851064</td>\n",
       "    </tr>\n",
       "    <tr>\n",
       "      <th>46e93a47-9de8-4982-82ec-6e3acb911c54</th>\n",
       "      <td>116</td>\n",
       "      <td>7116</td>\n",
       "      <td>6</td>\n",
       "      <td>240</td>\n",
       "      <td>61.344828</td>\n",
       "    </tr>\n",
       "    <tr>\n",
       "      <th>917d2bb2-451f-4f65-8eec-7a8125c9a596</th>\n",
       "      <td>39</td>\n",
       "      <td>2220</td>\n",
       "      <td>2</td>\n",
       "      <td>140</td>\n",
       "      <td>56.923077</td>\n",
       "    </tr>\n",
       "    <tr>\n",
       "      <th>ebb614bf-c45c-4b77-a5f7-168e4569b280</th>\n",
       "      <td>32</td>\n",
       "      <td>1782</td>\n",
       "      <td>2</td>\n",
       "      <td>119</td>\n",
       "      <td>55.687500</td>\n",
       "    </tr>\n",
       "  </tbody>\n",
       "</table>\n",
       "</div>"
      ],
      "text/plain": [
       "                                      atom_id  interaction_end_time  \\\n",
       "goal_id                                                               \n",
       "39f38cfd-d153-4fcf-950e-5c1b2bfbeaaa       72                  8793   \n",
       "d252b7df-6a57-46ff-b4c3-e21d26d80b6a       82                  9887   \n",
       "cd26c1cb-87ad-4b57-bdeb-7e8811827e39       59                  5764   \n",
       "86940cba-2a55-43a6-8f51-248afca9952d       26                  1974   \n",
       "caacf0e3-8698-4806-8ce8-a45d8f75b587       59                  4396   \n",
       "12b7f97f-18be-4a9e-9384-866a036631d4      103                  7107   \n",
       "9059c88d-ccdd-42dd-a19f-fe7c9bafd6aa       47                  3236   \n",
       "46e93a47-9de8-4982-82ec-6e3acb911c54      116                  7116   \n",
       "917d2bb2-451f-4f65-8eec-7a8125c9a596       39                  2220   \n",
       "ebb614bf-c45c-4b77-a5f7-168e4569b280       32                  1782   \n",
       "\n",
       "                                      learning_objective_name  user_id  \\\n",
       "goal_id                                                                  \n",
       "39f38cfd-d153-4fcf-950e-5c1b2bfbeaaa                        3      289   \n",
       "d252b7df-6a57-46ff-b4c3-e21d26d80b6a                        5      253   \n",
       "cd26c1cb-87ad-4b57-bdeb-7e8811827e39                        3      194   \n",
       "86940cba-2a55-43a6-8f51-248afca9952d                        1      291   \n",
       "caacf0e3-8698-4806-8ce8-a45d8f75b587                        3      240   \n",
       "12b7f97f-18be-4a9e-9384-866a036631d4                        5      260   \n",
       "9059c88d-ccdd-42dd-a19f-fe7c9bafd6aa                        2      255   \n",
       "46e93a47-9de8-4982-82ec-6e3acb911c54                        6      240   \n",
       "917d2bb2-451f-4f65-8eec-7a8125c9a596                        2      140   \n",
       "ebb614bf-c45c-4b77-a5f7-168e4569b280                        2      119   \n",
       "\n",
       "                                      atom_usage  \n",
       "goal_id                                           \n",
       "39f38cfd-d153-4fcf-950e-5c1b2bfbeaaa  122.125000  \n",
       "d252b7df-6a57-46ff-b4c3-e21d26d80b6a  120.573171  \n",
       "cd26c1cb-87ad-4b57-bdeb-7e8811827e39   97.694915  \n",
       "86940cba-2a55-43a6-8f51-248afca9952d   75.923077  \n",
       "caacf0e3-8698-4806-8ce8-a45d8f75b587   74.508475  \n",
       "12b7f97f-18be-4a9e-9384-866a036631d4   69.000000  \n",
       "9059c88d-ccdd-42dd-a19f-fe7c9bafd6aa   68.851064  \n",
       "46e93a47-9de8-4982-82ec-6e3acb911c54   61.344828  \n",
       "917d2bb2-451f-4f65-8eec-7a8125c9a596   56.923077  \n",
       "ebb614bf-c45c-4b77-a5f7-168e4569b280   55.687500  "
      ]
     },
     "execution_count": 29,
     "metadata": {},
     "output_type": "execute_result"
    }
   ],
   "source": [
    "summary.sort_values('atom_usage',ascending=False).head(10)"
   ]
  },
  {
   "cell_type": "code",
   "execution_count": null,
   "id": "23a922a7-34a5-4b92-84cc-888bb28625cf",
   "metadata": {},
   "outputs": [],
   "source": []
  },
  {
   "cell_type": "code",
   "execution_count": null,
   "id": "bad7795a-941a-4d7f-bb6d-6d436932dd34",
   "metadata": {},
   "outputs": [],
   "source": []
  },
  {
   "cell_type": "code",
   "execution_count": 31,
   "id": "b640b5b3-6ec2-4184-a8bb-fb4982769ef4",
   "metadata": {},
   "outputs": [],
   "source": [
    "loGraphID=3\n",
    "user=df[df.loGraphID==loGraphID].user_id.sample(1).values\n",
    "\n",
    "dfg=df[(df.loGraphID==loGraphID) & (df.user_id.isin(user)) ].reset_index(drop=True)"
   ]
  },
  {
   "cell_type": "code",
   "execution_count": 32,
   "id": "0f31d59c-d3f7-43e6-8012-160ea095e2ff",
   "metadata": {},
   "outputs": [],
   "source": [
    "dfg=dfg.sort_values(['user_id','interaction_end_time'])"
   ]
  },
  {
   "cell_type": "code",
   "execution_count": 33,
   "id": "7b08eaa4-c28f-4410-bf2c-3aa3211b7504",
   "metadata": {},
   "outputs": [],
   "source": [
    "atom_index={atom_id:i for i,atom_id  in  enumerate(dfg.atom_id.unique())}"
   ]
  },
  {
   "cell_type": "code",
   "execution_count": 34,
   "id": "3b77c3bf-4759-4008-9214-13ebc0f7325d",
   "metadata": {},
   "outputs": [],
   "source": [
    "dfg['atomIndex']=dfg.atom_id.map(atom_index)"
   ]
  },
  {
   "cell_type": "code",
   "execution_count": 35,
   "id": "abd7a2ce-716a-4251-9fa1-d2fd076ffd4e",
   "metadata": {},
   "outputs": [],
   "source": [
    "loEdgeMapping=df2[df2['graph_id']==loGraphID][['source_index','dest_index']]\n",
    "lo_edges=loEdgeMapping.values.transpose()"
   ]
  },
  {
   "cell_type": "code",
   "execution_count": 36,
   "id": "605a2bac-7a98-4f6f-a657-626e3d1bce95",
   "metadata": {},
   "outputs": [],
   "source": [
    "lo_map=pd.concat([df2[df2['graph_id']==loGraphID][['source_lo_title','source_index']].rename(columns={'source_lo_title':'learning_objective_name','source_index':'loIndex'}),df2[df2['graph_id']==loGraphID][['dest_lo_title','dest_index']].rename(columns={'dest_lo_title':'learning_objective_name','dest_index':'loIndex'})]).drop_duplicates().reset_index(drop=True)"
   ]
  },
  {
   "cell_type": "code",
   "execution_count": null,
   "id": "acd867ea-5c4c-41aa-85fb-918c46975bfc",
   "metadata": {},
   "outputs": [],
   "source": []
  },
  {
   "cell_type": "code",
   "execution_count": 37,
   "id": "dda9f9ca-956a-4c67-bcbb-55762a1ecf64",
   "metadata": {},
   "outputs": [],
   "source": [
    "dfg['atomIndex']=dfg.atom_id.map(atom_index)"
   ]
  },
  {
   "cell_type": "code",
   "execution_count": 38,
   "id": "d1edc182-77a3-4968-927c-e64a4f68e4ce",
   "metadata": {},
   "outputs": [],
   "source": [
    "#loIndex={lo:i for i,lo in enumerate( dfg.learning_objective_name.unique())}\n",
    "#dfg['loIndex']=dfg['learning_objective_name'].apply(lambda x: loIndex[x])"
   ]
  },
  {
   "cell_type": "code",
   "execution_count": 39,
   "id": "80c5cacc-5dcb-4722-a1bf-985449eb29ea",
   "metadata": {},
   "outputs": [],
   "source": [
    "dfg=dfg.merge(lo_map,on='learning_objective_name',how='left')"
   ]
  },
  {
   "cell_type": "code",
   "execution_count": 40,
   "id": "7df530d7-0456-4180-b8e1-f20e5c6cf6d7",
   "metadata": {},
   "outputs": [
    {
     "data": {
      "text/html": [
       "<div>\n",
       "<style scoped>\n",
       "    .dataframe tbody tr th:only-of-type {\n",
       "        vertical-align: middle;\n",
       "    }\n",
       "\n",
       "    .dataframe tbody tr th {\n",
       "        vertical-align: top;\n",
       "    }\n",
       "\n",
       "    .dataframe thead th {\n",
       "        text-align: right;\n",
       "    }\n",
       "</style>\n",
       "<table border=\"1\" class=\"dataframe\">\n",
       "  <thead>\n",
       "    <tr style=\"text-align: right;\">\n",
       "      <th></th>\n",
       "      <th>graph_id</th>\n",
       "      <th>user_id</th>\n",
       "      <th>goal_id</th>\n",
       "      <th>interaction_end_time</th>\n",
       "      <th>learning_objective_name</th>\n",
       "      <th>atom_id</th>\n",
       "      <th>correct</th>\n",
       "      <th>time_spent_answering_s</th>\n",
       "      <th>time_spent_on_instruction_s</th>\n",
       "      <th>goal_progress</th>\n",
       "      <th>target_status_and_progress</th>\n",
       "      <th>prev_concept_narrative</th>\n",
       "      <th>duration_s</th>\n",
       "      <th>is_target</th>\n",
       "      <th>loGraphID</th>\n",
       "      <th>difficulty</th>\n",
       "      <th>lo_difficulty</th>\n",
       "      <th>atom_type</th>\n",
       "      <th>correctBinary</th>\n",
       "      <th>atomIndex</th>\n",
       "      <th>loIndex</th>\n",
       "    </tr>\n",
       "  </thead>\n",
       "  <tbody>\n",
       "    <tr>\n",
       "      <th>0</th>\n",
       "      <td>076e1a0e-669c-40c4-a23c-7ac2bbaa05cf</td>\n",
       "      <td>730a7838-991b-4fd0-a553-443047a67277</td>\n",
       "      <td>3e9e4078-e256-4d8b-9414-207f32eb91f3</td>\n",
       "      <td>2022-09-02 00:52:04.940</td>\n",
       "      <td>Solve an application problem by applying Polya...</td>\n",
       "      <td>c2571c28-c337-4831-aecb-3e1d78acaeca</td>\n",
       "      <td>False</td>\n",
       "      <td>707.533020</td>\n",
       "      <td>25.230000</td>\n",
       "      <td>0.007847</td>\n",
       "      <td>{'9e0aedd2-281b-46c5-8024-b8af3fa00cef': {'pro...</td>\n",
       "      <td>NONE</td>\n",
       "      <td>732.763000</td>\n",
       "      <td>True</td>\n",
       "      <td>3.0</td>\n",
       "      <td>0.951754</td>\n",
       "      <td>0.593100</td>\n",
       "      <td>question</td>\n",
       "      <td>0</td>\n",
       "      <td>0</td>\n",
       "      <td>27</td>\n",
       "    </tr>\n",
       "    <tr>\n",
       "      <th>1</th>\n",
       "      <td>076e1a0e-669c-40c4-a23c-7ac2bbaa05cf</td>\n",
       "      <td>730a7838-991b-4fd0-a553-443047a67277</td>\n",
       "      <td>3e9e4078-e256-4d8b-9414-207f32eb91f3</td>\n",
       "      <td>2022-09-02 00:55:03.343</td>\n",
       "      <td>Solve an application problem by applying Polya...</td>\n",
       "      <td>7cae6bd4-3130-4862-af34-60f8dde81549</td>\n",
       "      <td>True</td>\n",
       "      <td>174.817001</td>\n",
       "      <td>3.585000</td>\n",
       "      <td>0.132514</td>\n",
       "      <td>{'9e0aedd2-281b-46c5-8024-b8af3fa00cef': {'pro...</td>\n",
       "      <td>NONE</td>\n",
       "      <td>178.402008</td>\n",
       "      <td>True</td>\n",
       "      <td>3.0</td>\n",
       "      <td>0.801762</td>\n",
       "      <td>0.593100</td>\n",
       "      <td>question</td>\n",
       "      <td>1</td>\n",
       "      <td>1</td>\n",
       "      <td>27</td>\n",
       "    </tr>\n",
       "    <tr>\n",
       "      <th>2</th>\n",
       "      <td>076e1a0e-669c-40c4-a23c-7ac2bbaa05cf</td>\n",
       "      <td>730a7838-991b-4fd0-a553-443047a67277</td>\n",
       "      <td>3e9e4078-e256-4d8b-9414-207f32eb91f3</td>\n",
       "      <td>2022-09-02 01:05:13.907</td>\n",
       "      <td>Solve an application problem by applying Polya...</td>\n",
       "      <td>48ce9017-cd13-48d3-bf31-d48fa5d9a811</td>\n",
       "      <td>True</td>\n",
       "      <td>352.446991</td>\n",
       "      <td>3.236000</td>\n",
       "      <td>0.366208</td>\n",
       "      <td>{'9e0aedd2-281b-46c5-8024-b8af3fa00cef': {'pro...</td>\n",
       "      <td>nan</td>\n",
       "      <td>355.682983</td>\n",
       "      <td>True</td>\n",
       "      <td>3.0</td>\n",
       "      <td>0.763889</td>\n",
       "      <td>0.593100</td>\n",
       "      <td>question</td>\n",
       "      <td>1</td>\n",
       "      <td>2</td>\n",
       "      <td>27</td>\n",
       "    </tr>\n",
       "    <tr>\n",
       "      <th>3</th>\n",
       "      <td>076e1a0e-669c-40c4-a23c-7ac2bbaa05cf</td>\n",
       "      <td>730a7838-991b-4fd0-a553-443047a67277</td>\n",
       "      <td>3e9e4078-e256-4d8b-9414-207f32eb91f3</td>\n",
       "      <td>2022-09-02 01:15:44.174</td>\n",
       "      <td>Solve an application problem by applying Polya...</td>\n",
       "      <td>dbc04c07-a056-4bf5-8ffa-4a15e9dcf382</td>\n",
       "      <td>True</td>\n",
       "      <td>626.796997</td>\n",
       "      <td>3.219000</td>\n",
       "      <td>0.791904</td>\n",
       "      <td>{'9e0aedd2-281b-46c5-8024-b8af3fa00cef': {'pro...</td>\n",
       "      <td>DIRECT_PRE_TEST</td>\n",
       "      <td>630.015991</td>\n",
       "      <td>True</td>\n",
       "      <td>3.0</td>\n",
       "      <td>0.436782</td>\n",
       "      <td>0.593100</td>\n",
       "      <td>question</td>\n",
       "      <td>1</td>\n",
       "      <td>3</td>\n",
       "      <td>27</td>\n",
       "    </tr>\n",
       "    <tr>\n",
       "      <th>4</th>\n",
       "      <td>076e1a0e-669c-40c4-a23c-7ac2bbaa05cf</td>\n",
       "      <td>730a7838-991b-4fd0-a553-443047a67277</td>\n",
       "      <td>3e9e4078-e256-4d8b-9414-207f32eb91f3</td>\n",
       "      <td>2022-09-02 01:21:07.273</td>\n",
       "      <td>Solve an application problem by applying Polya...</td>\n",
       "      <td>8e2f1a4f-3e77-4e91-99df-f27310d357be</td>\n",
       "      <td>False</td>\n",
       "      <td>304.015015</td>\n",
       "      <td>18.889999</td>\n",
       "      <td>0.519215</td>\n",
       "      <td>{'9e0aedd2-281b-46c5-8024-b8af3fa00cef': {'pro...</td>\n",
       "      <td>DIRECT_PRE_TEST</td>\n",
       "      <td>322.905029</td>\n",
       "      <td>True</td>\n",
       "      <td>3.0</td>\n",
       "      <td>0.460526</td>\n",
       "      <td>0.593100</td>\n",
       "      <td>question</td>\n",
       "      <td>0</td>\n",
       "      <td>4</td>\n",
       "      <td>27</td>\n",
       "    </tr>\n",
       "    <tr>\n",
       "      <th>...</th>\n",
       "      <td>...</td>\n",
       "      <td>...</td>\n",
       "      <td>...</td>\n",
       "      <td>...</td>\n",
       "      <td>...</td>\n",
       "      <td>...</td>\n",
       "      <td>...</td>\n",
       "      <td>...</td>\n",
       "      <td>...</td>\n",
       "      <td>...</td>\n",
       "      <td>...</td>\n",
       "      <td>...</td>\n",
       "      <td>...</td>\n",
       "      <td>...</td>\n",
       "      <td>...</td>\n",
       "      <td>...</td>\n",
       "      <td>...</td>\n",
       "      <td>...</td>\n",
       "      <td>...</td>\n",
       "      <td>...</td>\n",
       "      <td>...</td>\n",
       "    </tr>\n",
       "    <tr>\n",
       "      <th>190</th>\n",
       "      <td>076e1a0e-669c-40c4-a23c-7ac2bbaa05cf</td>\n",
       "      <td>730a7838-991b-4fd0-a553-443047a67277</td>\n",
       "      <td>3d6db559-2455-41e9-aa8a-72e5d498ab20</td>\n",
       "      <td>2022-09-26 03:02:43.213</td>\n",
       "      <td>Determine if a syllogistic argument is valid w...</td>\n",
       "      <td>5de0bb6d-c964-4dea-9836-1429f8716068</td>\n",
       "      <td>True</td>\n",
       "      <td>9.623000</td>\n",
       "      <td>1.645000</td>\n",
       "      <td>0.763311</td>\n",
       "      <td>{'e7ecb73b-8c1a-4ecb-bef2-5a7dd5f6cd16': {'pro...</td>\n",
       "      <td>NONE</td>\n",
       "      <td>11.268000</td>\n",
       "      <td>True</td>\n",
       "      <td>3.0</td>\n",
       "      <td>0.707865</td>\n",
       "      <td>0.612136</td>\n",
       "      <td>question</td>\n",
       "      <td>1</td>\n",
       "      <td>118</td>\n",
       "      <td>8</td>\n",
       "    </tr>\n",
       "    <tr>\n",
       "      <th>191</th>\n",
       "      <td>076e1a0e-669c-40c4-a23c-7ac2bbaa05cf</td>\n",
       "      <td>730a7838-991b-4fd0-a553-443047a67277</td>\n",
       "      <td>3d6db559-2455-41e9-aa8a-72e5d498ab20</td>\n",
       "      <td>2022-09-26 03:02:57.369</td>\n",
       "      <td>Determine if a syllogistic argument is valid w...</td>\n",
       "      <td>e962f6ba-8e28-427a-acd5-289bd58972d3</td>\n",
       "      <td>True</td>\n",
       "      <td>11.887000</td>\n",
       "      <td>2.074000</td>\n",
       "      <td>0.849827</td>\n",
       "      <td>{'e7ecb73b-8c1a-4ecb-bef2-5a7dd5f6cd16': {'pro...</td>\n",
       "      <td>NONE</td>\n",
       "      <td>13.961000</td>\n",
       "      <td>True</td>\n",
       "      <td>3.0</td>\n",
       "      <td>0.449438</td>\n",
       "      <td>0.612136</td>\n",
       "      <td>question</td>\n",
       "      <td>1</td>\n",
       "      <td>119</td>\n",
       "      <td>8</td>\n",
       "    </tr>\n",
       "    <tr>\n",
       "      <th>192</th>\n",
       "      <td>076e1a0e-669c-40c4-a23c-7ac2bbaa05cf</td>\n",
       "      <td>730a7838-991b-4fd0-a553-443047a67277</td>\n",
       "      <td>3d6db559-2455-41e9-aa8a-72e5d498ab20</td>\n",
       "      <td>2022-09-26 03:03:21.723</td>\n",
       "      <td>Represent a syllogistic argument with a Euler ...</td>\n",
       "      <td>74b2cfcf-81c9-4cd3-9acf-b0f9e9f0560d</td>\n",
       "      <td>True</td>\n",
       "      <td>22.056999</td>\n",
       "      <td>2.107000</td>\n",
       "      <td>0.951019</td>\n",
       "      <td>{'e7ecb73b-8c1a-4ecb-bef2-5a7dd5f6cd16': {'pro...</td>\n",
       "      <td>NONE</td>\n",
       "      <td>24.164000</td>\n",
       "      <td>True</td>\n",
       "      <td>3.0</td>\n",
       "      <td>0.763736</td>\n",
       "      <td>0.675532</td>\n",
       "      <td>question</td>\n",
       "      <td>1</td>\n",
       "      <td>120</td>\n",
       "      <td>23</td>\n",
       "    </tr>\n",
       "    <tr>\n",
       "      <th>193</th>\n",
       "      <td>076e1a0e-669c-40c4-a23c-7ac2bbaa05cf</td>\n",
       "      <td>730a7838-991b-4fd0-a553-443047a67277</td>\n",
       "      <td>3d6db559-2455-41e9-aa8a-72e5d498ab20</td>\n",
       "      <td>2022-09-26 03:03:30.452</td>\n",
       "      <td>Represent a syllogistic argument with a Euler ...</td>\n",
       "      <td>eac21ab9-4930-4577-ab3f-94a2767dc221</td>\n",
       "      <td>True</td>\n",
       "      <td>6.158000</td>\n",
       "      <td>2.371000</td>\n",
       "      <td>0.997647</td>\n",
       "      <td>{'e7ecb73b-8c1a-4ecb-bef2-5a7dd5f6cd16': {'pro...</td>\n",
       "      <td>NONE</td>\n",
       "      <td>8.529000</td>\n",
       "      <td>True</td>\n",
       "      <td>3.0</td>\n",
       "      <td>0.425000</td>\n",
       "      <td>0.675532</td>\n",
       "      <td>question</td>\n",
       "      <td>1</td>\n",
       "      <td>63</td>\n",
       "      <td>23</td>\n",
       "    </tr>\n",
       "    <tr>\n",
       "      <th>194</th>\n",
       "      <td>076e1a0e-669c-40c4-a23c-7ac2bbaa05cf</td>\n",
       "      <td>730a7838-991b-4fd0-a553-443047a67277</td>\n",
       "      <td>3d6db559-2455-41e9-aa8a-72e5d498ab20</td>\n",
       "      <td>2022-09-26 03:03:39.843</td>\n",
       "      <td>Represent a syllogistic argument with a Euler ...</td>\n",
       "      <td>fc237eef-8d31-4ee2-a485-58a16f0dc606</td>\n",
       "      <td>True</td>\n",
       "      <td>7.067000</td>\n",
       "      <td>2.135000</td>\n",
       "      <td>1.000000</td>\n",
       "      <td>{'e7ecb73b-8c1a-4ecb-bef2-5a7dd5f6cd16': {'pro...</td>\n",
       "      <td>NONE</td>\n",
       "      <td>9.202000</td>\n",
       "      <td>True</td>\n",
       "      <td>3.0</td>\n",
       "      <td>0.745763</td>\n",
       "      <td>0.675532</td>\n",
       "      <td>question</td>\n",
       "      <td>1</td>\n",
       "      <td>106</td>\n",
       "      <td>23</td>\n",
       "    </tr>\n",
       "  </tbody>\n",
       "</table>\n",
       "<p>195 rows × 21 columns</p>\n",
       "</div>"
      ],
      "text/plain": [
       "                                 graph_id  \\\n",
       "0    076e1a0e-669c-40c4-a23c-7ac2bbaa05cf   \n",
       "1    076e1a0e-669c-40c4-a23c-7ac2bbaa05cf   \n",
       "2    076e1a0e-669c-40c4-a23c-7ac2bbaa05cf   \n",
       "3    076e1a0e-669c-40c4-a23c-7ac2bbaa05cf   \n",
       "4    076e1a0e-669c-40c4-a23c-7ac2bbaa05cf   \n",
       "..                                    ...   \n",
       "190  076e1a0e-669c-40c4-a23c-7ac2bbaa05cf   \n",
       "191  076e1a0e-669c-40c4-a23c-7ac2bbaa05cf   \n",
       "192  076e1a0e-669c-40c4-a23c-7ac2bbaa05cf   \n",
       "193  076e1a0e-669c-40c4-a23c-7ac2bbaa05cf   \n",
       "194  076e1a0e-669c-40c4-a23c-7ac2bbaa05cf   \n",
       "\n",
       "                                  user_id  \\\n",
       "0    730a7838-991b-4fd0-a553-443047a67277   \n",
       "1    730a7838-991b-4fd0-a553-443047a67277   \n",
       "2    730a7838-991b-4fd0-a553-443047a67277   \n",
       "3    730a7838-991b-4fd0-a553-443047a67277   \n",
       "4    730a7838-991b-4fd0-a553-443047a67277   \n",
       "..                                    ...   \n",
       "190  730a7838-991b-4fd0-a553-443047a67277   \n",
       "191  730a7838-991b-4fd0-a553-443047a67277   \n",
       "192  730a7838-991b-4fd0-a553-443047a67277   \n",
       "193  730a7838-991b-4fd0-a553-443047a67277   \n",
       "194  730a7838-991b-4fd0-a553-443047a67277   \n",
       "\n",
       "                                  goal_id    interaction_end_time  \\\n",
       "0    3e9e4078-e256-4d8b-9414-207f32eb91f3 2022-09-02 00:52:04.940   \n",
       "1    3e9e4078-e256-4d8b-9414-207f32eb91f3 2022-09-02 00:55:03.343   \n",
       "2    3e9e4078-e256-4d8b-9414-207f32eb91f3 2022-09-02 01:05:13.907   \n",
       "3    3e9e4078-e256-4d8b-9414-207f32eb91f3 2022-09-02 01:15:44.174   \n",
       "4    3e9e4078-e256-4d8b-9414-207f32eb91f3 2022-09-02 01:21:07.273   \n",
       "..                                    ...                     ...   \n",
       "190  3d6db559-2455-41e9-aa8a-72e5d498ab20 2022-09-26 03:02:43.213   \n",
       "191  3d6db559-2455-41e9-aa8a-72e5d498ab20 2022-09-26 03:02:57.369   \n",
       "192  3d6db559-2455-41e9-aa8a-72e5d498ab20 2022-09-26 03:03:21.723   \n",
       "193  3d6db559-2455-41e9-aa8a-72e5d498ab20 2022-09-26 03:03:30.452   \n",
       "194  3d6db559-2455-41e9-aa8a-72e5d498ab20 2022-09-26 03:03:39.843   \n",
       "\n",
       "                               learning_objective_name  \\\n",
       "0    Solve an application problem by applying Polya...   \n",
       "1    Solve an application problem by applying Polya...   \n",
       "2    Solve an application problem by applying Polya...   \n",
       "3    Solve an application problem by applying Polya...   \n",
       "4    Solve an application problem by applying Polya...   \n",
       "..                                                 ...   \n",
       "190  Determine if a syllogistic argument is valid w...   \n",
       "191  Determine if a syllogistic argument is valid w...   \n",
       "192  Represent a syllogistic argument with a Euler ...   \n",
       "193  Represent a syllogistic argument with a Euler ...   \n",
       "194  Represent a syllogistic argument with a Euler ...   \n",
       "\n",
       "                                  atom_id correct  time_spent_answering_s  \\\n",
       "0    c2571c28-c337-4831-aecb-3e1d78acaeca   False              707.533020   \n",
       "1    7cae6bd4-3130-4862-af34-60f8dde81549    True              174.817001   \n",
       "2    48ce9017-cd13-48d3-bf31-d48fa5d9a811    True              352.446991   \n",
       "3    dbc04c07-a056-4bf5-8ffa-4a15e9dcf382    True              626.796997   \n",
       "4    8e2f1a4f-3e77-4e91-99df-f27310d357be   False              304.015015   \n",
       "..                                    ...     ...                     ...   \n",
       "190  5de0bb6d-c964-4dea-9836-1429f8716068    True                9.623000   \n",
       "191  e962f6ba-8e28-427a-acd5-289bd58972d3    True               11.887000   \n",
       "192  74b2cfcf-81c9-4cd3-9acf-b0f9e9f0560d    True               22.056999   \n",
       "193  eac21ab9-4930-4577-ab3f-94a2767dc221    True                6.158000   \n",
       "194  fc237eef-8d31-4ee2-a485-58a16f0dc606    True                7.067000   \n",
       "\n",
       "     time_spent_on_instruction_s  goal_progress  \\\n",
       "0                      25.230000       0.007847   \n",
       "1                       3.585000       0.132514   \n",
       "2                       3.236000       0.366208   \n",
       "3                       3.219000       0.791904   \n",
       "4                      18.889999       0.519215   \n",
       "..                           ...            ...   \n",
       "190                     1.645000       0.763311   \n",
       "191                     2.074000       0.849827   \n",
       "192                     2.107000       0.951019   \n",
       "193                     2.371000       0.997647   \n",
       "194                     2.135000       1.000000   \n",
       "\n",
       "                            target_status_and_progress prev_concept_narrative  \\\n",
       "0    {'9e0aedd2-281b-46c5-8024-b8af3fa00cef': {'pro...                   NONE   \n",
       "1    {'9e0aedd2-281b-46c5-8024-b8af3fa00cef': {'pro...                   NONE   \n",
       "2    {'9e0aedd2-281b-46c5-8024-b8af3fa00cef': {'pro...                    nan   \n",
       "3    {'9e0aedd2-281b-46c5-8024-b8af3fa00cef': {'pro...        DIRECT_PRE_TEST   \n",
       "4    {'9e0aedd2-281b-46c5-8024-b8af3fa00cef': {'pro...        DIRECT_PRE_TEST   \n",
       "..                                                 ...                    ...   \n",
       "190  {'e7ecb73b-8c1a-4ecb-bef2-5a7dd5f6cd16': {'pro...                   NONE   \n",
       "191  {'e7ecb73b-8c1a-4ecb-bef2-5a7dd5f6cd16': {'pro...                   NONE   \n",
       "192  {'e7ecb73b-8c1a-4ecb-bef2-5a7dd5f6cd16': {'pro...                   NONE   \n",
       "193  {'e7ecb73b-8c1a-4ecb-bef2-5a7dd5f6cd16': {'pro...                   NONE   \n",
       "194  {'e7ecb73b-8c1a-4ecb-bef2-5a7dd5f6cd16': {'pro...                   NONE   \n",
       "\n",
       "     duration_s  is_target  loGraphID  difficulty  lo_difficulty atom_type  \\\n",
       "0    732.763000       True        3.0    0.951754       0.593100  question   \n",
       "1    178.402008       True        3.0    0.801762       0.593100  question   \n",
       "2    355.682983       True        3.0    0.763889       0.593100  question   \n",
       "3    630.015991       True        3.0    0.436782       0.593100  question   \n",
       "4    322.905029       True        3.0    0.460526       0.593100  question   \n",
       "..          ...        ...        ...         ...            ...       ...   \n",
       "190   11.268000       True        3.0    0.707865       0.612136  question   \n",
       "191   13.961000       True        3.0    0.449438       0.612136  question   \n",
       "192   24.164000       True        3.0    0.763736       0.675532  question   \n",
       "193    8.529000       True        3.0    0.425000       0.675532  question   \n",
       "194    9.202000       True        3.0    0.745763       0.675532  question   \n",
       "\n",
       "    correctBinary  atomIndex  loIndex  \n",
       "0               0          0       27  \n",
       "1               1          1       27  \n",
       "2               1          2       27  \n",
       "3               1          3       27  \n",
       "4               0          4       27  \n",
       "..            ...        ...      ...  \n",
       "190             1        118        8  \n",
       "191             1        119        8  \n",
       "192             1        120       23  \n",
       "193             1         63       23  \n",
       "194             1        106       23  \n",
       "\n",
       "[195 rows x 21 columns]"
      ]
     },
     "execution_count": 40,
     "metadata": {},
     "output_type": "execute_result"
    }
   ],
   "source": [
    "dfg"
   ]
  },
  {
   "cell_type": "code",
   "execution_count": 41,
   "id": "b7f09dc1-f23c-4865-83c1-009a9e4c6f39",
   "metadata": {},
   "outputs": [],
   "source": [
    "question_sequence=dfg[['loIndex','atomIndex','correctBinary']].values.transpose()"
   ]
  },
  {
   "cell_type": "code",
   "execution_count": 42,
   "id": "0490042b-0bb2-4ef4-ba84-b1411b7731c2",
   "metadata": {},
   "outputs": [],
   "source": [
    "lo_atom_edges_list=dfg.groupby(['loIndex','atomIndex'])['graph_id'].nunique().index.to_list()"
   ]
  },
  {
   "cell_type": "code",
   "execution_count": 43,
   "id": "ab3133c6-a3bb-4f6d-bb97-af994b52dcf7",
   "metadata": {},
   "outputs": [],
   "source": [
    "question_sequence_len=question_sequence.shape[1]\n",
    "\n"
   ]
  },
  {
   "cell_type": "code",
   "execution_count": 44,
   "id": "421eae71-76b1-4ad5-9fcd-b5c1dfd50499",
   "metadata": {},
   "outputs": [],
   "source": [
    "l1,l2=zip(*lo_atom_edges_list)\n"
   ]
  },
  {
   "cell_type": "code",
   "execution_count": 45,
   "id": "7ec30e52-4732-48cd-9bcb-e1ec6761da63",
   "metadata": {},
   "outputs": [],
   "source": [
    "lo_atom_edges=np.array((list(l1),list(l2)))"
   ]
  },
  {
   "cell_type": "code",
   "execution_count": null,
   "id": "39d0b6f7-2198-4077-96d7-2a2374d67e1d",
   "metadata": {},
   "outputs": [],
   "source": []
  },
  {
   "cell_type": "code",
   "execution_count": 46,
   "id": "5f53a0fe-a236-432e-8bf0-e5c327e6dad7",
   "metadata": {},
   "outputs": [],
   "source": [
    "#loFeatures=dfg.groupby('loIndex')['lo_difficulty'].mean().values.reshape(-1,1)\n",
    "atomFeatures=dfg.groupby('atomIndex')['difficulty'].mean().values.reshape(-1,1)\n",
    "loFeatures=np.zeros(31 ).reshape(-1,1)"
   ]
  },
  {
   "cell_type": "code",
   "execution_count": null,
   "id": "801cd035-50d1-4bfb-9de0-0155ed80f41f",
   "metadata": {},
   "outputs": [],
   "source": []
  },
  {
   "cell_type": "code",
   "execution_count": null,
   "id": "eda089c7-a78d-4bbd-8d86-40979883061d",
   "metadata": {},
   "outputs": [],
   "source": []
  },
  {
   "cell_type": "code",
   "execution_count": 47,
   "id": "906c487d-8472-4e17-ad8c-29ae605555ee",
   "metadata": {},
   "outputs": [],
   "source": [
    "from torch_geometric.data import HeteroData\n",
    "import torch \n"
   ]
  },
  {
   "cell_type": "code",
   "execution_count": 48,
   "id": "e765fe91-35ca-4685-be5a-50aef6a05325",
   "metadata": {},
   "outputs": [],
   "source": [
    "data = HeteroData()"
   ]
  },
  {
   "cell_type": "code",
   "execution_count": 49,
   "id": "6e012b65-d0f1-49fa-838d-80f8e7cc207a",
   "metadata": {},
   "outputs": [],
   "source": [
    "data['atom'].x=torch.tensor(atomFeatures.astype(np.float64)).float()\n",
    "#data['atom'].y=torch.tensor(atomFeatures.astype(np.float64)).float()\n",
    "data['lo'].x= torch.tensor(loFeatures.astype(np.float64)).float()"
   ]
  },
  {
   "cell_type": "code",
   "execution_count": null,
   "id": "af90273e-4473-40ef-a391-263d0586c828",
   "metadata": {},
   "outputs": [],
   "source": []
  },
  {
   "cell_type": "code",
   "execution_count": null,
   "id": "0b4017c0-144c-44f1-8be2-fa2aca8852d0",
   "metadata": {},
   "outputs": [],
   "source": []
  },
  {
   "cell_type": "raw",
   "id": "e5caacd4-9bd4-4eb4-808c-1b83575b614c",
   "metadata": {},
   "source": [
    "data['atom'].x=torch.nn.Embedding(atomFeatures.shape[0],100)\n",
    "#data['atom'].y=torch.tensor(atomFeatures.astype(np.float64)).float()\n",
    "data['lo'].x=torch.nn.Embedding(loFeatures.shape[0],100)"
   ]
  },
  {
   "cell_type": "code",
   "execution_count": 50,
   "id": "5cb1a42b-c1e4-4a08-9175-fe42b18df505",
   "metadata": {},
   "outputs": [],
   "source": [
    "data['lo','lo_atom','atom'].edge_index=torch.from_numpy(lo_atom_edges).long()\n",
    "data['lo','lo_lo','lo'].edge_index=torch.from_numpy(lo_edges).long()"
   ]
  },
  {
   "cell_type": "code",
   "execution_count": 51,
   "id": "3b44cec5-4cf7-4ddc-97ee-c2db2215fc74",
   "metadata": {},
   "outputs": [],
   "source": [
    "import torch_geometric.transforms as T"
   ]
  },
  {
   "cell_type": "code",
   "execution_count": 52,
   "id": "939c9d83-6dcf-4f57-b364-ae34ccb2aa1d",
   "metadata": {},
   "outputs": [],
   "source": [
    "normalize=T.NormalizeFeatures()\n",
    "data=normalize(data)"
   ]
  },
  {
   "cell_type": "code",
   "execution_count": null,
   "id": "05f5fa04-3325-471a-b6d4-6d9a235d7efb",
   "metadata": {},
   "outputs": [],
   "source": []
  },
  {
   "cell_type": "code",
   "execution_count": null,
   "id": "4c4be197-04e5-4f80-9874-c54ed40b22d3",
   "metadata": {},
   "outputs": [],
   "source": []
  },
  {
   "cell_type": "code",
   "execution_count": 53,
   "id": "a31639a6-e5a8-436a-8949-1f668d3c7ccc",
   "metadata": {},
   "outputs": [],
   "source": [
    "import torch_geometric as pyg\n",
    "from torch_geometric.nn import GCNConv \n",
    "from torch_geometric.nn import SAGEConv, to_hetero ,LSTMAggregation\n",
    "import  torch.nn as nn\n",
    "import torch.nn.functional as F\n",
    "import torch \n",
    "from torch_geometric.loader import DataLoader"
   ]
  },
  {
   "cell_type": "code",
   "execution_count": 54,
   "id": "b9a62d01-5867-4613-a964-733f9b5272e0",
   "metadata": {},
   "outputs": [
    {
     "data": {
      "text/plain": [
       "(['atom', 'lo'], [('lo', 'lo_atom', 'atom'), ('lo', 'lo_lo', 'lo')])"
      ]
     },
     "execution_count": 54,
     "metadata": {},
     "output_type": "execute_result"
    }
   ],
   "source": [
    "data.metadata()"
   ]
  },
  {
   "cell_type": "code",
   "execution_count": 55,
   "id": "efbe921f-e3e9-4494-9c2c-118b901ddc05",
   "metadata": {},
   "outputs": [],
   "source": [
    "from torch_geometric.nn import global_mean_pool as gap, global_max_pool as gmp"
   ]
  },
  {
   "cell_type": "code",
   "execution_count": 56,
   "id": "e12543e0-b68e-411f-a961-9981d8b62a70",
   "metadata": {},
   "outputs": [],
   "source": [
    "hidden_channels=100\n",
    "final_layer_dim=hidden_channels/4\n",
    "class GNN(torch.nn.Module):\n",
    "    def __init__(self):\n",
    "        super().__init__()\n",
    "        self.conv1 = SAGEConv((-1, -1), hidden_channels,requires_grad=True)\n",
    "        self.actfn1=nn.ReLU()\n",
    "        \n",
    "        self.conv2 = SAGEConv((-1, -1),int( hidden_channels/2),requires_grad=True)\n",
    "        self.actfn2=nn.ReLU()\n",
    "        \n",
    "        self.conv3 = SAGEConv((-1, -1),int( final_layer_dim),requires_grad=True)\n",
    "        self.actfn3=nn.ReLU()\n",
    "        \n",
    "        self.conv4 = SAGEConv((-1, -1),int( hidden_channels/8),requires_grad=True)\n",
    "        self.actfn4=nn.ReLU()\n",
    "        \n",
    "        \n",
    "        self.sigmoid= nn.Sigmoid()\n",
    "\n",
    "    def forward(self, x, edge_index):\n",
    "        \n",
    "        x = self.actfn1(self.conv1(x, edge_index))\n",
    "        #x= F.dropout(x,p=.5,training=self.training)\n",
    "        \n",
    "        x = self.actfn2(self.conv2(x, edge_index))\n",
    "        #x= F.dropout(x,p=.7,training=self.training)\n",
    "        \n",
    "        x = self.actfn3(self.conv3(x, edge_index))\n",
    "        \n",
    "        #out = self.actfn4(self.conv4(x, edge_index))\n",
    "        \n",
    "        #out= F.dropout(x,p=.7,training=self.training)\n",
    "        #pool={key: gmp(out[key].x, out[key].batch) for key in out.node_types}\n",
    "        #out=self.sigmoid( self.out(x))\n",
    "        #ic(pool)\n",
    "        \n",
    "        #pool=gmp(out)\n",
    "        return x"
   ]
  },
  {
   "cell_type": "code",
   "execution_count": 57,
   "id": "63d8dc5b-d31d-4e33-8c87-d6a7f13072ed",
   "metadata": {},
   "outputs": [],
   "source": [
    "lookback=3\n",
    "hidden_channels1=int((final_layer_dim)*2*(lookback+1)+(lookback+1))\n",
    "\n",
    "out_channels=1\n",
    "class Classifer(torch.nn.Module):\n",
    "    def __init__(self):\n",
    "        super().__init__()\n",
    "\n",
    "        self.ins=nn.Linear(hidden_channels1,10)\n",
    "        self.actfn1=nn.ReLU()\n",
    "        \n",
    "        self.ins2=nn.Linear(10,5)\n",
    "        self.actfn2=nn.ReLU()\n",
    "        \n",
    "        self.out=nn.Linear(5,1)\n",
    "        self.actfn3=nn.Sigmoid()\n",
    "        \n",
    "    def forward(self, x):\n",
    "        \n",
    "        x= self.actfn1 (self.ins(x))\n",
    "        \n",
    "        x= self.actfn2 (self.ins2(x))\n",
    "        \n",
    "        out=self.actfn3(self.out(x))\n",
    "        \n",
    "        \n",
    "        return out"
   ]
  },
  {
   "cell_type": "code",
   "execution_count": null,
   "id": "312aad5c-15c5-422b-87ad-6ba9cd397d3d",
   "metadata": {},
   "outputs": [],
   "source": []
  },
  {
   "cell_type": "code",
   "execution_count": 58,
   "id": "eaad99d6-5f8f-4dcf-9a31-c5dfc1cb2601",
   "metadata": {},
   "outputs": [],
   "source": [
    "class GNN_Classifier(nn.Module):\n",
    "    def __init__(self):\n",
    "        super(GNN_Classifier, self).__init__()\n",
    "        \n",
    "        self.model_embedding=GNN()\n",
    "        self.model_embedding = to_hetero(self.model_embedding, data.metadata(),aggr='max')\n",
    "        self.classifer = Classifer()\n",
    "        #lo,atom,prev_answer,prev_lo,prev_atom,prev_answer1,prev_lo1,prev_atom1\n",
    "    def forward(self, x,edges,batch_num,lookback,question_sequence):\n",
    "        node_embeddings = self.model_embedding(x,edges)\n",
    "        features_concat_list=[]\n",
    "        \n",
    "        for i in range(lookback+1):\n",
    "            #print([i,batch_num-i])\n",
    "            lo=question_sequence[0][batch_num-i]\n",
    "            atom=question_sequence[1][batch_num-i]\n",
    "            prev_answer=torch.tensor([question_sequence[2][batch_num-1-i]]).float()\n",
    "            #features_concat_list.extend([node_embeddings['atom'][atom] , node_embeddings['lo'][lo],prev_answer])\n",
    "            features_concat_list.extend([node_embeddings['atom'][atom]])\n",
    "            features_concat_list.extend([node_embeddings['lo'][lo]])\n",
    "            features_concat_list.extend([prev_answer])\n",
    "        \n",
    "                                         \n",
    "            \n",
    "        #user_embeddings=torch.cat([node_embeddings['atom'][atom] , node_embeddings['lo'][lo],prev_answer,node_embeddings['atom'][prev_atom] , node_embeddings['lo'][prev_lo],prev_answer1,node_embeddings['atom'][prev_atom1] , node_embeddings['lo'][prev_lo1]])  \n",
    "       \n",
    "        user_embeddings=torch.cat(features_concat_list)\n",
    "        \n",
    "        rnn_outputs = self.classifer(user_embeddings)\n",
    "    \n",
    "        return rnn_outputs,user_embeddings"
   ]
  },
  {
   "cell_type": "code",
   "execution_count": 59,
   "id": "12904345-36f6-46a1-8687-189d1e9fdeaa",
   "metadata": {
    "collapsed": true,
    "jupyter": {
     "outputs_hidden": true
    },
    "tags": []
   },
   "outputs": [
    {
     "name": "stderr",
     "output_type": "stream",
     "text": [
      "100%|████████████████████████████████████████████████████████████████████████████████| 192/192 [00:04<00:00, 46.20it/s]\n"
     ]
    },
    {
     "name": "stdout",
     "output_type": "stream",
     "text": [
      "epoch 0 | loss 0.68245 | accuracy 0.52604 | auc 0.45109\n"
     ]
    },
    {
     "name": "stderr",
     "output_type": "stream",
     "text": [
      "100%|████████████████████████████████████████████████████████████████████████████████| 192/192 [00:04<00:00, 47.11it/s]\n"
     ]
    },
    {
     "name": "stdout",
     "output_type": "stream",
     "text": [
      "epoch 1 | loss 0.67727 | accuracy 0.53646 | auc 0.56721\n"
     ]
    },
    {
     "name": "stderr",
     "output_type": "stream",
     "text": [
      "100%|████████████████████████████████████████████████████████████████████████████████| 192/192 [00:04<00:00, 46.80it/s]\n"
     ]
    },
    {
     "name": "stdout",
     "output_type": "stream",
     "text": [
      "epoch 2 | loss 0.64527 | accuracy 0.61458 | auc 0.67647\n"
     ]
    },
    {
     "name": "stderr",
     "output_type": "stream",
     "text": [
      "100%|████████████████████████████████████████████████████████████████████████████████| 192/192 [00:04<00:00, 47.85it/s]\n"
     ]
    },
    {
     "name": "stdout",
     "output_type": "stream",
     "text": [
      "epoch 3 | loss 0.61658 | accuracy 0.64583 | auc 0.70795\n"
     ]
    },
    {
     "name": "stderr",
     "output_type": "stream",
     "text": [
      "100%|████████████████████████████████████████████████████████████████████████████████| 192/192 [00:04<00:00, 46.38it/s]\n"
     ]
    },
    {
     "name": "stdout",
     "output_type": "stream",
     "text": [
      "epoch 4 | loss 0.60641 | accuracy 0.67188 | auc 0.71961\n"
     ]
    },
    {
     "name": "stderr",
     "output_type": "stream",
     "text": [
      "100%|████████████████████████████████████████████████████████████████████████████████| 192/192 [00:04<00:00, 46.72it/s]\n"
     ]
    },
    {
     "name": "stdout",
     "output_type": "stream",
     "text": [
      "epoch 5 | loss 0.60011 | accuracy 0.68229 | auc 0.72985\n"
     ]
    },
    {
     "name": "stderr",
     "output_type": "stream",
     "text": [
      "100%|████████████████████████████████████████████████████████████████████████████████| 192/192 [00:04<00:00, 47.58it/s]\n"
     ]
    },
    {
     "name": "stdout",
     "output_type": "stream",
     "text": [
      "epoch 6 | loss 0.59608 | accuracy 0.69792 | auc 0.73464\n"
     ]
    },
    {
     "name": "stderr",
     "output_type": "stream",
     "text": [
      "100%|████████████████████████████████████████████████████████████████████████████████| 192/192 [00:04<00:00, 45.72it/s]\n"
     ]
    },
    {
     "name": "stdout",
     "output_type": "stream",
     "text": [
      "epoch 7 | loss 0.59412 | accuracy 0.69792 | auc 0.73736\n"
     ]
    },
    {
     "name": "stderr",
     "output_type": "stream",
     "text": [
      "100%|████████████████████████████████████████████████████████████████████████████████| 192/192 [00:04<00:00, 45.95it/s]\n"
     ]
    },
    {
     "name": "stdout",
     "output_type": "stream",
     "text": [
      "epoch 8 | loss 0.59276 | accuracy 0.69792 | auc 0.74009\n"
     ]
    },
    {
     "name": "stderr",
     "output_type": "stream",
     "text": [
      "100%|████████████████████████████████████████████████████████████████████████████████| 192/192 [00:04<00:00, 46.98it/s]\n"
     ]
    },
    {
     "name": "stdout",
     "output_type": "stream",
     "text": [
      "epoch 9 | loss 0.58955 | accuracy 0.69271 | auc 0.74303\n"
     ]
    },
    {
     "name": "stderr",
     "output_type": "stream",
     "text": [
      "100%|████████████████████████████████████████████████████████████████████████████████| 192/192 [00:03<00:00, 51.43it/s]\n"
     ]
    },
    {
     "name": "stdout",
     "output_type": "stream",
     "text": [
      "epoch 10 | loss 0.58627 | accuracy 0.70833 | auc 0.74553\n"
     ]
    },
    {
     "name": "stderr",
     "output_type": "stream",
     "text": [
      "100%|████████████████████████████████████████████████████████████████████████████████| 192/192 [00:03<00:00, 51.43it/s]\n"
     ]
    },
    {
     "name": "stdout",
     "output_type": "stream",
     "text": [
      "epoch 11 | loss 0.58312 | accuracy 0.70833 | auc 0.74880\n"
     ]
    },
    {
     "name": "stderr",
     "output_type": "stream",
     "text": [
      "100%|████████████████████████████████████████████████████████████████████████████████| 192/192 [00:03<00:00, 50.96it/s]\n"
     ]
    },
    {
     "name": "stdout",
     "output_type": "stream",
     "text": [
      "epoch 12 | loss 0.58099 | accuracy 0.71354 | auc 0.75098\n"
     ]
    },
    {
     "name": "stderr",
     "output_type": "stream",
     "text": [
      "100%|████████████████████████████████████████████████████████████████████████████████| 192/192 [00:03<00:00, 48.89it/s]\n"
     ]
    },
    {
     "name": "stdout",
     "output_type": "stream",
     "text": [
      "epoch 13 | loss 0.57885 | accuracy 0.71354 | auc 0.75479\n"
     ]
    },
    {
     "name": "stderr",
     "output_type": "stream",
     "text": [
      "100%|████████████████████████████████████████████████████████████████████████████████| 192/192 [00:03<00:00, 49.07it/s]\n"
     ]
    },
    {
     "name": "stdout",
     "output_type": "stream",
     "text": [
      "epoch 14 | loss 0.57631 | accuracy 0.71354 | auc 0.75479\n"
     ]
    },
    {
     "name": "stderr",
     "output_type": "stream",
     "text": [
      "100%|████████████████████████████████████████████████████████████████████████████████| 192/192 [00:03<00:00, 48.59it/s]\n"
     ]
    },
    {
     "name": "stdout",
     "output_type": "stream",
     "text": [
      "epoch 15 | loss 0.57573 | accuracy 0.70312 | auc 0.75490\n"
     ]
    },
    {
     "name": "stderr",
     "output_type": "stream",
     "text": [
      "100%|████████████████████████████████████████████████████████████████████████████████| 192/192 [00:04<00:00, 47.00it/s]\n"
     ]
    },
    {
     "name": "stdout",
     "output_type": "stream",
     "text": [
      "epoch 16 | loss 0.57399 | accuracy 0.70312 | auc 0.75730\n"
     ]
    },
    {
     "name": "stderr",
     "output_type": "stream",
     "text": [
      "100%|████████████████████████████████████████████████████████████████████████████████| 192/192 [00:04<00:00, 45.10it/s]\n"
     ]
    },
    {
     "name": "stdout",
     "output_type": "stream",
     "text": [
      "epoch 17 | loss 0.57330 | accuracy 0.70833 | auc 0.75610\n"
     ]
    },
    {
     "name": "stderr",
     "output_type": "stream",
     "text": [
      "100%|████████████████████████████████████████████████████████████████████████████████| 192/192 [00:04<00:00, 47.07it/s]\n"
     ]
    },
    {
     "name": "stdout",
     "output_type": "stream",
     "text": [
      "epoch 18 | loss 0.57076 | accuracy 0.70312 | auc 0.75763\n"
     ]
    },
    {
     "name": "stderr",
     "output_type": "stream",
     "text": [
      "100%|████████████████████████████████████████████████████████████████████████████████| 192/192 [00:03<00:00, 48.23it/s]\n"
     ]
    },
    {
     "name": "stdout",
     "output_type": "stream",
     "text": [
      "epoch 19 | loss 0.56949 | accuracy 0.70312 | auc 0.75915\n"
     ]
    },
    {
     "name": "stderr",
     "output_type": "stream",
     "text": [
      "100%|████████████████████████████████████████████████████████████████████████████████| 192/192 [00:04<00:00, 47.58it/s]\n"
     ]
    },
    {
     "name": "stdout",
     "output_type": "stream",
     "text": [
      "epoch 20 | loss 0.56891 | accuracy 0.70312 | auc 0.75893\n"
     ]
    },
    {
     "name": "stderr",
     "output_type": "stream",
     "text": [
      "100%|████████████████████████████████████████████████████████████████████████████████| 192/192 [00:04<00:00, 47.89it/s]\n"
     ]
    },
    {
     "name": "stdout",
     "output_type": "stream",
     "text": [
      "epoch 21 | loss 0.57011 | accuracy 0.70312 | auc 0.76002\n"
     ]
    },
    {
     "name": "stderr",
     "output_type": "stream",
     "text": [
      "100%|████████████████████████████████████████████████████████████████████████████████| 192/192 [00:03<00:00, 48.07it/s]\n"
     ]
    },
    {
     "name": "stdout",
     "output_type": "stream",
     "text": [
      "epoch 22 | loss 0.56896 | accuracy 0.70833 | auc 0.76373\n"
     ]
    },
    {
     "name": "stderr",
     "output_type": "stream",
     "text": [
      "100%|████████████████████████████████████████████████████████████████████████████████| 192/192 [00:04<00:00, 47.78it/s]\n"
     ]
    },
    {
     "name": "stdout",
     "output_type": "stream",
     "text": [
      "epoch 23 | loss 0.56654 | accuracy 0.70312 | auc 0.76612\n"
     ]
    },
    {
     "name": "stderr",
     "output_type": "stream",
     "text": [
      "100%|████████████████████████████████████████████████████████████████████████████████| 192/192 [00:04<00:00, 46.79it/s]\n"
     ]
    },
    {
     "name": "stdout",
     "output_type": "stream",
     "text": [
      "epoch 24 | loss 0.56460 | accuracy 0.71354 | auc 0.76928\n"
     ]
    },
    {
     "name": "stderr",
     "output_type": "stream",
     "text": [
      "100%|████████████████████████████████████████████████████████████████████████████████| 192/192 [00:03<00:00, 49.75it/s]\n"
     ]
    },
    {
     "name": "stdout",
     "output_type": "stream",
     "text": [
      "epoch 25 | loss 0.56326 | accuracy 0.71354 | auc 0.76895\n"
     ]
    },
    {
     "name": "stderr",
     "output_type": "stream",
     "text": [
      "100%|████████████████████████████████████████████████████████████████████████████████| 192/192 [00:03<00:00, 49.86it/s]\n"
     ]
    },
    {
     "name": "stdout",
     "output_type": "stream",
     "text": [
      "epoch 26 | loss 0.56141 | accuracy 0.70833 | auc 0.77288\n"
     ]
    },
    {
     "name": "stderr",
     "output_type": "stream",
     "text": [
      "100%|████████████████████████████████████████████████████████████████████████████████| 192/192 [00:03<00:00, 48.02it/s]\n"
     ]
    },
    {
     "name": "stdout",
     "output_type": "stream",
     "text": [
      "epoch 27 | loss 0.55828 | accuracy 0.71354 | auc 0.77636\n"
     ]
    },
    {
     "name": "stderr",
     "output_type": "stream",
     "text": [
      "100%|████████████████████████████████████████████████████████████████████████████████| 192/192 [00:04<00:00, 47.12it/s]\n"
     ]
    },
    {
     "name": "stdout",
     "output_type": "stream",
     "text": [
      "epoch 28 | loss 0.55513 | accuracy 0.71354 | auc 0.78039\n"
     ]
    },
    {
     "name": "stderr",
     "output_type": "stream",
     "text": [
      "100%|████████████████████████████████████████████████████████████████████████████████| 192/192 [00:04<00:00, 46.99it/s]\n"
     ]
    },
    {
     "name": "stdout",
     "output_type": "stream",
     "text": [
      "epoch 29 | loss 0.55637 | accuracy 0.71875 | auc 0.78050\n"
     ]
    },
    {
     "name": "stderr",
     "output_type": "stream",
     "text": [
      "100%|████████████████████████████████████████████████████████████████████████████████| 192/192 [00:04<00:00, 47.04it/s]\n"
     ]
    },
    {
     "name": "stdout",
     "output_type": "stream",
     "text": [
      "epoch 30 | loss 0.55330 | accuracy 0.70833 | auc 0.78344\n"
     ]
    },
    {
     "name": "stderr",
     "output_type": "stream",
     "text": [
      "100%|████████████████████████████████████████████████████████████████████████████████| 192/192 [00:04<00:00, 46.52it/s]\n"
     ]
    },
    {
     "name": "stdout",
     "output_type": "stream",
     "text": [
      "epoch 31 | loss 0.55126 | accuracy 0.70833 | auc 0.78682\n"
     ]
    },
    {
     "name": "stderr",
     "output_type": "stream",
     "text": [
      "100%|████████████████████████████████████████████████████████████████████████████████| 192/192 [00:04<00:00, 47.35it/s]\n"
     ]
    },
    {
     "name": "stdout",
     "output_type": "stream",
     "text": [
      "epoch 32 | loss 0.54977 | accuracy 0.71875 | auc 0.78889\n"
     ]
    },
    {
     "name": "stderr",
     "output_type": "stream",
     "text": [
      "100%|████████████████████████████████████████████████████████████████████████████████| 192/192 [00:04<00:00, 47.89it/s]\n"
     ]
    },
    {
     "name": "stdout",
     "output_type": "stream",
     "text": [
      "epoch 33 | loss 0.54619 | accuracy 0.71875 | auc 0.79107\n"
     ]
    },
    {
     "name": "stderr",
     "output_type": "stream",
     "text": [
      "100%|████████████████████████████████████████████████████████████████████████████████| 192/192 [00:04<00:00, 46.74it/s]\n"
     ]
    },
    {
     "name": "stdout",
     "output_type": "stream",
     "text": [
      "epoch 34 | loss 0.54663 | accuracy 0.71354 | auc 0.79183\n"
     ]
    },
    {
     "name": "stderr",
     "output_type": "stream",
     "text": [
      "100%|████████████████████████████████████████████████████████████████████████████████| 192/192 [00:04<00:00, 47.94it/s]\n"
     ]
    },
    {
     "name": "stdout",
     "output_type": "stream",
     "text": [
      "epoch 35 | loss 0.54368 | accuracy 0.71875 | auc 0.79259\n"
     ]
    },
    {
     "name": "stderr",
     "output_type": "stream",
     "text": [
      "100%|████████████████████████████████████████████████████████████████████████████████| 192/192 [00:04<00:00, 46.70it/s]\n"
     ]
    },
    {
     "name": "stdout",
     "output_type": "stream",
     "text": [
      "epoch 36 | loss 0.54021 | accuracy 0.72396 | auc 0.79532\n"
     ]
    },
    {
     "name": "stderr",
     "output_type": "stream",
     "text": [
      "100%|████████████████████████████████████████████████████████████████████████████████| 192/192 [00:03<00:00, 49.22it/s]\n"
     ]
    },
    {
     "name": "stdout",
     "output_type": "stream",
     "text": [
      "epoch 37 | loss 0.53689 | accuracy 0.72396 | auc 0.80087\n"
     ]
    },
    {
     "name": "stderr",
     "output_type": "stream",
     "text": [
      "100%|████████████████████████████████████████████████████████████████████████████████| 192/192 [00:03<00:00, 51.07it/s]\n"
     ]
    },
    {
     "name": "stdout",
     "output_type": "stream",
     "text": [
      "epoch 38 | loss 0.53450 | accuracy 0.72917 | auc 0.80512\n"
     ]
    },
    {
     "name": "stderr",
     "output_type": "stream",
     "text": [
      "100%|████████████████████████████████████████████████████████████████████████████████| 192/192 [00:03<00:00, 49.34it/s]\n"
     ]
    },
    {
     "name": "stdout",
     "output_type": "stream",
     "text": [
      "epoch 39 | loss 0.53144 | accuracy 0.72917 | auc 0.80556\n"
     ]
    },
    {
     "name": "stderr",
     "output_type": "stream",
     "text": [
      "100%|████████████████████████████████████████████████████████████████████████████████| 192/192 [00:04<00:00, 47.96it/s]\n"
     ]
    },
    {
     "name": "stdout",
     "output_type": "stream",
     "text": [
      "epoch 40 | loss 0.53364 | accuracy 0.72917 | auc 0.80349\n"
     ]
    },
    {
     "name": "stderr",
     "output_type": "stream",
     "text": [
      "100%|████████████████████████████████████████████████████████████████████████████████| 192/192 [00:04<00:00, 47.96it/s]\n"
     ]
    },
    {
     "name": "stdout",
     "output_type": "stream",
     "text": [
      "epoch 41 | loss 0.52845 | accuracy 0.72917 | auc 0.80806\n"
     ]
    },
    {
     "name": "stderr",
     "output_type": "stream",
     "text": [
      "100%|████████████████████████████████████████████████████████████████████████████████| 192/192 [00:03<00:00, 48.15it/s]\n"
     ]
    },
    {
     "name": "stdout",
     "output_type": "stream",
     "text": [
      "epoch 42 | loss 0.52612 | accuracy 0.73438 | auc 0.80850\n"
     ]
    },
    {
     "name": "stderr",
     "output_type": "stream",
     "text": [
      "100%|████████████████████████████████████████████████████████████████████████████████| 192/192 [00:04<00:00, 46.85it/s]\n"
     ]
    },
    {
     "name": "stdout",
     "output_type": "stream",
     "text": [
      "epoch 43 | loss 0.52571 | accuracy 0.72396 | auc 0.80697\n"
     ]
    },
    {
     "name": "stderr",
     "output_type": "stream",
     "text": [
      "100%|████████████████████████████████████████████████████████████████████████████████| 192/192 [00:04<00:00, 46.71it/s]\n"
     ]
    },
    {
     "name": "stdout",
     "output_type": "stream",
     "text": [
      "epoch 44 | loss 0.52461 | accuracy 0.72917 | auc 0.80882\n"
     ]
    },
    {
     "name": "stderr",
     "output_type": "stream",
     "text": [
      "100%|████████████████████████████████████████████████████████████████████████████████| 192/192 [00:03<00:00, 48.30it/s]\n"
     ]
    },
    {
     "name": "stdout",
     "output_type": "stream",
     "text": [
      "epoch 45 | loss 0.52327 | accuracy 0.73438 | auc 0.81187\n"
     ]
    },
    {
     "name": "stderr",
     "output_type": "stream",
     "text": [
      "100%|████████████████████████████████████████████████████████████████████████████████| 192/192 [00:03<00:00, 51.22it/s]\n"
     ]
    },
    {
     "name": "stdout",
     "output_type": "stream",
     "text": [
      "epoch 46 | loss 0.51920 | accuracy 0.72396 | auc 0.81547\n"
     ]
    },
    {
     "name": "stderr",
     "output_type": "stream",
     "text": [
      "100%|████████████████████████████████████████████████████████████████████████████████| 192/192 [00:03<00:00, 49.40it/s]\n"
     ]
    },
    {
     "name": "stdout",
     "output_type": "stream",
     "text": [
      "epoch 47 | loss 0.51778 | accuracy 0.72917 | auc 0.81590\n"
     ]
    },
    {
     "name": "stderr",
     "output_type": "stream",
     "text": [
      "100%|████████████████████████████████████████████████████████████████████████████████| 192/192 [00:03<00:00, 49.72it/s]\n"
     ]
    },
    {
     "name": "stdout",
     "output_type": "stream",
     "text": [
      "epoch 48 | loss 0.51754 | accuracy 0.72917 | auc 0.81808\n"
     ]
    },
    {
     "name": "stderr",
     "output_type": "stream",
     "text": [
      "100%|████████████████████████████████████████████████████████████████████████████████| 192/192 [00:03<00:00, 48.04it/s]"
     ]
    },
    {
     "name": "stdout",
     "output_type": "stream",
     "text": [
      "epoch 49 | loss 0.51582 | accuracy 0.72917 | auc 0.81895\n"
     ]
    },
    {
     "name": "stderr",
     "output_type": "stream",
     "text": [
      "\n"
     ]
    }
   ],
   "source": [
    "\n",
    "model=GNN_Classifier()\n",
    "learning_rate=0.001\n",
    "optimizer=torch.optim.Adam(model.parameters(),lr=learning_rate,weight_decay=5e-12)\n",
    "criterion=torch.nn.BCELoss()\n",
    "#criterion=F.binary_cross_entropy\n",
    "train_acc_mean_list=[]\n",
    "test_acc_mean_list=[]\n",
    "loss_list=[]\n",
    "accuracy_list=[]\n",
    "best_score=0\n",
    "user_embedings=[]\n",
    "\n",
    "loss_moving_avg=[]\n",
    "\n",
    "for epoch_num in range(50):\n",
    "    epoch_accuracy=[]\n",
    "    out_list=[]\n",
    "    total_loss=0\n",
    "    user_embedings=[]\n",
    "    prob=[]\n",
    "    target=[]\n",
    "    for  batch_num in tqdm(range(lookback,question_sequence_len)):\n",
    "        \n",
    "        model.train()\n",
    "       \n",
    "        optimizer.zero_grad()   \n",
    "        #x_dict = {key: gmp(batch[key].x, batch[key].batch) for key in batch.node_types}\n",
    "        \n",
    "\n",
    "        answer=torch.tensor([question_sequence[2][batch_num]]).float()\n",
    "     \n",
    "        \n",
    "        out,node_embeddings=model(data.x_dict, data.edge_index_dict,batch_num,lookback,question_sequence) \n",
    "        user_embedings.append((node_embeddings,answer))\n",
    "        loss=F.binary_cross_entropy(out,answer)\n",
    "        loss.backward()\n",
    "        optimizer.step()\n",
    "        \n",
    "        loss_list.append(loss.item())\n",
    "        total_loss=total_loss+loss.item()\n",
    "        train_correct=out.round()==answer\n",
    "        \n",
    "        train_acc=train_correct*1\n",
    "        accuracy=(train_correct*1).item()\n",
    "        epoch_accuracy.append(accuracy)\n",
    "        #accuracy_list.append(accuracy)\n",
    "        prob.append(out.item())\n",
    "        target.append(answer.item())\n",
    "    performance='epoch {} | loss {:.5f} | accuracy {:.5f} | auc {:.5f}'.format(epoch_num,total_loss/(batch_num+1),np.mean(epoch_accuracy),roc_auc_score(np.array(target),prob))\n",
    "    print(performance)\n",
    "    loss_moving_avg.append(total_loss/(batch_num+1))\n",
    "            \n",
    "    #ic((epoch_num,np.mean(epoch_accuracy),loss.item()))\n",
    "    \n",
    "\n",
    "#out['target']: tensor([[0.2217, 0.0272]], grad_fn=<AddmmBackward0>)"
   ]
  },
  {
   "cell_type": "code",
   "execution_count": 60,
   "id": "f260fbf7-68a7-41d1-b04a-8b21b2e02261",
   "metadata": {},
   "outputs": [
    {
     "data": {
      "text/plain": [
       "'epoch 49 | loss 0.51582 | accuracy 0.72917 | auc 0.81895'"
      ]
     },
     "execution_count": 60,
     "metadata": {},
     "output_type": "execute_result"
    }
   ],
   "source": [
    "performance"
   ]
  },
  {
   "cell_type": "code",
   "execution_count": 61,
   "id": "46860415-3801-4b79-b79e-c78755d6adc7",
   "metadata": {},
   "outputs": [
    {
     "data": {
      "text/plain": [
       "[<matplotlib.lines.Line2D at 0x20494eb5490>]"
      ]
     },
     "execution_count": 61,
     "metadata": {},
     "output_type": "execute_result"
    },
    {
     "data": {
      "image/png": "[encoded data removed]",
      "text/plain": [
       "<Figure size 1000x700 with 1 Axes>"
      ]
     },
     "metadata": {},
     "output_type": "display_data"
    }
   ],
   "source": [
    "plt.figure(figsize=(10,7))\n",
    "mvg_steps=question_sequence_len\n",
    "\n",
    "#for i in range(len(loss_list)-mvg_steps):\n",
    "#    loss_moving_avg.append(np.mean(loss_list[mvg_steps*i:(i+1)*mvg_steps]))\n",
    "plt.grid()\n",
    "#plt.plot(loss_list)\n",
    "plt.plot(loss_moving_avg)\n"
   ]
  },
  {
   "cell_type": "code",
   "execution_count": null,
   "id": "e5600ab9-341e-4e8a-a0be-2ae4a82e5845",
   "metadata": {
    "tags": []
   },
   "outputs": [],
   "source": []
  },
  {
   "cell_type": "code",
   "execution_count": 72,
   "id": "afcc3909-c3a8-4e9b-b3be-6bade19f0e5a",
   "metadata": {},
   "outputs": [
    {
     "data": {
      "text/plain": [
       "192"
      ]
     },
     "execution_count": 72,
     "metadata": {},
     "output_type": "execute_result"
    }
   ],
   "source": [
    "len(user_embedings)"
   ]
  },
  {
   "cell_type": "code",
   "execution_count": 76,
   "id": "532a466a-11b2-432d-89bd-1a92248d66d1",
   "metadata": {},
   "outputs": [
    {
     "data": {
      "text/plain": [
       "(192, 2)"
      ]
     },
     "execution_count": 76,
     "metadata": {},
     "output_type": "execute_result"
    }
   ],
   "source": []
  },
  {
   "cell_type": "code",
   "execution_count": 78,
   "id": "ff7f3447-74ff-465a-a883-6ebbf76ce646",
   "metadata": {},
   "outputs": [
    {
     "data": {
      "text/plain": [
       "<seaborn.axisgrid.PairGrid at 0x204faa14a90>"
      ]
     },
     "execution_count": 78,
     "metadata": {},
     "output_type": "execute_result"
    },
    {
     "data": {
      "image/png": "[encoded data removed]",
      "text/plain": [
       "<Figure size 811.236x750 with 12 Axes>"
      ]
     },
     "metadata": {},
     "output_type": "display_data"
    }
   ],
   "source": [
    "node_embeddings=[i[0] for i in user_embedings]\n",
    "\n",
    "nodes=torch.stack(node_embeddings).detach().numpy()\n",
    "\n",
    "nodesDf=pd.DataFrame(nodes[-question_sequence_len:])\n",
    "\n",
    "pca = PCA(n_components=2)\n",
    "components = pca.fit_transform(nodesDf)\n",
    "\n",
    "#pcadf=pd.DataFrame({'f1':components[:,0],'f2':components[:,1]})\n",
    "pcadf=pd.DataFrame({ 'f'+str(i):components[:,i]  for i in  range(components.shape[1]) })\n",
    "\n",
    "answersdf=pd.DataFrame({'atom':question_sequence[1][lookback:],'answer':question_sequence[2][lookback:]})\n",
    "\n",
    "pcadf=pcadf.reset_index().rename(columns={'index':'atom'})\n",
    "\n",
    "answersdffea=answersdf.merge(pcadf,on='atom',how='left')\n",
    "\n",
    "sns.pairplot(answersdffea,hue='answer')"
   ]
  },
  {
   "cell_type": "code",
   "execution_count": null,
   "id": "b476d2d3-ecb5-41fe-b7ea-589cdae20e95",
   "metadata": {},
   "outputs": [],
   "source": []
  },
  {
   "cell_type": "code",
   "execution_count": 91,
   "id": "313274bc-91cb-4270-a449-8cdacc7ba0fb",
   "metadata": {},
   "outputs": [],
   "source": [
    "dataset_train = TensorDataset(\n",
    "    torch.stack(node_embeddings),\n",
    "    torch.from_numpy(\n",
    "np.asarray(question_sequence[2][lookback:] , dtype = np.float64)).float(),\n",
    ")"
   ]
  },
  {
   "cell_type": "code",
   "execution_count": 93,
   "id": "de1cfef7-c7bd-440d-9cd2-f83784a0188c",
   "metadata": {},
   "outputs": [
    {
     "data": {
      "text/plain": [
       "192"
      ]
     },
     "execution_count": 93,
     "metadata": {},
     "output_type": "execute_result"
    }
   ],
   "source": [
    "len(dataset_train)"
   ]
  },
  {
   "cell_type": "code",
   "execution_count": 112,
   "id": "aa6e5b89-4d8d-4427-b532-c5c93c7fb8d6",
   "metadata": {},
   "outputs": [],
   "source": [
    "day1_10=torch.empty(10,3)\n",
    "day2_11=torch.empty(10,3)\n",
    "day3_12=torch.empty(10,3)\n",
    "day4_13=torch.empty(10,3)"
   ]
  },
  {
   "cell_type": "code",
   "execution_count": 111,
   "id": "cadd6df1-5eb4-4570-a09f-08dba51d1940",
   "metadata": {},
   "outputs": [
    {
     "data": {
      "text/plain": [
       "torch.Size([4, 10, 3])"
      ]
     },
     "execution_count": 111,
     "metadata": {},
     "output_type": "execute_result"
    }
   ],
   "source": [
    "torch.stack([day1_10,day2_11,day3_12,day4_13]).shape"
   ]
  },
  {
   "cell_type": "code",
   "execution_count": 115,
   "id": "045efe6f-9fff-43c6-a236-de1e7f7dcf25",
   "metadata": {},
   "outputs": [],
   "source": [
    "day1=torch.empty(3)\n",
    "day2=torch.empty(3)\n",
    "day3=torch.empty(3)\n",
    "day4=torch.empty(3)"
   ]
  },
  {
   "cell_type": "code",
   "execution_count": 119,
   "id": "ba616255-bda6-4688-83ab-a719cc355dc6",
   "metadata": {},
   "outputs": [
    {
     "data": {
      "text/plain": [
       "tensor([[1.0751e-05, 8.3092e+20, 1.9991e+20],\n",
       "        [1.0751e-05, 8.3092e+20, 1.9991e+20],\n",
       "        [9.1477e-41, 1.8980e+01, 1.1210e-44]])"
      ]
     },
     "execution_count": 119,
     "metadata": {},
     "output_type": "execute_result"
    }
   ],
   "source": [
    "torch.stack([day1,day2,day3])"
   ]
  },
  {
   "cell_type": "code",
   "execution_count": 120,
   "id": "4d91bb82-483a-4ed1-88e6-2ee1793564cd",
   "metadata": {},
   "outputs": [
    {
     "data": {
      "text/plain": [
       "tensor([[[1.0751e-05, 8.3092e+20, 1.9991e+20],\n",
       "         [1.0751e-05, 8.3092e+20, 1.9991e+20],\n",
       "         [9.1477e-41, 1.8980e+01, 1.1210e-44]]])"
      ]
     },
     "execution_count": 120,
     "metadata": {},
     "output_type": "execute_result"
    }
   ],
   "source": [
    "torch.stack([day1,day2,day3]).view(1,3,3)"
   ]
  },
  {
   "cell_type": "code",
   "execution_count": 123,
   "id": "be6c46fa-835e-475f-a8eb-a55b11df65e7",
   "metadata": {},
   "outputs": [],
   "source": [
    "xx=[0,1,2,3]"
   ]
  },
  {
   "cell_type": "code",
   "execution_count": 124,
   "id": "71c10bfd-d17a-46b1-b12b-68dff2d828ab",
   "metadata": {},
   "outputs": [
    {
     "data": {
      "text/plain": [
       "1"
      ]
     },
     "execution_count": 124,
     "metadata": {},
     "output_type": "execute_result"
    }
   ],
   "source": [
    "xx[1]"
   ]
  },
  {
   "cell_type": "code",
   "execution_count": null,
   "id": "0b360342-6319-4ca1-9414-2137a915c1a5",
   "metadata": {},
   "outputs": [],
   "source": []
  }
 ],
 "metadata": {
  "kernelspec": {
   "display_name": "Python 3 (ipykernel)",
   "language": "python",
   "name": "python3"
  },
  "language_info": {
   "codemirror_mode": {
    "name": "ipython",
    "version": 3
   },
   "file_extension": ".py",
   "mimetype": "text/x-python",
   "name": "python",
   "nbconvert_exporter": "python",
   "pygments_lexer": "ipython3",
   "version": "3.8.3"
  }
 },
 "nbformat": 4,
 "nbformat_minor": 5
}
