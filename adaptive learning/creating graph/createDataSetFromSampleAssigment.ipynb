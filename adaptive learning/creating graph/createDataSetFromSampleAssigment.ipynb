{
 "cells": [
  {
   "cell_type": "code",
   "execution_count": 1,
   "id": "4bd2915e-e172-401d-8602-85d354301159",
   "metadata": {},
   "outputs": [],
   "source": [
    "import pandas as pd\n",
    "import numpy as np"
   ]
  },
  {
   "cell_type": "code",
   "execution_count": 23,
   "id": "63494eb2-9aab-4646-9653-7a8ca916b081",
   "metadata": {},
   "outputs": [],
   "source": [
    "df=pd.read_csv('sampleAssigment.csv').drop('difficulty',axis=1)"
   ]
  },
  {
   "cell_type": "code",
   "execution_count": 47,
   "id": "a842d0fe-e297-4f31-80f2-8ed2860a40e8",
   "metadata": {},
   "outputs": [],
   "source": [
    "df2=pd.read_csv('C:/research/adaptive learning/prereq_edges.csv')"
   ]
  },
  {
   "cell_type": "code",
   "execution_count": 51,
   "id": "b872c256-d80f-42af-9d8f-5eda8a1cef02",
   "metadata": {
    "tags": []
   },
   "outputs": [],
   "source": [
    "def preprocess(students,prereq_edges):\n",
    "    atomIndex={atom:i for i,atom in enumerate( students.atom_id.unique())}\n",
    "    loIndex={lo:i for i,lo in enumerate( students.learning_objective_name.unique())}\n",
    "    students['atomIndex']=students.atom_id.map(atomIndex)\n",
    "    students['loIndex']=students.learning_objective_name.map(loIndex)\n",
    "    \n",
    "    #loMapping - learning objective mapping source to destination \n",
    "    loMapping=prereq_edges[(prereq_edges.source_lo_title.isin(loIndex.keys())) | (prereq_edges.dest_lo_title.isin(loIndex.keys()))]\n",
    "\n",
    "    loMapping['source_index']=loMapping.source_lo_title.map(loIndex)\n",
    "    loMapping['dest_index']=loMapping.dest_lo_title.map(loIndex)\n",
    "        \n",
    "    return students , loMapping\n",
    "\n",
    "\n",
    "def train_test_split(df):\n",
    "    df=preprocess(df)\n",
    "    features=['user_id','atomIndex','correctBinary','difficulty','loIndex']\n",
    "    users=df.user_id.unique()\n",
    "    shuffledUsers=np.random.permutation(users)\n",
    "    size=users.shape[0]\n",
    "    train_users=shuffledUsers[:int(size*.8)]\n",
    "    test_users=shuffledUsers[int(size*.8):]\n",
    "    \n",
    "    train_set=df[df.user_id.isin(train_users)]\n",
    "    test_set=df[df.user_id.isin(test_users)]\n",
    "    \n",
    "    difficulty=train_set.groupby('atom_id').correctBinary.mean()\n",
    "    \n",
    "    train_set['difficulty']=train_set.atom_id.map(difficulty)\n",
    "    test_set['difficulty']=test_set.atom_id.map(difficulty)\n",
    "    \n",
    "    train_set=train_set[features]\n",
    "    test_set=test_set[features]\n",
    "    \n",
    "    return train_set,test_set\n",
    "\n",
    "\n",
    "def create_train_graph():\n",
    "    "
   ]
  },
  {
   "cell_type": "code",
   "execution_count": null,
   "id": "ef581538-5b58-44d4-bd39-e9a85d5108da",
   "metadata": {},
   "outputs": [],
   "source": []
  }
 ],
 "metadata": {
  "kernelspec": {
   "display_name": "Python 3 (ipykernel)",
   "language": "python",
   "name": "python3"
  },
  "language_info": {
   "codemirror_mode": {
    "name": "ipython",
    "version": 3
   },
   "file_extension": ".py",
   "mimetype": "text/x-python",
   "name": "python",
   "nbconvert_exporter": "python",
   "pygments_lexer": "ipython3",
   "version": "3.8.3"
  }
 },
 "nbformat": 4,
 "nbformat_minor": 5
}
