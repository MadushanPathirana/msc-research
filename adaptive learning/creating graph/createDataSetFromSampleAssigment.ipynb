{
 "cells": [
  {
   "cell_type": "code",
   "execution_count": 100,
   "id": "4bd2915e-e172-401d-8602-85d354301159",
   "metadata": {},
   "outputs": [],
   "source": [
    "import pandas as pd\n",
    "import numpy as np\n",
    "import networkx as nx\n",
    "import matplotlib.pyplot as plt"
   ]
  },
  {
   "cell_type": "code",
   "execution_count": null,
   "id": "4b8a0b87-1886-49fd-8f6b-5bf486948055",
   "metadata": {},
   "outputs": [],
   "source": []
  },
  {
   "cell_type": "code",
   "execution_count": 101,
   "id": "ef581538-5b58-44d4-bd39-e9a85d5108da",
   "metadata": {},
   "outputs": [],
   "source": [
    "from sklearn.metrics import classification_report"
   ]
  },
  {
   "cell_type": "markdown",
   "id": "1236a6a4-02c5-4555-a5e9-c75a5044360a",
   "metadata": {},
   "source": [
    "https://medium.com/stanford-cs224w/graph-neural-networks-for-knowledge-tracing-ef31fdaa5f00"
   ]
  },
  {
   "cell_type": "code",
   "execution_count": 102,
   "id": "afd5aab0-5954-4a33-a38a-5377c2235f25",
   "metadata": {},
   "outputs": [],
   "source": [
    "pd.set_option('display.max_columns', None)"
   ]
  },
  {
   "cell_type": "code",
   "execution_count": 103,
   "id": "4ba2e498-913a-453c-8f9c-a68b2b87a8a6",
   "metadata": {},
   "outputs": [],
   "source": [
    "df=pd.read_pickle('appmath.pkl')  "
   ]
  },
  {
   "cell_type": "code",
   "execution_count": 104,
   "id": "4ab4f28b-0d72-4cda-8b9d-0f21e8e3548e",
   "metadata": {},
   "outputs": [],
   "source": [
    "df2=pd.read_csv('prereq_edges.csv')"
   ]
  },
  {
   "cell_type": "code",
   "execution_count": null,
   "id": "2b2fe148-d975-4901-bf48-8a777252a660",
   "metadata": {},
   "outputs": [],
   "source": []
  },
  {
   "cell_type": "code",
   "execution_count": 105,
   "id": "ad67525e-6e83-4fbb-b7c0-45e21c0afd99",
   "metadata": {},
   "outputs": [],
   "source": [
    "G=nx.Graph()\n",
    "\n",
    "for _,i in df2.iterrows():    \n",
    "       \n",
    "        G.add_edge(i['source_lo_title'],i['dest_lo_title'])\n",
    "        \n",
    "subgraphs=[G.subgraph(i) for i in nx.connected_components(G)]\n",
    "\n",
    "for num,sub in enumerate(subgraphs):\n",
    "    \n",
    "    nx.set_node_attributes(sub,num,'subGraphId')\n",
    "\n",
    "nodeSubGraphId={}\n",
    "for g in subgraphs:\n",
    "    for node in g.nodes(data=True):\n",
    "         nodeSubGraphId[node[0]]= node[1]['subGraphId']\n",
    "            \n",
    "subgraphsNodeCountDict={ num: g.number_of_nodes() for num,g in  enumerate(subgraphs)}"
   ]
  },
  {
   "cell_type": "code",
   "execution_count": null,
   "id": "10256b94-15ee-43d0-89ee-69f9be7e0faa",
   "metadata": {},
   "outputs": [],
   "source": []
  },
  {
   "cell_type": "code",
   "execution_count": 106,
   "id": "32fb5cac-a730-4b2c-9641-9b9e92a2d73f",
   "metadata": {},
   "outputs": [],
   "source": [
    "for col in df.columns:\n",
    "    if df[col].dtype.name=='category':\n",
    "        df[col]=df[col].astype(str)"
   ]
  },
  {
   "cell_type": "code",
   "execution_count": 107,
   "id": "817bf547-5bfb-4ca8-a36a-0332af19deee",
   "metadata": {},
   "outputs": [],
   "source": [
    "df['loGraphID']=df.learning_objective_name.apply(lambda x: nodeSubGraphId.get(x) )"
   ]
  },
  {
   "cell_type": "code",
   "execution_count": 108,
   "id": "9f3dab4b-ec86-4b3e-afab-041f8294ae87",
   "metadata": {},
   "outputs": [],
   "source": [
    "difficulty=df[~df.correct.isna()].groupby('atom_id')['correct'].mean().reset_index().rename(columns={'correct':'difficulty'})"
   ]
  },
  {
   "cell_type": "code",
   "execution_count": 109,
   "id": "b286a6e5-0eae-4310-be5e-d8619305d0da",
   "metadata": {},
   "outputs": [
    {
     "data": {
      "text/html": [
       "<div>\n",
       "<style scoped>\n",
       "    .dataframe tbody tr th:only-of-type {\n",
       "        vertical-align: middle;\n",
       "    }\n",
       "\n",
       "    .dataframe tbody tr th {\n",
       "        vertical-align: top;\n",
       "    }\n",
       "\n",
       "    .dataframe thead th {\n",
       "        text-align: right;\n",
       "    }\n",
       "</style>\n",
       "<table border=\"1\" class=\"dataframe\">\n",
       "  <thead>\n",
       "    <tr style=\"text-align: right;\">\n",
       "      <th></th>\n",
       "      <th>atom_id</th>\n",
       "      <th>difficulty</th>\n",
       "    </tr>\n",
       "  </thead>\n",
       "  <tbody>\n",
       "    <tr>\n",
       "      <th>0</th>\n",
       "      <td>000361fc-3126-4f25-93da-3ee3b66021c4</td>\n",
       "      <td>0.571429</td>\n",
       "    </tr>\n",
       "    <tr>\n",
       "      <th>1</th>\n",
       "      <td>000785e5-46df-4d0b-a12d-2283db4b8c7f</td>\n",
       "      <td>1.000000</td>\n",
       "    </tr>\n",
       "    <tr>\n",
       "      <th>2</th>\n",
       "      <td>000da431-9e35-4309-a3ae-cca9225b8d54</td>\n",
       "      <td>0.638554</td>\n",
       "    </tr>\n",
       "    <tr>\n",
       "      <th>3</th>\n",
       "      <td>00170926-4ba4-4d1e-bd86-0ac94107acb1</td>\n",
       "      <td>0.700000</td>\n",
       "    </tr>\n",
       "    <tr>\n",
       "      <th>4</th>\n",
       "      <td>001cfd36-68fa-4d74-b077-769f3bf2e0ad</td>\n",
       "      <td>0.712919</td>\n",
       "    </tr>\n",
       "    <tr>\n",
       "      <th>...</th>\n",
       "      <td>...</td>\n",
       "      <td>...</td>\n",
       "    </tr>\n",
       "    <tr>\n",
       "      <th>16441</th>\n",
       "      <td>fff0e6fc-e78f-41da-bcc8-88a6dceb6cc3</td>\n",
       "      <td>0.581481</td>\n",
       "    </tr>\n",
       "    <tr>\n",
       "      <th>16442</th>\n",
       "      <td>fff4801c-d828-453e-b1d4-64369f7b1048</td>\n",
       "      <td>0.666667</td>\n",
       "    </tr>\n",
       "    <tr>\n",
       "      <th>16443</th>\n",
       "      <td>fff652bc-b348-4054-9aab-8e67b98b022a</td>\n",
       "      <td>0.714286</td>\n",
       "    </tr>\n",
       "    <tr>\n",
       "      <th>16444</th>\n",
       "      <td>fffbe876-95cc-4dd0-9097-c657f446df6a</td>\n",
       "      <td>0.714286</td>\n",
       "    </tr>\n",
       "    <tr>\n",
       "      <th>16445</th>\n",
       "      <td>fffd03c7-5c73-41e2-ae82-7c5146120a29</td>\n",
       "      <td>0.790941</td>\n",
       "    </tr>\n",
       "  </tbody>\n",
       "</table>\n",
       "<p>16446 rows × 2 columns</p>\n",
       "</div>"
      ],
      "text/plain": [
       "                                    atom_id  difficulty\n",
       "0      000361fc-3126-4f25-93da-3ee3b66021c4    0.571429\n",
       "1      000785e5-46df-4d0b-a12d-2283db4b8c7f    1.000000\n",
       "2      000da431-9e35-4309-a3ae-cca9225b8d54    0.638554\n",
       "3      00170926-4ba4-4d1e-bd86-0ac94107acb1    0.700000\n",
       "4      001cfd36-68fa-4d74-b077-769f3bf2e0ad    0.712919\n",
       "...                                     ...         ...\n",
       "16441  fff0e6fc-e78f-41da-bcc8-88a6dceb6cc3    0.581481\n",
       "16442  fff4801c-d828-453e-b1d4-64369f7b1048    0.666667\n",
       "16443  fff652bc-b348-4054-9aab-8e67b98b022a    0.714286\n",
       "16444  fffbe876-95cc-4dd0-9097-c657f446df6a    0.714286\n",
       "16445  fffd03c7-5c73-41e2-ae82-7c5146120a29    0.790941\n",
       "\n",
       "[16446 rows x 2 columns]"
      ]
     },
     "execution_count": 109,
     "metadata": {},
     "output_type": "execute_result"
    }
   ],
   "source": [
    "difficulty"
   ]
  },
  {
   "cell_type": "code",
   "execution_count": 110,
   "id": "3e217a1e-41ea-4e7a-95ee-e2c694cb93a9",
   "metadata": {},
   "outputs": [],
   "source": [
    "df=df.merge(difficulty,how='left',on='atom_id')"
   ]
  },
  {
   "cell_type": "code",
   "execution_count": 111,
   "id": "faed7b92-ce47-4fc1-8f72-4344075afca2",
   "metadata": {},
   "outputs": [],
   "source": [
    "loIndex={lo:i for i,lo in enumerate( df.learning_objective_name.unique())}\n",
    "df['loIndex']=df['learning_objective_name'].apply(lambda x: loIndex[x])\n",
    "\n",
    "\n",
    "df2['source_index']=df2.source_lo_title.map(loIndex)\n",
    "df2['dest_index']=df2.dest_lo_title.map(loIndex)\n",
    "\n",
    "#df2=df2[['source_index','dest_index']].reset_index(drop=True)\n",
    "#loEdgeIndex=loEdgeMapping.values.transpose()"
   ]
  },
  {
   "cell_type": "code",
   "execution_count": 112,
   "id": "e936b165-3361-47ef-accd-9efdaa1cac07",
   "metadata": {},
   "outputs": [],
   "source": [
    "#df2[(df2.source_lo_title.isin( df.learning_objective_name.unique()[:5])) | (df2.dest_lo_id.isin( df.learning_objective_name.unique()[:5]))]"
   ]
  },
  {
   "cell_type": "code",
   "execution_count": 113,
   "id": "ec46a7c4-aca0-4268-980a-2dc9d2748ffc",
   "metadata": {},
   "outputs": [],
   "source": [
    "#loEdgeMapping=df2[['source_index','dest_index']].reset_index(drop=True)\n",
    "#loEdgeMapping=loEdgeMapping.dropna(axis=0)\n",
    "#loEdgeIndex=loEdgeMapping.values.transpose()"
   ]
  },
  {
   "cell_type": "code",
   "execution_count": 114,
   "id": "d01bdbf0-ee08-48a4-b4ad-3eb15e4b545a",
   "metadata": {},
   "outputs": [],
   "source": [
    "#loEdgeIndex"
   ]
  },
  {
   "cell_type": "code",
   "execution_count": 115,
   "id": "deffeff6-f900-43f7-9b0a-9e6feb33d9af",
   "metadata": {},
   "outputs": [],
   "source": [
    "#atomIndex={atomId:num for num,atomId in enumerate( df.atom_id.to_list())}"
   ]
  },
  {
   "cell_type": "code",
   "execution_count": 116,
   "id": "01bba82f-59fd-45ec-9694-e2c13b98f594",
   "metadata": {},
   "outputs": [],
   "source": [
    "#df['atomIndex']=df.atom_id.apply(lambda x : atomIndex[x] )"
   ]
  },
  {
   "cell_type": "code",
   "execution_count": 117,
   "id": "7c026caa-2fba-4dba-a329-1721b38a8349",
   "metadata": {},
   "outputs": [],
   "source": [
    "def atomClassifier(x):\n",
    "    if x==None:\n",
    "        return 'learningMaterial'\n",
    "    else:\n",
    "        return 'question'"
   ]
  },
  {
   "cell_type": "code",
   "execution_count": 118,
   "id": "896056fd-4599-41ef-a256-8bc3c1614807",
   "metadata": {},
   "outputs": [],
   "source": [
    "df['atom_type']=df.correct.apply(lambda x:atomClassifier(x) )"
   ]
  },
  {
   "cell_type": "code",
   "execution_count": 119,
   "id": "f9c8dbed-3f46-414f-9518-68dca34e3f5b",
   "metadata": {},
   "outputs": [],
   "source": [
    "df['correctBinary']=df.correct*1\n",
    "df.atom_id=df.atom_id.astype(str)\n"
   ]
  },
  {
   "cell_type": "raw",
   "id": "93a46774-b0f7-4891-a79a-f07ce27ff078",
   "metadata": {
    "tags": []
   },
   "source": [
    "\n",
    "def user_dataset(df,user):  \n",
    "    userDf=df[df.user_id==user]\n",
    "\n",
    "    userDf=userDf.sort_values(by='interaction_end_time')\n",
    "    userDf['attempt_count']=userDf.groupby(by=['atom_id']).cumcount()+1\n",
    "    \n",
    "    #atomIndex={atom:i for i,atom in enumerate( userDf[~userDf.correct.isna()].atom_id)}\n",
    "    \n",
    "    #learningMaterialIndex={atom:i for i,atom in enumerate( userDf[userDf.correct.isna()].atom_id)}\n",
    "\n",
    "    #userDf['atomIndex']=np.arange(userDf.shape[0])\n",
    "\n",
    "    atomsPerLO=userDf.groupby('loIndex')['atom_id'].count().to_dict()\n",
    "    userDf['atomsPerLO']=userDf['loIndex'].apply(lambda x: atomsPerLO[x])\n",
    "\n",
    "    edgeMap=userDf[['loIndex','atomIndex']]\n",
    "\n",
    "    y=userDf.correctBinary.astype(int).to_numpy()\n",
    "\n",
    "    loAtomEdgeIndex=edgeMap.values.transpose()\n",
    "\n",
    "    atomAtom=edgeMap.reset_index(drop=True)[['atomIndex']]\n",
    "\n",
    "    atomAtom['nextAtom']=atomAtom.atomIndex.shift(-1)\n",
    "\n",
    "    atomAtom=atomAtom.dropna()\n",
    "\n",
    "    atomEdgeIndex=atomAtom.values.transpose()\n",
    "\n",
    "    atomFeatures=userDf.difficulty.to_numpy().reshape(-1,1)\n",
    "\n",
    "    loFeatures=np.array(list(atomsPerLO.values())).reshape(-1,1)\n",
    "    return  atomFeatures,loFeatures,loAtomEdgeIndex,atomEdgeIndex,y"
   ]
  },
  {
   "cell_type": "code",
   "execution_count": 157,
   "id": "1dd4125e-7b96-4439-b512-d0b2cba7d7b9",
   "metadata": {},
   "outputs": [],
   "source": [
    "def user_dataset(df,df2,user):\n",
    "    \n",
    "    '''\n",
    "    df - df should be filtered by goal id\n",
    "    \n",
    "    edges\n",
    "    -------\n",
    "    lo -> atom\n",
    "    atom -> atom\n",
    "    lo -> learning materials (lm)\n",
    "    atom -> lm\n",
    "    lm -> atom\n",
    "    lm -> lm\n",
    "    \n",
    "    node / features\n",
    "    ---------------\n",
    "    \n",
    "    lo - radnom number\n",
    "    atom - dificulty , number of attempt\n",
    "    lm - time spend \n",
    "        \n",
    "    '''    \n",
    "    loIndex={lo:i for i,lo in enumerate( df.learning_objective_name.unique())}\n",
    "    \n",
    "    \n",
    "    df['loIndex']=df['learning_objective_name'].apply(lambda x: loIndex[x])\n",
    "    \n",
    "    unique_lo=df2[(df2.source_lo_title.isin( df.learning_objective_name.unique())) | (df2.dest_lo_id.isin( df.learning_objective_name.unique()))]\n",
    "    \n",
    "    unique_lo['source_index']=unique_lo.source_lo_title.map(loIndex)\n",
    "    unique_lo['dest_index']=unique_lo.dest_lo_title.map(loIndex)\n",
    "    \n",
    "    loEdgeMapping=unique_lo[['source_index','dest_index']].reset_index(drop=True)\n",
    "    loEdgeMapping=loEdgeMapping.dropna(axis=0)\n",
    "    loEdgeIndex=loEdgeMapping.values.transpose()\n",
    "    \n",
    "    userDf=df[df.user_id==user]    \n",
    "    userDf=userDf.sort_values(by='interaction_end_time')\n",
    "    \n",
    "    atomIndex={atomId:num for num,atomId in enumerate( userDf[userDf.atom_type=='question'].atom_id.to_list())}\n",
    "    lmIndex={atomId:num for num,atomId in enumerate( userDf[userDf.atom_type=='learningMaterial'].atom_id.to_list())}\n",
    "    \n",
    "    # assisgning questions and learningMaterials index seperatly in sinlge columns 'atom_index'\n",
    "    userDf.loc[userDf.atom_type=='question','atomIndex']=userDf.loc[userDf.atom_type=='question',:].atom_id.apply(lambda x : atomIndex[x] )\n",
    "    userDf.loc[userDf.atom_type=='learningMaterial','atomIndex']=userDf.loc[userDf.atom_type=='learningMaterial',:].atom_id.apply(lambda x : lmIndex[x] )\n",
    "    \n",
    "    #lo-atom\n",
    "    loAtomEdgeIndex=userDf[userDf.atom_type=='question'][['loIndex','atomIndex']].values.transpose()\n",
    "    #lo-lm\n",
    "    loLmEdgeIndex=userDf[userDf.atom_type=='learningMaterial'][['loIndex','atomIndex']].values.transpose()\n",
    "    \n",
    "    userDf['attempt_count']=userDf.groupby(by=['atom_id']).cumcount()+1\n",
    "    \n",
    "    userDf['atom_type_shift']=userDf.atom_type.shift(-1)\n",
    "    userDf['atomIndex_shift']=userDf.atomIndex.shift(-1)\n",
    "    \n",
    "    #atom features\n",
    "    atomFeatures = userDf[userDf.atom_type=='question'][['difficulty','duration_s','attempt_count']].to_numpy()\n",
    "    #learning materials features\n",
    "    lmFeatures = userDf[userDf.atom_type=='learningMaterial'][['duration_s']].to_numpy()\n",
    "    #learning objectives\n",
    "    loFeatures=np.ones(userDf.loIndex.nunique()).reshape(-1,1)\n",
    "    #target\n",
    "    target=userDf[userDf.atom_type=='question']['correctBinary'].astype(int).to_numpy()\n",
    "    \n",
    "    userDf_shift= userDf[~userDf.atomIndex_shift.isna()].copy()  \n",
    "    \n",
    "    #atom-atom\n",
    "    atomEdgeIndex=userDf_shift[(userDf_shift.atom_type=='question') & (userDf_shift.atom_type_shift=='question')][['atomIndex','atomIndex_shift']].values.transpose()\n",
    "    #atom-lm\n",
    "    atomLmEdgeIndex=userDf_shift[(userDf_shift.atom_type=='question') & (userDf_shift.atom_type_shift=='learningMaterial')][['atomIndex','atomIndex_shift']].values.transpose()\n",
    "    #lm-atom\n",
    "    LmAtomEdgeIndex=userDf_shift[(userDf_shift.atom_type=='learningMaterial') & (userDf_shift.atom_type_shift=='question')][['atomIndex','atomIndex_shift']].values.transpose()\n",
    "    #lm-lm\n",
    "    LmLmEdgeIndex=userDf_shift[(userDf_shift.atom_type=='learningMaterial') & (userDf_shift.atom_type_shift=='learningMaterial')][['atomIndex','atomIndex_shift']].values.transpose()\n",
    "    featuresDict={'atom':atomFeatures,'lm':lmFeatures,'lo':loFeatures}\n",
    "    edgesDict={'lo_atom':loAtomEdgeIndex,'lo_lm':loLmEdgeIndex,'lo':loEdgeIndex,'atom': atomEdgeIndex,'atom_lm':atomLmEdgeIndex,'lm_atom':LmAtomEdgeIndex,'lm_lm':LmLmEdgeIndex}\n",
    "    \n",
    "    return featuresDict,edgesDict,target\n",
    "    \n",
    "    \n",
    "    \n",
    "    \n",
    "    "
   ]
  },
  {
   "cell_type": "code",
   "execution_count": 158,
   "id": "8f8b415e-0a08-4cb8-b5a6-4ea852110271",
   "metadata": {},
   "outputs": [],
   "source": [
    "dftest=df[(df.loGraphID==3) & (df.user_id=='0012ff2b-871a-45d6-8e33-804f7464fa0a' )].reset_index(drop=True)"
   ]
  },
  {
   "cell_type": "code",
   "execution_count": 159,
   "id": "e53e17b4-7b34-46f7-8e04-8fa80066a4a7",
   "metadata": {},
   "outputs": [
    {
     "name": "stderr",
     "output_type": "stream",
     "text": [
      "C:\\Users\\mpathirana\\AppData\\Local\\Temp\\ipykernel_6736\\2474290902.py:30: SettingWithCopyWarning: \n",
      "A value is trying to be set on a copy of a slice from a DataFrame.\n",
      "Try using .loc[row_indexer,col_indexer] = value instead\n",
      "\n",
      "See the caveats in the documentation: https://pandas.pydata.org/pandas-docs/stable/user_guide/indexing.html#returning-a-view-versus-a-copy\n",
      "  unique_lo['source_index']=unique_lo.source_lo_title.map(loIndex)\n",
      "C:\\Users\\mpathirana\\AppData\\Local\\Temp\\ipykernel_6736\\2474290902.py:31: SettingWithCopyWarning: \n",
      "A value is trying to be set on a copy of a slice from a DataFrame.\n",
      "Try using .loc[row_indexer,col_indexer] = value instead\n",
      "\n",
      "See the caveats in the documentation: https://pandas.pydata.org/pandas-docs/stable/user_guide/indexing.html#returning-a-view-versus-a-copy\n",
      "  unique_lo['dest_index']=unique_lo.dest_lo_title.map(loIndex)\n"
     ]
    }
   ],
   "source": [
    "features, edges,target =user_dataset(dftest,df2,'0012ff2b-871a-45d6-8e33-804f7464fa0a' )"
   ]
  },
  {
   "cell_type": "code",
   "execution_count": 180,
   "id": "d8f42e47-813b-4668-adcb-72c6ab4357b7",
   "metadata": {},
   "outputs": [
    {
     "name": "stdout",
     "output_type": "stream",
     "text": [
      "atom : (293, 3)\n",
      "lm : (54, 1)\n",
      "lo : (27, 1)\n"
     ]
    }
   ],
   "source": [
    "for key,item in features.items():\n",
    "    print( '{} : {}'.format(key,item.shape))"
   ]
  },
  {
   "cell_type": "code",
   "execution_count": 181,
   "id": "81df6af8-bb1d-4800-a405-b9e63517a036",
   "metadata": {},
   "outputs": [
    {
     "name": "stdout",
     "output_type": "stream",
     "text": [
      "lo_atom : (2, 293)\n",
      "lo_lm : (2, 54)\n",
      "lo : (2, 35)\n",
      "atom : (2, 244)\n",
      "atom_lm : (2, 49)\n",
      "lm_atom : (2, 48)\n",
      "lm_lm : (2, 5)\n"
     ]
    }
   ],
   "source": [
    "for key,item in edges.items():\n",
    "    print( '{} : {}'.format(key,item.shape))"
   ]
  },
  {
   "cell_type": "code",
   "execution_count": 161,
   "id": "542a931d-ca53-4366-944b-d761529754ac",
   "metadata": {},
   "outputs": [],
   "source": [
    "from torch_geometric.data import HeteroData\n",
    "import torch \n"
   ]
  },
  {
   "cell_type": "code",
   "execution_count": 162,
   "id": "c9bf6b61-24df-45d9-b63a-d3f3f138d75a",
   "metadata": {},
   "outputs": [],
   "source": [
    "import torch_geometric.transforms as T"
   ]
  },
  {
   "cell_type": "code",
   "execution_count": null,
   "id": "426e5022-85dc-4a23-843d-a0d82a3a86c1",
   "metadata": {},
   "outputs": [],
   "source": []
  },
  {
   "cell_type": "code",
   "execution_count": 163,
   "id": "56e31a0a-8cc9-4f1b-a9ec-7b27d0a4cbee",
   "metadata": {},
   "outputs": [],
   "source": [
    "def generate_data(features,edges,y):  \n",
    "    data = HeteroData()\n",
    "    #node features\n",
    "    data['atom'].x=torch.tensor(features['atom']).float()\n",
    "    data['lo'].x= torch.tensor(features['lo']).float()\n",
    "    data['lm'].x= torch.tensor(features['lm']).float()\n",
    "    \n",
    "    #edge index\n",
    "    data['lo','lo_atom','atom'].edge_index=torch.from_numpy(edges['lo_atom']).long()\n",
    "    data['lo','lo_lo','lo'].edge_index= torch.from_numpy(edges['lo']).long()\n",
    "    data['atom','atom_atom','atom'].edge_index=torch.from_numpy(edges['atom']).long()\n",
    "    data['lo','lo_lm','lm'].edge_index=torch.from_numpy(edges['lo_lm']).long()\n",
    "    data['atom','atom_lm','lm'].edge_index=torch.from_numpy(edges['atom_lm']).long()\n",
    "    data['lm','atom_lm','atom'].edge_index=torch.from_numpy(edges['lm_atom']).long()\n",
    "    data['lm','lm_lm','lm'].edge_index=torch.from_numpy(edges['lm_lm']).long()\n",
    "\n",
    "    data['atom'].y=torch.from_numpy(y).long()\n",
    "\n",
    "\n",
    "    #split=T.RandomNodeSplit(num_test =5)\n",
    "    #data=split(data)\n",
    "\n",
    "    size=y.shape[0]\n",
    "    num_test_nodes =int(y.shape[0]*.35)\n",
    "    some_indices = torch.randperm(size)[:num_test_nodes]\n",
    "\n",
    "\n",
    "    test_mask = torch.zeros(y.shape[0], dtype=torch.bool)\n",
    "    test_mask[some_indices] = True\n",
    "    data['atom'].test_mask = test_mask\n",
    "\n",
    "    train_mask = torch.ones(y.shape[0], dtype=torch.bool)\n",
    "    train_mask[some_indices] = False\n",
    "    data['atom'].train_mask = train_mask\n",
    "\n",
    "    normalize=T.NormalizeFeatures()\n",
    "    data=normalize(data)\n",
    "    return data"
   ]
  },
  {
   "cell_type": "code",
   "execution_count": 164,
   "id": "ad89710f-aaa8-48bb-97f4-fd3ec5672cda",
   "metadata": {},
   "outputs": [],
   "source": [
    "data=generate_data(features, edges,target)"
   ]
  },
  {
   "cell_type": "code",
   "execution_count": 165,
   "id": "8380047a-3984-43f2-9139-e8f461029b52",
   "metadata": {},
   "outputs": [
    {
     "name": "stdout",
     "output_type": "stream",
     "text": [
      "data.has_isolated_nod : True\n",
      "data.has_self_loops   : False\n",
      "data.is_undirected    : True\n"
     ]
    }
   ],
   "source": [
    "print('data.has_isolated_nod : {}'.format(data.has_isolated_nodes()))\n",
    "print('data.has_self_loops   : {}'.format(data.has_self_loops()))\n",
    "print('data.is_undirected    : {}'.format(data.is_directed()))"
   ]
  },
  {
   "cell_type": "code",
   "execution_count": 174,
   "id": "ab3d2c7a-03c6-4b25-a08f-70e8fe19a67b",
   "metadata": {},
   "outputs": [],
   "source": [
    "import torch_geometric\n",
    "from torch_geometric.nn import GCNConv\n",
    "from torch_geometric.nn import SAGEConv, to_hetero\n",
    "import  torch.nn as nn\n",
    "import torch "
   ]
  },
  {
   "cell_type": "code",
   "execution_count": 176,
   "id": "23b154c2-fe9b-4286-a81d-a4c507005355",
   "metadata": {},
   "outputs": [],
   "source": [
    "class GNN(torch.nn.Module):\n",
    "    def __init__(self, hidden_channels, out_channels):\n",
    "        super().__init__()\n",
    "        self.conv1 = SAGEConv((-1, -1), hidden_channels,requires_grad=False)\n",
    "        self.relu1=nn.ReLU()\n",
    "        self.conv2 = SAGEConv((-1, -1), out_channels,requires_grad=False)\n",
    "        self.relu2=nn.ReLU()\n",
    "        self.sigmoid=nn.Sigmoid()\n",
    "\n",
    "    def forward(self, x, edge_index):\n",
    "        x = self.conv1(x, edge_index)\n",
    "        x = self.conv2(x, edge_index)\n",
    "       \n",
    "        return x\n",
    "\n",
    "\n",
    "model = GNN(hidden_channels=64, out_channels=2)\n",
    "model = to_hetero(model, data.metadata(), aggr='mean')"
   ]
  },
  {
   "cell_type": "code",
   "execution_count": 177,
   "id": "373bd3db-5e09-4f81-866e-e84a5ec620ec",
   "metadata": {},
   "outputs": [
    {
     "name": "stdout",
     "output_type": "stream",
     "text": [
      "Epoch : 500 , accuracy : 0.6130599975585938\n",
      "              precision    recall  f1-score   support\n",
      "\n",
      "           0       0.56      0.45      0.50        51\n",
      "           1       0.54      0.65      0.59        51\n",
      "\n",
      "    accuracy                           0.55       102\n",
      "   macro avg       0.55      0.55      0.54       102\n",
      "weighted avg       0.55      0.55      0.54       102\n",
      "\n"
     ]
    },
    {
     "data": {
      "text/plain": [
       "0.5490196078431373"
      ]
     },
     "execution_count": 177,
     "metadata": {},
     "output_type": "execute_result"
    }
   ],
   "source": [
    "optimizer=torch.optim.Adam(model.parameters(),lr=.1)\n",
    "criterion=torch.nn.CrossEntropyLoss()\n",
    "def train():\n",
    "    model.train()\n",
    "    optimizer.zero_grad()\n",
    "    out=model(data.x_dict, data.edge_index_dict)\n",
    "    #print(out)\n",
    "    loss=criterion(out['atom'][data['atom'].train_mask],data['atom'].y[data['atom'].train_mask])\n",
    "    loss.backward()\n",
    "    optimizer.step()\n",
    "    return loss\n",
    "\n",
    "def test():\n",
    "    model.eval()\n",
    "    out=model(data.x_dict,data.edge_index_dict)\n",
    "    #print(out)\n",
    "    pred=out['atom'].argmax(dim=1)\n",
    "    #print(out)\n",
    "    test_correct=pred[data['atom'].test_mask]==data['atom'].y[data['atom'].test_mask]\n",
    "    test_acc=int(test_correct.sum())/int(data['atom'].test_mask.sum())\n",
    "\n",
    "   \n",
    "    classificationReport=classification_report(data['atom'].y[data['atom'].test_mask],pred[data['atom'].test_mask])\n",
    "    print(classificationReport)\n",
    "    return test_acc\n",
    "\n",
    "for epcoh in range(1,501):\n",
    "    loss=train()\n",
    "print('Epoch : {} , accuracy : {}'.format(epcoh,loss))\n",
    "    \n",
    "test()"
   ]
  },
  {
   "cell_type": "code",
   "execution_count": null,
   "id": "734d0e94-3262-4fa2-9bd4-c1b12ed0558e",
   "metadata": {},
   "outputs": [],
   "source": []
  }
 ],
 "metadata": {
  "kernelspec": {
   "display_name": "Python 3 (ipykernel)",
   "language": "python",
   "name": "python3"
  },
  "language_info": {
   "codemirror_mode": {
    "name": "ipython",
    "version": 3
   },
   "file_extension": ".py",
   "mimetype": "text/x-python",
   "name": "python",
   "nbconvert_exporter": "python",
   "pygments_lexer": "ipython3",
   "version": "3.8.3"
  }
 },
 "nbformat": 4,
 "nbformat_minor": 5
}
