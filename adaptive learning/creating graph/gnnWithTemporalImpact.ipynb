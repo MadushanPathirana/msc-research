{
 "cells": [
  {
   "cell_type": "code",
   "execution_count": 1,
   "id": "d4d16016-67cc-41b0-81f0-0d72e0c4438b",
   "metadata": {},
   "outputs": [],
   "source": [
    "import logging\n",
    "import sys\n",
    "import datetime\n",
    "\n",
    "from icecream import ic\n",
    "from tqdm import tqdm"
   ]
  },
  {
   "cell_type": "code",
   "execution_count": null,
   "id": "61fbbc9c-e693-4e7d-ae68-74043ef3b87a",
   "metadata": {},
   "outputs": [],
   "source": []
  },
  {
   "cell_type": "code",
   "execution_count": 2,
   "id": "57886db5-79e6-41f6-8555-80682a409e9c",
   "metadata": {},
   "outputs": [],
   "source": [
    "\n",
    "def time_now():\n",
    "  \n",
    "    return f\"{datetime.datetime.now().strftime('%Y-%m-%d %H:%M:%S')} |\"\n",
    "#.strftime('%Y-%m-%d %H:%M:%S')\n",
    "ic.configureOutput(prefix=time_now)\n",
    "ic.configureOutput(includeContext=True) "
   ]
  },
  {
   "cell_type": "markdown",
   "id": "cd6b829d-c435-4692-b4a5-a08470226c17",
   "metadata": {},
   "source": [
    "https://github.com/jhljx/GKT "
   ]
  },
  {
   "cell_type": "markdown",
   "id": "e72d9bf7-5e17-42b3-8946-b4fe4195decb",
   "metadata": {},
   "source": [
    "https://pytorch-geometric.readthedocs.io/en/latest/_modules/torch_geometric/nn/aggr/lstm.html"
   ]
  },
  {
   "cell_type": "code",
   "execution_count": 3,
   "id": "a1c27469-f6d1-402a-8e85-dcd8ea6f3afa",
   "metadata": {
    "tags": []
   },
   "outputs": [],
   "source": [
    "import pandas as pd\n",
    "import numpy as np\n",
    "import networkx as nx\n",
    "import matplotlib.pyplot as plt;\n",
    "np.random.seed(42);"
   ]
  },
  {
   "cell_type": "code",
   "execution_count": 4,
   "id": "52cfbf95-2e9a-45d1-987c-963469771833",
   "metadata": {},
   "outputs": [],
   "source": [
    "from sklearn.metrics import roc_auc_score;\n",
    "from sklearn.metrics import classification_report;"
   ]
  },
  {
   "cell_type": "code",
   "execution_count": 5,
   "id": "d03a4236-7f5c-40c5-ac9f-a43d2d8afac2",
   "metadata": {},
   "outputs": [],
   "source": [
    "pd.set_option('display.max_columns', None);"
   ]
  },
  {
   "cell_type": "code",
   "execution_count": 6,
   "id": "e8cbedf5-9e52-46a9-94bb-9bc357120fa2",
   "metadata": {},
   "outputs": [],
   "source": [
    "df=pd.read_pickle('appmath.pkl')[['graph_id', 'user_id', \n",
    "       'goal_id',\n",
    "        'interaction_end_time',\n",
    "       'learning_objective_name', 'atom_id', \n",
    "       'correct', 'time_spent_answering_s', 'time_spent_on_instruction_s',\n",
    "       'goal_progress',\n",
    "       'target_status_and_progress', 'prev_concept_narrative',\n",
    "       'duration_s', 'is_target']]  "
   ]
  },
  {
   "cell_type": "code",
   "execution_count": 7,
   "id": "dc1ea2be-8996-4520-b71e-e3be3c44e2e5",
   "metadata": {},
   "outputs": [],
   "source": [
    "df2=pd.read_csv('prereq_edges.csv')"
   ]
  },
  {
   "cell_type": "code",
   "execution_count": 8,
   "id": "6c33f922-d8a2-4ef2-b721-15632dc3002c",
   "metadata": {},
   "outputs": [],
   "source": [
    "G=nx.Graph()\n",
    "\n",
    "for _,i in df2.iterrows():    \n",
    "       \n",
    "        G.add_edge(i['source_lo_title'],i['dest_lo_title'])\n",
    "        \n",
    "subgraphs=[G.subgraph(i) for i in nx.connected_components(G)]\n",
    "\n",
    "for num,sub in enumerate(subgraphs):\n",
    "    \n",
    "    nx.set_node_attributes(sub,num,'subGraphId')\n",
    "\n",
    "nodeSubGraphId={}\n",
    "for g in subgraphs:\n",
    "    for node in g.nodes(data=True):\n",
    "         nodeSubGraphId[node[0]]= node[1]['subGraphId']\n",
    "            \n",
    "subgraphsNodeCountDict={ num: g.number_of_nodes() for num,g in  enumerate(subgraphs)}"
   ]
  },
  {
   "cell_type": "code",
   "execution_count": 9,
   "id": "ee949d5e-eb06-4b71-8b4d-c1064e145cf6",
   "metadata": {},
   "outputs": [],
   "source": [
    "for col in df.columns:\n",
    "    if df[col].dtype.name=='category':\n",
    "        df[col]=df[col].astype(str)"
   ]
  },
  {
   "cell_type": "markdown",
   "id": "76f76eab-a75f-49b0-b846-5fc57abdc39a",
   "metadata": {},
   "source": [
    "https://colab.research.google.com/drive/1jDiuseAdtZCYbAX2IRv2HU8zG5585bRi?usp=sharing#scrollTo=GQ9SKdThF8Bq"
   ]
  },
  {
   "cell_type": "markdown",
   "id": "7ee4da2d-53b7-457a-95fb-f4a05d6be4c4",
   "metadata": {},
   "source": [
    "https://anuradhawick.com/software-tools/"
   ]
  },
  {
   "cell_type": "code",
   "execution_count": 10,
   "id": "f6b4a39a-9905-44fd-8f8b-1c9d98468099",
   "metadata": {},
   "outputs": [],
   "source": [
    "df['loGraphID']=df.learning_objective_name.apply(lambda x: nodeSubGraphId.get(x) )"
   ]
  },
  {
   "cell_type": "code",
   "execution_count": 11,
   "id": "ae1439df-3e46-4644-9932-9f84ad5cc420",
   "metadata": {},
   "outputs": [],
   "source": [
    "difficulty=df[~df.correct.isna()].groupby('atom_id')['correct'].mean().reset_index().rename(columns={'correct':'difficulty'})"
   ]
  },
  {
   "cell_type": "code",
   "execution_count": 12,
   "id": "6585a193-339a-4bb8-b529-dce29b9befa8",
   "metadata": {},
   "outputs": [],
   "source": [
    "df=df.merge(difficulty,how='left',on='atom_id')"
   ]
  },
  {
   "cell_type": "code",
   "execution_count": 13,
   "id": "8a7f4b29-5915-44f8-ad35-8d7f5c8adaa1",
   "metadata": {},
   "outputs": [],
   "source": [
    "#loIndex={lo:i for i,lo in enumerate( df.learning_objective_name.unique())}\n",
    "#df['loIndex']=df['learning_objective_name'].apply(lambda x: loIndex[x])"
   ]
  },
  {
   "cell_type": "code",
   "execution_count": 14,
   "id": "e81eb600-b208-42ea-b014-8d24b27a13e3",
   "metadata": {},
   "outputs": [],
   "source": [
    "def atomClassifier(x):\n",
    "    if x==None:\n",
    "        return 'learningMaterial'\n",
    "    else:\n",
    "        return 'question'"
   ]
  },
  {
   "cell_type": "code",
   "execution_count": 15,
   "id": "16f7b8a2-052c-47ac-bbfc-388de6cf03e7",
   "metadata": {},
   "outputs": [],
   "source": [
    "df['atom_type']=df.correct.apply(lambda x:atomClassifier(x) )"
   ]
  },
  {
   "cell_type": "code",
   "execution_count": 16,
   "id": "50eec388-70ad-4200-acc0-fc21ab1ece6b",
   "metadata": {},
   "outputs": [],
   "source": [
    "df['correctBinary']=df.correct*1\n",
    "df.atom_id=df.atom_id.astype(str)\n"
   ]
  },
  {
   "cell_type": "code",
   "execution_count": 17,
   "id": "1980163b-c424-401d-8625-ebe39021d6ce",
   "metadata": {},
   "outputs": [],
   "source": [
    "df2['graph_id']=df2.apply(lambda x: nodeSubGraphId.get(x['source_lo_title']) if nodeSubGraphId.get(x['source_lo_title'])!=None else nodeSubGraphId.get(x['dest_lo_title']),axis=1)"
   ]
  },
  {
   "cell_type": "code",
   "execution_count": null,
   "id": "0781059f-735e-4ad4-8971-f0a6bfae0fdf",
   "metadata": {},
   "outputs": [],
   "source": []
  },
  {
   "cell_type": "code",
   "execution_count": 18,
   "id": "d1504bbd-909c-490e-a86a-e05cf0447f99",
   "metadata": {},
   "outputs": [],
   "source": [
    "unique_lo_graph_id_dic={}\n",
    "for i in df2.graph_id.unique():\n",
    "    unique_lo=np.unique(np.concatenate((df2[df2.graph_id==i]['source_lo_title'].unique(),((df2[df2.graph_id==i]['dest_lo_title'].unique())))))\n",
    "    unique_lo_graph_id_dic[i]={ item:int(num)  for  num,item in enumerate(unique_lo)}\n",
    "    df2.loc[df2.graph_id==i,'source_index' ]=df2.apply(lambda x: unique_lo_graph_id_dic.get(i).get(x['source_lo_title']),axis=1)\n",
    "    df2.loc[df2.graph_id==i,'dest_index' ]=df2.apply(lambda x: unique_lo_graph_id_dic.get(i).get(x['dest_lo_title']),axis=1)"
   ]
  },
  {
   "cell_type": "code",
   "execution_count": 19,
   "id": "b1abebbe-ded8-4762-8693-4cf106abd73e",
   "metadata": {},
   "outputs": [],
   "source": [
    "df2.source_index=df2.source_index.astype(int)\n",
    "df2.dest_index=df2.dest_index.astype(int)"
   ]
  },
  {
   "cell_type": "code",
   "execution_count": 20,
   "id": "1f67b688-9f2b-4651-a729-aaf4489bfe70",
   "metadata": {},
   "outputs": [],
   "source": [
    "df=df[~df.loGraphID.isna()]"
   ]
  },
  {
   "cell_type": "code",
   "execution_count": 21,
   "id": "d7fe1c3c-8ce9-428f-9372-42617b842252",
   "metadata": {},
   "outputs": [],
   "source": [
    "df['loIndex']=df.apply(lambda x: unique_lo_graph_id_dic[x['loGraphID']].get(x['learning_objective_name'] ),axis=1)"
   ]
  },
  {
   "cell_type": "code",
   "execution_count": 22,
   "id": "0f9e0c47-4ba3-4d61-8855-5a4db74f17c3",
   "metadata": {},
   "outputs": [
    {
     "data": {
      "text/plain": [
       "source_lo_id                    eda7ab6a-8070-4fd8-8387-da17a40fd99e\n",
       "dest_lo_id                      eda7ab6a-8070-4fd8-8387-da17a40fd99e\n",
       "source_lo_title    Write biconditional statements in symbolic for...\n",
       "dest_lo_title      Write biconditional statements in symbolic for...\n",
       "graph_id                                                           3\n",
       "source_index                                                      30\n",
       "dest_index                                                        30\n",
       "dtype: object"
      ]
     },
     "execution_count": 22,
     "metadata": {},
     "output_type": "execute_result"
    }
   ],
   "source": [
    "df2[df2.graph_id==3].max()"
   ]
  },
  {
   "cell_type": "code",
   "execution_count": 23,
   "id": "756d09ea-0894-458c-b0e3-41946de063aa",
   "metadata": {},
   "outputs": [],
   "source": [
    "loGraphID=26"
   ]
  },
  {
   "cell_type": "code",
   "execution_count": 24,
   "id": "efd8e210-131f-4918-a0b6-e9310541f406",
   "metadata": {},
   "outputs": [],
   "source": [
    "loEdgeMapping=df2[df2['graph_id']==loGraphID][['source_index','dest_index']]\n",
    "loEdgeIndex=loEdgeMapping.values.transpose()"
   ]
  },
  {
   "cell_type": "code",
   "execution_count": 25,
   "id": "52de3b0c-123d-4c9c-9de8-f4a4bf26d195",
   "metadata": {},
   "outputs": [],
   "source": [
    "from torch_geometric.data import HeteroData\n",
    "import torch \n"
   ]
  },
  {
   "cell_type": "code",
   "execution_count": 26,
   "id": "1e16c203-4ad9-4538-b5b8-90c9cfdcf4b7",
   "metadata": {},
   "outputs": [],
   "source": [
    "import torch_geometric.transforms as T"
   ]
  },
  {
   "cell_type": "markdown",
   "id": "90676ceb-37e7-4fe3-a450-8902364626cf",
   "metadata": {},
   "source": [
    "usersGraphDataList=[]\n",
    "min_atom_count=5\n",
    "max_atom_count=500\n",
    "for user in tqdm(users): \n",
    "    try:\n",
    "        user_atom_count=df[(df.loGraphID==loGraphID) & (df.user_id==user) & (df.atom_type=='question')].shape[0]\n",
    "        if user_atom_count>min_atom_count and user_atom_count<=max_atom_count:\n",
    "            features, edges,target =user_dataset(df,df2,user,loGraphID )\n",
    "            data=generate_data(features, edges,target)\n",
    "            usersGraphDataList.append(data)\n",
    "    except:\n",
    "        pass\n",
    "    "
   ]
  },
  {
   "cell_type": "code",
   "execution_count": null,
   "id": "12eacebd-2bcf-4c93-b1c5-282dd0a8dc5d",
   "metadata": {},
   "outputs": [],
   "source": []
  },
  {
   "cell_type": "code",
   "execution_count": null,
   "id": "96c34dad-cb42-4fc0-aa5b-8efbdb271cbc",
   "metadata": {},
   "outputs": [],
   "source": []
  },
  {
   "cell_type": "code",
   "execution_count": 826,
   "id": "ff9e1b61-f0de-490f-9534-451a778b1e5d",
   "metadata": {},
   "outputs": [
    {
     "name": "stdout",
     "output_type": "stream",
     "text": [
      "ERROR! Session/line number was not unique in database. History logging moved to new session 1834\n"
     ]
    }
   ],
   "source": [
    "import torch_geometric as pyg\n",
    "from torch_geometric.nn import GCNConv \n",
    "from torch_geometric.nn import SAGEConv, to_hetero ,LSTMAggregation\n",
    "import  torch.nn as nn\n",
    "import torch.nn.functional as F\n",
    "import torch \n",
    "from torch_geometric.loader import DataLoader"
   ]
  },
  {
   "cell_type": "code",
   "execution_count": 29,
   "id": "6d2ce58b-34e2-4d80-aa5b-583c2513a87e",
   "metadata": {},
   "outputs": [],
   "source": [
    "class GNN(torch.nn.Module):\n",
    "    def __init__(self, hidden_channels, out_channels):\n",
    "        super().__init__()\n",
    "        self.conv1 = SAGEConv((-1, -1), hidden_channels,requires_grad=False)\n",
    "        self.actfn1=nn.ReLU()\n",
    "        \n",
    "        self.conv2 = SAGEConv((-1, -1), hidden_channels,requires_grad=False)\n",
    "        self.actfn2=nn.ReLU()\n",
    "        \n",
    "        self.conv3 = SAGEConv((-1, -1), hidden_channels,requires_grad=False)\n",
    "        self.actfn3=nn.ReLU()\n",
    "        \n",
    "        self.linear=nn.Linear(hidden_channels,hidden_channels)\n",
    "        \n",
    "        #self.lstm = nn.LSTM(input_size=hidden_channels, hidden_size=50,num_layers=1, batch_first=True)\n",
    "        \n",
    "        self.out=nn.Linear(hidden_channels,out_channels)\n",
    "        self.sigmoid=nn.Sigmoid()\n",
    "\n",
    "    def forward(self, x, edge_index):\n",
    "        # First Message Passing layer\n",
    "        x = self.actfn1(self.conv1(x, edge_index))\n",
    "        x= F.dropout(x,p=.1,training=self.training)\n",
    "        \n",
    "        # Second Message Passing layer\n",
    "        x = self.actfn2(self.conv2(x, edge_index))\n",
    "        x= F.dropout(x,p=.1,training=self.training)\n",
    "        \n",
    "        # Third Message Passing layer  \n",
    "        #x = self.actfn3(self.conv3(x, edge_index))\n",
    "        #x= F.dropout(x,p=.25,training=self.training)\n",
    "        x = self.linear(x)\n",
    "        #x, _ = self.lstm(x)\n",
    "       \n",
    "        \n",
    "        # Out layer\n",
    "        x=self.sigmoid( self.out(x))\n",
    "        \n",
    "        return x\n",
    "\n",
    "\n",
    "#model_1 = GNN(hidden_channels=64, out_channels=2)\n",
    "#model_1 = to_hetero(model_1, data.metadata(), aggr='sum')"
   ]
  },
  {
   "cell_type": "code",
   "execution_count": 30,
   "id": "c3b2fba3-b39f-4f06-b428-257bc737a25c",
   "metadata": {},
   "outputs": [],
   "source": [
    "usersGraphDataList\n",
    "def batch_generator(usersGraphDataList):\n",
    "    \n",
    "    np.random.shuffle(usersGraphDataList)\n",
    "    test_size=int(len(usersGraphDataList)*.2)\n",
    "    test_data=usersGraphDataList[:test_size]\n",
    "    train_data=usersGraphDataList[test_size:]\n",
    "    \n",
    "    return test_data,train_data\n",
    "    "
   ]
  },
  {
   "cell_type": "markdown",
   "id": "0da1d24f-e3ee-48ef-854d-aca4d796d163",
   "metadata": {},
   "source": [
    "model_1 = GNN(hidden_channels=200, out_channels=2)\n",
    "model_1 = to_hetero(model_1, data.metadata(), aggr='mean')\n",
    "\n",
    "\n",
    "#model_2 = GAT(hidden_channels=100, out_channels=2)\n",
    "#model_2 = to_hetero(model_2, data.metadata(), aggr='mean')\n",
    "\n",
    "\n",
    "model=model_1\n",
    "#dataLoader=list(DataLoader(usersGraphDataList,batch_size=80))\n",
    "test_data,train_data=batch_generator(usersGraphDataList)\n",
    "learning_rate=0.01\n",
    "optimizer=torch.optim.Adam(model.parameters(),lr=learning_rate)\n",
    "criterion=torch.nn.CrossEntropyLoss()\n",
    "train_acc_mean_list=[]\n",
    "test_acc_mean_list=[]\n",
    "loss_list=[]\n",
    "best_score=0\n",
    "\n",
    "start_training=True\n",
    "if start_training:\n",
    "    for epcoh in range(7):\n",
    "        train_acc_list=[]\n",
    "        test_acc_list=[]\n",
    "        loss_list=[]\n",
    "        for num, data in enumerate(tqdm(train_data)):\n",
    "            model.train()\n",
    "            optimizer.zero_grad()\n",
    "            #data.x = torch.from_numpy(data.x_dict)\n",
    "            #data.edge_index = torch.from_numpy(data.edge_index_dict)\n",
    "            out=model(data.x_dict, data.edge_index_dict)  # model1\n",
    "            #out = model(data.x, data.edge_index)\n",
    "            #BCELoss -> loss=criterion(out['atom'][data['atom'].train_mask].argmax(dim=1).float().requires_grad_(True),data['atom'].y[data['atom'].train_mask].float())\n",
    "            #loss=criterion(out['atom'][data['atom'].train_mask].argmax(dim=1).float().requires_grad_(True),data['atom'].y[data['atom'].train_mask].float())\n",
    "            loss=criterion(out['atom'],data['atom'].y)\n",
    "            #loss=criterion(out['atom'].argmax(dim=1).float().requires_grad_(True),data['atom'].y.float())\n",
    "            loss.backward()\n",
    "\n",
    "            optimizer.step()\n",
    "            pred=out['atom'].argmax(dim=1)\n",
    "            train_correct=pred==data['atom'].y\n",
    "            train_acc=int(train_correct.sum())/data['atom'].y.shape[0]\n",
    "            train_acc_list.append(train_acc)\n",
    "\n",
    "\n",
    "\n",
    "        #test_acc_mean_list.append(np.mean(test_acc_list))\n",
    "            if epcoh==0 and num ==0:\n",
    "                best_score=loss\n",
    "            elif best_score<loss:\n",
    "                best_score=loss\n",
    "                best_model = model\n",
    "            loss_list.append(loss.item())\n",
    "        model.eval()\n",
    "        model_performance='epoch : {} , loss :{:.4f} , accuracy : {:.4f} \\n'.format(epcoh+1,np.mean(loss_list),np.mean(train_acc_list))\n",
    "        ic(model_performance);\n",
    "\n"
   ]
  },
  {
   "cell_type": "raw",
   "id": "b4279fa0-67d5-4a71-8397-6d7411b793dd",
   "metadata": {},
   "source": [
    "test_score=[]\n",
    "target=[]\n",
    "pred_prob=[]\n",
    "for num, data in enumerate(test_data):\n",
    "    try:\n",
    "        out=model(data.x_dict, data.edge_index_dict)\n",
    "        pred=out['atom'].argmax(dim=1)\n",
    "        test_correct=pred[data['atom'].test_mask]==data['atom'].y[data['atom'].test_mask]\n",
    "        test_acc=int(test_correct.sum())/int(data['atom'].test_mask.sum())\n",
    "        print('Test case : {} , nodes : {} , accuracy : {:.4f} '.format(num+1,data['atom'].x.shape[0],test_acc))\n",
    "        target.append(data['atom'].y[data['atom'].test_mask].item())\n",
    "        pred_prob.append(out['atom'][data['atom'].test_mask].detach()[0].tolist()[1])\n",
    "        test_score.append(test_acc)\n",
    "    except:\n",
    "        pass\n",
    "print('Mean accuracy : {} , AUC : {}'.format(np.mean(test_score),roc_auc_score(np.array(target),pred_prob)))"
   ]
  },
  {
   "cell_type": "code",
   "execution_count": 31,
   "id": "4429acca-d9cc-4c6e-b5fd-e768bf551bb1",
   "metadata": {},
   "outputs": [
    {
     "data": {
      "text/plain": [
       "Index(['graph_id', 'user_id', 'goal_id', 'interaction_end_time',\n",
       "       'learning_objective_name', 'atom_id', 'correct',\n",
       "       'time_spent_answering_s', 'time_spent_on_instruction_s',\n",
       "       'goal_progress', 'target_status_and_progress', 'prev_concept_narrative',\n",
       "       'duration_s', 'is_target', 'loGraphID', 'difficulty', 'atom_type',\n",
       "       'correctBinary', 'loIndex'],\n",
       "      dtype='object')"
      ]
     },
     "execution_count": 31,
     "metadata": {},
     "output_type": "execute_result"
    }
   ],
   "source": [
    "#user_dataset(df,df2,'0012ff2b-871a-45d6-8e33-804f7464fa0a',3 )\n",
    "df.columns"
   ]
  },
  {
   "cell_type": "code",
   "execution_count": 32,
   "id": "de0bcc85-91bb-4241-8f0c-a439e98e3edb",
   "metadata": {},
   "outputs": [],
   "source": [
    "dft=df[(df.loGraphID==loGraphID)]"
   ]
  },
  {
   "cell_type": "code",
   "execution_count": 33,
   "id": "3ae39f4f-c0de-4b9b-8f43-6cd43f883cb6",
   "metadata": {
    "tags": []
   },
   "outputs": [],
   "source": [
    "#dft.groupby('user_id')['atom_id'].count()"
   ]
  },
  {
   "cell_type": "code",
   "execution_count": 693,
   "id": "b5e28d04-f40e-4767-ae37-4868303047f5",
   "metadata": {},
   "outputs": [
    {
     "data": {
      "text/plain": [
       "['4fb849d4-3798-4524-a93a-fe7b56cfb90a',\n",
       " 'b660a384-1ca7-4cd8-9811-e2d3aedc378c',\n",
       " 'e1000e42-ffd1-4782-9f14-aa75ce6a8b0e',\n",
       " '37907049-c931-4ce8-82a8-94b6cd2c1dbd',\n",
       " 'f7086166-753c-4867-af57-0e2b82fe3cbf',\n",
       " 'e4ac6b18-5423-4886-b7ee-a8fd2c54ca9f',\n",
       " '9c40062e-0719-4f9b-9d6a-bca4d37a2ce5',\n",
       " 'e3bce254-2394-46f3-9053-8437e5b810a4',\n",
       " '3eb9212c-523a-49fb-a670-3a51ae1ff87e',\n",
       " '1014fea4-cd45-4b59-b903-4c59a4360fcb',\n",
       " 'bbc510e7-6659-4092-bde3-96d10fa0e7e0',\n",
       " '92a51cf7-0396-4751-8ac0-7e2ec2b4f02f',\n",
       " '7e0f991c-23b3-49bb-bcc5-38c26263bf4b',\n",
       " 'efb10a25-84d0-4e96-bd3d-762b24f1b0a1',\n",
       " 'ab380c7a-306e-4f3e-adf6-425bf2833a84',\n",
       " 'ef963abb-beda-4105-b142-72b6d0ca8b6f',\n",
       " 'c7e39c9c-39dc-42bd-a4ee-c622edecf3c9',\n",
       " '8259fae9-a618-46b6-a95a-380a41812f7b',\n",
       " '81f01061-9f19-4a2e-90b2-04c95bae81f2',\n",
       " '1c991ad0-89aa-4aa9-94b9-fea443b609bc',\n",
       " 'eb073db0-f433-4711-bb9f-c2941aca5273',\n",
       " 'ba36b8f6-e67d-4931-8149-2a2a5b78c101',\n",
       " '822068ff-5469-4321-b03c-b616645a4bb1',\n",
       " '905c2238-1c04-4c4a-b782-bccb21f5f967',\n",
       " 'dd102d86-6cb2-4684-bf5b-e0673381562d',\n",
       " 'd744d19c-13fd-488a-a7dc-fca89ea3614a',\n",
       " '7e574580-9081-4266-b59c-089ffc570e8e',\n",
       " '8e65ec8f-18eb-4546-85f2-5698aea5e4f1',\n",
       " 'f5cb8dea-0744-4f4a-ba73-405e51b89a45',\n",
       " 'a6bf16b1-45e7-4c2f-b823-e0edb7503a38']"
      ]
     },
     "execution_count": 693,
     "metadata": {},
     "output_type": "execute_result"
    }
   ],
   "source": [
    "dft.groupby('user_id')['atom_id'].count().sort_values()[20:50].index.to_list()"
   ]
  },
  {
   "cell_type": "code",
   "execution_count": 708,
   "id": "6b6069cc-a133-436a-9a8c-7caa893e2e9a",
   "metadata": {},
   "outputs": [],
   "source": [
    "user_t=dft.groupby('user_id')['atom_id'].count().sort_values()[20:70].index.to_list()"
   ]
  },
  {
   "cell_type": "code",
   "execution_count": 709,
   "id": "86ade587-eb2f-4a1e-90f4-92f720e3fe06",
   "metadata": {},
   "outputs": [],
   "source": [
    "df_tu=dft[dft.user_id.isin(user_t)].sort_values(['user_id','interaction_end_time']).reset_index(drop=True)"
   ]
  },
  {
   "cell_type": "code",
   "execution_count": 715,
   "id": "0dcbbe89-ab03-4f23-b471-889bfc2333d6",
   "metadata": {},
   "outputs": [],
   "source": [
    "df_tu_list=[]\n",
    "question_count=0\n",
    "for row_id,row in df_tu.iterrows():\n",
    "    if row_id==0:\n",
    "        user_id=row['user_id']\n",
    "    if row_id>0:\n",
    "        if user_id != row['user_id']:\n",
    "            question_count=0\n",
    "            user_id=row['user_id']\n",
    "    if row['atom_type'] =='question':\n",
    "        question_count =question_count+1\n",
    "        if question_count>2:\n",
    "            df_tu_list.append(df_tu.iloc[:row_id+1])"
   ]
  },
  {
   "cell_type": "code",
   "execution_count": null,
   "id": "8b8b1a15-df4e-457a-a920-5b10b2f1c8b0",
   "metadata": {},
   "outputs": [],
   "source": []
  },
  {
   "cell_type": "code",
   "execution_count": 717,
   "id": "3a9ef5b1-954f-497b-aea4-80f73f886f0f",
   "metadata": {},
   "outputs": [
    {
     "data": {
      "text/plain": [
       "1431"
      ]
     },
     "execution_count": 717,
     "metadata": {},
     "output_type": "execute_result"
    }
   ],
   "source": [
    "len(df_tu_list)"
   ]
  },
  {
   "cell_type": "code",
   "execution_count": null,
   "id": "05a5d70e-3fa7-4133-b1f7-b7f28ab2ca62",
   "metadata": {},
   "outputs": [],
   "source": []
  },
  {
   "cell_type": "code",
   "execution_count": 718,
   "id": "afe4452c-16b3-4644-b09f-18854d7c7733",
   "metadata": {},
   "outputs": [],
   "source": [
    "def user_dataset_with_target_node(userDf,df2,user,goal,loEdgeIndex):\n",
    "    \n",
    "    '''\n",
    "    df - df should be filtered by goal id\n",
    "    \n",
    "    edges\n",
    "    -------\n",
    "    lo -> atom\n",
    "    atom -> atom\n",
    "    lo -> learning materials (lm)\n",
    "    atom -> lm\n",
    "    lm -> atom\n",
    "    lm -> lm\n",
    "    lm/atom -> target\n",
    "    \n",
    "    node / features\n",
    "    ---------------\n",
    "    \n",
    "    lo - radnom number\n",
    "    atom - dificulty ,  correctness\n",
    "    lm - time spend \n",
    "    '''\n",
    "    userDf.loc[userDf.shape[0]-1,'atom_type']='target'\n",
    "    \n",
    "    atomIndex=np.arange(userDf[userDf.atom_type=='question'].atom_id.shape[0])\n",
    "    lmIndex=np.arange(userDf[userDf.atom_type=='learningMaterial'].atom_id.shape[0])\n",
    "    \n",
    "    # assisgning questions and learningMaterials index seperatly in sinlge columns 'atom_index'\n",
    "    userDf.loc[userDf.atom_type=='question','atomIndex']=atomIndex\n",
    "    userDf.loc[userDf.atom_type=='learningMaterial','atomIndex']=lmIndex\n",
    "    userDf.loc[userDf.atom_type=='target','atomIndex']=0\n",
    "    \n",
    "    #lo-atom\n",
    "    loAtomEdgeIndex=userDf[userDf.atom_type=='question'][['loIndex','atomIndex']].values.transpose()\n",
    "    #lo-lm\n",
    "    loLmEdgeIndex=userDf[userDf.atom_type=='learningMaterial'][['loIndex','atomIndex']].values.transpose()\n",
    "    #lo-target\n",
    "    loTargetEdgeIndex=userDf[userDf.atom_type=='target'][['loIndex','atomIndex']].values.transpose()\n",
    "    \n",
    "    userDf['atom_type_shift']=userDf.atom_type.shift(-1)\n",
    "    userDf['atomIndex_shift']=userDf.atomIndex.shift(-1)\n",
    "    \n",
    "    featuresDict={}\n",
    "    #atom features\n",
    "    atomFeatures = userDf[userDf.atom_type=='question'][['difficulty','correctBinary']].astype(float).to_numpy()\n",
    "    featuresDict['atom']=atomFeatures\n",
    "    #learning materials features\n",
    "    #lmFeatures = userDf[userDf.atom_type=='learningMaterial'][['duration_s']].to_numpy()\n",
    "    \n",
    "    if  lmIndex.size>0 :\n",
    "            lmFeatures = userDf[userDf.atom_type=='learningMaterial'][['duration_s']].to_numpy()\n",
    "            featuresDict['lm']=lmFeatures\n",
    "            \n",
    "    #learning objectives\n",
    "    loFeatures=np.ones(loEdgeIndex.max()+1).reshape(-1,1)\n",
    "    featuresDict['lo']=loFeatures\n",
    "    \n",
    "    #target features\n",
    "    targetFeatures = userDf[userDf.atom_type=='target'][['difficulty']].to_numpy()\n",
    "    featuresDict['target']=targetFeatures\n",
    "    targetCorrectness=userDf[userDf.atom_type=='target'][['correctBinary']].astype(float).to_numpy()\n",
    "    \n",
    "    userDf_shift= userDf[~userDf.atomIndex_shift.isna()].copy() \n",
    "\n",
    "    edgesDict={}\n",
    "    #atom-atom\n",
    "    atomEdgeIndex=userDf_shift[(userDf_shift.atom_type=='question') & (userDf_shift.atom_type_shift=='question')][['atomIndex','atomIndex_shift']].values.transpose()\n",
    "    if atomEdgeIndex.size >0:\n",
    "        edgesDict['atom']=atomEdgeIndex\n",
    "    #atom-lmatomLmEdgeIndex\n",
    "    atomLmEdgeIndex=userDf_shift[(userDf_shift.atom_type=='question') & (userDf_shift.atom_type_shift=='learningMaterial')][['atomIndex','atomIndex_shift']].values.transpose()\n",
    "    if atomLmEdgeIndex.size>0:\n",
    "        edgesDict['atom_lm']=atomLmEdgeIndex\n",
    "    #lm-atom\n",
    "    LmAtomEdgeIndex=userDf_shift[(userDf_shift.atom_type=='learningMaterial') & (userDf_shift.atom_type_shift=='question')][['atomIndex','atomIndex_shift']].values.transpose()\n",
    "    if LmAtomEdgeIndex.size>0:\n",
    "        edgesDict['lm_atom']=LmAtomEdgeIndex\n",
    "    #lm-lm\n",
    "    LmLmEdgeIndex=userDf_shift[(userDf_shift.atom_type=='learningMaterial') & (userDf_shift.atom_type_shift=='learningMaterial')][['atomIndex','atomIndex_shift']].values.transpose()\n",
    "    if LmLmEdgeIndex.size>0:\n",
    "        edgesDict['lm_lm']=LmLmEdgeIndex\n",
    "    \n",
    "    #lm-target\n",
    "    LmTargetEdgeIndex=userDf_shift[(userDf_shift.atom_type=='learningMaterial') & (userDf_shift.atom_type_shift=='target')][['atomIndex','atomIndex_shift']].values.transpose()\n",
    "    if LmTargetEdgeIndex.size>0:\n",
    "        edgesDict['lm_target']=LmTargetEdgeIndex\n",
    "    \n",
    "    #atom-target\n",
    "    atomTargetEdgeIndex=userDf_shift[(userDf_shift.atom_type=='question') & (userDf_shift.atom_type_shift=='target')][['atomIndex','atomIndex_shift']].values.transpose()\n",
    "    \n",
    "    edgesDict['atom_target']=atomTargetEdgeIndex\n",
    "\n",
    "    if  loLmEdgeIndex.size>0:\n",
    "        edgesDict['lo_lm']=loLmEdgeIndex\n",
    "\n",
    "    if  loAtomEdgeIndex.size>0:\n",
    "        edgesDict['lo_atom']=loAtomEdgeIndex\n",
    "    \n",
    "    edgesDict['lo_target']=loTargetEdgeIndex\n",
    "    edgesDict['lo']=loEdgeIndex\n",
    "    return featuresDict,edgesDict,targetCorrectness,userDf"
   ]
  },
  {
   "cell_type": "code",
   "execution_count": null,
   "id": "1582e6d7-6002-46f2-b5ab-43195534ba24",
   "metadata": {},
   "outputs": [],
   "source": []
  },
  {
   "cell_type": "code",
   "execution_count": 719,
   "id": "f1b9f1a2-f160-40a5-8d46-ce80797a1942",
   "metadata": {},
   "outputs": [],
   "source": [
    "def preprocess(df,df2,user,goal):\n",
    "        loEdgeMapping=df2[df2['graph_id']==goal][['source_index','dest_index']]\n",
    "        loEdgeIndex=loEdgeMapping.values.transpose()\n",
    "      \n",
    "        featuresDict,edgesDict,targetCorrectness,userDf=user_dataset_with_target_node(df,df2,user,goal,loEdgeIndex)\n",
    "        \n",
    "        return featuresDict,edgesDict,targetCorrectness,userDf\n",
    "    \n",
    "            "
   ]
  },
  {
   "cell_type": "code",
   "execution_count": null,
   "id": "42854daf-951d-4ef7-9a98-6a9b002fb440",
   "metadata": {},
   "outputs": [],
   "source": []
  },
  {
   "cell_type": "code",
   "execution_count": 803,
   "id": "85a58937-ed00-4d2d-a0fc-9e754d5e26f3",
   "metadata": {},
   "outputs": [],
   "source": [
    "def generate_data_with_target(features,edges,targetCorrectness):  \n",
    "    data = HeteroData()\n",
    "    #node features\n",
    "    data['atom'].x=torch.tensor(features['atom'].astype(np.float64)).float()\n",
    "    data['lo'].x= torch.tensor(features['lo']).float()\n",
    "    data['target'].x= torch.tensor(features['target']).float()\n",
    "    \n",
    "    #edge index\n",
    "    data['lo','lo_atom','atom'].edge_index=torch.from_numpy(edges['lo_atom']).long()\n",
    "    data['lo','lo_lo','lo'].edge_index= torch.from_numpy(edges['lo']).long()\n",
    "    data['lo','lo_target','target'].edge_index=torch.from_numpy(edges['lo_target']).long()\n",
    "    data['atom','atom_atom','atom'].edge_index=torch.from_numpy(edges['atom']).long()\n",
    "    data['atom','atom_target','target'].edge_index=torch.from_numpy(edges['atom_target']).long()\n",
    "    \n",
    "    \n",
    "    \n",
    "    #lm edges and features\n",
    "    if 'lm' in features:\n",
    "        data['lm'].x= torch.tensor(features['lm']).float()\n",
    "        data['lo','lo_lm','lm'].edge_index=torch.from_numpy(edges['lo_lm']).long()\n",
    "        \n",
    "    if 'lm_lm' in features:    \n",
    "        data['lm','lm_lm','lm'].edge_index=torch.from_numpy(edges['lm_lm']).long()\n",
    "    \n",
    "    if 'atom_lm' in features:\n",
    "        data['atom','atom_lm','lm'].edge_index=torch.from_numpy(edges['atom_lm']).long()\n",
    "    \n",
    "    if 'lm_atom' in features:\n",
    "        data['lm','atom_lm','atom'].edge_index=torch.from_numpy(edges['lm_atom']).long()\n",
    "    \n",
    "    data['target'].y=torch.from_numpy(targetCorrectness).long()\n",
    "\n",
    "    #train_mask = torch.ones(attom_count, dtype=torch.bool)\n",
    "    #train_mask[target_atom] = False\n",
    "    #data['atom'].train_mask = train_mask\n",
    "\n",
    "    #normalize=T.NormalizeFeatures()\n",
    "    #data=normalize(data)\n",
    "    return data"
   ]
  },
  {
   "cell_type": "code",
   "execution_count": null,
   "id": "9990207c-39ad-4c90-b356-ffd83a60a8e5",
   "metadata": {},
   "outputs": [],
   "source": []
  },
  {
   "cell_type": "code",
   "execution_count": null,
   "id": "83240593-7e9e-4cfd-ad23-377b5b74abe8",
   "metadata": {},
   "outputs": [],
   "source": []
  },
  {
   "cell_type": "code",
   "execution_count": 804,
   "id": "db75b252-46cc-47ec-be5b-c4ed1310f2af",
   "metadata": {},
   "outputs": [],
   "source": [
    "def data_batch_generator(df_tu_list):\n",
    "    data_list=[]\n",
    "    for i in tqdm(range(len(df_tu_list))):\n",
    "        featuresDict,edgesDict,targetCorrectness,userDf=preprocess(df_tu_list[i].copy(),df2,user_t,loGraphID) \n",
    "        data=generate_data_with_target(featuresDict,edgesDict,targetCorrectness)\n",
    "        data_list.append(data)\n",
    "    return data_list"
   ]
  },
  {
   "cell_type": "code",
   "execution_count": 989,
   "id": "c2364811-e6d3-4cc7-9aba-7d412b1d7ca9",
   "metadata": {},
   "outputs": [],
   "source": [
    "loGraphID=3"
   ]
  },
  {
   "cell_type": "code",
   "execution_count": 990,
   "id": "58105f28-9372-43d2-a947-b1c22c30f384",
   "metadata": {},
   "outputs": [],
   "source": [
    "dft=df[(df.loGraphID==loGraphID)]"
   ]
  },
  {
   "cell_type": "code",
   "execution_count": 991,
   "id": "2ec59226-9550-4948-891f-9a2ca17ef7e2",
   "metadata": {
    "tags": []
   },
   "outputs": [
    {
     "data": {
      "text/plain": [
       "user_id\n",
       "e4ac6b18-5423-4886-b7ee-a8fd2c54ca9f    23\n",
       "9c40062e-0719-4f9b-9d6a-bca4d37a2ce5    23\n",
       "e3bce254-2394-46f3-9053-8437e5b810a4    24\n",
       "3eb9212c-523a-49fb-a670-3a51ae1ff87e    25\n",
       "1014fea4-cd45-4b59-b903-4c59a4360fcb    26\n",
       "bbc510e7-6659-4092-bde3-96d10fa0e7e0    26\n",
       "92a51cf7-0396-4751-8ac0-7e2ec2b4f02f    27\n",
       "7e0f991c-23b3-49bb-bcc5-38c26263bf4b    27\n",
       "efb10a25-84d0-4e96-bd3d-762b24f1b0a1    28\n",
       "ab380c7a-306e-4f3e-adf6-425bf2833a84    29\n",
       "ef963abb-beda-4105-b142-72b6d0ca8b6f    29\n",
       "c7e39c9c-39dc-42bd-a4ee-c622edecf3c9    32\n",
       "8259fae9-a618-46b6-a95a-380a41812f7b    34\n",
       "81f01061-9f19-4a2e-90b2-04c95bae81f2    34\n",
       "1c991ad0-89aa-4aa9-94b9-fea443b609bc    35\n",
       "Name: atom_id, dtype: int64"
      ]
     },
     "execution_count": 991,
     "metadata": {},
     "output_type": "execute_result"
    }
   ],
   "source": [
    "dft.groupby('user_id')['atom_id'].count().sort_values()[25:40]#.index.to_list()"
   ]
  },
  {
   "cell_type": "code",
   "execution_count": 992,
   "id": "d11cf688-abaa-4d8a-8521-fa92c0ce7347",
   "metadata": {},
   "outputs": [],
   "source": [
    "user_t=dft.groupby('user_id')['atom_id'].count().sort_values()[25:50].index.to_list()"
   ]
  },
  {
   "cell_type": "code",
   "execution_count": 1011,
   "id": "3d8487e6-a9d8-4b59-9129-b580708cb37d",
   "metadata": {},
   "outputs": [
    {
     "data": {
      "text/plain": [
       "user_id\n",
       "e4ac6b18-5423-4886-b7ee-a8fd2c54ca9f    23\n",
       "9c40062e-0719-4f9b-9d6a-bca4d37a2ce5    23\n",
       "e3bce254-2394-46f3-9053-8437e5b810a4    24\n",
       "3eb9212c-523a-49fb-a670-3a51ae1ff87e    25\n",
       "1014fea4-cd45-4b59-b903-4c59a4360fcb    26\n",
       "bbc510e7-6659-4092-bde3-96d10fa0e7e0    26\n",
       "92a51cf7-0396-4751-8ac0-7e2ec2b4f02f    27\n",
       "7e0f991c-23b3-49bb-bcc5-38c26263bf4b    27\n",
       "efb10a25-84d0-4e96-bd3d-762b24f1b0a1    28\n",
       "ab380c7a-306e-4f3e-adf6-425bf2833a84    29\n",
       "ef963abb-beda-4105-b142-72b6d0ca8b6f    29\n",
       "c7e39c9c-39dc-42bd-a4ee-c622edecf3c9    32\n",
       "8259fae9-a618-46b6-a95a-380a41812f7b    34\n",
       "81f01061-9f19-4a2e-90b2-04c95bae81f2    34\n",
       "1c991ad0-89aa-4aa9-94b9-fea443b609bc    35\n",
       "eb073db0-f433-4711-bb9f-c2941aca5273    36\n",
       "ba36b8f6-e67d-4931-8149-2a2a5b78c101    36\n",
       "822068ff-5469-4321-b03c-b616645a4bb1    36\n",
       "905c2238-1c04-4c4a-b782-bccb21f5f967    37\n",
       "dd102d86-6cb2-4684-bf5b-e0673381562d    38\n",
       "d744d19c-13fd-488a-a7dc-fca89ea3614a    38\n",
       "7e574580-9081-4266-b59c-089ffc570e8e    39\n",
       "8e65ec8f-18eb-4546-85f2-5698aea5e4f1    39\n",
       "f5cb8dea-0744-4f4a-ba73-405e51b89a45    42\n",
       "a6bf16b1-45e7-4c2f-b823-e0edb7503a38    43\n",
       "Name: atom_id, dtype: int64"
      ]
     },
     "execution_count": 1011,
     "metadata": {},
     "output_type": "execute_result"
    }
   ],
   "source": [
    "dft.groupby('user_id')['atom_id'].count().sort_values()[25:50]"
   ]
  },
  {
   "cell_type": "code",
   "execution_count": 993,
   "id": "86dd589b-004c-4691-a1f5-ef95eced4277",
   "metadata": {},
   "outputs": [],
   "source": [
    "df_tu=dft[dft.user_id.isin(user_t)].sort_values('interaction_end_time').reset_index(drop=True)"
   ]
  },
  {
   "cell_type": "code",
   "execution_count": 994,
   "id": "e1338f2f-6963-4770-8a94-5be9d18972fb",
   "metadata": {},
   "outputs": [],
   "source": [
    "df_tu_list=[]\n",
    "question_count=0\n",
    "for row_id,row in df_tu.iterrows():\n",
    "    if row_id==0:\n",
    "        user_id=row['user_id']\n",
    "    if row_id>0:\n",
    "        if user_id != row['user_id']:\n",
    "            question_count=0\n",
    "            user_id=row['user_id']\n",
    "    if row['atom_type'] =='question':\n",
    "        question_count =question_count+1\n",
    "        if question_count>2:\n",
    "            df_tu_list.append(df_tu.iloc[:row_id+1])"
   ]
  },
  {
   "cell_type": "code",
   "execution_count": 995,
   "id": "a2938f15-2b95-473b-a8a3-fdeb24f3e7ef",
   "metadata": {},
   "outputs": [
    {
     "name": "stderr",
     "output_type": "stream",
     "text": [
      "100%|████████████████████████████████████████████████████████████████████████████████| 513/513 [00:53<00:00,  9.59it/s]\n"
     ]
    }
   ],
   "source": [
    "data_list=data_batch_generator(df_tu_list)"
   ]
  },
  {
   "cell_type": "code",
   "execution_count": 996,
   "id": "3719ef37-ad20-4172-a2fb-67bb571c3973",
   "metadata": {},
   "outputs": [
    {
     "data": {
      "text/plain": [
       "513"
      ]
     },
     "execution_count": 996,
     "metadata": {},
     "output_type": "execute_result"
    }
   ],
   "source": [
    "len(data_list)"
   ]
  },
  {
   "cell_type": "code",
   "execution_count": 997,
   "id": "801e9ab2-5c5a-495d-8b1c-b253f477f9c5",
   "metadata": {},
   "outputs": [],
   "source": [
    "from torch_geometric.nn import global_mean_pool as gap, global_max_pool as gmp"
   ]
  },
  {
   "cell_type": "code",
   "execution_count": null,
   "id": "2141f28e-5c9b-4db2-a0ee-fbc0b99b55e3",
   "metadata": {},
   "outputs": [],
   "source": []
  },
  {
   "cell_type": "code",
   "execution_count": 998,
   "id": "59b4f867-58dc-45b5-8bb2-ff10f72d7877",
   "metadata": {},
   "outputs": [],
   "source": [
    "from torch_geometric.nn import GATConv, Linear, to_hetero\n",
    "\n",
    "class GAT(torch.nn.Module):\n",
    "    def __init__(self, hidden_channels, out_channels):\n",
    "        super().__init__()\n",
    "        self.conv1 = GATConv((-1, -1), hidden_channels, add_self_loops=False)\n",
    "        self.lin1 = Linear(-1, hidden_channels)\n",
    "        \n",
    "        \n",
    "        \n",
    "        self.conv2 = GATConv((-1, -1), out_channels, add_self_loops=False)\n",
    "        self.lin2 = Linear(-1, out_channels)\n",
    "\n",
    "    def forward(self, x, edge_index):\n",
    "        x = self.conv1(x, edge_index) + self.lin1(x)\n",
    "        x = x.relu()\n",
    "        \n",
    "        x = self.conv2(x, edge_index) + self.lin2(x)\n",
    "        x=x.sigmoid()\n",
    "        \n",
    "        return x\n",
    "\n",
    "#\n",
    "#model_2 = GAT(hidden_channels=64, out_channels=2)\n",
    "#model_2 = to_hetero(model_2, data.metadata(), aggr='mean')"
   ]
  },
  {
   "cell_type": "code",
   "execution_count": 999,
   "id": "90f90d2b-3fb8-41a0-bbab-d6221762f5e4",
   "metadata": {},
   "outputs": [],
   "source": [
    "from torch_geometric.nn import GCNConv"
   ]
  },
  {
   "cell_type": "code",
   "execution_count": 1000,
   "id": "89a81c0a-0485-4aa3-b0c4-dcfa40fec183",
   "metadata": {},
   "outputs": [
    {
     "data": {
      "text/plain": [
       "HeteroData(\n",
       "  \u001b[1matom\u001b[0m={ x=[628, 2] },\n",
       "  \u001b[1mlo\u001b[0m={ x=[31, 1] },\n",
       "  \u001b[1mtarget\u001b[0m={\n",
       "    x=[1, 1],\n",
       "    y=[1, 1]\n",
       "  },\n",
       "  \u001b[1mlm\u001b[0m={ x=[176, 1] },\n",
       "  \u001b[1m(lo, lo_atom, atom)\u001b[0m={ edge_index=[2, 628] },\n",
       "  \u001b[1m(lo, lo_lo, lo)\u001b[0m={ edge_index=[2, 41] },\n",
       "  \u001b[1m(lo, lo_target, target)\u001b[0m={ edge_index=[2, 1] },\n",
       "  \u001b[1m(atom, atom_atom, atom)\u001b[0m={ edge_index=[2, 475] },\n",
       "  \u001b[1m(atom, atom_target, target)\u001b[0m={ edge_index=[2, 1] },\n",
       "  \u001b[1m(lo, lo_lm, lm)\u001b[0m={ edge_index=[2, 176] }\n",
       ")"
      ]
     },
     "execution_count": 1000,
     "metadata": {},
     "output_type": "execute_result"
    }
   ],
   "source": [
    "data_list[-1]"
   ]
  },
  {
   "cell_type": "markdown",
   "id": "a123d7e7-9642-4a5f-a379-9fe47d9b8aac",
   "metadata": {},
   "source": [
    "import torch_geometric.transforms as T\n",
    "from torch_geometric.datasets import OGB_MAG\n",
    "from torch_geometric.nn import HeteroConv, GCNConv, SAGEConv, GATConv, Linear\n",
    "\n",
    "\n",
    "\n",
    "class HeteroGNN(torch.nn.Module):\n",
    "    def __init__(self, hidden_channels, out_channels, num_layers):\n",
    "        super().__init__()\n",
    "\n",
    "        self.convs = torch.nn.ModuleList()\n",
    "        for _ in range(num_layers):\n",
    "            conv = HeteroConv({\n",
    "                ('lo', 'lo_lo', 'lo'): GCNConv(-1, hidden_channels),\n",
    "                ('atom', 'atom_atom', 'atom'): GCNConv(-1, hidden_channels),\n",
    "                ('atom', 'atom_target', 'target'): GCNConv(-1,  hidden_channels,add_self_loops=True),\n",
    "                ('lo', 'lo_atom', 'atom'): GCNConv(-1,  hidden_channels,add_self_loops=True),\n",
    "            }, aggr='sum')\n",
    "            self.convs.append(conv)\n",
    "\n",
    "        self.lin = Linear(hidden_channels, out_channels)\n",
    "\n",
    "    def forward(self, x_dict, edge_index_dict):\n",
    "        for conv in self.convs:\n",
    "            x_dict = conv(x_dict, edge_index_dict)\n",
    "            x_dict = {key: x.relu() for key, x in x_dict.items()}\n",
    "        return self.lin(x_dict['target'])\n",
    "\n",
    "model = HeteroGNN(hidden_channels=64, out_channels=2, num_layers=2)"
   ]
  },
  {
   "cell_type": "code",
   "execution_count": 1006,
   "id": "650155a5-26d0-4743-abc0-9da802b64286",
   "metadata": {},
   "outputs": [
    {
     "data": {
      "text/plain": [
       "513"
      ]
     },
     "execution_count": 1006,
     "metadata": {},
     "output_type": "execute_result"
    }
   ],
   "source": [
    " len(data_list)"
   ]
  },
  {
   "cell_type": "code",
   "execution_count": 1013,
   "id": "8a32cc87-d6da-4684-a843-01d20285710b",
   "metadata": {},
   "outputs": [],
   "source": [
    "from torch_geometric.data import DataLoader"
   ]
  },
  {
   "cell_type": "code",
   "execution_count": 1088,
   "id": "05b038bc-5e26-49f9-8b6b-28f89a65890b",
   "metadata": {},
   "outputs": [
    {
     "data": {
      "text/plain": [
       "[2, 1, 2, 2, 2]"
      ]
     },
     "execution_count": 1088,
     "metadata": {},
     "output_type": "execute_result"
    }
   ],
   "source": [
    "list(np.random.choice([1,2],5,replace=True))"
   ]
  },
  {
   "cell_type": "code",
   "execution_count": null,
   "id": "cb7da2c0-c281-48cd-aa70-1b25e62d879a",
   "metadata": {},
   "outputs": [],
   "source": []
  },
  {
   "cell_type": "code",
   "execution_count": 1097,
   "id": "b49f8483-6306-4f92-8e85-8fb3067ffc11",
   "metadata": {},
   "outputs": [],
   "source": [
    "target_class_1=[]\n",
    "target_class_0=[]\n",
    "for num, data in enumerate(data_list):\n",
    "    target_class=data['target'].y.item()\n",
    "    if target_class ==0:\n",
    "        target_class_0.append(data)\n",
    "    else:\n",
    "        target_class_1.append(data)\n",
    "        \n",
    "if len(target_class_1)>len(target_class_0):\n",
    "        target_class_0_balanced=[]\n",
    "        index_list=np.arange(len(target_class_0))\n",
    "        index_balanced=list(np.random.choice(index_list,len(target_class_1),replace=True))\n",
    "        for i in index_balanced:\n",
    "            target_class_0_balanced.append(target_class_0[i])\n",
    "target_class_1.extend(target_class_0_balanced)"
   ]
  },
  {
   "cell_type": "code",
   "execution_count": 1099,
   "id": "e27b106d-6f8b-41b8-ad2a-9062812369ba",
   "metadata": {},
   "outputs": [],
   "source": [
    "taget_balanced=target_class_1.copy()"
   ]
  },
  {
   "cell_type": "code",
   "execution_count": null,
   "id": "907a9327-d37f-4097-9fd6-7e3918dfd239",
   "metadata": {},
   "outputs": [],
   "source": [
    "loader_classes=[]\n",
    "for num, data in enumerate(taget_balanced):\n",
    "    loader_classes.append(data['target'].y.view(1,-1)[0].numpy())\n",
    "loader_classes_np=np.concatenate(loader_classes)\n",
    "np.mean(loader_classes_np)"
   ]
  },
  {
   "cell_type": "code",
   "execution_count": 1145,
   "id": "cca94fb4-2832-470c-b672-f199a165b9af",
   "metadata": {},
   "outputs": [],
   "source": [
    "from torch.nn import init"
   ]
  },
  {
   "cell_type": "code",
   "execution_count": 1192,
   "id": "53cb4366-7d90-4731-a3ac-66a958f45cad",
   "metadata": {},
   "outputs": [],
   "source": [
    "hidden_channels=15\n",
    "out_channels=2\n",
    "class GNN(torch.nn.Module):\n",
    "    def __init__(self):\n",
    "        super().__init__()\n",
    "        self.conv1 = SAGEConv((-1, -1), hidden_channels,requires_grad=True)\n",
    "        self.actfn1=nn.Tanh()\n",
    "        \n",
    "        self.conv2 = SAGEConv((-1, -1), int(hidden_channels/5),requires_grad=True)\n",
    "        self.actfn2=nn.Tanh()\n",
    "        \n",
    "        self.conv3 = SAGEConv((-1, -1), hidden_channels,requires_grad=True)\n",
    "        self.actfn3=nn.Sigmoid()\n",
    "        \n",
    "        \n",
    "        \n",
    "        self.out=nn.Linear(int(hidden_channels/5),out_channels)\n",
    "        self.sigmoid=nn.Sigmoid()\n",
    "\n",
    "    def forward(self, x, edge_index):\n",
    "        \n",
    "        # First Message Passing layer\n",
    "        x = self.actfn1(self.conv1(x, edge_index))\n",
    "        x= F.dropout(x,p=.7,training=self.training)\n",
    "        \n",
    "        x = self.actfn2(self.conv2(x, edge_index))\n",
    "        x= F.dropout(x,p=.7,training=self.training)\n",
    "        \n",
    "        #x = self.actfn3(self.conv3(x, edge_index))\n",
    "        #x= F.dropout(x,p=.7,training=self.training)\n",
    "        #pool={key: gmp(batch[key].x, batch[key].batch) for key in batch.node_types}\n",
    "        out=self.sigmoid(self.out(x))\n",
    "        #out=self.out(x)\n",
    "        return out,x\n",
    "\n",
    "\n",
    "#model_1 = GNN(hidden_channels=64, out_channels=2)\n",
    "#model_1 = to_hetero(model_1, data.metadata(), aggr='sum')"
   ]
  },
  {
   "cell_type": "code",
   "execution_count": 1200,
   "id": "a8889873-6c4f-46f6-b589-f86aa4df7051",
   "metadata": {},
   "outputs": [],
   "source": [
    "NUM_GRAPHS_PER_BATCH=15\n",
    "data_size=int(len(taget_balanced)*.80)\n",
    "loader = DataLoader(taget_balanced[:data_size], \n",
    "                    batch_size=NUM_GRAPHS_PER_BATCH, shuffle=True)\n",
    "test_loader = DataLoader(taget_balanced[data_size:], \n",
    "                         batch_size=NUM_GRAPHS_PER_BATCH, shuffle=True)"
   ]
  },
  {
   "cell_type": "code",
   "execution_count": null,
   "id": "5da510ab-9cfb-454d-bb0e-407f0d1c2c6e",
   "metadata": {},
   "outputs": [],
   "source": []
  },
  {
   "cell_type": "code",
   "execution_count": null,
   "id": "26c48e33-2f8f-4946-87f1-e70449c3d637",
   "metadata": {},
   "outputs": [],
   "source": []
  },
  {
   "cell_type": "code",
   "execution_count": 1207,
   "id": "257e2d47-5aec-45b1-8b39-2ed88aea10b6",
   "metadata": {
    "collapsed": true,
    "jupyter": {
     "outputs_hidden": true
    },
    "tags": []
   },
   "outputs": [
    {
     "name": "stderr",
     "output_type": "stream",
     "text": [
      "2023-10-18 17:19:10 |4040510732.py:46 in <module>\n",
      "                     (epoch_num,np.mean(epoch_accuracy),loss.item()): (0, 0.5767676934148326, 0.6188055276870728)\n",
      "2023-10-18 17:19:14 |4040510732.py:46 in <module>\n",
      "                     (epoch_num,np.mean(epoch_accuracy),loss.item()): (1, 0.6141414290124719, 0.8506262898445129)\n",
      "2023-10-18 17:19:17 |4040510732.py:46 in <module>\n",
      "                     (epoch_num,np.mean(epoch_accuracy),loss.item()): (2, 0.6191919319557421, 0.6666725873947144)\n",
      "2023-10-18 17:19:20 |4040510732.py:46 in <module>\n",
      "                     (epoch_num,np.mean(epoch_accuracy),loss.item()): (3, 0.6404040573221265, 0.46271491050720215)\n",
      "2023-10-18 17:19:23 |4040510732.py:46 in <module>\n",
      "                     (epoch_num,np.mean(epoch_accuracy),loss.item()): (4, 0.6156565845012665, 0.84891277551651)\n",
      "2023-10-18 17:19:25 |4040510732.py:46 in <module>\n",
      "                     (epoch_num,np.mean(epoch_accuracy),loss.item()): (5, 0.6287878959467916, 0.4919041395187378)\n",
      "2023-10-18 17:19:27 |4040510732.py:46 in <module>\n",
      "                     (epoch_num,np.mean(epoch_accuracy),loss.item()): (6, 0.628787895043691, 0.5658164024353027)\n",
      "2023-10-18 17:19:29 |4040510732.py:46 in <module>\n",
      "                     (epoch_num,np.mean(epoch_accuracy),loss.item()): (7, 0.6191919364712455, 0.8029592037200928)\n",
      "2023-10-18 17:19:31 |4040510732.py:46 in <module>\n",
      "                     (epoch_num,np.mean(epoch_accuracy),loss.item()): (8, 0.628787897752993, 0.5662348866462708)\n",
      "2023-10-18 17:19:33 |4040510732.py:46 in <module>\n",
      "                     (epoch_num,np.mean(epoch_accuracy),loss.item()): (9, 0.6287878941405903, 0.6297634840011597)\n",
      "2023-10-18 17:19:36 |4040510732.py:46 in <module>\n",
      "                     (epoch_num,np.mean(epoch_accuracy),loss.item()): (10, 0.628787897752993, 0.6299983263015747)\n",
      "2023-10-18 17:19:38 |4040510732.py:46 in <module>\n",
      "                     (epoch_num,np.mean(epoch_accuracy),loss.item()): (11, 0.6171717381838596, 0.6847056746482849)\n",
      "2023-10-18 17:19:40 |4040510732.py:46 in <module>\n",
      "                     (epoch_num,np.mean(epoch_accuracy),loss.item()): (12, 0.6348485025492582, 0.6212356686592102)\n",
      "2023-10-18 17:19:42 |4040510732.py:46 in <module>\n",
      "                     (epoch_num,np.mean(epoch_accuracy),loss.item()): (13, 0.6166666836449595, 0.6265091896057129)\n",
      "2023-10-18 17:19:44 |4040510732.py:46 in <module>\n",
      "                     (epoch_num,np.mean(epoch_accuracy),loss.item()): (14, 0.6343434516227606, 0.4835531711578369)\n",
      "2023-10-18 17:19:47 |4040510732.py:46 in <module>\n",
      "                     (epoch_num,np.mean(epoch_accuracy),loss.item()): (15, 0.6424242610281165, 0.5167652368545532)\n",
      "2023-10-18 17:19:49 |4040510732.py:46 in <module>\n",
      "                     (epoch_num,np.mean(epoch_accuracy),loss.item()): (16, 0.6131313289656783, 0.7104189991950989)\n",
      "2023-10-18 17:19:52 |4040510732.py:46 in <module>\n",
      "                     (epoch_num,np.mean(epoch_accuracy),loss.item()): (17, 0.6247474939534159, 0.5311909914016724)\n",
      "2023-10-18 17:19:54 |4040510732.py:46 in <module>\n",
      "                     (epoch_num,np.mean(epoch_accuracy),loss.item()): (18, 0.6267676922408018, 0.5907542705535889)\n",
      "2023-10-18 17:19:56 |4040510732.py:46 in <module>\n",
      "                     (epoch_num,np.mean(epoch_accuracy),loss.item()): (19, 0.6489899149446776, 0.574152410030365)\n",
      "2023-10-18 17:19:59 |4040510732.py:46 in <module>\n",
      "                     (epoch_num,np.mean(epoch_accuracy),loss.item()): (20, 0.6045454704400265, 0.5784218311309814)\n",
      "2023-10-18 17:20:02 |4040510732.py:46 in <module>\n",
      "                     (epoch_num,np.mean(epoch_accuracy),loss.item()): (21, 0.6166666845480601, 0.5618053674697876)\n",
      "2023-10-18 17:20:05 |4040510732.py:46 in <module>\n",
      "                     (epoch_num,np.mean(epoch_accuracy),loss.item()): (22, 0.6247474930503152, 0.6317534446716309)\n",
      "2023-10-18 17:20:07 |4040510732.py:46 in <module>\n",
      "                     (epoch_num,np.mean(epoch_accuracy),loss.item()): (23, 0.6247474930503152, 0.5366822481155396)\n",
      "2023-10-18 17:20:09 |4040510732.py:46 in <module>\n",
      "                     (epoch_num,np.mean(epoch_accuracy),loss.item()): (24, 0.6388889063488353, 0.5321955680847168)\n",
      "2023-10-18 17:20:11 |4040510732.py:46 in <module>\n",
      "                     (epoch_num,np.mean(epoch_accuracy),loss.item()): (25, 0.6227272902474259, 0.6438550353050232)\n",
      "2023-10-18 17:20:14 |4040510732.py:46 in <module>\n",
      "                     (epoch_num,np.mean(epoch_accuracy),loss.item()): (26, 0.6338383997931625, 0.8397011756896973)\n",
      "2023-10-18 17:20:16 |4040510732.py:46 in <module>\n",
      "                     (epoch_num,np.mean(epoch_accuracy),loss.item()): (27, 0.6444444593155023, 0.4330826997756958)\n",
      "2023-10-18 17:20:19 |4040510732.py:46 in <module>\n",
      "                     (epoch_num,np.mean(epoch_accuracy),loss.item()): (28, 0.6328283033587716, 0.482840895652771)\n",
      "2023-10-18 17:20:21 |4040510732.py:46 in <module>\n",
      "                     (epoch_num,np.mean(epoch_accuracy),loss.item()): (29, 0.6520202177943606, 0.9339370727539062)\n",
      "2023-10-18 17:20:23 |4040510732.py:46 in <module>\n",
      "                     (epoch_num,np.mean(epoch_accuracy),loss.item()): (30, 0.6565656734235359, 0.5013998746871948)\n",
      "2023-10-18 17:20:25 |4040510732.py:46 in <module>\n",
      "                     (epoch_num,np.mean(epoch_accuracy),loss.item()): (31, 0.6368687044490468, 0.5300626754760742)\n",
      "2023-10-18 17:20:27 |4040510732.py:46 in <module>\n",
      "                     (epoch_num,np.mean(epoch_accuracy),loss.item()): (32, 0.6565656752297373, 0.5485508441925049)\n",
      "2023-10-18 17:20:29 |4040510732.py:46 in <module>\n",
      "                     (epoch_num,np.mean(epoch_accuracy),loss.item()): (33, 0.6525252705270593, 0.44120052456855774)\n",
      "2023-10-18 17:20:32 |4040510732.py:46 in <module>\n",
      "                     (epoch_num,np.mean(epoch_accuracy),loss.item()): (34, 0.6530303182927045, 0.5889477729797363)\n",
      "2023-10-18 17:20:35 |4040510732.py:46 in <module>\n",
      "                     (epoch_num,np.mean(epoch_accuracy),loss.item()): (35, 0.6353535525726549, 0.718630313873291)\n",
      "2023-10-18 17:20:37 |4040510732.py:46 in <module>\n",
      "                     (epoch_num,np.mean(epoch_accuracy),loss.item()): (36, 0.667171734752077, 0.7594591975212097)\n",
      "2023-10-18 17:20:39 |4040510732.py:46 in <module>\n",
      "                     (epoch_num,np.mean(epoch_accuracy),loss.item()): (37, 0.6398990054925283, 0.9093317985534668)\n",
      "2023-10-18 17:20:41 |4040510732.py:46 in <module>\n",
      "                     (epoch_num,np.mean(epoch_accuracy),loss.item()): (38, 0.6510101186506676, 0.6521556377410889)\n",
      "2023-10-18 17:20:43 |4040510732.py:46 in <module>\n",
      "                     (epoch_num,np.mean(epoch_accuracy),loss.item()): (39, 0.6555555724736416, 0.6406140327453613)\n",
      "2023-10-18 17:20:45 |4040510732.py:46 in <module>\n",
      "                     (epoch_num,np.mean(epoch_accuracy),loss.item()): (40, 0.6429293128577146, 0.6285426616668701)\n",
      "2023-10-18 17:20:47 |4040510732.py:46 in <module>\n",
      "                     (epoch_num,np.mean(epoch_accuracy),loss.item()): (41, 0.6297979941873839, 0.8091818690299988)\n",
      "2023-10-18 17:20:50 |4040510732.py:46 in <module>\n",
      "                     (epoch_num,np.mean(epoch_accuracy),loss.item()): (42, 0.6484848667274822, 0.42090874910354614)\n",
      "2023-10-18 17:20:52 |4040510732.py:46 in <module>\n",
      "                     (epoch_num,np.mean(epoch_accuracy),loss.item()): (43, 0.636868703545946, 0.7000231742858887)\n",
      "2023-10-18 17:20:54 |4040510732.py:46 in <module>\n",
      "                     (epoch_num,np.mean(epoch_accuracy),loss.item()): (44, 0.6212121392741348, 0.7448524832725525)\n",
      "2023-10-18 17:20:56 |4040510732.py:46 in <module>\n",
      "                     (epoch_num,np.mean(epoch_accuracy),loss.item()): (45, 0.640404055515925, 0.4350237548351288)\n",
      "2023-10-18 17:20:58 |4040510732.py:46 in <module>\n",
      "                     (epoch_num,np.mean(epoch_accuracy),loss.item()): (46, 0.637878805398941, 0.7982885837554932)\n",
      "2023-10-18 17:21:00 |4040510732.py:46 in <module>\n",
      "                     (epoch_num,np.mean(epoch_accuracy),loss.item()): (47, 0.637878805398941, 0.9271725416183472)\n",
      "2023-10-18 17:21:03 |4040510732.py:46 in <module>\n",
      "                     (epoch_num,np.mean(epoch_accuracy),loss.item()): (48, 0.6727272886218447, 0.40224987268447876)\n",
      "2023-10-18 17:21:05 |4040510732.py:46 in <module>\n",
      "                     (epoch_num,np.mean(epoch_accuracy),loss.item()): (49, 0.6348485034523588, 0.7000486850738525)\n",
      "2023-10-18 17:21:07 |4040510732.py:46 in <module>\n",
      "                     (epoch_num,np.mean(epoch_accuracy),loss.item()): (50, 0.6636363818789973, 0.7458360195159912)\n",
      "2023-10-18 17:21:09 |4040510732.py:46 in <module>\n",
      "                     (epoch_num,np.mean(epoch_accuracy),loss.item()): (51, 0.6297979950904846, 1.0394710302352905)\n",
      "2023-10-18 17:21:12 |4040510732.py:46 in <module>\n",
      "                     (epoch_num,np.mean(epoch_accuracy),loss.item()): (52, 0.6348485007430568, 0.4480242133140564)\n",
      "2023-10-18 17:21:14 |4040510732.py:46 in <module>\n",
      "                     (epoch_num,np.mean(epoch_accuracy),loss.item()): (53, 0.6636363809758966, 0.7203123569488525)\n",
      "2023-10-18 17:21:17 |4040510732.py:46 in <module>\n",
      "                     (epoch_num,np.mean(epoch_accuracy),loss.item()): (54, 0.6292929486794905, 0.6572475433349609)\n",
      "2023-10-18 17:21:19 |4040510732.py:46 in <module>\n",
      "                     (epoch_num,np.mean(epoch_accuracy),loss.item()): (55, 0.6292929468732892, 0.6541379690170288)\n",
      "2023-10-18 17:21:22 |4040510732.py:46 in <module>\n",
      "                     (epoch_num,np.mean(epoch_accuracy),loss.item()): (56, 0.6550505233533455, 0.5058567523956299)\n",
      "2023-10-18 17:21:24 |4040510732.py:46 in <module>\n",
      "                     (epoch_num,np.mean(epoch_accuracy),loss.item()): (57, 0.6297979987028873, 0.8967031836509705)\n",
      "2023-10-18 17:21:27 |4040510732.py:46 in <module>\n",
      "                     (epoch_num,np.mean(epoch_accuracy),loss.item()): (58, 0.6530303178411542, 0.535344660282135)\n",
      "2023-10-18 17:21:29 |4040510732.py:46 in <module>\n",
      "                     (epoch_num,np.mean(epoch_accuracy),loss.item()): (59, 0.6651515328522885, 0.6167262196540833)\n",
      "2023-10-18 17:21:31 |4040510732.py:46 in <module>\n",
      "                     (epoch_num,np.mean(epoch_accuracy),loss.item()): (60, 0.6454545620715979, 0.7009534239768982)\n",
      "2023-10-18 17:21:33 |4040510732.py:46 in <module>\n",
      "                     (epoch_num,np.mean(epoch_accuracy),loss.item()): (61, 0.6090909233598998, 0.6035797595977783)\n",
      "2023-10-18 17:21:35 |4040510732.py:46 in <module>\n",
      "                     (epoch_num,np.mean(epoch_accuracy),loss.item()): (62, 0.6752525414481307, 0.5295535922050476)\n",
      "2023-10-18 17:21:38 |4040510732.py:46 in <module>\n",
      "                     (epoch_num,np.mean(epoch_accuracy),loss.item()): (63, 0.653535370573853, 0.7133311033248901)\n",
      "2023-10-18 17:21:40 |4040510732.py:46 in <module>\n",
      "                     (epoch_num,np.mean(epoch_accuracy),loss.item()): (64, 0.6631313291462985, 0.6470027565956116)\n",
      "2023-10-18 17:21:43 |4040510732.py:46 in <module>\n",
      "                     (epoch_num,np.mean(epoch_accuracy),loss.item()): (65, 0.6747474932309353, 0.4380471408367157)\n",
      "2023-10-18 17:21:45 |4040510732.py:46 in <module>\n",
      "                     (epoch_num,np.mean(epoch_accuracy),loss.item()): (66, 0.7035353698513724, 0.5289315581321716)\n",
      "2023-10-18 17:21:47 |4040510732.py:46 in <module>\n",
      "                     (epoch_num,np.mean(epoch_accuracy),loss.item()): (67, 0.6540404224034512, 0.8469032049179077)\n",
      "2023-10-18 17:21:49 |4040510732.py:46 in <module>\n",
      "                     (epoch_num,np.mean(epoch_accuracy),loss.item()): (68, 0.6691919348456643, 0.5566834807395935)\n",
      "2023-10-18 17:21:51 |4040510732.py:46 in <module>\n",
      "                     (epoch_num,np.mean(epoch_accuracy),loss.item()): (69, 0.6530303196473555, 0.5292046666145325)\n",
      "2023-10-18 17:21:53 |4040510732.py:46 in <module>\n",
      "                     (epoch_num,np.mean(epoch_accuracy),loss.item()): (70, 0.6525252705270593, 0.408888041973114)\n",
      "2023-10-18 17:21:55 |4040510732.py:46 in <module>\n",
      "                     (epoch_num,np.mean(epoch_accuracy),loss.item()): (71, 0.6494949658711752, 0.6359354257583618)\n",
      "2023-10-18 17:21:57 |4040510732.py:46 in <module>\n",
      "                     (epoch_num,np.mean(epoch_accuracy),loss.item()): (72, 0.6272727458766012, 0.7654215693473816)\n",
      "2023-10-18 17:21:59 |4040510732.py:46 in <module>\n",
      "                     (epoch_num,np.mean(epoch_accuracy),loss.item()): (73, 0.6484848649212809, 0.42187365889549255)\n",
      "2023-10-18 17:22:01 |4040510732.py:46 in <module>\n",
      "                     (epoch_num,np.mean(epoch_accuracy),loss.item()): (74, 0.6484848649212809, 0.49097493290901184)\n",
      "2023-10-18 17:22:05 |4040510732.py:46 in <module>\n",
      "                     (epoch_num,np.mean(epoch_accuracy),loss.item()): (75, 0.6666666820193782, 0.4392296075820923)\n",
      "2023-10-18 17:22:07 |4040510732.py:46 in <module>\n",
      "                     (epoch_num,np.mean(epoch_accuracy),loss.item()): (76, 0.6484848658243815, 0.3661375045776367)\n",
      "2023-10-18 17:22:10 |4040510732.py:46 in <module>\n",
      "                     (epoch_num,np.mean(epoch_accuracy),loss.item()): (77, 0.624242441220717, 0.9958565831184387)\n",
      "2023-10-18 17:22:13 |4040510732.py:46 in <module>\n",
      "                     (epoch_num,np.mean(epoch_accuracy),loss.item()): (78, 0.6515151659647623, 0.6603968143463135)\n",
      "2023-10-18 17:22:16 |4040510732.py:46 in <module>\n",
      "                     (epoch_num,np.mean(epoch_accuracy),loss.item()): (79, 0.6474747639713865, 0.6905584335327148)\n",
      "2023-10-18 17:22:20 |4040510732.py:46 in <module>\n",
      "                     (epoch_num,np.mean(epoch_accuracy),loss.item()): (80, 0.6818181971708933, 0.5841692686080933)\n",
      "2023-10-18 17:22:23 |4040510732.py:46 in <module>\n",
      "                     (epoch_num,np.mean(epoch_accuracy),loss.item()): (81, 0.6813131480505972, 0.6393485069274902)\n",
      "2023-10-18 17:22:26 |4040510732.py:46 in <module>\n",
      "                     (epoch_num,np.mean(epoch_accuracy),loss.item()): (82, 0.6570707243500333, 0.5215479731559753)\n",
      "2023-10-18 17:22:29 |4040510732.py:46 in <module>\n",
      "                     (epoch_num,np.mean(epoch_accuracy),loss.item()): (83, 0.6712121376485536, 0.569805920124054)\n",
      "2023-10-18 17:22:32 |4040510732.py:46 in <module>\n",
      "                     (epoch_num,np.mean(epoch_accuracy),loss.item()): (84, 0.6868687037265662, 0.42521119117736816)\n",
      "2023-10-18 17:22:35 |4040510732.py:46 in <module>\n",
      "                     (epoch_num,np.mean(epoch_accuracy),loss.item()): (85, 0.6434343601718093, 0.7273162603378296)\n",
      "2023-10-18 17:22:37 |4040510732.py:46 in <module>\n",
      "                     (epoch_num,np.mean(epoch_accuracy),loss.item()): (86, 0.6439394120014075, 0.8169509172439575)\n",
      "2023-10-18 17:22:40 |4040510732.py:46 in <module>\n",
      "                     (epoch_num,np.mean(epoch_accuracy),loss.item()): (87, 0.6722222367922465, 0.8365274667739868)\n",
      "2023-10-18 17:22:42 |4040510732.py:46 in <module>\n",
      "                     (epoch_num,np.mean(epoch_accuracy),loss.item()): (88, 0.6616161781730074, 0.7097022533416748)\n",
      "2023-10-18 17:22:45 |4040510732.py:46 in <module>\n",
      "                     (epoch_num,np.mean(epoch_accuracy),loss.item()): (89, 0.6545454706206466, 0.4200933575630188)\n",
      "2023-10-18 17:22:47 |4040510732.py:46 in <module>\n",
      "                     (epoch_num,np.mean(epoch_accuracy),loss.item()): (90, 0.6449495111451005, 0.5630485415458679)\n",
      "2023-10-18 17:22:50 |4040510732.py:46 in <module>\n",
      "                     (epoch_num,np.mean(epoch_accuracy),loss.item()): (91, 0.6535353714769537, 0.6371586322784424)\n",
      "2023-10-18 17:22:52 |4040510732.py:46 in <module>\n",
      "                     (epoch_num,np.mean(epoch_accuracy),loss.item()): (92, 0.6318181996995752, 0.9619372487068176)\n",
      "2023-10-18 17:22:55 |4040510732.py:46 in <module>\n",
      "                     (epoch_num,np.mean(epoch_accuracy),loss.item()): (93, 0.628787895043691, 0.5017448663711548)\n",
      "2023-10-18 17:22:57 |4040510732.py:46 in <module>\n",
      "                     (epoch_num,np.mean(epoch_accuracy),loss.item()): (94, 0.6732323386452415, 0.7649005651473999)\n",
      "2023-10-18 17:22:59 |4040510732.py:46 in <module>\n",
      "                     (epoch_num,np.mean(epoch_accuracy),loss.item()): (95, 0.6580808252999277, 0.9549707174301147)\n",
      "2023-10-18 17:23:02 |4040510732.py:46 in <module>\n",
      "                     (epoch_num,np.mean(epoch_accuracy),loss.item()): (96, 0.6176767854979544, 0.8757714033126831)\n",
      "2023-10-18 17:23:04 |4040510732.py:46 in <module>\n",
      "                     (epoch_num,np.mean(epoch_accuracy),loss.item()): (97, 0.6787878943212104, 0.36020153760910034)\n",
      "2023-10-18 17:23:06 |4040510732.py:46 in <module>\n",
      "                     (epoch_num,np.mean(epoch_accuracy),loss.item()): (98, 0.6752525414481307, 0.5288927555084229)\n",
      "2023-10-18 17:23:08 |4040510732.py:46 in <module>\n",
      "                     (epoch_num,np.mean(epoch_accuracy),loss.item()): (99, 0.6353535516695543, 0.7611897587776184)\n",
      "2023-10-18 17:23:11 |4040510732.py:46 in <module>\n",
      "                     (epoch_num,np.mean(epoch_accuracy),loss.item()): (100, 0.6262626413143042, 0.8737005591392517)\n",
      "2023-10-18 17:23:13 |4040510732.py:46 in <module>\n",
      "                     (epoch_num,np.mean(epoch_accuracy),loss.item()): (101, 0.652525268720858, 0.447598397731781)\n",
      "2023-10-18 17:23:16 |4040510732.py:46 in <module>\n",
      "                     (epoch_num,np.mean(epoch_accuracy),loss.item()): (102, 0.658080821687525, 1.0288550853729248)\n",
      "2023-10-18 17:23:19 |4040510732.py:46 in <module>\n",
      "                     (epoch_num,np.mean(epoch_accuracy),loss.item()): (103, 0.6823232462911895, 0.7940510511398315)\n",
      "2023-10-18 17:23:21 |4040510732.py:46 in <module>\n",
      "                     (epoch_num,np.mean(epoch_accuracy),loss.item()): (104, 0.6752525423512314, 0.6085668802261353)\n",
      "2023-10-18 17:23:23 |4040510732.py:46 in <module>\n",
      "                     (epoch_num,np.mean(epoch_accuracy),loss.item()): (105, 0.6434343601718093, 0.6325353384017944)\n",
      "2023-10-18 17:23:26 |4040510732.py:46 in <module>\n",
      "                     (epoch_num,np.mean(epoch_accuracy),loss.item()): (106, 0.6631313300493992, 0.5890392065048218)\n",
      "2023-10-18 17:23:28 |4040510732.py:46 in <module>\n",
      "                     (epoch_num,np.mean(epoch_accuracy),loss.item()): (107, 0.6297979959935853, 0.9539940357208252)\n",
      "2023-10-18 17:23:31 |4040510732.py:46 in <module>\n",
      "                     (epoch_num,np.mean(epoch_accuracy),loss.item()): (108, 0.6550505224502448, 0.4682793617248535)\n",
      "2023-10-18 17:23:33 |4040510732.py:46 in <module>\n",
      "                     (epoch_num,np.mean(epoch_accuracy),loss.item()): (109, 0.6585858762264252, 0.4606721103191376)\n",
      "2023-10-18 17:23:36 |4040510732.py:46 in <module>\n",
      "                     (epoch_num,np.mean(epoch_accuracy),loss.item()): (110, 0.6575757743734302, 0.7703257203102112)\n",
      "2023-10-18 17:23:38 |4040510732.py:46 in <module>\n",
      "                     (epoch_num,np.mean(epoch_accuracy),loss.item()): (111, 0.6409091082486239, 0.6190623044967651)\n",
      "2023-10-18 17:23:40 |4040510732.py:46 in <module>\n",
      "                     (epoch_num,np.mean(epoch_accuracy),loss.item()): (112, 0.6787878952243112, 0.4025939106941223)\n",
      "2023-10-18 17:23:43 |4040510732.py:46 in <module>\n",
      "                     (epoch_num,np.mean(epoch_accuracy),loss.item()): (113, 0.6328282988432682, 0.600425660610199)\n",
      "2023-10-18 17:23:45 |4040510732.py:46 in <module>\n",
      "                     (epoch_num,np.mean(epoch_accuracy),loss.item()): (114, 0.651515169577165, 0.8461750745773315)\n",
      "2023-10-18 17:23:47 |4040510732.py:46 in <module>\n",
      "                     (epoch_num,np.mean(epoch_accuracy),loss.item()): (115, 0.6550505206440435, 0.6202232241630554)\n",
      "2023-10-18 17:23:49 |4040510732.py:46 in <module>\n",
      "                     (epoch_num,np.mean(epoch_accuracy),loss.item()): (116, 0.6555555733767423, 0.6291210651397705)\n",
      "2023-10-18 17:23:51 |4040510732.py:46 in <module>\n",
      "                     (epoch_num,np.mean(epoch_accuracy),loss.item()): (117, 0.6303030478231835, 1.126960039138794)\n",
      "2023-10-18 17:23:53 |4040510732.py:46 in <module>\n",
      "                     (epoch_num,np.mean(epoch_accuracy),loss.item()): (118, 0.6535353714769537, 0.7347586154937744)\n",
      "2023-10-18 17:23:55 |4040510732.py:46 in <module>\n",
      "                     (epoch_num,np.mean(epoch_accuracy),loss.item()): (119, 0.6732323413545435, 0.509681761264801)\n",
      "2023-10-18 17:23:58 |4040510732.py:46 in <module>\n",
      "                     (epoch_num,np.mean(epoch_accuracy),loss.item()): (120, 0.6742424414013372, 0.9984419941902161)\n",
      "2023-10-18 17:24:00 |4040510732.py:46 in <module>\n",
      "                     (epoch_num,np.mean(epoch_accuracy),loss.item()): (121, 0.687373753749963, 0.6235278844833374)\n",
      "2023-10-18 17:24:02 |4040510732.py:46 in <module>\n",
      "                     (epoch_num,np.mean(epoch_accuracy),loss.item()): (122, 0.6303030478231835, 0.3695649206638336)\n",
      "2023-10-18 17:24:05 |4040510732.py:46 in <module>\n",
      "                     (epoch_num,np.mean(epoch_accuracy),loss.item()): (123, 0.6414141564658193, 0.7159723043441772)\n",
      "2023-10-18 17:24:07 |4040510732.py:46 in <module>\n",
      "                     (epoch_num,np.mean(epoch_accuracy),loss.item()): (124, 0.6247474912441138, 0.5087602138519287)\n",
      "2023-10-18 17:24:10 |4040510732.py:46 in <module>\n",
      "                     (epoch_num,np.mean(epoch_accuracy),loss.item()): (125, 0.6409091091517246, 0.5414724946022034)\n",
      "2023-10-18 17:24:13 |4040510732.py:46 in <module>\n",
      "                     (epoch_num,np.mean(epoch_accuracy),loss.item()): (126, 0.6404040546128245, 0.4250713288784027)\n",
      "2023-10-18 17:24:15 |4040510732.py:46 in <module>\n",
      "                     (epoch_num,np.mean(epoch_accuracy),loss.item()): (127, 0.6636363809758966, 0.5267673134803772)\n",
      "2023-10-18 17:24:18 |4040510732.py:46 in <module>\n",
      "                     (epoch_num,np.mean(epoch_accuracy),loss.item()): (128, 0.6656565810694839, 0.6329415440559387)\n",
      "2023-10-18 17:24:20 |4040510732.py:46 in <module>\n",
      "                     (epoch_num,np.mean(epoch_accuracy),loss.item()): (129, 0.6409091082486239, 0.43877068161964417)\n",
      "2023-10-18 17:24:22 |4040510732.py:46 in <module>\n",
      "                     (epoch_num,np.mean(epoch_accuracy),loss.item()): (130, 0.6626262800260023, 0.48166805505752563)\n",
      "2023-10-18 17:24:24 |4040510732.py:46 in <module>\n",
      "                     (epoch_num,np.mean(epoch_accuracy),loss.item()): (131, 0.6651515337553892, 0.4973617196083069)\n",
      "2023-10-18 17:24:27 |4040510732.py:46 in <module>\n",
      "                     (epoch_num,np.mean(epoch_accuracy),loss.item()): (132, 0.6717171867688497, 0.7210304141044617)\n",
      "2023-10-18 17:24:29 |4040510732.py:46 in <module>\n",
      "                     (epoch_num,np.mean(epoch_accuracy),loss.item()): (133, 0.6393939563722322, 0.743082582950592)\n",
      "2023-10-18 17:24:32 |4040510732.py:46 in <module>\n",
      "                     (epoch_num,np.mean(epoch_accuracy),loss.item()): (134, 0.6434343601718093, 0.7607699632644653)\n",
      "2023-10-18 17:24:34 |4040510732.py:46 in <module>\n",
      "                     (epoch_num,np.mean(epoch_accuracy),loss.item()): (135, 0.6676767856785746, 0.6865516901016235)\n",
      "2023-10-18 17:24:37 |4040510732.py:46 in <module>\n",
      "                     (epoch_num,np.mean(epoch_accuracy),loss.item()): (136, 0.6424242574157137, 0.5237332582473755)\n",
      "2023-10-18 17:24:40 |4040510732.py:46 in <module>\n",
      "                     (epoch_num,np.mean(epoch_accuracy),loss.item()): (137, 0.661616179076108, 0.6750567555427551)\n",
      "2023-10-18 17:24:42 |4040510732.py:46 in <module>\n",
      "                     (epoch_num,np.mean(epoch_accuracy),loss.item()): (138, 0.6292929477763899, 0.7026166915893555)\n",
      "2023-10-18 17:24:44 |4040510732.py:46 in <module>\n",
      "                     (epoch_num,np.mean(epoch_accuracy),loss.item()): (139, 0.6666666820193782, 0.43538689613342285)\n",
      "2023-10-18 17:24:46 |4040510732.py:46 in <module>\n",
      "                     (epoch_num,np.mean(epoch_accuracy),loss.item()): (140, 0.6651515319491877, 0.4715732932090759)\n",
      "2023-10-18 17:24:49 |4040510732.py:46 in <module>\n",
      "                     (epoch_num,np.mean(epoch_accuracy),loss.item()): (141, 0.6601010244904142, 0.733145534992218)\n",
      "2023-10-18 17:24:51 |4040510732.py:46 in <module>\n",
      "                     (epoch_num,np.mean(epoch_accuracy),loss.item()): (142, 0.6353535507664536, 0.7337491512298584)\n",
      "2023-10-18 17:24:54 |4040510732.py:46 in <module>\n",
      "                     (epoch_num,np.mean(epoch_accuracy),loss.item()): (143, 0.6070707241694132, 0.7686002254486084)\n",
      "2023-10-18 17:24:56 |4040510732.py:46 in <module>\n",
      "                     (epoch_num,np.mean(epoch_accuracy),loss.item()): (144, 0.6494949667742758, 0.6035630702972412)\n",
      "2023-10-18 17:24:58 |4040510732.py:46 in <module>\n",
      "                     (epoch_num,np.mean(epoch_accuracy),loss.item()): (145, 0.6707070858189554, 0.3909989297389984)\n",
      "2023-10-18 17:25:01 |4040510732.py:46 in <module>\n",
      "                     (epoch_num,np.mean(epoch_accuracy),loss.item()): (146, 0.6828282990238883, 0.40679997205734253)\n",
      "2023-10-18 17:25:04 |4040510732.py:46 in <module>\n",
      "                     (epoch_num,np.mean(epoch_accuracy),loss.item()): (147, 0.6853535518501744, 0.5957103967666626)\n",
      "2023-10-18 17:25:07 |4040510732.py:46 in <module>\n",
      "                     (epoch_num,np.mean(epoch_accuracy),loss.item()): (148, 0.6272727476828026, 0.8681352138519287)\n",
      "2023-10-18 17:25:10 |4040510732.py:46 in <module>\n",
      "                     (epoch_num,np.mean(epoch_accuracy),loss.item()): (149, 0.6479798167040853, 0.9582013487815857)\n",
      "2023-10-18 17:25:12 |4040510732.py:46 in <module>\n",
      "                     (epoch_num,np.mean(epoch_accuracy),loss.item()): (150, 0.6888889047232541, 0.5138249397277832)\n",
      "2023-10-18 17:25:15 |4040510732.py:46 in <module>\n",
      "                     (epoch_num,np.mean(epoch_accuracy),loss.item()): (151, 0.6515151686740644, 0.6846208572387695)\n",
      "2023-10-18 17:25:18 |4040510732.py:46 in <module>\n",
      "                     (epoch_num,np.mean(epoch_accuracy),loss.item()): (152, 0.6515151686740644, 0.8624404072761536)\n",
      "2023-10-18 17:25:20 |4040510732.py:46 in <module>\n",
      "                     (epoch_num,np.mean(epoch_accuracy),loss.item()): (153, 0.6767676933245226, 0.5271094441413879)\n",
      "2023-10-18 17:25:23 |4040510732.py:46 in <module>\n",
      "                     (epoch_num,np.mean(epoch_accuracy),loss.item()): (154, 0.6363636517163479, 0.35813266038894653)\n",
      "2023-10-18 17:25:26 |4040510732.py:46 in <module>\n",
      "                     (epoch_num,np.mean(epoch_accuracy),loss.item()): (155, 0.6707070885282574, 0.5459266901016235)\n",
      "2023-10-18 17:25:28 |4040510732.py:46 in <module>\n",
      "                     (epoch_num,np.mean(epoch_accuracy),loss.item()): (156, 0.653535369219202, 0.6080068349838257)\n",
      "2023-10-18 17:25:31 |4040510732.py:46 in <module>\n",
      "                     (epoch_num,np.mean(epoch_accuracy),loss.item()): (157, 0.6409091064424226, 0.5719751715660095)\n",
      "2023-10-18 17:25:34 |4040510732.py:46 in <module>\n",
      "                     (epoch_num,np.mean(epoch_accuracy),loss.item()): (158, 0.6464646639245929, 0.3973650634288788)\n",
      "2023-10-18 17:25:36 |4040510732.py:46 in <module>\n",
      "                     (epoch_num,np.mean(epoch_accuracy),loss.item()): (159, 0.6858586027766719, 0.6664601564407349)\n",
      "2023-10-18 17:25:39 |4040510732.py:46 in <module>\n",
      "                     (epoch_num,np.mean(epoch_accuracy),loss.item()): (160, 0.6747474923278346, 0.485204815864563)\n",
      "2023-10-18 17:25:42 |4040510732.py:46 in <module>\n",
      "                     (epoch_num,np.mean(epoch_accuracy),loss.item()): (161, 0.6631313291462985, 0.5602395534515381)\n",
      "2023-10-18 17:25:44 |4040510732.py:46 in <module>\n",
      "                     (epoch_num,np.mean(epoch_accuracy),loss.item()): (162, 0.648989916750879, 0.5603225231170654)\n",
      "2023-10-18 17:25:46 |4040510732.py:46 in <module>\n",
      "                     (epoch_num,np.mean(epoch_accuracy),loss.item()): (163, 0.6585858771295259, 0.46613609790802)\n",
      "2023-10-18 17:25:49 |4040510732.py:46 in <module>\n",
      "                     (epoch_num,np.mean(epoch_accuracy),loss.item()): (164, 0.6646464828288916, 0.4790537357330322)\n",
      "2023-10-18 17:25:51 |4040510732.py:46 in <module>\n",
      "                     (epoch_num,np.mean(epoch_accuracy),loss.item()): (165, 0.6631313282431979, 0.5509999990463257)\n",
      "2023-10-18 17:25:53 |4040510732.py:46 in <module>\n",
      "                     (epoch_num,np.mean(epoch_accuracy),loss.item()): (166, 0.6671717356551777, 0.6951541304588318)\n",
      "2023-10-18 17:25:56 |4040510732.py:46 in <module>\n",
      "                     (epoch_num,np.mean(epoch_accuracy),loss.item()): (167, 0.6136363816983772, 0.8294567465782166)\n",
      "2023-10-18 17:25:58 |4040510732.py:46 in <module>\n",
      "                     (epoch_num,np.mean(epoch_accuracy),loss.item()): (168, 0.6146464808420702, 0.6696979999542236)\n",
      "2023-10-18 17:26:00 |4040510732.py:46 in <module>\n",
      "                     (epoch_num,np.mean(epoch_accuracy),loss.item()): (169, 0.6696969875783632, 0.8252381682395935)\n",
      "2023-10-18 17:26:03 |4040510732.py:46 in <module>\n",
      "                     (epoch_num,np.mean(epoch_accuracy),loss.item()): (170, 0.6287878986560937, 0.6180349588394165)\n",
      "2023-10-18 17:26:05 |4040510732.py:46 in <module>\n",
      "                     (epoch_num,np.mean(epoch_accuracy),loss.item()): (171, 0.6373737544724436, 0.9203831553459167)\n",
      "2023-10-18 17:26:08 |4040510732.py:46 in <module>\n",
      "                     (epoch_num,np.mean(epoch_accuracy),loss.item()): (172, 0.6464646657307943, 0.45926082134246826)\n",
      "2023-10-18 17:26:10 |4040510732.py:46 in <module>\n",
      "                     (epoch_num,np.mean(epoch_accuracy),loss.item()): (173, 0.6671717338489763, 0.4163048565387726)\n",
      "2023-10-18 17:26:13 |4040510732.py:46 in <module>\n",
      "                     (epoch_num,np.mean(epoch_accuracy),loss.item()): (174, 0.6505050686272708, 0.3792707920074463)\n",
      "2023-10-18 17:26:15 |4040510732.py:46 in <module>\n",
      "                     (epoch_num,np.mean(epoch_accuracy),loss.item()): (175, 0.682828299926989, 0.49054092168807983)\n",
      "2023-10-18 17:26:17 |4040510732.py:46 in <module>\n",
      "                     (epoch_num,np.mean(epoch_accuracy),loss.item()): (176, 0.663636380072796, 0.7801740169525146)\n",
      "2023-10-18 17:26:20 |4040510732.py:46 in <module>\n",
      "                     (epoch_num,np.mean(epoch_accuracy),loss.item()): (177, 0.6308080996527816, 0.4374600052833557)\n",
      "2023-10-18 17:26:22 |4040510732.py:46 in <module>\n",
      "                     (epoch_num,np.mean(epoch_accuracy),loss.item()): (178, 0.6606060790293145, 0.48414885997772217)\n",
      "2023-10-18 17:26:25 |4040510732.py:46 in <module>\n",
      "                     (epoch_num,np.mean(epoch_accuracy),loss.item()): (179, 0.6136363789890752, 0.8688974380493164)\n",
      "2023-10-18 17:26:27 |4040510732.py:46 in <module>\n",
      "                     (epoch_num,np.mean(epoch_accuracy),loss.item()): (180, 0.6383838545192372, 0.357483446598053)\n",
      "2023-10-18 17:26:29 |4040510732.py:46 in <module>\n",
      "                     (epoch_num,np.mean(epoch_accuracy),loss.item()): (181, 0.6510101168444662, 0.5929218530654907)\n",
      "2023-10-18 17:26:32 |4040510732.py:46 in <module>\n",
      "                     (epoch_num,np.mean(epoch_accuracy),loss.item()): (182, 0.6525252705270593, 0.3210432529449463)\n",
      "2023-10-18 17:26:36 |4040510732.py:46 in <module>\n",
      "                     (epoch_num,np.mean(epoch_accuracy),loss.item()): (183, 0.6585858735171232, 0.35786575078964233)\n",
      "2023-10-18 17:26:39 |4040510732.py:46 in <module>\n",
      "                     (epoch_num,np.mean(epoch_accuracy),loss.item()): (184, 0.6459596120949948, 0.9885073900222778)\n",
      "2023-10-18 17:26:42 |4040510732.py:46 in <module>\n",
      "                     (epoch_num,np.mean(epoch_accuracy),loss.item()): (185, 0.6525252696239587, 0.5252343416213989)\n",
      "2023-10-18 17:26:45 |4040510732.py:46 in <module>\n",
      "                     (epoch_num,np.mean(epoch_accuracy),loss.item()): (186, 0.665151531046087, 0.6018070578575134)\n",
      "2023-10-18 17:26:47 |4040510732.py:46 in <module>\n",
      "                     (epoch_num,np.mean(epoch_accuracy),loss.item()): (187, 0.667171732042775, 0.594875693321228)\n",
      "2023-10-18 17:26:49 |4040510732.py:46 in <module>\n",
      "                     (epoch_num,np.mean(epoch_accuracy),loss.item()): (188, 0.6500000158945719, 0.8900699019432068)\n",
      "2023-10-18 17:26:51 |4040510732.py:46 in <module>\n",
      "                     (epoch_num,np.mean(epoch_accuracy),loss.item()): (189, 0.6570707261562347, 0.5031077265739441)\n",
      "2023-10-18 17:26:54 |4040510732.py:46 in <module>\n",
      "                     (epoch_num,np.mean(epoch_accuracy),loss.item()): (190, 0.6550505224502448, 0.6545906066894531)\n",
      "2023-10-18 17:26:57 |4040510732.py:46 in <module>\n",
      "                     (epoch_num,np.mean(epoch_accuracy),loss.item()): (191, 0.6757575923746283, 0.7661548256874084)\n",
      "2023-10-18 17:27:01 |4040510732.py:46 in <module>\n",
      "                     (epoch_num,np.mean(epoch_accuracy),loss.item()): (192, 0.6530303205504562, 0.48127007484436035)\n",
      "2023-10-18 17:27:04 |4040510732.py:46 in <module>\n",
      "                     (epoch_num,np.mean(epoch_accuracy),loss.item()): (193, 0.6752525423512314, 0.5432205200195312)\n",
      "2023-10-18 17:27:07 |4040510732.py:46 in <module>\n",
      "                     (epoch_num,np.mean(epoch_accuracy),loss.item()): (194, 0.669191935748765, 0.5064168572425842)\n",
      "2023-10-18 17:27:15 |4040510732.py:46 in <module>\n",
      "                     (epoch_num,np.mean(epoch_accuracy),loss.item()): (195, 0.6686868839191668, 0.464829683303833)\n",
      "2023-10-18 17:27:19 |4040510732.py:46 in <module>\n",
      "                     (epoch_num,np.mean(epoch_accuracy),loss.item()): (196, 0.6676767847754739, 0.8796628713607788)\n",
      "2023-10-18 17:27:23 |4040510732.py:46 in <module>\n",
      "                     (epoch_num,np.mean(epoch_accuracy),loss.item()): (197, 0.6454545638777993, 0.826722264289856)\n",
      "2023-10-18 17:27:27 |4040510732.py:46 in <module>\n",
      "                     (epoch_num,np.mean(epoch_accuracy),loss.item()): (198, 0.6595959771763195, 0.7646675109863281)\n",
      "2023-10-18 17:27:30 |4040510732.py:46 in <module>\n",
      "                     (epoch_num,np.mean(epoch_accuracy),loss.item()): (199, 0.6691919348456643, 0.523811399936676)\n"
     ]
    }
   ],
   "source": [
    "#model = GNN(hidden_channels=200, out_channels=2)\n",
    "#model = to_hetero(model, data_list[-1].metadata())\n",
    "\n",
    "model=GNN()\n",
    "model = to_hetero(model, batch.metadata())\n",
    "learning_rate=0.01\n",
    "optimizer=torch.optim.SGD(model.parameters(),lr=learning_rate,weight_decay=5e-12)\n",
    "criterion=torch.nn.CrossEntropyLoss()\n",
    "#criterion=F.binary_cross_entropy\n",
    "train_acc_mean_list=[]\n",
    "test_acc_mean_list=[]\n",
    "loss_list=[]\n",
    "accuracy_list=[]\n",
    "best_score=0\n",
    "\n",
    "train_size=int(len(data_list)*.8)\n",
    "train_data=data_list[:train_size]\n",
    "test_data=data_list[train_size:]\n",
    "\n",
    "\n",
    "\n",
    "for epoch_num in range(10):\n",
    "    epoch_accuracy=[]\n",
    "    \n",
    "    for  batch_num,batch in enumerate(loader):\n",
    "        model.train()\n",
    "        optimizer.zero_grad()   \n",
    "        #x_dict = {key: gmp(batch[key].x, batch[key].batch) for key in batch.node_types}\n",
    "        out,embedding=model(batch.x_dict, batch.edge_index_dict) \n",
    "        loss=criterion(out['target'],batch['target'].y.view(1,-1)[0])\n",
    "        loss.backward()\n",
    "        optimizer.step()\n",
    "        loss_list.append(loss.item())\n",
    "        train_correct=out['target'].argmax(dim=1)==batch['target'].y.view(1,-1)[0]\n",
    "        train_acc=train_correct*1\n",
    "        accuracy=(sum(train_correct*1)/train_correct.shape[0]).item()\n",
    "        epoch_accuracy.append(accuracy)\n",
    "        accuracy_list.append(accuracy)\n",
    "    if epoch_num==0:\n",
    "        best_model=model\n",
    "        best_loss=loss\n",
    "    else:\n",
    "        if loss<best_loss:\n",
    "            best_model=model  \n",
    "            best_loss=loss\n",
    "    ic((epoch_num,np.mean(epoch_accuracy),loss.item()))\n",
    "    \n",
    "\n",
    "#out['target']: tensor([[0.2217, 0.0272]], grad_fn=<AddmmBackward0>)"
   ]
  },
  {
   "cell_type": "code",
   "execution_count": 1208,
   "id": "1e62a5f8-bafd-4549-b486-69edff9edc27",
   "metadata": {},
   "outputs": [],
   "source": [
    "loss_moving_avg=[]\n",
    "mvg_steps=50\n",
    "for i in range(len(loss_list)-mvg_steps):\n",
    "    loss_moving_avg.append(np.mean(loss_list[i:i+mvg_steps]))"
   ]
  },
  {
   "cell_type": "code",
   "execution_count": 1209,
   "id": "e9f8bb55-12af-45a5-bd09-ecd432ab9ced",
   "metadata": {},
   "outputs": [
    {
     "data": {
      "text/plain": [
       "[<matplotlib.lines.Line2D at 0x20252bf8730>]"
      ]
     },
     "execution_count": 1209,
     "metadata": {},
     "output_type": "execute_result"
    },
    {
     "data": {
      "image/png": "[encoded data removed]",
      "text/plain": [
       "<Figure size 640x480 with 1 Axes>"
      ]
     },
     "metadata": {},
     "output_type": "display_data"
    }
   ],
   "source": [
    "plt.plot(loss_list)\n",
    "plt.plot(loss_moving_avg)"
   ]
  },
  {
   "cell_type": "code",
   "execution_count": 1210,
   "id": "d93ca801-9aa5-4762-88e2-b3384ef7d58f",
   "metadata": {},
   "outputs": [],
   "source": [
    "acc_moving_avg=[]\n",
    "\n",
    "for i in range(len(accuracy_list)-mvg_steps):\n",
    "    acc_moving_avg.append(np.mean(accuracy_list[i:i+mvg_steps]))"
   ]
  },
  {
   "cell_type": "code",
   "execution_count": 1211,
   "id": "523492b3-ac54-4554-a15a-aa72ac5714a5",
   "metadata": {},
   "outputs": [
    {
     "data": {
      "text/plain": [
       "[<matplotlib.lines.Line2D at 0x20252c49a00>]"
      ]
     },
     "execution_count": 1211,
     "metadata": {},
     "output_type": "execute_result"
    },
    {
     "data": {
      "image/png": "[encoded data removed]",
      "text/plain": [
       "<Figure size 640x480 with 1 Axes>"
      ]
     },
     "metadata": {},
     "output_type": "display_data"
    }
   ],
   "source": [
    "plt.plot(accuracy_list)\n",
    "plt.plot(acc_moving_avg)"
   ]
  },
  {
   "cell_type": "code",
   "execution_count": 1206,
   "id": "18b48054-31d8-4583-9a89-9533ff303098",
   "metadata": {},
   "outputs": [
    {
     "name": "stderr",
     "output_type": "stream",
     "text": [
      "2023-10-18 16:10:52 |1290665483.py:20 in <module>\n",
      "                     performance: 'model :0.27 , basline :0.73'\n",
      "2023-10-18 16:10:52 |1290665483.py:20 in <module>\n",
      "                     performance: 'model :0.60 , basline :0.40'\n",
      "2023-10-18 16:10:52 |1290665483.py:20 in <module>\n",
      "                     performance: 'model :0.67 , basline :0.33'\n",
      "2023-10-18 16:10:52 |1290665483.py:20 in <module>\n",
      "                     performance: 'model :0.47 , basline :0.53'\n",
      "2023-10-18 16:10:52 |1290665483.py:20 in <module>\n",
      "                     performance: 'model :0.47 , basline :0.53'\n",
      "2023-10-18 16:10:53 |1290665483.py:20 in <module>\n",
      "                     performance: 'model :0.47 , basline :0.53'\n",
      "2023-10-18 16:10:53 |1290665483.py:20 in <module>\n",
      "                     performance: 'model :0.53 , basline :0.47'\n",
      "2023-10-18 16:10:53 |1290665483.py:20 in <module>\n",
      "                     performance: 'model :0.40 , basline :0.60'\n",
      "2023-10-18 16:10:53 |1290665483.py:20 in <module>\n",
      "                     performance: 'model :0.50 , basline :0.50'\n",
      "2023-10-18 16:10:53 |1290665483.py:24 in <module>\n",
      "                     np.mean(test_accuracy): 0.4851851960023244\n",
      "                     np.mean(baseline_accuracy_list): 0.5148148304886289\n"
     ]
    }
   ],
   "source": [
    "test_accuracy=[]\n",
    "baseline_accuracy_list=[]\n",
    "best_model.eval()\n",
    "model.eval()\n",
    "with torch.no_grad():\n",
    "    for num, data in enumerate(test_loader):\n",
    "\n",
    "        try:\n",
    "            \n",
    "            out,x=best_model(data.x_dict, data.edge_index_dict)\n",
    "            pred=out['target'].argmax(dim=1)\n",
    "            test_correct=out['target'].argmax(dim=1)==data['target'].y.view(1,-1)[0]\n",
    "            test_acc=test_correct*1\n",
    "            accuracy=(sum(test_correct*1)/test_correct.shape[0]).item()\n",
    "            #baseline_accuracy=(data['target'].y.view(1,-1)[0].max()==out['target'].argmax(dim=1)).sum()/data['target'].y.view(1,-1)[0].shape[0]\n",
    "            baseline_accuracy=((1==out['target'].argmax(dim=1))*1).sum()/data['target'].y.view(1,-1)[0].shape[0]\n",
    "            performance='model :{:.2f} , basline :{:.2f}'.format(accuracy,baseline_accuracy)\n",
    "            test_accuracy.append(accuracy)\n",
    "            baseline_accuracy_list.append(baseline_accuracy.item())\n",
    "            ic(performance);\n",
    "        except Exception as e:\n",
    "            ic(e)\n",
    "            pass\n",
    "ic(np.mean(test_accuracy),np.mean(baseline_accuracy_list));"
   ]
  },
  {
   "cell_type": "code",
   "execution_count": 1039,
   "id": "01c3e35f-f757-4bd4-8274-b32eef0e9d12",
   "metadata": {},
   "outputs": [
    {
     "data": {
      "text/plain": [
       "tensor([True, True, True])"
      ]
     },
     "execution_count": 1039,
     "metadata": {},
     "output_type": "execute_result"
    }
   ],
   "source": [
    "out['target'].argmax(dim=1)==1"
   ]
  },
  {
   "cell_type": "code",
   "execution_count": 1244,
   "id": "c061bcaf-0faa-4a6e-b86b-dfca228f0f5a",
   "metadata": {},
   "outputs": [
    {
     "data": {
      "text/plain": [
       "tensor([[0.0655, 0.5614],\n",
       "        [0.0098, 0.9887],\n",
       "        [0.0438, 0.9861],\n",
       "        [0.0655, 0.5614]])"
      ]
     },
     "execution_count": 1244,
     "metadata": {},
     "output_type": "execute_result"
    }
   ],
   "source": [
    "out['target'].detach()"
   ]
  },
  {
   "cell_type": "code",
   "execution_count": null,
   "id": "f3a30ccc-785d-4d77-b824-7193a1aa052b",
   "metadata": {},
   "outputs": [],
   "source": []
  },
  {
   "cell_type": "code",
   "execution_count": 1246,
   "id": "e3e3652e-6ccb-48a0-b4ac-0845ac5a5cdf",
   "metadata": {},
   "outputs": [
    {
     "data": {
      "text/plain": [
       "tensor([0.5614, 0.9887, 0.9861, 0.5614])"
      ]
     },
     "execution_count": 1246,
     "metadata": {},
     "output_type": "execute_result"
    }
   ],
   "source": []
  },
  {
   "cell_type": "code",
   "execution_count": 1248,
   "id": "4867a81c-8885-4bb1-904d-83bc84713a9a",
   "metadata": {},
   "outputs": [
    {
     "data": {
      "text/plain": [
       "<matplotlib.collections.PathCollection at 0x2025d896490>"
      ]
     },
     "execution_count": 1248,
     "metadata": {},
     "output_type": "execute_result"
    },
    {
     "data": {
      "image/png": "[encoded data removed]",
      "text/plain": [
       "<Figure size 640x480 with 1 Axes>"
      ]
     },
     "metadata": {},
     "output_type": "display_data"
    }
   ],
   "source": [
    "plt.scatter(x=out['target'].detach()[:,0],y=out['target'].detach()[:,1])"
   ]
  },
  {
   "cell_type": "code",
   "execution_count": 964,
   "id": "9a3d4fa1-8f95-4d68-8d88-ea78d089d14f",
   "metadata": {},
   "outputs": [],
   "source": [
    "hidden_channels=200\n",
    "out_channels=2\n",
    "class GNN_Embeddings(torch.nn.Module):\n",
    "    def __init__(self):\n",
    "        super().__init__()\n",
    "        self.conv1 = SAGEConv((-1, -1), hidden_channels,requires_grad=False)\n",
    "        self.actfn1=nn.ReLU()\n",
    "        \n",
    "        self.conv2 = SAGEConv((-1, -1), hidden_channels,requires_grad=False)\n",
    "        self.actfn2=nn.ReLU()\n",
    "        \n",
    "        self.conv3 = SAGEConv((-1, -1), hidden_channels,requires_grad=False)\n",
    "        self.actfn3=nn.Sigmoid()\n",
    "        \n",
    "        self.out=nn.Linear(hidden_channels,out_channels)\n",
    "        self.sigmoid=nn.Sigmoid()\n",
    "\n",
    "    def forward(self, x, edge_index):\n",
    "        \n",
    "        # First Message Passing layer\n",
    "        x = self.actfn1(self.conv1(x, edge_index))\n",
    "        x= F.dropout(x,p=.5,training=self.training)\n",
    "        \n",
    "        x = self.actfn2(self.conv2(x, edge_index))\n",
    "        x= F.dropout(x,p=.5,training=self.training)\n",
    "        \n",
    "        out=self.out(x)\n",
    "        \n",
    "        return out"
   ]
  },
  {
   "cell_type": "code",
   "execution_count": 965,
   "id": "26725e52-f813-4ddb-a023-2018a6739dce",
   "metadata": {},
   "outputs": [],
   "source": [
    "model_embedding=GNN_Embeddings()\n",
    "model_embedding = to_hetero(model_embedding, batch.metadata())"
   ]
  },
  {
   "cell_type": "code",
   "execution_count": 966,
   "id": "5fc4a2e6-1a4b-4bec-8393-d0bd2875298a",
   "metadata": {},
   "outputs": [],
   "source": [
    "output1=model_embedding(batch.x_dict, batch.edge_index_dict)"
   ]
  },
  {
   "cell_type": "code",
   "execution_count": 967,
   "id": "772629de-c702-44a3-8949-471b63ec43ec",
   "metadata": {},
   "outputs": [],
   "source": [
    "output_target=output1['target']"
   ]
  },
  {
   "cell_type": "code",
   "execution_count": 988,
   "id": "2596a8f9-9525-4c0d-985c-b39a5b869da4",
   "metadata": {},
   "outputs": [
    {
     "data": {
      "text/plain": [
       "tensor([0, 0, 0, 1, 0, 0, 1, 1, 1, 1])"
      ]
     },
     "execution_count": 988,
     "metadata": {},
     "output_type": "execute_result"
    }
   ],
   "source": [
    "output_target.argmax(dim=1)"
   ]
  },
  {
   "cell_type": "code",
   "execution_count": 987,
   "id": "48597964-739b-4fdd-a50c-3fa2637afae9",
   "metadata": {},
   "outputs": [
    {
     "data": {
      "text/plain": [
       "tensor([[1],\n",
       "        [1],\n",
       "        [0],\n",
       "        [0],\n",
       "        [0],\n",
       "        [1],\n",
       "        [0],\n",
       "        [0],\n",
       "        [1],\n",
       "        [1]])"
      ]
     },
     "execution_count": 987,
     "metadata": {},
     "output_type": "execute_result"
    }
   ],
   "source": [
    "batch['target']['y']"
   ]
  },
  {
   "cell_type": "code",
   "execution_count": 974,
   "id": "7cf95e37-8886-43f3-8204-03e30e1dfafa",
   "metadata": {},
   "outputs": [
    {
     "data": {
      "text/plain": [
       "tensor([[[ 0.2064, -0.1514]],\n",
       "\n",
       "        [[ 0.3020, -0.7670]],\n",
       "\n",
       "        [[-0.2894, -0.9260]],\n",
       "\n",
       "        [[ 0.3023,  0.8037]],\n",
       "\n",
       "        [[-0.0443, -0.9245]],\n",
       "\n",
       "        [[ 0.7862,  0.7236]],\n",
       "\n",
       "        [[ 0.0395,  0.1428]],\n",
       "\n",
       "        [[ 0.7633,  0.7837]],\n",
       "\n",
       "        [[-0.7550,  0.3324]],\n",
       "\n",
       "        [[-0.3163,  0.0456]]], grad_fn=<ViewBackward0>)"
      ]
     },
     "execution_count": 974,
     "metadata": {},
     "output_type": "execute_result"
    }
   ],
   "source": [
    "output_target.view(output_target.shape[0],1,output_target.shape[1])"
   ]
  },
  {
   "cell_type": "code",
   "execution_count": 982,
   "id": "a6f8d426-8175-4a62-a4fb-3c126dc9cd60",
   "metadata": {},
   "outputs": [
    {
     "ename": "IndexError",
     "evalue": "tuple index out of range",
     "output_type": "error",
     "traceback": [
      "\u001b[1;31m---------------------------------------------------------------------------\u001b[0m",
      "\u001b[1;31mIndexError\u001b[0m                                Traceback (most recent call last)",
      "Cell \u001b[1;32mIn[982], line 36\u001b[0m\n\u001b[0;32m     33\u001b[0m     rnn_inputs \u001b[38;5;241m=\u001b[39m output1[\u001b[38;5;124m'\u001b[39m\u001b[38;5;124mtarget\u001b[39m\u001b[38;5;124m'\u001b[39m][time_step]\n\u001b[0;32m     35\u001b[0m     \u001b[38;5;66;03m# Pass the RNN inputs to the LSTM model\u001b[39;00m\n\u001b[1;32m---> 36\u001b[0m     rnn_outputs \u001b[38;5;241m=\u001b[39m rnn_cl(output_target\u001b[38;5;241m.\u001b[39mview(rnn_inputs\u001b[38;5;241m.\u001b[39mshape[\u001b[38;5;241m0\u001b[39m],\u001b[38;5;241m1\u001b[39m,\u001b[43mrnn_inputs\u001b[49m\u001b[38;5;241;43m.\u001b[39;49m\u001b[43mshape\u001b[49m\u001b[43m[\u001b[49m\u001b[38;5;241;43m1\u001b[39;49m\u001b[43m]\u001b[49m))\n\u001b[0;32m     38\u001b[0m \u001b[38;5;66;03m# The final output of the LSTM model is the output for the current time step\u001b[39;00m\n\u001b[0;32m     39\u001b[0m output \u001b[38;5;241m=\u001b[39m rnn_outputs\n",
      "\u001b[1;31mIndexError\u001b[0m: tuple index out of range"
     ]
    }
   ],
   "source": [
    "import torch\n",
    "from torch import nn\n",
    "\n",
    "input_dim=2\n",
    "hidden_dim=10\n",
    "output_dim=2\n",
    "\n",
    " \n",
    "class LSTM_Model(nn.Module):\n",
    "    def __init__(self):\n",
    "        super().__init__()\n",
    "        self.lstm = nn.LSTM(input_dim, hidden_dim, num_layers=1, batch_first=True)\n",
    "        self.linear = nn.Linear(hidden_dim, output_dim)\n",
    "        self.sigmoid= nn.Sigmoid()\n",
    "        \n",
    "    def forward(self, x):\n",
    "        x, _ = self.lstm(x)\n",
    "        x = self.linear(x)\n",
    "        x= self.sigmoid(x)\n",
    "        \n",
    "        return x\n",
    "# Create the LSTM model\n",
    "\n",
    "\n",
    "rnn_cl = LSTM_Model()\n",
    "\n",
    "\n",
    "# Initialize the hidden state\n",
    "hidden_state = None\n",
    "\n",
    "# Pass the user embeddings from the previous time step to the LSTM as input\n",
    "for time_step in range(NUM_GRAPHS_PER_BATCH):\n",
    "    rnn_inputs = output1['target'][time_step]\n",
    "\n",
    "    # Pass the RNN inputs to the LSTM model\n",
    "    rnn_outputs = rnn_cl(output_target.view(rnn_inputs.shape[0],1,rnn_inputs.shape[1]))\n",
    "\n",
    "# The final output of the LSTM model is the output for the current time step\n",
    "output = rnn_outputs"
   ]
  },
  {
   "cell_type": "code",
   "execution_count": 983,
   "id": "630a69b6-9989-4b7b-bc6a-53da0411cb8b",
   "metadata": {},
   "outputs": [
    {
     "data": {
      "text/plain": [
       "tensor([ 0.2064, -0.1514], grad_fn=<SelectBackward0>)"
      ]
     },
     "execution_count": 983,
     "metadata": {},
     "output_type": "execute_result"
    }
   ],
   "source": [
    "rnn_inputs"
   ]
  },
  {
   "cell_type": "code",
   "execution_count": 881,
   "id": "55db1708-862b-4992-af27-ee59c42ad3d9",
   "metadata": {},
   "outputs": [
    {
     "data": {
      "text/plain": [
       "tensor([[0., 0., 0.,  ..., 0., 0., 0.],\n",
       "        [0., 0., 0.,  ..., 0., 0., 0.],\n",
       "        [0., 0., 0.,  ..., 0., 0., 0.],\n",
       "        [0., 0., 0.,  ..., 0., 0., 0.],\n",
       "        [0., 0., 0.,  ..., 0., 0., 0.],\n",
       "        [0., 0., 0.,  ..., 0., 0., 0.]], grad_fn=<MulBackward0>)"
      ]
     },
     "execution_count": 881,
     "metadata": {},
     "output_type": "execute_result"
    }
   ],
   "source": []
  },
  {
   "cell_type": "code",
   "execution_count": 823,
   "id": "00d997e0-fa29-4817-9b0f-9383ea0c4ceb",
   "metadata": {},
   "outputs": [],
   "source": [
    "sample=data_list[5]"
   ]
  },
  {
   "cell_type": "code",
   "execution_count": 824,
   "id": "322d3679-ef58-46a4-a714-6719dbd0f598",
   "metadata": {},
   "outputs": [
    {
     "data": {
      "text/plain": [
       "HeteroData(\n",
       "  \u001b[1matom\u001b[0m={ x=[8, 2] },\n",
       "  \u001b[1mlo\u001b[0m={ x=[31, 1] },\n",
       "  \u001b[1mtarget\u001b[0m={\n",
       "    x=[1, 1],\n",
       "    y=[1, 1]\n",
       "  },\n",
       "  \u001b[1mlm\u001b[0m={ x=[3, 1] },\n",
       "  \u001b[1m(lo, lo_atom, atom)\u001b[0m={ edge_index=[2, 8] },\n",
       "  \u001b[1m(lo, lo_lo, lo)\u001b[0m={ edge_index=[2, 41] },\n",
       "  \u001b[1m(lo, lo_target, target)\u001b[0m={ edge_index=[2, 1] },\n",
       "  \u001b[1m(atom, atom_atom, atom)\u001b[0m={ edge_index=[2, 6] },\n",
       "  \u001b[1m(atom, atom_target, target)\u001b[0m={ edge_index=[2, 0] },\n",
       "  \u001b[1m(lo, lo_lm, lm)\u001b[0m={ edge_index=[2, 3] }\n",
       ")"
      ]
     },
     "execution_count": 824,
     "metadata": {},
     "output_type": "execute_result"
    }
   ],
   "source": [
    "sample"
   ]
  },
  {
   "cell_type": "code",
   "execution_count": 834,
   "id": "95948adc-7433-4cfa-8a02-0343ca57fb37",
   "metadata": {},
   "outputs": [],
   "source": [
    "G=nx.Graph()"
   ]
  },
  {
   "cell_type": "code",
   "execution_count": 837,
   "id": "6ef62577-2df0-4ec5-84e2-c467620ea4a6",
   "metadata": {},
   "outputs": [
    {
     "data": {
      "text/plain": [
       "tensor([[29, 29, 28, 28, 29, 29, 28, 28],\n",
       "        [ 0,  1,  2,  3,  4,  5,  6,  7]])"
      ]
     },
     "execution_count": 837,
     "metadata": {},
     "output_type": "execute_result"
    }
   ],
   "source": [
    "sample[  ('lo', 'lo_atom', 'atom')]['edge_index']"
   ]
  },
  {
   "cell_type": "code",
   "execution_count": 857,
   "id": "42be2ecc-5192-46dd-86ea-5d188081b337",
   "metadata": {},
   "outputs": [
    {
     "data": {
      "text/plain": [
       "array([[29,  0],\n",
       "       [29,  1],\n",
       "       [28,  2],\n",
       "       [28,  3],\n",
       "       [29,  4],\n",
       "       [29,  5],\n",
       "       [28,  6],\n",
       "       [28,  7]], dtype=int64)"
      ]
     },
     "execution_count": 857,
     "metadata": {},
     "output_type": "execute_result"
    }
   ],
   "source": [
    "sample.edge_items()[0][1]['edge_index'].numpy().transpose()"
   ]
  },
  {
   "cell_type": "code",
   "execution_count": null,
   "id": "d526f916-1edd-4121-b804-9a24724345b7",
   "metadata": {},
   "outputs": [],
   "source": []
  },
  {
   "cell_type": "code",
   "execution_count": 1225,
   "id": "d50b7661-958b-4b8b-ab95-1c060046a796",
   "metadata": {},
   "outputs": [],
   "source": [
    "import torch\n",
    "import torch.nn"
   ]
  },
  {
   "cell_type": "code",
   "execution_count": 1215,
   "id": "dd9b7d6c-5a40-4ab0-ac3f-6ebdcfefce5d",
   "metadata": {},
   "outputs": [],
   "source": [
    "stacked=torch.stack([torch.tensor([[1,2,3,4]]),torch.tensor([[2,3,4,5]]),torch.tensor([[3,4,5,6]])],dim=0)"
   ]
  },
  {
   "cell_type": "code",
   "execution_count": 1216,
   "id": "96e06bad-42b4-4570-b7ee-8a3b9b338e47",
   "metadata": {},
   "outputs": [
    {
     "data": {
      "text/plain": [
       "tensor([[[1, 2, 3, 4]],\n",
       "\n",
       "        [[2, 3, 4, 5]],\n",
       "\n",
       "        [[3, 4, 5, 6]]])"
      ]
     },
     "execution_count": 1216,
     "metadata": {},
     "output_type": "execute_result"
    }
   ],
   "source": [
    "stacked"
   ]
  },
  {
   "cell_type": "code",
   "execution_count": 1236,
   "id": "f7d30fdb-8665-40a2-ab7a-c35dc2ecc1bb",
   "metadata": {},
   "outputs": [],
   "source": [
    "reshaped=stacked.permute(1,0,2).float()"
   ]
  },
  {
   "cell_type": "code",
   "execution_count": 1237,
   "id": "6db8e24d-1252-44cc-a427-39d6ca163808",
   "metadata": {},
   "outputs": [],
   "source": [
    "lstm=nn.LSTM(4,2)"
   ]
  },
  {
   "cell_type": "code",
   "execution_count": 1238,
   "id": "84b7b862-7b30-4643-8513-0ec3cc5f9331",
   "metadata": {},
   "outputs": [
    {
     "data": {
      "text/plain": [
       "(tensor([[[-2.3294e-03, -4.9031e-01],\n",
       "          [-4.1070e-04, -6.2513e-01],\n",
       "          [-5.5507e-05, -6.8127e-01]]], grad_fn=<StackBackward0>),\n",
       " (tensor([[[-2.3294e-03, -4.9031e-01],\n",
       "           [-4.1070e-04, -6.2513e-01],\n",
       "           [-5.5507e-05, -6.8127e-01]]], grad_fn=<StackBackward0>),\n",
       "  tensor([[[-0.0203, -0.5950],\n",
       "           [-0.0112, -0.7577],\n",
       "           [-0.0050, -0.8394]]], grad_fn=<StackBackward0>)))"
      ]
     },
     "execution_count": 1238,
     "metadata": {},
     "output_type": "execute_result"
    }
   ],
   "source": [
    "lstm(reshaped)"
   ]
  },
  {
   "cell_type": "code",
   "execution_count": null,
   "id": "f97e0430-de3d-4184-82ca-aa3a16489dfc",
   "metadata": {},
   "outputs": [],
   "source": []
  }
 ],
 "metadata": {
  "kernelspec": {
   "display_name": "Python 3 (ipykernel)",
   "language": "python",
   "name": "python3"
  },
  "language_info": {
   "codemirror_mode": {
    "name": "ipython",
    "version": 3
   },
   "file_extension": ".py",
   "mimetype": "text/x-python",
   "name": "python",
   "nbconvert_exporter": "python",
   "pygments_lexer": "ipython3",
   "version": "3.8.3"
  }
 },
 "nbformat": 4,
 "nbformat_minor": 5
}
