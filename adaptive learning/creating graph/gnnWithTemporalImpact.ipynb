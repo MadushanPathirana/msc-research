{
 "cells": [
  {
   "cell_type": "code",
   "execution_count": 1,
   "id": "d4d16016-67cc-41b0-81f0-0d72e0c4438b",
   "metadata": {},
   "outputs": [],
   "source": [
    "import logging\n",
    "import sys\n",
    "import datetime\n",
    "\n",
    "from icecream import ic\n",
    "from tqdm import tqdm"
   ]
  },
  {
   "cell_type": "code",
   "execution_count": null,
   "id": "61fbbc9c-e693-4e7d-ae68-74043ef3b87a",
   "metadata": {},
   "outputs": [],
   "source": []
  },
  {
   "cell_type": "code",
   "execution_count": 2,
   "id": "57886db5-79e6-41f6-8555-80682a409e9c",
   "metadata": {},
   "outputs": [],
   "source": [
    "\n",
    "def time_now():\n",
    "  \n",
    "    return f\"{datetime.datetime.now().strftime('%Y-%m-%d %H:%M:%S')} |\"\n",
    "#.strftime('%Y-%m-%d %H:%M:%S')\n",
    "ic.configureOutput(prefix=time_now)\n",
    "ic.configureOutput(includeContext=True) "
   ]
  },
  {
   "cell_type": "markdown",
   "id": "cd6b829d-c435-4692-b4a5-a08470226c17",
   "metadata": {},
   "source": [
    "https://github.com/jhljx/GKT "
   ]
  },
  {
   "cell_type": "markdown",
   "id": "e72d9bf7-5e17-42b3-8946-b4fe4195decb",
   "metadata": {},
   "source": [
    "https://pytorch-geometric.readthedocs.io/en/latest/_modules/torch_geometric/nn/aggr/lstm.html"
   ]
  },
  {
   "cell_type": "code",
   "execution_count": 3,
   "id": "a1c27469-f6d1-402a-8e85-dcd8ea6f3afa",
   "metadata": {
    "tags": []
   },
   "outputs": [],
   "source": [
    "import pandas as pd\n",
    "import numpy as np\n",
    "import networkx as nx\n",
    "import matplotlib.pyplot as plt;\n",
    "np.random.seed(42);"
   ]
  },
  {
   "cell_type": "code",
   "execution_count": 4,
   "id": "52cfbf95-2e9a-45d1-987c-963469771833",
   "metadata": {},
   "outputs": [],
   "source": [
    "from sklearn.metrics import roc_auc_score;\n",
    "from sklearn.metrics import classification_report;"
   ]
  },
  {
   "cell_type": "code",
   "execution_count": 5,
   "id": "d03a4236-7f5c-40c5-ac9f-a43d2d8afac2",
   "metadata": {},
   "outputs": [],
   "source": [
    "pd.set_option('display.max_columns', None);"
   ]
  },
  {
   "cell_type": "code",
   "execution_count": 6,
   "id": "e8cbedf5-9e52-46a9-94bb-9bc357120fa2",
   "metadata": {},
   "outputs": [],
   "source": [
    "df=pd.read_pickle('appmath.pkl')[['graph_id', 'user_id', \n",
    "       'goal_id',\n",
    "        'interaction_end_time',\n",
    "       'learning_objective_name', 'atom_id', \n",
    "       'correct', 'time_spent_answering_s', 'time_spent_on_instruction_s',\n",
    "       'goal_progress',\n",
    "       'target_status_and_progress', 'prev_concept_narrative',\n",
    "       'duration_s', 'is_target']]  "
   ]
  },
  {
   "cell_type": "code",
   "execution_count": 7,
   "id": "dc1ea2be-8996-4520-b71e-e3be3c44e2e5",
   "metadata": {},
   "outputs": [],
   "source": [
    "df2=pd.read_csv('prereq_edges.csv')"
   ]
  },
  {
   "cell_type": "code",
   "execution_count": 8,
   "id": "6c33f922-d8a2-4ef2-b721-15632dc3002c",
   "metadata": {},
   "outputs": [],
   "source": [
    "G=nx.Graph()\n",
    "\n",
    "for _,i in df2.iterrows():    \n",
    "       \n",
    "        G.add_edge(i['source_lo_title'],i['dest_lo_title'])\n",
    "        \n",
    "subgraphs=[G.subgraph(i) for i in nx.connected_components(G)]\n",
    "\n",
    "for num,sub in enumerate(subgraphs):\n",
    "    \n",
    "    nx.set_node_attributes(sub,num,'subGraphId')\n",
    "\n",
    "nodeSubGraphId={}\n",
    "for g in subgraphs:\n",
    "    for node in g.nodes(data=True):\n",
    "         nodeSubGraphId[node[0]]= node[1]['subGraphId']\n",
    "            \n",
    "subgraphsNodeCountDict={ num: g.number_of_nodes() for num,g in  enumerate(subgraphs)}"
   ]
  },
  {
   "cell_type": "code",
   "execution_count": 9,
   "id": "ee949d5e-eb06-4b71-8b4d-c1064e145cf6",
   "metadata": {},
   "outputs": [],
   "source": [
    "for col in df.columns:\n",
    "    if df[col].dtype.name=='category':\n",
    "        df[col]=df[col].astype(str)"
   ]
  },
  {
   "cell_type": "markdown",
   "id": "76f76eab-a75f-49b0-b846-5fc57abdc39a",
   "metadata": {},
   "source": [
    "https://colab.research.google.com/drive/1jDiuseAdtZCYbAX2IRv2HU8zG5585bRi?usp=sharing#scrollTo=GQ9SKdThF8Bq"
   ]
  },
  {
   "cell_type": "markdown",
   "id": "7ee4da2d-53b7-457a-95fb-f4a05d6be4c4",
   "metadata": {},
   "source": [
    "https://anuradhawick.com/software-tools/"
   ]
  },
  {
   "cell_type": "code",
   "execution_count": 1550,
   "id": "6db1b9c9-7e0a-4dce-bc29-af68004a2601",
   "metadata": {},
   "outputs": [
    {
     "data": {
      "text/html": [
       "<div>\n",
       "<style scoped>\n",
       "    .dataframe tbody tr th:only-of-type {\n",
       "        vertical-align: middle;\n",
       "    }\n",
       "\n",
       "    .dataframe tbody tr th {\n",
       "        vertical-align: top;\n",
       "    }\n",
       "\n",
       "    .dataframe thead th {\n",
       "        text-align: right;\n",
       "    }\n",
       "</style>\n",
       "<table border=\"1\" class=\"dataframe\">\n",
       "  <thead>\n",
       "    <tr style=\"text-align: right;\">\n",
       "      <th></th>\n",
       "      <th>atom_id</th>\n",
       "      <th>avg_time_spent_answering_s</th>\n",
       "      <th>avg_time_spent_on_instruction_s</th>\n",
       "    </tr>\n",
       "  </thead>\n",
       "  <tbody>\n",
       "    <tr>\n",
       "      <th>0</th>\n",
       "      <td>000361fc-3126-4f25-93da-3ee3b66021c4</td>\n",
       "      <td>29.541668</td>\n",
       "      <td>2.995905</td>\n",
       "    </tr>\n",
       "    <tr>\n",
       "      <th>1</th>\n",
       "      <td>000da431-9e35-4309-a3ae-cca9225b8d54</td>\n",
       "      <td>159.825211</td>\n",
       "      <td>30.635818</td>\n",
       "    </tr>\n",
       "    <tr>\n",
       "      <th>2</th>\n",
       "      <td>00170926-4ba4-4d1e-bd86-0ac94107acb1</td>\n",
       "      <td>112.082001</td>\n",
       "      <td>6.899700</td>\n",
       "    </tr>\n",
       "    <tr>\n",
       "      <th>3</th>\n",
       "      <td>001cfd36-68fa-4d74-b077-769f3bf2e0ad</td>\n",
       "      <td>123.377983</td>\n",
       "      <td>25.891594</td>\n",
       "    </tr>\n",
       "    <tr>\n",
       "      <th>4</th>\n",
       "      <td>001f9626-6b91-4c21-8e04-ae196aa7ba9e</td>\n",
       "      <td>181.582916</td>\n",
       "      <td>30.750126</td>\n",
       "    </tr>\n",
       "    <tr>\n",
       "      <th>...</th>\n",
       "      <td>...</td>\n",
       "      <td>...</td>\n",
       "      <td>...</td>\n",
       "    </tr>\n",
       "    <tr>\n",
       "      <th>15469</th>\n",
       "      <td>ffeff3b8-9844-4e6d-a860-f873df11cc66</td>\n",
       "      <td>43.859367</td>\n",
       "      <td>3.913053</td>\n",
       "    </tr>\n",
       "    <tr>\n",
       "      <th>15470</th>\n",
       "      <td>fff0e6fc-e78f-41da-bcc8-88a6dceb6cc3</td>\n",
       "      <td>178.256500</td>\n",
       "      <td>26.432474</td>\n",
       "    </tr>\n",
       "    <tr>\n",
       "      <th>15471</th>\n",
       "      <td>fff4801c-d828-453e-b1d4-64369f7b1048</td>\n",
       "      <td>52.076668</td>\n",
       "      <td>11.722250</td>\n",
       "    </tr>\n",
       "    <tr>\n",
       "      <th>15472</th>\n",
       "      <td>fff652bc-b348-4054-9aab-8e67b98b022a</td>\n",
       "      <td>95.347855</td>\n",
       "      <td>27.169571</td>\n",
       "    </tr>\n",
       "    <tr>\n",
       "      <th>15473</th>\n",
       "      <td>fffd03c7-5c73-41e2-ae82-7c5146120a29</td>\n",
       "      <td>204.068634</td>\n",
       "      <td>14.929345</td>\n",
       "    </tr>\n",
       "  </tbody>\n",
       "</table>\n",
       "<p>15474 rows × 3 columns</p>\n",
       "</div>"
      ],
      "text/plain": [
       "                                    atom_id  avg_time_spent_answering_s  \\\n",
       "0      000361fc-3126-4f25-93da-3ee3b66021c4                   29.541668   \n",
       "1      000da431-9e35-4309-a3ae-cca9225b8d54                  159.825211   \n",
       "2      00170926-4ba4-4d1e-bd86-0ac94107acb1                  112.082001   \n",
       "3      001cfd36-68fa-4d74-b077-769f3bf2e0ad                  123.377983   \n",
       "4      001f9626-6b91-4c21-8e04-ae196aa7ba9e                  181.582916   \n",
       "...                                     ...                         ...   \n",
       "15469  ffeff3b8-9844-4e6d-a860-f873df11cc66                   43.859367   \n",
       "15470  fff0e6fc-e78f-41da-bcc8-88a6dceb6cc3                  178.256500   \n",
       "15471  fff4801c-d828-453e-b1d4-64369f7b1048                   52.076668   \n",
       "15472  fff652bc-b348-4054-9aab-8e67b98b022a                   95.347855   \n",
       "15473  fffd03c7-5c73-41e2-ae82-7c5146120a29                  204.068634   \n",
       "\n",
       "       avg_time_spent_on_instruction_s  \n",
       "0                             2.995905  \n",
       "1                            30.635818  \n",
       "2                             6.899700  \n",
       "3                            25.891594  \n",
       "4                            30.750126  \n",
       "...                                ...  \n",
       "15469                         3.913053  \n",
       "15470                        26.432474  \n",
       "15471                        11.722250  \n",
       "15472                        27.169571  \n",
       "15473                        14.929345  \n",
       "\n",
       "[15474 rows x 3 columns]"
      ]
     },
     "execution_count": 1550,
     "metadata": {},
     "output_type": "execute_result"
    }
   ],
   "source": []
  },
  {
   "cell_type": "code",
   "execution_count": 12,
   "id": "6585a193-339a-4bb8-b529-dce29b9befa8",
   "metadata": {},
   "outputs": [],
   "source": []
  },
  {
   "cell_type": "code",
   "execution_count": 13,
   "id": "8a7f4b29-5915-44f8-ad35-8d7f5c8adaa1",
   "metadata": {},
   "outputs": [],
   "source": [
    "#loIndex={lo:i for i,lo in enumerate( df.learning_objective_name.unique())}\n",
    "#df['loIndex']=df['learning_objective_name'].apply(lambda x: loIndex[x])"
   ]
  },
  {
   "cell_type": "code",
   "execution_count": 14,
   "id": "e81eb600-b208-42ea-b014-8d24b27a13e3",
   "metadata": {},
   "outputs": [],
   "source": [
    "def atomClassifier(x):\n",
    "    if x==None:\n",
    "        return 'learningMaterial'\n",
    "    else:\n",
    "        return 'question'"
   ]
  },
  {
   "cell_type": "code",
   "execution_count": 15,
   "id": "16f7b8a2-052c-47ac-bbfc-388de6cf03e7",
   "metadata": {},
   "outputs": [],
   "source": [
    "df['atom_type']=df.correct.apply(lambda x:atomClassifier(x) )"
   ]
  },
  {
   "cell_type": "code",
   "execution_count": 16,
   "id": "50eec388-70ad-4200-acc0-fc21ab1ece6b",
   "metadata": {},
   "outputs": [],
   "source": [
    "df['correctBinary']=df.correct*1\n",
    "df.atom_id=df.atom_id.astype(str)\n"
   ]
  },
  {
   "cell_type": "code",
   "execution_count": 10,
   "id": "f6b4a39a-9905-44fd-8f8b-1c9d98468099",
   "metadata": {},
   "outputs": [],
   "source": [
    "df['loGraphID']=df.learning_objective_name.apply(lambda x: nodeSubGraphId.get(x) )"
   ]
  },
  {
   "cell_type": "code",
   "execution_count": 1558,
   "id": "ae1439df-3e46-4644-9932-9f84ad5cc420",
   "metadata": {
    "tags": []
   },
   "outputs": [],
   "source": [
    "difficulty=df[~df.correct.isna()].groupby('atom_id')[['correctBinary']].mean().reset_index().rename(columns={'correct':'difficulty'})"
   ]
  },
  {
   "cell_type": "code",
   "execution_count": 1559,
   "id": "c4d0a34a-7d61-4c87-ad92-ba67e25e0e02",
   "metadata": {},
   "outputs": [],
   "source": [
    "durations=df[~df.correct.isna()].groupby('atom_id')[['time_spent_answering_s', 'time_spent_on_instruction_s']].mean().reset_index().rename(columns={'time_spent_answering_s':'avg_time_spent_answering_s','time_spent_on_instruction_s':'avg_time_spent_on_instruction_s'})"
   ]
  },
  {
   "cell_type": "code",
   "execution_count": null,
   "id": "abd8a140-77bf-4380-a921-3e1390924b5e",
   "metadata": {},
   "outputs": [],
   "source": []
  },
  {
   "cell_type": "code",
   "execution_count": 1560,
   "id": "7d2f4a32-5eb3-47cf-9881-9560ad8eb13f",
   "metadata": {},
   "outputs": [],
   "source": [
    "df=df.merge(difficulty,how='left',on='atom_id')"
   ]
  },
  {
   "cell_type": "code",
   "execution_count": 1561,
   "id": "2a5ce990-ca2f-423e-a6ed-b66b8c1af63e",
   "metadata": {},
   "outputs": [],
   "source": [
    "df=df.merge(durations,how='left',on='atom_id')"
   ]
  },
  {
   "cell_type": "code",
   "execution_count": 1562,
   "id": "15d10a56-0245-4e62-9de7-e63689bc75c0",
   "metadata": {},
   "outputs": [
    {
     "data": {
      "text/html": [
       "<div>\n",
       "<style scoped>\n",
       "    .dataframe tbody tr th:only-of-type {\n",
       "        vertical-align: middle;\n",
       "    }\n",
       "\n",
       "    .dataframe tbody tr th {\n",
       "        vertical-align: top;\n",
       "    }\n",
       "\n",
       "    .dataframe thead th {\n",
       "        text-align: right;\n",
       "    }\n",
       "</style>\n",
       "<table border=\"1\" class=\"dataframe\">\n",
       "  <thead>\n",
       "    <tr style=\"text-align: right;\">\n",
       "      <th></th>\n",
       "      <th>graph_id</th>\n",
       "      <th>user_id</th>\n",
       "      <th>goal_id</th>\n",
       "      <th>interaction_end_time</th>\n",
       "      <th>learning_objective_name</th>\n",
       "      <th>atom_id</th>\n",
       "      <th>correct</th>\n",
       "      <th>time_spent_answering_s</th>\n",
       "      <th>time_spent_on_instruction_s</th>\n",
       "      <th>goal_progress</th>\n",
       "      <th>target_status_and_progress</th>\n",
       "      <th>prev_concept_narrative</th>\n",
       "      <th>duration_s</th>\n",
       "      <th>is_target</th>\n",
       "      <th>loGraphID</th>\n",
       "      <th>difficulty</th>\n",
       "      <th>atom_type</th>\n",
       "      <th>correctBinary_x</th>\n",
       "      <th>loIndex</th>\n",
       "      <th>correctBinary_y</th>\n",
       "      <th>avg_time_spent_answering_s</th>\n",
       "      <th>avg_time_spent_on_instruction_s</th>\n",
       "    </tr>\n",
       "  </thead>\n",
       "  <tbody>\n",
       "    <tr>\n",
       "      <th>0</th>\n",
       "      <td>076e1a0e-669c-40c4-a23c-7ac2bbaa05cf</td>\n",
       "      <td>0012ff2b-871a-45d6-8e33-804f7464fa0a</td>\n",
       "      <td>e359efc4-ed49-4227-a03e-c0c9358487d3</td>\n",
       "      <td>2022-10-02 16:17:07.342</td>\n",
       "      <td>Construct a truth table for a conditional stat...</td>\n",
       "      <td>90bf68ef-fa40-4c57-9054-c417a848d897</td>\n",
       "      <td>False</td>\n",
       "      <td>396.441010</td>\n",
       "      <td>24.492001</td>\n",
       "      <td>0.037663</td>\n",
       "      <td>{'53568360-e9fe-465f-a8fc-1c75027cba94': {'pro...</td>\n",
       "      <td>DIRECT_CHOOSE_TOPIC</td>\n",
       "      <td>420.933014</td>\n",
       "      <td>True</td>\n",
       "      <td>3.0</td>\n",
       "      <td>0.525000</td>\n",
       "      <td>question</td>\n",
       "      <td>0</td>\n",
       "      <td>2</td>\n",
       "      <td>0.525000</td>\n",
       "      <td>103.444977</td>\n",
       "      <td>10.768400</td>\n",
       "    </tr>\n",
       "    <tr>\n",
       "      <th>1</th>\n",
       "      <td>076e1a0e-669c-40c4-a23c-7ac2bbaa05cf</td>\n",
       "      <td>0012ff2b-871a-45d6-8e33-804f7464fa0a</td>\n",
       "      <td>e359efc4-ed49-4227-a03e-c0c9358487d3</td>\n",
       "      <td>2022-10-02 16:17:42.073</td>\n",
       "      <td>Construct a truth table for a conditional stat...</td>\n",
       "      <td>49287c70-b63d-41be-9acc-24fd1f273158</td>\n",
       "      <td>True</td>\n",
       "      <td>26.042000</td>\n",
       "      <td>8.122000</td>\n",
       "      <td>0.533186</td>\n",
       "      <td>{'53568360-e9fe-465f-a8fc-1c75027cba94': {'pro...</td>\n",
       "      <td>DIRECT_DIAGNOSE_TOPIC</td>\n",
       "      <td>34.164001</td>\n",
       "      <td>True</td>\n",
       "      <td>3.0</td>\n",
       "      <td>0.547619</td>\n",
       "      <td>question</td>\n",
       "      <td>1</td>\n",
       "      <td>2</td>\n",
       "      <td>0.547619</td>\n",
       "      <td>35.721359</td>\n",
       "      <td>4.023143</td>\n",
       "    </tr>\n",
       "    <tr>\n",
       "      <th>2</th>\n",
       "      <td>076e1a0e-669c-40c4-a23c-7ac2bbaa05cf</td>\n",
       "      <td>0012ff2b-871a-45d6-8e33-804f7464fa0a</td>\n",
       "      <td>e359efc4-ed49-4227-a03e-c0c9358487d3</td>\n",
       "      <td>2022-10-02 16:17:42.341</td>\n",
       "      <td>Construct a truth table for a conditional stat...</td>\n",
       "      <td>b2b1e778-26e0-4c99-ad3f-8ac5e8838a49</td>\n",
       "      <td>None</td>\n",
       "      <td>0.000000</td>\n",
       "      <td>0.000000</td>\n",
       "      <td>NaN</td>\n",
       "      <td>NaN</td>\n",
       "      <td>REVIEW_SWITCH</td>\n",
       "      <td>0.000000</td>\n",
       "      <td>True</td>\n",
       "      <td>3.0</td>\n",
       "      <td>0.433962</td>\n",
       "      <td>learningMaterial</td>\n",
       "      <td>NaN</td>\n",
       "      <td>2</td>\n",
       "      <td>0.433962</td>\n",
       "      <td>90.891457</td>\n",
       "      <td>19.992453</td>\n",
       "    </tr>\n",
       "    <tr>\n",
       "      <th>3</th>\n",
       "      <td>076e1a0e-669c-40c4-a23c-7ac2bbaa05cf</td>\n",
       "      <td>0012ff2b-871a-45d6-8e33-804f7464fa0a</td>\n",
       "      <td>4debeb6d-fc33-46ad-a19b-307c7ae270d0</td>\n",
       "      <td>2022-12-16 18:34:22.470</td>\n",
       "      <td>Determine the sample space of an experiment</td>\n",
       "      <td>1beef294-92f4-40f5-a340-b02f4cc9970c</td>\n",
       "      <td>False</td>\n",
       "      <td>87.829002</td>\n",
       "      <td>3.608000</td>\n",
       "      <td>0.007354</td>\n",
       "      <td>{'e5dfa5f5-7ded-4b39-911e-b2b1737007a1': {'pro...</td>\n",
       "      <td>DIRECT_CHOOSE_TOPIC</td>\n",
       "      <td>91.437004</td>\n",
       "      <td>True</td>\n",
       "      <td>0.0</td>\n",
       "      <td>0.779141</td>\n",
       "      <td>question</td>\n",
       "      <td>0</td>\n",
       "      <td>130</td>\n",
       "      <td>0.779141</td>\n",
       "      <td>90.574196</td>\n",
       "      <td>16.791178</td>\n",
       "    </tr>\n",
       "    <tr>\n",
       "      <th>4</th>\n",
       "      <td>076e1a0e-669c-40c4-a23c-7ac2bbaa05cf</td>\n",
       "      <td>0012ff2b-871a-45d6-8e33-804f7464fa0a</td>\n",
       "      <td>4debeb6d-fc33-46ad-a19b-307c7ae270d0</td>\n",
       "      <td>2022-12-16 18:35:06.209</td>\n",
       "      <td>Determine the sample space of an experiment</td>\n",
       "      <td>f6486631-0b5e-4e95-a149-24418015abc2</td>\n",
       "      <td>True</td>\n",
       "      <td>42.161999</td>\n",
       "      <td>1.341000</td>\n",
       "      <td>0.048507</td>\n",
       "      <td>{'e5dfa5f5-7ded-4b39-911e-b2b1737007a1': {'pro...</td>\n",
       "      <td>DIRECT_DIAGNOSE_TOPIC</td>\n",
       "      <td>43.502998</td>\n",
       "      <td>True</td>\n",
       "      <td>0.0</td>\n",
       "      <td>0.546667</td>\n",
       "      <td>question</td>\n",
       "      <td>1</td>\n",
       "      <td>130</td>\n",
       "      <td>0.546667</td>\n",
       "      <td>18.484827</td>\n",
       "      <td>9.556120</td>\n",
       "    </tr>\n",
       "    <tr>\n",
       "      <th>...</th>\n",
       "      <td>...</td>\n",
       "      <td>...</td>\n",
       "      <td>...</td>\n",
       "      <td>...</td>\n",
       "      <td>...</td>\n",
       "      <td>...</td>\n",
       "      <td>...</td>\n",
       "      <td>...</td>\n",
       "      <td>...</td>\n",
       "      <td>...</td>\n",
       "      <td>...</td>\n",
       "      <td>...</td>\n",
       "      <td>...</td>\n",
       "      <td>...</td>\n",
       "      <td>...</td>\n",
       "      <td>...</td>\n",
       "      <td>...</td>\n",
       "      <td>...</td>\n",
       "      <td>...</td>\n",
       "      <td>...</td>\n",
       "      <td>...</td>\n",
       "      <td>...</td>\n",
       "    </tr>\n",
       "    <tr>\n",
       "      <th>3015673</th>\n",
       "      <td>076e1a0e-669c-40c4-a23c-7ac2bbaa05cf</td>\n",
       "      <td>fff245f4-b76c-4ed3-ae05-84a25bfd92ad</td>\n",
       "      <td>209abe07-67d8-4e6e-857a-7853810efcf5</td>\n",
       "      <td>2022-09-03 03:45:59.691</td>\n",
       "      <td>Solve inequalities that involve rational expre...</td>\n",
       "      <td>79d7f1d0-5bae-4494-849d-9643cd6f5482</td>\n",
       "      <td>True</td>\n",
       "      <td>1522.884033</td>\n",
       "      <td>20.736000</td>\n",
       "      <td>0.250000</td>\n",
       "      <td>{'b6d144af-1fa6-4ca0-af24-a860418b0c61': {'pro...</td>\n",
       "      <td>nan</td>\n",
       "      <td>1543.619995</td>\n",
       "      <td>True</td>\n",
       "      <td>0.0</td>\n",
       "      <td>0.749064</td>\n",
       "      <td>question</td>\n",
       "      <td>1</td>\n",
       "      <td>462</td>\n",
       "      <td>0.749064</td>\n",
       "      <td>296.890778</td>\n",
       "      <td>78.002197</td>\n",
       "    </tr>\n",
       "    <tr>\n",
       "      <th>3015674</th>\n",
       "      <td>076e1a0e-669c-40c4-a23c-7ac2bbaa05cf</td>\n",
       "      <td>fff245f4-b76c-4ed3-ae05-84a25bfd92ad</td>\n",
       "      <td>209abe07-67d8-4e6e-857a-7853810efcf5</td>\n",
       "      <td>2022-09-03 04:16:48.569</td>\n",
       "      <td>Solve inequalities that involve rational expre...</td>\n",
       "      <td>a75b7742-0355-4e60-9164-06a07233b05c</td>\n",
       "      <td>None</td>\n",
       "      <td>0.000000</td>\n",
       "      <td>0.000000</td>\n",
       "      <td>NaN</td>\n",
       "      <td>NaN</td>\n",
       "      <td>nan</td>\n",
       "      <td>0.000000</td>\n",
       "      <td>True</td>\n",
       "      <td>0.0</td>\n",
       "      <td>NaN</td>\n",
       "      <td>learningMaterial</td>\n",
       "      <td>NaN</td>\n",
       "      <td>462</td>\n",
       "      <td>NaN</td>\n",
       "      <td>NaN</td>\n",
       "      <td>NaN</td>\n",
       "    </tr>\n",
       "    <tr>\n",
       "      <th>3015675</th>\n",
       "      <td>076e1a0e-669c-40c4-a23c-7ac2bbaa05cf</td>\n",
       "      <td>fff245f4-b76c-4ed3-ae05-84a25bfd92ad</td>\n",
       "      <td>209abe07-67d8-4e6e-857a-7853810efcf5</td>\n",
       "      <td>2022-09-03 04:27:39.891</td>\n",
       "      <td>Solve inequalities that involve rational expre...</td>\n",
       "      <td>50ba61e6-a3e9-4966-8c3b-fec0da397e64</td>\n",
       "      <td>True</td>\n",
       "      <td>0.000000</td>\n",
       "      <td>4.422000</td>\n",
       "      <td>0.500000</td>\n",
       "      <td>{'b6d144af-1fa6-4ca0-af24-a860418b0c61': {'pro...</td>\n",
       "      <td>nan</td>\n",
       "      <td>4.422000</td>\n",
       "      <td>True</td>\n",
       "      <td>0.0</td>\n",
       "      <td>0.693487</td>\n",
       "      <td>question</td>\n",
       "      <td>1</td>\n",
       "      <td>462</td>\n",
       "      <td>0.693487</td>\n",
       "      <td>372.074219</td>\n",
       "      <td>70.708595</td>\n",
       "    </tr>\n",
       "    <tr>\n",
       "      <th>3015676</th>\n",
       "      <td>076e1a0e-669c-40c4-a23c-7ac2bbaa05cf</td>\n",
       "      <td>fff245f4-b76c-4ed3-ae05-84a25bfd92ad</td>\n",
       "      <td>209abe07-67d8-4e6e-857a-7853810efcf5</td>\n",
       "      <td>2022-09-03 04:31:52.200</td>\n",
       "      <td>Solve inequalities that involve rational expre...</td>\n",
       "      <td>1f1722b2-0ccc-413c-96a7-ceee5b026332</td>\n",
       "      <td>True</td>\n",
       "      <td>235.667999</td>\n",
       "      <td>16.375999</td>\n",
       "      <td>0.750000</td>\n",
       "      <td>{'b6d144af-1fa6-4ca0-af24-a860418b0c61': {'pro...</td>\n",
       "      <td>DIRECT_DIAGNOSE_TOPIC</td>\n",
       "      <td>252.044006</td>\n",
       "      <td>True</td>\n",
       "      <td>0.0</td>\n",
       "      <td>0.802469</td>\n",
       "      <td>question</td>\n",
       "      <td>1</td>\n",
       "      <td>462</td>\n",
       "      <td>0.802469</td>\n",
       "      <td>206.421509</td>\n",
       "      <td>31.266510</td>\n",
       "    </tr>\n",
       "    <tr>\n",
       "      <th>3015677</th>\n",
       "      <td>076e1a0e-669c-40c4-a23c-7ac2bbaa05cf</td>\n",
       "      <td>fff245f4-b76c-4ed3-ae05-84a25bfd92ad</td>\n",
       "      <td>209abe07-67d8-4e6e-857a-7853810efcf5</td>\n",
       "      <td>2022-09-03 04:33:19.491</td>\n",
       "      <td>Solve inequalities that involve rational expre...</td>\n",
       "      <td>0f85d947-0b16-4a3a-a5ae-e24102ad401d</td>\n",
       "      <td>True</td>\n",
       "      <td>77.462997</td>\n",
       "      <td>9.606000</td>\n",
       "      <td>1.000000</td>\n",
       "      <td>{'b6d144af-1fa6-4ca0-af24-a860418b0c61': {'pro...</td>\n",
       "      <td>DIRECT_ASSESS_TOPIC</td>\n",
       "      <td>87.069000</td>\n",
       "      <td>True</td>\n",
       "      <td>0.0</td>\n",
       "      <td>0.782998</td>\n",
       "      <td>question</td>\n",
       "      <td>1</td>\n",
       "      <td>462</td>\n",
       "      <td>0.782998</td>\n",
       "      <td>191.140274</td>\n",
       "      <td>27.702635</td>\n",
       "    </tr>\n",
       "  </tbody>\n",
       "</table>\n",
       "<p>3015678 rows × 22 columns</p>\n",
       "</div>"
      ],
      "text/plain": [
       "                                     graph_id  \\\n",
       "0        076e1a0e-669c-40c4-a23c-7ac2bbaa05cf   \n",
       "1        076e1a0e-669c-40c4-a23c-7ac2bbaa05cf   \n",
       "2        076e1a0e-669c-40c4-a23c-7ac2bbaa05cf   \n",
       "3        076e1a0e-669c-40c4-a23c-7ac2bbaa05cf   \n",
       "4        076e1a0e-669c-40c4-a23c-7ac2bbaa05cf   \n",
       "...                                       ...   \n",
       "3015673  076e1a0e-669c-40c4-a23c-7ac2bbaa05cf   \n",
       "3015674  076e1a0e-669c-40c4-a23c-7ac2bbaa05cf   \n",
       "3015675  076e1a0e-669c-40c4-a23c-7ac2bbaa05cf   \n",
       "3015676  076e1a0e-669c-40c4-a23c-7ac2bbaa05cf   \n",
       "3015677  076e1a0e-669c-40c4-a23c-7ac2bbaa05cf   \n",
       "\n",
       "                                      user_id  \\\n",
       "0        0012ff2b-871a-45d6-8e33-804f7464fa0a   \n",
       "1        0012ff2b-871a-45d6-8e33-804f7464fa0a   \n",
       "2        0012ff2b-871a-45d6-8e33-804f7464fa0a   \n",
       "3        0012ff2b-871a-45d6-8e33-804f7464fa0a   \n",
       "4        0012ff2b-871a-45d6-8e33-804f7464fa0a   \n",
       "...                                       ...   \n",
       "3015673  fff245f4-b76c-4ed3-ae05-84a25bfd92ad   \n",
       "3015674  fff245f4-b76c-4ed3-ae05-84a25bfd92ad   \n",
       "3015675  fff245f4-b76c-4ed3-ae05-84a25bfd92ad   \n",
       "3015676  fff245f4-b76c-4ed3-ae05-84a25bfd92ad   \n",
       "3015677  fff245f4-b76c-4ed3-ae05-84a25bfd92ad   \n",
       "\n",
       "                                      goal_id    interaction_end_time  \\\n",
       "0        e359efc4-ed49-4227-a03e-c0c9358487d3 2022-10-02 16:17:07.342   \n",
       "1        e359efc4-ed49-4227-a03e-c0c9358487d3 2022-10-02 16:17:42.073   \n",
       "2        e359efc4-ed49-4227-a03e-c0c9358487d3 2022-10-02 16:17:42.341   \n",
       "3        4debeb6d-fc33-46ad-a19b-307c7ae270d0 2022-12-16 18:34:22.470   \n",
       "4        4debeb6d-fc33-46ad-a19b-307c7ae270d0 2022-12-16 18:35:06.209   \n",
       "...                                       ...                     ...   \n",
       "3015673  209abe07-67d8-4e6e-857a-7853810efcf5 2022-09-03 03:45:59.691   \n",
       "3015674  209abe07-67d8-4e6e-857a-7853810efcf5 2022-09-03 04:16:48.569   \n",
       "3015675  209abe07-67d8-4e6e-857a-7853810efcf5 2022-09-03 04:27:39.891   \n",
       "3015676  209abe07-67d8-4e6e-857a-7853810efcf5 2022-09-03 04:31:52.200   \n",
       "3015677  209abe07-67d8-4e6e-857a-7853810efcf5 2022-09-03 04:33:19.491   \n",
       "\n",
       "                                   learning_objective_name  \\\n",
       "0        Construct a truth table for a conditional stat...   \n",
       "1        Construct a truth table for a conditional stat...   \n",
       "2        Construct a truth table for a conditional stat...   \n",
       "3              Determine the sample space of an experiment   \n",
       "4              Determine the sample space of an experiment   \n",
       "...                                                    ...   \n",
       "3015673  Solve inequalities that involve rational expre...   \n",
       "3015674  Solve inequalities that involve rational expre...   \n",
       "3015675  Solve inequalities that involve rational expre...   \n",
       "3015676  Solve inequalities that involve rational expre...   \n",
       "3015677  Solve inequalities that involve rational expre...   \n",
       "\n",
       "                                      atom_id correct  time_spent_answering_s  \\\n",
       "0        90bf68ef-fa40-4c57-9054-c417a848d897   False              396.441010   \n",
       "1        49287c70-b63d-41be-9acc-24fd1f273158    True               26.042000   \n",
       "2        b2b1e778-26e0-4c99-ad3f-8ac5e8838a49    None                0.000000   \n",
       "3        1beef294-92f4-40f5-a340-b02f4cc9970c   False               87.829002   \n",
       "4        f6486631-0b5e-4e95-a149-24418015abc2    True               42.161999   \n",
       "...                                       ...     ...                     ...   \n",
       "3015673  79d7f1d0-5bae-4494-849d-9643cd6f5482    True             1522.884033   \n",
       "3015674  a75b7742-0355-4e60-9164-06a07233b05c    None                0.000000   \n",
       "3015675  50ba61e6-a3e9-4966-8c3b-fec0da397e64    True                0.000000   \n",
       "3015676  1f1722b2-0ccc-413c-96a7-ceee5b026332    True              235.667999   \n",
       "3015677  0f85d947-0b16-4a3a-a5ae-e24102ad401d    True               77.462997   \n",
       "\n",
       "         time_spent_on_instruction_s  goal_progress  \\\n",
       "0                          24.492001       0.037663   \n",
       "1                           8.122000       0.533186   \n",
       "2                           0.000000            NaN   \n",
       "3                           3.608000       0.007354   \n",
       "4                           1.341000       0.048507   \n",
       "...                              ...            ...   \n",
       "3015673                    20.736000       0.250000   \n",
       "3015674                     0.000000            NaN   \n",
       "3015675                     4.422000       0.500000   \n",
       "3015676                    16.375999       0.750000   \n",
       "3015677                     9.606000       1.000000   \n",
       "\n",
       "                                target_status_and_progress  \\\n",
       "0        {'53568360-e9fe-465f-a8fc-1c75027cba94': {'pro...   \n",
       "1        {'53568360-e9fe-465f-a8fc-1c75027cba94': {'pro...   \n",
       "2                                                      NaN   \n",
       "3        {'e5dfa5f5-7ded-4b39-911e-b2b1737007a1': {'pro...   \n",
       "4        {'e5dfa5f5-7ded-4b39-911e-b2b1737007a1': {'pro...   \n",
       "...                                                    ...   \n",
       "3015673  {'b6d144af-1fa6-4ca0-af24-a860418b0c61': {'pro...   \n",
       "3015674                                                NaN   \n",
       "3015675  {'b6d144af-1fa6-4ca0-af24-a860418b0c61': {'pro...   \n",
       "3015676  {'b6d144af-1fa6-4ca0-af24-a860418b0c61': {'pro...   \n",
       "3015677  {'b6d144af-1fa6-4ca0-af24-a860418b0c61': {'pro...   \n",
       "\n",
       "        prev_concept_narrative   duration_s  is_target  loGraphID  difficulty  \\\n",
       "0          DIRECT_CHOOSE_TOPIC   420.933014       True        3.0    0.525000   \n",
       "1        DIRECT_DIAGNOSE_TOPIC    34.164001       True        3.0    0.547619   \n",
       "2                REVIEW_SWITCH     0.000000       True        3.0    0.433962   \n",
       "3          DIRECT_CHOOSE_TOPIC    91.437004       True        0.0    0.779141   \n",
       "4        DIRECT_DIAGNOSE_TOPIC    43.502998       True        0.0    0.546667   \n",
       "...                        ...          ...        ...        ...         ...   \n",
       "3015673                    nan  1543.619995       True        0.0    0.749064   \n",
       "3015674                    nan     0.000000       True        0.0         NaN   \n",
       "3015675                    nan     4.422000       True        0.0    0.693487   \n",
       "3015676  DIRECT_DIAGNOSE_TOPIC   252.044006       True        0.0    0.802469   \n",
       "3015677    DIRECT_ASSESS_TOPIC    87.069000       True        0.0    0.782998   \n",
       "\n",
       "                atom_type correctBinary_x  loIndex  correctBinary_y  \\\n",
       "0                question               0        2         0.525000   \n",
       "1                question               1        2         0.547619   \n",
       "2        learningMaterial             NaN        2         0.433962   \n",
       "3                question               0      130         0.779141   \n",
       "4                question               1      130         0.546667   \n",
       "...                   ...             ...      ...              ...   \n",
       "3015673          question               1      462         0.749064   \n",
       "3015674  learningMaterial             NaN      462              NaN   \n",
       "3015675          question               1      462         0.693487   \n",
       "3015676          question               1      462         0.802469   \n",
       "3015677          question               1      462         0.782998   \n",
       "\n",
       "         avg_time_spent_answering_s  avg_time_spent_on_instruction_s  \n",
       "0                        103.444977                        10.768400  \n",
       "1                         35.721359                         4.023143  \n",
       "2                         90.891457                        19.992453  \n",
       "3                         90.574196                        16.791178  \n",
       "4                         18.484827                         9.556120  \n",
       "...                             ...                              ...  \n",
       "3015673                  296.890778                        78.002197  \n",
       "3015674                         NaN                              NaN  \n",
       "3015675                  372.074219                        70.708595  \n",
       "3015676                  206.421509                        31.266510  \n",
       "3015677                  191.140274                        27.702635  \n",
       "\n",
       "[3015678 rows x 22 columns]"
      ]
     },
     "execution_count": 1562,
     "metadata": {},
     "output_type": "execute_result"
    }
   ],
   "source": [
    "df"
   ]
  },
  {
   "cell_type": "code",
   "execution_count": 1563,
   "id": "1980163b-c424-401d-8625-ebe39021d6ce",
   "metadata": {},
   "outputs": [],
   "source": [
    "df2['graph_id']=df2.apply(lambda x: nodeSubGraphId.get(x['source_lo_title']) if nodeSubGraphId.get(x['source_lo_title'])!=None else nodeSubGraphId.get(x['dest_lo_title']),axis=1)"
   ]
  },
  {
   "cell_type": "code",
   "execution_count": null,
   "id": "0781059f-735e-4ad4-8971-f0a6bfae0fdf",
   "metadata": {},
   "outputs": [],
   "source": []
  },
  {
   "cell_type": "code",
   "execution_count": 1564,
   "id": "d1504bbd-909c-490e-a86a-e05cf0447f99",
   "metadata": {},
   "outputs": [],
   "source": [
    "unique_lo_graph_id_dic={}\n",
    "for i in df2.graph_id.unique():\n",
    "    unique_lo=np.unique(np.concatenate((df2[df2.graph_id==i]['source_lo_title'].unique(),((df2[df2.graph_id==i]['dest_lo_title'].unique())))))\n",
    "    unique_lo_graph_id_dic[i]={ item:int(num)  for  num,item in enumerate(unique_lo)}\n",
    "    df2.loc[df2.graph_id==i,'source_index' ]=df2.apply(lambda x: unique_lo_graph_id_dic.get(i).get(x['source_lo_title']),axis=1)\n",
    "    df2.loc[df2.graph_id==i,'dest_index' ]=df2.apply(lambda x: unique_lo_graph_id_dic.get(i).get(x['dest_lo_title']),axis=1)"
   ]
  },
  {
   "cell_type": "code",
   "execution_count": 1565,
   "id": "b1abebbe-ded8-4762-8693-4cf106abd73e",
   "metadata": {},
   "outputs": [],
   "source": [
    "df2.source_index=df2.source_index.astype(int)\n",
    "df2.dest_index=df2.dest_index.astype(int)"
   ]
  },
  {
   "cell_type": "code",
   "execution_count": 1566,
   "id": "1f67b688-9f2b-4651-a729-aaf4489bfe70",
   "metadata": {},
   "outputs": [],
   "source": [
    "df=df[~df.loGraphID.isna()]"
   ]
  },
  {
   "cell_type": "code",
   "execution_count": 1567,
   "id": "d7fe1c3c-8ce9-428f-9372-42617b842252",
   "metadata": {},
   "outputs": [],
   "source": [
    "df['loIndex']=df.apply(lambda x: unique_lo_graph_id_dic[x['loGraphID']].get(x['learning_objective_name'] ),axis=1)"
   ]
  },
  {
   "cell_type": "code",
   "execution_count": 1568,
   "id": "0f9e0c47-4ba3-4d61-8855-5a4db74f17c3",
   "metadata": {},
   "outputs": [
    {
     "data": {
      "text/plain": [
       "source_lo_id                    eda7ab6a-8070-4fd8-8387-da17a40fd99e\n",
       "dest_lo_id                      eda7ab6a-8070-4fd8-8387-da17a40fd99e\n",
       "source_lo_title    Write biconditional statements in symbolic for...\n",
       "dest_lo_title      Write biconditional statements in symbolic for...\n",
       "graph_id                                                           3\n",
       "source_index                                                      30\n",
       "dest_index                                                        30\n",
       "dtype: object"
      ]
     },
     "execution_count": 1568,
     "metadata": {},
     "output_type": "execute_result"
    }
   ],
   "source": [
    "df2[df2.graph_id==3].max()"
   ]
  },
  {
   "cell_type": "code",
   "execution_count": 1569,
   "id": "756d09ea-0894-458c-b0e3-41946de063aa",
   "metadata": {},
   "outputs": [],
   "source": [
    "loGraphID=26"
   ]
  },
  {
   "cell_type": "code",
   "execution_count": 1570,
   "id": "efd8e210-131f-4918-a0b6-e9310541f406",
   "metadata": {},
   "outputs": [],
   "source": [
    "loEdgeMapping=df2[df2['graph_id']==loGraphID][['source_index','dest_index']]\n",
    "loEdgeIndex=loEdgeMapping.values.transpose()"
   ]
  },
  {
   "cell_type": "code",
   "execution_count": 1571,
   "id": "52de3b0c-123d-4c9c-9de8-f4a4bf26d195",
   "metadata": {},
   "outputs": [],
   "source": [
    "from torch_geometric.data import HeteroData\n",
    "import torch \n"
   ]
  },
  {
   "cell_type": "code",
   "execution_count": 1572,
   "id": "1e16c203-4ad9-4538-b5b8-90c9cfdcf4b7",
   "metadata": {},
   "outputs": [],
   "source": [
    "import torch_geometric.transforms as T"
   ]
  },
  {
   "cell_type": "markdown",
   "id": "90676ceb-37e7-4fe3-a450-8902364626cf",
   "metadata": {},
   "source": [
    "usersGraphDataList=[]\n",
    "min_atom_count=5\n",
    "max_atom_count=500\n",
    "for user in tqdm(users): \n",
    "    try:\n",
    "        user_atom_count=df[(df.loGraphID==loGraphID) & (df.user_id==user) & (df.atom_type=='question')].shape[0]\n",
    "        if user_atom_count>min_atom_count and user_atom_count<=max_atom_count:\n",
    "            features, edges,target =user_dataset(df,df2,user,loGraphID )\n",
    "            data=generate_data(features, edges,target)\n",
    "            usersGraphDataList.append(data)\n",
    "    except:\n",
    "        pass\n",
    "    "
   ]
  },
  {
   "cell_type": "code",
   "execution_count": null,
   "id": "12eacebd-2bcf-4c93-b1c5-282dd0a8dc5d",
   "metadata": {},
   "outputs": [],
   "source": []
  },
  {
   "cell_type": "code",
   "execution_count": null,
   "id": "96c34dad-cb42-4fc0-aa5b-8efbdb271cbc",
   "metadata": {},
   "outputs": [],
   "source": []
  },
  {
   "cell_type": "code",
   "execution_count": 1573,
   "id": "ff9e1b61-f0de-490f-9534-451a778b1e5d",
   "metadata": {},
   "outputs": [],
   "source": [
    "import torch_geometric as pyg\n",
    "from torch_geometric.nn import GCNConv \n",
    "from torch_geometric.nn import SAGEConv, to_hetero ,LSTMAggregation\n",
    "import  torch.nn as nn\n",
    "import torch.nn.functional as F\n",
    "import torch \n",
    "from torch_geometric.loader import DataLoader"
   ]
  },
  {
   "cell_type": "code",
   "execution_count": 29,
   "id": "6d2ce58b-34e2-4d80-aa5b-583c2513a87e",
   "metadata": {},
   "outputs": [],
   "source": [
    "class GNN(torch.nn.Module):\n",
    "    def __init__(self, hidden_channels, out_channels):\n",
    "        super().__init__()\n",
    "        self.conv1 = SAGEConv((-1, -1), hidden_channels,requires_grad=False)\n",
    "        self.actfn1=nn.ReLU()\n",
    "        \n",
    "        self.conv2 = SAGEConv((-1, -1), hidden_channels,requires_grad=False)\n",
    "        self.actfn2=nn.ReLU()\n",
    "        \n",
    "        self.conv3 = SAGEConv((-1, -1), hidden_channels,requires_grad=False)\n",
    "        self.actfn3=nn.ReLU()\n",
    "        \n",
    "        self.linear=nn.Linear(hidden_channels,hidden_channels)\n",
    "        \n",
    "        #self.lstm = nn.LSTM(input_size=hidden_channels, hidden_size=50,num_layers=1, batch_first=True)\n",
    "        \n",
    "        self.out=nn.Linear(hidden_channels,out_channels)\n",
    "        self.sigmoid=nn.Sigmoid()\n",
    "\n",
    "    def forward(self, x, edge_index):\n",
    "        # First Message Passing layer\n",
    "        x = self.actfn1(self.conv1(x, edge_index))\n",
    "        x= F.dropout(x,p=.1,training=self.training)\n",
    "        \n",
    "        # Second Message Passing layer\n",
    "        x = self.actfn2(self.conv2(x, edge_index))\n",
    "        x= F.dropout(x,p=.1,training=self.training)\n",
    "        \n",
    "        # Third Message Passing layer  \n",
    "        #x = self.actfn3(self.conv3(x, edge_index))\n",
    "        #x= F.dropout(x,p=.25,training=self.training)\n",
    "        x = self.linear(x)\n",
    "        #x, _ = self.lstm(x)\n",
    "       \n",
    "        \n",
    "        # Out layer\n",
    "        x=self.sigmoid( self.out(x))\n",
    "        \n",
    "        return x\n",
    "\n",
    "\n",
    "#model_1 = GNN(hidden_channels=64, out_channels=2)\n",
    "#model_1 = to_hetero(model_1, data.metadata(), aggr='sum')"
   ]
  },
  {
   "cell_type": "code",
   "execution_count": 30,
   "id": "c3b2fba3-b39f-4f06-b428-257bc737a25c",
   "metadata": {},
   "outputs": [],
   "source": [
    "usersGraphDataList\n",
    "def batch_generator(usersGraphDataList):\n",
    "    \n",
    "    np.random.shuffle(usersGraphDataList)\n",
    "    test_size=int(len(usersGraphDataList)*.2)\n",
    "    test_data=usersGraphDataList[:test_size]\n",
    "    train_data=usersGraphDataList[test_size:]\n",
    "    \n",
    "    return test_data,train_data\n",
    "    "
   ]
  },
  {
   "cell_type": "markdown",
   "id": "0da1d24f-e3ee-48ef-854d-aca4d796d163",
   "metadata": {},
   "source": [
    "model_1 = GNN(hidden_channels=200, out_channels=2)\n",
    "model_1 = to_hetero(model_1, data.metadata(), aggr='mean')\n",
    "\n",
    "\n",
    "#model_2 = GAT(hidden_channels=100, out_channels=2)\n",
    "#model_2 = to_hetero(model_2, data.metadata(), aggr='mean')\n",
    "\n",
    "\n",
    "model=model_1\n",
    "#dataLoader=list(DataLoader(usersGraphDataList,batch_size=80))\n",
    "test_data,train_data=batch_generator(usersGraphDataList)\n",
    "learning_rate=0.01\n",
    "optimizer=torch.optim.Adam(model.parameters(),lr=learning_rate)\n",
    "criterion=torch.nn.CrossEntropyLoss()\n",
    "train_acc_mean_list=[]\n",
    "test_acc_mean_list=[]\n",
    "loss_list=[]\n",
    "best_score=0\n",
    "\n",
    "start_training=True\n",
    "if start_training:\n",
    "    for epcoh in range(7):\n",
    "        train_acc_list=[]\n",
    "        test_acc_list=[]\n",
    "        loss_list=[]\n",
    "        for num, data in enumerate(tqdm(train_data)):\n",
    "            model.train()\n",
    "            optimizer.zero_grad()\n",
    "            #data.x = torch.from_numpy(data.x_dict)\n",
    "            #data.edge_index = torch.from_numpy(data.edge_index_dict)\n",
    "            out=model(data.x_dict, data.edge_index_dict)  # model1\n",
    "            #out = model(data.x, data.edge_index)\n",
    "            #BCELoss -> loss=criterion(out['atom'][data['atom'].train_mask].argmax(dim=1).float().requires_grad_(True),data['atom'].y[data['atom'].train_mask].float())\n",
    "            #loss=criterion(out['atom'][data['atom'].train_mask].argmax(dim=1).float().requires_grad_(True),data['atom'].y[data['atom'].train_mask].float())\n",
    "            loss=criterion(out['atom'],data['atom'].y)\n",
    "            #loss=criterion(out['atom'].argmax(dim=1).float().requires_grad_(True),data['atom'].y.float())\n",
    "            loss.backward()\n",
    "\n",
    "            optimizer.step()\n",
    "            pred=out['atom'].argmax(dim=1)\n",
    "            train_correct=pred==data['atom'].y\n",
    "            train_acc=int(train_correct.sum())/data['atom'].y.shape[0]\n",
    "            train_acc_list.append(train_acc)\n",
    "\n",
    "\n",
    "\n",
    "        #test_acc_mean_list.append(np.mean(test_acc_list))\n",
    "            if epcoh==0 and num ==0:\n",
    "                best_score=loss\n",
    "            elif best_score<loss:\n",
    "                best_score=loss\n",
    "                best_model = model\n",
    "            loss_list.append(loss.item())\n",
    "        model.eval()\n",
    "        model_performance='epoch : {} , loss :{:.4f} , accuracy : {:.4f} \\n'.format(epcoh+1,np.mean(loss_list),np.mean(train_acc_list))\n",
    "        ic(model_performance);\n",
    "\n"
   ]
  },
  {
   "cell_type": "raw",
   "id": "b4279fa0-67d5-4a71-8397-6d7411b793dd",
   "metadata": {},
   "source": [
    "test_score=[]\n",
    "target=[]\n",
    "pred_prob=[]\n",
    "for num, data in enumerate(test_data):\n",
    "    try:\n",
    "        out=model(data.x_dict, data.edge_index_dict)\n",
    "        pred=out['atom'].argmax(dim=1)\n",
    "        test_correct=pred[data['atom'].test_mask]==data['atom'].y[data['atom'].test_mask]\n",
    "        test_acc=int(test_correct.sum())/int(data['atom'].test_mask.sum())\n",
    "        print('Test case : {} , nodes : {} , accuracy : {:.4f} '.format(num+1,data['atom'].x.shape[0],test_acc))\n",
    "        target.append(data['atom'].y[data['atom'].test_mask].item())\n",
    "        pred_prob.append(out['atom'][data['atom'].test_mask].detach()[0].tolist()[1])\n",
    "        test_score.append(test_acc)\n",
    "    except:\n",
    "        pass\n",
    "print('Mean accuracy : {} , AUC : {}'.format(np.mean(test_score),roc_auc_score(np.array(target),pred_prob)))"
   ]
  },
  {
   "cell_type": "code",
   "execution_count": 31,
   "id": "4429acca-d9cc-4c6e-b5fd-e768bf551bb1",
   "metadata": {},
   "outputs": [
    {
     "data": {
      "text/plain": [
       "Index(['graph_id', 'user_id', 'goal_id', 'interaction_end_time',\n",
       "       'learning_objective_name', 'atom_id', 'correct',\n",
       "       'time_spent_answering_s', 'time_spent_on_instruction_s',\n",
       "       'goal_progress', 'target_status_and_progress', 'prev_concept_narrative',\n",
       "       'duration_s', 'is_target', 'loGraphID', 'difficulty', 'atom_type',\n",
       "       'correctBinary', 'loIndex'],\n",
       "      dtype='object')"
      ]
     },
     "execution_count": 31,
     "metadata": {},
     "output_type": "execute_result"
    }
   ],
   "source": [
    "#user_dataset(df,df2,'0012ff2b-871a-45d6-8e33-804f7464fa0a',3 )\n",
    "df.columns"
   ]
  },
  {
   "cell_type": "code",
   "execution_count": 32,
   "id": "de0bcc85-91bb-4241-8f0c-a439e98e3edb",
   "metadata": {},
   "outputs": [],
   "source": [
    "dft=df[(df.loGraphID==loGraphID)]"
   ]
  },
  {
   "cell_type": "code",
   "execution_count": 33,
   "id": "3ae39f4f-c0de-4b9b-8f43-6cd43f883cb6",
   "metadata": {
    "tags": []
   },
   "outputs": [],
   "source": [
    "#dft.groupby('user_id')['atom_id'].count()"
   ]
  },
  {
   "cell_type": "code",
   "execution_count": 693,
   "id": "b5e28d04-f40e-4767-ae37-4868303047f5",
   "metadata": {},
   "outputs": [
    {
     "data": {
      "text/plain": [
       "['4fb849d4-3798-4524-a93a-fe7b56cfb90a',\n",
       " 'b660a384-1ca7-4cd8-9811-e2d3aedc378c',\n",
       " 'e1000e42-ffd1-4782-9f14-aa75ce6a8b0e',\n",
       " '37907049-c931-4ce8-82a8-94b6cd2c1dbd',\n",
       " 'f7086166-753c-4867-af57-0e2b82fe3cbf',\n",
       " 'e4ac6b18-5423-4886-b7ee-a8fd2c54ca9f',\n",
       " '9c40062e-0719-4f9b-9d6a-bca4d37a2ce5',\n",
       " 'e3bce254-2394-46f3-9053-8437e5b810a4',\n",
       " '3eb9212c-523a-49fb-a670-3a51ae1ff87e',\n",
       " '1014fea4-cd45-4b59-b903-4c59a4360fcb',\n",
       " 'bbc510e7-6659-4092-bde3-96d10fa0e7e0',\n",
       " '92a51cf7-0396-4751-8ac0-7e2ec2b4f02f',\n",
       " '7e0f991c-23b3-49bb-bcc5-38c26263bf4b',\n",
       " 'efb10a25-84d0-4e96-bd3d-762b24f1b0a1',\n",
       " 'ab380c7a-306e-4f3e-adf6-425bf2833a84',\n",
       " 'ef963abb-beda-4105-b142-72b6d0ca8b6f',\n",
       " 'c7e39c9c-39dc-42bd-a4ee-c622edecf3c9',\n",
       " '8259fae9-a618-46b6-a95a-380a41812f7b',\n",
       " '81f01061-9f19-4a2e-90b2-04c95bae81f2',\n",
       " '1c991ad0-89aa-4aa9-94b9-fea443b609bc',\n",
       " 'eb073db0-f433-4711-bb9f-c2941aca5273',\n",
       " 'ba36b8f6-e67d-4931-8149-2a2a5b78c101',\n",
       " '822068ff-5469-4321-b03c-b616645a4bb1',\n",
       " '905c2238-1c04-4c4a-b782-bccb21f5f967',\n",
       " 'dd102d86-6cb2-4684-bf5b-e0673381562d',\n",
       " 'd744d19c-13fd-488a-a7dc-fca89ea3614a',\n",
       " '7e574580-9081-4266-b59c-089ffc570e8e',\n",
       " '8e65ec8f-18eb-4546-85f2-5698aea5e4f1',\n",
       " 'f5cb8dea-0744-4f4a-ba73-405e51b89a45',\n",
       " 'a6bf16b1-45e7-4c2f-b823-e0edb7503a38']"
      ]
     },
     "execution_count": 693,
     "metadata": {},
     "output_type": "execute_result"
    }
   ],
   "source": [
    "dft.groupby('user_id')['atom_id'].count().sort_values()[20:50].index.to_list()"
   ]
  },
  {
   "cell_type": "code",
   "execution_count": 1414,
   "id": "6b6069cc-a133-436a-9a8c-7caa893e2e9a",
   "metadata": {},
   "outputs": [],
   "source": [
    "user_t=dft.groupby('user_id')['atom_id'].count().sort_values()[20:120].index.to_list()"
   ]
  },
  {
   "cell_type": "code",
   "execution_count": 1415,
   "id": "86ade587-eb2f-4a1e-90f4-92f720e3fe06",
   "metadata": {},
   "outputs": [],
   "source": [
    "df_tu=dft[dft.user_id.isin(user_t)].sort_values(['user_id','interaction_end_time']).reset_index(drop=True)"
   ]
  },
  {
   "cell_type": "code",
   "execution_count": 1416,
   "id": "0dcbbe89-ab03-4f23-b471-889bfc2333d6",
   "metadata": {},
   "outputs": [],
   "source": [
    "df_tu_list=[]\n",
    "question_count=0\n",
    "for row_id,row in df_tu.iterrows():\n",
    "    if row_id==0:\n",
    "        user_id=row['user_id']\n",
    "    if row_id>0:\n",
    "        if user_id != row['user_id']:\n",
    "            question_count=0\n",
    "            user_id=row['user_id']\n",
    "    if row['atom_type'] =='question':\n",
    "        question_count =question_count+1\n",
    "        if question_count>2:\n",
    "            df_tu_list.append(df_tu.iloc[:row_id+1])"
   ]
  },
  {
   "cell_type": "code",
   "execution_count": null,
   "id": "8b8b1a15-df4e-457a-a920-5b10b2f1c8b0",
   "metadata": {},
   "outputs": [],
   "source": []
  },
  {
   "cell_type": "code",
   "execution_count": 1417,
   "id": "3a9ef5b1-954f-497b-aea4-80f73f886f0f",
   "metadata": {},
   "outputs": [
    {
     "data": {
      "text/plain": [
       "4952"
      ]
     },
     "execution_count": 1417,
     "metadata": {},
     "output_type": "execute_result"
    }
   ],
   "source": [
    "len(df_tu_list)"
   ]
  },
  {
   "cell_type": "code",
   "execution_count": 1542,
   "id": "05a5d70e-3fa7-4133-b1f7-b7f28ab2ca62",
   "metadata": {},
   "outputs": [
    {
     "data": {
      "text/plain": [
       "Index(['graph_id', 'user_id', 'goal_id', 'interaction_end_time',\n",
       "       'learning_objective_name', 'atom_id', 'correct',\n",
       "       'time_spent_answering_s', 'time_spent_on_instruction_s',\n",
       "       'goal_progress', 'target_status_and_progress', 'prev_concept_narrative',\n",
       "       'duration_s', 'is_target', 'loGraphID', 'difficulty', 'atom_type',\n",
       "       'correctBinary', 'loIndex'],\n",
       "      dtype='object')"
      ]
     },
     "execution_count": 1542,
     "metadata": {},
     "output_type": "execute_result"
    }
   ],
   "source": [
    "df.columns"
   ]
  },
  {
   "cell_type": "code",
   "execution_count": 1586,
   "id": "afe4452c-16b3-4644-b09f-18854d7c7733",
   "metadata": {},
   "outputs": [],
   "source": [
    "def user_dataset_with_target_node(userDf,df2,user,goal,loEdgeIndex):\n",
    "    \n",
    "    '''\n",
    "    df - df should be filtered by goal id\n",
    "    \n",
    "    edges\n",
    "    -------\n",
    "    lo -> atom\n",
    "    atom -> atom\n",
    "    lo -> learning materials (lm)\n",
    "    atom -> lm\n",
    "    lm -> atom\n",
    "    lm -> lm\n",
    "    lm/atom -> target\n",
    "    \n",
    "    node / features\n",
    "    ---------------\n",
    "    \n",
    "    lo - radnom number\n",
    "    atom - dificulty ,  correctness\n",
    "    lm - time spend \n",
    "    '''\n",
    "    userDf.loc[userDf.shape[0]-1,'atom_type']='target'\n",
    "    \n",
    "    atomIndex=np.arange(userDf[userDf.atom_type=='question'].atom_id.shape[0])\n",
    "    lmIndex=np.arange(userDf[userDf.atom_type=='learningMaterial'].atom_id.shape[0])\n",
    "    \n",
    "    # assisgning questions and learningMaterials index seperatly in sinlge columns 'atom_index'\n",
    "    userDf.loc[userDf.atom_type=='question','atomIndex']=atomIndex\n",
    "    userDf.loc[userDf.atom_type=='learningMaterial','atomIndex']=lmIndex\n",
    "    userDf.loc[userDf.atom_type=='target','atomIndex']=0\n",
    "    \n",
    "    #lo-atom\n",
    "    loAtomEdgeIndex=userDf[userDf.atom_type=='question'][['loIndex','atomIndex']].values.transpose()\n",
    "    #lo-lm\n",
    "    loLmEdgeIndex=userDf[userDf.atom_type=='learningMaterial'][['loIndex','atomIndex']].values.transpose()\n",
    "    #lo-target\n",
    "    loTargetEdgeIndex=userDf[userDf.atom_type=='target'][['loIndex','atomIndex']].values.transpose()\n",
    "    \n",
    "    userDf['atom_type_shift']=userDf.atom_type.shift(-1)\n",
    "    userDf['atomIndex_shift']=userDf.atomIndex.shift(-1)\n",
    "    \n",
    "    featuresDict={}\n",
    "    #atom features\n",
    "    atomFeatures = userDf[userDf.atom_type=='question'][['difficulty','avg_time_spent_answering_s','avg_time_spent_on_instruction_s']].astype(float).to_numpy()\n",
    "    featuresDict['atom']=atomFeatures\n",
    "    #learning materials features\n",
    "    #lmFeatures = userDf[userDf.atom_type=='learningMaterial'][['duration_s']].to_numpy()\n",
    "    \n",
    "    if  lmIndex.size>0 :\n",
    "            lmFeatures = userDf[userDf.atom_type=='learningMaterial'][['duration_s']].to_numpy()\n",
    "            featuresDict['lm']=lmFeatures\n",
    "            \n",
    "    #learning objectives\n",
    "    loFeatures=np.ones(loEdgeIndex.max()+1).reshape(-1,1)\n",
    "    featuresDict['lo']=loFeatures\n",
    "    \n",
    "    #target features\n",
    "    targetFeatures = userDf[userDf.atom_type=='target'][['difficulty']].to_numpy()\n",
    "    featuresDict['target']=targetFeatures\n",
    "    targetCorrectness=userDf[userDf.atom_type=='target'][['correctBinary']].astype(float).to_numpy()\n",
    "    \n",
    "    userDf_shift= userDf[~userDf.atomIndex_shift.isna()].copy() \n",
    "\n",
    "    edgesDict={}\n",
    "    #atom-atom\n",
    "    atomEdgeIndex=userDf_shift[(userDf_shift.atom_type=='question') & (userDf_shift.atom_type_shift=='question')][['atomIndex','atomIndex_shift']].values.transpose()\n",
    "    if atomEdgeIndex.size >0:\n",
    "        edgesDict['atom']=atomEdgeIndex\n",
    "    #atom-lmatomLmEdgeIndex\n",
    "    atomLmEdgeIndex=userDf_shift[(userDf_shift.atom_type=='question') & (userDf_shift.atom_type_shift=='learningMaterial')][['atomIndex','atomIndex_shift']].values.transpose()\n",
    "    if atomLmEdgeIndex.size>0:\n",
    "        edgesDict['atom_lm']=atomLmEdgeIndex\n",
    "    #lm-atom\n",
    "    LmAtomEdgeIndex=userDf_shift[(userDf_shift.atom_type=='learningMaterial') & (userDf_shift.atom_type_shift=='question')][['atomIndex','atomIndex_shift']].values.transpose()\n",
    "    if LmAtomEdgeIndex.size>0:\n",
    "        edgesDict['lm_atom']=LmAtomEdgeIndex\n",
    "    #lm-lm\n",
    "    LmLmEdgeIndex=userDf_shift[(userDf_shift.atom_type=='learningMaterial') & (userDf_shift.atom_type_shift=='learningMaterial')][['atomIndex','atomIndex_shift']].values.transpose()\n",
    "    if LmLmEdgeIndex.size>0:\n",
    "        edgesDict['lm_lm']=LmLmEdgeIndex\n",
    "    \n",
    "    #lm-target\n",
    "    LmTargetEdgeIndex=userDf_shift[(userDf_shift.atom_type=='learningMaterial') & (userDf_shift.atom_type_shift=='target')][['atomIndex','atomIndex_shift']].values.transpose()\n",
    "    if LmTargetEdgeIndex.size>0:\n",
    "        edgesDict['lm_target']=LmTargetEdgeIndex\n",
    "    \n",
    "    #atom-target\n",
    "    atomTargetEdgeIndex=userDf_shift[(userDf_shift.atom_type=='question') & (userDf_shift.atom_type_shift=='target')][['atomIndex','atomIndex_shift']].values.transpose()\n",
    "    \n",
    "    edgesDict['atom_target']=atomTargetEdgeIndex\n",
    "\n",
    "    if  loLmEdgeIndex.size>0:\n",
    "        edgesDict['lo_lm']=loLmEdgeIndex\n",
    "\n",
    "    if  loAtomEdgeIndex.size>0:\n",
    "        edgesDict['lo_atom']=loAtomEdgeIndex\n",
    "    \n",
    "    edgesDict['lo_target']=loTargetEdgeIndex\n",
    "    edgesDict['lo']=loEdgeIndex\n",
    "    return featuresDict,edgesDict,targetCorrectness,userDf"
   ]
  },
  {
   "cell_type": "code",
   "execution_count": null,
   "id": "1582e6d7-6002-46f2-b5ab-43195534ba24",
   "metadata": {},
   "outputs": [],
   "source": []
  },
  {
   "cell_type": "code",
   "execution_count": 1587,
   "id": "85a58937-ed00-4d2d-a0fc-9e754d5e26f3",
   "metadata": {},
   "outputs": [],
   "source": [
    "def generate_data_with_target(features,edges,targetCorrectness):  \n",
    "    data = HeteroData()\n",
    "    #node features\n",
    "    data['atom'].x=torch.tensor(features['atom'].astype(np.float64)).float()\n",
    "    data['lo'].x= torch.tensor(features['lo']).float()\n",
    "    data['target'].x= torch.tensor(features['target']).float()\n",
    "    \n",
    "    #edge index\n",
    "    data['lo','lo_atom','atom'].edge_index=torch.from_numpy(edges['lo_atom']).long()\n",
    "    data['lo','lo_lo','lo'].edge_index= torch.from_numpy(edges['lo']).long()\n",
    "    data['lo','lo_target','target'].edge_index=torch.from_numpy(edges['lo_target']).long()\n",
    "    #data['atom','atom_atom','atom'].edge_index=torch.from_numpy(edges['atom']).long()\n",
    "    #data['atom','atom_target','target'].edge_index=torch.from_numpy(edges['atom_target']).long()\n",
    "    \n",
    "    \n",
    "    \n",
    "    #lm edges and features\n",
    "    #if 'lm' in features:\n",
    "        #data['lm'].x= torch.tensor(features['lm']).float()\n",
    "        #data['lo','lo_lm','lm'].edge_index=torch.from_numpy(edges['lo_lm']).long()\n",
    "        \n",
    "    #if 'lm_lm' in features:    \n",
    "        #data['lm','lm_lm','lm'].edge_index=torch.from_numpy(edges['lm_lm']).long()\n",
    "    \n",
    "    #if 'atom_lm' in features:\n",
    "        #data['atom','atom_lm','lm'].edge_index=torch.from_numpy(edges['atom_lm']).long()\n",
    "    \n",
    "    #if 'lm_atom' in features:\n",
    "        #data['lm','atom_lm','atom'].edge_index=torch.from_numpy(edges['lm_atom']).long()\n",
    "    \n",
    "    data['target'].y=torch.from_numpy(targetCorrectness).long()\n",
    "\n",
    "    #train_mask = torch.ones(attom_count, dtype=torch.bool)\n",
    "    #train_mask[target_atom] = False\n",
    "    #data['atom'].train_mask = train_mask\n",
    "\n",
    "    #normalize=T.NormalizeFeatures()\n",
    "    #data=normalize(data)\n",
    "    return data"
   ]
  },
  {
   "cell_type": "code",
   "execution_count": 1588,
   "id": "f1b9f1a2-f160-40a5-8d46-ce80797a1942",
   "metadata": {},
   "outputs": [],
   "source": [
    "def preprocess(df,df2,user,goal):\n",
    "        loEdgeMapping=df2[df2['graph_id']==goal][['source_index','dest_index']]\n",
    "        loEdgeIndex=loEdgeMapping.values.transpose()\n",
    "      \n",
    "        featuresDict,edgesDict,targetCorrectness,userDf=user_dataset_with_target_node(df,df2,user,goal,loEdgeIndex)\n",
    "        \n",
    "        return featuresDict,edgesDict,targetCorrectness,userDf\n",
    "    \n",
    "            "
   ]
  },
  {
   "cell_type": "code",
   "execution_count": null,
   "id": "42854daf-951d-4ef7-9a98-6a9b002fb440",
   "metadata": {},
   "outputs": [],
   "source": []
  },
  {
   "cell_type": "code",
   "execution_count": null,
   "id": "9990207c-39ad-4c90-b356-ffd83a60a8e5",
   "metadata": {},
   "outputs": [],
   "source": []
  },
  {
   "cell_type": "code",
   "execution_count": null,
   "id": "83240593-7e9e-4cfd-ad23-377b5b74abe8",
   "metadata": {},
   "outputs": [],
   "source": []
  },
  {
   "cell_type": "code",
   "execution_count": 1589,
   "id": "db75b252-46cc-47ec-be5b-c4ed1310f2af",
   "metadata": {},
   "outputs": [],
   "source": [
    "def data_batch_generator(df_tu_list):\n",
    "    data_list=[]\n",
    "    for i in tqdm(range(len(df_tu_list))):\n",
    "        featuresDict,edgesDict,targetCorrectness,userDf=preprocess(df_tu_list[i].copy(),df2,user_t,loGraphID) \n",
    "        data=generate_data_with_target(featuresDict,edgesDict,targetCorrectness)\n",
    "        data_list.append(data)\n",
    "    return data_list"
   ]
  },
  {
   "cell_type": "code",
   "execution_count": 1590,
   "id": "c2364811-e6d3-4cc7-9aba-7d412b1d7ca9",
   "metadata": {},
   "outputs": [],
   "source": [
    "loGraphID=3"
   ]
  },
  {
   "cell_type": "code",
   "execution_count": 1591,
   "id": "58105f28-9372-43d2-a947-b1c22c30f384",
   "metadata": {},
   "outputs": [],
   "source": [
    "dft=df[(df.loGraphID==loGraphID)]"
   ]
  },
  {
   "cell_type": "code",
   "execution_count": 1592,
   "id": "2ec59226-9550-4948-891f-9a2ca17ef7e2",
   "metadata": {
    "tags": []
   },
   "outputs": [
    {
     "data": {
      "text/plain": [
       "user_id\n",
       "e4ac6b18-5423-4886-b7ee-a8fd2c54ca9f    23\n",
       "9c40062e-0719-4f9b-9d6a-bca4d37a2ce5    23\n",
       "e3bce254-2394-46f3-9053-8437e5b810a4    24\n",
       "3eb9212c-523a-49fb-a670-3a51ae1ff87e    25\n",
       "1014fea4-cd45-4b59-b903-4c59a4360fcb    26\n",
       "bbc510e7-6659-4092-bde3-96d10fa0e7e0    26\n",
       "92a51cf7-0396-4751-8ac0-7e2ec2b4f02f    27\n",
       "7e0f991c-23b3-49bb-bcc5-38c26263bf4b    27\n",
       "efb10a25-84d0-4e96-bd3d-762b24f1b0a1    28\n",
       "ab380c7a-306e-4f3e-adf6-425bf2833a84    29\n",
       "ef963abb-beda-4105-b142-72b6d0ca8b6f    29\n",
       "c7e39c9c-39dc-42bd-a4ee-c622edecf3c9    32\n",
       "8259fae9-a618-46b6-a95a-380a41812f7b    34\n",
       "81f01061-9f19-4a2e-90b2-04c95bae81f2    34\n",
       "1c991ad0-89aa-4aa9-94b9-fea443b609bc    35\n",
       "Name: atom_id, dtype: int64"
      ]
     },
     "execution_count": 1592,
     "metadata": {},
     "output_type": "execute_result"
    }
   ],
   "source": [
    "dft.groupby('user_id')['atom_id'].count().sort_values()[25:40]#.index.to_list()"
   ]
  },
  {
   "cell_type": "code",
   "execution_count": 1593,
   "id": "d11cf688-abaa-4d8a-8521-fa92c0ce7347",
   "metadata": {},
   "outputs": [],
   "source": [
    "user_t=dft.groupby('user_id')['atom_id'].count().sort_values()[25:100].index.to_list()"
   ]
  },
  {
   "cell_type": "code",
   "execution_count": 1594,
   "id": "3d8487e6-a9d8-4b59-9129-b580708cb37d",
   "metadata": {},
   "outputs": [
    {
     "data": {
      "text/plain": [
       "user_id\n",
       "e4ac6b18-5423-4886-b7ee-a8fd2c54ca9f    23\n",
       "9c40062e-0719-4f9b-9d6a-bca4d37a2ce5    23\n",
       "e3bce254-2394-46f3-9053-8437e5b810a4    24\n",
       "3eb9212c-523a-49fb-a670-3a51ae1ff87e    25\n",
       "1014fea4-cd45-4b59-b903-4c59a4360fcb    26\n",
       "bbc510e7-6659-4092-bde3-96d10fa0e7e0    26\n",
       "92a51cf7-0396-4751-8ac0-7e2ec2b4f02f    27\n",
       "7e0f991c-23b3-49bb-bcc5-38c26263bf4b    27\n",
       "efb10a25-84d0-4e96-bd3d-762b24f1b0a1    28\n",
       "ab380c7a-306e-4f3e-adf6-425bf2833a84    29\n",
       "ef963abb-beda-4105-b142-72b6d0ca8b6f    29\n",
       "c7e39c9c-39dc-42bd-a4ee-c622edecf3c9    32\n",
       "8259fae9-a618-46b6-a95a-380a41812f7b    34\n",
       "81f01061-9f19-4a2e-90b2-04c95bae81f2    34\n",
       "1c991ad0-89aa-4aa9-94b9-fea443b609bc    35\n",
       "eb073db0-f433-4711-bb9f-c2941aca5273    36\n",
       "ba36b8f6-e67d-4931-8149-2a2a5b78c101    36\n",
       "822068ff-5469-4321-b03c-b616645a4bb1    36\n",
       "905c2238-1c04-4c4a-b782-bccb21f5f967    37\n",
       "dd102d86-6cb2-4684-bf5b-e0673381562d    38\n",
       "d744d19c-13fd-488a-a7dc-fca89ea3614a    38\n",
       "7e574580-9081-4266-b59c-089ffc570e8e    39\n",
       "8e65ec8f-18eb-4546-85f2-5698aea5e4f1    39\n",
       "f5cb8dea-0744-4f4a-ba73-405e51b89a45    42\n",
       "a6bf16b1-45e7-4c2f-b823-e0edb7503a38    43\n",
       "Name: atom_id, dtype: int64"
      ]
     },
     "execution_count": 1594,
     "metadata": {},
     "output_type": "execute_result"
    }
   ],
   "source": [
    "dft.groupby('user_id')['atom_id'].count().sort_values()[25:50]"
   ]
  },
  {
   "cell_type": "code",
   "execution_count": 1595,
   "id": "86dd589b-004c-4691-a1f5-ef95eced4277",
   "metadata": {},
   "outputs": [],
   "source": [
    "df_tu=dft[dft.user_id.isin(user_t)].sort_values('interaction_end_time').reset_index(drop=True)"
   ]
  },
  {
   "cell_type": "code",
   "execution_count": 1596,
   "id": "e1338f2f-6963-4770-8a94-5be9d18972fb",
   "metadata": {},
   "outputs": [],
   "source": [
    "df_tu_list=[]\n",
    "question_count=0\n",
    "for row_id,row in df_tu.iterrows():\n",
    "    if row_id==0:\n",
    "        user_id=row['user_id']\n",
    "    if row_id>0:\n",
    "        if user_id != row['user_id']:\n",
    "            question_count=0\n",
    "            user_id=row['user_id']\n",
    "    if row['atom_type'] =='question':\n",
    "        question_count =question_count+1\n",
    "        if question_count>2:\n",
    "            df_tu_list.append(df_tu.iloc[:row_id+1])"
   ]
  },
  {
   "cell_type": "code",
   "execution_count": 1597,
   "id": "a2938f15-2b95-473b-a8a3-fdeb24f3e7ef",
   "metadata": {},
   "outputs": [
    {
     "name": "stderr",
     "output_type": "stream",
     "text": [
      "  0%|                                                                                         | 0/2772 [00:00<?, ?it/s]\n"
     ]
    },
    {
     "ename": "KeyError",
     "evalue": "\"None of [Index(['correctBinary'], dtype='object')] are in the [columns]\"",
     "output_type": "error",
     "traceback": [
      "\u001b[1;31m---------------------------------------------------------------------------\u001b[0m",
      "\u001b[1;31mKeyError\u001b[0m                                  Traceback (most recent call last)",
      "Cell \u001b[1;32mIn[1597], line 1\u001b[0m\n\u001b[1;32m----> 1\u001b[0m data_list\u001b[38;5;241m=\u001b[39m\u001b[43mdata_batch_generator\u001b[49m\u001b[43m(\u001b[49m\u001b[43mdf_tu_list\u001b[49m\u001b[43m)\u001b[49m\n",
      "Cell \u001b[1;32mIn[1589], line 4\u001b[0m, in \u001b[0;36mdata_batch_generator\u001b[1;34m(df_tu_list)\u001b[0m\n\u001b[0;32m      2\u001b[0m data_list\u001b[38;5;241m=\u001b[39m[]\n\u001b[0;32m      3\u001b[0m \u001b[38;5;28;01mfor\u001b[39;00m i \u001b[38;5;129;01min\u001b[39;00m tqdm(\u001b[38;5;28mrange\u001b[39m(\u001b[38;5;28mlen\u001b[39m(df_tu_list))):\n\u001b[1;32m----> 4\u001b[0m     featuresDict,edgesDict,targetCorrectness,userDf\u001b[38;5;241m=\u001b[39m\u001b[43mpreprocess\u001b[49m\u001b[43m(\u001b[49m\u001b[43mdf_tu_list\u001b[49m\u001b[43m[\u001b[49m\u001b[43mi\u001b[49m\u001b[43m]\u001b[49m\u001b[38;5;241;43m.\u001b[39;49m\u001b[43mcopy\u001b[49m\u001b[43m(\u001b[49m\u001b[43m)\u001b[49m\u001b[43m,\u001b[49m\u001b[43mdf2\u001b[49m\u001b[43m,\u001b[49m\u001b[43muser_t\u001b[49m\u001b[43m,\u001b[49m\u001b[43mloGraphID\u001b[49m\u001b[43m)\u001b[49m \n\u001b[0;32m      5\u001b[0m     data\u001b[38;5;241m=\u001b[39mgenerate_data_with_target(featuresDict,edgesDict,targetCorrectness)\n\u001b[0;32m      6\u001b[0m     data_list\u001b[38;5;241m.\u001b[39mappend(data)\n",
      "Cell \u001b[1;32mIn[1588], line 5\u001b[0m, in \u001b[0;36mpreprocess\u001b[1;34m(df, df2, user, goal)\u001b[0m\n\u001b[0;32m      2\u001b[0m loEdgeMapping\u001b[38;5;241m=\u001b[39mdf2[df2[\u001b[38;5;124m'\u001b[39m\u001b[38;5;124mgraph_id\u001b[39m\u001b[38;5;124m'\u001b[39m]\u001b[38;5;241m==\u001b[39mgoal][[\u001b[38;5;124m'\u001b[39m\u001b[38;5;124msource_index\u001b[39m\u001b[38;5;124m'\u001b[39m,\u001b[38;5;124m'\u001b[39m\u001b[38;5;124mdest_index\u001b[39m\u001b[38;5;124m'\u001b[39m]]\n\u001b[0;32m      3\u001b[0m loEdgeIndex\u001b[38;5;241m=\u001b[39mloEdgeMapping\u001b[38;5;241m.\u001b[39mvalues\u001b[38;5;241m.\u001b[39mtranspose()\n\u001b[1;32m----> 5\u001b[0m featuresDict,edgesDict,targetCorrectness,userDf\u001b[38;5;241m=\u001b[39m\u001b[43muser_dataset_with_target_node\u001b[49m\u001b[43m(\u001b[49m\u001b[43mdf\u001b[49m\u001b[43m,\u001b[49m\u001b[43mdf2\u001b[49m\u001b[43m,\u001b[49m\u001b[43muser\u001b[49m\u001b[43m,\u001b[49m\u001b[43mgoal\u001b[49m\u001b[43m,\u001b[49m\u001b[43mloEdgeIndex\u001b[49m\u001b[43m)\u001b[49m\n\u001b[0;32m      7\u001b[0m \u001b[38;5;28;01mreturn\u001b[39;00m featuresDict,edgesDict,targetCorrectness,userDf\n",
      "Cell \u001b[1;32mIn[1586], line 61\u001b[0m, in \u001b[0;36muser_dataset_with_target_node\u001b[1;34m(userDf, df2, user, goal, loEdgeIndex)\u001b[0m\n\u001b[0;32m     59\u001b[0m targetFeatures \u001b[38;5;241m=\u001b[39m userDf[userDf\u001b[38;5;241m.\u001b[39matom_type\u001b[38;5;241m==\u001b[39m\u001b[38;5;124m'\u001b[39m\u001b[38;5;124mtarget\u001b[39m\u001b[38;5;124m'\u001b[39m][[\u001b[38;5;124m'\u001b[39m\u001b[38;5;124mdifficulty\u001b[39m\u001b[38;5;124m'\u001b[39m]]\u001b[38;5;241m.\u001b[39mto_numpy()\n\u001b[0;32m     60\u001b[0m featuresDict[\u001b[38;5;124m'\u001b[39m\u001b[38;5;124mtarget\u001b[39m\u001b[38;5;124m'\u001b[39m]\u001b[38;5;241m=\u001b[39mtargetFeatures\n\u001b[1;32m---> 61\u001b[0m targetCorrectness\u001b[38;5;241m=\u001b[39m\u001b[43muserDf\u001b[49m\u001b[43m[\u001b[49m\u001b[43muserDf\u001b[49m\u001b[38;5;241;43m.\u001b[39;49m\u001b[43matom_type\u001b[49m\u001b[38;5;241;43m==\u001b[39;49m\u001b[38;5;124;43m'\u001b[39;49m\u001b[38;5;124;43mtarget\u001b[39;49m\u001b[38;5;124;43m'\u001b[39;49m\u001b[43m]\u001b[49m\u001b[43m[\u001b[49m\u001b[43m[\u001b[49m\u001b[38;5;124;43m'\u001b[39;49m\u001b[38;5;124;43mcorrectBinary\u001b[39;49m\u001b[38;5;124;43m'\u001b[39;49m\u001b[43m]\u001b[49m\u001b[43m]\u001b[49m\u001b[38;5;241m.\u001b[39mastype(\u001b[38;5;28mfloat\u001b[39m)\u001b[38;5;241m.\u001b[39mto_numpy()\n\u001b[0;32m     63\u001b[0m userDf_shift\u001b[38;5;241m=\u001b[39m userDf[\u001b[38;5;241m~\u001b[39muserDf\u001b[38;5;241m.\u001b[39matomIndex_shift\u001b[38;5;241m.\u001b[39misna()]\u001b[38;5;241m.\u001b[39mcopy() \n\u001b[0;32m     65\u001b[0m edgesDict\u001b[38;5;241m=\u001b[39m{}\n",
      "File \u001b[1;32m~\\Anaconda3\\lib\\site-packages\\pandas\\core\\frame.py:3511\u001b[0m, in \u001b[0;36mDataFrame.__getitem__\u001b[1;34m(self, key)\u001b[0m\n\u001b[0;32m   3509\u001b[0m     \u001b[38;5;28;01mif\u001b[39;00m is_iterator(key):\n\u001b[0;32m   3510\u001b[0m         key \u001b[38;5;241m=\u001b[39m \u001b[38;5;28mlist\u001b[39m(key)\n\u001b[1;32m-> 3511\u001b[0m     indexer \u001b[38;5;241m=\u001b[39m \u001b[38;5;28;43mself\u001b[39;49m\u001b[38;5;241;43m.\u001b[39;49m\u001b[43mcolumns\u001b[49m\u001b[38;5;241;43m.\u001b[39;49m\u001b[43m_get_indexer_strict\u001b[49m\u001b[43m(\u001b[49m\u001b[43mkey\u001b[49m\u001b[43m,\u001b[49m\u001b[43m \u001b[49m\u001b[38;5;124;43m\"\u001b[39;49m\u001b[38;5;124;43mcolumns\u001b[39;49m\u001b[38;5;124;43m\"\u001b[39;49m\u001b[43m)\u001b[49m[\u001b[38;5;241m1\u001b[39m]\n\u001b[0;32m   3513\u001b[0m \u001b[38;5;66;03m# take() does not accept boolean indexers\u001b[39;00m\n\u001b[0;32m   3514\u001b[0m \u001b[38;5;28;01mif\u001b[39;00m \u001b[38;5;28mgetattr\u001b[39m(indexer, \u001b[38;5;124m\"\u001b[39m\u001b[38;5;124mdtype\u001b[39m\u001b[38;5;124m\"\u001b[39m, \u001b[38;5;28;01mNone\u001b[39;00m) \u001b[38;5;241m==\u001b[39m \u001b[38;5;28mbool\u001b[39m:\n",
      "File \u001b[1;32m~\\Anaconda3\\lib\\site-packages\\pandas\\core\\indexes\\base.py:5782\u001b[0m, in \u001b[0;36mIndex._get_indexer_strict\u001b[1;34m(self, key, axis_name)\u001b[0m\n\u001b[0;32m   5779\u001b[0m \u001b[38;5;28;01melse\u001b[39;00m:\n\u001b[0;32m   5780\u001b[0m     keyarr, indexer, new_indexer \u001b[38;5;241m=\u001b[39m \u001b[38;5;28mself\u001b[39m\u001b[38;5;241m.\u001b[39m_reindex_non_unique(keyarr)\n\u001b[1;32m-> 5782\u001b[0m \u001b[38;5;28;43mself\u001b[39;49m\u001b[38;5;241;43m.\u001b[39;49m\u001b[43m_raise_if_missing\u001b[49m\u001b[43m(\u001b[49m\u001b[43mkeyarr\u001b[49m\u001b[43m,\u001b[49m\u001b[43m \u001b[49m\u001b[43mindexer\u001b[49m\u001b[43m,\u001b[49m\u001b[43m \u001b[49m\u001b[43maxis_name\u001b[49m\u001b[43m)\u001b[49m\n\u001b[0;32m   5784\u001b[0m keyarr \u001b[38;5;241m=\u001b[39m \u001b[38;5;28mself\u001b[39m\u001b[38;5;241m.\u001b[39mtake(indexer)\n\u001b[0;32m   5785\u001b[0m \u001b[38;5;28;01mif\u001b[39;00m \u001b[38;5;28misinstance\u001b[39m(key, Index):\n\u001b[0;32m   5786\u001b[0m     \u001b[38;5;66;03m# GH 42790 - Preserve name from an Index\u001b[39;00m\n",
      "File \u001b[1;32m~\\Anaconda3\\lib\\site-packages\\pandas\\core\\indexes\\base.py:5842\u001b[0m, in \u001b[0;36mIndex._raise_if_missing\u001b[1;34m(self, key, indexer, axis_name)\u001b[0m\n\u001b[0;32m   5840\u001b[0m     \u001b[38;5;28;01mif\u001b[39;00m use_interval_msg:\n\u001b[0;32m   5841\u001b[0m         key \u001b[38;5;241m=\u001b[39m \u001b[38;5;28mlist\u001b[39m(key)\n\u001b[1;32m-> 5842\u001b[0m     \u001b[38;5;28;01mraise\u001b[39;00m \u001b[38;5;167;01mKeyError\u001b[39;00m(\u001b[38;5;124mf\u001b[39m\u001b[38;5;124m\"\u001b[39m\u001b[38;5;124mNone of [\u001b[39m\u001b[38;5;132;01m{\u001b[39;00mkey\u001b[38;5;132;01m}\u001b[39;00m\u001b[38;5;124m] are in the [\u001b[39m\u001b[38;5;132;01m{\u001b[39;00maxis_name\u001b[38;5;132;01m}\u001b[39;00m\u001b[38;5;124m]\u001b[39m\u001b[38;5;124m\"\u001b[39m)\n\u001b[0;32m   5844\u001b[0m not_found \u001b[38;5;241m=\u001b[39m \u001b[38;5;28mlist\u001b[39m(ensure_index(key)[missing_mask\u001b[38;5;241m.\u001b[39mnonzero()[\u001b[38;5;241m0\u001b[39m]]\u001b[38;5;241m.\u001b[39munique())\n\u001b[0;32m   5845\u001b[0m \u001b[38;5;28;01mraise\u001b[39;00m \u001b[38;5;167;01mKeyError\u001b[39;00m(\u001b[38;5;124mf\u001b[39m\u001b[38;5;124m\"\u001b[39m\u001b[38;5;132;01m{\u001b[39;00mnot_found\u001b[38;5;132;01m}\u001b[39;00m\u001b[38;5;124m not in index\u001b[39m\u001b[38;5;124m\"\u001b[39m)\n",
      "\u001b[1;31mKeyError\u001b[0m: \"None of [Index(['correctBinary'], dtype='object')] are in the [columns]\""
     ]
    }
   ],
   "source": [
    "data_list=data_batch_generator(df_tu_list)"
   ]
  },
  {
   "cell_type": "code",
   "execution_count": null,
   "id": "3719ef37-ad20-4172-a2fb-67bb571c3973",
   "metadata": {},
   "outputs": [],
   "source": [
    "len(data_list)"
   ]
  },
  {
   "cell_type": "code",
   "execution_count": null,
   "id": "ec8fbbfd-4fb6-4d68-8dc5-6afcc0bd3ad5",
   "metadata": {},
   "outputs": [],
   "source": [
    "data_list[0]"
   ]
  },
  {
   "cell_type": "code",
   "execution_count": null,
   "id": "801e9ab2-5c5a-495d-8b1c-b253f477f9c5",
   "metadata": {},
   "outputs": [],
   "source": [
    "from torch_geometric.nn import global_mean_pool as gap, global_max_pool as gmp"
   ]
  },
  {
   "cell_type": "code",
   "execution_count": null,
   "id": "2141f28e-5c9b-4db2-a0ee-fbc0b99b55e3",
   "metadata": {},
   "outputs": [],
   "source": [
    "from torch_geometric.nn import GATConv, Linear, to_hetero"
   ]
  },
  {
   "cell_type": "code",
   "execution_count": null,
   "id": "59b4f867-58dc-45b5-8bb2-ff10f72d7877",
   "metadata": {},
   "outputs": [],
   "source": [
    "\n",
    "\n",
    "hidden_channels=15\n",
    "out_channels=2\n",
    "class GAT(torch.nn.Module):\n",
    "    def __init__(self):\n",
    "        super().__init__()\n",
    "        self.conv1 = GATConv((-1, -1), hidden_channels, add_self_loops=False)\n",
    "        self.lin1 = Linear(-1, hidden_channels)\n",
    "        \n",
    "        \n",
    "        \n",
    "        self.conv2 = GATConv((-1, -1), out_channels, add_self_loops=False)\n",
    "        self.lin2 = Linear(-1, out_channels)\n",
    "\n",
    "    def forward(self, x, edge_index):\n",
    "        x = self.conv1(x, edge_index) + self.lin1(x)\n",
    "        x = x.relu()\n",
    "        \n",
    "        x = self.conv2(x, edge_index) + self.lin2(x)\n",
    "        x=x.sigmoid()\n",
    "        \n",
    "        return x\n",
    "\n",
    "#\n",
    "#model_2 = GAT(hidden_channels=64, out_channels=2)\n",
    "#model_2 = to_hetero(model_2, data.metadata(), aggr='mean')"
   ]
  },
  {
   "cell_type": "code",
   "execution_count": null,
   "id": "90f90d2b-3fb8-41a0-bbab-d6221762f5e4",
   "metadata": {},
   "outputs": [],
   "source": [
    "from torch_geometric.nn import GCNConv"
   ]
  },
  {
   "cell_type": "code",
   "execution_count": null,
   "id": "89a81c0a-0485-4aa3-b0c4-dcfa40fec183",
   "metadata": {},
   "outputs": [],
   "source": [
    "data_list[-1]"
   ]
  },
  {
   "cell_type": "markdown",
   "id": "a123d7e7-9642-4a5f-a379-9fe47d9b8aac",
   "metadata": {},
   "source": [
    "import torch_geometric.transforms as T\n",
    "from torch_geometric.datasets import OGB_MAG\n",
    "from torch_geometric.nn import HeteroConv, GCNConv, SAGEConv, GATConv, Linear\n",
    "\n",
    "\n",
    "\n",
    "class HeteroGNN(torch.nn.Module):\n",
    "    def __init__(self, hidden_channels, out_channels, num_layers):\n",
    "        super().__init__()\n",
    "\n",
    "        self.convs = torch.nn.ModuleList()\n",
    "        for _ in range(num_layers):\n",
    "            conv = HeteroConv({\n",
    "                ('lo', 'lo_lo', 'lo'): GCNConv(-1, hidden_channels),\n",
    "                ('atom', 'atom_atom', 'atom'): GCNConv(-1, hidden_channels),\n",
    "                ('atom', 'atom_target', 'target'): GCNConv(-1,  hidden_channels,add_self_loops=True),\n",
    "                ('lo', 'lo_atom', 'atom'): GCNConv(-1,  hidden_channels,add_self_loops=True),\n",
    "            }, aggr='sum')\n",
    "            self.convs.append(conv)\n",
    "\n",
    "        self.lin = Linear(hidden_channels, out_channels)\n",
    "\n",
    "    def forward(self, x_dict, edge_index_dict):\n",
    "        for conv in self.convs:\n",
    "            x_dict = conv(x_dict, edge_index_dict)\n",
    "            x_dict = {key: x.relu() for key, x in x_dict.items()}\n",
    "        return self.lin(x_dict['target'])\n",
    "\n",
    "model = HeteroGNN(hidden_channels=64, out_channels=2, num_layers=2)"
   ]
  },
  {
   "cell_type": "code",
   "execution_count": null,
   "id": "650155a5-26d0-4743-abc0-9da802b64286",
   "metadata": {},
   "outputs": [],
   "source": [
    " len(data_list)"
   ]
  },
  {
   "cell_type": "code",
   "execution_count": null,
   "id": "8a32cc87-d6da-4684-a843-01d20285710b",
   "metadata": {},
   "outputs": [],
   "source": [
    "from torch_geometric.data import DataLoader"
   ]
  },
  {
   "cell_type": "code",
   "execution_count": null,
   "id": "05b038bc-5e26-49f9-8b6b-28f89a65890b",
   "metadata": {},
   "outputs": [],
   "source": [
    "list(np.random.choice([1,2],5,replace=True))"
   ]
  },
  {
   "cell_type": "code",
   "execution_count": null,
   "id": "cb7da2c0-c281-48cd-aa70-1b25e62d879a",
   "metadata": {},
   "outputs": [],
   "source": []
  },
  {
   "cell_type": "code",
   "execution_count": null,
   "id": "b49f8483-6306-4f92-8e85-8fb3067ffc11",
   "metadata": {},
   "outputs": [],
   "source": [
    "target_class_1=[]\n",
    "target_class_0=[]\n",
    "for num, data in enumerate(data_list):\n",
    "    target_class=data['target'].y.item()\n",
    "    if target_class ==0:\n",
    "        target_class_0.append(data)\n",
    "    else:\n",
    "        target_class_1.append(data)\n",
    "        \n",
    "if len(target_class_1)>len(target_class_0):\n",
    "        target_class_0_balanced=[]\n",
    "        index_list=np.arange(len(target_class_0))\n",
    "        index_balanced=list(np.random.choice(index_list,len(target_class_1),replace=True))\n",
    "        for i in index_balanced:\n",
    "            target_class_0_balanced.append(target_class_0[i])\n",
    "target_class_1.extend(target_class_0_balanced)"
   ]
  },
  {
   "cell_type": "code",
   "execution_count": null,
   "id": "e27b106d-6f8b-41b8-ad2a-9062812369ba",
   "metadata": {},
   "outputs": [],
   "source": [
    "taget_balanced=target_class_1.copy()"
   ]
  },
  {
   "cell_type": "code",
   "execution_count": null,
   "id": "907a9327-d37f-4097-9fd6-7e3918dfd239",
   "metadata": {},
   "outputs": [],
   "source": [
    "loader_classes=[]\n",
    "for num, data in enumerate(taget_balanced):\n",
    "    loader_classes.append(data['target'].y.view(1,-1)[0].numpy())\n",
    "loader_classes_np=np.concatenate(loader_classes)\n",
    "np.mean(loader_classes_np)"
   ]
  },
  {
   "cell_type": "code",
   "execution_count": null,
   "id": "cca94fb4-2832-470c-b672-f199a165b9af",
   "metadata": {},
   "outputs": [],
   "source": [
    "from torch.nn import init"
   ]
  },
  {
   "cell_type": "code",
   "execution_count": null,
   "id": "53cb4366-7d90-4731-a3ac-66a958f45cad",
   "metadata": {},
   "outputs": [],
   "source": [
    "hidden_channels=100\n",
    "out_channels=2\n",
    "class GNN(torch.nn.Module):\n",
    "    def __init__(self):\n",
    "        super().__init__()\n",
    "        self.conv1 = SAGEConv((-1, -1), hidden_channels,requires_grad=True)\n",
    "        self.actfn1=nn.ReLU()\n",
    "        \n",
    "        self.conv2 = SAGEConv((-1, -1), int(hidden_channels/5),requires_grad=True)\n",
    "        self.actfn2=nn.ReLU()\n",
    "        \n",
    "        self.conv3 = SAGEConv((-1, -1), hidden_channels,requires_grad=True)\n",
    "        self.actfn3=nn.Sigmoid()\n",
    "        \n",
    "        \n",
    "        \n",
    "        self.out=nn.Linear(int(hidden_channels),out_channels)\n",
    "        self.sigmoid=nn.Sigmoid()\n",
    "\n",
    "    def forward(self, x, edge_index):\n",
    "        \n",
    "        # First Message Passing layer\n",
    "        x = self.actfn1(self.conv1(x, edge_index))\n",
    "        x= F.dropout(x,p=.7,training=self.training)\n",
    "        \n",
    "        #x = self.actfn2(self.conv2(x, edge_index))\n",
    "        #x= F.dropout(x,p=.7,training=self.training)\n",
    "        \n",
    "        #x = self.actfn3(self.conv3(x, edge_index))\n",
    "        #x= F.dropout(x,p=.7,training=self.training)\n",
    "        #pool={key: gmp(batch[key].x, batch[key].batch) for key in batch.node_types}\n",
    "        out=self.sigmoid(self.out(x))\n",
    "        #out=self.out(x)\n",
    "        return out\n",
    "\n",
    "\n",
    "#model_1 = GNN(hidden_channels=64, out_channels=2)\n",
    "#model_1 = to_hetero(model_1, data.metadata(), aggr='sum')"
   ]
  },
  {
   "cell_type": "code",
   "execution_count": null,
   "id": "a8889873-6c4f-46f6-b589-f86aa4df7051",
   "metadata": {},
   "outputs": [],
   "source": [
    "NUM_GRAPHS_PER_BATCH=25\n",
    "data_size=int(len(taget_balanced)*.80)\n",
    "loader = DataLoader(taget_balanced[:data_size], \n",
    "                    batch_size=NUM_GRAPHS_PER_BATCH, shuffle=True)\n",
    "test_loader = DataLoader(taget_balanced[data_size:], \n",
    "                         batch_size=NUM_GRAPHS_PER_BATCH, shuffle=True)"
   ]
  },
  {
   "cell_type": "code",
   "execution_count": null,
   "id": "5da510ab-9cfb-454d-bb0e-407f0d1c2c6e",
   "metadata": {},
   "outputs": [],
   "source": []
  },
  {
   "cell_type": "code",
   "execution_count": null,
   "id": "26c48e33-2f8f-4946-87f1-e70449c3d637",
   "metadata": {},
   "outputs": [],
   "source": []
  },
  {
   "cell_type": "code",
   "execution_count": null,
   "id": "257e2d47-5aec-45b1-8b39-2ed88aea10b6",
   "metadata": {
    "tags": []
   },
   "outputs": [],
   "source": [
    "#model = GNN(hidden_channels=200, out_channels=2)\n",
    "#model = to_hetero(model, data_list[-1].metadata())\n",
    "\n",
    "model=GNN()\n",
    "model = to_hetero(model, batch.metadata())\n",
    "learning_rate=0.01\n",
    "optimizer=torch.optim.Adam(model.parameters(),lr=learning_rate)\n",
    "criterion=torch.nn.CrossEntropyLoss()\n",
    "#criterion=F.binary_cross_entropy\n",
    "train_acc_mean_list=[]\n",
    "test_acc_mean_list=[]\n",
    "loss_list=[]\n",
    "accuracy_list=[]\n",
    "best_score=0\n",
    "\n",
    "train_size=int(len(taget_balanced)*.8)\n",
    "train_data=taget_balanced[:train_size]\n",
    "test_data=taget_balanced[train_size:]\n",
    "\n",
    "\n",
    "\n",
    "for epoch_num in range(20):\n",
    "    epoch_accuracy=[]\n",
    "    \n",
    "    for  batch_num,batch in enumerate(loader):\n",
    "        model.train()\n",
    "        optimizer.zero_grad()   \n",
    "        #x_dict = {key: gmp(batch[key].x, batch[key].batch) for key in batch.node_types}\n",
    "        out=model(batch.x_dict, batch.edge_index_dict) \n",
    "        loss=criterion(out['target'],batch['target'].y.view(1,-1)[0])\n",
    "        loss.backward()\n",
    "        optimizer.step()\n",
    "        loss_list.append(loss.item())\n",
    "        train_correct=out['target'].argmax(dim=1)==batch['target'].y.view(1,-1)[0]\n",
    "        train_acc=train_correct*1\n",
    "        accuracy=(sum(train_correct*1)/train_correct.shape[0]).item()\n",
    "        epoch_accuracy.append(accuracy)\n",
    "        accuracy_list.append(accuracy)\n",
    "    if epoch_num==0:\n",
    "        best_model=model\n",
    "        best_loss=loss\n",
    "    else:\n",
    "        if loss<best_loss:\n",
    "            \n",
    "            best_model=model  \n",
    "            best_loss=loss\n",
    "            ic([epoch_num,batch_num,best_loss.item()])\n",
    "    ic((epoch_num,np.mean(epoch_accuracy),loss.item()))\n",
    "    \n",
    "\n",
    "#out['target']: tensor([[0.2217, 0.0272]], grad_fn=<AddmmBackward0>)"
   ]
  },
  {
   "cell_type": "code",
   "execution_count": null,
   "id": "615d140b-f38d-4e25-ac4a-9050f934e607",
   "metadata": {},
   "outputs": [],
   "source": [
    "out"
   ]
  },
  {
   "cell_type": "code",
   "execution_count": null,
   "id": "9335b16a-2d0b-4352-8a60-ff41afdf3c70",
   "metadata": {},
   "outputs": [],
   "source": [
    "batch['target'].y.shape #.view(1,-1)[0]"
   ]
  },
  {
   "cell_type": "code",
   "execution_count": null,
   "id": "40d45dc6-87dc-4ed3-8c70-5f319c6c8938",
   "metadata": {},
   "outputs": [],
   "source": [
    "batch['target'].y.view(1,-1)"
   ]
  },
  {
   "cell_type": "code",
   "execution_count": null,
   "id": "1e62a5f8-bafd-4549-b486-69edff9edc27",
   "metadata": {},
   "outputs": [],
   "source": [
    "loss_moving_avg=[]\n",
    "mvg_steps=50\n",
    "for i in range(len(loss_list)-mvg_steps):\n",
    "    loss_moving_avg.append(np.mean(loss_list[i:i+mvg_steps]))\n",
    "plt.plot(loss_list)\n",
    "plt.plot(loss_moving_avg)"
   ]
  },
  {
   "cell_type": "code",
   "execution_count": null,
   "id": "e9f8bb55-12af-45a5-bd09-ecd432ab9ced",
   "metadata": {},
   "outputs": [],
   "source": []
  },
  {
   "cell_type": "code",
   "execution_count": null,
   "id": "d93ca801-9aa5-4762-88e2-b3384ef7d58f",
   "metadata": {},
   "outputs": [],
   "source": [
    "acc_moving_avg=[]\n",
    "\n",
    "for i in range(len(accuracy_list)-mvg_steps):\n",
    "    acc_moving_avg.append(np.mean(accuracy_list[i:i+mvg_steps]))\n",
    "plt.plot(accuracy_list)\n",
    "plt.plot(acc_moving_avg)"
   ]
  },
  {
   "cell_type": "code",
   "execution_count": null,
   "id": "523492b3-ac54-4554-a15a-aa72ac5714a5",
   "metadata": {},
   "outputs": [],
   "source": []
  },
  {
   "cell_type": "code",
   "execution_count": null,
   "id": "18b48054-31d8-4583-9a89-9533ff303098",
   "metadata": {},
   "outputs": [],
   "source": [
    "test_accuracy=[]\n",
    "baseline_accuracy_list=[]\n",
    "best_model.eval()\n",
    "model.eval()\n",
    "with torch.no_grad():\n",
    "    for num, data in enumerate(test_loader):\n",
    "\n",
    "        try:\n",
    "            \n",
    "            out=best_model(data.x_dict, data.edge_index_dict)\n",
    "            pred=out['target'].argmax(dim=1)\n",
    "            test_correct=out['target'].argmax(dim=1)==data['target'].y.view(1,-1)[0]\n",
    "            test_acc=test_correct*1\n",
    "            accuracy=(sum(test_correct*1)/test_correct.shape[0]).item()\n",
    "            #baseline_accuracy=(data['target'].y.view(1,-1)[0].max()==out['target'].argmax(dim=1)).sum()/data['target'].y.view(1,-1)[0].shape[0]\n",
    "            baseline_accuracy=((1==out['target'].argmax(dim=1))*1).sum()/data['target'].y.view(1,-1)[0].shape[0]\n",
    "            performance='model :{:.2f} , basline :{:.2f}'.format(accuracy,baseline_accuracy)\n",
    "            test_accuracy.append(accuracy)\n",
    "            baseline_accuracy_list.append(baseline_accuracy.item())\n",
    "            ic(performance);\n",
    "        except Exception as e:\n",
    "            ic(e)\n",
    "            pass\n",
    "ic(np.mean(test_accuracy),np.mean(baseline_accuracy_list));"
   ]
  },
  {
   "cell_type": "code",
   "execution_count": null,
   "id": "0e625506-3d16-492d-a619-2991b3aa1f4f",
   "metadata": {},
   "outputs": [],
   "source": [
    "np.mean(test_accuracy)+np.mean(baseline_accuracy_list)"
   ]
  },
  {
   "cell_type": "code",
   "execution_count": null,
   "id": "01c3e35f-f757-4bd4-8274-b32eef0e9d12",
   "metadata": {},
   "outputs": [],
   "source": [
    "out['target'].argmax(dim=1)==1"
   ]
  },
  {
   "cell_type": "code",
   "execution_count": null,
   "id": "c061bcaf-0faa-4a6e-b86b-dfca228f0f5a",
   "metadata": {},
   "outputs": [],
   "source": [
    "out['target'].detach()"
   ]
  },
  {
   "cell_type": "code",
   "execution_count": null,
   "id": "f3a30ccc-785d-4d77-b824-7193a1aa052b",
   "metadata": {},
   "outputs": [],
   "source": []
  },
  {
   "cell_type": "code",
   "execution_count": null,
   "id": "e3e3652e-6ccb-48a0-b4ac-0845ac5a5cdf",
   "metadata": {},
   "outputs": [],
   "source": [
    "out\n"
   ]
  },
  {
   "cell_type": "code",
   "execution_count": null,
   "id": "0d0f8705-7b36-48cf-8ec4-cd6fbf4cd89d",
   "metadata": {},
   "outputs": [],
   "source": []
  },
  {
   "cell_type": "code",
   "execution_count": null,
   "id": "e9bda351-5bd9-46db-a54d-7ab36f64c645",
   "metadata": {},
   "outputs": [],
   "source": [
    "out['target'].detach()[:,0][index]"
   ]
  },
  {
   "cell_type": "code",
   "execution_count": null,
   "id": "4867a81c-8885-4bb1-904d-83bc84713a9a",
   "metadata": {},
   "outputs": [],
   "source": [
    "plt.scatter(x=out['target'].detach()[:,0],y=out['target'].detach()[:,1])"
   ]
  },
  {
   "cell_type": "code",
   "execution_count": null,
   "id": "9a3d4fa1-8f95-4d68-8d88-ea78d089d14f",
   "metadata": {},
   "outputs": [],
   "source": [
    "hidden_channels=200\n",
    "out_channels=2\n",
    "class GNN_Embeddings(torch.nn.Module):\n",
    "    def __init__(self):\n",
    "        super().__init__()\n",
    "        self.conv1 = SAGEConv((-1, -1), hidden_channels,requires_grad=False)\n",
    "        self.actfn1=nn.ReLU()\n",
    "        \n",
    "        self.conv2 = SAGEConv((-1, -1), hidden_channels,requires_grad=False)\n",
    "        self.actfn2=nn.ReLU()\n",
    "        \n",
    "        self.conv3 = SAGEConv((-1, -1), hidden_channels,requires_grad=False)\n",
    "        self.actfn3=nn.Sigmoid()\n",
    "        \n",
    "        self.out=nn.Linear(hidden_channels,out_channels)\n",
    "        self.sigmoid=nn.Sigmoid()\n",
    "\n",
    "    def forward(self, x, edge_index):\n",
    "        \n",
    "        # First Message Passing layer\n",
    "        x = self.actfn1(self.conv1(x, edge_index))\n",
    "        x= F.dropout(x,p=.5,training=self.training)\n",
    "        \n",
    "        x = self.actfn2(self.conv2(x, edge_index))\n",
    "        x= F.dropout(x,p=.5,training=self.training)\n",
    "        \n",
    "        out=self.out(x)\n",
    "        \n",
    "        return out"
   ]
  },
  {
   "cell_type": "code",
   "execution_count": null,
   "id": "26725e52-f813-4ddb-a023-2018a6739dce",
   "metadata": {},
   "outputs": [],
   "source": [
    "model_embedding=GNN_Embeddings()\n",
    "model_embedding = to_hetero(model_embedding, batch.metadata())"
   ]
  },
  {
   "cell_type": "code",
   "execution_count": null,
   "id": "5fc4a2e6-1a4b-4bec-8393-d0bd2875298a",
   "metadata": {},
   "outputs": [],
   "source": [
    "output1=model_embedding(batch.x_dict, batch.edge_index_dict)"
   ]
  },
  {
   "cell_type": "code",
   "execution_count": null,
   "id": "772629de-c702-44a3-8949-471b63ec43ec",
   "metadata": {},
   "outputs": [],
   "source": [
    "output_target=output1['target']"
   ]
  },
  {
   "cell_type": "code",
   "execution_count": null,
   "id": "2596a8f9-9525-4c0d-985c-b39a5b869da4",
   "metadata": {},
   "outputs": [],
   "source": [
    "output_target.argmax(dim=1)"
   ]
  },
  {
   "cell_type": "code",
   "execution_count": null,
   "id": "48597964-739b-4fdd-a50c-3fa2637afae9",
   "metadata": {},
   "outputs": [],
   "source": [
    "batch['target']['y']"
   ]
  },
  {
   "cell_type": "code",
   "execution_count": null,
   "id": "7cf95e37-8886-43f3-8204-03e30e1dfafa",
   "metadata": {},
   "outputs": [],
   "source": [
    "output_target.view(output_target.shape[0],1,output_target.shape[1])"
   ]
  },
  {
   "cell_type": "code",
   "execution_count": null,
   "id": "a6f8d426-8175-4a62-a4fb-3c126dc9cd60",
   "metadata": {},
   "outputs": [],
   "source": [
    "import torch\n",
    "from torch import nn\n",
    "\n",
    "input_dim=2\n",
    "hidden_dim=10\n",
    "output_dim=2\n",
    "\n",
    " \n",
    "class LSTM_Model(nn.Module):\n",
    "    def __init__(self):\n",
    "        super().__init__()\n",
    "        self.lstm = nn.LSTM(input_dim, hidden_dim, num_layers=1, batch_first=True)\n",
    "        self.linear = nn.Linear(hidden_dim, output_dim)\n",
    "        self.sigmoid= nn.Sigmoid()\n",
    "        \n",
    "    def forward(self, x):\n",
    "        x, _ = self.lstm(x)\n",
    "        x = self.linear(x)\n",
    "        x= self.sigmoid(x)\n",
    "        \n",
    "        return x\n",
    "# Create the LSTM model\n",
    "\n",
    "\n",
    "rnn_cl = LSTM_Model()\n",
    "\n",
    "\n",
    "# Initialize the hidden state\n",
    "hidden_state = None\n",
    "\n",
    "# Pass the user embeddings from the previous time step to the LSTM as input\n",
    "for time_step in range(NUM_GRAPHS_PER_BATCH):\n",
    "    rnn_inputs = output1['target'][time_step]\n",
    "\n",
    "    # Pass the RNN inputs to the LSTM model\n",
    "    rnn_outputs = rnn_cl(output_target.view(rnn_inputs.shape[0],1,rnn_inputs.shape[1]))\n",
    "\n",
    "# The final output of the LSTM model is the output for the current time step\n",
    "output = rnn_outputs"
   ]
  },
  {
   "cell_type": "code",
   "execution_count": null,
   "id": "630a69b6-9989-4b7b-bc6a-53da0411cb8b",
   "metadata": {},
   "outputs": [],
   "source": [
    "rnn_inputs"
   ]
  },
  {
   "cell_type": "code",
   "execution_count": null,
   "id": "55db1708-862b-4992-af27-ee59c42ad3d9",
   "metadata": {},
   "outputs": [],
   "source": []
  },
  {
   "cell_type": "code",
   "execution_count": null,
   "id": "00d997e0-fa29-4817-9b0f-9383ea0c4ceb",
   "metadata": {},
   "outputs": [],
   "source": [
    "sample=data_list[5]"
   ]
  },
  {
   "cell_type": "code",
   "execution_count": 824,
   "id": "322d3679-ef58-46a4-a714-6719dbd0f598",
   "metadata": {},
   "outputs": [
    {
     "data": {
      "text/plain": [
       "HeteroData(\n",
       "  \u001b[1matom\u001b[0m={ x=[8, 2] },\n",
       "  \u001b[1mlo\u001b[0m={ x=[31, 1] },\n",
       "  \u001b[1mtarget\u001b[0m={\n",
       "    x=[1, 1],\n",
       "    y=[1, 1]\n",
       "  },\n",
       "  \u001b[1mlm\u001b[0m={ x=[3, 1] },\n",
       "  \u001b[1m(lo, lo_atom, atom)\u001b[0m={ edge_index=[2, 8] },\n",
       "  \u001b[1m(lo, lo_lo, lo)\u001b[0m={ edge_index=[2, 41] },\n",
       "  \u001b[1m(lo, lo_target, target)\u001b[0m={ edge_index=[2, 1] },\n",
       "  \u001b[1m(atom, atom_atom, atom)\u001b[0m={ edge_index=[2, 6] },\n",
       "  \u001b[1m(atom, atom_target, target)\u001b[0m={ edge_index=[2, 0] },\n",
       "  \u001b[1m(lo, lo_lm, lm)\u001b[0m={ edge_index=[2, 3] }\n",
       ")"
      ]
     },
     "execution_count": 824,
     "metadata": {},
     "output_type": "execute_result"
    }
   ],
   "source": [
    "sample"
   ]
  },
  {
   "cell_type": "code",
   "execution_count": 834,
   "id": "95948adc-7433-4cfa-8a02-0343ca57fb37",
   "metadata": {},
   "outputs": [],
   "source": [
    "G=nx.Graph()"
   ]
  },
  {
   "cell_type": "code",
   "execution_count": 837,
   "id": "6ef62577-2df0-4ec5-84e2-c467620ea4a6",
   "metadata": {},
   "outputs": [
    {
     "data": {
      "text/plain": [
       "tensor([[29, 29, 28, 28, 29, 29, 28, 28],\n",
       "        [ 0,  1,  2,  3,  4,  5,  6,  7]])"
      ]
     },
     "execution_count": 837,
     "metadata": {},
     "output_type": "execute_result"
    }
   ],
   "source": [
    "sample[  ('lo', 'lo_atom', 'atom')]['edge_index']"
   ]
  },
  {
   "cell_type": "code",
   "execution_count": 857,
   "id": "42be2ecc-5192-46dd-86ea-5d188081b337",
   "metadata": {},
   "outputs": [
    {
     "data": {
      "text/plain": [
       "array([[29,  0],\n",
       "       [29,  1],\n",
       "       [28,  2],\n",
       "       [28,  3],\n",
       "       [29,  4],\n",
       "       [29,  5],\n",
       "       [28,  6],\n",
       "       [28,  7]], dtype=int64)"
      ]
     },
     "execution_count": 857,
     "metadata": {},
     "output_type": "execute_result"
    }
   ],
   "source": [
    "sample.edge_items()[0][1]['edge_index'].numpy().transpose()"
   ]
  },
  {
   "cell_type": "code",
   "execution_count": null,
   "id": "d526f916-1edd-4121-b804-9a24724345b7",
   "metadata": {},
   "outputs": [],
   "source": []
  },
  {
   "cell_type": "code",
   "execution_count": 1225,
   "id": "d50b7661-958b-4b8b-ab95-1c060046a796",
   "metadata": {},
   "outputs": [],
   "source": [
    "import torch\n",
    "import torch.nn"
   ]
  },
  {
   "cell_type": "code",
   "execution_count": 1215,
   "id": "dd9b7d6c-5a40-4ab0-ac3f-6ebdcfefce5d",
   "metadata": {},
   "outputs": [],
   "source": [
    "stacked=torch.stack([torch.tensor([[1,2,3,4]]),torch.tensor([[2,3,4,5]]),torch.tensor([[3,4,5,6]])],dim=0)"
   ]
  },
  {
   "cell_type": "code",
   "execution_count": 1216,
   "id": "96e06bad-42b4-4570-b7ee-8a3b9b338e47",
   "metadata": {},
   "outputs": [
    {
     "data": {
      "text/plain": [
       "tensor([[[1, 2, 3, 4]],\n",
       "\n",
       "        [[2, 3, 4, 5]],\n",
       "\n",
       "        [[3, 4, 5, 6]]])"
      ]
     },
     "execution_count": 1216,
     "metadata": {},
     "output_type": "execute_result"
    }
   ],
   "source": [
    "stacked"
   ]
  },
  {
   "cell_type": "code",
   "execution_count": 1236,
   "id": "f7d30fdb-8665-40a2-ab7a-c35dc2ecc1bb",
   "metadata": {},
   "outputs": [],
   "source": [
    "reshaped=stacked.permute(1,0,2).float()"
   ]
  },
  {
   "cell_type": "code",
   "execution_count": 1237,
   "id": "6db8e24d-1252-44cc-a427-39d6ca163808",
   "metadata": {},
   "outputs": [],
   "source": [
    "lstm=nn.LSTM(4,2)"
   ]
  },
  {
   "cell_type": "code",
   "execution_count": 1238,
   "id": "84b7b862-7b30-4643-8513-0ec3cc5f9331",
   "metadata": {},
   "outputs": [
    {
     "data": {
      "text/plain": [
       "(tensor([[[-2.3294e-03, -4.9031e-01],\n",
       "          [-4.1070e-04, -6.2513e-01],\n",
       "          [-5.5507e-05, -6.8127e-01]]], grad_fn=<StackBackward0>),\n",
       " (tensor([[[-2.3294e-03, -4.9031e-01],\n",
       "           [-4.1070e-04, -6.2513e-01],\n",
       "           [-5.5507e-05, -6.8127e-01]]], grad_fn=<StackBackward0>),\n",
       "  tensor([[[-0.0203, -0.5950],\n",
       "           [-0.0112, -0.7577],\n",
       "           [-0.0050, -0.8394]]], grad_fn=<StackBackward0>)))"
      ]
     },
     "execution_count": 1238,
     "metadata": {},
     "output_type": "execute_result"
    }
   ],
   "source": [
    "lstm(reshaped)"
   ]
  },
  {
   "cell_type": "code",
   "execution_count": 1254,
   "id": "f97e0430-de3d-4184-82ca-aa3a16489dfc",
   "metadata": {},
   "outputs": [],
   "source": [
    "data = np.array([[9, 4, 10], [8, 5, 6], [4, 6, 6], [4, 6, 2], [1, 6, 8], [0, 7, 7], [1, 9, 6], [0, 1, 0]])\n",
    "target = np.array([1, 0, 0, 0, 0, 1, 0])\n",
    "\n",
    "# Split the data into training and test sets\n",
    "X_train, X_test, y_train, y_test = data[:-5], data[-5:], target[:-5], target[-5:]\n",
    "\n",
    "# Create sequences of time steps\n",
    "X_train_sequences = []\n",
    "for sequence in X_train:\n",
    "    X_train_sequences.append(torch.tensor(sequence, dtype=torch.float32))\n",
    "X_test_sequences = []\n",
    "for sequence in X_test:\n",
    "    X_test_sequences.append(torch.tensor(sequence, dtype=torch.float32))\n",
    "\n",
    "# Normalize the feature values\n",
    "X_train_sequences = torch.stack(X_train_sequences)\n",
    "X_test_sequences = torch.stack(X_test_sequences)\n",
    "\n",
    "# Convert the target variable to a binary variable\n",
    "y_train = torch.tensor(y_train, dtype=torch.long)\n",
    "y_test = torch.tensor(y_test, dtype=torch.long)"
   ]
  },
  {
   "cell_type": "code",
   "execution_count": 1251,
   "id": "45a00b84-f05f-4347-b0ab-0216e6fd5587",
   "metadata": {},
   "outputs": [
    {
     "data": {
      "text/plain": [
       "tensor([[ 9.,  4., 10.],\n",
       "        [ 8.,  5.,  6.],\n",
       "        [ 4.,  6.,  6.]])"
      ]
     },
     "execution_count": 1251,
     "metadata": {},
     "output_type": "execute_result"
    }
   ],
   "source": [
    "X_train_sequences"
   ]
  },
  {
   "cell_type": "code",
   "execution_count": 1252,
   "id": "f3f3ce5b-cfe3-4356-902b-286f00c2f1de",
   "metadata": {},
   "outputs": [
    {
     "data": {
      "text/plain": [
       "tensor([1, 0])"
      ]
     },
     "execution_count": 1252,
     "metadata": {},
     "output_type": "execute_result"
    }
   ],
   "source": [
    "y_train"
   ]
  },
  {
   "cell_type": "code",
   "execution_count": 1255,
   "id": "90f84e5f-b15b-4388-a816-f816460fb4d1",
   "metadata": {},
   "outputs": [
    {
     "data": {
      "text/plain": [
       "tensor([[4., 6., 2.],\n",
       "        [1., 6., 8.],\n",
       "        [0., 7., 7.],\n",
       "        [1., 9., 6.],\n",
       "        [0., 1., 0.]])"
      ]
     },
     "execution_count": 1255,
     "metadata": {},
     "output_type": "execute_result"
    }
   ],
   "source": [
    "X_test_sequences"
   ]
  },
  {
   "cell_type": "code",
   "execution_count": null,
   "id": "c3b59298-d57a-48e6-ae5b-9395b1620d37",
   "metadata": {},
   "outputs": [],
   "source": []
  }
 ],
 "metadata": {
  "kernelspec": {
   "display_name": "Python 3 (ipykernel)",
   "language": "python",
   "name": "python3"
  },
  "language_info": {
   "codemirror_mode": {
    "name": "ipython",
    "version": 3
   },
   "file_extension": ".py",
   "mimetype": "text/x-python",
   "name": "python",
   "nbconvert_exporter": "python",
   "pygments_lexer": "ipython3",
   "version": "3.8.3"
  }
 },
 "nbformat": 4,
 "nbformat_minor": 5
}
