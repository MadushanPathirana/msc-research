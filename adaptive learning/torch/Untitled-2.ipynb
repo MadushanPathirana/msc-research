{
 "cells": [
  {
   "cell_type": "code",
   "execution_count": 3,
   "metadata": {},
   "outputs": [
    {
     "name": "stderr",
     "output_type": "stream",
     "text": [
      "WARNING (theano.configdefaults): g++ not available, if using conda: `conda install m2w64-toolchain`\n",
      "c:\\Users\\mpathirana\\Anaconda3\\envs\\stat\\lib\\site-packages\\theano\\configdefaults.py:560: UserWarning: DeprecationWarning: there is no c++ compiler.This is deprecated and with Theano 0.11 a c++ compiler will be mandatory\n",
      "  warnings.warn(\"DeprecationWarning: there is no c++ compiler.\"\n",
      "WARNING (theano.configdefaults): g++ not detected ! Theano will be unable to execute optimized C-implementations (for both CPU and GPU) and will default to Python implementations. Performance will be severely degraded. To remove this warning, set Theano flags cxx to an empty string.\n",
      "WARNING (theano.configdefaults): install mkl with `conda install mkl-service`: No module named 'mkl'\n",
      "WARNING (theano.tensor.blas): Using NumPy C-API based implementation for BLAS functions.\n"
     ]
    }
   ],
   "source": [
    "import pymc3 as pm\n",
    "import numpy as np\n",
    "import matplotlib.pyplot as plt\n",
    "from scipy import stats\n",
    "import theano.tensor as tt"
   ]
  },
  {
   "cell_type": "code",
   "execution_count": 4,
   "metadata": {},
   "outputs": [],
   "source": [
    "y=np.array([0.25, 0.2365622342, 0.15630337, 0.6584035078, 0.9819810819, 1.0])\n",
    "x=np.arange(1,y.shape[0]+1)"
   ]
  },
  {
   "cell_type": "code",
   "execution_count": 5,
   "metadata": {},
   "outputs": [
    {
     "data": {
      "text/plain": [
       "[<matplotlib.lines.Line2D at 0x269ff704860>]"
      ]
     },
     "execution_count": 5,
     "metadata": {},
     "output_type": "execute_result"
    },
    {
     "data": {
      "image/png": "[encoded data removed]",
      "text/plain": [
       "<Figure size 432x288 with 1 Axes>"
      ]
     },
     "metadata": {
      "needs_background": "light"
     },
     "output_type": "display_data"
    }
   ],
   "source": [
    "plt.plot(y)"
   ]
  },
  {
   "cell_type": "code",
   "execution_count": 6,
   "metadata": {},
   "outputs": [
    {
     "data": {
      "text/plain": [
       "array([0.25      , 0.23656223, 0.15630337, 0.65840351, 0.98198108,\n",
       "       1.        ])"
      ]
     },
     "execution_count": 6,
     "metadata": {},
     "output_type": "execute_result"
    }
   ],
   "source": [
    "y"
   ]
  },
  {
   "cell_type": "code",
   "execution_count": 7,
   "metadata": {},
   "outputs": [
    {
     "name": "stderr",
     "output_type": "stream",
     "text": [
      "Multiprocess sampling (4 chains in 4 jobs)\n",
      "CompoundStep\n",
      ">Metropolis: [k]\n",
      ">NUTS: [a, L, r, l]\n",
      "Sampling 4 chains, 0 divergences: 100%|██████████| 5000/5000 [2:41:13<00:00,  1.93s/draws]  \n",
      "The number of effective samples is smaller than 25% for some parameters.\n"
     ]
    }
   ],
   "source": [
    "def exp_quad_kernel(x, knots, L=.01, r=.1):\n",
    "    \"\"\"exponentiated quadratic kernel\"\"\"\n",
    "    x = tt.as_tensor_variable(x)\n",
    "    knots = tt.as_tensor_variable(knots)\n",
    "    L = tt.as_tensor_variable(L)\n",
    "    r = tt.as_tensor_variable(r)\n",
    "    \n",
    "    distances = tt.pow(x.reshape((-1, 1)) - knots.reshape((1, -1)), 2)\n",
    "    scaled_distances = distances / (2 * L ** 2)\n",
    "    kernel_values = r ** 2 * tt.exp(-scaled_distances)\n",
    "    \n",
    "    return kernel_values\n",
    "\n",
    "with pm.Model() as model:\n",
    "    k = pm.DiscreteUniform('k', lower=1, upper=4)\n",
    "    l = pm.Normal('l', mu=1, sd=10)\n",
    "    r = pm.Normal('r', mu=.1, sd=10)\n",
    "    L = pm.Normal('L',  mu=.01, sd=10)\n",
    "    a=pm.InverseGamma('a',1)\n",
    "    mu = pm.math.maximum(0,  1 / (1 + pm.math.exp( (k - x) / l)) )\n",
    "    #cov = exp_quad_kernel(y,y,r=r,L=L)\n",
    "    cov_func=r**2*pm.gp.cov.ExpQuad(1,ls=L)\n",
    "    cov=cov_func(y.reshape(-1,1))+tt.eye(len(x))*a\n",
    "\n",
    "    likelihood=pm.MvNormal('obs',mu, cov, observed=y)\n",
    "    step = pm.NUTS(target_accept=1)\n",
    "    trace=pm.sample(draws=750, tune=500)\n",
    "\n",
    "\n",
    "    \n"
   ]
  },
  {
   "cell_type": "code",
   "execution_count": null,
   "metadata": {},
   "outputs": [],
   "source": []
  },
  {
   "cell_type": "code",
   "execution_count": null,
   "metadata": {},
   "outputs": [],
   "source": []
  },
  {
   "cell_type": "code",
   "execution_count": null,
   "metadata": {},
   "outputs": [],
   "source": []
  }
 ],
 "metadata": {
  "kernelspec": {
   "display_name": "Python 3 (ipykernel)",
   "language": "python",
   "name": "python3"
  },
  "language_info": {
   "codemirror_mode": {
    "name": "ipython",
    "version": 3
   },
   "file_extension": ".py",
   "mimetype": "text/x-python",
   "name": "python",
   "nbconvert_exporter": "python",
   "pygments_lexer": "ipython3",
   "version": "3.8.3"
  }
 },
 "nbformat": 4,
 "nbformat_minor": 4
}
