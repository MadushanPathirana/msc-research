{
  "nbformat": 4,
  "nbformat_minor": 0,
  "metadata": {
    "colab": {
      "provenance": [],
      "toc_visible": true,
      "authorship_tag": "ABX9TyNGKTOwqYCmCkmcAkL+ER1S",
      "include_colab_link": true
    },
    "kernelspec": {
      "name": "python3",
      "display_name": "Python 3"
    },
    "language_info": {
      "name": "python"
    }
  },
  "cells": [
    {
      "cell_type": "markdown",
      "metadata": {
        "id": "view-in-github",
        "colab_type": "text"
      },
      "source": [
        "<a href=\"https://colab.research.google.com/github/MadushanPathirana/msc-research/blob/main/adaptive_learning.ipynb\" target=\"_parent\"><img src=\"https://colab.research.google.com/assets/colab-badge.svg\" alt=\"Open In Colab\"/></a>"
      ]
    },
    {
      "cell_type": "code",
      "source": [
        "! pip install torch_geometric"
      ],
      "metadata": {
        "colab": {
          "base_uri": "https://localhost:8080/"
        },
        "id": "_ID3XNyzudjP",
        "outputId": "b695c023-f8ab-48ce-8a00-7e2c7a00c2e4"
      },
      "execution_count": 210,
      "outputs": [
        {
          "output_type": "stream",
          "name": "stdout",
          "text": [
            "Requirement already satisfied: torch_geometric in /usr/local/lib/python3.10/dist-packages (2.4.0)\n",
            "Requirement already satisfied: tqdm in /usr/local/lib/python3.10/dist-packages (from torch_geometric) (4.66.1)\n",
            "Requirement already satisfied: numpy in /usr/local/lib/python3.10/dist-packages (from torch_geometric) (1.23.5)\n",
            "Requirement already satisfied: scipy in /usr/local/lib/python3.10/dist-packages (from torch_geometric) (1.11.4)\n",
            "Requirement already satisfied: jinja2 in /usr/local/lib/python3.10/dist-packages (from torch_geometric) (3.1.2)\n",
            "Requirement already satisfied: requests in /usr/local/lib/python3.10/dist-packages (from torch_geometric) (2.31.0)\n",
            "Requirement already satisfied: pyparsing in /usr/local/lib/python3.10/dist-packages (from torch_geometric) (3.1.1)\n",
            "Requirement already satisfied: scikit-learn in /usr/local/lib/python3.10/dist-packages (from torch_geometric) (1.2.2)\n",
            "Requirement already satisfied: psutil>=5.8.0 in /usr/local/lib/python3.10/dist-packages (from torch_geometric) (5.9.5)\n",
            "Requirement already satisfied: MarkupSafe>=2.0 in /usr/local/lib/python3.10/dist-packages (from jinja2->torch_geometric) (2.1.3)\n",
            "Requirement already satisfied: charset-normalizer<4,>=2 in /usr/local/lib/python3.10/dist-packages (from requests->torch_geometric) (3.3.2)\n",
            "Requirement already satisfied: idna<4,>=2.5 in /usr/local/lib/python3.10/dist-packages (from requests->torch_geometric) (3.6)\n",
            "Requirement already satisfied: urllib3<3,>=1.21.1 in /usr/local/lib/python3.10/dist-packages (from requests->torch_geometric) (2.0.7)\n",
            "Requirement already satisfied: certifi>=2017.4.17 in /usr/local/lib/python3.10/dist-packages (from requests->torch_geometric) (2023.11.17)\n",
            "Requirement already satisfied: joblib>=1.1.1 in /usr/local/lib/python3.10/dist-packages (from scikit-learn->torch_geometric) (1.3.2)\n",
            "Requirement already satisfied: threadpoolctl>=2.0.0 in /usr/local/lib/python3.10/dist-packages (from scikit-learn->torch_geometric) (3.2.0)\n"
          ]
        }
      ]
    },
    {
      "cell_type": "code",
      "source": [],
      "metadata": {
        "id": "voABv3-OugT7"
      },
      "execution_count": 210,
      "outputs": []
    },
    {
      "cell_type": "markdown",
      "source": [
        "\n",
        "## Paddin wih LSTM resource\n",
        "\n",
        "\n",
        "https://gist.github.com/HarshTrivedi/f4e7293e941b17d19058f6fb90ab0fec"
      ],
      "metadata": {
        "id": "gEq64gu2HOln"
      }
    },
    {
      "cell_type": "code",
      "source": [
        "import random\n",
        "import pandas as pd\n",
        "import numpy as np\n",
        "import networkx as nx\n",
        "import matplotlib.pyplot as plt;\n",
        "np.random.seed(42);\n",
        "from sklearn.metrics import roc_auc_score;\n",
        "import urllib.request\n",
        "from tqdm import tqdm\n",
        "from datetime import datetime\n",
        "\n",
        "import torch_geometric as pyg\n",
        "from torch_geometric.nn import GCNConv\n",
        "from torch_geometric.nn import SAGEConv, to_hetero ,LSTMAggregation\n",
        "import  torch.nn as nn\n",
        "import torch.nn.functional as F\n",
        "import torch\n",
        "from torch_geometric.loader import DataLoader\n",
        "import torch_geometric.transforms as T\n",
        "from torch_geometric.data import HeteroData,Data\n",
        "import torch\n",
        "from torch.nn.utils import clip_grad_norm_\n",
        "from torch.optim.lr_scheduler import ReduceLROnPlateau\n"
      ],
      "metadata": {
        "id": "HBdpHmYUuPhO"
      },
      "execution_count": 211,
      "outputs": []
    },
    {
      "cell_type": "code",
      "source": [
        "def time_difference(start_time):\n",
        "  \"\"\"\n",
        "  Calculates the time difference between the current time and a given starting time.\n",
        "\n",
        "  Args:\n",
        "    start_time: A datetime object representing the starting time.\n",
        "\n",
        "  Returns:\n",
        "    A timedelta object representing the time difference between the current time and the starting time.\n",
        "  \"\"\"\n",
        "\n",
        "  current_time = datetime.now()\n",
        "  time_diff = current_time - start_time\n",
        "  return time_diff.seconds /60\n",
        "\n"
      ],
      "metadata": {
        "id": "I7z7aoB5uaUp"
      },
      "execution_count": 212,
      "outputs": []
    },
    {
      "cell_type": "code",
      "execution_count": 213,
      "metadata": {
        "colab": {
          "base_uri": "https://localhost:8080/"
        },
        "id": "355D-dzRtMvL",
        "outputId": "5c83b511-9b60-45bd-f58b-191da2b77524"
      },
      "outputs": [
        {
          "output_type": "stream",
          "name": "stdout",
          "text": [
            "cpu\n"
          ]
        }
      ],
      "source": [
        "device = torch.device('cuda' if torch.cuda.is_available() else 'cpu')\n",
        "if device.type == 'cuda':\n",
        "  print(torch.cuda.device_count())\n",
        "  print(torch.cuda.get_device_name(0))\n",
        "else:\n",
        "  print(device.type)"
      ]
    },
    {
      "cell_type": "markdown",
      "source": [
        "# Configurations\n"
      ],
      "metadata": {
        "id": "XmzCkSquD72A"
      }
    },
    {
      "cell_type": "code",
      "source": [
        "batch_size = 5\n",
        "block_size = 10\n",
        "train_split = .85\n",
        "skill_embd_dim = 120\n",
        "num_epochs = 10\n",
        "num_LSTM_layers = 1\n",
        "hidden_size = 100\n",
        "\n",
        "out_channels=1"
      ],
      "metadata": {
        "id": "sUZrPaqTD6X9"
      },
      "execution_count": 698,
      "outputs": []
    },
    {
      "cell_type": "markdown",
      "source": [
        "# Read data"
      ],
      "metadata": {
        "id": "k2q9c2k8u2DP"
      }
    },
    {
      "cell_type": "code",
      "source": [
        "#df = pd.read_pickle('https://github.com/MadushanPathirana/msc-research/raw/main/adaptive%20learning/creating%20graph/working_model/dfUsers.pickle')\n",
        "#url_df=\"https://raw.githubusercontent.com/MadushanPathirana/msc-research/main/adaptive%20learning/creating%20graph/working_model/df_13.csv\"\n",
        "\n",
        "\n",
        "#df = pd.read_csv(url_df)\n",
        "df = pd.read_pickle('https://github.com/MadushanPathirana/msc-research/raw/main/adaptive%20learning/creating%20graph/working_model/dfUsers.pickle')\n",
        "\n",
        "users_to_drop = df.groupby('user_id')['interaction_end_time'].nunique()[df.groupby('user_id')['interaction_end_time'].nunique()<block_size+1].index.tolist()\n",
        "df= df[~df.user_id.isin( users_to_drop)]\n",
        "\n",
        "# Download the file locally\n",
        "url = 'https://github.com/MadushanPathirana/msc-research/raw/main/adaptive%20learning/creating%20graph/working_model/df2.pickle'\n",
        "urllib.request.urlretrieve(url, 'df2.pickle')\n",
        "\n",
        "# Load the local pickle file\n",
        "df2 = pd.read_pickle('df2.pickle')\n"
      ],
      "metadata": {
        "id": "xV9exDxJurdo"
      },
      "execution_count": 724,
      "outputs": []
    },
    {
      "cell_type": "code",
      "source": [
        "df.user_id.nunique()"
      ],
      "metadata": {
        "colab": {
          "base_uri": "https://localhost:8080/"
        },
        "id": "J3feYYHkp7Gf",
        "outputId": "9df7893d-ffe7-4223-b619-5431eea6af4b"
      },
      "execution_count": 725,
      "outputs": [
        {
          "output_type": "execute_result",
          "data": {
            "text/plain": [
              "312"
            ]
          },
          "metadata": {},
          "execution_count": 725
        }
      ]
    },
    {
      "cell_type": "markdown",
      "source": [
        "# Preprocessing data\n"
      ],
      "metadata": {
        "id": "DpFKPzWtZbIq"
      }
    },
    {
      "cell_type": "code",
      "source": [],
      "metadata": {
        "id": "ZKv30ybfZa1j"
      },
      "execution_count": 725,
      "outputs": []
    },
    {
      "cell_type": "code",
      "source": [
        "def preprocess_data(data):\n",
        "    \"\"\"\n",
        "    Pre-process data and pad to the maximum length.\n",
        "    \"\"\"\n",
        "    #features = ['loIndex', 'atomIndex','correctBinary']\n",
        "    features = ['loIndex','correctBinary']\n",
        "    seqs = data.groupby(['user_id']).apply(lambda x: x[features].values.tolist())\n",
        "    # ensure sequence is not too long\n",
        "    length = min(max(seqs.str.len()), block_size)\n",
        "    seqs = seqs.apply(lambda s: s[:length] + (length - min(len(s), length)) * [[-1000] * len(features)])\n",
        "    return seqs\n",
        "\n",
        "\n",
        "def process_dataframe(df,df2,loGraphID):\n",
        "  atom_index={atom_id:i for i,atom_id  in  enumerate(df.atom_id.unique())}\n",
        "\n",
        "  df['atomIndex']=df.atom_id.map(atom_index)\n",
        "  lo_map=pd.concat([df2[df2['graph_id']==loGraphID][['source_lo_title','source_index']].rename(columns={'source_lo_title':'learning_objective_name','source_index':'loIndex'}),\n",
        "                      df2[df2['graph_id']==loGraphID][['dest_lo_title','dest_index']].rename(columns={'dest_lo_title':'learning_objective_name','dest_index':'loIndex'})]).drop_duplicates().reset_index(drop=True)\n",
        "  #print(lo_map)\n",
        "  df3=df.merge(lo_map,on='learning_objective_name',how='left')\n",
        "  return df3\n",
        "\n",
        "def train_test_split(df):\n",
        "    \"\"\"\n",
        "    Performs a deterministic train-test split based on the tabular data provided.\n",
        "    Note that this function needs to be called twice to perform a train-val-test\n",
        "    split as desired.\n",
        "\n",
        "    Arguments:\n",
        "      - data: tabular KT dataset (pd.DataFrame)\n",
        "\n",
        "    Returns:\n",
        "      - data_train: training dataset\n",
        "      - data_val: validation/testing dataset\n",
        "    \"\"\"\n",
        "    loGraphID = df.loGraphID.unique()[0]\n",
        "    data= process_dataframe(df,df2,loGraphID)\n",
        "    np.random.seed(42)\n",
        "    data = data.set_index(['user_id', 'loIndex'])\n",
        "    idx = np.random.permutation(data.index.unique())\n",
        "    train_idx, test_idx = idx[:int(train_split * len(idx))], idx[int(train_split * len(idx)):]\n",
        "    data_train = data.loc[train_idx].reset_index()\n",
        "    data_val = data.loc[test_idx].reset_index()\n",
        "    return data_train, data_val\n",
        "\n",
        "def construct_batches(raw_data, epoch = 0, val = False):\n",
        "    \"\"\"\n",
        "    Construct batches based on tabular KT data with user_id, skill_id, and\n",
        "    correctness. Pads to the minimum of the maximum sequence length and the\n",
        "    block size of the transformer.\n",
        "    \"\"\"\n",
        "    np.random.seed(epoch)\n",
        "    user_ids = raw_data['user_id'].unique()\n",
        "\n",
        "    # Loop until one epoch of training.\n",
        "    for _ in range(len(user_ids) // batch_size):\n",
        "        user_idx = raw_data['user_id'].sample(batch_size).unique() if not val else user_ids[_ * (batch_size // 2): (_ + 1) * (batch_size // 2)]\n",
        "        filtered_data = raw_data[raw_data['user_id'].isin(user_idx)].sort_values(['user_id', 'interaction_end_time'])\n",
        "        batch_preprocessed = preprocess_data(filtered_data)\n",
        "        batch = np.array(batch_preprocessed.to_list())\n",
        "\n",
        "\n",
        "        X = torch.tensor(batch[:, :, ..., :], requires_grad=True, dtype=torch.float32).to(device)\n",
        "        y = torch.tensor(batch[:, :, ..., [-1]], requires_grad=True, dtype=torch.float32).to(device)\n",
        "        #print(X.shape,y.shape)\n",
        "        for i in range(X.shape[1] // block_size + 1):\n",
        "            #print(X[:, i * block_size: (i + 1) * block_size].shape)\n",
        "            if X[:, i * block_size: (i + 1) * block_size].shape[1] > 0:\n",
        "                yield [X[:, i * block_size: (i + 1) * block_size], y[:, i * block_size: (i + 1) * block_size]]\n",
        "\n",
        "def create_graph(df2,loGraphID):\n",
        "\n",
        "  lo_edges = df2[df2['graph_id']==loGraphID][['source_index','dest_index']].values.transpose()\n",
        "\n",
        "  lo_edges = torch.from_numpy(lo_edges).long().to(device)\n",
        "\n",
        "  graph = Data(edge_index=lo_edges)\n",
        "\n",
        "\n",
        "  return graph\n"
      ],
      "metadata": {
        "id": "uOFXH_BHCp0Z"
      },
      "execution_count": 726,
      "outputs": []
    },
    {
      "cell_type": "code",
      "source": [],
      "metadata": {
        "id": "mlguSqPpJKn7"
      },
      "execution_count": 726,
      "outputs": []
    },
    {
      "cell_type": "markdown",
      "source": [
        "# GNN Models\n"
      ],
      "metadata": {
        "id": "TirgJqlSgg22"
      }
    },
    {
      "cell_type": "code",
      "source": [
        "class GraphSAGE(torch.nn.Module):\n",
        "    def __init__(self, num_skills, num_layers = 3, hidden_dim = skill_embd_dim):\n",
        "        \"\"\"\n",
        "        Represents a GraphSAGE graph neural network with num_layers\n",
        "        layers and embedding and hidden dimension of hidden_dim.\n",
        "        \"\"\"\n",
        "        super().__init__()\n",
        "        self.tag = 'GraphSAGE'\n",
        "        self.pre_embs = nn.Embedding(num_skills, hidden_dim)\n",
        "        self.conv1 = SAGEConv(hidden_dim, hidden_dim)\n",
        "        self.prelu1 = nn.PReLU()\n",
        "        self.conv2 = SAGEConv(hidden_dim, hidden_dim)\n",
        "        self.prelu2 = nn.PReLU()\n",
        "        #self.conv3 = SAGEConv(hidden_dim, hidden_dim)\n",
        "        #self.prelu3 = nn.PReLU()\n",
        "        self.out = nn.Linear(hidden_dim, hidden_dim)\n",
        "        self.dropout = nn.Dropout(0.6)\n",
        "\n",
        "    def forward(self, x, edge_index):\n",
        "        \"\"\"\n",
        "        Runs a forward pass through GraphSAGE with given initial skill IDs and\n",
        "        edge_index and edge_weights.\n",
        "\n",
        "        Arguments:\n",
        "          - x: skill IDs (torch.Tensor)\n",
        "          - edge_index: edges in skill graph (torch.Tensor)\n",
        "          - edge_weight: edge weights of skill graph (torch.Tensor)\n",
        "\n",
        "        Returns:\n",
        "          - final node embedding for skill\n",
        "        \"\"\"\n",
        "        h0 = self.pre_embs(x) # initial skill embedding\n",
        "        h1 = self.dropout(self.prelu1(self.conv1(h0, edge_index)))\n",
        "        h2 = self.dropout(self.prelu2(self.conv2(h1, edge_index)))\n",
        "        #h3 = self.prelu3(self.conv3(h2, edge_index))\n",
        "        return self.dropout(self.out(h2))"
      ],
      "metadata": {
        "id": "_iTzz_VCgdqc"
      },
      "execution_count": 727,
      "outputs": []
    },
    {
      "cell_type": "markdown",
      "source": [
        "# LSTM Model"
      ],
      "metadata": {
        "id": "1SxrsX-rhkDt"
      }
    },
    {
      "cell_type": "code",
      "source": [],
      "metadata": {
        "id": "1duzFU2yiNLv"
      },
      "execution_count": 727,
      "outputs": []
    },
    {
      "cell_type": "code",
      "source": [
        "\n",
        "\n",
        "\n",
        "class LSTM(nn.Module):\n",
        "\n",
        "    def __init__(self ):\n",
        "        super().__init__()\n",
        "        self.num_layers = num_LSTM_layers # number of recurrent layers in the lstm\n",
        "        self.input_size = skill_embd_dim # input size\n",
        "        self.hidden_size = hidden_size # neurons in each lstm layer\n",
        "        self.sigmoid=nn.Sigmoid()\n",
        "\n",
        "        self.lstm = nn.LSTM(\n",
        "            input_size=self.input_size ,\n",
        "            hidden_size=self.hidden_size,\n",
        "            num_layers=self.num_layers,\n",
        "            batch_first=True,\n",
        "        )\n",
        "        self.fc = nn.Linear(hidden_size, 1)\n",
        "\n",
        "\n",
        "    def forward(self,x):\n",
        "        #print(x.shape)\n",
        "        h0 = torch.zeros(self.lstm.num_layers, x.size(0), self.hidden_size).requires_grad_().to(device)\n",
        "        # Initialize long-term memory\n",
        "        c0 = torch.zeros(self.lstm.num_layers, x.size(0), self.hidden_size).requires_grad_().to(device)\n",
        "        # Pass all inputs to lstm layer\n",
        "        out, (hn0, cn0) = self.lstm(x, (h0, c0))\n",
        "        #print(out.shape)\n",
        "        out = self.sigmoid( self.fc(out))\n",
        "        #out = self.sigmoid( self.fc(hn0))\n",
        "        return out"
      ],
      "metadata": {
        "id": "MTY58HhZhoNV"
      },
      "execution_count": 728,
      "outputs": []
    },
    {
      "cell_type": "markdown",
      "source": [
        "# Classifier"
      ],
      "metadata": {
        "id": "D9XC0e08PtBB"
      }
    },
    {
      "cell_type": "code",
      "source": [
        "class Classifer(nn.Module):\n",
        "  def __init__(self,num_skills):\n",
        "    super().__init__()\n",
        "    self.num_skills=num_skills\n",
        "    self.LSTM = LSTM()\n",
        "    self.gnn = GraphSAGE(self.num_skills)\n",
        "\n",
        "  def forward(self,skill_grpah ,X ):\n",
        "    all_skill_embd  = self.gnn(torch.arange(self.num_skills).to(device), skill_grpah.edge_index)\n",
        "\n",
        "    skill_embd = all_skill_embd[torch.where(X[..., 0] == -1000, 0 , X[..., 0]).long()]\n",
        "    skill_embd[X[..., 0] == -1000] = 0\n",
        "    #print(skill_embd.shape)\n",
        "    out =  self.LSTM(skill_embd)\n",
        "\n",
        "    return out\n",
        "\n"
      ],
      "metadata": {
        "id": "at7TMVOmPwD1"
      },
      "execution_count": 729,
      "outputs": []
    },
    {
      "cell_type": "code",
      "source": [
        "#train,test= train_test_split(df)"
      ],
      "metadata": {
        "id": "O5jj6VYNaEkQ"
      },
      "execution_count": 730,
      "outputs": []
    },
    {
      "cell_type": "code",
      "source": [
        "#train.shape , test.shape"
      ],
      "metadata": {
        "id": "RdYQh2j5aibH"
      },
      "execution_count": 731,
      "outputs": []
    },
    {
      "cell_type": "code",
      "source": [
        "#XY = list(construct_batches(test))"
      ],
      "metadata": {
        "id": "fu015YImaMr7"
      },
      "execution_count": 732,
      "outputs": []
    },
    {
      "cell_type": "code",
      "source": [
        "#emb=nn.Embedding(31,3)"
      ],
      "metadata": {
        "id": "gT0vta_WeMw_"
      },
      "execution_count": 733,
      "outputs": []
    },
    {
      "cell_type": "code",
      "source": [
        "#y=XY[1][1]\n",
        "#X=XY[1][0]\n",
        "#mask=y[..., -1] != -1000"
      ],
      "metadata": {
        "id": "o_Z8_UQyaVWh"
      },
      "execution_count": 734,
      "outputs": []
    },
    {
      "cell_type": "code",
      "source": [
        "#mask"
      ],
      "metadata": {
        "id": "iFoITjCLflb0"
      },
      "execution_count": 735,
      "outputs": []
    },
    {
      "cell_type": "code",
      "source": [],
      "metadata": {
        "id": "IFXYt2rGdsTb"
      },
      "execution_count": 735,
      "outputs": []
    },
    {
      "cell_type": "code",
      "source": [
        "#X[..., 0] == -1000"
      ],
      "metadata": {
        "id": "QHiEyFIGgUqV"
      },
      "execution_count": 736,
      "outputs": []
    },
    {
      "cell_type": "code",
      "source": [
        "#X"
      ],
      "metadata": {
        "id": "gOWqx6rzhkJK"
      },
      "execution_count": 737,
      "outputs": []
    },
    {
      "cell_type": "code",
      "source": [
        "#emd_test=emb(torch.where(X[..., 0] == -1000, 0 , X[..., 0]).long())"
      ],
      "metadata": {
        "id": "JIJ2t_Sid6OO"
      },
      "execution_count": 738,
      "outputs": []
    },
    {
      "cell_type": "code",
      "source": [
        "#emd_test[X[..., 0] == -1000] =0"
      ],
      "metadata": {
        "id": "7QQ-HIp6iC8C"
      },
      "execution_count": 739,
      "outputs": []
    },
    {
      "cell_type": "code",
      "source": [
        "#emd_test"
      ],
      "metadata": {
        "id": "rbPKckiZiypO"
      },
      "execution_count": 740,
      "outputs": []
    },
    {
      "cell_type": "code",
      "source": [
        "#emd_test"
      ],
      "metadata": {
        "id": "gqu6Ztupg46C"
      },
      "execution_count": 741,
      "outputs": []
    },
    {
      "cell_type": "code",
      "source": [
        "\n",
        "\n",
        "def init_model(loGraphID,num_skills):\n",
        "\n",
        "  model = Classifer(num_skills)\n",
        "  model.to(device)\n",
        "  data_train, data_test = train_test_split(df)\n",
        "  skill_grpah =  create_graph(df2,loGraphID)\n",
        "  skill_grpah.to(device)\n",
        "  lr = 0.0001\n",
        "  wd = 5e-5\n",
        "  optimizer=torch.optim.Adam(model.parameters(),lr=lr,weight_decay=wd)\n",
        "\n",
        "  return model, data_train , data_test , skill_grpah , optimizer\n",
        "\n"
      ],
      "metadata": {
        "id": "wARpuDS5hgSr"
      },
      "execution_count": 742,
      "outputs": []
    },
    {
      "cell_type": "markdown",
      "source": [
        "# Train and Test"
      ],
      "metadata": {
        "id": "0q52Qq7UnP8s"
      }
    },
    {
      "cell_type": "code",
      "source": [
        "def model_perfomance(model,outputs, ytrue,y ):\n",
        "\n",
        "  model.eval()\n",
        "  mask = y[..., -1] != -1000\n",
        "  accuracy = np.mean(np.round(outputs)==ytrue)\n",
        "\n",
        "\n",
        "\n",
        "  roc_auc = roc_auc_score(ytrue, outputs)\n",
        "  return accuracy ,roc_auc"
      ],
      "metadata": {
        "id": "5YIKkyMYcQ5P"
      },
      "execution_count": 761,
      "outputs": []
    },
    {
      "cell_type": "code",
      "source": [
        "def test(model,data_test,skill_grpah,epoch,optimizer):\n",
        "  model.eval()\n",
        "  with torch.no_grad():\n",
        "    losses=[]\n",
        "    batches_train = construct_batches(data_test,epoch = epoch,val = True)\n",
        "    pbar = iter(batches_train)\n",
        "    outputs= []\n",
        "    ytrue = []\n",
        "    for X, y in pbar:\n",
        "\n",
        "\n",
        "      optimizer.zero_grad()\n",
        "      output = model(skill_grpah,X)\n",
        "      mask = y[..., -1] != -1000\n",
        "\n",
        "\n",
        "      loss=F.binary_cross_entropy(output[mask], y[..., -1:][mask])\n",
        "\n",
        "      outputs.extend(output[mask].ravel().detach().tolist())\n",
        "      ytrue.extend(y[..., -1:][mask].ravel().detach().tolist())\n",
        "      losses.append(loss.item())\n",
        "    accuracy ,roc_auc = model_perfomance(model , outputs, ytrue,y)\n",
        "    print(f'Test -> loss : {np.mean(losses) :.5f} , accuracy : {accuracy : .2%} , roc_auc {roc_auc : .2%} \\n')\n",
        "\n",
        "    return np.mean(losses) ,accuracy ,roc_auc"
      ],
      "metadata": {
        "id": "WKLS4OS_ebeP"
      },
      "execution_count": 765,
      "outputs": []
    },
    {
      "cell_type": "code",
      "source": [
        "def results(train_losses,test_losses,train_accuracy,test_accuracy,train_roc_auc,test_roc_auc):\n",
        "  fig,axs=plt.subplots(1,3,figsize=(15,7))\n",
        "  axs[0].plot(train_losses, label = 'train')\n",
        "  axs[0].plot(test_losses, label = 'test')\n",
        "  axs[0].set_ylabel('loss')\n",
        "  axs[0].legend()\n",
        "  axs[0].grid()\n",
        "\n",
        "  axs[1].plot(train_accuracy, label = 'train')\n",
        "  axs[1].plot(test_accuracy, label = 'test')\n",
        "  axs[1].set_ylabel('accuracy')\n",
        "  axs[1].legend()\n",
        "  axs[1].grid()\n",
        "\n",
        "  axs[2].plot(train_roc_auc, label = 'train')\n",
        "  axs[2].plot(test_roc_auc, label = 'test')\n",
        "  axs[2].set_ylabel('roc_auc')\n",
        "  axs[2].legend()\n",
        "  axs[2].grid()\n",
        "\n",
        "  plt.tight_layout()\n",
        "\n"
      ],
      "metadata": {
        "id": "TNpAx5_DrsAR"
      },
      "execution_count": 766,
      "outputs": []
    },
    {
      "cell_type": "code",
      "source": [
        "\n",
        "def train(epoches):\n",
        "  num_skills = df.learning_objective_name.nunique()\n",
        "  print(num_skills)\n",
        "  graph_id = df.loGraphID.unique()[0]\n",
        "  model, data_train , data_test , skill_grpah , optimizer =  init_model(graph_id,num_skills)\n",
        "  print(skill_grpah)\n",
        "  train_losses =[]\n",
        "  test_losses = []\n",
        "\n",
        "  train_accuracy = []\n",
        "  test_accuracy = []\n",
        "\n",
        "  train_roc_auc = []\n",
        "  test_roc_auc = []\n",
        "\n",
        "  for epoch in range(epoches):\n",
        "    model.train()\n",
        "    losses=[]\n",
        "    batches_train = construct_batches(data_train,epoch = epoch)\n",
        "    pbar = iter(batches_train)\n",
        "    outputs= []\n",
        "    ytrue = []\n",
        "\n",
        "    for X, y in pbar:\n",
        "      #print(X.shape,y.shape)\n",
        "\n",
        "      optimizer.zero_grad()\n",
        "      output = model(skill_grpah,X)\n",
        "      mask = y[..., -1] != -1000\n",
        "\n",
        "\n",
        "      loss=F.binary_cross_entropy(output[mask], y[..., -1:][mask])\n",
        "\n",
        "      loss.backward()\n",
        "      optimizer.step()\n",
        "      losses.append(loss.item())\n",
        "      outputs.extend(output[mask].ravel().detach().tolist())\n",
        "      ytrue.extend(y[..., -1:][mask].ravel().detach().tolist())\n",
        "\n",
        "    train_acc ,train_roc_acu_score = model_perfomance(model , outputs, ytrue,y)\n",
        "    train_loss = np.mean(losses)\n",
        "    print(f'epoch : {epoch} , loss : {np.mean(losses) :.5f} , accuracy : {train_acc : .2%} , roc_acu {train_roc_acu_score :.2%}')\n",
        "    test_loss, test_acc,test_roc_auc_score =test(model,data_test,skill_grpah,epoch,optimizer)\n",
        "\n",
        "    train_losses.append(train_loss)\n",
        "    test_losses.append(test_loss)\n",
        "\n",
        "    train_accuracy.append(train_acc)\n",
        "    test_accuracy.append(test_acc)\n",
        "\n",
        "    train_roc_auc.append(train_roc_acu_score)\n",
        "    test_roc_auc.append(test_roc_auc_score)\n",
        "\n",
        "  results(train_losses, test_losses,\n",
        "          train_accuracy, test_accuracy,\n",
        "          train_roc_auc,test_roc_auc)\n",
        "\n"
      ],
      "metadata": {
        "id": "q-MibPdBj5sJ"
      },
      "execution_count": 767,
      "outputs": []
    },
    {
      "cell_type": "markdown",
      "source": [
        "# Results"
      ],
      "metadata": {
        "id": "uS_xgaM7lxPS"
      }
    },
    {
      "cell_type": "code",
      "source": [
        "train(100)"
      ],
      "metadata": {
        "colab": {
          "base_uri": "https://localhost:8080/",
          "height": 1000
        },
        "id": "xDTW3Iq28gaz",
        "outputId": "b9f24c1b-da37-4110-f78b-8b02420f0d39"
      },
      "execution_count": 770,
      "outputs": [
        {
          "output_type": "stream",
          "name": "stdout",
          "text": [
            "31\n",
            "Data(edge_index=[2, 41])\n",
            "epoch : 0 , loss : 0.65914 , accuracy :  71.92% , roc_acu 53.60%\n",
            "Test -> loss : 0.67900 , accuracy :  56.78% , roc_auc  56.04% \n",
            "\n",
            "epoch : 1 , loss : 0.62181 , accuracy :  71.22% , roc_acu 59.96%\n",
            "Test -> loss : 0.67276 , accuracy :  56.78% , roc_auc  58.05% \n",
            "\n",
            "epoch : 2 , loss : 0.59279 , accuracy :  70.65% , roc_acu 62.41%\n",
            "Test -> loss : 0.66880 , accuracy :  58.73% , roc_auc  59.04% \n",
            "\n",
            "epoch : 3 , loss : 0.55593 , accuracy :  72.81% , roc_acu 65.92%\n",
            "Test -> loss : 0.66588 , accuracy :  58.73% , roc_auc  59.55% \n",
            "\n",
            "epoch : 4 , loss : 0.56333 , accuracy :  70.93% , roc_acu 67.10%\n",
            "Test -> loss : 0.66343 , accuracy :  58.21% , roc_auc  59.71% \n",
            "\n",
            "epoch : 5 , loss : 0.54096 , accuracy :  72.91% , roc_acu 69.18%\n",
            "Test -> loss : 0.66122 , accuracy :  57.19% , roc_auc  59.85% \n",
            "\n",
            "epoch : 6 , loss : 0.52686 , accuracy :  72.54% , roc_acu 70.66%\n",
            "Test -> loss : 0.66293 , accuracy :  57.39% , roc_auc  59.67% \n",
            "\n",
            "epoch : 7 , loss : 0.53997 , accuracy :  72.53% , roc_acu 68.71%\n",
            "Test -> loss : 0.65838 , accuracy :  56.67% , roc_auc  59.82% \n",
            "\n",
            "epoch : 8 , loss : 0.55330 , accuracy :  71.99% , roc_acu 68.80%\n",
            "Test -> loss : 0.65626 , accuracy :  56.57% , roc_auc  59.95% \n",
            "\n",
            "epoch : 9 , loss : 0.57876 , accuracy :  69.58% , roc_acu 66.43%\n",
            "Test -> loss : 0.65427 , accuracy :  58.01% , roc_auc  59.73% \n",
            "\n",
            "epoch : 10 , loss : 0.55657 , accuracy :  70.59% , roc_acu 68.02%\n",
            "Test -> loss : 0.65637 , accuracy :  58.11% , roc_auc  59.80% \n",
            "\n",
            "epoch : 11 , loss : 0.53975 , accuracy :  72.97% , roc_acu 69.26%\n",
            "Test -> loss : 0.65877 , accuracy :  58.32% , roc_auc  60.13% \n",
            "\n",
            "epoch : 12 , loss : 0.53336 , accuracy :  74.46% , roc_acu 68.59%\n",
            "Test -> loss : 0.65763 , accuracy :  58.11% , roc_auc  60.01% \n",
            "\n",
            "epoch : 13 , loss : 0.51032 , accuracy :  74.89% , roc_acu 70.61%\n",
            "Test -> loss : 0.66016 , accuracy :  58.32% , roc_auc  60.12% \n",
            "\n",
            "epoch : 14 , loss : 0.51841 , accuracy :  74.13% , roc_acu 72.41%\n",
            "Test -> loss : 0.65827 , accuracy :  58.32% , roc_auc  60.11% \n",
            "\n",
            "epoch : 15 , loss : 0.53854 , accuracy :  72.16% , roc_acu 70.80%\n",
            "Test -> loss : 0.65513 , accuracy :  58.01% , roc_auc  60.12% \n",
            "\n",
            "epoch : 16 , loss : 0.55514 , accuracy :  70.55% , roc_acu 69.53%\n",
            "Test -> loss : 0.65286 , accuracy :  58.11% , roc_auc  60.29% \n",
            "\n",
            "epoch : 17 , loss : 0.52446 , accuracy :  73.75% , roc_acu 70.06%\n",
            "Test -> loss : 0.65362 , accuracy :  58.42% , roc_auc  60.38% \n",
            "\n",
            "epoch : 18 , loss : 0.53942 , accuracy :  72.55% , roc_acu 68.94%\n",
            "Test -> loss : 0.65374 , accuracy :  58.83% , roc_auc  60.29% \n",
            "\n",
            "epoch : 19 , loss : 0.53911 , accuracy :  72.28% , roc_acu 70.60%\n",
            "Test -> loss : 0.65171 , accuracy :  57.60% , roc_auc  60.22% \n",
            "\n",
            "epoch : 20 , loss : 0.53750 , accuracy :  72.67% , roc_acu 70.42%\n",
            "Test -> loss : 0.65210 , accuracy :  57.70% , roc_auc  60.16% \n",
            "\n",
            "epoch : 21 , loss : 0.52474 , accuracy :  73.57% , roc_acu 71.71%\n",
            "Test -> loss : 0.65535 , accuracy :  57.60% , roc_auc  60.36% \n",
            "\n",
            "epoch : 22 , loss : 0.54347 , accuracy :  72.57% , roc_acu 69.86%\n",
            "Test -> loss : 0.65161 , accuracy :  57.70% , roc_auc  60.50% \n",
            "\n",
            "epoch : 23 , loss : 0.53745 , accuracy :  71.84% , roc_acu 71.18%\n",
            "Test -> loss : 0.65265 , accuracy :  57.60% , roc_auc  60.38% \n",
            "\n",
            "epoch : 24 , loss : 0.52448 , accuracy :  74.84% , roc_acu 69.35%\n",
            "Test -> loss : 0.65250 , accuracy :  58.11% , roc_auc  60.33% \n",
            "\n",
            "epoch : 25 , loss : 0.53334 , accuracy :  73.97% , roc_acu 70.85%\n",
            "Test -> loss : 0.65291 , accuracy :  58.11% , roc_auc  60.35% \n",
            "\n",
            "epoch : 26 , loss : 0.54897 , accuracy :  72.41% , roc_acu 69.38%\n",
            "Test -> loss : 0.65201 , accuracy :  57.49% , roc_auc  60.41% \n",
            "\n",
            "epoch : 27 , loss : 0.53948 , accuracy :  72.67% , roc_acu 69.66%\n",
            "Test -> loss : 0.65225 , accuracy :  57.60% , roc_auc  60.64% \n",
            "\n",
            "epoch : 28 , loss : 0.53305 , accuracy :  72.86% , roc_acu 71.01%\n",
            "Test -> loss : 0.65221 , accuracy :  57.39% , roc_auc  60.41% \n",
            "\n",
            "epoch : 29 , loss : 0.53976 , accuracy :  71.95% , roc_acu 69.93%\n",
            "Test -> loss : 0.65239 , accuracy :  57.49% , roc_auc  60.59% \n",
            "\n",
            "epoch : 30 , loss : 0.52832 , accuracy :  73.49% , roc_acu 71.23%\n",
            "Test -> loss : 0.65394 , accuracy :  57.70% , roc_auc  60.63% \n",
            "\n",
            "epoch : 31 , loss : 0.51852 , accuracy :  73.67% , roc_acu 70.48%\n",
            "Test -> loss : 0.65293 , accuracy :  58.21% , roc_auc  60.61% \n",
            "\n",
            "epoch : 32 , loss : 0.53538 , accuracy :  72.96% , roc_acu 70.86%\n",
            "Test -> loss : 0.65300 , accuracy :  57.70% , roc_auc  60.62% \n",
            "\n",
            "epoch : 33 , loss : 0.53207 , accuracy :  73.01% , roc_acu 70.62%\n",
            "Test -> loss : 0.65295 , accuracy :  58.21% , roc_auc  60.66% \n",
            "\n",
            "epoch : 34 , loss : 0.52738 , accuracy :  74.54% , roc_acu 70.21%\n",
            "Test -> loss : 0.65280 , accuracy :  57.70% , roc_auc  60.72% \n",
            "\n",
            "epoch : 35 , loss : 0.51471 , accuracy :  75.11% , roc_acu 69.71%\n",
            "Test -> loss : 0.65481 , accuracy :  58.21% , roc_auc  60.98% \n",
            "\n",
            "epoch : 36 , loss : 0.53383 , accuracy :  72.94% , roc_acu 70.88%\n",
            "Test -> loss : 0.65245 , accuracy :  57.70% , roc_auc  60.82% \n",
            "\n",
            "epoch : 37 , loss : 0.53542 , accuracy :  72.86% , roc_acu 70.49%\n",
            "Test -> loss : 0.65182 , accuracy :  57.80% , roc_auc  60.78% \n",
            "\n",
            "epoch : 38 , loss : 0.54594 , accuracy :  73.04% , roc_acu 68.37%\n",
            "Test -> loss : 0.65136 , accuracy :  57.49% , roc_auc  60.95% \n",
            "\n",
            "epoch : 39 , loss : 0.54009 , accuracy :  72.52% , roc_acu 69.19%\n",
            "Test -> loss : 0.65227 , accuracy :  57.91% , roc_auc  60.95% \n",
            "\n",
            "epoch : 40 , loss : 0.54208 , accuracy :  71.86% , roc_acu 70.30%\n",
            "Test -> loss : 0.65152 , accuracy :  57.80% , roc_auc  60.94% \n",
            "\n",
            "epoch : 41 , loss : 0.53418 , accuracy :  73.05% , roc_acu 71.48%\n",
            "Test -> loss : 0.65290 , accuracy :  57.80% , roc_auc  61.05% \n",
            "\n",
            "epoch : 42 , loss : 0.53420 , accuracy :  73.00% , roc_acu 70.81%\n",
            "Test -> loss : 0.65370 , accuracy :  57.60% , roc_auc  61.08% \n",
            "\n",
            "epoch : 43 , loss : 0.54188 , accuracy :  72.31% , roc_acu 71.39%\n",
            "Test -> loss : 0.65353 , accuracy :  57.91% , roc_auc  61.04% \n",
            "\n",
            "epoch : 44 , loss : 0.52431 , accuracy :  72.51% , roc_acu 72.73%\n",
            "Test -> loss : 0.65461 , accuracy :  58.42% , roc_auc  61.01% \n",
            "\n",
            "epoch : 45 , loss : 0.52185 , accuracy :  73.80% , roc_acu 70.97%\n",
            "Test -> loss : 0.65350 , accuracy :  58.01% , roc_auc  61.21% \n",
            "\n",
            "epoch : 46 , loss : 0.51974 , accuracy :  74.23% , roc_acu 71.09%\n",
            "Test -> loss : 0.65491 , accuracy :  57.80% , roc_auc  61.17% \n",
            "\n",
            "epoch : 47 , loss : 0.55194 , accuracy :  72.41% , roc_acu 68.99%\n",
            "Test -> loss : 0.65403 , accuracy :  57.80% , roc_auc  61.20% \n",
            "\n",
            "epoch : 48 , loss : 0.53168 , accuracy :  73.03% , roc_acu 71.55%\n",
            "Test -> loss : 0.65434 , accuracy :  57.70% , roc_auc  61.11% \n",
            "\n",
            "epoch : 49 , loss : 0.52507 , accuracy :  73.70% , roc_acu 71.46%\n",
            "Test -> loss : 0.65432 , accuracy :  57.91% , roc_auc  61.20% \n",
            "\n",
            "epoch : 50 , loss : 0.53919 , accuracy :  72.40% , roc_acu 70.57%\n",
            "Test -> loss : 0.65326 , accuracy :  57.70% , roc_auc  61.21% \n",
            "\n",
            "epoch : 51 , loss : 0.54365 , accuracy :  72.23% , roc_acu 70.15%\n",
            "Test -> loss : 0.65171 , accuracy :  58.42% , roc_auc  61.17% \n",
            "\n",
            "epoch : 52 , loss : 0.52069 , accuracy :  75.44% , roc_acu 70.53%\n",
            "Test -> loss : 0.65386 , accuracy :  57.91% , roc_auc  61.17% \n",
            "\n",
            "epoch : 53 , loss : 0.52451 , accuracy :  74.69% , roc_acu 71.54%\n",
            "Test -> loss : 0.65408 , accuracy :  58.42% , roc_auc  61.14% \n",
            "\n",
            "epoch : 54 , loss : 0.52110 , accuracy :  74.79% , roc_acu 72.94%\n",
            "Test -> loss : 0.65475 , accuracy :  58.01% , roc_auc  61.08% \n",
            "\n",
            "epoch : 55 , loss : 0.51078 , accuracy :  75.13% , roc_acu 72.79%\n",
            "Test -> loss : 0.65627 , accuracy :  58.21% , roc_auc  61.07% \n",
            "\n",
            "epoch : 56 , loss : 0.52057 , accuracy :  74.22% , roc_acu 69.90%\n",
            "Test -> loss : 0.65599 , accuracy :  58.11% , roc_auc  61.30% \n",
            "\n",
            "epoch : 57 , loss : 0.51739 , accuracy :  74.36% , roc_acu 71.34%\n",
            "Test -> loss : 0.65544 , accuracy :  58.01% , roc_auc  61.38% \n",
            "\n",
            "epoch : 58 , loss : 0.52358 , accuracy :  73.68% , roc_acu 71.58%\n",
            "Test -> loss : 0.65490 , accuracy :  58.21% , roc_auc  61.31% \n",
            "\n",
            "epoch : 59 , loss : 0.50761 , accuracy :  76.03% , roc_acu 72.11%\n",
            "Test -> loss : 0.65676 , accuracy :  58.11% , roc_auc  61.41% \n",
            "\n",
            "epoch : 60 , loss : 0.52173 , accuracy :  74.75% , roc_acu 70.32%\n",
            "Test -> loss : 0.65711 , accuracy :  58.11% , roc_auc  61.61% \n",
            "\n",
            "epoch : 61 , loss : 0.51743 , accuracy :  74.30% , roc_acu 71.39%\n",
            "Test -> loss : 0.65782 , accuracy :  58.01% , roc_auc  61.62% \n",
            "\n",
            "epoch : 62 , loss : 0.52610 , accuracy :  74.42% , roc_acu 71.40%\n",
            "Test -> loss : 0.65578 , accuracy :  57.91% , roc_auc  61.69% \n",
            "\n",
            "epoch : 63 , loss : 0.51852 , accuracy :  74.64% , roc_acu 71.48%\n",
            "Test -> loss : 0.65657 , accuracy :  57.80% , roc_auc  61.56% \n",
            "\n",
            "epoch : 64 , loss : 0.52815 , accuracy :  73.31% , roc_acu 70.97%\n",
            "Test -> loss : 0.65571 , accuracy :  57.80% , roc_auc  61.13% \n",
            "\n",
            "epoch : 65 , loss : 0.51564 , accuracy :  74.67% , roc_acu 72.74%\n",
            "Test -> loss : 0.65495 , accuracy :  58.01% , roc_auc  61.15% \n",
            "\n",
            "epoch : 66 , loss : 0.50847 , accuracy :  75.37% , roc_acu 73.01%\n",
            "Test -> loss : 0.65584 , accuracy :  57.91% , roc_auc  61.11% \n",
            "\n",
            "epoch : 67 , loss : 0.51754 , accuracy :  75.77% , roc_acu 69.86%\n",
            "Test -> loss : 0.65703 , accuracy :  57.80% , roc_auc  61.20% \n",
            "\n",
            "epoch : 68 , loss : 0.53135 , accuracy :  73.34% , roc_acu 72.24%\n",
            "Test -> loss : 0.65565 , accuracy :  58.21% , roc_auc  61.29% \n",
            "\n",
            "epoch : 69 , loss : 0.52821 , accuracy :  74.79% , roc_acu 70.40%\n",
            "Test -> loss : 0.65459 , accuracy :  58.32% , roc_auc  61.27% \n",
            "\n",
            "epoch : 70 , loss : 0.50898 , accuracy :  75.81% , roc_acu 72.28%\n",
            "Test -> loss : 0.65660 , accuracy :  58.21% , roc_auc  61.24% \n",
            "\n",
            "epoch : 71 , loss : 0.52213 , accuracy :  73.70% , roc_acu 72.23%\n",
            "Test -> loss : 0.65388 , accuracy :  58.21% , roc_auc  61.11% \n",
            "\n",
            "epoch : 72 , loss : 0.52989 , accuracy :  75.10% , roc_acu 69.17%\n",
            "Test -> loss : 0.65371 , accuracy :  58.01% , roc_auc  61.15% \n",
            "\n",
            "epoch : 73 , loss : 0.54438 , accuracy :  73.51% , roc_acu 70.70%\n",
            "Test -> loss : 0.65339 , accuracy :  58.21% , roc_auc  61.31% \n",
            "\n",
            "epoch : 74 , loss : 0.52791 , accuracy :  74.14% , roc_acu 70.48%\n",
            "Test -> loss : 0.65477 , accuracy :  58.21% , roc_auc  61.25% \n",
            "\n",
            "epoch : 75 , loss : 0.52222 , accuracy :  74.90% , roc_acu 71.97%\n",
            "Test -> loss : 0.65573 , accuracy :  58.21% , roc_auc  61.13% \n",
            "\n",
            "epoch : 76 , loss : 0.52554 , accuracy :  74.33% , roc_acu 69.93%\n",
            "Test -> loss : 0.65536 , accuracy :  58.32% , roc_auc  61.17% \n",
            "\n",
            "epoch : 77 , loss : 0.53004 , accuracy :  73.55% , roc_acu 71.63%\n",
            "Test -> loss : 0.65557 , accuracy :  58.21% , roc_auc  61.10% \n",
            "\n",
            "epoch : 78 , loss : 0.54804 , accuracy :  72.27% , roc_acu 71.11%\n",
            "Test -> loss : 0.65437 , accuracy :  58.11% , roc_auc  61.15% \n",
            "\n",
            "epoch : 79 , loss : 0.52882 , accuracy :  74.44% , roc_acu 71.03%\n",
            "Test -> loss : 0.65530 , accuracy :  58.21% , roc_auc  61.13% \n",
            "\n",
            "epoch : 80 , loss : 0.53267 , accuracy :  73.79% , roc_acu 71.28%\n",
            "Test -> loss : 0.65570 , accuracy :  58.11% , roc_auc  61.11% \n",
            "\n",
            "epoch : 81 , loss : 0.52974 , accuracy :  74.05% , roc_acu 70.89%\n",
            "Test -> loss : 0.65633 , accuracy :  58.21% , roc_auc  61.15% \n",
            "\n",
            "epoch : 82 , loss : 0.52525 , accuracy :  74.19% , roc_acu 71.22%\n",
            "Test -> loss : 0.65702 , accuracy :  58.01% , roc_auc  61.00% \n",
            "\n",
            "epoch : 83 , loss : 0.51359 , accuracy :  75.65% , roc_acu 71.35%\n",
            "Test -> loss : 0.65854 , accuracy :  57.70% , roc_auc  61.17% \n",
            "\n",
            "epoch : 84 , loss : 0.51149 , accuracy :  75.18% , roc_acu 71.80%\n",
            "Test -> loss : 0.65839 , accuracy :  58.01% , roc_auc  61.02% \n",
            "\n",
            "epoch : 85 , loss : 0.53815 , accuracy :  73.75% , roc_acu 71.43%\n",
            "Test -> loss : 0.65675 , accuracy :  58.11% , roc_auc  60.99% \n",
            "\n",
            "epoch : 86 , loss : 0.51318 , accuracy :  75.39% , roc_acu 71.40%\n",
            "Test -> loss : 0.65826 , accuracy :  58.21% , roc_auc  61.11% \n",
            "\n",
            "epoch : 87 , loss : 0.52253 , accuracy :  74.54% , roc_acu 71.59%\n",
            "Test -> loss : 0.65645 , accuracy :  58.32% , roc_auc  61.03% \n",
            "\n",
            "epoch : 88 , loss : 0.50591 , accuracy :  75.63% , roc_acu 72.43%\n",
            "Test -> loss : 0.65734 , accuracy :  58.21% , roc_auc  61.35% \n",
            "\n",
            "epoch : 89 , loss : 0.52925 , accuracy :  72.90% , roc_acu 73.35%\n",
            "Test -> loss : 0.65768 , accuracy :  58.21% , roc_auc  61.30% \n",
            "\n",
            "epoch : 90 , loss : 0.53274 , accuracy :  73.05% , roc_acu 71.38%\n",
            "Test -> loss : 0.65655 , accuracy :  58.11% , roc_auc  61.27% \n",
            "\n",
            "epoch : 91 , loss : 0.52886 , accuracy :  73.89% , roc_acu 71.11%\n",
            "Test -> loss : 0.65559 , accuracy :  58.11% , roc_auc  61.38% \n",
            "\n",
            "epoch : 92 , loss : 0.52177 , accuracy :  73.73% , roc_acu 72.13%\n",
            "Test -> loss : 0.65770 , accuracy :  58.01% , roc_auc  61.57% \n",
            "\n",
            "epoch : 93 , loss : 0.51212 , accuracy :  74.87% , roc_acu 74.71%\n",
            "Test -> loss : 0.65967 , accuracy :  57.91% , roc_auc  61.76% \n",
            "\n",
            "epoch : 94 , loss : 0.52979 , accuracy :  74.20% , roc_acu 71.35%\n",
            "Test -> loss : 0.65759 , accuracy :  58.01% , roc_auc  61.61% \n",
            "\n",
            "epoch : 95 , loss : 0.52642 , accuracy :  74.74% , roc_acu 71.03%\n",
            "Test -> loss : 0.65903 , accuracy :  58.21% , roc_auc  61.51% \n",
            "\n",
            "epoch : 96 , loss : 0.53313 , accuracy :  73.99% , roc_acu 71.00%\n",
            "Test -> loss : 0.65937 , accuracy :  58.21% , roc_auc  61.77% \n",
            "\n",
            "epoch : 97 , loss : 0.51134 , accuracy :  75.13% , roc_acu 74.33%\n",
            "Test -> loss : 0.66363 , accuracy :  58.01% , roc_auc  61.81% \n",
            "\n",
            "epoch : 98 , loss : 0.53437 , accuracy :  74.36% , roc_acu 72.03%\n",
            "Test -> loss : 0.66233 , accuracy :  57.80% , roc_auc  61.82% \n",
            "\n",
            "epoch : 99 , loss : 0.52448 , accuracy :  74.38% , roc_acu 72.94%\n",
            "Test -> loss : 0.66489 , accuracy :  58.01% , roc_auc  61.84% \n",
            "\n"
          ]
        },
        {
          "output_type": "display_data",
          "data": {
            "text/plain": [
              "<Figure size 1500x700 with 3 Axes>"
            ],
            "image/png": "[encoded data removed]"
          },
          "metadata": {}
        }
      ]
    },
    {
      "cell_type": "code",
      "source": [],
      "metadata": {
        "id": "H27JK0QFhTkx"
      },
      "execution_count": 747,
      "outputs": []
    }
  ]
}